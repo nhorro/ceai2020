{
  "nbformat": 4,
  "nbformat_minor": 0,
  "metadata": {
    "kernelspec": {
      "display_name": "Python 3",
      "language": "python",
      "name": "python3"
    },
    "language_info": {
      "codemirror_mode": {
        "name": "ipython",
        "version": 3
      },
      "file_extension": ".py",
      "mimetype": "text/x-python",
      "name": "python",
      "nbconvert_exporter": "python",
      "pygments_lexer": "ipython3",
      "version": "3.7.6"
    },
    "colab": {
      "name": "CV2 - 03 Modelo_convolucional_aplicacion_keras.ipynb",
      "provenance": [],
      "collapsed_sections": []
    }
  },
  "cells": [
    {
      "cell_type": "markdown",
      "metadata": {
        "id": "pBrVHRBf6k_u"
      },
      "source": [
        "# Redes neuronales convolucionales: Aplicación\n",
        "\n",
        "¿Qué vamos a hacer?\n",
        "\n",
        "- Implementar una red convolucional en Keras\n",
        "- Entrenar la red en un dataset con fotos números con señas\n",
        "- Usar la red para predecir en ejemplos nuevos"
      ]
    },
    {
      "cell_type": "code",
      "metadata": {
        "id": "R4BhH8L76wzS",
        "outputId": "b28adb73-e515-47d6-db97-ee5703736652",
        "colab": {
          "resources": {
            "http://localhost:8080/nbextensions/google.colab/files.js": {
              "data": "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",
              "ok": true,
              "headers": [
                [
                  "content-type",
                  "application/javascript"
                ]
              ],
              "status": 200,
              "status_text": ""
            }
          },
          "base_uri": "https://localhost:8080/",
          "height": 72
        }
      },
      "source": [
        "from google.colab import files\n",
        "\n",
        "uploaded = files.upload()\n",
        "#subir el archivo dataset.zip"
      ],
      "execution_count": 2,
      "outputs": [
        {
          "output_type": "display_data",
          "data": {
            "text/html": [
              "\n",
              "     <input type=\"file\" id=\"files-02800464-9c0d-4595-b760-3d9ab9e19701\" name=\"files[]\" multiple disabled\n",
              "        style=\"border:none\" />\n",
              "     <output id=\"result-02800464-9c0d-4595-b760-3d9ab9e19701\">\n",
              "      Upload widget is only available when the cell has been executed in the\n",
              "      current browser session. Please rerun this cell to enable.\n",
              "      </output>\n",
              "      <script src=\"/nbextensions/google.colab/files.js\"></script> "
            ],
            "text/plain": [
              "<IPython.core.display.HTML object>"
            ]
          },
          "metadata": {
            "tags": []
          }
        },
        {
          "output_type": "stream",
          "text": [
            "Saving dataset.zip to dataset.zip\n"
          ],
          "name": "stdout"
        }
      ]
    },
    {
      "cell_type": "code",
      "metadata": {
        "id": "OVCUuuBGcUxJ",
        "outputId": "f1f0b10f-6f9d-448d-b434-806bfeb7bfee",
        "colab": {
          "base_uri": "https://localhost:8080/"
        }
      },
      "source": [
        "!unzip dataset.zip"
      ],
      "execution_count": 3,
      "outputs": [
        {
          "output_type": "stream",
          "text": [
            "Archive:  dataset.zip\n",
            "  inflating: cnn_utils.py            \n",
            "   creating: datasets/\n",
            "  inflating: datasets/test_signs.h5  \n",
            "  inflating: datasets/train_signs.h5  \n"
          ],
          "name": "stdout"
        }
      ]
    },
    {
      "cell_type": "code",
      "metadata": {
        "id": "bemhtBtw6k_v"
      },
      "source": [
        "import math\n",
        "import numpy as np\n",
        "import h5py\n",
        "import matplotlib.pyplot as plt\n",
        "import scipy\n",
        "from PIL import Image\n",
        "from scipy import ndimage\n",
        "import tensorflow as tf\n",
        "from tensorflow.python.framework import ops\n",
        "from cnn_utils import *\n",
        "\n",
        "%matplotlib inline\n",
        "np.random.seed(1)"
      ],
      "execution_count": 4,
      "outputs": []
    },
    {
      "cell_type": "code",
      "metadata": {
        "id": "x3gRxLnk6k_z"
      },
      "source": [
        "# Cargar el dataset\n",
        "X_train_orig, Y_train_orig, X_test_orig, Y_test_orig, classes = load_dataset()"
      ],
      "execution_count": 5,
      "outputs": []
    },
    {
      "cell_type": "markdown",
      "metadata": {
        "id": "rhSMNeoE6k_1"
      },
      "source": [
        "SIGNS es un dataset con una colección de 6 signos hechos con manos representando los números del 0 al 5.\n",
        "\n",
        "<img src=\"https://drive.google.com/uc?export=view&id=1Tm9arSkvypYpXzANQo4C2DtMWzkjA4hO\" style=\"width:800px;height:300px;\">\n",
        "\n",
        "La próxima celda muestra un ejemplo de seña y su label."
      ]
    },
    {
      "cell_type": "code",
      "metadata": {
        "id": "d9WsARvM6k_2",
        "outputId": "d17e8106-3a25-448a-afea-8bde181a7a44",
        "colab": {
          "base_uri": "https://localhost:8080/",
          "height": 285
        }
      },
      "source": [
        "# Ejemplo del dataset\n",
        "index = 6\n",
        "plt.imshow(X_train_orig[index])\n",
        "print (\"y = \" + str(np.squeeze(Y_train_orig[:, index])))"
      ],
      "execution_count": 6,
      "outputs": [
        {
          "output_type": "stream",
          "text": [
            "y = 2\n"
          ],
          "name": "stdout"
        },
        {
          "output_type": "display_data",
          "data": {
            "image/png": "[encoded data removed]",
            "text/plain": [
              "<Figure size 432x288 with 1 Axes>"
            ]
          },
          "metadata": {
            "tags": [],
            "needs_background": "light"
          }
        }
      ]
    },
    {
      "cell_type": "code",
      "metadata": {
        "id": "bTC6DH146k_5",
        "outputId": "2ec3a75e-e12b-4039-e6f5-de8e45ccffb2",
        "colab": {
          "base_uri": "https://localhost:8080/"
        }
      },
      "source": [
        "# veamos un poco el dataset\n",
        "X_train = X_train_orig/255.\n",
        "X_test = X_test_orig/255.\n",
        "Y_train = convert_to_one_hot(Y_train_orig, 6).T\n",
        "Y_test = convert_to_one_hot(Y_test_orig, 6).T\n",
        "print (\"Número de ejemplos de training = \" + str(X_train.shape[0]))\n",
        "print (\"Número de ejemplos de test = \" + str(X_test.shape[0]))\n",
        "print (\"dimensiones de X_train: \" + str(X_train.shape))\n",
        "print (\"dimensiones de Y_train: \" + str(Y_train.shape))\n",
        "print (\"dimensiones de X_test: \" + str(X_test.shape))\n",
        "print (\"dimensiones de Y_test shape: \" + str(Y_test.shape))"
      ],
      "execution_count": 7,
      "outputs": [
        {
          "output_type": "stream",
          "text": [
            "Número de ejemplos de training = 1080\n",
            "Número de ejemplos de test = 120\n",
            "dimensiones de X_train: (1080, 64, 64, 3)\n",
            "dimensiones de Y_train: (1080, 6)\n",
            "dimensiones de X_test: (120, 64, 64, 3)\n",
            "dimensiones de Y_test shape: (120, 6)\n"
          ],
          "name": "stdout"
        }
      ]
    },
    {
      "cell_type": "markdown",
      "metadata": {
        "id": "LfZy9uaX6k_8"
      },
      "source": [
        "Estas son las capas de keras que vamos a utilizar:\n",
        "\n",
        "Capa Convolucional:\n",
        "\n",
        "`Conv2D(\n",
        "    filters, kernel_size, strides=(1, 1), padding='valid', data_format=None,\n",
        "    dilation_rate=(1, 1), groups=1, activation=None, use_bias=True,\n",
        "    kernel_initializer='glorot_uniform', bias_initializer='zeros',\n",
        "    kernel_regularizer=None, bias_regularizer=None, activity_regularizer=None,\n",
        "    kernel_constraint=None, bias_constraint=None, **kwargs\n",
        ")`\n",
        "\n",
        "\n",
        "Capa Max Pooling, la función tiene estos parámetros: \n",
        "\n",
        "`MaxPooling2D(\n",
        "    pool_size=(2, 2), strides=None, padding=\"valid\", data_format=None, **kwargs\n",
        ")`\n",
        "\n",
        "Capa Flatten:\n",
        "\n",
        "`Flatten(\n",
        "    data_format=None, **kwargs\n",
        ")`\n",
        "\n",
        "Capa Dense:\n",
        "\n",
        "`Dense(\n",
        "    units, activation=None, use_bias=True, kernel_initializer='glorot_uniform',\n",
        "    bias_initializer='zeros', kernel_regularizer=None, bias_regularizer=None,\n",
        "    activity_regularizer=None, kernel_constraint=None, bias_constraint=None,\n",
        "    **kwargs\n",
        ")`\n",
        "\n",
        "Fuente: tps://www.tensorflow.org/api_docs/python/tf/keras/layers\n",
        "\n",
        "Estructura de la red en detalle:\n",
        "\n",
        "- CONV2D: filtro de 4x4, 8 canales, stride of 1, padding 'SAME', activación RELU\n",
        "- MAXPOOL: window 8x8, stride 8, padding 'SAME'\n",
        "- CONV2D: filtro de 2x2, 16 canales, stride of 1, padding 'SAME', activación RELU\n",
        "- MAXPOOL: window 4x4, stride 4, padding 'SAME'\n",
        "- FLATTEN\n",
        "- Capa FC con 6 salidas\n"
      ]
    },
    {
      "cell_type": "code",
      "metadata": {
        "id": "kD8i_roF6k_9",
        "outputId": "3c40cad9-9e72-4c8d-cc0b-8cf143f0e211",
        "colab": {
          "base_uri": "https://localhost:8080/"
        }
      },
      "source": [
        "from tensorflow.keras.models import Sequential\n",
        "from tensorflow.keras.layers import Dense, MaxPooling2D, Conv2D, Flatten\n",
        "# usar Sequential\n",
        "model = Sequential()\n",
        "# agregar las capas\n",
        "\n",
        "### Comenzar el código acá ###\n",
        "model.add(Conv2D(filters = 8, kernel_size = (4, 4), strides=1, padding='same', activation='relu', input_shape=(64, 64, 3)))\n",
        "#model.add() agregar las demás capas\n",
        "#MAXPOOL: window 8x8, stride 8, padding 'SAME'\n",
        "model.add(MaxPooling2D(pool_size=8,strides=8,padding='same'))\n",
        "\n",
        "#CONV2D: filtro de 2x2, 16 canales, stride of 1, padding 'SAME', activación RELU\n",
        "#MAXPOOL: window 4x4, stride 4, padding 'SAME'\n",
        "model.add(Conv2D(16, (2,2),strides=1, padding='same', activation=\"relu\"))\n",
        "model.add(MaxPooling2D(pool_size=4,strides=4,padding='same'))\n",
        "\n",
        "#FLATTEN\n",
        "model.add(Flatten())\n",
        "model.add(Dense(6, activation='softmax'))\n",
        "\n",
        "opt = tf.keras.optimizers.Adam(learning_rate=0.01)\n",
        "\n",
        "model.compile(loss=\"categorical_crossentropy\",\n",
        "              optimizer=opt,\n",
        "              metrics=[\"accuracy\"])\n",
        "\n",
        "model_history = model.fit(X_train, Y_train, epochs=30,batch_size= 64,\n",
        "                    validation_data=(X_test, Y_test))"
      ],
      "execution_count": 9,
      "outputs": [
        {
          "output_type": "stream",
          "text": [
            "Epoch 1/30\n",
            "17/17 [==============================] - 2s 136ms/step - loss: 1.7938 - accuracy: 0.1611 - val_loss: 1.7822 - val_accuracy: 0.1750\n",
            "Epoch 2/30\n",
            "17/17 [==============================] - 2s 108ms/step - loss: 1.7459 - accuracy: 0.2481 - val_loss: 1.7378 - val_accuracy: 0.2833\n",
            "Epoch 3/30\n",
            "17/17 [==============================] - 2s 103ms/step - loss: 1.5773 - accuracy: 0.3278 - val_loss: 1.6084 - val_accuracy: 0.3333\n",
            "Epoch 4/30\n",
            "17/17 [==============================] - 2s 107ms/step - loss: 1.4387 - accuracy: 0.4231 - val_loss: 1.4078 - val_accuracy: 0.4500\n",
            "Epoch 5/30\n",
            "17/17 [==============================] - 2s 112ms/step - loss: 1.2728 - accuracy: 0.5231 - val_loss: 1.3374 - val_accuracy: 0.4750\n",
            "Epoch 6/30\n",
            "17/17 [==============================] - 2s 112ms/step - loss: 1.2026 - accuracy: 0.5102 - val_loss: 1.2034 - val_accuracy: 0.5083\n",
            "Epoch 7/30\n",
            "17/17 [==============================] - 2s 105ms/step - loss: 1.1014 - accuracy: 0.5852 - val_loss: 1.1274 - val_accuracy: 0.5167\n",
            "Epoch 8/30\n",
            "17/17 [==============================] - 2s 108ms/step - loss: 1.0021 - accuracy: 0.6269 - val_loss: 1.0326 - val_accuracy: 0.5667\n",
            "Epoch 9/30\n",
            "17/17 [==============================] - 2s 109ms/step - loss: 0.9175 - accuracy: 0.6454 - val_loss: 1.0473 - val_accuracy: 0.5500\n",
            "Epoch 10/30\n",
            "17/17 [==============================] - 2s 104ms/step - loss: 0.8605 - accuracy: 0.6843 - val_loss: 0.9472 - val_accuracy: 0.6417\n",
            "Epoch 11/30\n",
            "17/17 [==============================] - 2s 105ms/step - loss: 0.8542 - accuracy: 0.6676 - val_loss: 0.9636 - val_accuracy: 0.5917\n",
            "Epoch 12/30\n",
            "17/17 [==============================] - 2s 105ms/step - loss: 0.7744 - accuracy: 0.7194 - val_loss: 0.8423 - val_accuracy: 0.6667\n",
            "Epoch 13/30\n",
            "17/17 [==============================] - 2s 104ms/step - loss: 0.7356 - accuracy: 0.7343 - val_loss: 0.8434 - val_accuracy: 0.6583\n",
            "Epoch 14/30\n",
            "17/17 [==============================] - 2s 104ms/step - loss: 0.6858 - accuracy: 0.7565 - val_loss: 0.8860 - val_accuracy: 0.6667\n",
            "Epoch 15/30\n",
            "17/17 [==============================] - 2s 106ms/step - loss: 0.6682 - accuracy: 0.7556 - val_loss: 0.7881 - val_accuracy: 0.6917\n",
            "Epoch 16/30\n",
            "17/17 [==============================] - 2s 106ms/step - loss: 0.6599 - accuracy: 0.7593 - val_loss: 0.7459 - val_accuracy: 0.7167\n",
            "Epoch 17/30\n",
            "17/17 [==============================] - 2s 103ms/step - loss: 0.6185 - accuracy: 0.7843 - val_loss: 0.7132 - val_accuracy: 0.7583\n",
            "Epoch 18/30\n",
            "17/17 [==============================] - 2s 103ms/step - loss: 0.6211 - accuracy: 0.7796 - val_loss: 0.7339 - val_accuracy: 0.7250\n",
            "Epoch 19/30\n",
            "17/17 [==============================] - 2s 103ms/step - loss: 0.5745 - accuracy: 0.8046 - val_loss: 0.7387 - val_accuracy: 0.7500\n",
            "Epoch 20/30\n",
            "17/17 [==============================] - 2s 104ms/step - loss: 0.5462 - accuracy: 0.8093 - val_loss: 0.7069 - val_accuracy: 0.7250\n",
            "Epoch 21/30\n",
            "17/17 [==============================] - 2s 104ms/step - loss: 0.5219 - accuracy: 0.8167 - val_loss: 0.7585 - val_accuracy: 0.7000\n",
            "Epoch 22/30\n",
            "17/17 [==============================] - 2s 103ms/step - loss: 0.5645 - accuracy: 0.7991 - val_loss: 0.6478 - val_accuracy: 0.7667\n",
            "Epoch 23/30\n",
            "17/17 [==============================] - 2s 103ms/step - loss: 0.4749 - accuracy: 0.8417 - val_loss: 0.6548 - val_accuracy: 0.7833\n",
            "Epoch 24/30\n",
            "17/17 [==============================] - 2s 103ms/step - loss: 0.4902 - accuracy: 0.8370 - val_loss: 0.6477 - val_accuracy: 0.7500\n",
            "Epoch 25/30\n",
            "17/17 [==============================] - 2s 103ms/step - loss: 0.4602 - accuracy: 0.8417 - val_loss: 0.6732 - val_accuracy: 0.7583\n",
            "Epoch 26/30\n",
            "17/17 [==============================] - 2s 105ms/step - loss: 0.4712 - accuracy: 0.8306 - val_loss: 0.5687 - val_accuracy: 0.8000\n",
            "Epoch 27/30\n",
            "17/17 [==============================] - 2s 104ms/step - loss: 0.4163 - accuracy: 0.8519 - val_loss: 0.5806 - val_accuracy: 0.8167\n",
            "Epoch 28/30\n",
            "17/17 [==============================] - 2s 103ms/step - loss: 0.3904 - accuracy: 0.8602 - val_loss: 0.6403 - val_accuracy: 0.7667\n",
            "Epoch 29/30\n",
            "17/17 [==============================] - 2s 103ms/step - loss: 0.3829 - accuracy: 0.8759 - val_loss: 0.5781 - val_accuracy: 0.7833\n",
            "Epoch 30/30\n",
            "17/17 [==============================] - 2s 103ms/step - loss: 0.4102 - accuracy: 0.8509 - val_loss: 0.5887 - val_accuracy: 0.8000\n"
          ],
          "name": "stdout"
        }
      ]
    },
    {
      "cell_type": "markdown",
      "metadata": {
        "id": "AOFvg9GppBlJ"
      },
      "source": [
        "Cálculo manual de HPs."
      ]
    },
    {
      "cell_type": "code",
      "metadata": {
        "id": "tnqpveR_80oI",
        "outputId": "8c0a5407-f341-47f8-b4db-c9fbdf99dfbf",
        "colab": {
          "base_uri": "https://localhost:8080/"
        }
      },
      "source": [
        "# Entrada: 64x64x3\n",
        "\n",
        "# Conv1\n",
        "kernel_w = 4\n",
        "n_input_channels = 3\n",
        "n_filters = 8\n",
        "print(\"HPs de Conv1: \", (kernel_w*kernel_w*n_input_channels+1)*n_filters )\n",
        "\n",
        "# MaxPool1 no tiene HPs, pero interesa calcular tamaño de salida:\n",
        "input_w = 64\n",
        "pool_sz = 8\n",
        "padding = 0\n",
        "stride = 8\n",
        "print(\"Output shape de MaxPool1: \", ((input_w-pool_sz+2*padding)/stride)+1 )\n",
        "\n",
        "# Conv2\n",
        "kernel_w = 2\n",
        "n_input_channels = 8\n",
        "n_filters = 16\n",
        "print(\"HPs de Conv2: \", (kernel_w*kernel_w*n_input_channels+1)*n_filters )\n",
        "\n",
        "# MaxPool1 no tiene HPs, pero interesa calcular tamaño de salida:\n",
        "input_w = 8\n",
        "pool_sz = 4\n",
        "padding = 0\n",
        "stride = 4\n",
        "print(\"Output shape de MaxPool2: \", ((input_w-pool_sz+2*padding)/stride)+1 )\n",
        "\n",
        "# Salida n_inputs * n_outputs\n",
        "input_w = 2\n",
        "n_filters = 16\n",
        "n_outputs = 6\n",
        "print(\"HPs de FC: \", input_w**2*n_filters * n_outputs + n_outputs)\n",
        "\n",
        "print(\"Total HPs:\",392+528+390)"
      ],
      "execution_count": 79,
      "outputs": [
        {
          "output_type": "stream",
          "text": [
            "HPs de Conv1:  392\n",
            "Output shape de MaxPool1:  8.0\n",
            "HPs de Conv2:  528\n",
            "Output shape de MaxPool2:  2.0\n",
            "HPs de FC:  390\n",
            "Total HPs: 1310\n"
          ],
          "name": "stdout"
        }
      ]
    },
    {
      "cell_type": "markdown",
      "metadata": {
        "id": "1LWK5KLbo7TT"
      },
      "source": [
        "Validación contra model.summary()"
      ]
    },
    {
      "cell_type": "code",
      "metadata": {
        "id": "zZdSWRiso5xx",
        "outputId": "342c5f89-a15e-45ef-dae0-e59f47de2102",
        "colab": {
          "base_uri": "https://localhost:8080/"
        }
      },
      "source": [
        "model.summary()"
      ],
      "execution_count": 80,
      "outputs": [
        {
          "output_type": "stream",
          "text": [
            "Model: \"sequential\"\n",
            "_________________________________________________________________\n",
            "Layer (type)                 Output Shape              Param #   \n",
            "=================================================================\n",
            "conv2d (Conv2D)              (None, 64, 64, 8)         392       \n",
            "_________________________________________________________________\n",
            "max_pooling2d (MaxPooling2D) (None, 8, 8, 8)           0         \n",
            "_________________________________________________________________\n",
            "conv2d_1 (Conv2D)            (None, 8, 8, 16)          528       \n",
            "_________________________________________________________________\n",
            "max_pooling2d_1 (MaxPooling2 (None, 2, 2, 16)          0         \n",
            "_________________________________________________________________\n",
            "flatten (Flatten)            (None, 64)                0         \n",
            "_________________________________________________________________\n",
            "dense (Dense)                (None, 6)                 390       \n",
            "=================================================================\n",
            "Total params: 1,310\n",
            "Trainable params: 1,310\n",
            "Non-trainable params: 0\n",
            "_________________________________________________________________\n"
          ],
          "name": "stdout"
        }
      ]
    }
  ]
}