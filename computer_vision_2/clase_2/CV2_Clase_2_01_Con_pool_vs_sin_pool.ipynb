{
  "nbformat": 4,
  "nbformat_minor": 0,
  "metadata": {
    "kernelspec": {
      "display_name": "Python 3",
      "language": "python",
      "name": "python3"
    },
    "language_info": {
      "codemirror_mode": {
        "name": "ipython",
        "version": 3
      },
      "file_extension": ".py",
      "mimetype": "text/x-python",
      "name": "python",
      "nbconvert_exporter": "python",
      "pygments_lexer": "ipython3",
      "version": "3.7.6"
    },
    "colab": {
      "name": "CV2-Clase 2-01_Con_pool_vs_sin_pool.ipynb",
      "provenance": [],
      "collapsed_sections": []
    },
    "accelerator": "GPU"
  },
  "cells": [
    {
      "cell_type": "markdown",
      "metadata": {
        "id": "NB00AbWpL2DG"
      },
      "source": [
        "## Experimento para ver el efecto de una capa POOL "
      ]
    },
    {
      "cell_type": "code",
      "metadata": {
        "id": "lEjngmJBS67Z"
      },
      "source": [
        "N_EPOCHS = 20"
      ],
      "execution_count": 19,
      "outputs": []
    },
    {
      "cell_type": "code",
      "metadata": {
        "id": "d9oGbTplL2DI"
      },
      "source": [
        "import numpy as np\n",
        "import pandas as pd\n",
        "%matplotlib inline\n",
        "import matplotlib as mpl\n",
        "import matplotlib.pyplot as plt"
      ],
      "execution_count": 20,
      "outputs": []
    },
    {
      "cell_type": "code",
      "metadata": {
        "id": "x16R-d1AL2DO"
      },
      "source": [
        "import tensorflow as tf\n",
        "from tensorflow import keras"
      ],
      "execution_count": 21,
      "outputs": []
    },
    {
      "cell_type": "markdown",
      "metadata": {
        "id": "tzWxTTiUL2DU"
      },
      "source": [
        "## Dataset: Fashion Mnist\n",
        "\n",
        "Link  https://keras.io/datasets/#fashion-mnist-database-of-fashion-articles\n",
        "\n",
        "Dataset que consiste de 60,000 imágenes de entrenamiento en blanco y negro catalogadas en 10 categorías y un test set de 10,000 imágenes. Los labels/rótulos son:\n",
        "\n",
        "| Label |\tDescription |\n",
        "--- | --- |\n",
        "| 0\t| T-shirt/top\n",
        "| 1\t| Trouser\n",
        "| 2\t| Pullover \n",
        "| 3\t| Dress\n",
        "| 4\t| Coat\n",
        "| 5\t| Sandal\n",
        "| 6\t| Shirt\n",
        "| 7\t| Sneaker\n",
        "| 8\t| Bag\n",
        "| 9\t| Ankle boot\n",
        "\n",
        "![image.png](attachment:image.png)\n",
        "\n",
        "### Para importar\n",
        "from keras.datasets import fashion_mnist\n",
        "\n",
        "> (x_train, y_train), (x_test, y_test) = fashion_mnist.load_data()\n",
        "\n",
        "Retorna:\n",
        "2 tuplas:\n",
        "1. x_train, x_test: array de uint8 de imágenes blanco y negro de dimensiones (num_samples, 28, 28)\n",
        "2. y_train, y_test: array de uint8 d rótulos (enteros en el rango range 0-9) con dimensiones (num_samples,)."
      ]
    },
    {
      "cell_type": "code",
      "metadata": {
        "id": "_0Kk9vxBL2DV"
      },
      "source": [
        "fashion_mnist = keras.datasets.fashion_mnist\n",
        "(X_train_full, y_train_full), (X_test, y_test) = fashion_mnist.load_data()"
      ],
      "execution_count": 22,
      "outputs": []
    },
    {
      "cell_type": "code",
      "metadata": {
        "id": "_DdOML7dL2DZ"
      },
      "source": [
        "class_names = [\"T-shirt/top\", \"Trouser\", \"Pullover\", \"Dress\", \"Coat\",\n",
        "               \"Sandal\", \"Shirt\", \"Sneaker\", \"Bag\", \"Ankle boot\"]"
      ],
      "execution_count": 23,
      "outputs": []
    },
    {
      "cell_type": "markdown",
      "metadata": {
        "id": "V2wJPgV5L2De"
      },
      "source": [
        "### Redimensionamos los datos"
      ]
    },
    {
      "cell_type": "code",
      "metadata": {
        "id": "nSl9JrtqL2De"
      },
      "source": [
        "X_train_full = X_train_full.reshape((60000, 28, 28, 1))\n",
        "X_test = X_test.reshape((10000, 28, 28, 1))"
      ],
      "execution_count": 24,
      "outputs": []
    },
    {
      "cell_type": "markdown",
      "metadata": {
        "id": "zdHIz18jL2Dl"
      },
      "source": [
        "### Normalización"
      ]
    },
    {
      "cell_type": "code",
      "metadata": {
        "id": "tXTAmtRDL2Dm"
      },
      "source": [
        "X_train_n = X_train_full / 255.\n",
        "X_test_n = X_test / 255."
      ],
      "execution_count": 25,
      "outputs": []
    },
    {
      "cell_type": "markdown",
      "metadata": {
        "id": "br0JaL4CL2Dr"
      },
      "source": [
        "### Dividimos los datos en datasets de entrenamiento/validación/test"
      ]
    },
    {
      "cell_type": "code",
      "metadata": {
        "id": "9v9cqaXNL2Dr"
      },
      "source": [
        "X_valid, X_train = X_train_n[:5000], X_train_n[5000:]\n",
        "y_valid, y_train = y_train_full[:5000], y_train_full[5000:]\n",
        "X_test = X_test_n"
      ],
      "execution_count": 26,
      "outputs": []
    },
    {
      "cell_type": "markdown",
      "metadata": {
        "id": "06kL_dScL2Dv"
      },
      "source": [
        "### Arquitectura con Pooling vs sin Pooling\n",
        "\n",
        "![image.png](attachment:image.png)"
      ]
    },
    {
      "cell_type": "markdown",
      "metadata": {
        "id": "7VR9wzwmL2Dw"
      },
      "source": [
        "### Pooling vs No Pooling"
      ]
    },
    {
      "cell_type": "code",
      "metadata": {
        "id": "HTjJJY5uL2Dw"
      },
      "source": [
        "model_a = keras.models.Sequential()\n",
        "model_a.add(keras.layers.Conv2D(filters = 32, kernel_size = (3, 3), strides=1, padding='valid', activation='relu', input_shape=(28, 28, 1)))\n",
        "model_a.add(keras.layers.MaxPooling2D((2, 2)))\n",
        "\n",
        "# Begin agregados\n",
        "model_a.add(keras.layers.Conv2D(filters = 64, kernel_size = (3, 3), strides=1, padding='valid', activation='relu'))\n",
        "model_a.add(keras.layers.MaxPooling2D((2, 2)))\n",
        "\n",
        "model_a.add(keras.layers.Conv2D(filters = 128, kernel_size = (3, 3), strides=1, padding='valid', activation='relu'))\n",
        "model_a.add(keras.layers.MaxPooling2D((2, 2)))\n",
        "# End agregados\n",
        "\n",
        "model_a.add(keras.layers.Flatten())\n",
        "model_a.add(keras.layers.Dense(300, activation=\"relu\"))\n",
        "model_a.add(keras.layers.Dense(100, activation=\"relu\"))\n",
        "model_a.add(keras.layers.Dense(10, activation=\"softmax\"))\n",
        "\n",
        "# el segundo modelo no tiene Max Pool, notar que strides = 2 en la capa convolucional para que los dos modelos tengan\n",
        "# la misma cantidad de parámetros\n",
        "model_b = keras.models.Sequential()\n",
        "model_b.add(keras.layers.Conv2D(filters = 32, kernel_size = (3, 3), strides=2, padding='valid', activation='relu', input_shape=(28, 28, 1)))\n",
        "\n",
        "# Begin agregados (mismas capas Conv que en el modelo de arriba pero sin pool)\n",
        "model_b.add(keras.layers.Conv2D(filters = 64, kernel_size = (3, 3), strides=1, padding='valid', activation='relu'))\n",
        "model_b.add(keras.layers.Conv2D(filters = 128, kernel_size = (3, 3), strides=1, padding='valid', activation='relu'))\n",
        "# End agregados\n",
        "\n",
        "model_b.add(keras.layers.Flatten())\n",
        "model_b.add(keras.layers.Dense(300, activation=\"relu\"))\n",
        "model_b.add(keras.layers.Dense(100, activation=\"relu\"))\n",
        "model_b.add(keras.layers.Dense(10, activation=\"softmax\"))\n"
      ],
      "execution_count": 27,
      "outputs": []
    },
    {
      "cell_type": "code",
      "metadata": {
        "id": "lfbuXMfJL2D1",
        "outputId": "a72cf933-d411-44ef-a4b5-bdf88c880997",
        "colab": {
          "base_uri": "https://localhost:8080/"
        }
      },
      "source": [
        "model_a.summary()"
      ],
      "execution_count": 28,
      "outputs": [
        {
          "output_type": "stream",
          "text": [
            "Model: \"sequential_2\"\n",
            "_________________________________________________________________\n",
            "Layer (type)                 Output Shape              Param #   \n",
            "=================================================================\n",
            "conv2d_6 (Conv2D)            (None, 26, 26, 32)        320       \n",
            "_________________________________________________________________\n",
            "max_pooling2d_3 (MaxPooling2 (None, 13, 13, 32)        0         \n",
            "_________________________________________________________________\n",
            "conv2d_7 (Conv2D)            (None, 11, 11, 64)        18496     \n",
            "_________________________________________________________________\n",
            "max_pooling2d_4 (MaxPooling2 (None, 5, 5, 64)          0         \n",
            "_________________________________________________________________\n",
            "conv2d_8 (Conv2D)            (None, 3, 3, 128)         73856     \n",
            "_________________________________________________________________\n",
            "max_pooling2d_5 (MaxPooling2 (None, 1, 1, 128)         0         \n",
            "_________________________________________________________________\n",
            "flatten_2 (Flatten)          (None, 128)               0         \n",
            "_________________________________________________________________\n",
            "dense_6 (Dense)              (None, 300)               38700     \n",
            "_________________________________________________________________\n",
            "dense_7 (Dense)              (None, 100)               30100     \n",
            "_________________________________________________________________\n",
            "dense_8 (Dense)              (None, 10)                1010      \n",
            "=================================================================\n",
            "Total params: 162,482\n",
            "Trainable params: 162,482\n",
            "Non-trainable params: 0\n",
            "_________________________________________________________________\n"
          ],
          "name": "stdout"
        }
      ]
    },
    {
      "cell_type": "code",
      "metadata": {
        "id": "wQbtB4OHL2D5",
        "outputId": "d33f9e4a-49f4-4209-e9cb-aeef849fa200",
        "colab": {
          "base_uri": "https://localhost:8080/"
        }
      },
      "source": [
        "model_b.summary()"
      ],
      "execution_count": 29,
      "outputs": [
        {
          "output_type": "stream",
          "text": [
            "Model: \"sequential_3\"\n",
            "_________________________________________________________________\n",
            "Layer (type)                 Output Shape              Param #   \n",
            "=================================================================\n",
            "conv2d_9 (Conv2D)            (None, 13, 13, 32)        320       \n",
            "_________________________________________________________________\n",
            "conv2d_10 (Conv2D)           (None, 11, 11, 64)        18496     \n",
            "_________________________________________________________________\n",
            "conv2d_11 (Conv2D)           (None, 9, 9, 128)         73856     \n",
            "_________________________________________________________________\n",
            "flatten_3 (Flatten)          (None, 10368)             0         \n",
            "_________________________________________________________________\n",
            "dense_9 (Dense)              (None, 300)               3110700   \n",
            "_________________________________________________________________\n",
            "dense_10 (Dense)             (None, 100)               30100     \n",
            "_________________________________________________________________\n",
            "dense_11 (Dense)             (None, 10)                1010      \n",
            "=================================================================\n",
            "Total params: 3,234,482\n",
            "Trainable params: 3,234,482\n",
            "Non-trainable params: 0\n",
            "_________________________________________________________________\n"
          ],
          "name": "stdout"
        }
      ]
    },
    {
      "cell_type": "code",
      "metadata": {
        "id": "96vgl_24L2D9"
      },
      "source": [
        "model_a.compile(loss=\"sparse_categorical_crossentropy\",\n",
        "              optimizer=\"sgd\",\n",
        "              metrics=[\"accuracy\"])\n",
        "\n",
        "model_b.compile(loss=\"sparse_categorical_crossentropy\",\n",
        "              optimizer=\"sgd\",\n",
        "              metrics=[\"accuracy\"])"
      ],
      "execution_count": 30,
      "outputs": []
    },
    {
      "cell_type": "code",
      "metadata": {
        "id": "ChiQc1-wL2EB",
        "outputId": "7059389e-665f-4f77-fbb0-32095c16067f",
        "colab": {
          "base_uri": "https://localhost:8080/"
        }
      },
      "source": [
        "model_history_a = model_a.fit(X_train, y_train, epochs=N_EPOCHS,batch_size= 64,\n",
        "                    validation_data=(X_valid, y_valid))"
      ],
      "execution_count": 31,
      "outputs": [
        {
          "output_type": "stream",
          "text": [
            "Epoch 1/20\n",
            "860/860 [==============================] - 3s 3ms/step - loss: 1.6061 - accuracy: 0.4582 - val_loss: 0.9644 - val_accuracy: 0.6478\n",
            "Epoch 2/20\n",
            "860/860 [==============================] - 3s 3ms/step - loss: 0.8314 - accuracy: 0.6908 - val_loss: 0.9667 - val_accuracy: 0.6372\n",
            "Epoch 3/20\n",
            "860/860 [==============================] - 3s 3ms/step - loss: 0.7105 - accuracy: 0.7357 - val_loss: 0.8572 - val_accuracy: 0.6992\n",
            "Epoch 4/20\n",
            "860/860 [==============================] - 3s 3ms/step - loss: 0.6419 - accuracy: 0.7598 - val_loss: 0.8854 - val_accuracy: 0.6570\n",
            "Epoch 5/20\n",
            "860/860 [==============================] - 3s 3ms/step - loss: 0.5968 - accuracy: 0.7793 - val_loss: 0.6034 - val_accuracy: 0.7790\n",
            "Epoch 6/20\n",
            "860/860 [==============================] - 3s 3ms/step - loss: 0.5601 - accuracy: 0.7915 - val_loss: 0.5295 - val_accuracy: 0.8144\n",
            "Epoch 7/20\n",
            "860/860 [==============================] - 3s 3ms/step - loss: 0.5329 - accuracy: 0.8030 - val_loss: 0.7217 - val_accuracy: 0.7374\n",
            "Epoch 8/20\n",
            "860/860 [==============================] - 3s 3ms/step - loss: 0.5091 - accuracy: 0.8135 - val_loss: 0.4824 - val_accuracy: 0.8262\n",
            "Epoch 9/20\n",
            "860/860 [==============================] - 3s 3ms/step - loss: 0.4890 - accuracy: 0.8225 - val_loss: 0.4862 - val_accuracy: 0.8218\n",
            "Epoch 10/20\n",
            "860/860 [==============================] - 3s 3ms/step - loss: 0.4716 - accuracy: 0.8287 - val_loss: 0.4531 - val_accuracy: 0.8354\n",
            "Epoch 11/20\n",
            "860/860 [==============================] - 3s 3ms/step - loss: 0.4553 - accuracy: 0.8335 - val_loss: 0.4787 - val_accuracy: 0.8252\n",
            "Epoch 12/20\n",
            "860/860 [==============================] - 3s 3ms/step - loss: 0.4403 - accuracy: 0.8399 - val_loss: 0.4243 - val_accuracy: 0.8398\n",
            "Epoch 13/20\n",
            "860/860 [==============================] - 3s 3ms/step - loss: 0.4297 - accuracy: 0.8443 - val_loss: 0.4298 - val_accuracy: 0.8416\n",
            "Epoch 14/20\n",
            "860/860 [==============================] - 3s 3ms/step - loss: 0.4164 - accuracy: 0.8476 - val_loss: 0.4990 - val_accuracy: 0.8116\n",
            "Epoch 15/20\n",
            "860/860 [==============================] - 3s 3ms/step - loss: 0.4070 - accuracy: 0.8504 - val_loss: 0.4319 - val_accuracy: 0.8390\n",
            "Epoch 16/20\n",
            "860/860 [==============================] - 3s 3ms/step - loss: 0.3976 - accuracy: 0.8553 - val_loss: 0.4062 - val_accuracy: 0.8516\n",
            "Epoch 17/20\n",
            "860/860 [==============================] - 3s 3ms/step - loss: 0.3874 - accuracy: 0.8584 - val_loss: 0.5473 - val_accuracy: 0.7936\n",
            "Epoch 18/20\n",
            "860/860 [==============================] - 3s 3ms/step - loss: 0.3789 - accuracy: 0.8605 - val_loss: 0.4489 - val_accuracy: 0.8330\n",
            "Epoch 19/20\n",
            "860/860 [==============================] - 3s 3ms/step - loss: 0.3697 - accuracy: 0.8651 - val_loss: 0.3871 - val_accuracy: 0.8544\n",
            "Epoch 20/20\n",
            "860/860 [==============================] - 3s 3ms/step - loss: 0.3637 - accuracy: 0.8659 - val_loss: 0.4393 - val_accuracy: 0.8376\n"
          ],
          "name": "stdout"
        }
      ]
    },
    {
      "cell_type": "code",
      "metadata": {
        "id": "kctISWqBL2EG",
        "outputId": "020f0175-c23f-460b-cc38-ea89a90f0cc8",
        "colab": {
          "base_uri": "https://localhost:8080/",
          "height": 320
        }
      },
      "source": [
        "import pandas as pd\n",
        "\n",
        "pd.DataFrame(model_history_a.history).plot(figsize=(8, 5))\n",
        "plt.grid(True)\n",
        "plt.gca()\n",
        "plt.show()"
      ],
      "execution_count": 32,
      "outputs": [
        {
          "output_type": "display_data",
          "data": {
            "image/png": "[encoded data removed]",
            "text/plain": [
              "<Figure size 576x360 with 1 Axes>"
            ]
          },
          "metadata": {
            "tags": [],
            "needs_background": "light"
          }
        }
      ]
    },
    {
      "cell_type": "code",
      "metadata": {
        "id": "GARYn8mrL2EL",
        "outputId": "086eb31d-849f-462c-dfe1-7e7c0b9092d1",
        "colab": {
          "base_uri": "https://localhost:8080/"
        }
      },
      "source": [
        "ev = model_a.evaluate(X_test_n, y_test)\n",
        "print(\"Model A Loss: \", ev[0], \"Model A Accuracy\", ev[1])"
      ],
      "execution_count": 33,
      "outputs": [
        {
          "output_type": "stream",
          "text": [
            "313/313 [==============================] - 1s 2ms/step - loss: 0.4807 - accuracy: 0.8326\n",
            "Model A Loss:  0.48065638542175293 Model A Accuracy 0.8325999975204468\n"
          ],
          "name": "stdout"
        }
      ]
    },
    {
      "cell_type": "code",
      "metadata": {
        "id": "srDRNUY1L2Eg",
        "outputId": "15e9efea-ea46-4a0b-dbd1-ba6fd4a0fae1",
        "colab": {
          "base_uri": "https://localhost:8080/"
        }
      },
      "source": [
        "model_history_b = model_b.fit(X_train, y_train, epochs=N_EPOCHS,batch_size= 64,\n",
        "                    validation_data=(X_valid, y_valid))"
      ],
      "execution_count": 34,
      "outputs": [
        {
          "output_type": "stream",
          "text": [
            "Epoch 1/20\n",
            "860/860 [==============================] - 3s 4ms/step - loss: 0.9557 - accuracy: 0.6515 - val_loss: 0.7251 - val_accuracy: 0.7230\n",
            "Epoch 2/20\n",
            "860/860 [==============================] - 3s 4ms/step - loss: 0.5822 - accuracy: 0.7819 - val_loss: 0.6514 - val_accuracy: 0.7546\n",
            "Epoch 3/20\n",
            "860/860 [==============================] - 3s 4ms/step - loss: 0.4940 - accuracy: 0.8167 - val_loss: 0.4590 - val_accuracy: 0.8356\n",
            "Epoch 4/20\n",
            "860/860 [==============================] - 3s 4ms/step - loss: 0.4424 - accuracy: 0.8379 - val_loss: 0.4298 - val_accuracy: 0.8382\n",
            "Epoch 5/20\n",
            "860/860 [==============================] - 3s 4ms/step - loss: 0.4095 - accuracy: 0.8507 - val_loss: 0.3847 - val_accuracy: 0.8638\n",
            "Epoch 6/20\n",
            "860/860 [==============================] - 3s 4ms/step - loss: 0.3841 - accuracy: 0.8606 - val_loss: 0.4000 - val_accuracy: 0.8546\n",
            "Epoch 7/20\n",
            "860/860 [==============================] - 3s 4ms/step - loss: 0.3621 - accuracy: 0.8671 - val_loss: 0.3882 - val_accuracy: 0.8508\n",
            "Epoch 8/20\n",
            "860/860 [==============================] - 3s 4ms/step - loss: 0.3458 - accuracy: 0.8728 - val_loss: 0.3624 - val_accuracy: 0.8622\n",
            "Epoch 9/20\n",
            "860/860 [==============================] - 3s 4ms/step - loss: 0.3303 - accuracy: 0.8788 - val_loss: 0.3515 - val_accuracy: 0.8700\n",
            "Epoch 10/20\n",
            "860/860 [==============================] - 3s 4ms/step - loss: 0.3183 - accuracy: 0.8839 - val_loss: 0.3319 - val_accuracy: 0.8746\n",
            "Epoch 11/20\n",
            "860/860 [==============================] - 3s 4ms/step - loss: 0.3050 - accuracy: 0.8875 - val_loss: 0.3747 - val_accuracy: 0.8604\n",
            "Epoch 12/20\n",
            "860/860 [==============================] - 3s 4ms/step - loss: 0.2955 - accuracy: 0.8916 - val_loss: 0.3532 - val_accuracy: 0.8708\n",
            "Epoch 13/20\n",
            "860/860 [==============================] - 3s 4ms/step - loss: 0.2851 - accuracy: 0.8942 - val_loss: 0.3454 - val_accuracy: 0.8760\n",
            "Epoch 14/20\n",
            "860/860 [==============================] - 3s 4ms/step - loss: 0.2746 - accuracy: 0.8986 - val_loss: 0.3136 - val_accuracy: 0.8872\n",
            "Epoch 15/20\n",
            "860/860 [==============================] - 3s 4ms/step - loss: 0.2679 - accuracy: 0.9005 - val_loss: 0.3105 - val_accuracy: 0.8842\n",
            "Epoch 16/20\n",
            "860/860 [==============================] - 3s 4ms/step - loss: 0.2597 - accuracy: 0.9027 - val_loss: 0.3014 - val_accuracy: 0.8914\n",
            "Epoch 17/20\n",
            "860/860 [==============================] - 3s 4ms/step - loss: 0.2504 - accuracy: 0.9072 - val_loss: 0.2999 - val_accuracy: 0.8908\n",
            "Epoch 18/20\n",
            "860/860 [==============================] - 3s 4ms/step - loss: 0.2446 - accuracy: 0.9085 - val_loss: 0.2876 - val_accuracy: 0.8902\n",
            "Epoch 19/20\n",
            "860/860 [==============================] - 3s 4ms/step - loss: 0.2361 - accuracy: 0.9117 - val_loss: 0.2895 - val_accuracy: 0.8944\n",
            "Epoch 20/20\n",
            "860/860 [==============================] - 3s 4ms/step - loss: 0.2287 - accuracy: 0.9150 - val_loss: 0.2978 - val_accuracy: 0.8882\n"
          ],
          "name": "stdout"
        }
      ]
    },
    {
      "cell_type": "code",
      "metadata": {
        "id": "AfIAXeV8SGsp",
        "outputId": "28354c2e-75f8-41e6-8bd3-074f4c6986ec",
        "colab": {
          "base_uri": "https://localhost:8080/",
          "height": 320
        }
      },
      "source": [
        "import pandas as pd\n",
        "\n",
        "pd.DataFrame(model_history_b.history).plot(figsize=(8, 5))\n",
        "plt.grid(True)\n",
        "plt.gca()\n",
        "plt.show()"
      ],
      "execution_count": 35,
      "outputs": [
        {
          "output_type": "display_data",
          "data": {
            "image/png": "[encoded data removed]",
            "text/plain": [
              "<Figure size 576x360 with 1 Axes>"
            ]
          },
          "metadata": {
            "tags": [],
            "needs_background": "light"
          }
        }
      ]
    },
    {
      "cell_type": "code",
      "metadata": {
        "id": "SZwg2NexL2El",
        "outputId": "e43e07a5-615d-4466-ea6f-1d33ff0a0658",
        "colab": {
          "base_uri": "https://localhost:8080/"
        }
      },
      "source": [
        "ev = model_b.evaluate(X_test_n, y_test)\n",
        "print(\"Model B Loss: \", ev[0], \"Model B Accuracy\", ev[1])"
      ],
      "execution_count": 36,
      "outputs": [
        {
          "output_type": "stream",
          "text": [
            "313/313 [==============================] - 1s 2ms/step - loss: 0.3274 - accuracy: 0.8826\n",
            "Model B Loss:  0.32735908031463623 Model B Accuracy 0.8826000094413757\n"
          ],
          "name": "stdout"
        }
      ]
    },
    {
      "cell_type": "markdown",
      "metadata": {
        "id": "MscWhvjxShkp"
      },
      "source": [
        "# Conclusiones\n",
        "\n",
        "- Dado que hay más parámetros que entrenar, parecía conveniente incrementar el número de épocas.\n",
        "- El accuracy del modelo A ( con capas pooling) es ligeramente inferior al accuracy del modelo B (sin capas de pooling):\n",
        "  - Model A Accuracy 0.8325999975204468\n",
        "  - Model B Accuracy 0.8826000094413757  \n"
      ]
    }
  ]
}