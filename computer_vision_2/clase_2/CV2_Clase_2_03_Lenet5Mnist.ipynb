{
  "nbformat": 4,
  "nbformat_minor": 0,
  "metadata": {
    "colab": {
      "name": "CV2 - Clase 2 - 03_Lenet5Mnist.ipynb",
      "provenance": [],
      "collapsed_sections": []
    },
    "kernelspec": {
      "name": "python3",
      "display_name": "Python 3"
    },
    "accelerator": "GPU"
  },
  "cells": [
    {
      "cell_type": "markdown",
      "metadata": {
        "id": "811dMjbNOTI-"
      },
      "source": [
        "# LeNet-5 en Keras con dataset MNIST"
      ]
    },
    {
      "cell_type": "code",
      "metadata": {
        "id": "qLUz9VcgOOFM"
      },
      "source": [
        "import numpy as np\n",
        "import pandas as pd\n",
        "%matplotlib inline\n",
        "import matplotlib as mpl\n",
        "import matplotlib.pyplot as plt\n",
        "import os\n",
        "import pandas as pd\n",
        "import tensorflow as tf\n",
        "from tensorflow import keras"
      ],
      "execution_count": 16,
      "outputs": []
    },
    {
      "cell_type": "code",
      "metadata": {
        "id": "g-jIvaSYOONs",
        "outputId": "50a99c8f-05dc-471e-9a7f-7a9208125ae3",
        "colab": {
          "base_uri": "https://localhost:8080/"
        }
      },
      "source": [
        " (x_train, y_train), (x_test, y_test) = tf.keras.datasets.mnist.load_data(path=\"mnist.npz\")"
      ],
      "execution_count": 2,
      "outputs": [
        {
          "output_type": "stream",
          "text": [
            "Downloading data from https://storage.googleapis.com/tensorflow/tf-keras-datasets/mnist.npz\n",
            "11493376/11490434 [==============================] - 0s 0us/step\n"
          ],
          "name": "stdout"
        }
      ]
    },
    {
      "cell_type": "code",
      "metadata": {
        "id": "9cOn9_eLPbsA",
        "outputId": "def46302-4f28-4dbf-84fa-619b818ef820",
        "colab": {
          "base_uri": "https://localhost:8080/"
        }
      },
      "source": [
        "from tensorflow.keras import layers\n",
        "from tensorflow.keras import models\n",
        "\n",
        "model = models.Sequential()\n",
        "\n",
        "model.add(keras.layers.Conv2D(filters = 20,kernel_size = (5, 5),padding = \"same\",input_shape = (28, 28, 1),activation = \"relu\"))\n",
        "model.add(keras.layers.MaxPooling2D( pool_size = (2, 2), strides = 2))\n",
        "\n",
        "model.add(keras.layers.Conv2D(filters = 50,kernel_size = (5, 5),padding = \"same\",activation = \"relu\" ))\n",
        "model.add(keras.layers.MaxPooling2D(pool_size = (2, 2),strides = 2))\n",
        "\n",
        "model.add(keras.layers.Flatten())\n",
        "\n",
        "model.add(keras.layers.Dense(500,activation = \"relu\"))\n",
        "model.add(keras.layers.Dense(10,activation=\"softmax\"))\n",
        "\n",
        "model.compile(loss = \"categorical_crossentropy\", optimizer = keras.optimizers.SGD(learning_rate=1e-6), metrics = [\"accuracy\"])\n",
        "\n",
        "model.summary()"
      ],
      "execution_count": 15,
      "outputs": [
        {
          "output_type": "stream",
          "text": [
            "Model: \"sequential_1\"\n",
            "_________________________________________________________________\n",
            "Layer (type)                 Output Shape              Param #   \n",
            "=================================================================\n",
            "conv2d_2 (Conv2D)            (None, 28, 28, 20)        520       \n",
            "_________________________________________________________________\n",
            "max_pooling2d_2 (MaxPooling2 (None, 14, 14, 20)        0         \n",
            "_________________________________________________________________\n",
            "conv2d_3 (Conv2D)            (None, 14, 14, 50)        25050     \n",
            "_________________________________________________________________\n",
            "max_pooling2d_3 (MaxPooling2 (None, 7, 7, 50)          0         \n",
            "_________________________________________________________________\n",
            "flatten_1 (Flatten)          (None, 2450)              0         \n",
            "_________________________________________________________________\n",
            "dense_2 (Dense)              (None, 500)               1225500   \n",
            "_________________________________________________________________\n",
            "dense_3 (Dense)              (None, 10)                5010      \n",
            "=================================================================\n",
            "Total params: 1,256,080\n",
            "Trainable params: 1,256,080\n",
            "Non-trainable params: 0\n",
            "_________________________________________________________________\n"
          ],
          "name": "stdout"
        }
      ]
    },
    {
      "cell_type": "code",
      "metadata": {
        "id": "k15VftEfQmsy",
        "outputId": "2630c554-1574-4723-e508-009a02acf898",
        "colab": {
          "base_uri": "https://localhost:8080/",
          "height": 660
        }
      },
      "source": [
        "history = model.fit( x_train.reshape(-1, 28, 28, 1), Y_train, batch_size = 32, epochs = 10,verbose = 1)\n",
        "\n",
        "pd.DataFrame(history.history).plot(figsize=(8, 5))\n",
        "plt.grid(True)\n",
        "plt.gca()\n",
        "plt.show()"
      ],
      "execution_count": 17,
      "outputs": [
        {
          "output_type": "stream",
          "text": [
            "Epoch 1/10\n",
            "1875/1875 [==============================] - 5s 3ms/step - loss: 8.3951 - accuracy: 0.2602\n",
            "Epoch 2/10\n",
            "1875/1875 [==============================] - 5s 3ms/step - loss: 3.3228 - accuracy: 0.5157\n",
            "Epoch 3/10\n",
            "1875/1875 [==============================] - 5s 3ms/step - loss: 2.2589 - accuracy: 0.6300\n",
            "Epoch 4/10\n",
            "1875/1875 [==============================] - 5s 3ms/step - loss: 1.7807 - accuracy: 0.6919\n",
            "Epoch 5/10\n",
            "1875/1875 [==============================] - 5s 3ms/step - loss: 1.5064 - accuracy: 0.7310\n",
            "Epoch 6/10\n",
            "1875/1875 [==============================] - 5s 3ms/step - loss: 1.3260 - accuracy: 0.7577\n",
            "Epoch 7/10\n",
            "1875/1875 [==============================] - 5s 3ms/step - loss: 1.1969 - accuracy: 0.7778\n",
            "Epoch 8/10\n",
            "1875/1875 [==============================] - 5s 3ms/step - loss: 1.0989 - accuracy: 0.7930\n",
            "Epoch 9/10\n",
            "1875/1875 [==============================] - 5s 3ms/step - loss: 1.0210 - accuracy: 0.8055\n",
            "Epoch 10/10\n",
            "1875/1875 [==============================] - 5s 3ms/step - loss: 0.9574 - accuracy: 0.8164\n"
          ],
          "name": "stdout"
        },
        {
          "output_type": "display_data",
          "data": {
            "image/png": "[encoded data removed]",
            "text/plain": [
              "<Figure size 576x360 with 1 Axes>"
            ]
          },
          "metadata": {
            "tags": [],
            "needs_background": "light"
          }
        }
      ]
    },
    {
      "cell_type": "code",
      "metadata": {
        "id": "44q03gKoLZwl",
        "outputId": "f3a0c29d-6592-4e16-e11f-b627315fb211",
        "colab": {
          "base_uri": "https://localhost:8080/"
        }
      },
      "source": [
        "ev = model.evaluate(x_test.reshape(-1, 28, 28, 1),Y_test)\n",
        "print(\"Accuracy: \", ev[1])"
      ],
      "execution_count": 18,
      "outputs": [
        {
          "output_type": "stream",
          "text": [
            "313/313 [==============================] - 1s 2ms/step - loss: 0.9245 - accuracy: 0.8243\n",
            "Accuracy:  0.8242999911308289\n"
          ],
          "name": "stdout"
        }
      ]
    }
  ]
}