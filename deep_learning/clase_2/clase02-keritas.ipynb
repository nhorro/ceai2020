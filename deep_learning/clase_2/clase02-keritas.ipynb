{
 "cells": [
  {
   "cell_type": "markdown",
   "metadata": {},
   "source": [
    "# Clase 2. Red neuronal vectorizada Mini Batch con numpy\n",
    "## Versión 2. \"keritas\" \n",
    "\n",
    "Lo mismo que el notebook anterior, pero intentando aproximarse más a un modelo inspirado en el que usa Keras."
   ]
  },
  {
   "cell_type": "code",
   "execution_count": 1,
   "metadata": {
    "scrolled": true
   },
   "outputs": [],
   "source": [
    "%load_ext autoreload\n",
    "%autoreload 2\n",
    "import numpy as np\n",
    "import matplotlib.pyplot as plt\n",
    "#from numpy.random import MT19937\n",
    "#from numpy.random import RandomState, SeedSequence\n",
    "#rs = RandomState(MT19937(SeedSequence(123456789)))"
   ]
  },
  {
   "cell_type": "markdown",
   "metadata": {},
   "source": [
    "Función de activación Sigmoid."
   ]
  },
  {
   "cell_type": "code",
   "execution_count": 2,
   "metadata": {
    "scrolled": true
   },
   "outputs": [],
   "source": [
    "class ActivationFunction:\n",
    "    def __init__(self):\n",
    "        pass\n",
    "    \n",
    "    def __call__(self, x):\n",
    "        return NotImplemented\n",
    "    \n",
    "class Sigmoid(ActivationFunction):\n",
    "    def __init__(self):\n",
    "        ActivationFunction.__init__(self)\n",
    "            \n",
    "    def __call__(self, x):\n",
    "        return 1 / (1 + np.exp(-x))"
   ]
  },
  {
   "cell_type": "markdown",
   "metadata": {},
   "source": [
    "Clases para Definición de modelos secuenciales por Capas estilo Keras."
   ]
  },
  {
   "cell_type": "code",
   "execution_count": 3,
   "metadata": {
    "scrolled": true
   },
   "outputs": [],
   "source": [
    "class Layer:\n",
    "    def __init__(self):\n",
    "        pass\n",
    "    \n",
    "    def forward(self):\n",
    "        raise  NotImplementedError\n",
    "        \n",
    "    def backward(self):\n",
    "        raise  NotImplementedError\n",
    "        \n",
    "    def update_parameters(self):\n",
    "        raise  NotImplementedError\n",
    "        \n",
    "class FullyConnected(Layer):\n",
    "    def __init__(self,n_inputs, n_neurons,activation_fn=Sigmoid()):        \n",
    "        Layer.__init__(self)\n",
    "        self.W = np.random.rand(n_inputs, n_neurons)\n",
    "        self.b = np.random.rand(n_neurons, 1)\n",
    "        self.g = activation_fn\n",
    "        \n",
    "    def forward(self,a_prev):\n",
    "        z = self.W.T@a_prev + self.b\n",
    "        a = self.g(z)    \n",
    "        return z,a\n",
    "        \n",
    "    def backward(self, W_next, dZ_next, z, a_next,batch_size):\n",
    "        dZ = np.multiply(W_next@dZ_next,self.g(z)*(1-self.g(z)))\n",
    "        dW = (1/batch_size)*(dZ@a_next.T)\n",
    "        db = (1/batch_size)*np.sum(dZ,axis=1,keepdims=True)\n",
    "        return dZ,dW,db\n",
    "        \n",
    "    def update_parameters(self,W, b):\n",
    "        self.W = W\n",
    "        self.b = b\n",
    "        \n",
    "class BinaryOutput(Layer):\n",
    "    def __init__(self,n_inputs):\n",
    "        Layer.__init__(self)\n",
    "        self.W = np.random.rand(n_inputs, 1)\n",
    "        self.b = np.random.rand(1, 1)\n",
    "        self.g = Sigmoid()\n",
    "        \n",
    "    def forward(self,a_prev):\n",
    "        z = self.W.T@a_prev + self.b\n",
    "        a = self.g(z)   \n",
    "        return z,a\n",
    "        \n",
    "    def backward(self, y_hat, y_target,z,a_prev,batch_size):\n",
    "        dZ = -2*(y_target-y_hat)* (self.g(z)*(1-self.g(z)))\n",
    "        dW = (1/batch_size)*(dZ@a_prev.T)\n",
    "        db = (1/batch_size)*np.sum(dZ,axis=1,keepdims=True)\n",
    "        return dZ,dW,db\n",
    "        \n",
    "    def update_parameters(self,W,b):\n",
    "        self.W = W\n",
    "        self.b = b        \n",
    "    \n",
    "class SequentialModel:\n",
    "    def __init__(self):\n",
    "        self.layers = []\n",
    "        pass\n",
    "    \n",
    "    def add_layer(self,layer):\n",
    "        self.layers.append(layer)    \n",
    "    \n",
    "    def predict(self,X):\n",
    "        a_prev = X.T\n",
    "        for layer in self.layers:\n",
    "            z,a = layer.forward(a_prev)\n",
    "            a_prev = a\n",
    "        y_hat = a_prev\n",
    "        return y_hat.T\n",
    "    "
   ]
  },
  {
   "cell_type": "markdown",
   "metadata": {},
   "source": [
    "Optimizador gradiente descendente."
   ]
  },
  {
   "cell_type": "code",
   "execution_count": 4,
   "metadata": {
    "scrolled": false
   },
   "outputs": [],
   "source": [
    "class MiniBatchGDOptimizer:\n",
    "    def __init__(self):\n",
    "        pass\n",
    "    \n",
    "    def train(self, seqmodel ,X_train, y_train, lr=0.01, amt_epochs=1,batch_size=32, callbacks={}):\n",
    "        n = X_train.shape[0] # number of samples\n",
    "        m = X_train.shape[1] # number of features     \n",
    "                        \n",
    "        train_history = []        \n",
    "        for i in range(amt_epochs):\n",
    "            idx = np.random.permutation(X_train.shape[0])\n",
    "            X_train = X_train[idx]\n",
    "            y_train = y_train[idx]\n",
    "            \n",
    "            epoch_average_loss = 0\n",
    "            n_batches = 0\n",
    "            for i in range(0, len(X_train), batch_size):            \n",
    "                end = i + batch_size if i + batch_size <= len(X_train) else len(X_train)                \n",
    "                batch_X = X_train[i: end]\n",
    "                batch_y = y_train[i: end]        \n",
    "                batch_loss, params = callbacks[\"on_batch\"](batch_X,batch_y,seqmodel,lr)\n",
    "                epoch_average_loss += batch_loss\n",
    "                n_batches +=1\n",
    "            train_history.append(epoch_average_loss / n_batches)\n",
    "        \n",
    "        return np.array(train_history)\n",
    "    \n",
    "def on_batch(X,y,seqmodel,lr):    \n",
    "    batch_size = X.shape[0]\n",
    "    num_features = X.shape[1]\n",
    "    X_input = X.T\n",
    "    y_target = y.T\n",
    "    layers = seqmodel.layers\n",
    "    \n",
    "    cache = {}\n",
    "    params = {}\n",
    "    \n",
    "    for layer_idx in range(len(layers)):\n",
    "        params[\"W\"+str(layer_idx+1)] = layers[layer_idx].W\n",
    "        params[\"b\"+str(layer_idx+1)] = layers[layer_idx].b\n",
    "        \n",
    "    # 1) Forward pass and compute error\n",
    "    a_prev = X_input\n",
    "    for layer_idx in range(len(layers)):\n",
    "        z,a = layers[layer_idx].forward(a_prev)\n",
    "        cache[\"z\"+str(layer_idx+1)] = z\n",
    "        cache[\"a\"+str(layer_idx+1)] = a\n",
    "        a_prev = a\n",
    "    y_hat = a_prev\n",
    "    j = 1/batch_size * np.sum(np.power(y_target-y_hat,2))\n",
    "        \n",
    "    # 2) Backward Pass\n",
    "    last_layer = len(layers) -1\n",
    "    dZ,dW,db = layers[last_layer].backward(\n",
    "        y_hat, y_target,\n",
    "        cache[\"z\"+str(last_layer+1)],\n",
    "        cache[\"a\"+str(last_layer)],batch_size)\n",
    "    cache[\"dZ\"+str(last_layer+1)] = dZ\n",
    "    cache[\"dW\"+str(last_layer+1)] = dW\n",
    "    cache[\"db\"+str(last_layer+1)] = db\n",
    "            \n",
    "    for layer_idx in range(len(layers)-2,-1,-1):\n",
    "        dZ,dW,db = layers[layer_idx].backward(\n",
    "            params[\"W\"+str(layer_idx+2)], \n",
    "            cache[\"dZ\"+str(layer_idx+2)], \n",
    "            cache[\"z\"+str(layer_idx+1)], \n",
    "            cache[\"a\"+str(layer_idx+2)], \n",
    "            batch_size)\n",
    "        cache[\"dZ\"+str(layer_idx+1)] = dZ\n",
    "        cache[\"dW\"+str(layer_idx+1)] = dW\n",
    "        cache[\"db\"+str(layer_idx+1)] = db\n",
    "        \n",
    "    # 3) Update parameters\n",
    "    for layer_idx in range(len(layers)):        \n",
    "        layers[layer_idx].update_parameters(\n",
    "            layers[layer_idx].W - lr*cache[\"dW\"+str(layer_idx+1)].T,\n",
    "            layers[layer_idx].b - lr*cache[\"db\"+str(layer_idx+1)] )\n",
    "        params[\"W\"+str(layer_idx+1)] = layers[layer_idx].W\n",
    "        params[\"b\"+str(layer_idx+1)] = layers[layer_idx].b\n",
    "    \n",
    "    return j,params\n",
    "\n"
   ]
  },
  {
   "cell_type": "markdown",
   "metadata": {},
   "source": [
    "## Prueba de 'keritas'"
   ]
  },
  {
   "cell_type": "markdown",
   "metadata": {},
   "source": [
    "Carga del Dataset."
   ]
  },
  {
   "cell_type": "code",
   "execution_count": 5,
   "metadata": {
    "scrolled": true
   },
   "outputs": [],
   "source": [
    "TRAIN_DATASET_FILENAME = \"data/clase_2_train_data.csv\"\n",
    "TEST_DATASET_FILENAME = \"data/clase_2_test_data.csv\""
   ]
  },
  {
   "cell_type": "code",
   "execution_count": 6,
   "metadata": {
    "scrolled": true
   },
   "outputs": [
    {
     "data": {
      "text/plain": [
       "((900, 2), (900, 1))"
      ]
     },
     "execution_count": 6,
     "metadata": {},
     "output_type": "execute_result"
    }
   ],
   "source": [
    "train_ds = np.genfromtxt(TRAIN_DATASET_FILENAME, skip_header=True, delimiter=',')\n",
    "X_train = train_ds[:,0:2]\n",
    "y_train = train_ds[:,2:]\n",
    "X_train.shape, y_train.shape"
   ]
  },
  {
   "cell_type": "code",
   "execution_count": 7,
   "metadata": {
    "scrolled": true
   },
   "outputs": [
    {
     "data": {
      "text/plain": [
       "((100, 2), (100, 1))"
      ]
     },
     "execution_count": 7,
     "metadata": {},
     "output_type": "execute_result"
    }
   ],
   "source": [
    "test_ds = np.genfromtxt(TEST_DATASET_FILENAME, skip_header=True, delimiter=',')\n",
    "X_test = test_ds[:,0:2]\n",
    "y_test = test_ds[:,2:]\n",
    "X_test.shape, y_test.shape"
   ]
  },
  {
   "cell_type": "markdown",
   "metadata": {},
   "source": [
    "Definición del modelo secuencial por capas."
   ]
  },
  {
   "cell_type": "code",
   "execution_count": 8,
   "metadata": {
    "scrolled": true
   },
   "outputs": [],
   "source": [
    "# Model definition\n",
    "INPUT_LAYER_N_FEAT = 2\n",
    "LAYER_1_N_INPUTS = INPUT_LAYER_N_FEAT \n",
    "LAYER_1_N_NEURONS = 3\n",
    "LAYER_2_N_INPUTS = LAYER_1_N_NEURONS\n",
    "LAYER_2_N_NEURONS = 2\n",
    "OUTPUT_LAYER_N_INPUTS = LAYER_2_N_NEURONS\n",
    "OUTPUT_LAYER_N_NEURONS = 1"
   ]
  },
  {
   "cell_type": "markdown",
   "metadata": {},
   "source": [
    "Entrenamiento del modelo con optimizador MiniBatchGD."
   ]
  },
  {
   "cell_type": "code",
   "execution_count": 9,
   "metadata": {
    "scrolled": true
   },
   "outputs": [
    {
     "data": {
      "image/png": "[encoded data removed]",
      "text/plain": [
       "<Figure size 864x576 with 1 Axes>"
      ]
     },
     "metadata": {
      "needs_background": "light"
     },
     "output_type": "display_data"
    }
   ],
   "source": [
    "LEARNING_RATE = 0.3\n",
    "BATCH_SIZE = 256\n",
    "N_EPOCHS = 1600\n",
    "\n",
    "l0 = FullyConnected(INPUT_LAYER_N_FEAT,LAYER_1_N_NEURONS)\n",
    "l1 = FullyConnected(LAYER_2_N_INPUTS,LAYER_2_N_NEURONS)\n",
    "l2 = BinaryOutput(OUTPUT_LAYER_N_INPUTS)\n",
    "\n",
    "seqmodel = SequentialModel()\n",
    "seqmodel.add_layer(l0)\n",
    "seqmodel.add_layer(l1)\n",
    "seqmodel.add_layer(l2)\n",
    "\n",
    "optimizer = MiniBatchGDOptimizer()\n",
    "train_history = optimizer.train(seqmodel, X_train,y_train,LEARNING_RATE,N_EPOCHS,BATCH_SIZE,callbacks={ \n",
    "    \"on_batch\": on_batch})    \n",
    "\n",
    "epochs = np.arange(N_EPOCHS)\n",
    "plt.figure(figsize=(12,8))\n",
    "plt.plot(epochs,train_history)\n",
    "plt.grid(which=\"Both\")\n",
    "plt.title(\"Entrenamiento\")\n",
    "plt.xlabel(\"Epoch\")\n",
    "plt.ylabel(\"Loss\")\n",
    "plt.show()"
   ]
  },
  {
   "cell_type": "markdown",
   "metadata": {},
   "source": [
    "### Evaluación"
   ]
  },
  {
   "cell_type": "code",
   "execution_count": 10,
   "metadata": {
    "scrolled": true
   },
   "outputs": [],
   "source": [
    "#!pip install seaborn\n",
    "import sys\n",
    "sys.path.append(\"../../intro_ai/\")\n",
    "from libintroia.utils import plot_confusion_matrix\n",
    "from libintroia.metrics import Precision, Accuracy, Recall\n",
    "metrics = [ Precision(), Accuracy(), Recall() ]"
   ]
  },
  {
   "cell_type": "code",
   "execution_count": 11,
   "metadata": {
    "scrolled": true
   },
   "outputs": [
    {
     "name": "stdout",
     "output_type": "stream",
     "text": [
      "Precision: 0.7505720823798627\n",
      "Accuracy: 0.75\n",
      "Recall: 0.7387387387387387\n",
      "TP: 328, TN: 347, FP: 109, FN: 116\n"
     ]
    },
    {
     "data": {
      "image/png": "[encoded data removed]",
      "text/plain": [
       "<Figure size 648x432 with 2 Axes>"
      ]
     },
     "metadata": {},
     "output_type": "display_data"
    }
   ],
   "source": [
    "predicted = seqmodel.predict(X_train)\n",
    "predicted[predicted<=0.5] = False\n",
    "predicted[predicted>0.5] = True\n",
    "actual = y_train\n",
    "TP,TN,FP,FN = plot_confusion_matrix(predicted, actual, \"Training set\")\n",
    "print(\"Precision:\", metrics[0](actual,predicted))\n",
    "print(\"Accuracy:\", metrics[1](actual,predicted))\n",
    "print(\"Recall:\", metrics[2](actual,predicted))\n",
    "print(\"TP: %d, TN: %d, FP: %d, FN: %d\" % (TP,TN,FP,FN))"
   ]
  },
  {
   "cell_type": "code",
   "execution_count": 12,
   "metadata": {
    "scrolled": false
   },
   "outputs": [
    {
     "name": "stdout",
     "output_type": "stream",
     "text": [
      "Precision: 0.76\n",
      "Accuracy: 0.7\n",
      "Recall: 0.6785714285714286\n",
      "TP: 38, TN: 32, FP: 12, FN: 18\n"
     ]
    },
    {
     "data": {
      "image/png": "[encoded data removed]",
      "text/plain": [
       "<Figure size 648x432 with 2 Axes>"
      ]
     },
     "metadata": {},
     "output_type": "display_data"
    }
   ],
   "source": [
    "predicted = seqmodel.predict(X_test)\n",
    "predicted[predicted<=0.5] = False\n",
    "predicted[predicted>0.5] = True\n",
    "actual = y_test\n",
    "TP,TN,FP,FN = plot_confusion_matrix(predicted, actual, \"Test set\")\n",
    "print(\"Precision:\", metrics[0](actual,predicted))\n",
    "print(\"Accuracy:\", metrics[1](actual,predicted))\n",
    "print(\"Recall:\", metrics[2](actual,predicted))\n",
    "print(\"TP: %d, TN: %d, FP: %d, FN: %d\" % (TP,TN,FP,FN))"
   ]
  }
 ],
 "metadata": {
  "kernelspec": {
   "display_name": "Python 3",
   "language": "python",
   "name": "python3"
  },
  "language_info": {
   "codemirror_mode": {
    "name": "ipython",
    "version": 3
   },
   "file_extension": ".py",
   "mimetype": "text/x-python",
   "name": "python",
   "nbconvert_exporter": "python",
   "pygments_lexer": "ipython3",
   "version": "3.5.2"
  }
 },
 "nbformat": 4,
 "nbformat_minor": 4
}
