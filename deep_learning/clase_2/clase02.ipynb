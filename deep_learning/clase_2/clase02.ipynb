{
 "cells": [
  {
   "cell_type": "markdown",
   "metadata": {},
   "source": [
    "# Clase 2. Red neuronal vectorizada Mini Batch con numpy\n",
    "## Versión 1. No Orientada a Objetos"
   ]
  },
  {
   "cell_type": "code",
   "execution_count": 1,
   "metadata": {},
   "outputs": [],
   "source": [
    "%load_ext autoreload\n",
    "%autoreload 2\n",
    "import numpy as np\n",
    "import matplotlib.pyplot as plt\n",
    "from numpy.random import MT19937\n",
    "from numpy.random import RandomState, SeedSequence\n",
    "rs = RandomState(MT19937(SeedSequence(123456789)))"
   ]
  },
  {
   "cell_type": "code",
   "execution_count": 2,
   "metadata": {},
   "outputs": [],
   "source": [
    "TRAIN_DATASET_FILENAME = \"data/clase_2_train_data.csv\"\n",
    "TEST_DATASET_FILENAME = \"data/clase_2_test_data.csv\""
   ]
  },
  {
   "cell_type": "code",
   "execution_count": 3,
   "metadata": {},
   "outputs": [
    {
     "data": {
      "text/plain": [
       "((900, 2), (900, 1))"
      ]
     },
     "execution_count": 3,
     "metadata": {},
     "output_type": "execute_result"
    }
   ],
   "source": [
    "train_ds = np.genfromtxt(TRAIN_DATASET_FILENAME, skip_header=True, delimiter=',')\n",
    "X_train = train_ds[:,0:2]\n",
    "y_train = train_ds[:,2:]\n",
    "X_train.shape, y_train.shape"
   ]
  },
  {
   "cell_type": "code",
   "execution_count": 4,
   "metadata": {},
   "outputs": [
    {
     "data": {
      "text/plain": [
       "((900, 2), (900, 1))"
      ]
     },
     "execution_count": 4,
     "metadata": {},
     "output_type": "execute_result"
    }
   ],
   "source": [
    "test_ds = np.genfromtxt(TRAIN_DATASET_FILENAME, skip_header=True, delimiter=',')\n",
    "X_test = test_ds[:,0:2]\n",
    "y_test = test_ds[:,2:]\n",
    "X_test.shape, y_test.shape"
   ]
  },
  {
   "cell_type": "code",
   "execution_count": 5,
   "metadata": {},
   "outputs": [],
   "source": [
    "class Sigmoid:\n",
    "    def __init__(self):\n",
    "        pass\n",
    "    \n",
    "    def __call__(self, x):\n",
    "        return 1 / (1 + np.exp(-x))"
   ]
  },
  {
   "cell_type": "code",
   "execution_count": 6,
   "metadata": {},
   "outputs": [],
   "source": [
    "# Model definition\n",
    "INPUT_LAYER_N_FEAT = 2\n",
    "LAYER_1_N_INPUTS = INPUT_LAYER_N_FEAT \n",
    "LAYER_1_N_NEURONS = 3\n",
    "LAYER_2_N_INPUTS = LAYER_1_N_NEURONS\n",
    "LAYER_2_N_NEURONS = 2\n",
    "OUTPUT_LAYER_N_INPUTS = LAYER_2_N_NEURONS\n",
    "OUTPUT_LAYER_N_NEURONS = 1"
   ]
  },
  {
   "cell_type": "code",
   "execution_count": 7,
   "metadata": {},
   "outputs": [],
   "source": [
    "class Metric(object):\n",
    "    def __call__(self, target, prediction):\n",
    "        return NotImplemented\n",
    "\n",
    "class MSE(Metric):\n",
    "    def __init__(self):\n",
    "        Metric.__init__(self)\n",
    "\n",
    "    def __call__(self, target, prediction):\n",
    "        n = target.size\n",
    "        return np.sum((target - prediction) ** 2) / n"
   ]
  },
  {
   "cell_type": "code",
   "execution_count": 8,
   "metadata": {},
   "outputs": [],
   "source": [
    "def predict(X,params):\n",
    "    \"\"\"\n",
    "    \n",
    "    \"\"\"\n",
    "    # Load params from dictionary\n",
    "    W1 = params[\"W1\"]    \n",
    "    b1 = params[\"b1\"]\n",
    "    g1 = params[\"g1\"]\n",
    "    W2 = params[\"W2\"]\n",
    "    b2 = params[\"b2\"]\n",
    "    g2 = params[\"g2\"]\n",
    "    W3 = params[\"W3\"]\n",
    "    b3 = params[\"b3\"]\n",
    "    g3 = params[\"g3\"]\n",
    "        \n",
    "    # 1.1 Layer 1\n",
    "    assert(X.shape[0]==W1.shape[0])    \n",
    "    z1 = W1.T@X + b1 # broadcasting magic.         \n",
    "    a1 = g1(z1)\n",
    "    \n",
    "    # 1.2 Layer 2\n",
    "    z2 = W2.T@a1 + b2\n",
    "    a2 = g2(z2)    \n",
    "    \n",
    "    # 1.3 Layer 3\n",
    "    z3 = W3.T@a2 + b3\n",
    "    a3 = g3(z3)      \n",
    "    y_hat = a3\n",
    "    return y_hat.T"
   ]
  },
  {
   "cell_type": "code",
   "execution_count": 9,
   "metadata": {},
   "outputs": [],
   "source": [
    "def on_batch(X,y,params,lr):    \n",
    "    batch_size = X.shape[0]\n",
    "    num_features = X.shape[1]\n",
    "    X_input = X.T\n",
    "    y_target = y.T\n",
    "    \n",
    "    # Load params from dictionary\n",
    "    W1 = params[\"W1\"]    \n",
    "    b1 = params[\"b1\"]\n",
    "    g1 = params[\"g1\"]\n",
    "    W2 = params[\"W2\"]\n",
    "    b2 = params[\"b2\"]\n",
    "    g2 = params[\"g2\"]\n",
    "    W3 = params[\"W3\"]\n",
    "    b3 = params[\"b3\"]\n",
    "    g3 = params[\"g3\"]\n",
    "                \n",
    "    # 1) Forward pass and compute error\n",
    "    #print(\"1) Forward Pass\")\n",
    "    \n",
    "    # 1.1 Layer 1\n",
    "    assert(X_input.shape[0]==W1.shape[0])    \n",
    "    z1 = W1.T@X_input + b1 # broadcasting magic.         \n",
    "    a1 = g1(z1)\n",
    "    #print(\"X_input.shape:\", X_input.shape)\n",
    "    #print(\"z1.shape:\", z1.shape)\n",
    "    #print(\"a1.shape:\", a1.shape)\n",
    "    \n",
    "    # 1.2 Layer 2\n",
    "    z2 = W2.T@a1 + b2\n",
    "    a2 = g2(z2)    \n",
    "    #print(\"z2.shape:\", z2.shape)\n",
    "    #print(\"a2.shape:\", a2.shape)\n",
    "    \n",
    "    # 1.3 Layer 3\n",
    "    z3 = W3.T@a2 + b3\n",
    "    a3 = g3(z3)      \n",
    "    y_hat = a3\n",
    "    j = (y_target-y_hat)**2\n",
    "    #print(\"z3.shape:\", z3.shape)\n",
    "    #print(\"a3.shape:\", a3.shape)\n",
    "    #print(\"y_hat.shape\",y_hat.shape)\n",
    "    \n",
    "    # 2) Backward pass (compute gradients)\n",
    "    #print(\"2) Backward Pass\")\n",
    "            \n",
    "    # 2.1 Output layer\n",
    "    #print(\" 2.1 Output layer\")\n",
    "    assert a2.shape==(num_features,batch_size)\n",
    "    dZ3 = -2*(y_target-y_hat)* (g3(z3)*(1-g3(z3)))\n",
    "    assert dZ3.shape==(1,batch_size)\n",
    "    dW3 = (1/batch_size)*(dZ3@a2.T)\n",
    "    db3 = (1/batch_size)*np.sum(dZ3,axis=1,keepdims=True)\n",
    "    #print(\"dZ3.shape\",dZ3.shape)\n",
    "    #print(\"dW3.shape\",dW3.shape)\n",
    "    #print(\"db3.shape\",db3.shape)\n",
    "    \n",
    "\n",
    "    # 2.2 Layer 2\n",
    "    #print(\" 2.2 Layer 2\")\n",
    "    dZ2 = np.multiply(W3@dZ3,g2(z2)*(1-g2(z2)))\n",
    "    dW2 = (1/batch_size)*(dZ2@a3.T)\n",
    "    db2 = (1/batch_size)*np.sum(dZ2,axis=1,keepdims=True)\n",
    "    #print(\"dZ2.shape\",dZ2.shape)\n",
    "    #print(\"dW2.shape\",dW2.shape)\n",
    "    #print(\"db2.shape\",db2.shape)\n",
    "\n",
    "    # 2.3 Layer 1\n",
    "    #print(\" 2.3 Layer 1\")\n",
    "    dZ1 = np.multiply(W2@dZ2,g1(z1)*(1-g1(z1)))\n",
    "    dW1 = (1/batch_size)*(dZ1@X_input.T)\n",
    "    db1 = (1/batch_size)*np.sum(dZ1,axis=1,keepdims=True)\n",
    "    #print(\"dZ1.shape\",dZ1.shape)\n",
    "    #print(\"dW1.shape\",dW1.shape)\n",
    "    #print(\"db1.shape\",db1.shape)\n",
    "\n",
    "    # 3) Parameter update                      \n",
    "    #print(\"3) Parameter update\")\n",
    "    W1 = W1 - lr*dW1.T\n",
    "    b1 = b1 - lr*db1\n",
    "    #print(\"W1.shape\",W1.shape)\n",
    "    #print(\"b1.shape\",b1.shape)\n",
    "    \n",
    "    W2 = W2 - lr*dW2.T\n",
    "    b2 = b2 - lr*db2\n",
    "    #print(\"W2.shape\",W2.shape)\n",
    "    #print(\"b2.shape\",b2.shape)\n",
    "    \n",
    "    W3 = W3 - lr*dW3.T\n",
    "    b3 = b3 - lr*db3\n",
    "    #print(\"W3.shape\",W3.shape)\n",
    "    #print(\"b3.shape\",b3.shape)\n",
    "          \n",
    "    # Update params in dictionary\n",
    "    params[\"W1\"] = W1\n",
    "    params[\"b1\"] = b1\n",
    "    params[\"W2\"] = W2\n",
    "    params[\"b2\"] = b2\n",
    "    params[\"W3\"] = W3\n",
    "    params[\"b3\"] = b3\n",
    "    \n",
    "    return j"
   ]
  },
  {
   "cell_type": "code",
   "execution_count": 10,
   "metadata": {
    "scrolled": true
   },
   "outputs": [],
   "source": [
    "def init_params():                   \n",
    "    # Layer 1\n",
    "    W1 = np.random.rand(LAYER_1_N_INPUTS, LAYER_1_N_NEURONS)\n",
    "    b1 = np.random.rand(LAYER_1_N_NEURONS, 1)\n",
    "    g1 = Sigmoid()\n",
    "\n",
    "    # Layer 2\n",
    "    W2 = np.random.rand(LAYER_2_N_INPUTS, LAYER_2_N_NEURONS)\n",
    "    b2 = np.random.rand(LAYER_2_N_NEURONS, 1)\n",
    "    g2 = Sigmoid()\n",
    "\n",
    "    # Output Layer\n",
    "    W3 = np.random.rand(OUTPUT_LAYER_N_INPUTS, OUTPUT_LAYER_N_NEURONS)\n",
    "    b3 = np.random.rand(OUTPUT_LAYER_N_NEURONS, 1)\n",
    "    g3 = Sigmoid()\n",
    "\n",
    "    params = {}\n",
    "    params[\"W1\"] = W1\n",
    "    params[\"b1\"] = b1\n",
    "    params[\"g1\"] = g1\n",
    "    params[\"W2\"] = W2\n",
    "    params[\"b2\"] = b2\n",
    "    params[\"g2\"] = g2\n",
    "    params[\"W3\"] = W3\n",
    "    params[\"b3\"] = b3\n",
    "    params[\"g3\"] = g3\n",
    "    return params\n",
    "    \n",
    "class MiniBatchGD:\n",
    "    def __init__(self):\n",
    "        pass\n",
    "    \n",
    "    def train(self,X_train, y_train, lr=0.01, amt_epochs=1,batch_size=32, callbacks=[]):\n",
    "        n = X_train.shape[0] # number of samples\n",
    "        m = X_train.shape[1] # number of features     \n",
    "     \n",
    "        params = init_params()\n",
    "                        \n",
    "        train_history = []        \n",
    "        for i in range(amt_epochs):\n",
    "            idx = np.random.permutation(X_train.shape[0])\n",
    "            X_train = X_train[idx]\n",
    "            y_train = y_train[idx]\n",
    "            \n",
    "            #print(\"batch_size:\",batch_size)\n",
    "            epoch_average_loss = 0\n",
    "            for i in range(0, len(X_train), batch_size):            \n",
    "                end = i + batch_size if i + batch_size <= len(X_train) else len(X_train)                \n",
    "                batch_X = X_train[i: end]\n",
    "                batch_y = y_train[i: end]        \n",
    "                \n",
    "                #print(f\"Iteration {i}\")\n",
    "                batch_loss = callbacks[\"on_batch\"](batch_X,batch_y,params,lr)\n",
    "                epoch_average_loss += np.sum(batch_loss)\n",
    "                \n",
    "            epoch_average_loss = epoch_average_loss / len(X_train)\n",
    "            train_history.append(epoch_average_loss)\n",
    "        \n",
    "        return np.array(train_history),params"
   ]
  },
  {
   "cell_type": "code",
   "execution_count": 11,
   "metadata": {},
   "outputs": [
    {
     "name": "stdout",
     "output_type": "stream",
     "text": [
      "MSE en Test Set: 0.25032275833728723\n",
      "MSE en Train Set: 0.25032275833728723\n"
     ]
    },
    {
     "data": {
      "image/png": "[encoded data removed]",
      "text/plain": [
       "<Figure size 864x576 with 1 Axes>"
      ]
     },
     "metadata": {
      "needs_background": "light"
     },
     "output_type": "display_data"
    }
   ],
   "source": [
    "LEARNING_RATE = 0.001\n",
    "BATCH_SIZE = 32\n",
    "N_EPOCHS = 500\n",
    "\n",
    "optimizer = MiniBatchGD()\n",
    "train_history,weights = optimizer.train(X_train,y_train,LEARNING_RATE,N_EPOCHS,BATCH_SIZE,callbacks={ \n",
    "    \"on_batch\": on_batch\n",
    "})\n",
    "\n",
    "epochs = np.arange(N_EPOCHS)\n",
    "plt.figure(figsize=(12,8))\n",
    "plt.plot(epochs,train_history)\n",
    "plt.grid(which=\"Both\")\n",
    "plt.title(\"Entrenamiento\")\n",
    "plt.xlabel(\"Epoch\")\n",
    "plt.ylabel(\"Loss\")\n",
    "\n",
    "mse = MSE()\n",
    "\n",
    "y_train_hat = predict(X_train.T,weights)\n",
    "y_test_hat = predict(X_test.T,weights)\n",
    "print(\"MSE en Test Set:\", mse(y_test_hat,y_test))\n",
    "print(\"MSE en Train Set:\", mse(y_train_hat,y_train))"
   ]
  }
 ],
 "metadata": {
  "kernelspec": {
   "display_name": "Python 3",
   "language": "python",
   "name": "python3"
  },
  "language_info": {
   "codemirror_mode": {
    "name": "ipython",
    "version": 3
   },
   "file_extension": ".py",
   "mimetype": "text/x-python",
   "name": "python",
   "nbconvert_exporter": "python",
   "pygments_lexer": "ipython3",
   "version": "3.7.7"
  }
 },
 "nbformat": 4,
 "nbformat_minor": 4
}
