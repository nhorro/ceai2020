{
  "nbformat": 4,
  "nbformat_minor": 0,
  "metadata": {
    "colab": {
      "name": "1) Introducción a clasificación con Keras",
      "provenance": [],
      "collapsed_sections": [],
      "include_colab_link": true
    },
    "kernelspec": {
      "name": "python3",
      "display_name": "Python 3"
    },
    "accelerator": "TPU"
  },
  "cells": [
    {
      "cell_type": "markdown",
      "metadata": {
        "id": "view-in-github",
        "colab_type": "text"
      },
      "source": [
        "<a href=\"https://colab.research.google.com/github/nhorro/ceai2020/blob/master/deep_learning/clase_3/01_Introducci%C3%B3n_a_clasificaci%C3%B3n_con_Keras.ipynb\" target=\"_parent\"><img src=\"https://colab.research.google.com/assets/colab-badge.svg\" alt=\"Open In Colab\"/></a>"
      ]
    },
    {
      "cell_type": "markdown",
      "metadata": {
        "id": "YblY8usDS94W",
        "colab_type": "text"
      },
      "source": [
        "# Lab UBA-IA\n",
        "## Modelo de clasifiación en Keras \n",
        "\n",
        "\n",
        "Objetivo: \n",
        "\n",
        "- Intro al ecosistema Keras\n",
        "- Creación de un modelo de clasificación básico\n",
        "\n"
      ]
    },
    {
      "cell_type": "markdown",
      "metadata": {
        "id": "i7X2m5X_vLMt",
        "colab_type": "text"
      },
      "source": [
        "### 1) Montando el drive en google colab"
      ]
    },
    {
      "cell_type": "code",
      "metadata": {
        "id": "flvnbWZ7lds9",
        "colab_type": "code",
        "colab": {
          "base_uri": "https://localhost:8080/",
          "height": 34
        },
        "outputId": "e964e3cc-4305-4613-d344-74345d487cda"
      },
      "source": [
        "from google.colab import drive\n",
        "drive.mount('/content/drive')"
      ],
      "execution_count": 1,
      "outputs": [
        {
          "output_type": "stream",
          "text": [
            "Mounted at /content/drive\n"
          ],
          "name": "stdout"
        }
      ]
    },
    {
      "cell_type": "code",
      "metadata": {
        "id": "vWg0lFF1yiZX",
        "colab_type": "code",
        "colab": {
          "base_uri": "https://localhost:8080/",
          "height": 340
        },
        "outputId": "7a7940ce-f766-4945-f88d-e63930d043eb"
      },
      "source": [
        "!pip install funpymodeling"
      ],
      "execution_count": 2,
      "outputs": [
        {
          "output_type": "stream",
          "text": [
            "Collecting funpymodeling\n",
            "  Downloading https://files.pythonhosted.org/packages/2c/ab/849bdc74b3323ef11a4c4af86be8c1ddc4ebc118cff4b8b2036fce8f0c77/funpymodeling-0.1.7-py3-none-any.whl\n",
            "Requirement already satisfied: matplotlib<4.0.0,>=3.2.2 in /usr/local/lib/python3.6/dist-packages (from funpymodeling) (3.2.2)\n",
            "Requirement already satisfied: typing-extensions<4.0.0,>=3.7.4; python_version < \"3.8\" in /usr/local/lib/python3.6/dist-packages (from funpymodeling) (3.7.4.3)\n",
            "Requirement already satisfied: seaborn<0.11.0,>=0.10.1 in /usr/local/lib/python3.6/dist-packages (from funpymodeling) (0.10.1)\n",
            "Requirement already satisfied: pandas<2.0.0,>=1.0.5 in /usr/local/lib/python3.6/dist-packages (from funpymodeling) (1.0.5)\n",
            "Requirement already satisfied: sklearn<0.1,>=0.0 in /usr/local/lib/python3.6/dist-packages (from funpymodeling) (0.0)\n",
            "Requirement already satisfied: numpy<2.0.0,>=1.18.5 in /usr/local/lib/python3.6/dist-packages (from funpymodeling) (1.18.5)\n",
            "Requirement already satisfied: cycler>=0.10 in /usr/local/lib/python3.6/dist-packages (from matplotlib<4.0.0,>=3.2.2->funpymodeling) (0.10.0)\n",
            "Requirement already satisfied: kiwisolver>=1.0.1 in /usr/local/lib/python3.6/dist-packages (from matplotlib<4.0.0,>=3.2.2->funpymodeling) (1.2.0)\n",
            "Requirement already satisfied: python-dateutil>=2.1 in /usr/local/lib/python3.6/dist-packages (from matplotlib<4.0.0,>=3.2.2->funpymodeling) (2.8.1)\n",
            "Requirement already satisfied: pyparsing!=2.0.4,!=2.1.2,!=2.1.6,>=2.0.1 in /usr/local/lib/python3.6/dist-packages (from matplotlib<4.0.0,>=3.2.2->funpymodeling) (2.4.7)\n",
            "Requirement already satisfied: scipy>=1.0.1 in /usr/local/lib/python3.6/dist-packages (from seaborn<0.11.0,>=0.10.1->funpymodeling) (1.4.1)\n",
            "Requirement already satisfied: pytz>=2017.2 in /usr/local/lib/python3.6/dist-packages (from pandas<2.0.0,>=1.0.5->funpymodeling) (2018.9)\n",
            "Requirement already satisfied: scikit-learn in /usr/local/lib/python3.6/dist-packages (from sklearn<0.1,>=0.0->funpymodeling) (0.22.2.post1)\n",
            "Requirement already satisfied: six in /usr/local/lib/python3.6/dist-packages (from cycler>=0.10->matplotlib<4.0.0,>=3.2.2->funpymodeling) (1.15.0)\n",
            "Requirement already satisfied: joblib>=0.11 in /usr/local/lib/python3.6/dist-packages (from scikit-learn->sklearn<0.1,>=0.0->funpymodeling) (0.16.0)\n",
            "Installing collected packages: funpymodeling\n",
            "Successfully installed funpymodeling-0.1.7\n"
          ],
          "name": "stdout"
        }
      ]
    },
    {
      "cell_type": "code",
      "metadata": {
        "id": "ntXoh-FTzBx5",
        "colab_type": "code",
        "colab": {}
      },
      "source": [
        "import os\n",
        "os.chdir('/content/drive/My Drive/fiuba')\n"
      ],
      "execution_count": 5,
      "outputs": []
    },
    {
      "cell_type": "code",
      "metadata": {
        "id": "pKG-lXQyhXmF",
        "colab_type": "code",
        "colab": {
          "base_uri": "https://localhost:8080/",
          "height": 680
        },
        "outputId": "0a7c3b67-c7c2-401d-bf1e-5b4a5828e102"
      },
      "source": [
        "\n",
        "!unzip Curso_IA_UBA_2020_Practica.zip -d data"
      ],
      "execution_count": 6,
      "outputs": [
        {
          "output_type": "stream",
          "text": [
            "Archive:  Curso_IA_UBA_2020_Practica.zip\n",
            "  inflating: data/heart_disease.csv  \n",
            "  inflating: data/__MACOSX/._heart_disease.csv  \n",
            "  inflating: data/creditcard.csv     \n",
            "  inflating: data/__MACOSX/._creditcard.csv  \n",
            "   creating: data/songs_dataset/\n",
            "  inflating: data/__MACOSX/._songs_dataset  \n",
            "  inflating: data/songs_dataset/prince.txt  \n",
            "  inflating: data/__MACOSX/songs_dataset/._prince.txt  \n",
            "  inflating: data/songs_dataset/dickinson.txt  \n",
            "  inflating: data/__MACOSX/songs_dataset/._dickinson.txt  \n",
            "  inflating: data/songs_dataset/notorious-big.txt  \n",
            "  inflating: data/__MACOSX/songs_dataset/._notorious-big.txt  \n",
            "  inflating: data/songs_dataset/bob-dylan.txt  \n",
            "  inflating: data/__MACOSX/songs_dataset/._bob-dylan.txt  \n",
            "  inflating: data/songs_dataset/.DS_Store  \n",
            "  inflating: data/__MACOSX/songs_dataset/._.DS_Store  \n",
            "  inflating: data/songs_dataset/ludacris.txt  \n",
            "  inflating: data/__MACOSX/songs_dataset/._ludacris.txt  \n",
            "  inflating: data/songs_dataset/Kanye_West.txt  \n",
            "  inflating: data/__MACOSX/songs_dataset/._Kanye_West.txt  \n",
            "  inflating: data/songs_dataset/notorious_big.txt  \n",
            "  inflating: data/__MACOSX/songs_dataset/._notorious_big.txt  \n",
            "  inflating: data/songs_dataset/missy-elliott.txt  \n",
            "  inflating: data/__MACOSX/songs_dataset/._missy-elliott.txt  \n",
            "  inflating: data/songs_dataset/michael-jackson.txt  \n",
            "  inflating: data/__MACOSX/songs_dataset/._michael-jackson.txt  \n",
            "  inflating: data/songs_dataset/dj-khaled.txt  \n",
            "  inflating: data/__MACOSX/songs_dataset/._dj-khaled.txt  \n",
            "  inflating: data/songs_dataset/r-kelly.txt  \n",
            "  inflating: data/__MACOSX/songs_dataset/._r-kelly.txt  \n",
            "  inflating: data/songs_dataset/drake.txt  \n",
            "  inflating: data/__MACOSX/songs_dataset/._drake.txt  \n",
            "  inflating: data/songs_dataset/nicki-minaj.txt  \n",
            "  inflating: data/__MACOSX/songs_dataset/._nicki-minaj.txt  \n",
            "  inflating: data/songs_dataset/kanye-west.txt  \n",
            "  inflating: data/__MACOSX/songs_dataset/._kanye-west.txt  \n",
            "  inflating: data/songs_dataset/eminem.txt  \n",
            "  inflating: data/__MACOSX/songs_dataset/._eminem.txt  \n"
          ],
          "name": "stdout"
        }
      ]
    },
    {
      "cell_type": "markdown",
      "metadata": {
        "id": "RFWEVzXKvHLw",
        "colab_type": "text"
      },
      "source": [
        "### 2) Carga de datos y librerías"
      ]
    },
    {
      "cell_type": "code",
      "metadata": {
        "id": "MWE4Be7bmNAe",
        "colab_type": "code",
        "colab": {
          "base_uri": "https://localhost:8080/",
          "height": 71
        },
        "outputId": "5b4ca070-7c63-4ad9-cb2d-6276dd2d37bb"
      },
      "source": [
        "import tensorflow as tf\n",
        "from tensorflow import keras\n",
        "import numpy as np\n",
        "import matplotlib.pyplot as plt\n",
        "import pandas as pd\n",
        "import numpy as np\n",
        "\n",
        "from funpymodeling.exploratory import freq_tbl, status, profiling_num, cat_vars, num_vars\n",
        "from funpymodeling.data_prep import todf"
      ],
      "execution_count": 7,
      "outputs": [
        {
          "output_type": "stream",
          "text": [
            "/usr/local/lib/python3.6/dist-packages/statsmodels/tools/_testing.py:19: FutureWarning: pandas.util.testing is deprecated. Use the functions in the public API at pandas.testing instead.\n",
            "  import pandas.util.testing as tm\n"
          ],
          "name": "stderr"
        }
      ]
    },
    {
      "cell_type": "code",
      "metadata": {
        "id": "ij6BrAXrmPUq",
        "colab_type": "code",
        "colab": {}
      },
      "source": [
        "data=pd.read_csv('data/heart_disease.csv')"
      ],
      "execution_count": 8,
      "outputs": []
    },
    {
      "cell_type": "code",
      "metadata": {
        "id": "DOGWyAyJPwsi",
        "colab_type": "code",
        "colab": {
          "base_uri": "https://localhost:8080/",
          "height": 545
        },
        "outputId": "d6d24adb-3792-4ebb-b54b-a7c62de4bca7"
      },
      "source": [
        "status(data)"
      ],
      "execution_count": 9,
      "outputs": [
        {
          "output_type": "execute_result",
          "data": {
            "text/html": [
              "<div>\n",
              "<style scoped>\n",
              "    .dataframe tbody tr th:only-of-type {\n",
              "        vertical-align: middle;\n",
              "    }\n",
              "\n",
              "    .dataframe tbody tr th {\n",
              "        vertical-align: top;\n",
              "    }\n",
              "\n",
              "    .dataframe thead th {\n",
              "        text-align: right;\n",
              "    }\n",
              "</style>\n",
              "<table border=\"1\" class=\"dataframe\">\n",
              "  <thead>\n",
              "    <tr style=\"text-align: right;\">\n",
              "      <th></th>\n",
              "      <th>variable</th>\n",
              "      <th>q_nan</th>\n",
              "      <th>p_nan</th>\n",
              "      <th>q_zeros</th>\n",
              "      <th>p_zeros</th>\n",
              "      <th>unique</th>\n",
              "      <th>type</th>\n",
              "    </tr>\n",
              "  </thead>\n",
              "  <tbody>\n",
              "    <tr>\n",
              "      <th>0</th>\n",
              "      <td>age</td>\n",
              "      <td>0</td>\n",
              "      <td>0.000000</td>\n",
              "      <td>0</td>\n",
              "      <td>0.000000</td>\n",
              "      <td>41</td>\n",
              "      <td>int64</td>\n",
              "    </tr>\n",
              "    <tr>\n",
              "      <th>1</th>\n",
              "      <td>gender</td>\n",
              "      <td>0</td>\n",
              "      <td>0.000000</td>\n",
              "      <td>0</td>\n",
              "      <td>0.000000</td>\n",
              "      <td>2</td>\n",
              "      <td>object</td>\n",
              "    </tr>\n",
              "    <tr>\n",
              "      <th>2</th>\n",
              "      <td>chest_pain</td>\n",
              "      <td>0</td>\n",
              "      <td>0.000000</td>\n",
              "      <td>0</td>\n",
              "      <td>0.000000</td>\n",
              "      <td>4</td>\n",
              "      <td>int64</td>\n",
              "    </tr>\n",
              "    <tr>\n",
              "      <th>3</th>\n",
              "      <td>resting_blood_pressure</td>\n",
              "      <td>0</td>\n",
              "      <td>0.000000</td>\n",
              "      <td>0</td>\n",
              "      <td>0.000000</td>\n",
              "      <td>50</td>\n",
              "      <td>int64</td>\n",
              "    </tr>\n",
              "    <tr>\n",
              "      <th>4</th>\n",
              "      <td>serum_cholestoral</td>\n",
              "      <td>0</td>\n",
              "      <td>0.000000</td>\n",
              "      <td>0</td>\n",
              "      <td>0.000000</td>\n",
              "      <td>152</td>\n",
              "      <td>int64</td>\n",
              "    </tr>\n",
              "    <tr>\n",
              "      <th>5</th>\n",
              "      <td>fasting_blood_sugar</td>\n",
              "      <td>0</td>\n",
              "      <td>0.000000</td>\n",
              "      <td>258</td>\n",
              "      <td>0.851485</td>\n",
              "      <td>2</td>\n",
              "      <td>int64</td>\n",
              "    </tr>\n",
              "    <tr>\n",
              "      <th>6</th>\n",
              "      <td>resting_electro</td>\n",
              "      <td>0</td>\n",
              "      <td>0.000000</td>\n",
              "      <td>151</td>\n",
              "      <td>0.498350</td>\n",
              "      <td>3</td>\n",
              "      <td>int64</td>\n",
              "    </tr>\n",
              "    <tr>\n",
              "      <th>7</th>\n",
              "      <td>max_heart_rate</td>\n",
              "      <td>0</td>\n",
              "      <td>0.000000</td>\n",
              "      <td>0</td>\n",
              "      <td>0.000000</td>\n",
              "      <td>91</td>\n",
              "      <td>int64</td>\n",
              "    </tr>\n",
              "    <tr>\n",
              "      <th>8</th>\n",
              "      <td>exer_angina</td>\n",
              "      <td>0</td>\n",
              "      <td>0.000000</td>\n",
              "      <td>204</td>\n",
              "      <td>0.673267</td>\n",
              "      <td>2</td>\n",
              "      <td>int64</td>\n",
              "    </tr>\n",
              "    <tr>\n",
              "      <th>9</th>\n",
              "      <td>oldpeak</td>\n",
              "      <td>0</td>\n",
              "      <td>0.000000</td>\n",
              "      <td>99</td>\n",
              "      <td>0.326733</td>\n",
              "      <td>40</td>\n",
              "      <td>float64</td>\n",
              "    </tr>\n",
              "    <tr>\n",
              "      <th>10</th>\n",
              "      <td>slope</td>\n",
              "      <td>0</td>\n",
              "      <td>0.000000</td>\n",
              "      <td>0</td>\n",
              "      <td>0.000000</td>\n",
              "      <td>3</td>\n",
              "      <td>int64</td>\n",
              "    </tr>\n",
              "    <tr>\n",
              "      <th>11</th>\n",
              "      <td>num_vessels_flour</td>\n",
              "      <td>4</td>\n",
              "      <td>0.013201</td>\n",
              "      <td>176</td>\n",
              "      <td>0.580858</td>\n",
              "      <td>4</td>\n",
              "      <td>float64</td>\n",
              "    </tr>\n",
              "    <tr>\n",
              "      <th>12</th>\n",
              "      <td>thal</td>\n",
              "      <td>2</td>\n",
              "      <td>0.006601</td>\n",
              "      <td>0</td>\n",
              "      <td>0.000000</td>\n",
              "      <td>3</td>\n",
              "      <td>float64</td>\n",
              "    </tr>\n",
              "    <tr>\n",
              "      <th>13</th>\n",
              "      <td>heart_disease_severity</td>\n",
              "      <td>0</td>\n",
              "      <td>0.000000</td>\n",
              "      <td>164</td>\n",
              "      <td>0.541254</td>\n",
              "      <td>5</td>\n",
              "      <td>int64</td>\n",
              "    </tr>\n",
              "    <tr>\n",
              "      <th>14</th>\n",
              "      <td>exter_angina</td>\n",
              "      <td>0</td>\n",
              "      <td>0.000000</td>\n",
              "      <td>204</td>\n",
              "      <td>0.673267</td>\n",
              "      <td>2</td>\n",
              "      <td>int64</td>\n",
              "    </tr>\n",
              "    <tr>\n",
              "      <th>15</th>\n",
              "      <td>has_heart_disease</td>\n",
              "      <td>0</td>\n",
              "      <td>0.000000</td>\n",
              "      <td>0</td>\n",
              "      <td>0.000000</td>\n",
              "      <td>2</td>\n",
              "      <td>object</td>\n",
              "    </tr>\n",
              "  </tbody>\n",
              "</table>\n",
              "</div>"
            ],
            "text/plain": [
              "                  variable  q_nan     p_nan  q_zeros   p_zeros  unique     type\n",
              "0                      age      0  0.000000        0  0.000000      41    int64\n",
              "1                   gender      0  0.000000        0  0.000000       2   object\n",
              "2               chest_pain      0  0.000000        0  0.000000       4    int64\n",
              "3   resting_blood_pressure      0  0.000000        0  0.000000      50    int64\n",
              "4        serum_cholestoral      0  0.000000        0  0.000000     152    int64\n",
              "5      fasting_blood_sugar      0  0.000000      258  0.851485       2    int64\n",
              "6          resting_electro      0  0.000000      151  0.498350       3    int64\n",
              "7           max_heart_rate      0  0.000000        0  0.000000      91    int64\n",
              "8              exer_angina      0  0.000000      204  0.673267       2    int64\n",
              "9                  oldpeak      0  0.000000       99  0.326733      40  float64\n",
              "10                   slope      0  0.000000        0  0.000000       3    int64\n",
              "11       num_vessels_flour      4  0.013201      176  0.580858       4  float64\n",
              "12                    thal      2  0.006601        0  0.000000       3  float64\n",
              "13  heart_disease_severity      0  0.000000      164  0.541254       5    int64\n",
              "14            exter_angina      0  0.000000      204  0.673267       2    int64\n",
              "15       has_heart_disease      0  0.000000        0  0.000000       2   object"
            ]
          },
          "metadata": {
            "tags": []
          },
          "execution_count": 9
        }
      ]
    },
    {
      "cell_type": "code",
      "metadata": {
        "id": "DROmLoJMQAaY",
        "colab_type": "code",
        "colab": {
          "base_uri": "https://localhost:8080/",
          "height": 221
        },
        "outputId": "f2ea66ed-54be-46eb-80f2-4d0af24b82a7"
      },
      "source": [
        "freq_tbl(data)"
      ],
      "execution_count": 10,
      "outputs": [
        {
          "output_type": "stream",
          "text": [
            "   gender  frequency  percentage  cumulative_perc\n",
            "0    male        206    0.679868         0.679868\n",
            "1  female         97    0.320132         1.000000\n",
            "\n",
            "----------------------------------------------------------------\n",
            "\n",
            "  has_heart_disease  frequency  percentage  cumulative_perc\n",
            "0                no        164    0.541254         0.541254\n",
            "1               yes        139    0.458746         1.000000\n",
            "\n",
            "----------------------------------------------------------------\n",
            "\n"
          ],
          "name": "stdout"
        }
      ]
    },
    {
      "cell_type": "code",
      "metadata": {
        "id": "H4FWbIWVQLIx",
        "colab_type": "code",
        "colab": {
          "base_uri": "https://localhost:8080/",
          "height": 483
        },
        "outputId": "7619ce87-edde-4910-e002-d664f0308ec2"
      },
      "source": [
        "profiling_num(data)"
      ],
      "execution_count": 11,
      "outputs": [
        {
          "output_type": "execute_result",
          "data": {
            "text/html": [
              "<div>\n",
              "<style scoped>\n",
              "    .dataframe tbody tr th:only-of-type {\n",
              "        vertical-align: middle;\n",
              "    }\n",
              "\n",
              "    .dataframe tbody tr th {\n",
              "        vertical-align: top;\n",
              "    }\n",
              "\n",
              "    .dataframe thead th {\n",
              "        text-align: right;\n",
              "    }\n",
              "</style>\n",
              "<table border=\"1\" class=\"dataframe\">\n",
              "  <thead>\n",
              "    <tr style=\"text-align: right;\">\n",
              "      <th></th>\n",
              "      <th>variable</th>\n",
              "      <th>mean</th>\n",
              "      <th>std_dev</th>\n",
              "      <th>variation_coef</th>\n",
              "      <th>p_0.01</th>\n",
              "      <th>p_0.05</th>\n",
              "      <th>p_0.25</th>\n",
              "      <th>p_0.5</th>\n",
              "      <th>p_0.75</th>\n",
              "      <th>p_0.95</th>\n",
              "      <th>p_0.99</th>\n",
              "    </tr>\n",
              "  </thead>\n",
              "  <tbody>\n",
              "    <tr>\n",
              "      <th>0</th>\n",
              "      <td>age</td>\n",
              "      <td>54.438944</td>\n",
              "      <td>9.038662</td>\n",
              "      <td>0.166033</td>\n",
              "      <td>35.00</td>\n",
              "      <td>40.0</td>\n",
              "      <td>48.0</td>\n",
              "      <td>56.0</td>\n",
              "      <td>61.0</td>\n",
              "      <td>68.0</td>\n",
              "      <td>71.00</td>\n",
              "    </tr>\n",
              "    <tr>\n",
              "      <th>1</th>\n",
              "      <td>chest_pain</td>\n",
              "      <td>3.158416</td>\n",
              "      <td>0.960126</td>\n",
              "      <td>0.303990</td>\n",
              "      <td>1.00</td>\n",
              "      <td>1.0</td>\n",
              "      <td>3.0</td>\n",
              "      <td>3.0</td>\n",
              "      <td>4.0</td>\n",
              "      <td>4.0</td>\n",
              "      <td>4.00</td>\n",
              "    </tr>\n",
              "    <tr>\n",
              "      <th>2</th>\n",
              "      <td>resting_blood_pressure</td>\n",
              "      <td>131.689769</td>\n",
              "      <td>17.599748</td>\n",
              "      <td>0.133646</td>\n",
              "      <td>100.00</td>\n",
              "      <td>108.0</td>\n",
              "      <td>120.0</td>\n",
              "      <td>130.0</td>\n",
              "      <td>140.0</td>\n",
              "      <td>160.0</td>\n",
              "      <td>180.00</td>\n",
              "    </tr>\n",
              "    <tr>\n",
              "      <th>3</th>\n",
              "      <td>serum_cholestoral</td>\n",
              "      <td>246.693069</td>\n",
              "      <td>51.776918</td>\n",
              "      <td>0.209884</td>\n",
              "      <td>149.00</td>\n",
              "      <td>175.1</td>\n",
              "      <td>211.0</td>\n",
              "      <td>241.0</td>\n",
              "      <td>275.0</td>\n",
              "      <td>326.9</td>\n",
              "      <td>406.74</td>\n",
              "    </tr>\n",
              "    <tr>\n",
              "      <th>4</th>\n",
              "      <td>fasting_blood_sugar</td>\n",
              "      <td>0.148515</td>\n",
              "      <td>0.356198</td>\n",
              "      <td>2.398399</td>\n",
              "      <td>0.00</td>\n",
              "      <td>0.0</td>\n",
              "      <td>0.0</td>\n",
              "      <td>0.0</td>\n",
              "      <td>0.0</td>\n",
              "      <td>1.0</td>\n",
              "      <td>1.00</td>\n",
              "    </tr>\n",
              "    <tr>\n",
              "      <th>5</th>\n",
              "      <td>resting_electro</td>\n",
              "      <td>0.990099</td>\n",
              "      <td>0.994971</td>\n",
              "      <td>1.004921</td>\n",
              "      <td>0.00</td>\n",
              "      <td>0.0</td>\n",
              "      <td>0.0</td>\n",
              "      <td>1.0</td>\n",
              "      <td>2.0</td>\n",
              "      <td>2.0</td>\n",
              "      <td>2.00</td>\n",
              "    </tr>\n",
              "    <tr>\n",
              "      <th>6</th>\n",
              "      <td>max_heart_rate</td>\n",
              "      <td>149.607261</td>\n",
              "      <td>22.875003</td>\n",
              "      <td>0.152900</td>\n",
              "      <td>95.02</td>\n",
              "      <td>108.1</td>\n",
              "      <td>133.5</td>\n",
              "      <td>153.0</td>\n",
              "      <td>166.0</td>\n",
              "      <td>181.9</td>\n",
              "      <td>191.96</td>\n",
              "    </tr>\n",
              "    <tr>\n",
              "      <th>7</th>\n",
              "      <td>exer_angina</td>\n",
              "      <td>0.326733</td>\n",
              "      <td>0.469794</td>\n",
              "      <td>1.437856</td>\n",
              "      <td>0.00</td>\n",
              "      <td>0.0</td>\n",
              "      <td>0.0</td>\n",
              "      <td>0.0</td>\n",
              "      <td>1.0</td>\n",
              "      <td>1.0</td>\n",
              "      <td>1.00</td>\n",
              "    </tr>\n",
              "    <tr>\n",
              "      <th>8</th>\n",
              "      <td>oldpeak</td>\n",
              "      <td>1.039604</td>\n",
              "      <td>1.161075</td>\n",
              "      <td>1.116844</td>\n",
              "      <td>0.00</td>\n",
              "      <td>0.0</td>\n",
              "      <td>0.0</td>\n",
              "      <td>0.8</td>\n",
              "      <td>1.6</td>\n",
              "      <td>3.4</td>\n",
              "      <td>4.20</td>\n",
              "    </tr>\n",
              "    <tr>\n",
              "      <th>9</th>\n",
              "      <td>slope</td>\n",
              "      <td>1.600660</td>\n",
              "      <td>0.616226</td>\n",
              "      <td>0.384983</td>\n",
              "      <td>1.00</td>\n",
              "      <td>1.0</td>\n",
              "      <td>1.0</td>\n",
              "      <td>2.0</td>\n",
              "      <td>2.0</td>\n",
              "      <td>3.0</td>\n",
              "      <td>3.00</td>\n",
              "    </tr>\n",
              "    <tr>\n",
              "      <th>10</th>\n",
              "      <td>num_vessels_flour</td>\n",
              "      <td>0.672241</td>\n",
              "      <td>0.937438</td>\n",
              "      <td>1.394498</td>\n",
              "      <td>0.00</td>\n",
              "      <td>0.0</td>\n",
              "      <td>0.0</td>\n",
              "      <td>0.0</td>\n",
              "      <td>1.0</td>\n",
              "      <td>3.0</td>\n",
              "      <td>3.00</td>\n",
              "    </tr>\n",
              "    <tr>\n",
              "      <th>11</th>\n",
              "      <td>thal</td>\n",
              "      <td>4.734219</td>\n",
              "      <td>1.939706</td>\n",
              "      <td>0.409720</td>\n",
              "      <td>3.00</td>\n",
              "      <td>3.0</td>\n",
              "      <td>3.0</td>\n",
              "      <td>3.0</td>\n",
              "      <td>7.0</td>\n",
              "      <td>7.0</td>\n",
              "      <td>7.00</td>\n",
              "    </tr>\n",
              "    <tr>\n",
              "      <th>12</th>\n",
              "      <td>heart_disease_severity</td>\n",
              "      <td>0.937294</td>\n",
              "      <td>1.228536</td>\n",
              "      <td>1.310726</td>\n",
              "      <td>0.00</td>\n",
              "      <td>0.0</td>\n",
              "      <td>0.0</td>\n",
              "      <td>0.0</td>\n",
              "      <td>2.0</td>\n",
              "      <td>3.0</td>\n",
              "      <td>4.00</td>\n",
              "    </tr>\n",
              "    <tr>\n",
              "      <th>13</th>\n",
              "      <td>exter_angina</td>\n",
              "      <td>0.326733</td>\n",
              "      <td>0.469794</td>\n",
              "      <td>1.437856</td>\n",
              "      <td>0.00</td>\n",
              "      <td>0.0</td>\n",
              "      <td>0.0</td>\n",
              "      <td>0.0</td>\n",
              "      <td>1.0</td>\n",
              "      <td>1.0</td>\n",
              "      <td>1.00</td>\n",
              "    </tr>\n",
              "  </tbody>\n",
              "</table>\n",
              "</div>"
            ],
            "text/plain": [
              "                  variable        mean    std_dev  ...  p_0.75  p_0.95  p_0.99\n",
              "0                      age   54.438944   9.038662  ...    61.0    68.0   71.00\n",
              "1               chest_pain    3.158416   0.960126  ...     4.0     4.0    4.00\n",
              "2   resting_blood_pressure  131.689769  17.599748  ...   140.0   160.0  180.00\n",
              "3        serum_cholestoral  246.693069  51.776918  ...   275.0   326.9  406.74\n",
              "4      fasting_blood_sugar    0.148515   0.356198  ...     0.0     1.0    1.00\n",
              "5          resting_electro    0.990099   0.994971  ...     2.0     2.0    2.00\n",
              "6           max_heart_rate  149.607261  22.875003  ...   166.0   181.9  191.96\n",
              "7              exer_angina    0.326733   0.469794  ...     1.0     1.0    1.00\n",
              "8                  oldpeak    1.039604   1.161075  ...     1.6     3.4    4.20\n",
              "9                    slope    1.600660   0.616226  ...     2.0     3.0    3.00\n",
              "10       num_vessels_flour    0.672241   0.937438  ...     1.0     3.0    3.00\n",
              "11                    thal    4.734219   1.939706  ...     7.0     7.0    7.00\n",
              "12  heart_disease_severity    0.937294   1.228536  ...     2.0     3.0    4.00\n",
              "13            exter_angina    0.326733   0.469794  ...     1.0     1.0    1.00\n",
              "\n",
              "[14 rows x 11 columns]"
            ]
          },
          "metadata": {
            "tags": []
          },
          "execution_count": 11
        }
      ]
    },
    {
      "cell_type": "markdown",
      "metadata": {
        "id": "CwpcWNKmDJBl",
        "colab_type": "text"
      },
      "source": [
        "### 3) Preparación de datos\n",
        "\n"
      ]
    },
    {
      "cell_type": "code",
      "metadata": {
        "id": "BnbnzJFrvVZC",
        "colab_type": "code",
        "colab": {}
      },
      "source": [
        "# Eliminamos los NaN (en este caso no impacta eliminar los NA)\n",
        "data=data.dropna()"
      ],
      "execution_count": 12,
      "outputs": []
    },
    {
      "cell_type": "code",
      "metadata": {
        "id": "3issxIz1mcBT",
        "colab_type": "code",
        "colab": {
          "base_uri": "https://localhost:8080/",
          "height": 545
        },
        "outputId": "d56701c2-0c28-4ee9-b418-7044924a35de"
      },
      "source": [
        "status(data)"
      ],
      "execution_count": 13,
      "outputs": [
        {
          "output_type": "execute_result",
          "data": {
            "text/html": [
              "<div>\n",
              "<style scoped>\n",
              "    .dataframe tbody tr th:only-of-type {\n",
              "        vertical-align: middle;\n",
              "    }\n",
              "\n",
              "    .dataframe tbody tr th {\n",
              "        vertical-align: top;\n",
              "    }\n",
              "\n",
              "    .dataframe thead th {\n",
              "        text-align: right;\n",
              "    }\n",
              "</style>\n",
              "<table border=\"1\" class=\"dataframe\">\n",
              "  <thead>\n",
              "    <tr style=\"text-align: right;\">\n",
              "      <th></th>\n",
              "      <th>variable</th>\n",
              "      <th>q_nan</th>\n",
              "      <th>p_nan</th>\n",
              "      <th>q_zeros</th>\n",
              "      <th>p_zeros</th>\n",
              "      <th>unique</th>\n",
              "      <th>type</th>\n",
              "    </tr>\n",
              "  </thead>\n",
              "  <tbody>\n",
              "    <tr>\n",
              "      <th>0</th>\n",
              "      <td>age</td>\n",
              "      <td>0</td>\n",
              "      <td>0.0</td>\n",
              "      <td>0</td>\n",
              "      <td>0.000000</td>\n",
              "      <td>41</td>\n",
              "      <td>int64</td>\n",
              "    </tr>\n",
              "    <tr>\n",
              "      <th>1</th>\n",
              "      <td>gender</td>\n",
              "      <td>0</td>\n",
              "      <td>0.0</td>\n",
              "      <td>0</td>\n",
              "      <td>0.000000</td>\n",
              "      <td>2</td>\n",
              "      <td>object</td>\n",
              "    </tr>\n",
              "    <tr>\n",
              "      <th>2</th>\n",
              "      <td>chest_pain</td>\n",
              "      <td>0</td>\n",
              "      <td>0.0</td>\n",
              "      <td>0</td>\n",
              "      <td>0.000000</td>\n",
              "      <td>4</td>\n",
              "      <td>int64</td>\n",
              "    </tr>\n",
              "    <tr>\n",
              "      <th>3</th>\n",
              "      <td>resting_blood_pressure</td>\n",
              "      <td>0</td>\n",
              "      <td>0.0</td>\n",
              "      <td>0</td>\n",
              "      <td>0.000000</td>\n",
              "      <td>50</td>\n",
              "      <td>int64</td>\n",
              "    </tr>\n",
              "    <tr>\n",
              "      <th>4</th>\n",
              "      <td>serum_cholestoral</td>\n",
              "      <td>0</td>\n",
              "      <td>0.0</td>\n",
              "      <td>0</td>\n",
              "      <td>0.000000</td>\n",
              "      <td>152</td>\n",
              "      <td>int64</td>\n",
              "    </tr>\n",
              "    <tr>\n",
              "      <th>5</th>\n",
              "      <td>fasting_blood_sugar</td>\n",
              "      <td>0</td>\n",
              "      <td>0.0</td>\n",
              "      <td>254</td>\n",
              "      <td>0.855219</td>\n",
              "      <td>2</td>\n",
              "      <td>int64</td>\n",
              "    </tr>\n",
              "    <tr>\n",
              "      <th>6</th>\n",
              "      <td>resting_electro</td>\n",
              "      <td>0</td>\n",
              "      <td>0.0</td>\n",
              "      <td>147</td>\n",
              "      <td>0.494949</td>\n",
              "      <td>3</td>\n",
              "      <td>int64</td>\n",
              "    </tr>\n",
              "    <tr>\n",
              "      <th>7</th>\n",
              "      <td>max_heart_rate</td>\n",
              "      <td>0</td>\n",
              "      <td>0.0</td>\n",
              "      <td>0</td>\n",
              "      <td>0.000000</td>\n",
              "      <td>91</td>\n",
              "      <td>int64</td>\n",
              "    </tr>\n",
              "    <tr>\n",
              "      <th>8</th>\n",
              "      <td>exer_angina</td>\n",
              "      <td>0</td>\n",
              "      <td>0.0</td>\n",
              "      <td>200</td>\n",
              "      <td>0.673401</td>\n",
              "      <td>2</td>\n",
              "      <td>int64</td>\n",
              "    </tr>\n",
              "    <tr>\n",
              "      <th>9</th>\n",
              "      <td>oldpeak</td>\n",
              "      <td>0</td>\n",
              "      <td>0.0</td>\n",
              "      <td>96</td>\n",
              "      <td>0.323232</td>\n",
              "      <td>40</td>\n",
              "      <td>float64</td>\n",
              "    </tr>\n",
              "    <tr>\n",
              "      <th>10</th>\n",
              "      <td>slope</td>\n",
              "      <td>0</td>\n",
              "      <td>0.0</td>\n",
              "      <td>0</td>\n",
              "      <td>0.000000</td>\n",
              "      <td>3</td>\n",
              "      <td>int64</td>\n",
              "    </tr>\n",
              "    <tr>\n",
              "      <th>11</th>\n",
              "      <td>num_vessels_flour</td>\n",
              "      <td>0</td>\n",
              "      <td>0.0</td>\n",
              "      <td>174</td>\n",
              "      <td>0.585859</td>\n",
              "      <td>4</td>\n",
              "      <td>float64</td>\n",
              "    </tr>\n",
              "    <tr>\n",
              "      <th>12</th>\n",
              "      <td>thal</td>\n",
              "      <td>0</td>\n",
              "      <td>0.0</td>\n",
              "      <td>0</td>\n",
              "      <td>0.000000</td>\n",
              "      <td>3</td>\n",
              "      <td>float64</td>\n",
              "    </tr>\n",
              "    <tr>\n",
              "      <th>13</th>\n",
              "      <td>heart_disease_severity</td>\n",
              "      <td>0</td>\n",
              "      <td>0.0</td>\n",
              "      <td>160</td>\n",
              "      <td>0.538721</td>\n",
              "      <td>5</td>\n",
              "      <td>int64</td>\n",
              "    </tr>\n",
              "    <tr>\n",
              "      <th>14</th>\n",
              "      <td>exter_angina</td>\n",
              "      <td>0</td>\n",
              "      <td>0.0</td>\n",
              "      <td>200</td>\n",
              "      <td>0.673401</td>\n",
              "      <td>2</td>\n",
              "      <td>int64</td>\n",
              "    </tr>\n",
              "    <tr>\n",
              "      <th>15</th>\n",
              "      <td>has_heart_disease</td>\n",
              "      <td>0</td>\n",
              "      <td>0.0</td>\n",
              "      <td>0</td>\n",
              "      <td>0.000000</td>\n",
              "      <td>2</td>\n",
              "      <td>object</td>\n",
              "    </tr>\n",
              "  </tbody>\n",
              "</table>\n",
              "</div>"
            ],
            "text/plain": [
              "                  variable  q_nan  p_nan  q_zeros   p_zeros  unique     type\n",
              "0                      age      0    0.0        0  0.000000      41    int64\n",
              "1                   gender      0    0.0        0  0.000000       2   object\n",
              "2               chest_pain      0    0.0        0  0.000000       4    int64\n",
              "3   resting_blood_pressure      0    0.0        0  0.000000      50    int64\n",
              "4        serum_cholestoral      0    0.0        0  0.000000     152    int64\n",
              "5      fasting_blood_sugar      0    0.0      254  0.855219       2    int64\n",
              "6          resting_electro      0    0.0      147  0.494949       3    int64\n",
              "7           max_heart_rate      0    0.0        0  0.000000      91    int64\n",
              "8              exer_angina      0    0.0      200  0.673401       2    int64\n",
              "9                  oldpeak      0    0.0       96  0.323232      40  float64\n",
              "10                   slope      0    0.0        0  0.000000       3    int64\n",
              "11       num_vessels_flour      0    0.0      174  0.585859       4  float64\n",
              "12                    thal      0    0.0        0  0.000000       3  float64\n",
              "13  heart_disease_severity      0    0.0      160  0.538721       5    int64\n",
              "14            exter_angina      0    0.0      200  0.673401       2    int64\n",
              "15       has_heart_disease      0    0.0        0  0.000000       2   object"
            ]
          },
          "metadata": {
            "tags": []
          },
          "execution_count": 13
        }
      ]
    },
    {
      "cell_type": "code",
      "metadata": {
        "id": "ZRD6c0cd1aV8",
        "colab_type": "code",
        "colab": {
          "base_uri": "https://localhost:8080/",
          "height": 1000
        },
        "outputId": "386d5677-2067-4034-8210-7b051bb2754c"
      },
      "source": [
        "from keras.utils import to_categorical \n",
        "\n",
        "# La lectura y 'preparación' se las dejo hecha:\n",
        "data['target'] = data['has_heart_disease'].apply(lambda x: 1 if x == 'yes' else 0)\n",
        "\n",
        "data_x=data.drop(['target','heart_disease_severity','gender','has_heart_disease'], axis=1)\n",
        "data_y=to_categorical(data['target'], num_classes=2)\n",
        "\n",
        "data_y"
      ],
      "execution_count": 14,
      "outputs": [
        {
          "output_type": "execute_result",
          "data": {
            "text/plain": [
              "array([[1., 0.],\n",
              "       [0., 1.],\n",
              "       [0., 1.],\n",
              "       [1., 0.],\n",
              "       [1., 0.],\n",
              "       [1., 0.],\n",
              "       [0., 1.],\n",
              "       [1., 0.],\n",
              "       [0., 1.],\n",
              "       [0., 1.],\n",
              "       [1., 0.],\n",
              "       [1., 0.],\n",
              "       [0., 1.],\n",
              "       [1., 0.],\n",
              "       [1., 0.],\n",
              "       [1., 0.],\n",
              "       [0., 1.],\n",
              "       [1., 0.],\n",
              "       [1., 0.],\n",
              "       [1., 0.],\n",
              "       [1., 0.],\n",
              "       [1., 0.],\n",
              "       [0., 1.],\n",
              "       [0., 1.],\n",
              "       [0., 1.],\n",
              "       [1., 0.],\n",
              "       [1., 0.],\n",
              "       [1., 0.],\n",
              "       [1., 0.],\n",
              "       [0., 1.],\n",
              "       [1., 0.],\n",
              "       [0., 1.],\n",
              "       [0., 1.],\n",
              "       [1., 0.],\n",
              "       [1., 0.],\n",
              "       [1., 0.],\n",
              "       [0., 1.],\n",
              "       [0., 1.],\n",
              "       [0., 1.],\n",
              "       [1., 0.],\n",
              "       [0., 1.],\n",
              "       [1., 0.],\n",
              "       [1., 0.],\n",
              "       [1., 0.],\n",
              "       [0., 1.],\n",
              "       [0., 1.],\n",
              "       [1., 0.],\n",
              "       [0., 1.],\n",
              "       [1., 0.],\n",
              "       [1., 0.],\n",
              "       [1., 0.],\n",
              "       [1., 0.],\n",
              "       [0., 1.],\n",
              "       [1., 0.],\n",
              "       [0., 1.],\n",
              "       [0., 1.],\n",
              "       [0., 1.],\n",
              "       [0., 1.],\n",
              "       [1., 0.],\n",
              "       [1., 0.],\n",
              "       [0., 1.],\n",
              "       [1., 0.],\n",
              "       [0., 1.],\n",
              "       [1., 0.],\n",
              "       [0., 1.],\n",
              "       [0., 1.],\n",
              "       [0., 1.],\n",
              "       [1., 0.],\n",
              "       [0., 1.],\n",
              "       [0., 1.],\n",
              "       [1., 0.],\n",
              "       [0., 1.],\n",
              "       [0., 1.],\n",
              "       [0., 1.],\n",
              "       [0., 1.],\n",
              "       [1., 0.],\n",
              "       [0., 1.],\n",
              "       [1., 0.],\n",
              "       [1., 0.],\n",
              "       [0., 1.],\n",
              "       [1., 0.],\n",
              "       [1., 0.],\n",
              "       [1., 0.],\n",
              "       [0., 1.],\n",
              "       [1., 0.],\n",
              "       [1., 0.],\n",
              "       [1., 0.],\n",
              "       [1., 0.],\n",
              "       [1., 0.],\n",
              "       [1., 0.],\n",
              "       [0., 1.],\n",
              "       [1., 0.],\n",
              "       [1., 0.],\n",
              "       [1., 0.],\n",
              "       [0., 1.],\n",
              "       [0., 1.],\n",
              "       [0., 1.],\n",
              "       [1., 0.],\n",
              "       [1., 0.],\n",
              "       [1., 0.],\n",
              "       [1., 0.],\n",
              "       [1., 0.],\n",
              "       [1., 0.],\n",
              "       [0., 1.],\n",
              "       [1., 0.],\n",
              "       [0., 1.],\n",
              "       [0., 1.],\n",
              "       [0., 1.],\n",
              "       [0., 1.],\n",
              "       [0., 1.],\n",
              "       [0., 1.],\n",
              "       [1., 0.],\n",
              "       [0., 1.],\n",
              "       [0., 1.],\n",
              "       [1., 0.],\n",
              "       [1., 0.],\n",
              "       [1., 0.],\n",
              "       [0., 1.],\n",
              "       [0., 1.],\n",
              "       [0., 1.],\n",
              "       [0., 1.],\n",
              "       [1., 0.],\n",
              "       [0., 1.],\n",
              "       [0., 1.],\n",
              "       [1., 0.],\n",
              "       [0., 1.],\n",
              "       [0., 1.],\n",
              "       [1., 0.],\n",
              "       [1., 0.],\n",
              "       [1., 0.],\n",
              "       [1., 0.],\n",
              "       [1., 0.],\n",
              "       [1., 0.],\n",
              "       [1., 0.],\n",
              "       [1., 0.],\n",
              "       [0., 1.],\n",
              "       [0., 1.],\n",
              "       [0., 1.],\n",
              "       [1., 0.],\n",
              "       [1., 0.],\n",
              "       [0., 1.],\n",
              "       [1., 0.],\n",
              "       [0., 1.],\n",
              "       [1., 0.],\n",
              "       [0., 1.],\n",
              "       [0., 1.],\n",
              "       [1., 0.],\n",
              "       [1., 0.],\n",
              "       [1., 0.],\n",
              "       [1., 0.],\n",
              "       [1., 0.],\n",
              "       [1., 0.],\n",
              "       [0., 1.],\n",
              "       [0., 1.],\n",
              "       [0., 1.],\n",
              "       [0., 1.],\n",
              "       [0., 1.],\n",
              "       [0., 1.],\n",
              "       [1., 0.],\n",
              "       [1., 0.],\n",
              "       [0., 1.],\n",
              "       [1., 0.],\n",
              "       [1., 0.],\n",
              "       [1., 0.],\n",
              "       [1., 0.],\n",
              "       [1., 0.],\n",
              "       [0., 1.],\n",
              "       [1., 0.],\n",
              "       [0., 1.],\n",
              "       [1., 0.],\n",
              "       [0., 1.],\n",
              "       [1., 0.],\n",
              "       [0., 1.],\n",
              "       [0., 1.],\n",
              "       [1., 0.],\n",
              "       [0., 1.],\n",
              "       [1., 0.],\n",
              "       [1., 0.],\n",
              "       [0., 1.],\n",
              "       [0., 1.],\n",
              "       [1., 0.],\n",
              "       [1., 0.],\n",
              "       [0., 1.],\n",
              "       [1., 0.],\n",
              "       [1., 0.],\n",
              "       [0., 1.],\n",
              "       [0., 1.],\n",
              "       [0., 1.],\n",
              "       [1., 0.],\n",
              "       [0., 1.],\n",
              "       [0., 1.],\n",
              "       [1., 0.],\n",
              "       [0., 1.],\n",
              "       [1., 0.],\n",
              "       [1., 0.],\n",
              "       [1., 0.],\n",
              "       [0., 1.],\n",
              "       [1., 0.],\n",
              "       [1., 0.],\n",
              "       [1., 0.],\n",
              "       [1., 0.],\n",
              "       [1., 0.],\n",
              "       [0., 1.],\n",
              "       [0., 1.],\n",
              "       [0., 1.],\n",
              "       [1., 0.],\n",
              "       [0., 1.],\n",
              "       [1., 0.],\n",
              "       [0., 1.],\n",
              "       [1., 0.],\n",
              "       [0., 1.],\n",
              "       [0., 1.],\n",
              "       [1., 0.],\n",
              "       [1., 0.],\n",
              "       [1., 0.],\n",
              "       [1., 0.],\n",
              "       [1., 0.],\n",
              "       [1., 0.],\n",
              "       [1., 0.],\n",
              "       [1., 0.],\n",
              "       [0., 1.],\n",
              "       [0., 1.],\n",
              "       [1., 0.],\n",
              "       [1., 0.],\n",
              "       [1., 0.],\n",
              "       [0., 1.],\n",
              "       [0., 1.],\n",
              "       [1., 0.],\n",
              "       [0., 1.],\n",
              "       [0., 1.],\n",
              "       [1., 0.],\n",
              "       [1., 0.],\n",
              "       [0., 1.],\n",
              "       [0., 1.],\n",
              "       [0., 1.],\n",
              "       [1., 0.],\n",
              "       [1., 0.],\n",
              "       [1., 0.],\n",
              "       [1., 0.],\n",
              "       [1., 0.],\n",
              "       [0., 1.],\n",
              "       [1., 0.],\n",
              "       [0., 1.],\n",
              "       [0., 1.],\n",
              "       [0., 1.],\n",
              "       [0., 1.],\n",
              "       [1., 0.],\n",
              "       [1., 0.],\n",
              "       [0., 1.],\n",
              "       [1., 0.],\n",
              "       [1., 0.],\n",
              "       [1., 0.],\n",
              "       [1., 0.],\n",
              "       [1., 0.],\n",
              "       [1., 0.],\n",
              "       [1., 0.],\n",
              "       [0., 1.],\n",
              "       [1., 0.],\n",
              "       [0., 1.],\n",
              "       [1., 0.],\n",
              "       [1., 0.],\n",
              "       [0., 1.],\n",
              "       [0., 1.],\n",
              "       [0., 1.],\n",
              "       [0., 1.],\n",
              "       [1., 0.],\n",
              "       [0., 1.],\n",
              "       [1., 0.],\n",
              "       [0., 1.],\n",
              "       [1., 0.],\n",
              "       [0., 1.],\n",
              "       [1., 0.],\n",
              "       [1., 0.],\n",
              "       [1., 0.],\n",
              "       [0., 1.],\n",
              "       [1., 0.],\n",
              "       [0., 1.],\n",
              "       [1., 0.],\n",
              "       [0., 1.],\n",
              "       [1., 0.],\n",
              "       [0., 1.],\n",
              "       [0., 1.],\n",
              "       [0., 1.],\n",
              "       [1., 0.],\n",
              "       [1., 0.],\n",
              "       [0., 1.],\n",
              "       [1., 0.],\n",
              "       [0., 1.],\n",
              "       [0., 1.],\n",
              "       [0., 1.],\n",
              "       [1., 0.],\n",
              "       [0., 1.],\n",
              "       [0., 1.],\n",
              "       [0., 1.],\n",
              "       [0., 1.],\n",
              "       [0., 1.],\n",
              "       [0., 1.]], dtype=float32)"
            ]
          },
          "metadata": {
            "tags": []
          },
          "execution_count": 14
        }
      ]
    },
    {
      "cell_type": "code",
      "metadata": {
        "id": "OmWw1xomv-vQ",
        "colab_type": "code",
        "colab": {}
      },
      "source": [
        "# Explorar `to_categorical`..."
      ],
      "execution_count": 15,
      "outputs": []
    },
    {
      "cell_type": "markdown",
      "metadata": {
        "id": "ib9qWuNFvsyD",
        "colab_type": "text"
      },
      "source": [
        "Importante: **Normalizar** los datos."
      ]
    },
    {
      "cell_type": "code",
      "metadata": {
        "id": "S6aPuk-oKhWk",
        "colab_type": "code",
        "colab": {}
      },
      "source": [
        "from sklearn.preprocessing import MinMaxScaler\n",
        "scaler = MinMaxScaler()\n",
        "data_x = scaler.fit_transform(data_x)"
      ],
      "execution_count": 16,
      "outputs": []
    },
    {
      "cell_type": "markdown",
      "metadata": {
        "id": "gDJC4mg2vzuD",
        "colab_type": "text"
      },
      "source": [
        "Separación tr/ts:"
      ]
    },
    {
      "cell_type": "code",
      "metadata": {
        "id": "NkcW_lAD1WCH",
        "colab_type": "code",
        "colab": {}
      },
      "source": [
        "from sklearn.model_selection import train_test_split\n",
        "\n",
        "x_train, x_test, y_train, y_test = train_test_split(data_x, data_y, test_size=0.2)"
      ],
      "execution_count": 17,
      "outputs": []
    },
    {
      "cell_type": "code",
      "metadata": {
        "id": "86FY5kWq1mar",
        "colab_type": "code",
        "colab": {
          "base_uri": "https://localhost:8080/",
          "height": 34
        },
        "outputId": "3bf3fb25-99c3-4b6e-8498-ff8c8e3eb33b"
      },
      "source": [
        "x_train.shape"
      ],
      "execution_count": 18,
      "outputs": [
        {
          "output_type": "execute_result",
          "data": {
            "text/plain": [
              "(237, 13)"
            ]
          },
          "metadata": {
            "tags": []
          },
          "execution_count": 18
        }
      ]
    },
    {
      "cell_type": "code",
      "metadata": {
        "id": "96C-o3XtDvBE",
        "colab_type": "code",
        "colab": {
          "base_uri": "https://localhost:8080/",
          "height": 34
        },
        "outputId": "05452f0a-4ed1-4952-f093-a200e0e503ce"
      },
      "source": [
        "y_train.shape"
      ],
      "execution_count": 19,
      "outputs": [
        {
          "output_type": "execute_result",
          "data": {
            "text/plain": [
              "(237, 2)"
            ]
          },
          "metadata": {
            "tags": []
          },
          "execution_count": 19
        }
      ]
    },
    {
      "cell_type": "markdown",
      "metadata": {
        "id": "8p6UrYsqXkbl",
        "colab_type": "text"
      },
      "source": [
        "#### Entrenamiento del modelo"
      ]
    },
    {
      "cell_type": "code",
      "metadata": {
        "id": "DDqipKZ45GYZ",
        "colab_type": "code",
        "colab": {
          "base_uri": "https://localhost:8080/",
          "height": 452
        },
        "outputId": "8d3ecd61-be01-4dd0-882a-2d052b212ce0"
      },
      "source": [
        "x_train.shape\n",
        "status(x_train)"
      ],
      "execution_count": 21,
      "outputs": [
        {
          "output_type": "execute_result",
          "data": {
            "text/html": [
              "<div>\n",
              "<style scoped>\n",
              "    .dataframe tbody tr th:only-of-type {\n",
              "        vertical-align: middle;\n",
              "    }\n",
              "\n",
              "    .dataframe tbody tr th {\n",
              "        vertical-align: top;\n",
              "    }\n",
              "\n",
              "    .dataframe thead th {\n",
              "        text-align: right;\n",
              "    }\n",
              "</style>\n",
              "<table border=\"1\" class=\"dataframe\">\n",
              "  <thead>\n",
              "    <tr style=\"text-align: right;\">\n",
              "      <th></th>\n",
              "      <th>variable</th>\n",
              "      <th>q_nan</th>\n",
              "      <th>p_nan</th>\n",
              "      <th>q_zeros</th>\n",
              "      <th>p_zeros</th>\n",
              "      <th>unique</th>\n",
              "      <th>type</th>\n",
              "    </tr>\n",
              "  </thead>\n",
              "  <tbody>\n",
              "    <tr>\n",
              "      <th>0</th>\n",
              "      <td>0</td>\n",
              "      <td>0</td>\n",
              "      <td>0.0</td>\n",
              "      <td>1.0</td>\n",
              "      <td>0.004219</td>\n",
              "      <td>40</td>\n",
              "      <td>float64</td>\n",
              "    </tr>\n",
              "    <tr>\n",
              "      <th>1</th>\n",
              "      <td>1</td>\n",
              "      <td>0</td>\n",
              "      <td>0.0</td>\n",
              "      <td>19.0</td>\n",
              "      <td>0.080169</td>\n",
              "      <td>4</td>\n",
              "      <td>float64</td>\n",
              "    </tr>\n",
              "    <tr>\n",
              "      <th>2</th>\n",
              "      <td>2</td>\n",
              "      <td>0</td>\n",
              "      <td>0.0</td>\n",
              "      <td>2.0</td>\n",
              "      <td>0.008439</td>\n",
              "      <td>47</td>\n",
              "      <td>float64</td>\n",
              "    </tr>\n",
              "    <tr>\n",
              "      <th>3</th>\n",
              "      <td>3</td>\n",
              "      <td>0</td>\n",
              "      <td>0.0</td>\n",
              "      <td>1.0</td>\n",
              "      <td>0.004219</td>\n",
              "      <td>135</td>\n",
              "      <td>float64</td>\n",
              "    </tr>\n",
              "    <tr>\n",
              "      <th>4</th>\n",
              "      <td>4</td>\n",
              "      <td>0</td>\n",
              "      <td>0.0</td>\n",
              "      <td>201.0</td>\n",
              "      <td>0.848101</td>\n",
              "      <td>2</td>\n",
              "      <td>Int64</td>\n",
              "    </tr>\n",
              "    <tr>\n",
              "      <th>5</th>\n",
              "      <td>5</td>\n",
              "      <td>0</td>\n",
              "      <td>0.0</td>\n",
              "      <td>113.0</td>\n",
              "      <td>0.476793</td>\n",
              "      <td>3</td>\n",
              "      <td>float64</td>\n",
              "    </tr>\n",
              "    <tr>\n",
              "      <th>6</th>\n",
              "      <td>6</td>\n",
              "      <td>0</td>\n",
              "      <td>0.0</td>\n",
              "      <td>1.0</td>\n",
              "      <td>0.004219</td>\n",
              "      <td>85</td>\n",
              "      <td>float64</td>\n",
              "    </tr>\n",
              "    <tr>\n",
              "      <th>7</th>\n",
              "      <td>7</td>\n",
              "      <td>0</td>\n",
              "      <td>0.0</td>\n",
              "      <td>163.0</td>\n",
              "      <td>0.687764</td>\n",
              "      <td>2</td>\n",
              "      <td>Int64</td>\n",
              "    </tr>\n",
              "    <tr>\n",
              "      <th>8</th>\n",
              "      <td>8</td>\n",
              "      <td>0</td>\n",
              "      <td>0.0</td>\n",
              "      <td>75.0</td>\n",
              "      <td>0.316456</td>\n",
              "      <td>38</td>\n",
              "      <td>float64</td>\n",
              "    </tr>\n",
              "    <tr>\n",
              "      <th>9</th>\n",
              "      <td>9</td>\n",
              "      <td>0</td>\n",
              "      <td>0.0</td>\n",
              "      <td>113.0</td>\n",
              "      <td>0.476793</td>\n",
              "      <td>3</td>\n",
              "      <td>float64</td>\n",
              "    </tr>\n",
              "    <tr>\n",
              "      <th>10</th>\n",
              "      <td>10</td>\n",
              "      <td>0</td>\n",
              "      <td>0.0</td>\n",
              "      <td>141.0</td>\n",
              "      <td>0.594937</td>\n",
              "      <td>4</td>\n",
              "      <td>float64</td>\n",
              "    </tr>\n",
              "    <tr>\n",
              "      <th>11</th>\n",
              "      <td>11</td>\n",
              "      <td>0</td>\n",
              "      <td>0.0</td>\n",
              "      <td>129.0</td>\n",
              "      <td>0.544304</td>\n",
              "      <td>3</td>\n",
              "      <td>float64</td>\n",
              "    </tr>\n",
              "    <tr>\n",
              "      <th>12</th>\n",
              "      <td>12</td>\n",
              "      <td>0</td>\n",
              "      <td>0.0</td>\n",
              "      <td>163.0</td>\n",
              "      <td>0.687764</td>\n",
              "      <td>2</td>\n",
              "      <td>Int64</td>\n",
              "    </tr>\n",
              "  </tbody>\n",
              "</table>\n",
              "</div>"
            ],
            "text/plain": [
              "    variable  q_nan  p_nan  q_zeros   p_zeros  unique     type\n",
              "0          0      0    0.0      1.0  0.004219      40  float64\n",
              "1          1      0    0.0     19.0  0.080169       4  float64\n",
              "2          2      0    0.0      2.0  0.008439      47  float64\n",
              "3          3      0    0.0      1.0  0.004219     135  float64\n",
              "4          4      0    0.0    201.0  0.848101       2    Int64\n",
              "5          5      0    0.0    113.0  0.476793       3  float64\n",
              "6          6      0    0.0      1.0  0.004219      85  float64\n",
              "7          7      0    0.0    163.0  0.687764       2    Int64\n",
              "8          8      0    0.0     75.0  0.316456      38  float64\n",
              "9          9      0    0.0    113.0  0.476793       3  float64\n",
              "10        10      0    0.0    141.0  0.594937       4  float64\n",
              "11        11      0    0.0    129.0  0.544304       3  float64\n",
              "12        12      0    0.0    163.0  0.687764       2    Int64"
            ]
          },
          "metadata": {
            "tags": []
          },
          "execution_count": 21
        }
      ]
    },
    {
      "cell_type": "code",
      "metadata": {
        "id": "RZm1eBQQChDC",
        "colab_type": "code",
        "colab": {}
      },
      "source": [
        "# Carga de libs\n",
        "\n",
        "import tensorflow as tf\n",
        "from tensorflow import keras\n",
        "\n",
        "from keras.models import Sequential\n",
        "from keras.layers import Dense"
      ],
      "execution_count": 22,
      "outputs": []
    },
    {
      "cell_type": "code",
      "metadata": {
        "id": "HBYQMOTvK2a9",
        "colab_type": "code",
        "colab": {}
      },
      "source": [
        "_,in_shape=x_train.shape"
      ],
      "execution_count": 23,
      "outputs": []
    },
    {
      "cell_type": "code",
      "metadata": {
        "id": "_EHy_uwdCrSO",
        "colab_type": "code",
        "colab": {}
      },
      "source": [
        "model = Sequential()\n",
        "\n",
        "model.add(Dense(128, input_dim=in_shape)) # input_dim son las variables de entrada # input + H1\n",
        "model.add(Dense(64, activation='relu')) # H2\n",
        "model.add(Dense(2, activation='softmax')) # softmax necesitamos N neuronas"
      ],
      "execution_count": 24,
      "outputs": []
    },
    {
      "cell_type": "markdown",
      "metadata": {
        "id": "dJgzTwM2S5cQ",
        "colab_type": "text"
      },
      "source": [
        "<img src=\"https://i.ibb.co/CH8wJyD/Screen-Shot-2020-09-05-at-19-00-14.png\" width=\"500px\">"
      ]
    },
    {
      "cell_type": "code",
      "metadata": {
        "id": "k46pJdKhUGxF",
        "colab_type": "code",
        "colab": {
          "base_uri": "https://localhost:8080/",
          "height": 255
        },
        "outputId": "cacca508-fca7-4f37-f6a4-a5dc5bc84518"
      },
      "source": [
        "model.summary()"
      ],
      "execution_count": 25,
      "outputs": [
        {
          "output_type": "stream",
          "text": [
            "Model: \"sequential\"\n",
            "_________________________________________________________________\n",
            "Layer (type)                 Output Shape              Param #   \n",
            "=================================================================\n",
            "dense (Dense)                (None, 128)               1792      \n",
            "_________________________________________________________________\n",
            "dense_1 (Dense)              (None, 64)                8256      \n",
            "_________________________________________________________________\n",
            "dense_2 (Dense)              (None, 2)                 130       \n",
            "=================================================================\n",
            "Total params: 10,178\n",
            "Trainable params: 10,178\n",
            "Non-trainable params: 0\n",
            "_________________________________________________________________\n"
          ],
          "name": "stdout"
        }
      ]
    },
    {
      "cell_type": "code",
      "metadata": {
        "id": "PDAdG_HeVV6Z",
        "colab_type": "code",
        "colab": {
          "base_uri": "https://localhost:8080/",
          "height": 77
        },
        "outputId": "a9c8e8f5-404c-4735-a333-7f1507946348"
      },
      "source": [
        "keras.utils.plot_model(model, show_shapes=False, rankdir=\"LR\")"
      ],
      "execution_count": 26,
      "outputs": [
        {
          "output_type": "execute_result",
          "data": {
            "image/png": "[encoded data removed]",
            "text/plain": [
              "<IPython.core.display.Image object>"
            ]
          },
          "metadata": {
            "tags": []
          },
          "execution_count": 26
        }
      ]
    },
    {
      "cell_type": "code",
      "metadata": {
        "colab_type": "code",
        "id": "9ODch-OFCaW4",
        "colab": {}
      },
      "source": [
        "model.compile(optimizer='RMSprop',\n",
        "              loss='binary_crossentropy',\n",
        "              metrics=['accuracy'])"
      ],
      "execution_count": 27,
      "outputs": []
    },
    {
      "cell_type": "code",
      "metadata": {
        "id": "gAFkN9nf2PGI",
        "colab_type": "code",
        "colab": {}
      },
      "source": [
        "\n",
        "\n",
        "\n",
        "\n"
      ],
      "execution_count": null,
      "outputs": []
    },
    {
      "cell_type": "markdown",
      "metadata": {
        "id": "S9y8x7jR2Px0",
        "colab_type": "text"
      },
      "source": [
        "Optimizadores en keras: https://www.dlology.com/blog/quick-notes-on-how-to-choose-optimizer-in-keras/\n",
        "\n",
        "<img src=\"https://gitcdn.xyz/cdn/Tony607/blog_statics/e1a0b1e060e783bd1978a141acff897ae71bd021/images/optimizer/optimizer.gif\" width=\"300px\">"
      ]
    },
    {
      "cell_type": "code",
      "metadata": {
        "id": "N3HQFIfTC1Qe",
        "colab_type": "code",
        "colab": {}
      },
      "source": [
        ""
      ],
      "execution_count": null,
      "outputs": []
    },
    {
      "cell_type": "markdown",
      "metadata": {
        "id": "37BtHdlo1E-A",
        "colab_type": "text"
      },
      "source": [
        ""
      ]
    },
    {
      "cell_type": "code",
      "metadata": {
        "id": "Dn6yiRzBDVJ9",
        "colab_type": "code",
        "colab": {}
      },
      "source": [
        ""
      ],
      "execution_count": null,
      "outputs": []
    },
    {
      "cell_type": "markdown",
      "metadata": {
        "id": "lWgulax3wJ9f",
        "colab_type": "text"
      },
      "source": [
        "En clase: \n",
        "\n",
        "- Hablar del InputLayer y Dense\n",
        "- Repasar dimensiones de entrada y salida de cada capa\n",
        "- Hablar de la capa de salida\n",
        "- Contar la cantidad de parámetros a aprender"
      ]
    },
    {
      "cell_type": "code",
      "metadata": {
        "id": "ArvNDKWEEBOO",
        "colab_type": "code",
        "colab": {}
      },
      "source": [
        "x_test.shape, y_test.shape"
      ],
      "execution_count": null,
      "outputs": []
    },
    {
      "cell_type": "markdown",
      "metadata": {
        "id": "hdwhB5BwxzIr",
        "colab_type": "text"
      },
      "source": [
        "En clase: \n",
        "\n",
        "- Hablar del set de datos de validación, epochs y batch size\n",
        "- Actualización de los gradientes"
      ]
    },
    {
      "cell_type": "code",
      "metadata": {
        "id": "WlhBjD5R4zLU",
        "colab_type": "code",
        "colab": {}
      },
      "source": [
        "history = model.fit(x_train, y_train, validation_data=(x_test, y_test), epochs=40, batch_size=32) # tambien se puede usar: validation_split=0.2"
      ],
      "execution_count": null,
      "outputs": []
    },
    {
      "cell_type": "code",
      "metadata": {
        "id": "GcF5EgDjCPuS",
        "colab_type": "code",
        "colab": {}
      },
      "source": [
        "\n",
        "\n"
      ],
      "execution_count": null,
      "outputs": []
    },
    {
      "cell_type": "markdown",
      "metadata": {
        "id": "JmsALcbmxrRh",
        "colab_type": "text"
      },
      "source": [
        "En clase:\n",
        "\n",
        "- Hablar del objeto `history`"
      ]
    },
    {
      "cell_type": "code",
      "metadata": {
        "id": "SUO6n8hhcOtD",
        "colab_type": "code",
        "colab": {}
      },
      "source": [
        "from plotly.subplots import make_subplots\n",
        "import plotly.graph_objects as go\n",
        "\n",
        "def plot_all(history):\n",
        "  fig1 = go.Figure()\n",
        "  fig1.add_trace(go.Scattergl(y=history.history['accuracy'], name='Train'))\n",
        "  fig1.add_trace(go.Scattergl(y=history.history['val_accuracy'], name='Valid'))\n",
        "  fig1.update_layout(height=300, width=400,xaxis_title='Epoch', yaxis_title='accuracy')\n",
        "\n",
        "  fig2 = go.Figure()\n",
        "  fig2.add_trace(go.Scattergl(y=history.history['loss'], name='Train'))\n",
        "  fig2.add_trace(go.Scattergl(y=history.history['val_loss'], name='Valid'))\n",
        "  fig2.update_layout(height=300, width=400,xaxis_title='Epoch', yaxis_title='Loss')\n",
        "\n",
        "  return [fig1,fig2]"
      ],
      "execution_count": 32,
      "outputs": []
    },
    {
      "cell_type": "code",
      "metadata": {
        "id": "7gk02PE3X97u",
        "colab_type": "code",
        "colab": {
          "base_uri": "https://localhost:8080/",
          "height": 197
        },
        "outputId": "5a9f6dbe-1bf2-46f2-a67b-79c2016b129f"
      },
      "source": [
        "fig1,fig2=plot_all(history)\n",
        "fig1.show()\n",
        "fig2.show()"
      ],
      "execution_count": 33,
      "outputs": [
        {
          "output_type": "error",
          "ename": "NameError",
          "evalue": "ignored",
          "traceback": [
            "\u001b[0;31m---------------------------------------------------------------------------\u001b[0m",
            "\u001b[0;31mNameError\u001b[0m                                 Traceback (most recent call last)",
            "\u001b[0;32m<ipython-input-33-0f240b6fc6e9>\u001b[0m in \u001b[0;36m<module>\u001b[0;34m()\u001b[0m\n\u001b[0;32m----> 1\u001b[0;31m \u001b[0mfig1\u001b[0m\u001b[0;34m,\u001b[0m\u001b[0mfig2\u001b[0m\u001b[0;34m=\u001b[0m\u001b[0mplot_all\u001b[0m\u001b[0;34m(\u001b[0m\u001b[0mhistory\u001b[0m\u001b[0;34m)\u001b[0m\u001b[0;34m\u001b[0m\u001b[0;34m\u001b[0m\u001b[0m\n\u001b[0m\u001b[1;32m      2\u001b[0m \u001b[0mfig1\u001b[0m\u001b[0;34m.\u001b[0m\u001b[0mshow\u001b[0m\u001b[0;34m(\u001b[0m\u001b[0;34m)\u001b[0m\u001b[0;34m\u001b[0m\u001b[0;34m\u001b[0m\u001b[0m\n\u001b[1;32m      3\u001b[0m \u001b[0mfig2\u001b[0m\u001b[0;34m.\u001b[0m\u001b[0mshow\u001b[0m\u001b[0;34m(\u001b[0m\u001b[0;34m)\u001b[0m\u001b[0;34m\u001b[0m\u001b[0;34m\u001b[0m\u001b[0m\n",
            "\u001b[0;31mNameError\u001b[0m: name 'history' is not defined"
          ]
        }
      ]
    },
    {
      "cell_type": "markdown",
      "metadata": {
        "id": "_oQaBd6X7tV7",
        "colab_type": "text"
      },
      "source": [
        "En clase:\n",
        "\n",
        "- Analizar que pasó. ¿Es aceptable el resultado?\n",
        "- Escuchar propuestas para mejorar"
      ]
    },
    {
      "cell_type": "markdown",
      "metadata": {
        "id": "13_7O30P7ptJ",
        "colab_type": "text"
      },
      "source": [
        "## Ejercicios!"
      ]
    },
    {
      "cell_type": "markdown",
      "metadata": {
        "id": "Q86HAZLy8Kw0",
        "colab_type": "text"
      },
      "source": [
        "A) Usar el optimizador Adam. Crear `model2`. \n",
        "\n",
        "Probar los learning rate: 0.1, 0.001, 0.0005\n",
        "\n",
        "B) ¿Se estabiliza en alguno?\n",
        "\n",
        "C) ¿Se estabiliza en alguna época? Hablar del early stopping"
      ]
    },
    {
      "cell_type": "code",
      "metadata": {
        "id": "VjfxJT4E8Gil",
        "colab_type": "code",
        "colab": {
          "base_uri": "https://localhost:8080/",
          "height": 1000
        },
        "outputId": "dbbaaf62-9795-49ea-8dbe-051bd8431e40"
      },
      "source": [
        "model2 = Sequential()\n",
        "\n",
        "model2.add(Dense(128, input_dim=in_shape)) # input_dim son las variables de entrada\n",
        "model2.add(Dense(64, activation='relu'))\n",
        "model2.add(Dense(2, activation='softmax')) # softmax necesitamos N neuronas\n",
        "\n",
        "learning_rates = [0.1, 0.001, 0.0005]\n",
        "histories = []\n",
        "for lr in learning_rates:\n",
        "  model2.compile(optimizer=keras.optimizers.Adam(learning_rate=lr),\n",
        "              loss='binary_crossentropy',\n",
        "              metrics=['accuracy'])\n",
        "  history = model2.fit(x_train, y_train, validation_data=(x_test, y_test) , epochs=40, batch_size=32) # tambien se puede usar: validation_split=0.2\n",
        "histories.append(history)"
      ],
      "execution_count": 36,
      "outputs": [
        {
          "output_type": "stream",
          "text": [
            "Epoch 1/40\n",
            "8/8 [==============================] - 0s 12ms/step - loss: 4.8393 - accuracy: 0.5570 - val_loss: 7.4129 - val_accuracy: 0.5167\n",
            "Epoch 2/40\n",
            "8/8 [==============================] - 0s 3ms/step - loss: 6.9891 - accuracy: 0.5443 - val_loss: 7.4129 - val_accuracy: 0.5167\n",
            "Epoch 3/40\n",
            "8/8 [==============================] - 0s 3ms/step - loss: 6.9891 - accuracy: 0.5443 - val_loss: 7.4129 - val_accuracy: 0.5167\n",
            "Epoch 4/40\n",
            "8/8 [==============================] - 0s 3ms/step - loss: 6.9891 - accuracy: 0.5443 - val_loss: 7.4129 - val_accuracy: 0.5167\n",
            "Epoch 5/40\n",
            "8/8 [==============================] - 0s 3ms/step - loss: 6.9891 - accuracy: 0.5443 - val_loss: 7.4129 - val_accuracy: 0.5167\n",
            "Epoch 6/40\n",
            "8/8 [==============================] - 0s 3ms/step - loss: 6.9891 - accuracy: 0.5443 - val_loss: 7.4129 - val_accuracy: 0.5167\n",
            "Epoch 7/40\n",
            "8/8 [==============================] - 0s 3ms/step - loss: 6.9891 - accuracy: 0.5443 - val_loss: 7.4129 - val_accuracy: 0.5167\n",
            "Epoch 8/40\n",
            "8/8 [==============================] - 0s 3ms/step - loss: 6.9891 - accuracy: 0.5443 - val_loss: 7.4129 - val_accuracy: 0.5167\n",
            "Epoch 9/40\n",
            "8/8 [==============================] - 0s 3ms/step - loss: 6.9891 - accuracy: 0.5443 - val_loss: 7.4129 - val_accuracy: 0.5167\n",
            "Epoch 10/40\n",
            "8/8 [==============================] - 0s 2ms/step - loss: 6.9891 - accuracy: 0.5443 - val_loss: 7.4129 - val_accuracy: 0.5167\n",
            "Epoch 11/40\n",
            "8/8 [==============================] - 0s 3ms/step - loss: 6.9891 - accuracy: 0.5443 - val_loss: 7.4129 - val_accuracy: 0.5167\n",
            "Epoch 12/40\n",
            "8/8 [==============================] - 0s 3ms/step - loss: 6.9891 - accuracy: 0.5443 - val_loss: 7.4129 - val_accuracy: 0.5167\n",
            "Epoch 13/40\n",
            "8/8 [==============================] - 0s 3ms/step - loss: 6.9891 - accuracy: 0.5443 - val_loss: 7.4129 - val_accuracy: 0.5167\n",
            "Epoch 14/40\n",
            "8/8 [==============================] - 0s 3ms/step - loss: 6.9891 - accuracy: 0.5443 - val_loss: 7.4129 - val_accuracy: 0.5167\n",
            "Epoch 15/40\n",
            "8/8 [==============================] - 0s 3ms/step - loss: 6.9891 - accuracy: 0.5443 - val_loss: 7.4129 - val_accuracy: 0.5167\n",
            "Epoch 16/40\n",
            "8/8 [==============================] - 0s 3ms/step - loss: 6.9891 - accuracy: 0.5443 - val_loss: 7.4129 - val_accuracy: 0.5167\n",
            "Epoch 17/40\n",
            "8/8 [==============================] - 0s 3ms/step - loss: 6.9891 - accuracy: 0.5443 - val_loss: 7.4129 - val_accuracy: 0.5167\n",
            "Epoch 18/40\n",
            "8/8 [==============================] - 0s 3ms/step - loss: 6.9891 - accuracy: 0.5443 - val_loss: 7.4129 - val_accuracy: 0.5167\n",
            "Epoch 19/40\n",
            "8/8 [==============================] - 0s 4ms/step - loss: 6.9891 - accuracy: 0.5443 - val_loss: 7.4129 - val_accuracy: 0.5167\n",
            "Epoch 20/40\n",
            "8/8 [==============================] - 0s 3ms/step - loss: 6.9891 - accuracy: 0.5443 - val_loss: 7.4129 - val_accuracy: 0.5167\n",
            "Epoch 21/40\n",
            "8/8 [==============================] - 0s 3ms/step - loss: 6.9891 - accuracy: 0.5443 - val_loss: 7.4129 - val_accuracy: 0.5167\n",
            "Epoch 22/40\n",
            "8/8 [==============================] - 0s 3ms/step - loss: 6.9891 - accuracy: 0.5443 - val_loss: 7.4129 - val_accuracy: 0.5167\n",
            "Epoch 23/40\n",
            "8/8 [==============================] - 0s 3ms/step - loss: 6.9891 - accuracy: 0.5443 - val_loss: 7.4129 - val_accuracy: 0.5167\n",
            "Epoch 24/40\n",
            "8/8 [==============================] - 0s 3ms/step - loss: 6.9891 - accuracy: 0.5443 - val_loss: 7.4129 - val_accuracy: 0.5167\n",
            "Epoch 25/40\n",
            "8/8 [==============================] - 0s 3ms/step - loss: 6.9891 - accuracy: 0.5443 - val_loss: 7.4129 - val_accuracy: 0.5167\n",
            "Epoch 26/40\n",
            "8/8 [==============================] - 0s 3ms/step - loss: 6.9891 - accuracy: 0.5443 - val_loss: 7.4129 - val_accuracy: 0.5167\n",
            "Epoch 27/40\n",
            "8/8 [==============================] - 0s 3ms/step - loss: 6.9891 - accuracy: 0.5443 - val_loss: 7.4129 - val_accuracy: 0.5167\n",
            "Epoch 28/40\n",
            "8/8 [==============================] - 0s 3ms/step - loss: 6.9891 - accuracy: 0.5443 - val_loss: 7.4129 - val_accuracy: 0.5167\n",
            "Epoch 29/40\n",
            "8/8 [==============================] - 0s 3ms/step - loss: 6.9891 - accuracy: 0.5443 - val_loss: 7.4129 - val_accuracy: 0.5167\n",
            "Epoch 30/40\n",
            "8/8 [==============================] - 0s 3ms/step - loss: 6.9891 - accuracy: 0.5443 - val_loss: 7.4129 - val_accuracy: 0.5167\n",
            "Epoch 31/40\n",
            "8/8 [==============================] - 0s 3ms/step - loss: 6.9891 - accuracy: 0.5443 - val_loss: 7.4129 - val_accuracy: 0.5167\n",
            "Epoch 32/40\n",
            "8/8 [==============================] - 0s 3ms/step - loss: 6.9891 - accuracy: 0.5443 - val_loss: 7.4129 - val_accuracy: 0.5167\n",
            "Epoch 33/40\n",
            "8/8 [==============================] - 0s 3ms/step - loss: 6.9891 - accuracy: 0.5443 - val_loss: 7.4129 - val_accuracy: 0.5167\n",
            "Epoch 34/40\n",
            "8/8 [==============================] - 0s 3ms/step - loss: 6.9891 - accuracy: 0.5443 - val_loss: 7.4129 - val_accuracy: 0.5167\n",
            "Epoch 35/40\n",
            "8/8 [==============================] - 0s 3ms/step - loss: 6.9891 - accuracy: 0.5443 - val_loss: 7.4129 - val_accuracy: 0.5167\n",
            "Epoch 36/40\n",
            "8/8 [==============================] - 0s 3ms/step - loss: 6.9891 - accuracy: 0.5443 - val_loss: 7.4129 - val_accuracy: 0.5167\n",
            "Epoch 37/40\n",
            "8/8 [==============================] - 0s 3ms/step - loss: 6.9891 - accuracy: 0.5443 - val_loss: 7.4129 - val_accuracy: 0.5167\n",
            "Epoch 38/40\n",
            "8/8 [==============================] - 0s 3ms/step - loss: 6.9891 - accuracy: 0.5443 - val_loss: 7.4129 - val_accuracy: 0.5167\n",
            "Epoch 39/40\n",
            "8/8 [==============================] - 0s 3ms/step - loss: 6.9891 - accuracy: 0.5443 - val_loss: 7.4129 - val_accuracy: 0.5167\n",
            "Epoch 40/40\n",
            "8/8 [==============================] - 0s 3ms/step - loss: 6.9891 - accuracy: 0.5443 - val_loss: 7.4129 - val_accuracy: 0.5167\n"
          ],
          "name": "stdout"
        }
      ]
    },
    {
      "cell_type": "code",
      "metadata": {
        "id": "c_yQ1xWT7J1W",
        "colab_type": "code",
        "colab": {
          "base_uri": "https://localhost:8080/",
          "height": 1000
        },
        "outputId": "bc298499-8dcc-4f55-a264-cd6fb09675a8"
      },
      "source": [
        ""
      ],
      "execution_count": 29,
      "outputs": [
        {
          "output_type": "stream",
          "text": [
            "Epoch 1/40\n",
            "8/8 [==============================] - 0s 17ms/step - loss: 0.6586 - accuracy: 0.5949 - val_loss: 0.5804 - val_accuracy: 0.6000\n",
            "Epoch 2/40\n",
            "8/8 [==============================] - 0s 3ms/step - loss: 0.5802 - accuracy: 0.7384 - val_loss: 0.5326 - val_accuracy: 0.7500\n",
            "Epoch 3/40\n",
            "8/8 [==============================] - 0s 3ms/step - loss: 0.5258 - accuracy: 0.8017 - val_loss: 0.5009 - val_accuracy: 0.7833\n",
            "Epoch 4/40\n",
            "8/8 [==============================] - 0s 3ms/step - loss: 0.4856 - accuracy: 0.8270 - val_loss: 0.4794 - val_accuracy: 0.7833\n",
            "Epoch 5/40\n",
            "8/8 [==============================] - 0s 3ms/step - loss: 0.4597 - accuracy: 0.8270 - val_loss: 0.4618 - val_accuracy: 0.8000\n",
            "Epoch 6/40\n",
            "8/8 [==============================] - 0s 3ms/step - loss: 0.4364 - accuracy: 0.8481 - val_loss: 0.4488 - val_accuracy: 0.8000\n",
            "Epoch 7/40\n",
            "8/8 [==============================] - 0s 3ms/step - loss: 0.4230 - accuracy: 0.8439 - val_loss: 0.4418 - val_accuracy: 0.8000\n",
            "Epoch 8/40\n",
            "8/8 [==============================] - 0s 3ms/step - loss: 0.4101 - accuracy: 0.8439 - val_loss: 0.4334 - val_accuracy: 0.8000\n",
            "Epoch 9/40\n",
            "8/8 [==============================] - 0s 3ms/step - loss: 0.3997 - accuracy: 0.8354 - val_loss: 0.4290 - val_accuracy: 0.8000\n",
            "Epoch 10/40\n",
            "8/8 [==============================] - 0s 3ms/step - loss: 0.3934 - accuracy: 0.8397 - val_loss: 0.4215 - val_accuracy: 0.8167\n",
            "Epoch 11/40\n",
            "8/8 [==============================] - 0s 3ms/step - loss: 0.3852 - accuracy: 0.8354 - val_loss: 0.4151 - val_accuracy: 0.8167\n",
            "Epoch 12/40\n",
            "8/8 [==============================] - 0s 3ms/step - loss: 0.3798 - accuracy: 0.8565 - val_loss: 0.4093 - val_accuracy: 0.8333\n",
            "Epoch 13/40\n",
            "8/8 [==============================] - 0s 3ms/step - loss: 0.3743 - accuracy: 0.8397 - val_loss: 0.4065 - val_accuracy: 0.8167\n",
            "Epoch 14/40\n",
            "8/8 [==============================] - 0s 3ms/step - loss: 0.3706 - accuracy: 0.8523 - val_loss: 0.4040 - val_accuracy: 0.8167\n",
            "Epoch 15/40\n",
            "8/8 [==============================] - 0s 3ms/step - loss: 0.3676 - accuracy: 0.8650 - val_loss: 0.4016 - val_accuracy: 0.8333\n",
            "Epoch 16/40\n",
            "8/8 [==============================] - 0s 3ms/step - loss: 0.3650 - accuracy: 0.8481 - val_loss: 0.4021 - val_accuracy: 0.8167\n",
            "Epoch 17/40\n",
            "8/8 [==============================] - 0s 3ms/step - loss: 0.3631 - accuracy: 0.8565 - val_loss: 0.4025 - val_accuracy: 0.8333\n",
            "Epoch 18/40\n",
            "8/8 [==============================] - 0s 3ms/step - loss: 0.3620 - accuracy: 0.8608 - val_loss: 0.4003 - val_accuracy: 0.8333\n",
            "Epoch 19/40\n",
            "8/8 [==============================] - 0s 3ms/step - loss: 0.3577 - accuracy: 0.8608 - val_loss: 0.3989 - val_accuracy: 0.8333\n",
            "Epoch 20/40\n",
            "8/8 [==============================] - 0s 3ms/step - loss: 0.3560 - accuracy: 0.8608 - val_loss: 0.3935 - val_accuracy: 0.8500\n",
            "Epoch 21/40\n",
            "8/8 [==============================] - 0s 3ms/step - loss: 0.3520 - accuracy: 0.8565 - val_loss: 0.3949 - val_accuracy: 0.8500\n",
            "Epoch 22/40\n",
            "8/8 [==============================] - 0s 3ms/step - loss: 0.3518 - accuracy: 0.8481 - val_loss: 0.3977 - val_accuracy: 0.8333\n",
            "Epoch 23/40\n",
            "8/8 [==============================] - 0s 3ms/step - loss: 0.3492 - accuracy: 0.8481 - val_loss: 0.3967 - val_accuracy: 0.8333\n",
            "Epoch 24/40\n",
            "8/8 [==============================] - 0s 3ms/step - loss: 0.3504 - accuracy: 0.8608 - val_loss: 0.3978 - val_accuracy: 0.8333\n",
            "Epoch 25/40\n",
            "8/8 [==============================] - 0s 3ms/step - loss: 0.3485 - accuracy: 0.8608 - val_loss: 0.3963 - val_accuracy: 0.8333\n",
            "Epoch 26/40\n",
            "8/8 [==============================] - 0s 2ms/step - loss: 0.3450 - accuracy: 0.8608 - val_loss: 0.3941 - val_accuracy: 0.8333\n",
            "Epoch 27/40\n",
            "8/8 [==============================] - 0s 3ms/step - loss: 0.3426 - accuracy: 0.8608 - val_loss: 0.3953 - val_accuracy: 0.8500\n",
            "Epoch 28/40\n",
            "8/8 [==============================] - 0s 3ms/step - loss: 0.3433 - accuracy: 0.8608 - val_loss: 0.3953 - val_accuracy: 0.8500\n",
            "Epoch 29/40\n",
            "8/8 [==============================] - 0s 3ms/step - loss: 0.3403 - accuracy: 0.8608 - val_loss: 0.4012 - val_accuracy: 0.8500\n",
            "Epoch 30/40\n",
            "8/8 [==============================] - 0s 3ms/step - loss: 0.3418 - accuracy: 0.8608 - val_loss: 0.3974 - val_accuracy: 0.8333\n",
            "Epoch 31/40\n",
            "8/8 [==============================] - 0s 2ms/step - loss: 0.3387 - accuracy: 0.8608 - val_loss: 0.3971 - val_accuracy: 0.8333\n",
            "Epoch 32/40\n",
            "8/8 [==============================] - 0s 3ms/step - loss: 0.3392 - accuracy: 0.8650 - val_loss: 0.3915 - val_accuracy: 0.8500\n",
            "Epoch 33/40\n",
            "8/8 [==============================] - 0s 3ms/step - loss: 0.3361 - accuracy: 0.8608 - val_loss: 0.3960 - val_accuracy: 0.8333\n",
            "Epoch 34/40\n",
            "8/8 [==============================] - 0s 3ms/step - loss: 0.3358 - accuracy: 0.8608 - val_loss: 0.3929 - val_accuracy: 0.8333\n",
            "Epoch 35/40\n",
            "8/8 [==============================] - 0s 3ms/step - loss: 0.3333 - accuracy: 0.8608 - val_loss: 0.3941 - val_accuracy: 0.8500\n",
            "Epoch 36/40\n",
            "8/8 [==============================] - 0s 3ms/step - loss: 0.3345 - accuracy: 0.8650 - val_loss: 0.3979 - val_accuracy: 0.8500\n",
            "Epoch 37/40\n",
            "8/8 [==============================] - 0s 3ms/step - loss: 0.3304 - accuracy: 0.8650 - val_loss: 0.4003 - val_accuracy: 0.8333\n",
            "Epoch 38/40\n",
            "8/8 [==============================] - 0s 3ms/step - loss: 0.3311 - accuracy: 0.8650 - val_loss: 0.3985 - val_accuracy: 0.8333\n",
            "Epoch 39/40\n",
            "8/8 [==============================] - 0s 3ms/step - loss: 0.3298 - accuracy: 0.8608 - val_loss: 0.4030 - val_accuracy: 0.8333\n",
            "Epoch 40/40\n",
            "8/8 [==============================] - 0s 3ms/step - loss: 0.3285 - accuracy: 0.8734 - val_loss: 0.3987 - val_accuracy: 0.8500\n"
          ],
          "name": "stdout"
        }
      ]
    },
    {
      "cell_type": "code",
      "metadata": {
        "id": "hcbnuxkS7QEF",
        "colab_type": "code",
        "colab": {
          "base_uri": "https://localhost:8080/",
          "height": 617
        },
        "outputId": "bef37e43-434a-4137-8f12-12610d51263d"
      },
      "source": [
        "fig1,fig2=plot_all(history2)\n",
        "fig1.show()\n",
        "fig2.show()"
      ],
      "execution_count": 34,
      "outputs": [
        {
          "output_type": "display_data",
          "data": {
            "text/html": [
              "<html>\n",
              "<head><meta charset=\"utf-8\" /></head>\n",
              "<body>\n",
              "    <div>\n",
              "            <script src=\"https://cdnjs.cloudflare.com/ajax/libs/mathjax/2.7.5/MathJax.js?config=TeX-AMS-MML_SVG\"></script><script type=\"text/javascript\">if (window.MathJax) {MathJax.Hub.Config({SVG: {font: \"STIX-Web\"}});}</script>\n",
              "                <script type=\"text/javascript\">window.PlotlyConfig = {MathJaxConfig: 'local'};</script>\n",
              "        <script src=\"https://cdn.plot.ly/plotly-latest.min.js\"></script>    \n",
              "            <div id=\"d83bdaf1-6e3e-4e54-a6e2-15db4a8f7845\" class=\"plotly-graph-div\" style=\"height:300px; width:400px;\"></div>\n",
              "            <script type=\"text/javascript\">\n",
              "                \n",
              "                    window.PLOTLYENV=window.PLOTLYENV || {};\n",
              "                    \n",
              "                if (document.getElementById(\"d83bdaf1-6e3e-4e54-a6e2-15db4a8f7845\")) {\n",
              "                    Plotly.newPlot(\n",
              "                        'd83bdaf1-6e3e-4e54-a6e2-15db4a8f7845',\n",
              "                        [{\"name\": \"Train\", \"type\": \"scattergl\", \"y\": [0.594936728477478, 0.7383966445922852, 0.8016877770423889, 0.8270041942596436, 0.8270041942596436, 0.8481012582778931, 0.8438818454742432, 0.8438818454742432, 0.8354430198669434, 0.8396624326705933, 0.8354430198669434, 0.8565400838851929, 0.8396624326705933, 0.852320671081543, 0.8649789094924927, 0.8481012582778931, 0.8565400838851929, 0.8607594966888428, 0.8607594966888428, 0.8607594966888428, 0.8565400838851929, 0.8481012582778931, 0.8481012582778931, 0.8607594966888428, 0.8607594966888428, 0.8607594966888428, 0.8607594966888428, 0.8607594966888428, 0.8607594966888428, 0.8607594966888428, 0.8607594966888428, 0.8649789094924927, 0.8607594966888428, 0.8607594966888428, 0.8607594966888428, 0.8649789094924927, 0.8649789094924927, 0.8649789094924927, 0.8607594966888428, 0.8734177350997925]}, {\"name\": \"Valid\", \"type\": \"scattergl\", \"y\": [0.6000000238418579, 0.75, 0.7833333611488342, 0.7833333611488342, 0.800000011920929, 0.800000011920929, 0.800000011920929, 0.800000011920929, 0.800000011920929, 0.8166666626930237, 0.8166666626930237, 0.8333333134651184, 0.8166666626930237, 0.8166666626930237, 0.8333333134651184, 0.8166666626930237, 0.8333333134651184, 0.8333333134651184, 0.8333333134651184, 0.8500000238418579, 0.8500000238418579, 0.8333333134651184, 0.8333333134651184, 0.8333333134651184, 0.8333333134651184, 0.8333333134651184, 0.8500000238418579, 0.8500000238418579, 0.8500000238418579, 0.8333333134651184, 0.8333333134651184, 0.8500000238418579, 0.8333333134651184, 0.8333333134651184, 0.8500000238418579, 0.8500000238418579, 0.8333333134651184, 0.8333333134651184, 0.8333333134651184, 0.8500000238418579]}],\n",
              "                        {\"height\": 300, \"template\": {\"data\": {\"bar\": [{\"error_x\": {\"color\": \"#2a3f5f\"}, \"error_y\": {\"color\": \"#2a3f5f\"}, \"marker\": {\"line\": {\"color\": \"#E5ECF6\", \"width\": 0.5}}, \"type\": \"bar\"}], \"barpolar\": [{\"marker\": {\"line\": {\"color\": \"#E5ECF6\", \"width\": 0.5}}, \"type\": \"barpolar\"}], \"carpet\": [{\"aaxis\": {\"endlinecolor\": \"#2a3f5f\", \"gridcolor\": \"white\", \"linecolor\": \"white\", \"minorgridcolor\": \"white\", \"startlinecolor\": \"#2a3f5f\"}, \"baxis\": {\"endlinecolor\": \"#2a3f5f\", \"gridcolor\": \"white\", \"linecolor\": \"white\", \"minorgridcolor\": \"white\", \"startlinecolor\": \"#2a3f5f\"}, \"type\": \"carpet\"}], \"choropleth\": [{\"colorbar\": {\"outlinewidth\": 0, \"ticks\": \"\"}, \"type\": \"choropleth\"}], \"contour\": [{\"colorbar\": {\"outlinewidth\": 0, \"ticks\": \"\"}, \"colorscale\": [[0.0, \"#0d0887\"], [0.1111111111111111, \"#46039f\"], [0.2222222222222222, \"#7201a8\"], [0.3333333333333333, \"#9c179e\"], [0.4444444444444444, \"#bd3786\"], [0.5555555555555556, \"#d8576b\"], [0.6666666666666666, \"#ed7953\"], [0.7777777777777778, \"#fb9f3a\"], [0.8888888888888888, \"#fdca26\"], [1.0, \"#f0f921\"]], \"type\": \"contour\"}], \"contourcarpet\": [{\"colorbar\": {\"outlinewidth\": 0, \"ticks\": \"\"}, \"type\": \"contourcarpet\"}], \"heatmap\": [{\"colorbar\": {\"outlinewidth\": 0, \"ticks\": \"\"}, \"colorscale\": [[0.0, \"#0d0887\"], [0.1111111111111111, \"#46039f\"], [0.2222222222222222, \"#7201a8\"], [0.3333333333333333, \"#9c179e\"], [0.4444444444444444, \"#bd3786\"], [0.5555555555555556, \"#d8576b\"], [0.6666666666666666, \"#ed7953\"], [0.7777777777777778, \"#fb9f3a\"], [0.8888888888888888, \"#fdca26\"], [1.0, \"#f0f921\"]], \"type\": \"heatmap\"}], \"heatmapgl\": [{\"colorbar\": {\"outlinewidth\": 0, \"ticks\": \"\"}, \"colorscale\": [[0.0, \"#0d0887\"], [0.1111111111111111, \"#46039f\"], [0.2222222222222222, \"#7201a8\"], [0.3333333333333333, \"#9c179e\"], [0.4444444444444444, \"#bd3786\"], [0.5555555555555556, \"#d8576b\"], [0.6666666666666666, \"#ed7953\"], [0.7777777777777778, \"#fb9f3a\"], [0.8888888888888888, \"#fdca26\"], [1.0, \"#f0f921\"]], \"type\": \"heatmapgl\"}], \"histogram\": [{\"marker\": {\"colorbar\": {\"outlinewidth\": 0, \"ticks\": \"\"}}, \"type\": \"histogram\"}], \"histogram2d\": [{\"colorbar\": {\"outlinewidth\": 0, \"ticks\": \"\"}, \"colorscale\": [[0.0, \"#0d0887\"], [0.1111111111111111, \"#46039f\"], [0.2222222222222222, \"#7201a8\"], [0.3333333333333333, \"#9c179e\"], [0.4444444444444444, \"#bd3786\"], [0.5555555555555556, \"#d8576b\"], [0.6666666666666666, \"#ed7953\"], [0.7777777777777778, \"#fb9f3a\"], [0.8888888888888888, \"#fdca26\"], [1.0, \"#f0f921\"]], \"type\": \"histogram2d\"}], \"histogram2dcontour\": [{\"colorbar\": {\"outlinewidth\": 0, \"ticks\": \"\"}, \"colorscale\": [[0.0, \"#0d0887\"], [0.1111111111111111, \"#46039f\"], [0.2222222222222222, \"#7201a8\"], [0.3333333333333333, \"#9c179e\"], [0.4444444444444444, \"#bd3786\"], [0.5555555555555556, \"#d8576b\"], [0.6666666666666666, \"#ed7953\"], [0.7777777777777778, \"#fb9f3a\"], [0.8888888888888888, \"#fdca26\"], [1.0, \"#f0f921\"]], \"type\": \"histogram2dcontour\"}], \"mesh3d\": [{\"colorbar\": {\"outlinewidth\": 0, \"ticks\": \"\"}, \"type\": \"mesh3d\"}], \"parcoords\": [{\"line\": {\"colorbar\": {\"outlinewidth\": 0, \"ticks\": \"\"}}, \"type\": \"parcoords\"}], \"pie\": [{\"automargin\": true, \"type\": \"pie\"}], \"scatter\": [{\"marker\": {\"colorbar\": {\"outlinewidth\": 0, \"ticks\": \"\"}}, \"type\": \"scatter\"}], \"scatter3d\": [{\"line\": {\"colorbar\": {\"outlinewidth\": 0, \"ticks\": \"\"}}, \"marker\": {\"colorbar\": {\"outlinewidth\": 0, \"ticks\": \"\"}}, \"type\": \"scatter3d\"}], \"scattercarpet\": [{\"marker\": {\"colorbar\": {\"outlinewidth\": 0, \"ticks\": \"\"}}, \"type\": \"scattercarpet\"}], \"scattergeo\": [{\"marker\": {\"colorbar\": {\"outlinewidth\": 0, \"ticks\": \"\"}}, \"type\": \"scattergeo\"}], \"scattergl\": [{\"marker\": {\"colorbar\": {\"outlinewidth\": 0, \"ticks\": \"\"}}, \"type\": \"scattergl\"}], \"scattermapbox\": [{\"marker\": {\"colorbar\": {\"outlinewidth\": 0, \"ticks\": \"\"}}, \"type\": \"scattermapbox\"}], \"scatterpolar\": [{\"marker\": {\"colorbar\": {\"outlinewidth\": 0, \"ticks\": \"\"}}, \"type\": \"scatterpolar\"}], \"scatterpolargl\": [{\"marker\": {\"colorbar\": {\"outlinewidth\": 0, \"ticks\": \"\"}}, \"type\": \"scatterpolargl\"}], \"scatterternary\": [{\"marker\": {\"colorbar\": {\"outlinewidth\": 0, \"ticks\": \"\"}}, \"type\": \"scatterternary\"}], \"surface\": [{\"colorbar\": {\"outlinewidth\": 0, \"ticks\": \"\"}, \"colorscale\": [[0.0, \"#0d0887\"], [0.1111111111111111, \"#46039f\"], [0.2222222222222222, \"#7201a8\"], [0.3333333333333333, \"#9c179e\"], [0.4444444444444444, \"#bd3786\"], [0.5555555555555556, \"#d8576b\"], [0.6666666666666666, \"#ed7953\"], [0.7777777777777778, \"#fb9f3a\"], [0.8888888888888888, \"#fdca26\"], [1.0, \"#f0f921\"]], \"type\": \"surface\"}], \"table\": [{\"cells\": {\"fill\": {\"color\": \"#EBF0F8\"}, \"line\": {\"color\": \"white\"}}, \"header\": {\"fill\": {\"color\": \"#C8D4E3\"}, \"line\": {\"color\": \"white\"}}, \"type\": \"table\"}]}, \"layout\": {\"annotationdefaults\": {\"arrowcolor\": \"#2a3f5f\", \"arrowhead\": 0, \"arrowwidth\": 1}, \"coloraxis\": {\"colorbar\": {\"outlinewidth\": 0, \"ticks\": \"\"}}, \"colorscale\": {\"diverging\": [[0, \"#8e0152\"], [0.1, \"#c51b7d\"], [0.2, \"#de77ae\"], [0.3, \"#f1b6da\"], [0.4, \"#fde0ef\"], [0.5, \"#f7f7f7\"], [0.6, \"#e6f5d0\"], [0.7, \"#b8e186\"], [0.8, \"#7fbc41\"], [0.9, \"#4d9221\"], [1, \"#276419\"]], \"sequential\": [[0.0, \"#0d0887\"], [0.1111111111111111, \"#46039f\"], [0.2222222222222222, \"#7201a8\"], [0.3333333333333333, \"#9c179e\"], [0.4444444444444444, \"#bd3786\"], [0.5555555555555556, \"#d8576b\"], [0.6666666666666666, \"#ed7953\"], [0.7777777777777778, \"#fb9f3a\"], [0.8888888888888888, \"#fdca26\"], [1.0, \"#f0f921\"]], \"sequentialminus\": [[0.0, \"#0d0887\"], [0.1111111111111111, \"#46039f\"], [0.2222222222222222, \"#7201a8\"], [0.3333333333333333, \"#9c179e\"], [0.4444444444444444, \"#bd3786\"], [0.5555555555555556, \"#d8576b\"], [0.6666666666666666, \"#ed7953\"], [0.7777777777777778, \"#fb9f3a\"], [0.8888888888888888, \"#fdca26\"], [1.0, \"#f0f921\"]]}, \"colorway\": [\"#636efa\", \"#EF553B\", \"#00cc96\", \"#ab63fa\", \"#FFA15A\", \"#19d3f3\", \"#FF6692\", \"#B6E880\", \"#FF97FF\", \"#FECB52\"], \"font\": {\"color\": \"#2a3f5f\"}, \"geo\": {\"bgcolor\": \"white\", \"lakecolor\": \"white\", \"landcolor\": \"#E5ECF6\", \"showlakes\": true, \"showland\": true, \"subunitcolor\": \"white\"}, \"hoverlabel\": {\"align\": \"left\"}, \"hovermode\": \"closest\", \"mapbox\": {\"style\": \"light\"}, \"paper_bgcolor\": \"white\", \"plot_bgcolor\": \"#E5ECF6\", \"polar\": {\"angularaxis\": {\"gridcolor\": \"white\", \"linecolor\": \"white\", \"ticks\": \"\"}, \"bgcolor\": \"#E5ECF6\", \"radialaxis\": {\"gridcolor\": \"white\", \"linecolor\": \"white\", \"ticks\": \"\"}}, \"scene\": {\"xaxis\": {\"backgroundcolor\": \"#E5ECF6\", \"gridcolor\": \"white\", \"gridwidth\": 2, \"linecolor\": \"white\", \"showbackground\": true, \"ticks\": \"\", \"zerolinecolor\": \"white\"}, \"yaxis\": {\"backgroundcolor\": \"#E5ECF6\", \"gridcolor\": \"white\", \"gridwidth\": 2, \"linecolor\": \"white\", \"showbackground\": true, \"ticks\": \"\", \"zerolinecolor\": \"white\"}, \"zaxis\": {\"backgroundcolor\": \"#E5ECF6\", \"gridcolor\": \"white\", \"gridwidth\": 2, \"linecolor\": \"white\", \"showbackground\": true, \"ticks\": \"\", \"zerolinecolor\": \"white\"}}, \"shapedefaults\": {\"line\": {\"color\": \"#2a3f5f\"}}, \"ternary\": {\"aaxis\": {\"gridcolor\": \"white\", \"linecolor\": \"white\", \"ticks\": \"\"}, \"baxis\": {\"gridcolor\": \"white\", \"linecolor\": \"white\", \"ticks\": \"\"}, \"bgcolor\": \"#E5ECF6\", \"caxis\": {\"gridcolor\": \"white\", \"linecolor\": \"white\", \"ticks\": \"\"}}, \"title\": {\"x\": 0.05}, \"xaxis\": {\"automargin\": true, \"gridcolor\": \"white\", \"linecolor\": \"white\", \"ticks\": \"\", \"title\": {\"standoff\": 15}, \"zerolinecolor\": \"white\", \"zerolinewidth\": 2}, \"yaxis\": {\"automargin\": true, \"gridcolor\": \"white\", \"linecolor\": \"white\", \"ticks\": \"\", \"title\": {\"standoff\": 15}, \"zerolinecolor\": \"white\", \"zerolinewidth\": 2}}}, \"width\": 400, \"xaxis\": {\"title\": {\"text\": \"Epoch\"}}, \"yaxis\": {\"title\": {\"text\": \"accuracy\"}}},\n",
              "                        {\"responsive\": true}\n",
              "                    ).then(function(){\n",
              "                            \n",
              "var gd = document.getElementById('d83bdaf1-6e3e-4e54-a6e2-15db4a8f7845');\n",
              "var x = new MutationObserver(function (mutations, observer) {{\n",
              "        var display = window.getComputedStyle(gd).display;\n",
              "        if (!display || display === 'none') {{\n",
              "            console.log([gd, 'removed!']);\n",
              "            Plotly.purge(gd);\n",
              "            observer.disconnect();\n",
              "        }}\n",
              "}});\n",
              "\n",
              "// Listen for the removal of the full notebook cells\n",
              "var notebookContainer = gd.closest('#notebook-container');\n",
              "if (notebookContainer) {{\n",
              "    x.observe(notebookContainer, {childList: true});\n",
              "}}\n",
              "\n",
              "// Listen for the clearing of the current output cell\n",
              "var outputEl = gd.closest('.output');\n",
              "if (outputEl) {{\n",
              "    x.observe(outputEl, {childList: true});\n",
              "}}\n",
              "\n",
              "                        })\n",
              "                };\n",
              "                \n",
              "            </script>\n",
              "        </div>\n",
              "</body>\n",
              "</html>"
            ]
          },
          "metadata": {
            "tags": []
          }
        },
        {
          "output_type": "display_data",
          "data": {
            "text/html": [
              "<html>\n",
              "<head><meta charset=\"utf-8\" /></head>\n",
              "<body>\n",
              "    <div>\n",
              "            <script src=\"https://cdnjs.cloudflare.com/ajax/libs/mathjax/2.7.5/MathJax.js?config=TeX-AMS-MML_SVG\"></script><script type=\"text/javascript\">if (window.MathJax) {MathJax.Hub.Config({SVG: {font: \"STIX-Web\"}});}</script>\n",
              "                <script type=\"text/javascript\">window.PlotlyConfig = {MathJaxConfig: 'local'};</script>\n",
              "        <script src=\"https://cdn.plot.ly/plotly-latest.min.js\"></script>    \n",
              "            <div id=\"aba45eab-ec58-44c4-ac68-aebe48df52e9\" class=\"plotly-graph-div\" style=\"height:300px; width:400px;\"></div>\n",
              "            <script type=\"text/javascript\">\n",
              "                \n",
              "                    window.PLOTLYENV=window.PLOTLYENV || {};\n",
              "                    \n",
              "                if (document.getElementById(\"aba45eab-ec58-44c4-ac68-aebe48df52e9\")) {\n",
              "                    Plotly.newPlot(\n",
              "                        'aba45eab-ec58-44c4-ac68-aebe48df52e9',\n",
              "                        [{\"name\": \"Train\", \"type\": \"scattergl\", \"y\": [0.6586495637893677, 0.5802289843559265, 0.5257619023323059, 0.4855711758136749, 0.45969358086586, 0.43638184666633606, 0.4229835867881775, 0.41014012694358826, 0.3996557593345642, 0.3933630585670471, 0.38519373536109924, 0.37982088327407837, 0.37429681420326233, 0.3706376254558563, 0.3675899803638458, 0.36495232582092285, 0.3631177246570587, 0.36201635003089905, 0.3576902747154236, 0.3559514880180359, 0.3519972562789917, 0.35182711482048035, 0.34917211532592773, 0.3503659665584564, 0.3484678268432617, 0.3450012803077698, 0.34257012605667114, 0.34331923723220825, 0.3403286337852478, 0.34182316064834595, 0.33873629570007324, 0.3392208516597748, 0.3361268639564514, 0.3358239233493805, 0.33325687050819397, 0.33454787731170654, 0.33038267493247986, 0.3311028778553009, 0.32980552315711975, 0.32847827672958374]}, {\"name\": \"Valid\", \"type\": \"scattergl\", \"y\": [0.5803934931755066, 0.5326213836669922, 0.5008801817893982, 0.47938334941864014, 0.46177321672439575, 0.4488371014595032, 0.44177380204200745, 0.43341052532196045, 0.4290178418159485, 0.4214654862880707, 0.4150741696357727, 0.4093071520328522, 0.40649154782295227, 0.40398988127708435, 0.40163981914520264, 0.4020636975765228, 0.4025087058544159, 0.4002998471260071, 0.3988645672798157, 0.39346733689308167, 0.39486807584762573, 0.39769113063812256, 0.3966633975505829, 0.39782580733299255, 0.3963046669960022, 0.39408600330352783, 0.395331472158432, 0.3953189253807068, 0.4012027084827423, 0.3973684310913086, 0.39709803462028503, 0.39147645235061646, 0.3959979712963104, 0.39289385080337524, 0.3940819799900055, 0.39792150259017944, 0.4003371000289917, 0.3984999358654022, 0.4030188322067261, 0.3986641466617584]}],\n",
              "                        {\"height\": 300, \"template\": {\"data\": {\"bar\": [{\"error_x\": {\"color\": \"#2a3f5f\"}, \"error_y\": {\"color\": \"#2a3f5f\"}, \"marker\": {\"line\": {\"color\": \"#E5ECF6\", \"width\": 0.5}}, \"type\": \"bar\"}], \"barpolar\": [{\"marker\": {\"line\": {\"color\": \"#E5ECF6\", \"width\": 0.5}}, \"type\": \"barpolar\"}], \"carpet\": [{\"aaxis\": {\"endlinecolor\": \"#2a3f5f\", \"gridcolor\": \"white\", \"linecolor\": \"white\", \"minorgridcolor\": \"white\", \"startlinecolor\": \"#2a3f5f\"}, \"baxis\": {\"endlinecolor\": \"#2a3f5f\", \"gridcolor\": \"white\", \"linecolor\": \"white\", \"minorgridcolor\": \"white\", \"startlinecolor\": \"#2a3f5f\"}, \"type\": \"carpet\"}], \"choropleth\": [{\"colorbar\": {\"outlinewidth\": 0, \"ticks\": \"\"}, \"type\": \"choropleth\"}], \"contour\": [{\"colorbar\": {\"outlinewidth\": 0, \"ticks\": \"\"}, \"colorscale\": [[0.0, \"#0d0887\"], [0.1111111111111111, \"#46039f\"], [0.2222222222222222, \"#7201a8\"], [0.3333333333333333, \"#9c179e\"], [0.4444444444444444, \"#bd3786\"], [0.5555555555555556, \"#d8576b\"], [0.6666666666666666, \"#ed7953\"], [0.7777777777777778, \"#fb9f3a\"], [0.8888888888888888, \"#fdca26\"], [1.0, \"#f0f921\"]], \"type\": \"contour\"}], \"contourcarpet\": [{\"colorbar\": {\"outlinewidth\": 0, \"ticks\": \"\"}, \"type\": \"contourcarpet\"}], \"heatmap\": [{\"colorbar\": {\"outlinewidth\": 0, \"ticks\": \"\"}, \"colorscale\": [[0.0, \"#0d0887\"], [0.1111111111111111, \"#46039f\"], [0.2222222222222222, \"#7201a8\"], [0.3333333333333333, \"#9c179e\"], [0.4444444444444444, \"#bd3786\"], [0.5555555555555556, \"#d8576b\"], [0.6666666666666666, \"#ed7953\"], [0.7777777777777778, \"#fb9f3a\"], [0.8888888888888888, \"#fdca26\"], [1.0, \"#f0f921\"]], \"type\": \"heatmap\"}], \"heatmapgl\": [{\"colorbar\": {\"outlinewidth\": 0, \"ticks\": \"\"}, \"colorscale\": [[0.0, \"#0d0887\"], [0.1111111111111111, \"#46039f\"], [0.2222222222222222, \"#7201a8\"], [0.3333333333333333, \"#9c179e\"], [0.4444444444444444, \"#bd3786\"], [0.5555555555555556, \"#d8576b\"], [0.6666666666666666, \"#ed7953\"], [0.7777777777777778, \"#fb9f3a\"], [0.8888888888888888, \"#fdca26\"], [1.0, \"#f0f921\"]], \"type\": \"heatmapgl\"}], \"histogram\": [{\"marker\": {\"colorbar\": {\"outlinewidth\": 0, \"ticks\": \"\"}}, \"type\": \"histogram\"}], \"histogram2d\": [{\"colorbar\": {\"outlinewidth\": 0, \"ticks\": \"\"}, \"colorscale\": [[0.0, \"#0d0887\"], [0.1111111111111111, \"#46039f\"], [0.2222222222222222, \"#7201a8\"], [0.3333333333333333, \"#9c179e\"], [0.4444444444444444, \"#bd3786\"], [0.5555555555555556, \"#d8576b\"], [0.6666666666666666, \"#ed7953\"], [0.7777777777777778, \"#fb9f3a\"], [0.8888888888888888, \"#fdca26\"], [1.0, \"#f0f921\"]], \"type\": \"histogram2d\"}], \"histogram2dcontour\": [{\"colorbar\": {\"outlinewidth\": 0, \"ticks\": \"\"}, \"colorscale\": [[0.0, \"#0d0887\"], [0.1111111111111111, \"#46039f\"], [0.2222222222222222, \"#7201a8\"], [0.3333333333333333, \"#9c179e\"], [0.4444444444444444, \"#bd3786\"], [0.5555555555555556, \"#d8576b\"], [0.6666666666666666, \"#ed7953\"], [0.7777777777777778, \"#fb9f3a\"], [0.8888888888888888, \"#fdca26\"], [1.0, \"#f0f921\"]], \"type\": \"histogram2dcontour\"}], \"mesh3d\": [{\"colorbar\": {\"outlinewidth\": 0, \"ticks\": \"\"}, \"type\": \"mesh3d\"}], \"parcoords\": [{\"line\": {\"colorbar\": {\"outlinewidth\": 0, \"ticks\": \"\"}}, \"type\": \"parcoords\"}], \"pie\": [{\"automargin\": true, \"type\": \"pie\"}], \"scatter\": [{\"marker\": {\"colorbar\": {\"outlinewidth\": 0, \"ticks\": \"\"}}, \"type\": \"scatter\"}], \"scatter3d\": [{\"line\": {\"colorbar\": {\"outlinewidth\": 0, \"ticks\": \"\"}}, \"marker\": {\"colorbar\": {\"outlinewidth\": 0, \"ticks\": \"\"}}, \"type\": \"scatter3d\"}], \"scattercarpet\": [{\"marker\": {\"colorbar\": {\"outlinewidth\": 0, \"ticks\": \"\"}}, \"type\": \"scattercarpet\"}], \"scattergeo\": [{\"marker\": {\"colorbar\": {\"outlinewidth\": 0, \"ticks\": \"\"}}, \"type\": \"scattergeo\"}], \"scattergl\": [{\"marker\": {\"colorbar\": {\"outlinewidth\": 0, \"ticks\": \"\"}}, \"type\": \"scattergl\"}], \"scattermapbox\": [{\"marker\": {\"colorbar\": {\"outlinewidth\": 0, \"ticks\": \"\"}}, \"type\": \"scattermapbox\"}], \"scatterpolar\": [{\"marker\": {\"colorbar\": {\"outlinewidth\": 0, \"ticks\": \"\"}}, \"type\": \"scatterpolar\"}], \"scatterpolargl\": [{\"marker\": {\"colorbar\": {\"outlinewidth\": 0, \"ticks\": \"\"}}, \"type\": \"scatterpolargl\"}], \"scatterternary\": [{\"marker\": {\"colorbar\": {\"outlinewidth\": 0, \"ticks\": \"\"}}, \"type\": \"scatterternary\"}], \"surface\": [{\"colorbar\": {\"outlinewidth\": 0, \"ticks\": \"\"}, \"colorscale\": [[0.0, \"#0d0887\"], [0.1111111111111111, \"#46039f\"], [0.2222222222222222, \"#7201a8\"], [0.3333333333333333, \"#9c179e\"], [0.4444444444444444, \"#bd3786\"], [0.5555555555555556, \"#d8576b\"], [0.6666666666666666, \"#ed7953\"], [0.7777777777777778, \"#fb9f3a\"], [0.8888888888888888, \"#fdca26\"], [1.0, \"#f0f921\"]], \"type\": \"surface\"}], \"table\": [{\"cells\": {\"fill\": {\"color\": \"#EBF0F8\"}, \"line\": {\"color\": \"white\"}}, \"header\": {\"fill\": {\"color\": \"#C8D4E3\"}, \"line\": {\"color\": \"white\"}}, \"type\": \"table\"}]}, \"layout\": {\"annotationdefaults\": {\"arrowcolor\": \"#2a3f5f\", \"arrowhead\": 0, \"arrowwidth\": 1}, \"coloraxis\": {\"colorbar\": {\"outlinewidth\": 0, \"ticks\": \"\"}}, \"colorscale\": {\"diverging\": [[0, \"#8e0152\"], [0.1, \"#c51b7d\"], [0.2, \"#de77ae\"], [0.3, \"#f1b6da\"], [0.4, \"#fde0ef\"], [0.5, \"#f7f7f7\"], [0.6, \"#e6f5d0\"], [0.7, \"#b8e186\"], [0.8, \"#7fbc41\"], [0.9, \"#4d9221\"], [1, \"#276419\"]], \"sequential\": [[0.0, \"#0d0887\"], [0.1111111111111111, \"#46039f\"], [0.2222222222222222, \"#7201a8\"], [0.3333333333333333, \"#9c179e\"], [0.4444444444444444, \"#bd3786\"], [0.5555555555555556, \"#d8576b\"], [0.6666666666666666, \"#ed7953\"], [0.7777777777777778, \"#fb9f3a\"], [0.8888888888888888, \"#fdca26\"], [1.0, \"#f0f921\"]], \"sequentialminus\": [[0.0, \"#0d0887\"], [0.1111111111111111, \"#46039f\"], [0.2222222222222222, \"#7201a8\"], [0.3333333333333333, \"#9c179e\"], [0.4444444444444444, \"#bd3786\"], [0.5555555555555556, \"#d8576b\"], [0.6666666666666666, \"#ed7953\"], [0.7777777777777778, \"#fb9f3a\"], [0.8888888888888888, \"#fdca26\"], [1.0, \"#f0f921\"]]}, \"colorway\": [\"#636efa\", \"#EF553B\", \"#00cc96\", \"#ab63fa\", \"#FFA15A\", \"#19d3f3\", \"#FF6692\", \"#B6E880\", \"#FF97FF\", \"#FECB52\"], \"font\": {\"color\": \"#2a3f5f\"}, \"geo\": {\"bgcolor\": \"white\", \"lakecolor\": \"white\", \"landcolor\": \"#E5ECF6\", \"showlakes\": true, \"showland\": true, \"subunitcolor\": \"white\"}, \"hoverlabel\": {\"align\": \"left\"}, \"hovermode\": \"closest\", \"mapbox\": {\"style\": \"light\"}, \"paper_bgcolor\": \"white\", \"plot_bgcolor\": \"#E5ECF6\", \"polar\": {\"angularaxis\": {\"gridcolor\": \"white\", \"linecolor\": \"white\", \"ticks\": \"\"}, \"bgcolor\": \"#E5ECF6\", \"radialaxis\": {\"gridcolor\": \"white\", \"linecolor\": \"white\", \"ticks\": \"\"}}, \"scene\": {\"xaxis\": {\"backgroundcolor\": \"#E5ECF6\", \"gridcolor\": \"white\", \"gridwidth\": 2, \"linecolor\": \"white\", \"showbackground\": true, \"ticks\": \"\", \"zerolinecolor\": \"white\"}, \"yaxis\": {\"backgroundcolor\": \"#E5ECF6\", \"gridcolor\": \"white\", \"gridwidth\": 2, \"linecolor\": \"white\", \"showbackground\": true, \"ticks\": \"\", \"zerolinecolor\": \"white\"}, \"zaxis\": {\"backgroundcolor\": \"#E5ECF6\", \"gridcolor\": \"white\", \"gridwidth\": 2, \"linecolor\": \"white\", \"showbackground\": true, \"ticks\": \"\", \"zerolinecolor\": \"white\"}}, \"shapedefaults\": {\"line\": {\"color\": \"#2a3f5f\"}}, \"ternary\": {\"aaxis\": {\"gridcolor\": \"white\", \"linecolor\": \"white\", \"ticks\": \"\"}, \"baxis\": {\"gridcolor\": \"white\", \"linecolor\": \"white\", \"ticks\": \"\"}, \"bgcolor\": \"#E5ECF6\", \"caxis\": {\"gridcolor\": \"white\", \"linecolor\": \"white\", \"ticks\": \"\"}}, \"title\": {\"x\": 0.05}, \"xaxis\": {\"automargin\": true, \"gridcolor\": \"white\", \"linecolor\": \"white\", \"ticks\": \"\", \"title\": {\"standoff\": 15}, \"zerolinecolor\": \"white\", \"zerolinewidth\": 2}, \"yaxis\": {\"automargin\": true, \"gridcolor\": \"white\", \"linecolor\": \"white\", \"ticks\": \"\", \"title\": {\"standoff\": 15}, \"zerolinecolor\": \"white\", \"zerolinewidth\": 2}}}, \"width\": 400, \"xaxis\": {\"title\": {\"text\": \"Epoch\"}}, \"yaxis\": {\"title\": {\"text\": \"Loss\"}}},\n",
              "                        {\"responsive\": true}\n",
              "                    ).then(function(){\n",
              "                            \n",
              "var gd = document.getElementById('aba45eab-ec58-44c4-ac68-aebe48df52e9');\n",
              "var x = new MutationObserver(function (mutations, observer) {{\n",
              "        var display = window.getComputedStyle(gd).display;\n",
              "        if (!display || display === 'none') {{\n",
              "            console.log([gd, 'removed!']);\n",
              "            Plotly.purge(gd);\n",
              "            observer.disconnect();\n",
              "        }}\n",
              "}});\n",
              "\n",
              "// Listen for the removal of the full notebook cells\n",
              "var notebookContainer = gd.closest('#notebook-container');\n",
              "if (notebookContainer) {{\n",
              "    x.observe(notebookContainer, {childList: true});\n",
              "}}\n",
              "\n",
              "// Listen for the clearing of the current output cell\n",
              "var outputEl = gd.closest('.output');\n",
              "if (outputEl) {{\n",
              "    x.observe(outputEl, {childList: true});\n",
              "}}\n",
              "\n",
              "                        })\n",
              "                };\n",
              "                \n",
              "            </script>\n",
              "        </div>\n",
              "</body>\n",
              "</html>"
            ]
          },
          "metadata": {
            "tags": []
          }
        }
      ]
    },
    {
      "cell_type": "code",
      "metadata": {
        "id": "FucLP2HR7Tvm",
        "colab_type": "code",
        "colab": {}
      },
      "source": [
        ""
      ],
      "execution_count": null,
      "outputs": []
    }
  ]
}