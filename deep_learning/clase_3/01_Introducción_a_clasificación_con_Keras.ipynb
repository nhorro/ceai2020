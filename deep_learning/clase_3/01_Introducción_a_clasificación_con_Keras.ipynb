{
  "nbformat": 4,
  "nbformat_minor": 0,
  "metadata": {
    "colab": {
      "name": "1) Introducción a clasificación con Keras",
      "provenance": [],
      "collapsed_sections": [],
      "include_colab_link": true
    },
    "kernelspec": {
      "name": "python3",
      "display_name": "Python 3"
    },
    "accelerator": "TPU"
  },
  "cells": [
    {
      "cell_type": "markdown",
      "metadata": {
        "id": "view-in-github",
        "colab_type": "text"
      },
      "source": [
        "<a href=\"https://colab.research.google.com/github/nhorro/ceai2020/blob/master/01_Introducci%C3%B3n_a_clasificaci%C3%B3n_con_Keras.ipynb\" target=\"_parent\"><img src=\"https://colab.research.google.com/assets/colab-badge.svg\" alt=\"Open In Colab\"/></a>"
      ]
    },
    {
      "cell_type": "markdown",
      "metadata": {
        "id": "YblY8usDS94W",
        "colab_type": "text"
      },
      "source": [
        "# Lab UBA-IA\n",
        "## Modelo de clasifiación en Keras \n",
        "\n",
        "\n",
        "Objetivo: \n",
        "\n",
        "- Intro al ecosistema Keras\n",
        "- Creación de un modelo de clasificación básico\n",
        "\n"
      ]
    },
    {
      "cell_type": "markdown",
      "metadata": {
        "id": "i7X2m5X_vLMt",
        "colab_type": "text"
      },
      "source": [
        "### 1) Montando el drive en google colab"
      ]
    },
    {
      "cell_type": "code",
      "metadata": {
        "id": "flvnbWZ7lds9",
        "colab_type": "code",
        "colab": {
          "base_uri": "https://localhost:8080/",
          "height": 34
        },
        "outputId": "7fcfc963-4b40-4c34-e2fc-0d3bd0f63f05"
      },
      "source": [
        "from google.colab import drive\n",
        "drive.mount('/content/drive')"
      ],
      "execution_count": null,
      "outputs": [
        {
          "output_type": "stream",
          "text": [
            "Drive already mounted at /content/drive; to attempt to forcibly remount, call drive.mount(\"/content/drive\", force_remount=True).\n"
          ],
          "name": "stdout"
        }
      ]
    },
    {
      "cell_type": "code",
      "metadata": {
        "id": "vWg0lFF1yiZX",
        "colab_type": "code",
        "colab": {
          "base_uri": "https://localhost:8080/",
          "height": 315
        },
        "outputId": "124520a0-8622-4847-c4c8-3f1f5648fa50"
      },
      "source": [
        "!pip install funpymodeling"
      ],
      "execution_count": null,
      "outputs": [
        {
          "output_type": "stream",
          "text": [
            "Requirement already satisfied: funpymodeling in /usr/local/lib/python3.6/dist-packages (0.1.7)\n",
            "Requirement already satisfied: typing-extensions<4.0.0,>=3.7.4; python_version < \"3.8\" in /usr/local/lib/python3.6/dist-packages (from funpymodeling) (3.7.4.3)\n",
            "Requirement already satisfied: matplotlib<4.0.0,>=3.2.2 in /usr/local/lib/python3.6/dist-packages (from funpymodeling) (3.2.2)\n",
            "Requirement already satisfied: seaborn<0.11.0,>=0.10.1 in /usr/local/lib/python3.6/dist-packages (from funpymodeling) (0.10.1)\n",
            "Requirement already satisfied: sklearn<0.1,>=0.0 in /usr/local/lib/python3.6/dist-packages (from funpymodeling) (0.0)\n",
            "Requirement already satisfied: numpy<2.0.0,>=1.18.5 in /usr/local/lib/python3.6/dist-packages (from funpymodeling) (1.18.5)\n",
            "Requirement already satisfied: pandas<2.0.0,>=1.0.5 in /usr/local/lib/python3.6/dist-packages (from funpymodeling) (1.0.5)\n",
            "Requirement already satisfied: kiwisolver>=1.0.1 in /usr/local/lib/python3.6/dist-packages (from matplotlib<4.0.0,>=3.2.2->funpymodeling) (1.2.0)\n",
            "Requirement already satisfied: pyparsing!=2.0.4,!=2.1.2,!=2.1.6,>=2.0.1 in /usr/local/lib/python3.6/dist-packages (from matplotlib<4.0.0,>=3.2.2->funpymodeling) (2.4.7)\n",
            "Requirement already satisfied: cycler>=0.10 in /usr/local/lib/python3.6/dist-packages (from matplotlib<4.0.0,>=3.2.2->funpymodeling) (0.10.0)\n",
            "Requirement already satisfied: python-dateutil>=2.1 in /usr/local/lib/python3.6/dist-packages (from matplotlib<4.0.0,>=3.2.2->funpymodeling) (2.8.1)\n",
            "Requirement already satisfied: scipy>=1.0.1 in /usr/local/lib/python3.6/dist-packages (from seaborn<0.11.0,>=0.10.1->funpymodeling) (1.4.1)\n",
            "Requirement already satisfied: scikit-learn in /usr/local/lib/python3.6/dist-packages (from sklearn<0.1,>=0.0->funpymodeling) (0.22.2.post1)\n",
            "Requirement already satisfied: pytz>=2017.2 in /usr/local/lib/python3.6/dist-packages (from pandas<2.0.0,>=1.0.5->funpymodeling) (2018.9)\n",
            "Requirement already satisfied: six in /usr/local/lib/python3.6/dist-packages (from cycler>=0.10->matplotlib<4.0.0,>=3.2.2->funpymodeling) (1.15.0)\n",
            "Requirement already satisfied: joblib>=0.11 in /usr/local/lib/python3.6/dist-packages (from scikit-learn->sklearn<0.1,>=0.0->funpymodeling) (0.16.0)\n"
          ],
          "name": "stdout"
        }
      ]
    },
    {
      "cell_type": "code",
      "metadata": {
        "id": "ntXoh-FTzBx5",
        "colab_type": "code",
        "colab": {}
      },
      "source": [
        "import os\n",
        "os.chdir('/content/drive/My Drive/Cursos/IA UBA')\n"
      ],
      "execution_count": null,
      "outputs": []
    },
    {
      "cell_type": "markdown",
      "metadata": {
        "id": "RFWEVzXKvHLw",
        "colab_type": "text"
      },
      "source": [
        "### 2) Carga de datos y librerías"
      ]
    },
    {
      "cell_type": "code",
      "metadata": {
        "id": "MWE4Be7bmNAe",
        "colab_type": "code",
        "colab": {}
      },
      "source": [
        "import tensorflow as tf\n",
        "from tensorflow import keras\n",
        "import numpy as np\n",
        "import matplotlib.pyplot as plt\n",
        "import pandas as pd\n",
        "import numpy as np\n",
        "\n",
        "from funpymodeling.exploratory import freq_tbl, status, profiling_num, cat_vars, num_vars\n",
        "from funpymodeling.data_prep import todf"
      ],
      "execution_count": null,
      "outputs": []
    },
    {
      "cell_type": "code",
      "metadata": {
        "id": "ij6BrAXrmPUq",
        "colab_type": "code",
        "colab": {}
      },
      "source": [
        "data=pd.read_csv('data/heart_disease.csv')"
      ],
      "execution_count": null,
      "outputs": []
    },
    {
      "cell_type": "code",
      "metadata": {
        "id": "DOGWyAyJPwsi",
        "colab_type": "code",
        "colab": {
          "base_uri": "https://localhost:8080/",
          "height": 551
        },
        "outputId": "3b35913a-eea4-4afd-bc56-78280788cce7"
      },
      "source": [
        "status(data)"
      ],
      "execution_count": null,
      "outputs": [
        {
          "output_type": "execute_result",
          "data": {
            "text/html": [
              "<div>\n",
              "<style scoped>\n",
              "    .dataframe tbody tr th:only-of-type {\n",
              "        vertical-align: middle;\n",
              "    }\n",
              "\n",
              "    .dataframe tbody tr th {\n",
              "        vertical-align: top;\n",
              "    }\n",
              "\n",
              "    .dataframe thead th {\n",
              "        text-align: right;\n",
              "    }\n",
              "</style>\n",
              "<table border=\"1\" class=\"dataframe\">\n",
              "  <thead>\n",
              "    <tr style=\"text-align: right;\">\n",
              "      <th></th>\n",
              "      <th>variable</th>\n",
              "      <th>q_nan</th>\n",
              "      <th>p_nan</th>\n",
              "      <th>q_zeros</th>\n",
              "      <th>p_zeros</th>\n",
              "      <th>unique</th>\n",
              "      <th>type</th>\n",
              "    </tr>\n",
              "  </thead>\n",
              "  <tbody>\n",
              "    <tr>\n",
              "      <th>0</th>\n",
              "      <td>age</td>\n",
              "      <td>0</td>\n",
              "      <td>0.000000</td>\n",
              "      <td>0</td>\n",
              "      <td>0.000000</td>\n",
              "      <td>41</td>\n",
              "      <td>int64</td>\n",
              "    </tr>\n",
              "    <tr>\n",
              "      <th>1</th>\n",
              "      <td>gender</td>\n",
              "      <td>0</td>\n",
              "      <td>0.000000</td>\n",
              "      <td>0</td>\n",
              "      <td>0.000000</td>\n",
              "      <td>2</td>\n",
              "      <td>object</td>\n",
              "    </tr>\n",
              "    <tr>\n",
              "      <th>2</th>\n",
              "      <td>chest_pain</td>\n",
              "      <td>0</td>\n",
              "      <td>0.000000</td>\n",
              "      <td>0</td>\n",
              "      <td>0.000000</td>\n",
              "      <td>4</td>\n",
              "      <td>int64</td>\n",
              "    </tr>\n",
              "    <tr>\n",
              "      <th>3</th>\n",
              "      <td>resting_blood_pressure</td>\n",
              "      <td>0</td>\n",
              "      <td>0.000000</td>\n",
              "      <td>0</td>\n",
              "      <td>0.000000</td>\n",
              "      <td>50</td>\n",
              "      <td>int64</td>\n",
              "    </tr>\n",
              "    <tr>\n",
              "      <th>4</th>\n",
              "      <td>serum_cholestoral</td>\n",
              "      <td>0</td>\n",
              "      <td>0.000000</td>\n",
              "      <td>0</td>\n",
              "      <td>0.000000</td>\n",
              "      <td>152</td>\n",
              "      <td>int64</td>\n",
              "    </tr>\n",
              "    <tr>\n",
              "      <th>5</th>\n",
              "      <td>fasting_blood_sugar</td>\n",
              "      <td>0</td>\n",
              "      <td>0.000000</td>\n",
              "      <td>258</td>\n",
              "      <td>0.851485</td>\n",
              "      <td>2</td>\n",
              "      <td>int64</td>\n",
              "    </tr>\n",
              "    <tr>\n",
              "      <th>6</th>\n",
              "      <td>resting_electro</td>\n",
              "      <td>0</td>\n",
              "      <td>0.000000</td>\n",
              "      <td>151</td>\n",
              "      <td>0.498350</td>\n",
              "      <td>3</td>\n",
              "      <td>int64</td>\n",
              "    </tr>\n",
              "    <tr>\n",
              "      <th>7</th>\n",
              "      <td>max_heart_rate</td>\n",
              "      <td>0</td>\n",
              "      <td>0.000000</td>\n",
              "      <td>0</td>\n",
              "      <td>0.000000</td>\n",
              "      <td>91</td>\n",
              "      <td>int64</td>\n",
              "    </tr>\n",
              "    <tr>\n",
              "      <th>8</th>\n",
              "      <td>exer_angina</td>\n",
              "      <td>0</td>\n",
              "      <td>0.000000</td>\n",
              "      <td>204</td>\n",
              "      <td>0.673267</td>\n",
              "      <td>2</td>\n",
              "      <td>int64</td>\n",
              "    </tr>\n",
              "    <tr>\n",
              "      <th>9</th>\n",
              "      <td>oldpeak</td>\n",
              "      <td>0</td>\n",
              "      <td>0.000000</td>\n",
              "      <td>99</td>\n",
              "      <td>0.326733</td>\n",
              "      <td>40</td>\n",
              "      <td>float64</td>\n",
              "    </tr>\n",
              "    <tr>\n",
              "      <th>10</th>\n",
              "      <td>slope</td>\n",
              "      <td>0</td>\n",
              "      <td>0.000000</td>\n",
              "      <td>0</td>\n",
              "      <td>0.000000</td>\n",
              "      <td>3</td>\n",
              "      <td>int64</td>\n",
              "    </tr>\n",
              "    <tr>\n",
              "      <th>11</th>\n",
              "      <td>num_vessels_flour</td>\n",
              "      <td>4</td>\n",
              "      <td>0.013201</td>\n",
              "      <td>176</td>\n",
              "      <td>0.580858</td>\n",
              "      <td>4</td>\n",
              "      <td>float64</td>\n",
              "    </tr>\n",
              "    <tr>\n",
              "      <th>12</th>\n",
              "      <td>thal</td>\n",
              "      <td>2</td>\n",
              "      <td>0.006601</td>\n",
              "      <td>0</td>\n",
              "      <td>0.000000</td>\n",
              "      <td>3</td>\n",
              "      <td>float64</td>\n",
              "    </tr>\n",
              "    <tr>\n",
              "      <th>13</th>\n",
              "      <td>heart_disease_severity</td>\n",
              "      <td>0</td>\n",
              "      <td>0.000000</td>\n",
              "      <td>164</td>\n",
              "      <td>0.541254</td>\n",
              "      <td>5</td>\n",
              "      <td>int64</td>\n",
              "    </tr>\n",
              "    <tr>\n",
              "      <th>14</th>\n",
              "      <td>exter_angina</td>\n",
              "      <td>0</td>\n",
              "      <td>0.000000</td>\n",
              "      <td>204</td>\n",
              "      <td>0.673267</td>\n",
              "      <td>2</td>\n",
              "      <td>int64</td>\n",
              "    </tr>\n",
              "    <tr>\n",
              "      <th>15</th>\n",
              "      <td>has_heart_disease</td>\n",
              "      <td>0</td>\n",
              "      <td>0.000000</td>\n",
              "      <td>0</td>\n",
              "      <td>0.000000</td>\n",
              "      <td>2</td>\n",
              "      <td>object</td>\n",
              "    </tr>\n",
              "  </tbody>\n",
              "</table>\n",
              "</div>"
            ],
            "text/plain": [
              "                  variable  q_nan     p_nan  q_zeros   p_zeros  unique     type\n",
              "0                      age      0  0.000000        0  0.000000      41    int64\n",
              "1                   gender      0  0.000000        0  0.000000       2   object\n",
              "2               chest_pain      0  0.000000        0  0.000000       4    int64\n",
              "3   resting_blood_pressure      0  0.000000        0  0.000000      50    int64\n",
              "4        serum_cholestoral      0  0.000000        0  0.000000     152    int64\n",
              "5      fasting_blood_sugar      0  0.000000      258  0.851485       2    int64\n",
              "6          resting_electro      0  0.000000      151  0.498350       3    int64\n",
              "7           max_heart_rate      0  0.000000        0  0.000000      91    int64\n",
              "8              exer_angina      0  0.000000      204  0.673267       2    int64\n",
              "9                  oldpeak      0  0.000000       99  0.326733      40  float64\n",
              "10                   slope      0  0.000000        0  0.000000       3    int64\n",
              "11       num_vessels_flour      4  0.013201      176  0.580858       4  float64\n",
              "12                    thal      2  0.006601        0  0.000000       3  float64\n",
              "13  heart_disease_severity      0  0.000000      164  0.541254       5    int64\n",
              "14            exter_angina      0  0.000000      204  0.673267       2    int64\n",
              "15       has_heart_disease      0  0.000000        0  0.000000       2   object"
            ]
          },
          "metadata": {
            "tags": []
          },
          "execution_count": 34
        }
      ]
    },
    {
      "cell_type": "code",
      "metadata": {
        "id": "DROmLoJMQAaY",
        "colab_type": "code",
        "colab": {
          "base_uri": "https://localhost:8080/",
          "height": 225
        },
        "outputId": "33df988c-3aa3-4e02-9e04-41c2be5a043a"
      },
      "source": [
        "freq_tbl(data)"
      ],
      "execution_count": null,
      "outputs": [
        {
          "output_type": "stream",
          "text": [
            "   gender  frequency  percentage  cumulative_perc\n",
            "0    male        206    0.679868         0.679868\n",
            "1  female         97    0.320132         1.000000\n",
            "\n",
            "----------------------------------------------------------------\n",
            "\n",
            "  has_heart_disease  frequency  percentage  cumulative_perc\n",
            "0                no        164    0.541254         0.541254\n",
            "1               yes        139    0.458746         1.000000\n",
            "\n",
            "----------------------------------------------------------------\n",
            "\n"
          ],
          "name": "stdout"
        }
      ]
    },
    {
      "cell_type": "code",
      "metadata": {
        "id": "H4FWbIWVQLIx",
        "colab_type": "code",
        "colab": {
          "base_uri": "https://localhost:8080/",
          "height": 488
        },
        "outputId": "be7f1cfe-bcc8-4cb0-e7b8-f418d722d717"
      },
      "source": [
        "profiling_num(data)"
      ],
      "execution_count": null,
      "outputs": [
        {
          "output_type": "execute_result",
          "data": {
            "text/html": [
              "<div>\n",
              "<style scoped>\n",
              "    .dataframe tbody tr th:only-of-type {\n",
              "        vertical-align: middle;\n",
              "    }\n",
              "\n",
              "    .dataframe tbody tr th {\n",
              "        vertical-align: top;\n",
              "    }\n",
              "\n",
              "    .dataframe thead th {\n",
              "        text-align: right;\n",
              "    }\n",
              "</style>\n",
              "<table border=\"1\" class=\"dataframe\">\n",
              "  <thead>\n",
              "    <tr style=\"text-align: right;\">\n",
              "      <th></th>\n",
              "      <th>variable</th>\n",
              "      <th>mean</th>\n",
              "      <th>std_dev</th>\n",
              "      <th>variation_coef</th>\n",
              "      <th>p_0.01</th>\n",
              "      <th>p_0.05</th>\n",
              "      <th>p_0.25</th>\n",
              "      <th>p_0.5</th>\n",
              "      <th>p_0.75</th>\n",
              "      <th>p_0.95</th>\n",
              "      <th>p_0.99</th>\n",
              "    </tr>\n",
              "  </thead>\n",
              "  <tbody>\n",
              "    <tr>\n",
              "      <th>0</th>\n",
              "      <td>age</td>\n",
              "      <td>54.438944</td>\n",
              "      <td>9.038662</td>\n",
              "      <td>0.166033</td>\n",
              "      <td>35.00</td>\n",
              "      <td>40.0</td>\n",
              "      <td>48.0</td>\n",
              "      <td>56.0</td>\n",
              "      <td>61.0</td>\n",
              "      <td>68.0</td>\n",
              "      <td>71.00</td>\n",
              "    </tr>\n",
              "    <tr>\n",
              "      <th>1</th>\n",
              "      <td>chest_pain</td>\n",
              "      <td>3.158416</td>\n",
              "      <td>0.960126</td>\n",
              "      <td>0.303990</td>\n",
              "      <td>1.00</td>\n",
              "      <td>1.0</td>\n",
              "      <td>3.0</td>\n",
              "      <td>3.0</td>\n",
              "      <td>4.0</td>\n",
              "      <td>4.0</td>\n",
              "      <td>4.00</td>\n",
              "    </tr>\n",
              "    <tr>\n",
              "      <th>2</th>\n",
              "      <td>resting_blood_pressure</td>\n",
              "      <td>131.689769</td>\n",
              "      <td>17.599748</td>\n",
              "      <td>0.133646</td>\n",
              "      <td>100.00</td>\n",
              "      <td>108.0</td>\n",
              "      <td>120.0</td>\n",
              "      <td>130.0</td>\n",
              "      <td>140.0</td>\n",
              "      <td>160.0</td>\n",
              "      <td>180.00</td>\n",
              "    </tr>\n",
              "    <tr>\n",
              "      <th>3</th>\n",
              "      <td>serum_cholestoral</td>\n",
              "      <td>246.693069</td>\n",
              "      <td>51.776918</td>\n",
              "      <td>0.209884</td>\n",
              "      <td>149.00</td>\n",
              "      <td>175.1</td>\n",
              "      <td>211.0</td>\n",
              "      <td>241.0</td>\n",
              "      <td>275.0</td>\n",
              "      <td>326.9</td>\n",
              "      <td>406.74</td>\n",
              "    </tr>\n",
              "    <tr>\n",
              "      <th>4</th>\n",
              "      <td>fasting_blood_sugar</td>\n",
              "      <td>0.148515</td>\n",
              "      <td>0.356198</td>\n",
              "      <td>2.398399</td>\n",
              "      <td>0.00</td>\n",
              "      <td>0.0</td>\n",
              "      <td>0.0</td>\n",
              "      <td>0.0</td>\n",
              "      <td>0.0</td>\n",
              "      <td>1.0</td>\n",
              "      <td>1.00</td>\n",
              "    </tr>\n",
              "    <tr>\n",
              "      <th>5</th>\n",
              "      <td>resting_electro</td>\n",
              "      <td>0.990099</td>\n",
              "      <td>0.994971</td>\n",
              "      <td>1.004921</td>\n",
              "      <td>0.00</td>\n",
              "      <td>0.0</td>\n",
              "      <td>0.0</td>\n",
              "      <td>1.0</td>\n",
              "      <td>2.0</td>\n",
              "      <td>2.0</td>\n",
              "      <td>2.00</td>\n",
              "    </tr>\n",
              "    <tr>\n",
              "      <th>6</th>\n",
              "      <td>max_heart_rate</td>\n",
              "      <td>149.607261</td>\n",
              "      <td>22.875003</td>\n",
              "      <td>0.152900</td>\n",
              "      <td>95.02</td>\n",
              "      <td>108.1</td>\n",
              "      <td>133.5</td>\n",
              "      <td>153.0</td>\n",
              "      <td>166.0</td>\n",
              "      <td>181.9</td>\n",
              "      <td>191.96</td>\n",
              "    </tr>\n",
              "    <tr>\n",
              "      <th>7</th>\n",
              "      <td>exer_angina</td>\n",
              "      <td>0.326733</td>\n",
              "      <td>0.469794</td>\n",
              "      <td>1.437856</td>\n",
              "      <td>0.00</td>\n",
              "      <td>0.0</td>\n",
              "      <td>0.0</td>\n",
              "      <td>0.0</td>\n",
              "      <td>1.0</td>\n",
              "      <td>1.0</td>\n",
              "      <td>1.00</td>\n",
              "    </tr>\n",
              "    <tr>\n",
              "      <th>8</th>\n",
              "      <td>oldpeak</td>\n",
              "      <td>1.039604</td>\n",
              "      <td>1.161075</td>\n",
              "      <td>1.116844</td>\n",
              "      <td>0.00</td>\n",
              "      <td>0.0</td>\n",
              "      <td>0.0</td>\n",
              "      <td>0.8</td>\n",
              "      <td>1.6</td>\n",
              "      <td>3.4</td>\n",
              "      <td>4.20</td>\n",
              "    </tr>\n",
              "    <tr>\n",
              "      <th>9</th>\n",
              "      <td>slope</td>\n",
              "      <td>1.600660</td>\n",
              "      <td>0.616226</td>\n",
              "      <td>0.384983</td>\n",
              "      <td>1.00</td>\n",
              "      <td>1.0</td>\n",
              "      <td>1.0</td>\n",
              "      <td>2.0</td>\n",
              "      <td>2.0</td>\n",
              "      <td>3.0</td>\n",
              "      <td>3.00</td>\n",
              "    </tr>\n",
              "    <tr>\n",
              "      <th>10</th>\n",
              "      <td>num_vessels_flour</td>\n",
              "      <td>0.672241</td>\n",
              "      <td>0.937438</td>\n",
              "      <td>1.394498</td>\n",
              "      <td>0.00</td>\n",
              "      <td>0.0</td>\n",
              "      <td>0.0</td>\n",
              "      <td>0.0</td>\n",
              "      <td>1.0</td>\n",
              "      <td>3.0</td>\n",
              "      <td>3.00</td>\n",
              "    </tr>\n",
              "    <tr>\n",
              "      <th>11</th>\n",
              "      <td>thal</td>\n",
              "      <td>4.734219</td>\n",
              "      <td>1.939706</td>\n",
              "      <td>0.409720</td>\n",
              "      <td>3.00</td>\n",
              "      <td>3.0</td>\n",
              "      <td>3.0</td>\n",
              "      <td>3.0</td>\n",
              "      <td>7.0</td>\n",
              "      <td>7.0</td>\n",
              "      <td>7.00</td>\n",
              "    </tr>\n",
              "    <tr>\n",
              "      <th>12</th>\n",
              "      <td>heart_disease_severity</td>\n",
              "      <td>0.937294</td>\n",
              "      <td>1.228536</td>\n",
              "      <td>1.310726</td>\n",
              "      <td>0.00</td>\n",
              "      <td>0.0</td>\n",
              "      <td>0.0</td>\n",
              "      <td>0.0</td>\n",
              "      <td>2.0</td>\n",
              "      <td>3.0</td>\n",
              "      <td>4.00</td>\n",
              "    </tr>\n",
              "    <tr>\n",
              "      <th>13</th>\n",
              "      <td>exter_angina</td>\n",
              "      <td>0.326733</td>\n",
              "      <td>0.469794</td>\n",
              "      <td>1.437856</td>\n",
              "      <td>0.00</td>\n",
              "      <td>0.0</td>\n",
              "      <td>0.0</td>\n",
              "      <td>0.0</td>\n",
              "      <td>1.0</td>\n",
              "      <td>1.0</td>\n",
              "      <td>1.00</td>\n",
              "    </tr>\n",
              "  </tbody>\n",
              "</table>\n",
              "</div>"
            ],
            "text/plain": [
              "                  variable        mean    std_dev  ...  p_0.75  p_0.95  p_0.99\n",
              "0                      age   54.438944   9.038662  ...    61.0    68.0   71.00\n",
              "1               chest_pain    3.158416   0.960126  ...     4.0     4.0    4.00\n",
              "2   resting_blood_pressure  131.689769  17.599748  ...   140.0   160.0  180.00\n",
              "3        serum_cholestoral  246.693069  51.776918  ...   275.0   326.9  406.74\n",
              "4      fasting_blood_sugar    0.148515   0.356198  ...     0.0     1.0    1.00\n",
              "5          resting_electro    0.990099   0.994971  ...     2.0     2.0    2.00\n",
              "6           max_heart_rate  149.607261  22.875003  ...   166.0   181.9  191.96\n",
              "7              exer_angina    0.326733   0.469794  ...     1.0     1.0    1.00\n",
              "8                  oldpeak    1.039604   1.161075  ...     1.6     3.4    4.20\n",
              "9                    slope    1.600660   0.616226  ...     2.0     3.0    3.00\n",
              "10       num_vessels_flour    0.672241   0.937438  ...     1.0     3.0    3.00\n",
              "11                    thal    4.734219   1.939706  ...     7.0     7.0    7.00\n",
              "12  heart_disease_severity    0.937294   1.228536  ...     2.0     3.0    4.00\n",
              "13            exter_angina    0.326733   0.469794  ...     1.0     1.0    1.00\n",
              "\n",
              "[14 rows x 11 columns]"
            ]
          },
          "metadata": {
            "tags": []
          },
          "execution_count": 36
        }
      ]
    },
    {
      "cell_type": "markdown",
      "metadata": {
        "id": "CwpcWNKmDJBl",
        "colab_type": "text"
      },
      "source": [
        "### 3) Preparación de datos\n",
        "\n"
      ]
    },
    {
      "cell_type": "code",
      "metadata": {
        "id": "BnbnzJFrvVZC",
        "colab_type": "code",
        "colab": {}
      },
      "source": [
        "# Eliminamos los NaN (en este caso no impacta eliminar los NA)\n",
        "data=data.dropna()"
      ],
      "execution_count": null,
      "outputs": []
    },
    {
      "cell_type": "code",
      "metadata": {
        "id": "3issxIz1mcBT",
        "colab_type": "code",
        "colab": {
          "base_uri": "https://localhost:8080/",
          "height": 551
        },
        "outputId": "9ef5f957-4871-48a6-81bb-af97f302f194"
      },
      "source": [
        "status(data)"
      ],
      "execution_count": null,
      "outputs": [
        {
          "output_type": "execute_result",
          "data": {
            "text/html": [
              "<div>\n",
              "<style scoped>\n",
              "    .dataframe tbody tr th:only-of-type {\n",
              "        vertical-align: middle;\n",
              "    }\n",
              "\n",
              "    .dataframe tbody tr th {\n",
              "        vertical-align: top;\n",
              "    }\n",
              "\n",
              "    .dataframe thead th {\n",
              "        text-align: right;\n",
              "    }\n",
              "</style>\n",
              "<table border=\"1\" class=\"dataframe\">\n",
              "  <thead>\n",
              "    <tr style=\"text-align: right;\">\n",
              "      <th></th>\n",
              "      <th>variable</th>\n",
              "      <th>q_nan</th>\n",
              "      <th>p_nan</th>\n",
              "      <th>q_zeros</th>\n",
              "      <th>p_zeros</th>\n",
              "      <th>unique</th>\n",
              "      <th>type</th>\n",
              "    </tr>\n",
              "  </thead>\n",
              "  <tbody>\n",
              "    <tr>\n",
              "      <th>0</th>\n",
              "      <td>age</td>\n",
              "      <td>0</td>\n",
              "      <td>0.0</td>\n",
              "      <td>0</td>\n",
              "      <td>0.000000</td>\n",
              "      <td>41</td>\n",
              "      <td>int64</td>\n",
              "    </tr>\n",
              "    <tr>\n",
              "      <th>1</th>\n",
              "      <td>gender</td>\n",
              "      <td>0</td>\n",
              "      <td>0.0</td>\n",
              "      <td>0</td>\n",
              "      <td>0.000000</td>\n",
              "      <td>2</td>\n",
              "      <td>object</td>\n",
              "    </tr>\n",
              "    <tr>\n",
              "      <th>2</th>\n",
              "      <td>chest_pain</td>\n",
              "      <td>0</td>\n",
              "      <td>0.0</td>\n",
              "      <td>0</td>\n",
              "      <td>0.000000</td>\n",
              "      <td>4</td>\n",
              "      <td>int64</td>\n",
              "    </tr>\n",
              "    <tr>\n",
              "      <th>3</th>\n",
              "      <td>resting_blood_pressure</td>\n",
              "      <td>0</td>\n",
              "      <td>0.0</td>\n",
              "      <td>0</td>\n",
              "      <td>0.000000</td>\n",
              "      <td>50</td>\n",
              "      <td>int64</td>\n",
              "    </tr>\n",
              "    <tr>\n",
              "      <th>4</th>\n",
              "      <td>serum_cholestoral</td>\n",
              "      <td>0</td>\n",
              "      <td>0.0</td>\n",
              "      <td>0</td>\n",
              "      <td>0.000000</td>\n",
              "      <td>152</td>\n",
              "      <td>int64</td>\n",
              "    </tr>\n",
              "    <tr>\n",
              "      <th>5</th>\n",
              "      <td>fasting_blood_sugar</td>\n",
              "      <td>0</td>\n",
              "      <td>0.0</td>\n",
              "      <td>254</td>\n",
              "      <td>0.855219</td>\n",
              "      <td>2</td>\n",
              "      <td>int64</td>\n",
              "    </tr>\n",
              "    <tr>\n",
              "      <th>6</th>\n",
              "      <td>resting_electro</td>\n",
              "      <td>0</td>\n",
              "      <td>0.0</td>\n",
              "      <td>147</td>\n",
              "      <td>0.494949</td>\n",
              "      <td>3</td>\n",
              "      <td>int64</td>\n",
              "    </tr>\n",
              "    <tr>\n",
              "      <th>7</th>\n",
              "      <td>max_heart_rate</td>\n",
              "      <td>0</td>\n",
              "      <td>0.0</td>\n",
              "      <td>0</td>\n",
              "      <td>0.000000</td>\n",
              "      <td>91</td>\n",
              "      <td>int64</td>\n",
              "    </tr>\n",
              "    <tr>\n",
              "      <th>8</th>\n",
              "      <td>exer_angina</td>\n",
              "      <td>0</td>\n",
              "      <td>0.0</td>\n",
              "      <td>200</td>\n",
              "      <td>0.673401</td>\n",
              "      <td>2</td>\n",
              "      <td>int64</td>\n",
              "    </tr>\n",
              "    <tr>\n",
              "      <th>9</th>\n",
              "      <td>oldpeak</td>\n",
              "      <td>0</td>\n",
              "      <td>0.0</td>\n",
              "      <td>96</td>\n",
              "      <td>0.323232</td>\n",
              "      <td>40</td>\n",
              "      <td>float64</td>\n",
              "    </tr>\n",
              "    <tr>\n",
              "      <th>10</th>\n",
              "      <td>slope</td>\n",
              "      <td>0</td>\n",
              "      <td>0.0</td>\n",
              "      <td>0</td>\n",
              "      <td>0.000000</td>\n",
              "      <td>3</td>\n",
              "      <td>int64</td>\n",
              "    </tr>\n",
              "    <tr>\n",
              "      <th>11</th>\n",
              "      <td>num_vessels_flour</td>\n",
              "      <td>0</td>\n",
              "      <td>0.0</td>\n",
              "      <td>174</td>\n",
              "      <td>0.585859</td>\n",
              "      <td>4</td>\n",
              "      <td>float64</td>\n",
              "    </tr>\n",
              "    <tr>\n",
              "      <th>12</th>\n",
              "      <td>thal</td>\n",
              "      <td>0</td>\n",
              "      <td>0.0</td>\n",
              "      <td>0</td>\n",
              "      <td>0.000000</td>\n",
              "      <td>3</td>\n",
              "      <td>float64</td>\n",
              "    </tr>\n",
              "    <tr>\n",
              "      <th>13</th>\n",
              "      <td>heart_disease_severity</td>\n",
              "      <td>0</td>\n",
              "      <td>0.0</td>\n",
              "      <td>160</td>\n",
              "      <td>0.538721</td>\n",
              "      <td>5</td>\n",
              "      <td>int64</td>\n",
              "    </tr>\n",
              "    <tr>\n",
              "      <th>14</th>\n",
              "      <td>exter_angina</td>\n",
              "      <td>0</td>\n",
              "      <td>0.0</td>\n",
              "      <td>200</td>\n",
              "      <td>0.673401</td>\n",
              "      <td>2</td>\n",
              "      <td>int64</td>\n",
              "    </tr>\n",
              "    <tr>\n",
              "      <th>15</th>\n",
              "      <td>has_heart_disease</td>\n",
              "      <td>0</td>\n",
              "      <td>0.0</td>\n",
              "      <td>0</td>\n",
              "      <td>0.000000</td>\n",
              "      <td>2</td>\n",
              "      <td>object</td>\n",
              "    </tr>\n",
              "  </tbody>\n",
              "</table>\n",
              "</div>"
            ],
            "text/plain": [
              "                  variable  q_nan  p_nan  q_zeros   p_zeros  unique     type\n",
              "0                      age      0    0.0        0  0.000000      41    int64\n",
              "1                   gender      0    0.0        0  0.000000       2   object\n",
              "2               chest_pain      0    0.0        0  0.000000       4    int64\n",
              "3   resting_blood_pressure      0    0.0        0  0.000000      50    int64\n",
              "4        serum_cholestoral      0    0.0        0  0.000000     152    int64\n",
              "5      fasting_blood_sugar      0    0.0      254  0.855219       2    int64\n",
              "6          resting_electro      0    0.0      147  0.494949       3    int64\n",
              "7           max_heart_rate      0    0.0        0  0.000000      91    int64\n",
              "8              exer_angina      0    0.0      200  0.673401       2    int64\n",
              "9                  oldpeak      0    0.0       96  0.323232      40  float64\n",
              "10                   slope      0    0.0        0  0.000000       3    int64\n",
              "11       num_vessels_flour      0    0.0      174  0.585859       4  float64\n",
              "12                    thal      0    0.0        0  0.000000       3  float64\n",
              "13  heart_disease_severity      0    0.0      160  0.538721       5    int64\n",
              "14            exter_angina      0    0.0      200  0.673401       2    int64\n",
              "15       has_heart_disease      0    0.0        0  0.000000       2   object"
            ]
          },
          "metadata": {
            "tags": []
          },
          "execution_count": 38
        }
      ]
    },
    {
      "cell_type": "code",
      "metadata": {
        "id": "ZRD6c0cd1aV8",
        "colab_type": "code",
        "colab": {}
      },
      "source": [
        "from keras.utils import to_categorical \n",
        "\n",
        "# La lectura y 'preparación' se las dejo hecha:\n",
        "data['target'] = data['has_heart_disease'].apply(lambda x: 1 if x == 'yes' else 0)\n",
        "\n",
        "data_x=data.drop(['target','heart_disease_severity','gender','has_heart_disease'], axis=1)\n",
        "data_y=to_categorical(data['target'], num_classes=2)\n",
        "\n",
        "data_y"
      ],
      "execution_count": null,
      "outputs": []
    },
    {
      "cell_type": "code",
      "metadata": {
        "id": "OmWw1xomv-vQ",
        "colab_type": "code",
        "colab": {}
      },
      "source": [
        "# Explorar `to_categorical`..."
      ],
      "execution_count": null,
      "outputs": []
    },
    {
      "cell_type": "markdown",
      "metadata": {
        "id": "ib9qWuNFvsyD",
        "colab_type": "text"
      },
      "source": [
        "Importante: **Normalizar** los datos."
      ]
    },
    {
      "cell_type": "code",
      "metadata": {
        "id": "S6aPuk-oKhWk",
        "colab_type": "code",
        "colab": {
          "base_uri": "https://localhost:8080/",
          "height": 243
        },
        "outputId": "c9967250-a1a2-4f2d-9d6a-f84817883dc5"
      },
      "source": [
        "from sklearn.preprocessing import MinMaxScaler\n",
        "scaler = MinMaxScaler()\n",
        "data_x = scaler.fit_transform(data_x)\n",
        "\n"
      ],
      "execution_count": null,
      "outputs": [
        {
          "output_type": "execute_result",
          "data": {
            "text/plain": [
              "array([[0.70833333, 0.        , 0.48113208, ..., 0.        , 0.75      ,\n",
              "        0.        ],\n",
              "       [0.79166667, 1.        , 0.62264151, ..., 1.        , 0.        ,\n",
              "        1.        ],\n",
              "       [0.79166667, 1.        , 0.24528302, ..., 0.66666667, 1.        ,\n",
              "        1.        ],\n",
              "       ...,\n",
              "       [0.8125    , 1.        , 0.47169811, ..., 0.66666667, 1.        ,\n",
              "        0.        ],\n",
              "       [0.58333333, 1.        , 0.33962264, ..., 0.33333333, 1.        ,\n",
              "        1.        ],\n",
              "       [0.58333333, 0.33333333, 0.33962264, ..., 0.33333333, 0.        ,\n",
              "        0.        ]])"
            ]
          },
          "metadata": {
            "tags": []
          },
          "execution_count": 43
        }
      ]
    },
    {
      "cell_type": "markdown",
      "metadata": {
        "id": "gDJC4mg2vzuD",
        "colab_type": "text"
      },
      "source": [
        "Separación tr/ts:"
      ]
    },
    {
      "cell_type": "code",
      "metadata": {
        "id": "NkcW_lAD1WCH",
        "colab_type": "code",
        "colab": {}
      },
      "source": [
        "from sklearn.model_selection import train_test_split\n",
        "\n",
        "x_train, x_test, y_train, y_test = train_test_split(data_x, data_y, test_size=0.2)"
      ],
      "execution_count": null,
      "outputs": []
    },
    {
      "cell_type": "code",
      "metadata": {
        "id": "86FY5kWq1mar",
        "colab_type": "code",
        "colab": {
          "base_uri": "https://localhost:8080/",
          "height": 34
        },
        "outputId": "1d978496-49a4-41d4-c2e0-b436c633e7e4"
      },
      "source": [
        "x_train.shape"
      ],
      "execution_count": null,
      "outputs": [
        {
          "output_type": "execute_result",
          "data": {
            "text/plain": [
              "(237, 13)"
            ]
          },
          "metadata": {
            "tags": []
          },
          "execution_count": 45
        }
      ]
    },
    {
      "cell_type": "code",
      "metadata": {
        "id": "96C-o3XtDvBE",
        "colab_type": "code",
        "colab": {
          "base_uri": "https://localhost:8080/",
          "height": 34
        },
        "outputId": "a3171ab3-7b1b-4864-8957-cb7920f3a3e4"
      },
      "source": [
        "y_train.shape"
      ],
      "execution_count": null,
      "outputs": [
        {
          "output_type": "execute_result",
          "data": {
            "text/plain": [
              "(237, 2)"
            ]
          },
          "metadata": {
            "tags": []
          },
          "execution_count": 47
        }
      ]
    },
    {
      "cell_type": "markdown",
      "metadata": {
        "id": "8p6UrYsqXkbl",
        "colab_type": "text"
      },
      "source": [
        "#### Entrenamiento del modelo"
      ]
    },
    {
      "cell_type": "code",
      "metadata": {
        "id": "DDqipKZ45GYZ",
        "colab_type": "code",
        "colab": {
          "base_uri": "https://localhost:8080/",
          "height": 457
        },
        "outputId": "54e85475-32da-41cc-f24f-86cb578272a6"
      },
      "source": [
        "x_train.shape\n",
        "status(x_train)"
      ],
      "execution_count": null,
      "outputs": [
        {
          "output_type": "execute_result",
          "data": {
            "text/html": [
              "<div>\n",
              "<style scoped>\n",
              "    .dataframe tbody tr th:only-of-type {\n",
              "        vertical-align: middle;\n",
              "    }\n",
              "\n",
              "    .dataframe tbody tr th {\n",
              "        vertical-align: top;\n",
              "    }\n",
              "\n",
              "    .dataframe thead th {\n",
              "        text-align: right;\n",
              "    }\n",
              "</style>\n",
              "<table border=\"1\" class=\"dataframe\">\n",
              "  <thead>\n",
              "    <tr style=\"text-align: right;\">\n",
              "      <th></th>\n",
              "      <th>variable</th>\n",
              "      <th>q_nan</th>\n",
              "      <th>p_nan</th>\n",
              "      <th>q_zeros</th>\n",
              "      <th>p_zeros</th>\n",
              "      <th>unique</th>\n",
              "      <th>type</th>\n",
              "    </tr>\n",
              "  </thead>\n",
              "  <tbody>\n",
              "    <tr>\n",
              "      <th>0</th>\n",
              "      <td>0</td>\n",
              "      <td>0</td>\n",
              "      <td>0.0</td>\n",
              "      <td>1.0</td>\n",
              "      <td>0.004219</td>\n",
              "      <td>41</td>\n",
              "      <td>float64</td>\n",
              "    </tr>\n",
              "    <tr>\n",
              "      <th>1</th>\n",
              "      <td>1</td>\n",
              "      <td>0</td>\n",
              "      <td>0.0</td>\n",
              "      <td>21.0</td>\n",
              "      <td>0.088608</td>\n",
              "      <td>4</td>\n",
              "      <td>float64</td>\n",
              "    </tr>\n",
              "    <tr>\n",
              "      <th>2</th>\n",
              "      <td>2</td>\n",
              "      <td>0</td>\n",
              "      <td>0.0</td>\n",
              "      <td>1.0</td>\n",
              "      <td>0.004219</td>\n",
              "      <td>47</td>\n",
              "      <td>float64</td>\n",
              "    </tr>\n",
              "    <tr>\n",
              "      <th>3</th>\n",
              "      <td>3</td>\n",
              "      <td>0</td>\n",
              "      <td>0.0</td>\n",
              "      <td>1.0</td>\n",
              "      <td>0.004219</td>\n",
              "      <td>135</td>\n",
              "      <td>float64</td>\n",
              "    </tr>\n",
              "    <tr>\n",
              "      <th>4</th>\n",
              "      <td>4</td>\n",
              "      <td>0</td>\n",
              "      <td>0.0</td>\n",
              "      <td>203.0</td>\n",
              "      <td>0.856540</td>\n",
              "      <td>2</td>\n",
              "      <td>Int64</td>\n",
              "    </tr>\n",
              "    <tr>\n",
              "      <th>5</th>\n",
              "      <td>5</td>\n",
              "      <td>0</td>\n",
              "      <td>0.0</td>\n",
              "      <td>117.0</td>\n",
              "      <td>0.493671</td>\n",
              "      <td>3</td>\n",
              "      <td>float64</td>\n",
              "    </tr>\n",
              "    <tr>\n",
              "      <th>6</th>\n",
              "      <td>6</td>\n",
              "      <td>0</td>\n",
              "      <td>0.0</td>\n",
              "      <td>1.0</td>\n",
              "      <td>0.004219</td>\n",
              "      <td>84</td>\n",
              "      <td>float64</td>\n",
              "    </tr>\n",
              "    <tr>\n",
              "      <th>7</th>\n",
              "      <td>7</td>\n",
              "      <td>0</td>\n",
              "      <td>0.0</td>\n",
              "      <td>162.0</td>\n",
              "      <td>0.683544</td>\n",
              "      <td>2</td>\n",
              "      <td>Int64</td>\n",
              "    </tr>\n",
              "    <tr>\n",
              "      <th>8</th>\n",
              "      <td>8</td>\n",
              "      <td>0</td>\n",
              "      <td>0.0</td>\n",
              "      <td>79.0</td>\n",
              "      <td>0.333333</td>\n",
              "      <td>37</td>\n",
              "      <td>float64</td>\n",
              "    </tr>\n",
              "    <tr>\n",
              "      <th>9</th>\n",
              "      <td>9</td>\n",
              "      <td>0</td>\n",
              "      <td>0.0</td>\n",
              "      <td>113.0</td>\n",
              "      <td>0.476793</td>\n",
              "      <td>3</td>\n",
              "      <td>float64</td>\n",
              "    </tr>\n",
              "    <tr>\n",
              "      <th>10</th>\n",
              "      <td>10</td>\n",
              "      <td>0</td>\n",
              "      <td>0.0</td>\n",
              "      <td>142.0</td>\n",
              "      <td>0.599156</td>\n",
              "      <td>4</td>\n",
              "      <td>float64</td>\n",
              "    </tr>\n",
              "    <tr>\n",
              "      <th>11</th>\n",
              "      <td>11</td>\n",
              "      <td>0</td>\n",
              "      <td>0.0</td>\n",
              "      <td>137.0</td>\n",
              "      <td>0.578059</td>\n",
              "      <td>3</td>\n",
              "      <td>float64</td>\n",
              "    </tr>\n",
              "    <tr>\n",
              "      <th>12</th>\n",
              "      <td>12</td>\n",
              "      <td>0</td>\n",
              "      <td>0.0</td>\n",
              "      <td>162.0</td>\n",
              "      <td>0.683544</td>\n",
              "      <td>2</td>\n",
              "      <td>Int64</td>\n",
              "    </tr>\n",
              "  </tbody>\n",
              "</table>\n",
              "</div>"
            ],
            "text/plain": [
              "    variable  q_nan  p_nan  q_zeros   p_zeros  unique     type\n",
              "0          0      0    0.0      1.0  0.004219      41  float64\n",
              "1          1      0    0.0     21.0  0.088608       4  float64\n",
              "2          2      0    0.0      1.0  0.004219      47  float64\n",
              "3          3      0    0.0      1.0  0.004219     135  float64\n",
              "4          4      0    0.0    203.0  0.856540       2    Int64\n",
              "5          5      0    0.0    117.0  0.493671       3  float64\n",
              "6          6      0    0.0      1.0  0.004219      84  float64\n",
              "7          7      0    0.0    162.0  0.683544       2    Int64\n",
              "8          8      0    0.0     79.0  0.333333      37  float64\n",
              "9          9      0    0.0    113.0  0.476793       3  float64\n",
              "10        10      0    0.0    142.0  0.599156       4  float64\n",
              "11        11      0    0.0    137.0  0.578059       3  float64\n",
              "12        12      0    0.0    162.0  0.683544       2    Int64"
            ]
          },
          "metadata": {
            "tags": []
          },
          "execution_count": 48
        }
      ]
    },
    {
      "cell_type": "code",
      "metadata": {
        "id": "RZm1eBQQChDC",
        "colab_type": "code",
        "colab": {}
      },
      "source": [
        "# Carga de libs\n",
        "\n",
        "import tensorflow as tf\n",
        "from tensorflow import keras\n",
        "\n",
        "from keras.models import Sequential\n",
        "from keras.layers import Dense"
      ],
      "execution_count": null,
      "outputs": []
    },
    {
      "cell_type": "code",
      "metadata": {
        "id": "HBYQMOTvK2a9",
        "colab_type": "code",
        "colab": {}
      },
      "source": [
        "_,in_shape=x_train.shape"
      ],
      "execution_count": null,
      "outputs": []
    },
    {
      "cell_type": "code",
      "metadata": {
        "id": "_EHy_uwdCrSO",
        "colab_type": "code",
        "colab": {}
      },
      "source": [
        "model = Sequential()\n",
        "\n",
        "model.add(Dense(128, input_dim=in_shape)) # input_dim son las variables de entrada # input + H1\n",
        "model.add(Dense(64, activation='relu')) # H2\n",
        "model.add(Dense(2, activation='softmax')) # softmax necesitamos N neuronas"
      ],
      "execution_count": null,
      "outputs": []
    },
    {
      "cell_type": "markdown",
      "metadata": {
        "id": "dJgzTwM2S5cQ",
        "colab_type": "text"
      },
      "source": [
        "<img src=\"https://i.ibb.co/CH8wJyD/Screen-Shot-2020-09-05-at-19-00-14.png\" width=\"500px\">"
      ]
    },
    {
      "cell_type": "code",
      "metadata": {
        "id": "k46pJdKhUGxF",
        "colab_type": "code",
        "colab": {
          "base_uri": "https://localhost:8080/",
          "height": 260
        },
        "outputId": "fd228576-0f33-4aac-fd71-863973810207"
      },
      "source": [
        "model.summary()"
      ],
      "execution_count": null,
      "outputs": [
        {
          "output_type": "stream",
          "text": [
            "Model: \"sequential_4\"\n",
            "_________________________________________________________________\n",
            "Layer (type)                 Output Shape              Param #   \n",
            "=================================================================\n",
            "dense_12 (Dense)             (None, 128)               1792      \n",
            "_________________________________________________________________\n",
            "dense_13 (Dense)             (None, 64)                8256      \n",
            "_________________________________________________________________\n",
            "dense_14 (Dense)             (None, 2)                 130       \n",
            "=================================================================\n",
            "Total params: 10,178\n",
            "Trainable params: 10,178\n",
            "Non-trainable params: 0\n",
            "_________________________________________________________________\n"
          ],
          "name": "stdout"
        }
      ]
    },
    {
      "cell_type": "code",
      "metadata": {
        "id": "PDAdG_HeVV6Z",
        "colab_type": "code",
        "colab": {
          "base_uri": "https://localhost:8080/",
          "height": 77
        },
        "outputId": "54f0088f-838c-46b1-8a34-b21a3f519d2a"
      },
      "source": [
        "keras.utils.plot_model(model, show_shapes=False, rankdir=\"LR\")"
      ],
      "execution_count": null,
      "outputs": [
        {
          "output_type": "execute_result",
          "data": {
            "image/png": "[encoded data removed]",
            "text/plain": [
              "<IPython.core.display.Image object>"
            ]
          },
          "metadata": {
            "tags": []
          },
          "execution_count": 65
        }
      ]
    },
    {
      "cell_type": "code",
      "metadata": {
        "colab_type": "code",
        "id": "9ODch-OFCaW4",
        "colab": {}
      },
      "source": [
        "model.compile(optimizer='RMSprop',\n",
        "              loss='binary_crossentropy',\n",
        "              metrics=['accuracy'])"
      ],
      "execution_count": null,
      "outputs": []
    },
    {
      "cell_type": "code",
      "metadata": {
        "id": "gAFkN9nf2PGI",
        "colab_type": "code",
        "colab": {}
      },
      "source": [
        "\n",
        "\n",
        "\n",
        "\n"
      ],
      "execution_count": null,
      "outputs": []
    },
    {
      "cell_type": "markdown",
      "metadata": {
        "id": "S9y8x7jR2Px0",
        "colab_type": "text"
      },
      "source": [
        "Optimizadores en keras: https://www.dlology.com/blog/quick-notes-on-how-to-choose-optimizer-in-keras/\n",
        "\n",
        "<img src=\"https://gitcdn.xyz/cdn/Tony607/blog_statics/e1a0b1e060e783bd1978a141acff897ae71bd021/images/optimizer/optimizer.gif\" width=\"300px\">"
      ]
    },
    {
      "cell_type": "code",
      "metadata": {
        "id": "N3HQFIfTC1Qe",
        "colab_type": "code",
        "colab": {}
      },
      "source": [
        ""
      ],
      "execution_count": null,
      "outputs": []
    },
    {
      "cell_type": "markdown",
      "metadata": {
        "id": "37BtHdlo1E-A",
        "colab_type": "text"
      },
      "source": [
        ""
      ]
    },
    {
      "cell_type": "code",
      "metadata": {
        "id": "Dn6yiRzBDVJ9",
        "colab_type": "code",
        "colab": {}
      },
      "source": [
        ""
      ],
      "execution_count": null,
      "outputs": []
    },
    {
      "cell_type": "markdown",
      "metadata": {
        "id": "lWgulax3wJ9f",
        "colab_type": "text"
      },
      "source": [
        "En clase: \n",
        "\n",
        "- Hablar del InputLayer y Dense\n",
        "- Repasar dimensiones de entrada y salida de cada capa\n",
        "- Hablar de la capa de salida\n",
        "- Contar la cantidad de parámetros a aprender"
      ]
    },
    {
      "cell_type": "code",
      "metadata": {
        "id": "ArvNDKWEEBOO",
        "colab_type": "code",
        "colab": {
          "base_uri": "https://localhost:8080/",
          "height": 34
        },
        "outputId": "362ffcee-2e4b-4ea7-ee9d-7692178ce9e9"
      },
      "source": [
        "x_test.shape, y_test.shape"
      ],
      "execution_count": null,
      "outputs": [
        {
          "output_type": "execute_result",
          "data": {
            "text/plain": [
              "((60, 13), (60, 2))"
            ]
          },
          "metadata": {
            "tags": []
          },
          "execution_count": 67
        }
      ]
    },
    {
      "cell_type": "markdown",
      "metadata": {
        "id": "hdwhB5BwxzIr",
        "colab_type": "text"
      },
      "source": [
        "En clase: \n",
        "\n",
        "- Hablar del set de datos de validación, epochs y batch size\n",
        "- Actualización de los gradientes"
      ]
    },
    {
      "cell_type": "code",
      "metadata": {
        "id": "WlhBjD5R4zLU",
        "colab_type": "code",
        "colab": {
          "base_uri": "https://localhost:8080/",
          "height": 1000
        },
        "outputId": "c2725127-d48e-4f80-cfa1-ca008f409161"
      },
      "source": [
        "history = model.fit(x_train, y_train, validation_data=(x_test, y_test), epochs=40, batch_size=32) # tambien se puede usar: validation_split=0.2"
      ],
      "execution_count": null,
      "outputs": [
        {
          "output_type": "stream",
          "text": [
            "Epoch 1/40\n",
            "8/8 [==============================] - 0s 13ms/step - loss: 0.5996 - accuracy: 0.6920 - val_loss: 0.5784 - val_accuracy: 0.7000\n",
            "Epoch 2/40\n",
            "8/8 [==============================] - 0s 2ms/step - loss: 0.5027 - accuracy: 0.8059 - val_loss: 0.5140 - val_accuracy: 0.7500\n",
            "Epoch 3/40\n",
            "8/8 [==============================] - 0s 2ms/step - loss: 0.4579 - accuracy: 0.8101 - val_loss: 0.4721 - val_accuracy: 0.8000\n",
            "Epoch 4/40\n",
            "8/8 [==============================] - 0s 3ms/step - loss: 0.4304 - accuracy: 0.8481 - val_loss: 0.4510 - val_accuracy: 0.7833\n",
            "Epoch 5/40\n",
            "8/8 [==============================] - 0s 3ms/step - loss: 0.4152 - accuracy: 0.8523 - val_loss: 0.4357 - val_accuracy: 0.8000\n",
            "Epoch 6/40\n",
            "8/8 [==============================] - 0s 3ms/step - loss: 0.4005 - accuracy: 0.8523 - val_loss: 0.4192 - val_accuracy: 0.8167\n",
            "Epoch 7/40\n",
            "8/8 [==============================] - 0s 3ms/step - loss: 0.3929 - accuracy: 0.8523 - val_loss: 0.4140 - val_accuracy: 0.7833\n",
            "Epoch 8/40\n",
            "8/8 [==============================] - 0s 3ms/step - loss: 0.3780 - accuracy: 0.8312 - val_loss: 0.4016 - val_accuracy: 0.8167\n",
            "Epoch 9/40\n",
            "8/8 [==============================] - 0s 3ms/step - loss: 0.3740 - accuracy: 0.8565 - val_loss: 0.4145 - val_accuracy: 0.8333\n",
            "Epoch 10/40\n",
            "8/8 [==============================] - 0s 3ms/step - loss: 0.3684 - accuracy: 0.8692 - val_loss: 0.4257 - val_accuracy: 0.7667\n",
            "Epoch 11/40\n",
            "8/8 [==============================] - 0s 3ms/step - loss: 0.3731 - accuracy: 0.8397 - val_loss: 0.4316 - val_accuracy: 0.7667\n",
            "Epoch 12/40\n",
            "8/8 [==============================] - 0s 3ms/step - loss: 0.3765 - accuracy: 0.8270 - val_loss: 0.3965 - val_accuracy: 0.7833\n",
            "Epoch 13/40\n",
            "8/8 [==============================] - 0s 3ms/step - loss: 0.3675 - accuracy: 0.8608 - val_loss: 0.4036 - val_accuracy: 0.7833\n",
            "Epoch 14/40\n",
            "8/8 [==============================] - 0s 3ms/step - loss: 0.3645 - accuracy: 0.8523 - val_loss: 0.3845 - val_accuracy: 0.8333\n",
            "Epoch 15/40\n",
            "8/8 [==============================] - 0s 3ms/step - loss: 0.3593 - accuracy: 0.8565 - val_loss: 0.3984 - val_accuracy: 0.7833\n",
            "Epoch 16/40\n",
            "8/8 [==============================] - 0s 3ms/step - loss: 0.3649 - accuracy: 0.8608 - val_loss: 0.3930 - val_accuracy: 0.8333\n",
            "Epoch 17/40\n",
            "8/8 [==============================] - 0s 3ms/step - loss: 0.3562 - accuracy: 0.8523 - val_loss: 0.3930 - val_accuracy: 0.8333\n",
            "Epoch 18/40\n",
            "8/8 [==============================] - 0s 3ms/step - loss: 0.3599 - accuracy: 0.8608 - val_loss: 0.3835 - val_accuracy: 0.8333\n",
            "Epoch 19/40\n",
            "8/8 [==============================] - 0s 3ms/step - loss: 0.3542 - accuracy: 0.8565 - val_loss: 0.4244 - val_accuracy: 0.7833\n",
            "Epoch 20/40\n",
            "8/8 [==============================] - 0s 3ms/step - loss: 0.3562 - accuracy: 0.8481 - val_loss: 0.4245 - val_accuracy: 0.7833\n",
            "Epoch 21/40\n",
            "8/8 [==============================] - 0s 2ms/step - loss: 0.3545 - accuracy: 0.8565 - val_loss: 0.3833 - val_accuracy: 0.8333\n",
            "Epoch 22/40\n",
            "8/8 [==============================] - 0s 3ms/step - loss: 0.3484 - accuracy: 0.8523 - val_loss: 0.4062 - val_accuracy: 0.7833\n",
            "Epoch 23/40\n",
            "8/8 [==============================] - 0s 3ms/step - loss: 0.3436 - accuracy: 0.8692 - val_loss: 0.3903 - val_accuracy: 0.8167\n",
            "Epoch 24/40\n",
            "8/8 [==============================] - 0s 3ms/step - loss: 0.3422 - accuracy: 0.8565 - val_loss: 0.3757 - val_accuracy: 0.8500\n",
            "Epoch 25/40\n",
            "8/8 [==============================] - 0s 3ms/step - loss: 0.3441 - accuracy: 0.8608 - val_loss: 0.3989 - val_accuracy: 0.8000\n",
            "Epoch 26/40\n",
            "8/8 [==============================] - 0s 2ms/step - loss: 0.3410 - accuracy: 0.8565 - val_loss: 0.3739 - val_accuracy: 0.8333\n",
            "Epoch 27/40\n",
            "8/8 [==============================] - 0s 2ms/step - loss: 0.3477 - accuracy: 0.8439 - val_loss: 0.3861 - val_accuracy: 0.8167\n",
            "Epoch 28/40\n",
            "8/8 [==============================] - 0s 3ms/step - loss: 0.3400 - accuracy: 0.8565 - val_loss: 0.4023 - val_accuracy: 0.8000\n",
            "Epoch 29/40\n",
            "8/8 [==============================] - 0s 3ms/step - loss: 0.3410 - accuracy: 0.8650 - val_loss: 0.3694 - val_accuracy: 0.8333\n",
            "Epoch 30/40\n",
            "8/8 [==============================] - 0s 3ms/step - loss: 0.3438 - accuracy: 0.8650 - val_loss: 0.3763 - val_accuracy: 0.8500\n",
            "Epoch 31/40\n",
            "8/8 [==============================] - 0s 3ms/step - loss: 0.3349 - accuracy: 0.8565 - val_loss: 0.3821 - val_accuracy: 0.8167\n",
            "Epoch 32/40\n",
            "8/8 [==============================] - 0s 3ms/step - loss: 0.3344 - accuracy: 0.8692 - val_loss: 0.3845 - val_accuracy: 0.8167\n",
            "Epoch 33/40\n",
            "8/8 [==============================] - 0s 3ms/step - loss: 0.3409 - accuracy: 0.8650 - val_loss: 0.3820 - val_accuracy: 0.8500\n",
            "Epoch 34/40\n",
            "8/8 [==============================] - 0s 3ms/step - loss: 0.3322 - accuracy: 0.8692 - val_loss: 0.3864 - val_accuracy: 0.8167\n",
            "Epoch 35/40\n",
            "8/8 [==============================] - 0s 3ms/step - loss: 0.3312 - accuracy: 0.8734 - val_loss: 0.3948 - val_accuracy: 0.8000\n",
            "Epoch 36/40\n",
            "8/8 [==============================] - 0s 3ms/step - loss: 0.3305 - accuracy: 0.8734 - val_loss: 0.4115 - val_accuracy: 0.7833\n",
            "Epoch 37/40\n",
            "8/8 [==============================] - 0s 3ms/step - loss: 0.3278 - accuracy: 0.8734 - val_loss: 0.3865 - val_accuracy: 0.8500\n",
            "Epoch 38/40\n",
            "8/8 [==============================] - 0s 3ms/step - loss: 0.3264 - accuracy: 0.8692 - val_loss: 0.3830 - val_accuracy: 0.8000\n",
            "Epoch 39/40\n",
            "8/8 [==============================] - 0s 3ms/step - loss: 0.3241 - accuracy: 0.8692 - val_loss: 0.3941 - val_accuracy: 0.7833\n",
            "Epoch 40/40\n",
            "8/8 [==============================] - 0s 3ms/step - loss: 0.3245 - accuracy: 0.8650 - val_loss: 0.3833 - val_accuracy: 0.8333\n"
          ],
          "name": "stdout"
        }
      ]
    },
    {
      "cell_type": "code",
      "metadata": {
        "id": "GcF5EgDjCPuS",
        "colab_type": "code",
        "colab": {}
      },
      "source": [
        "\n",
        "\n"
      ],
      "execution_count": null,
      "outputs": []
    },
    {
      "cell_type": "markdown",
      "metadata": {
        "id": "JmsALcbmxrRh",
        "colab_type": "text"
      },
      "source": [
        "En clase:\n",
        "\n",
        "- Hablar del objeto `history`"
      ]
    },
    {
      "cell_type": "code",
      "metadata": {
        "id": "SUO6n8hhcOtD",
        "colab_type": "code",
        "colab": {}
      },
      "source": [
        "from plotly.subplots import make_subplots\n",
        "import plotly.graph_objects as go\n",
        "\n",
        "def plot_all(history):\n",
        "  fig1 = go.Figure()\n",
        "  fig1.add_trace(go.Scattergl(y=history.history['accuracy'], name='Train'))\n",
        "  fig1.add_trace(go.Scattergl(y=history.history['val_accuracy'], name='Valid'))\n",
        "  fig1.update_layout(height=300, width=400,xaxis_title='Epoch', yaxis_title='accuracy')\n",
        "\n",
        "  fig2 = go.Figure()\n",
        "  fig2.add_trace(go.Scattergl(y=history.history['loss'], name='Train'))\n",
        "  fig2.add_trace(go.Scattergl(y=history.history['val_loss'], name='Valid'))\n",
        "  fig2.update_layout(height=300, width=400,xaxis_title='Epoch', yaxis_title='Loss')\n",
        "\n",
        "  return [fig1,fig2]"
      ],
      "execution_count": null,
      "outputs": []
    },
    {
      "cell_type": "code",
      "metadata": {
        "id": "7gk02PE3X97u",
        "colab_type": "code",
        "colab": {
          "base_uri": "https://localhost:8080/",
          "height": 617
        },
        "outputId": "bb0f87f0-172a-48df-f5f4-359df49fa55a"
      },
      "source": [
        "fig1,fig2=plot_all(history)\n",
        "fig1.show()\n",
        "fig2.show()"
      ],
      "execution_count": null,
      "outputs": [
        {
          "output_type": "display_data",
          "data": {
            "text/html": [
              "<html>\n",
              "<head><meta charset=\"utf-8\" /></head>\n",
              "<body>\n",
              "    <div>\n",
              "            <script src=\"https://cdnjs.cloudflare.com/ajax/libs/mathjax/2.7.5/MathJax.js?config=TeX-AMS-MML_SVG\"></script><script type=\"text/javascript\">if (window.MathJax) {MathJax.Hub.Config({SVG: {font: \"STIX-Web\"}});}</script>\n",
              "                <script type=\"text/javascript\">window.PlotlyConfig = {MathJaxConfig: 'local'};</script>\n",
              "        <script src=\"https://cdn.plot.ly/plotly-latest.min.js\"></script>    \n",
              "            <div id=\"f5ead21c-606c-4e15-861c-d261e7c572f3\" class=\"plotly-graph-div\" style=\"height:300px; width:400px;\"></div>\n",
              "            <script type=\"text/javascript\">\n",
              "                \n",
              "                    window.PLOTLYENV=window.PLOTLYENV || {};\n",
              "                    \n",
              "                if (document.getElementById(\"f5ead21c-606c-4e15-861c-d261e7c572f3\")) {\n",
              "                    Plotly.newPlot(\n",
              "                        'f5ead21c-606c-4e15-861c-d261e7c572f3',\n",
              "                        [{\"name\": \"Train\", \"type\": \"scattergl\", \"y\": [0.6919831037521362, 0.8059071898460388, 0.8101266026496887, 0.8481012582778931, 0.852320671081543, 0.852320671081543, 0.852320671081543, 0.8312236070632935, 0.8565400838851929, 0.8691983222961426, 0.8396624326705933, 0.8270041942596436, 0.8607594966888428, 0.852320671081543, 0.8565400838851929, 0.8607594966888428, 0.852320671081543, 0.8607594966888428, 0.8565400838851929, 0.8481012582778931, 0.8565400838851929, 0.852320671081543, 0.8691983222961426, 0.8565400838851929, 0.8607594966888428, 0.8565400838851929, 0.8438818454742432, 0.8565400838851929, 0.8649789094924927, 0.8649789094924927, 0.8565400838851929, 0.8691983222961426, 0.8649789094924927, 0.8691983222961426, 0.8734177350997925, 0.8734177350997925, 0.8734177350997925, 0.8691983222961426, 0.8691983222961426, 0.8649789094924927]}, {\"name\": \"Valid\", \"type\": \"scattergl\", \"y\": [0.699999988079071, 0.75, 0.800000011920929, 0.7833333611488342, 0.800000011920929, 0.8166666626930237, 0.7833333611488342, 0.8166666626930237, 0.8333333134651184, 0.7666666507720947, 0.7666666507720947, 0.7833333611488342, 0.7833333611488342, 0.8333333134651184, 0.7833333611488342, 0.8333333134651184, 0.8333333134651184, 0.8333333134651184, 0.7833333611488342, 0.7833333611488342, 0.8333333134651184, 0.7833333611488342, 0.8166666626930237, 0.8500000238418579, 0.800000011920929, 0.8333333134651184, 0.8166666626930237, 0.800000011920929, 0.8333333134651184, 0.8500000238418579, 0.8166666626930237, 0.8166666626930237, 0.8500000238418579, 0.8166666626930237, 0.800000011920929, 0.7833333611488342, 0.8500000238418579, 0.800000011920929, 0.7833333611488342, 0.8333333134651184]}],\n",
              "                        {\"height\": 300, \"template\": {\"data\": {\"bar\": [{\"error_x\": {\"color\": \"#2a3f5f\"}, \"error_y\": {\"color\": \"#2a3f5f\"}, \"marker\": {\"line\": {\"color\": \"#E5ECF6\", \"width\": 0.5}}, \"type\": \"bar\"}], \"barpolar\": [{\"marker\": {\"line\": {\"color\": \"#E5ECF6\", \"width\": 0.5}}, \"type\": \"barpolar\"}], \"carpet\": [{\"aaxis\": {\"endlinecolor\": \"#2a3f5f\", \"gridcolor\": \"white\", \"linecolor\": \"white\", \"minorgridcolor\": \"white\", \"startlinecolor\": \"#2a3f5f\"}, \"baxis\": {\"endlinecolor\": \"#2a3f5f\", \"gridcolor\": \"white\", \"linecolor\": \"white\", \"minorgridcolor\": \"white\", \"startlinecolor\": \"#2a3f5f\"}, \"type\": \"carpet\"}], \"choropleth\": [{\"colorbar\": {\"outlinewidth\": 0, \"ticks\": \"\"}, \"type\": \"choropleth\"}], \"contour\": [{\"colorbar\": {\"outlinewidth\": 0, \"ticks\": \"\"}, \"colorscale\": [[0.0, \"#0d0887\"], [0.1111111111111111, \"#46039f\"], [0.2222222222222222, \"#7201a8\"], [0.3333333333333333, \"#9c179e\"], [0.4444444444444444, \"#bd3786\"], [0.5555555555555556, \"#d8576b\"], [0.6666666666666666, \"#ed7953\"], [0.7777777777777778, \"#fb9f3a\"], [0.8888888888888888, \"#fdca26\"], [1.0, \"#f0f921\"]], \"type\": \"contour\"}], \"contourcarpet\": [{\"colorbar\": {\"outlinewidth\": 0, \"ticks\": \"\"}, \"type\": \"contourcarpet\"}], \"heatmap\": [{\"colorbar\": {\"outlinewidth\": 0, \"ticks\": \"\"}, \"colorscale\": [[0.0, \"#0d0887\"], [0.1111111111111111, \"#46039f\"], [0.2222222222222222, \"#7201a8\"], [0.3333333333333333, \"#9c179e\"], [0.4444444444444444, \"#bd3786\"], [0.5555555555555556, \"#d8576b\"], [0.6666666666666666, \"#ed7953\"], [0.7777777777777778, \"#fb9f3a\"], [0.8888888888888888, \"#fdca26\"], [1.0, \"#f0f921\"]], \"type\": \"heatmap\"}], \"heatmapgl\": [{\"colorbar\": {\"outlinewidth\": 0, \"ticks\": \"\"}, \"colorscale\": [[0.0, \"#0d0887\"], [0.1111111111111111, \"#46039f\"], [0.2222222222222222, \"#7201a8\"], [0.3333333333333333, \"#9c179e\"], [0.4444444444444444, \"#bd3786\"], [0.5555555555555556, \"#d8576b\"], [0.6666666666666666, \"#ed7953\"], [0.7777777777777778, \"#fb9f3a\"], [0.8888888888888888, \"#fdca26\"], [1.0, \"#f0f921\"]], \"type\": \"heatmapgl\"}], \"histogram\": [{\"marker\": {\"colorbar\": {\"outlinewidth\": 0, \"ticks\": \"\"}}, \"type\": \"histogram\"}], \"histogram2d\": [{\"colorbar\": {\"outlinewidth\": 0, \"ticks\": \"\"}, \"colorscale\": [[0.0, \"#0d0887\"], [0.1111111111111111, \"#46039f\"], [0.2222222222222222, \"#7201a8\"], [0.3333333333333333, \"#9c179e\"], [0.4444444444444444, \"#bd3786\"], [0.5555555555555556, \"#d8576b\"], [0.6666666666666666, \"#ed7953\"], [0.7777777777777778, \"#fb9f3a\"], [0.8888888888888888, \"#fdca26\"], [1.0, \"#f0f921\"]], \"type\": \"histogram2d\"}], \"histogram2dcontour\": [{\"colorbar\": {\"outlinewidth\": 0, \"ticks\": \"\"}, \"colorscale\": [[0.0, \"#0d0887\"], [0.1111111111111111, \"#46039f\"], [0.2222222222222222, \"#7201a8\"], [0.3333333333333333, \"#9c179e\"], [0.4444444444444444, \"#bd3786\"], [0.5555555555555556, \"#d8576b\"], [0.6666666666666666, \"#ed7953\"], [0.7777777777777778, \"#fb9f3a\"], [0.8888888888888888, \"#fdca26\"], [1.0, \"#f0f921\"]], \"type\": \"histogram2dcontour\"}], \"mesh3d\": [{\"colorbar\": {\"outlinewidth\": 0, \"ticks\": \"\"}, \"type\": \"mesh3d\"}], \"parcoords\": [{\"line\": {\"colorbar\": {\"outlinewidth\": 0, \"ticks\": \"\"}}, \"type\": \"parcoords\"}], \"pie\": [{\"automargin\": true, \"type\": \"pie\"}], \"scatter\": [{\"marker\": {\"colorbar\": {\"outlinewidth\": 0, \"ticks\": \"\"}}, \"type\": \"scatter\"}], \"scatter3d\": [{\"line\": {\"colorbar\": {\"outlinewidth\": 0, \"ticks\": \"\"}}, \"marker\": {\"colorbar\": {\"outlinewidth\": 0, \"ticks\": \"\"}}, \"type\": \"scatter3d\"}], \"scattercarpet\": [{\"marker\": {\"colorbar\": {\"outlinewidth\": 0, \"ticks\": \"\"}}, \"type\": \"scattercarpet\"}], \"scattergeo\": [{\"marker\": {\"colorbar\": {\"outlinewidth\": 0, \"ticks\": \"\"}}, \"type\": \"scattergeo\"}], \"scattergl\": [{\"marker\": {\"colorbar\": {\"outlinewidth\": 0, \"ticks\": \"\"}}, \"type\": \"scattergl\"}], \"scattermapbox\": [{\"marker\": {\"colorbar\": {\"outlinewidth\": 0, \"ticks\": \"\"}}, \"type\": \"scattermapbox\"}], \"scatterpolar\": [{\"marker\": {\"colorbar\": {\"outlinewidth\": 0, \"ticks\": \"\"}}, \"type\": \"scatterpolar\"}], \"scatterpolargl\": [{\"marker\": {\"colorbar\": {\"outlinewidth\": 0, \"ticks\": \"\"}}, \"type\": \"scatterpolargl\"}], \"scatterternary\": [{\"marker\": {\"colorbar\": {\"outlinewidth\": 0, \"ticks\": \"\"}}, \"type\": \"scatterternary\"}], \"surface\": [{\"colorbar\": {\"outlinewidth\": 0, \"ticks\": \"\"}, \"colorscale\": [[0.0, \"#0d0887\"], [0.1111111111111111, \"#46039f\"], [0.2222222222222222, \"#7201a8\"], [0.3333333333333333, \"#9c179e\"], [0.4444444444444444, \"#bd3786\"], [0.5555555555555556, \"#d8576b\"], [0.6666666666666666, \"#ed7953\"], [0.7777777777777778, \"#fb9f3a\"], [0.8888888888888888, \"#fdca26\"], [1.0, \"#f0f921\"]], \"type\": \"surface\"}], \"table\": [{\"cells\": {\"fill\": {\"color\": \"#EBF0F8\"}, \"line\": {\"color\": \"white\"}}, \"header\": {\"fill\": {\"color\": \"#C8D4E3\"}, \"line\": {\"color\": \"white\"}}, \"type\": \"table\"}]}, \"layout\": {\"annotationdefaults\": {\"arrowcolor\": \"#2a3f5f\", \"arrowhead\": 0, \"arrowwidth\": 1}, \"coloraxis\": {\"colorbar\": {\"outlinewidth\": 0, \"ticks\": \"\"}}, \"colorscale\": {\"diverging\": [[0, \"#8e0152\"], [0.1, \"#c51b7d\"], [0.2, \"#de77ae\"], [0.3, \"#f1b6da\"], [0.4, \"#fde0ef\"], [0.5, \"#f7f7f7\"], [0.6, \"#e6f5d0\"], [0.7, \"#b8e186\"], [0.8, \"#7fbc41\"], [0.9, \"#4d9221\"], [1, \"#276419\"]], \"sequential\": [[0.0, \"#0d0887\"], [0.1111111111111111, \"#46039f\"], [0.2222222222222222, \"#7201a8\"], [0.3333333333333333, \"#9c179e\"], [0.4444444444444444, \"#bd3786\"], [0.5555555555555556, \"#d8576b\"], [0.6666666666666666, \"#ed7953\"], [0.7777777777777778, \"#fb9f3a\"], [0.8888888888888888, \"#fdca26\"], [1.0, \"#f0f921\"]], \"sequentialminus\": [[0.0, \"#0d0887\"], [0.1111111111111111, \"#46039f\"], [0.2222222222222222, \"#7201a8\"], [0.3333333333333333, \"#9c179e\"], [0.4444444444444444, \"#bd3786\"], [0.5555555555555556, \"#d8576b\"], [0.6666666666666666, \"#ed7953\"], [0.7777777777777778, \"#fb9f3a\"], [0.8888888888888888, \"#fdca26\"], [1.0, \"#f0f921\"]]}, \"colorway\": [\"#636efa\", \"#EF553B\", \"#00cc96\", \"#ab63fa\", \"#FFA15A\", \"#19d3f3\", \"#FF6692\", \"#B6E880\", \"#FF97FF\", \"#FECB52\"], \"font\": {\"color\": \"#2a3f5f\"}, \"geo\": {\"bgcolor\": \"white\", \"lakecolor\": \"white\", \"landcolor\": \"#E5ECF6\", \"showlakes\": true, \"showland\": true, \"subunitcolor\": \"white\"}, \"hoverlabel\": {\"align\": \"left\"}, \"hovermode\": \"closest\", \"mapbox\": {\"style\": \"light\"}, \"paper_bgcolor\": \"white\", \"plot_bgcolor\": \"#E5ECF6\", \"polar\": {\"angularaxis\": {\"gridcolor\": \"white\", \"linecolor\": \"white\", \"ticks\": \"\"}, \"bgcolor\": \"#E5ECF6\", \"radialaxis\": {\"gridcolor\": \"white\", \"linecolor\": \"white\", \"ticks\": \"\"}}, \"scene\": {\"xaxis\": {\"backgroundcolor\": \"#E5ECF6\", \"gridcolor\": \"white\", \"gridwidth\": 2, \"linecolor\": \"white\", \"showbackground\": true, \"ticks\": \"\", \"zerolinecolor\": \"white\"}, \"yaxis\": {\"backgroundcolor\": \"#E5ECF6\", \"gridcolor\": \"white\", \"gridwidth\": 2, \"linecolor\": \"white\", \"showbackground\": true, \"ticks\": \"\", \"zerolinecolor\": \"white\"}, \"zaxis\": {\"backgroundcolor\": \"#E5ECF6\", \"gridcolor\": \"white\", \"gridwidth\": 2, \"linecolor\": \"white\", \"showbackground\": true, \"ticks\": \"\", \"zerolinecolor\": \"white\"}}, \"shapedefaults\": {\"line\": {\"color\": \"#2a3f5f\"}}, \"ternary\": {\"aaxis\": {\"gridcolor\": \"white\", \"linecolor\": \"white\", \"ticks\": \"\"}, \"baxis\": {\"gridcolor\": \"white\", \"linecolor\": \"white\", \"ticks\": \"\"}, \"bgcolor\": \"#E5ECF6\", \"caxis\": {\"gridcolor\": \"white\", \"linecolor\": \"white\", \"ticks\": \"\"}}, \"title\": {\"x\": 0.05}, \"xaxis\": {\"automargin\": true, \"gridcolor\": \"white\", \"linecolor\": \"white\", \"ticks\": \"\", \"title\": {\"standoff\": 15}, \"zerolinecolor\": \"white\", \"zerolinewidth\": 2}, \"yaxis\": {\"automargin\": true, \"gridcolor\": \"white\", \"linecolor\": \"white\", \"ticks\": \"\", \"title\": {\"standoff\": 15}, \"zerolinecolor\": \"white\", \"zerolinewidth\": 2}}}, \"width\": 400, \"xaxis\": {\"title\": {\"text\": \"Epoch\"}}, \"yaxis\": {\"title\": {\"text\": \"accuracy\"}}},\n",
              "                        {\"responsive\": true}\n",
              "                    ).then(function(){\n",
              "                            \n",
              "var gd = document.getElementById('f5ead21c-606c-4e15-861c-d261e7c572f3');\n",
              "var x = new MutationObserver(function (mutations, observer) {{\n",
              "        var display = window.getComputedStyle(gd).display;\n",
              "        if (!display || display === 'none') {{\n",
              "            console.log([gd, 'removed!']);\n",
              "            Plotly.purge(gd);\n",
              "            observer.disconnect();\n",
              "        }}\n",
              "}});\n",
              "\n",
              "// Listen for the removal of the full notebook cells\n",
              "var notebookContainer = gd.closest('#notebook-container');\n",
              "if (notebookContainer) {{\n",
              "    x.observe(notebookContainer, {childList: true});\n",
              "}}\n",
              "\n",
              "// Listen for the clearing of the current output cell\n",
              "var outputEl = gd.closest('.output');\n",
              "if (outputEl) {{\n",
              "    x.observe(outputEl, {childList: true});\n",
              "}}\n",
              "\n",
              "                        })\n",
              "                };\n",
              "                \n",
              "            </script>\n",
              "        </div>\n",
              "</body>\n",
              "</html>"
            ]
          },
          "metadata": {
            "tags": []
          }
        },
        {
          "output_type": "display_data",
          "data": {
            "text/html": [
              "<html>\n",
              "<head><meta charset=\"utf-8\" /></head>\n",
              "<body>\n",
              "    <div>\n",
              "            <script src=\"https://cdnjs.cloudflare.com/ajax/libs/mathjax/2.7.5/MathJax.js?config=TeX-AMS-MML_SVG\"></script><script type=\"text/javascript\">if (window.MathJax) {MathJax.Hub.Config({SVG: {font: \"STIX-Web\"}});}</script>\n",
              "                <script type=\"text/javascript\">window.PlotlyConfig = {MathJaxConfig: 'local'};</script>\n",
              "        <script src=\"https://cdn.plot.ly/plotly-latest.min.js\"></script>    \n",
              "            <div id=\"29098b92-e800-4f45-a2a3-d5bd49777c1e\" class=\"plotly-graph-div\" style=\"height:300px; width:400px;\"></div>\n",
              "            <script type=\"text/javascript\">\n",
              "                \n",
              "                    window.PLOTLYENV=window.PLOTLYENV || {};\n",
              "                    \n",
              "                if (document.getElementById(\"29098b92-e800-4f45-a2a3-d5bd49777c1e\")) {\n",
              "                    Plotly.newPlot(\n",
              "                        '29098b92-e800-4f45-a2a3-d5bd49777c1e',\n",
              "                        [{\"name\": \"Train\", \"type\": \"scattergl\", \"y\": [0.5996344685554504, 0.5027282238006592, 0.4578876793384552, 0.4304109811782837, 0.4151666760444641, 0.4004543125629425, 0.39287522435188293, 0.3779670000076294, 0.37398144602775574, 0.3683520555496216, 0.373075395822525, 0.3764561712741852, 0.3674664795398712, 0.3645172715187073, 0.35934916138648987, 0.36485016345977783, 0.3561626672744751, 0.3599051833152771, 0.3541581332683563, 0.35616904497146606, 0.35445040464401245, 0.3483671247959137, 0.34359467029571533, 0.3422025442123413, 0.3440517783164978, 0.34102556109428406, 0.3477154076099396, 0.34004420042037964, 0.3409523367881775, 0.34380626678466797, 0.33488261699676514, 0.3343914747238159, 0.34086766839027405, 0.33216819167137146, 0.3312322795391083, 0.33049607276916504, 0.3278079330921173, 0.3263919949531555, 0.32414641976356506, 0.3244808316230774]}, {\"name\": \"Valid\", \"type\": \"scattergl\", \"y\": [0.5783617496490479, 0.5139897465705872, 0.47212085127830505, 0.45099034905433655, 0.43568870425224304, 0.4192195236682892, 0.41400912404060364, 0.4016166031360626, 0.4145300090312958, 0.42567089200019836, 0.4316041171550751, 0.39653316140174866, 0.40359732508659363, 0.38451093435287476, 0.3984045684337616, 0.3930128514766693, 0.3930034637451172, 0.3835025727748871, 0.42438143491744995, 0.42451438307762146, 0.3832695782184601, 0.40620914101600647, 0.39029985666275024, 0.3756958842277527, 0.3989182114601135, 0.37385350465774536, 0.38609397411346436, 0.40229517221450806, 0.36937472224235535, 0.37626197934150696, 0.38212326169013977, 0.38454294204711914, 0.38196948170661926, 0.3864402770996094, 0.3948255479335785, 0.41154807806015015, 0.3864966630935669, 0.38303080201148987, 0.39413323998451233, 0.38325005769729614]}],\n",
              "                        {\"height\": 300, \"template\": {\"data\": {\"bar\": [{\"error_x\": {\"color\": \"#2a3f5f\"}, \"error_y\": {\"color\": \"#2a3f5f\"}, \"marker\": {\"line\": {\"color\": \"#E5ECF6\", \"width\": 0.5}}, \"type\": \"bar\"}], \"barpolar\": [{\"marker\": {\"line\": {\"color\": \"#E5ECF6\", \"width\": 0.5}}, \"type\": \"barpolar\"}], \"carpet\": [{\"aaxis\": {\"endlinecolor\": \"#2a3f5f\", \"gridcolor\": \"white\", \"linecolor\": \"white\", \"minorgridcolor\": \"white\", \"startlinecolor\": \"#2a3f5f\"}, \"baxis\": {\"endlinecolor\": \"#2a3f5f\", \"gridcolor\": \"white\", \"linecolor\": \"white\", \"minorgridcolor\": \"white\", \"startlinecolor\": \"#2a3f5f\"}, \"type\": \"carpet\"}], \"choropleth\": [{\"colorbar\": {\"outlinewidth\": 0, \"ticks\": \"\"}, \"type\": \"choropleth\"}], \"contour\": [{\"colorbar\": {\"outlinewidth\": 0, \"ticks\": \"\"}, \"colorscale\": [[0.0, \"#0d0887\"], [0.1111111111111111, \"#46039f\"], [0.2222222222222222, \"#7201a8\"], [0.3333333333333333, \"#9c179e\"], [0.4444444444444444, \"#bd3786\"], [0.5555555555555556, \"#d8576b\"], [0.6666666666666666, \"#ed7953\"], [0.7777777777777778, \"#fb9f3a\"], [0.8888888888888888, \"#fdca26\"], [1.0, \"#f0f921\"]], \"type\": \"contour\"}], \"contourcarpet\": [{\"colorbar\": {\"outlinewidth\": 0, \"ticks\": \"\"}, \"type\": \"contourcarpet\"}], \"heatmap\": [{\"colorbar\": {\"outlinewidth\": 0, \"ticks\": \"\"}, \"colorscale\": [[0.0, \"#0d0887\"], [0.1111111111111111, \"#46039f\"], [0.2222222222222222, \"#7201a8\"], [0.3333333333333333, \"#9c179e\"], [0.4444444444444444, \"#bd3786\"], [0.5555555555555556, \"#d8576b\"], [0.6666666666666666, \"#ed7953\"], [0.7777777777777778, \"#fb9f3a\"], [0.8888888888888888, \"#fdca26\"], [1.0, \"#f0f921\"]], \"type\": \"heatmap\"}], \"heatmapgl\": [{\"colorbar\": {\"outlinewidth\": 0, \"ticks\": \"\"}, \"colorscale\": [[0.0, \"#0d0887\"], [0.1111111111111111, \"#46039f\"], [0.2222222222222222, \"#7201a8\"], [0.3333333333333333, \"#9c179e\"], [0.4444444444444444, \"#bd3786\"], [0.5555555555555556, \"#d8576b\"], [0.6666666666666666, \"#ed7953\"], [0.7777777777777778, \"#fb9f3a\"], [0.8888888888888888, \"#fdca26\"], [1.0, \"#f0f921\"]], \"type\": \"heatmapgl\"}], \"histogram\": [{\"marker\": {\"colorbar\": {\"outlinewidth\": 0, \"ticks\": \"\"}}, \"type\": \"histogram\"}], \"histogram2d\": [{\"colorbar\": {\"outlinewidth\": 0, \"ticks\": \"\"}, \"colorscale\": [[0.0, \"#0d0887\"], [0.1111111111111111, \"#46039f\"], [0.2222222222222222, \"#7201a8\"], [0.3333333333333333, \"#9c179e\"], [0.4444444444444444, \"#bd3786\"], [0.5555555555555556, \"#d8576b\"], [0.6666666666666666, \"#ed7953\"], [0.7777777777777778, \"#fb9f3a\"], [0.8888888888888888, \"#fdca26\"], [1.0, \"#f0f921\"]], \"type\": \"histogram2d\"}], \"histogram2dcontour\": [{\"colorbar\": {\"outlinewidth\": 0, \"ticks\": \"\"}, \"colorscale\": [[0.0, \"#0d0887\"], [0.1111111111111111, \"#46039f\"], [0.2222222222222222, \"#7201a8\"], [0.3333333333333333, \"#9c179e\"], [0.4444444444444444, \"#bd3786\"], [0.5555555555555556, \"#d8576b\"], [0.6666666666666666, \"#ed7953\"], [0.7777777777777778, \"#fb9f3a\"], [0.8888888888888888, \"#fdca26\"], [1.0, \"#f0f921\"]], \"type\": \"histogram2dcontour\"}], \"mesh3d\": [{\"colorbar\": {\"outlinewidth\": 0, \"ticks\": \"\"}, \"type\": \"mesh3d\"}], \"parcoords\": [{\"line\": {\"colorbar\": {\"outlinewidth\": 0, \"ticks\": \"\"}}, \"type\": \"parcoords\"}], \"pie\": [{\"automargin\": true, \"type\": \"pie\"}], \"scatter\": [{\"marker\": {\"colorbar\": {\"outlinewidth\": 0, \"ticks\": \"\"}}, \"type\": \"scatter\"}], \"scatter3d\": [{\"line\": {\"colorbar\": {\"outlinewidth\": 0, \"ticks\": \"\"}}, \"marker\": {\"colorbar\": {\"outlinewidth\": 0, \"ticks\": \"\"}}, \"type\": \"scatter3d\"}], \"scattercarpet\": [{\"marker\": {\"colorbar\": {\"outlinewidth\": 0, \"ticks\": \"\"}}, \"type\": \"scattercarpet\"}], \"scattergeo\": [{\"marker\": {\"colorbar\": {\"outlinewidth\": 0, \"ticks\": \"\"}}, \"type\": \"scattergeo\"}], \"scattergl\": [{\"marker\": {\"colorbar\": {\"outlinewidth\": 0, \"ticks\": \"\"}}, \"type\": \"scattergl\"}], \"scattermapbox\": [{\"marker\": {\"colorbar\": {\"outlinewidth\": 0, \"ticks\": \"\"}}, \"type\": \"scattermapbox\"}], \"scatterpolar\": [{\"marker\": {\"colorbar\": {\"outlinewidth\": 0, \"ticks\": \"\"}}, \"type\": \"scatterpolar\"}], \"scatterpolargl\": [{\"marker\": {\"colorbar\": {\"outlinewidth\": 0, \"ticks\": \"\"}}, \"type\": \"scatterpolargl\"}], \"scatterternary\": [{\"marker\": {\"colorbar\": {\"outlinewidth\": 0, \"ticks\": \"\"}}, \"type\": \"scatterternary\"}], \"surface\": [{\"colorbar\": {\"outlinewidth\": 0, \"ticks\": \"\"}, \"colorscale\": [[0.0, \"#0d0887\"], [0.1111111111111111, \"#46039f\"], [0.2222222222222222, \"#7201a8\"], [0.3333333333333333, \"#9c179e\"], [0.4444444444444444, \"#bd3786\"], [0.5555555555555556, \"#d8576b\"], [0.6666666666666666, \"#ed7953\"], [0.7777777777777778, \"#fb9f3a\"], [0.8888888888888888, \"#fdca26\"], [1.0, \"#f0f921\"]], \"type\": \"surface\"}], \"table\": [{\"cells\": {\"fill\": {\"color\": \"#EBF0F8\"}, \"line\": {\"color\": \"white\"}}, \"header\": {\"fill\": {\"color\": \"#C8D4E3\"}, \"line\": {\"color\": \"white\"}}, \"type\": \"table\"}]}, \"layout\": {\"annotationdefaults\": {\"arrowcolor\": \"#2a3f5f\", \"arrowhead\": 0, \"arrowwidth\": 1}, \"coloraxis\": {\"colorbar\": {\"outlinewidth\": 0, \"ticks\": \"\"}}, \"colorscale\": {\"diverging\": [[0, \"#8e0152\"], [0.1, \"#c51b7d\"], [0.2, \"#de77ae\"], [0.3, \"#f1b6da\"], [0.4, \"#fde0ef\"], [0.5, \"#f7f7f7\"], [0.6, \"#e6f5d0\"], [0.7, \"#b8e186\"], [0.8, \"#7fbc41\"], [0.9, \"#4d9221\"], [1, \"#276419\"]], \"sequential\": [[0.0, \"#0d0887\"], [0.1111111111111111, \"#46039f\"], [0.2222222222222222, \"#7201a8\"], [0.3333333333333333, \"#9c179e\"], [0.4444444444444444, \"#bd3786\"], [0.5555555555555556, \"#d8576b\"], [0.6666666666666666, \"#ed7953\"], [0.7777777777777778, \"#fb9f3a\"], [0.8888888888888888, \"#fdca26\"], [1.0, \"#f0f921\"]], \"sequentialminus\": [[0.0, \"#0d0887\"], [0.1111111111111111, \"#46039f\"], [0.2222222222222222, \"#7201a8\"], [0.3333333333333333, \"#9c179e\"], [0.4444444444444444, \"#bd3786\"], [0.5555555555555556, \"#d8576b\"], [0.6666666666666666, \"#ed7953\"], [0.7777777777777778, \"#fb9f3a\"], [0.8888888888888888, \"#fdca26\"], [1.0, \"#f0f921\"]]}, \"colorway\": [\"#636efa\", \"#EF553B\", \"#00cc96\", \"#ab63fa\", \"#FFA15A\", \"#19d3f3\", \"#FF6692\", \"#B6E880\", \"#FF97FF\", \"#FECB52\"], \"font\": {\"color\": \"#2a3f5f\"}, \"geo\": {\"bgcolor\": \"white\", \"lakecolor\": \"white\", \"landcolor\": \"#E5ECF6\", \"showlakes\": true, \"showland\": true, \"subunitcolor\": \"white\"}, \"hoverlabel\": {\"align\": \"left\"}, \"hovermode\": \"closest\", \"mapbox\": {\"style\": \"light\"}, \"paper_bgcolor\": \"white\", \"plot_bgcolor\": \"#E5ECF6\", \"polar\": {\"angularaxis\": {\"gridcolor\": \"white\", \"linecolor\": \"white\", \"ticks\": \"\"}, \"bgcolor\": \"#E5ECF6\", \"radialaxis\": {\"gridcolor\": \"white\", \"linecolor\": \"white\", \"ticks\": \"\"}}, \"scene\": {\"xaxis\": {\"backgroundcolor\": \"#E5ECF6\", \"gridcolor\": \"white\", \"gridwidth\": 2, \"linecolor\": \"white\", \"showbackground\": true, \"ticks\": \"\", \"zerolinecolor\": \"white\"}, \"yaxis\": {\"backgroundcolor\": \"#E5ECF6\", \"gridcolor\": \"white\", \"gridwidth\": 2, \"linecolor\": \"white\", \"showbackground\": true, \"ticks\": \"\", \"zerolinecolor\": \"white\"}, \"zaxis\": {\"backgroundcolor\": \"#E5ECF6\", \"gridcolor\": \"white\", \"gridwidth\": 2, \"linecolor\": \"white\", \"showbackground\": true, \"ticks\": \"\", \"zerolinecolor\": \"white\"}}, \"shapedefaults\": {\"line\": {\"color\": \"#2a3f5f\"}}, \"ternary\": {\"aaxis\": {\"gridcolor\": \"white\", \"linecolor\": \"white\", \"ticks\": \"\"}, \"baxis\": {\"gridcolor\": \"white\", \"linecolor\": \"white\", \"ticks\": \"\"}, \"bgcolor\": \"#E5ECF6\", \"caxis\": {\"gridcolor\": \"white\", \"linecolor\": \"white\", \"ticks\": \"\"}}, \"title\": {\"x\": 0.05}, \"xaxis\": {\"automargin\": true, \"gridcolor\": \"white\", \"linecolor\": \"white\", \"ticks\": \"\", \"title\": {\"standoff\": 15}, \"zerolinecolor\": \"white\", \"zerolinewidth\": 2}, \"yaxis\": {\"automargin\": true, \"gridcolor\": \"white\", \"linecolor\": \"white\", \"ticks\": \"\", \"title\": {\"standoff\": 15}, \"zerolinecolor\": \"white\", \"zerolinewidth\": 2}}}, \"width\": 400, \"xaxis\": {\"title\": {\"text\": \"Epoch\"}}, \"yaxis\": {\"title\": {\"text\": \"Loss\"}}},\n",
              "                        {\"responsive\": true}\n",
              "                    ).then(function(){\n",
              "                            \n",
              "var gd = document.getElementById('29098b92-e800-4f45-a2a3-d5bd49777c1e');\n",
              "var x = new MutationObserver(function (mutations, observer) {{\n",
              "        var display = window.getComputedStyle(gd).display;\n",
              "        if (!display || display === 'none') {{\n",
              "            console.log([gd, 'removed!']);\n",
              "            Plotly.purge(gd);\n",
              "            observer.disconnect();\n",
              "        }}\n",
              "}});\n",
              "\n",
              "// Listen for the removal of the full notebook cells\n",
              "var notebookContainer = gd.closest('#notebook-container');\n",
              "if (notebookContainer) {{\n",
              "    x.observe(notebookContainer, {childList: true});\n",
              "}}\n",
              "\n",
              "// Listen for the clearing of the current output cell\n",
              "var outputEl = gd.closest('.output');\n",
              "if (outputEl) {{\n",
              "    x.observe(outputEl, {childList: true});\n",
              "}}\n",
              "\n",
              "                        })\n",
              "                };\n",
              "                \n",
              "            </script>\n",
              "        </div>\n",
              "</body>\n",
              "</html>"
            ]
          },
          "metadata": {
            "tags": []
          }
        }
      ]
    },
    {
      "cell_type": "markdown",
      "metadata": {
        "id": "_oQaBd6X7tV7",
        "colab_type": "text"
      },
      "source": [
        "En clase:\n",
        "\n",
        "- Analizar que pasó. ¿Es aceptable el resultado?\n",
        "- Escuchar propuestas para mejorar"
      ]
    },
    {
      "cell_type": "markdown",
      "metadata": {
        "id": "13_7O30P7ptJ",
        "colab_type": "text"
      },
      "source": [
        "## Ejercicios!"
      ]
    },
    {
      "cell_type": "markdown",
      "metadata": {
        "id": "Q86HAZLy8Kw0",
        "colab_type": "text"
      },
      "source": [
        "A) Usar el optimizador Adam. Crear `model2`. \n",
        "\n",
        "Probar los learning rate: 0.1, 0.001, 0.0005\n",
        "\n",
        "B) ¿Se estabiliza en alguno?\n",
        "\n",
        "C) ¿Se estabiliza en alguna época? Hablar del early stopping"
      ]
    },
    {
      "cell_type": "code",
      "metadata": {
        "id": "VjfxJT4E8Gil",
        "colab_type": "code",
        "colab": {}
      },
      "source": [
        "model2 = Sequential()\n",
        "\n",
        "model2.add(Dense(128, input_dim=in_shape)) # input_dim son las variables de entrada\n",
        "model2.add(Dense(64, activation='relu'))\n",
        "model2.add(Dense(2, activation='softmax')) # softmax necesitamos N neuronas\n",
        "\n",
        "model2.compile(optimizer=keras.optimizers.Adam(learning_rate=0.0005),\n",
        "              loss='binary_crossentropy',\n",
        "              metrics=['accuracy'])\n",
        "\n"
      ],
      "execution_count": null,
      "outputs": []
    },
    {
      "cell_type": "code",
      "metadata": {
        "id": "c_yQ1xWT7J1W",
        "colab_type": "code",
        "colab": {}
      },
      "source": [
        "history2 = model2.fit(x_train, y_train, validation_data=(x_test, y_test) , epochs=40, batch_size=32) # tambien se puede usar: validation_split=0.2"
      ],
      "execution_count": null,
      "outputs": []
    },
    {
      "cell_type": "code",
      "metadata": {
        "id": "hcbnuxkS7QEF",
        "colab_type": "code",
        "colab": {}
      },
      "source": [
        "fig1,fig2=plot_all(history2)\n",
        "fig1.show()\n",
        "fig2.show()"
      ],
      "execution_count": null,
      "outputs": []
    },
    {
      "cell_type": "code",
      "metadata": {
        "id": "FucLP2HR7Tvm",
        "colab_type": "code",
        "colab": {}
      },
      "source": [
        ""
      ],
      "execution_count": null,
      "outputs": []
    }
  ]
}