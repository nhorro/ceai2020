{
 "cells": [
  {
   "cell_type": "markdown",
   "metadata": {},
   "source": [
    "# Ejercicio Clase 03. Comparación modelo en Keras con modelo en Numpy.\n",
    "\n",
    "Se compara el desempeño del modelo de la clase anterior (ver Notebook \"Keritas\") con la misma arquitectura entrenada en Keras (no son exactamente lo mismos parámetros de Optimizer)."
   ]
  },
  {
   "cell_type": "markdown",
   "metadata": {
    "colab_type": "text",
    "id": "view-in-github"
   },
   "source": [
    "<a href=\"https://colab.research.google.com/github/nhorro/ceai2020/blob/master/deep_learning/clase_3/EjercicioKeras.ipynb\" target=\"_parent\"><img src=\"https://colab.research.google.com/assets/colab-badge.svg\" alt=\"Open In Colab\"/></a>"
   ]
  },
  {
   "cell_type": "code",
   "execution_count": 1,
   "metadata": {
    "colab": {},
    "colab_type": "code",
    "id": "54M30h07PTls"
   },
   "outputs": [],
   "source": [
    "import tensorflow as tf\n",
    "from tensorflow import keras\n",
    "from tensorflow.keras.models import Sequential\n",
    "from tensorflow.keras.layers import Dense\n",
    "import matplotlib.pyplot as plt"
   ]
  },
  {
   "cell_type": "markdown",
   "metadata": {},
   "source": [
    "Si la versión de TF es 1.14.0 corresponde a la ejecución con Keras incluído en Tensorflow del docker: [tensorflow1.12-py3-jupyter-opencv](https://github.com/nhorro/tensorflow1.12-py3-jupyter-opencv)"
   ]
  },
  {
   "cell_type": "code",
   "execution_count": 2,
   "metadata": {
    "scrolled": true
   },
   "outputs": [
    {
     "name": "stdout",
     "output_type": "stream",
     "text": [
      "1.14.0\n"
     ]
    }
   ],
   "source": [
    "print(tf.__version__)"
   ]
  },
  {
   "cell_type": "markdown",
   "metadata": {},
   "source": [
    "## 1. Definición de modelo"
   ]
  },
  {
   "cell_type": "markdown",
   "metadata": {},
   "source": [
    "Misma arquitectura del ejercicio de la clase anterior:"
   ]
  },
  {
   "cell_type": "code",
   "execution_count": 3,
   "metadata": {
    "scrolled": true
   },
   "outputs": [
    {
     "name": "stdout",
     "output_type": "stream",
     "text": [
      "WARNING:tensorflow:From /usr/local/lib/python3.5/dist-packages/tensorflow/python/ops/init_ops.py:1251: calling VarianceScaling.__init__ (from tensorflow.python.ops.init_ops) with dtype is deprecated and will be removed in a future version.\n",
      "Instructions for updating:\n",
      "Call initializer instance with the dtype argument instead of passing it to the constructor\n",
      "Model: \"sequential\"\n",
      "_________________________________________________________________\n",
      "Layer (type)                 Output Shape              Param #   \n",
      "=================================================================\n",
      "dense (Dense)                (None, 3)                 9         \n",
      "_________________________________________________________________\n",
      "dense_1 (Dense)              (None, 2)                 8         \n",
      "_________________________________________________________________\n",
      "dense_2 (Dense)              (None, 1)                 3         \n",
      "=================================================================\n",
      "Total params: 20\n",
      "Trainable params: 20\n",
      "Non-trainable params: 0\n",
      "_________________________________________________________________\n"
     ]
    },
    {
     "data": {
      "image/png": "[encoded data removed]",
      "text/plain": [
       "<IPython.core.display.Image object>"
      ]
     },
     "execution_count": 3,
     "metadata": {},
     "output_type": "execute_result"
    }
   ],
   "source": [
    "model = Sequential()\n",
    "model.add(Dense(3, input_dim=2)) # input_dim son las variables de entrada\n",
    "model.add(Dense(2, activation='sigmoid'))\n",
    "model.add(Dense(1, activation='sigmoid')) \n",
    "model.summary()\n",
    "tf.keras.utils.plot_model(model, show_shapes=False, rankdir=\"LR\")"
   ]
  },
  {
   "cell_type": "markdown",
   "metadata": {},
   "source": [
    "## 2. Carga de dataset y entrenamiento"
   ]
  },
  {
   "cell_type": "code",
   "execution_count": 4,
   "metadata": {},
   "outputs": [
    {
     "data": {
      "text/plain": [
       "((900, 2), (900, 1), (100, 2), (100, 1))"
      ]
     },
     "execution_count": 4,
     "metadata": {},
     "output_type": "execute_result"
    }
   ],
   "source": [
    "import numpy as np\n",
    "TRAIN_DATASET_FILENAME = \"../clase_2/data/clase_2_train_data.csv\"\n",
    "TEST_DATASET_FILENAME = \"../clase_2/data/clase_2_test_data.csv\"\n",
    "\n",
    "train_ds = np.genfromtxt(TRAIN_DATASET_FILENAME, skip_header=True, delimiter=',')\n",
    "X_train = train_ds[:,0:2]\n",
    "y_train = train_ds[:,2:]\n",
    "test_ds = np.genfromtxt(TEST_DATASET_FILENAME, skip_header=True, delimiter=',')\n",
    "X_test = test_ds[:,0:2]\n",
    "y_test = test_ds[:,2:]\n",
    "X_train.shape, y_train.shape, X_test.shape, y_test.shape"
   ]
  },
  {
   "cell_type": "code",
   "execution_count": null,
   "metadata": {},
   "outputs": [
    {
     "name": "stdout",
     "output_type": "stream",
     "text": [
      "WARNING:tensorflow:From /usr/local/lib/python3.5/dist-packages/tensorflow/python/ops/nn_impl.py:180: add_dispatch_support.<locals>.wrapper (from tensorflow.python.ops.array_ops) is deprecated and will be removed in a future version.\n",
      "Instructions for updating:\n",
      "Use tf.where in 2.0, which has the same broadcast rule as np.where\n",
      "WARNING:tensorflow:The `nb_epoch` argument in `fit` has been renamed `epochs`.\n"
     ]
    }
   ],
   "source": [
    "# No es exactamente el mismo optimizer\n",
    "optimizer = tf.keras.optimizers.SGD(lr=0.0001, decay=0.01, momentum=0.001, nesterov=False)\n",
    "model.compile(optimizer=optimizer,loss='binary_crossentropy',metrics=['accuracy'])\n",
    "\n",
    "num_epochs = 100\n",
    "batch_size = 4\n",
    "history = model.fit(X_train, y_train, nb_epoch=num_epochs, batch_size=batch_size, verbose=0)\n",
    "\n",
    "epochs = np.arange(0,len(history.history['loss']))\n",
    "plt.figure(figsize=(12,8))\n",
    "plt.plot(epochs,history.history['loss'])\n",
    "plt.xlabel(\"# Epoch\")\n",
    "plt.ylabel(\"Loss\")\n",
    "plt.grid(which=\"both\")\n",
    "plt.title(\"Entrenamiento\")\n",
    "plt.show()"
   ]
  },
  {
   "cell_type": "markdown",
   "metadata": {},
   "source": [
    "## 3. Comparación con la implementación anterior en Numpy"
   ]
  },
  {
   "cell_type": "code",
   "execution_count": null,
   "metadata": {},
   "outputs": [],
   "source": [
    "#!pip install seaborn\n",
    "import sys\n",
    "sys.path.append(\"../../intro_ai/\")\n",
    "from libintroia.utils import plot_confusion_matrix\n",
    "from libintroia.metrics import Precision, Accuracy, Recall\n",
    "metrics = [ Precision(), Accuracy(), Recall() ]"
   ]
  },
  {
   "cell_type": "code",
   "execution_count": null,
   "metadata": {},
   "outputs": [],
   "source": [
    "predicted = model.predict(X_train)\n",
    "predicted[predicted<=0.5] = False\n",
    "predicted[predicted>0.5] = True\n",
    "actual = y_train\n",
    "plot_confusion_matrix(predicted, actual, \"Training set\")\n",
    "print(\"Precision:\", metrics[0](actual,predicted))\n",
    "print(\"Accuracy:\", metrics[1](actual,predicted))\n",
    "print(\"Recall:\", metrics[2](actual,predicted))"
   ]
  },
  {
   "cell_type": "code",
   "execution_count": null,
   "metadata": {},
   "outputs": [],
   "source": [
    "predicted = model.predict(X_test)\n",
    "predicted[predicted<=0.5] = False\n",
    "predicted[predicted>0.5] = True\n",
    "actual = y_test\n",
    "plot_confusion_matrix(predicted, actual, \"Test set\")\n",
    "print(\"Precision:\", metrics[0](actual,predicted))\n",
    "print(\"Accuracy:\", metrics[1](actual,predicted))\n",
    "print(\"Recall:\", metrics[2](actual,predicted))"
   ]
  }
 ],
 "metadata": {
  "colab": {
   "authorship_tag": "ABX9TyNPQZL3gaBH1XxcY4+V9uW2",
   "include_colab_link": true,
   "name": "Untitled3.ipynb",
   "provenance": []
  },
  "kernelspec": {
   "display_name": "Python 3",
   "language": "python",
   "name": "python3"
  },
  "language_info": {
   "codemirror_mode": {
    "name": "ipython",
    "version": 3
   },
   "file_extension": ".py",
   "mimetype": "text/x-python",
   "name": "python",
   "nbconvert_exporter": "python",
   "pygments_lexer": "ipython3",
   "version": "3.5.2"
  }
 },
 "nbformat": 4,
 "nbformat_minor": 1
}
