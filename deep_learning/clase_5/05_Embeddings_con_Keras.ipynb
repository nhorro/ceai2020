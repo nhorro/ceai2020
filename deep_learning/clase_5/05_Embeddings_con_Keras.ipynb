{
  "nbformat": 4,
  "nbformat_minor": 0,
  "metadata": {
    "colab": {
      "name": "05 - Embeddings con Keras",
      "provenance": [],
      "collapsed_sections": []
    },
    "kernelspec": {
      "name": "python3",
      "display_name": "Python 3"
    },
    "accelerator": "TPU"
  },
  "cells": [
    {
      "cell_type": "markdown",
      "metadata": {
        "id": "YblY8usDS94W"
      },
      "source": [
        "# Curso IA UBA\n",
        "\n",
        "Creado por [Pablo Casas](https://twitter.com/pabloc_ds)\n",
        "\n",
        "\n",
        "--- \n",
        "\n",
        "## Embeddings en Keras \n",
        "\n",
        "\n",
        "Objetivo: \n",
        "\n",
        "\n",
        "\n"
      ]
    },
    {
      "cell_type": "markdown",
      "metadata": {
        "id": "i7X2m5X_vLMt"
      },
      "source": [
        "### 1) Montando el drive en google colab"
      ]
    },
    {
      "cell_type": "code",
      "metadata": {
        "id": "flvnbWZ7lds9",
        "outputId": "51dbe962-cd9b-473f-ff96-a851f9773789",
        "colab": {
          "base_uri": "https://localhost:8080/",
          "height": 289
        }
      },
      "source": [
        "from google.colab import drive\n",
        "import os\n",
        "drive.mount('/content/drive')\n",
        "os.chdir(\"/content/drive/My Drive/Colab Notebooks/\")\n",
        "!ls"
      ],
      "execution_count": 1,
      "outputs": [
        {
          "output_type": "stream",
          "text": [
            "Mounted at /content/drive\n",
            "'03 - Introducción a la clasificación con Keras'\n",
            "'04 - Detección de anomalías con Keras'\n",
            "'05 - Embeddings con Keras'\n",
            "'06 - Autoencoders con Keras'\n",
            "'07 - Integrador.ipynb'\n",
            "'CV2 - 01 - Capas_convolucionales.ipynb'\n",
            "'CV2 - 02 red_cnn_simple.ipynb'\n",
            "'CV2 - 03 Modelo_convolucional_aplicacion_keras.ipynb'\n",
            " data\n",
            " desorden\n",
            "'Machine Learning 1 - 8.1 Boosting.ipynb'\n",
            "'Machine Learning 1 - 8.2 Bagging.ipynb'\n",
            " model_plot.png\n",
            " model.png\n",
            " models\n"
          ],
          "name": "stdout"
        }
      ]
    },
    {
      "cell_type": "markdown",
      "metadata": {
        "id": "RFWEVzXKvHLw"
      },
      "source": [
        "### 2) Carga de datos y librerías"
      ]
    },
    {
      "cell_type": "code",
      "metadata": {
        "id": "zhaAT-R6stfq",
        "outputId": "877c7721-c405-4a0e-84a6-475e12e61922",
        "colab": {
          "base_uri": "https://localhost:8080/",
          "height": 425
        }
      },
      "source": [
        "!pip install funpymodeling"
      ],
      "execution_count": 2,
      "outputs": [
        {
          "output_type": "stream",
          "text": [
            "Collecting funpymodeling\n",
            "  Downloading https://files.pythonhosted.org/packages/2c/ab/849bdc74b3323ef11a4c4af86be8c1ddc4ebc118cff4b8b2036fce8f0c77/funpymodeling-0.1.7-py3-none-any.whl\n",
            "Requirement already satisfied: matplotlib<4.0.0,>=3.2.2 in /usr/local/lib/python3.6/dist-packages (from funpymodeling) (3.2.2)\n",
            "Requirement already satisfied: typing-extensions<4.0.0,>=3.7.4; python_version < \"3.8\" in /usr/local/lib/python3.6/dist-packages (from funpymodeling) (3.7.4.3)\n",
            "Collecting seaborn<0.11.0,>=0.10.1\n",
            "\u001b[?25l  Downloading https://files.pythonhosted.org/packages/c7/e6/54aaaafd0b87f51dfba92ba73da94151aa3bc179e5fe88fc5dfb3038e860/seaborn-0.10.1-py3-none-any.whl (215kB)\n",
            "\u001b[K     |████████████████████████████████| 225kB 4.2MB/s \n",
            "\u001b[?25hRequirement already satisfied: sklearn<0.1,>=0.0 in /usr/local/lib/python3.6/dist-packages (from funpymodeling) (0.0)\n",
            "Requirement already satisfied: numpy<2.0.0,>=1.18.5 in /usr/local/lib/python3.6/dist-packages (from funpymodeling) (1.18.5)\n",
            "Requirement already satisfied: pandas<2.0.0,>=1.0.5 in /usr/local/lib/python3.6/dist-packages (from funpymodeling) (1.1.2)\n",
            "Requirement already satisfied: python-dateutil>=2.1 in /usr/local/lib/python3.6/dist-packages (from matplotlib<4.0.0,>=3.2.2->funpymodeling) (2.8.1)\n",
            "Requirement already satisfied: cycler>=0.10 in /usr/local/lib/python3.6/dist-packages (from matplotlib<4.0.0,>=3.2.2->funpymodeling) (0.10.0)\n",
            "Requirement already satisfied: pyparsing!=2.0.4,!=2.1.2,!=2.1.6,>=2.0.1 in /usr/local/lib/python3.6/dist-packages (from matplotlib<4.0.0,>=3.2.2->funpymodeling) (2.4.7)\n",
            "Requirement already satisfied: kiwisolver>=1.0.1 in /usr/local/lib/python3.6/dist-packages (from matplotlib<4.0.0,>=3.2.2->funpymodeling) (1.2.0)\n",
            "Requirement already satisfied: scipy>=1.0.1 in /usr/local/lib/python3.6/dist-packages (from seaborn<0.11.0,>=0.10.1->funpymodeling) (1.4.1)\n",
            "Requirement already satisfied: scikit-learn in /usr/local/lib/python3.6/dist-packages (from sklearn<0.1,>=0.0->funpymodeling) (0.22.2.post1)\n",
            "Requirement already satisfied: pytz>=2017.2 in /usr/local/lib/python3.6/dist-packages (from pandas<2.0.0,>=1.0.5->funpymodeling) (2018.9)\n",
            "Requirement already satisfied: six>=1.5 in /usr/local/lib/python3.6/dist-packages (from python-dateutil>=2.1->matplotlib<4.0.0,>=3.2.2->funpymodeling) (1.15.0)\n",
            "Requirement already satisfied: joblib>=0.11 in /usr/local/lib/python3.6/dist-packages (from scikit-learn->sklearn<0.1,>=0.0->funpymodeling) (0.16.0)\n",
            "Installing collected packages: seaborn, funpymodeling\n",
            "  Found existing installation: seaborn 0.11.0\n",
            "    Uninstalling seaborn-0.11.0:\n",
            "      Successfully uninstalled seaborn-0.11.0\n",
            "Successfully installed funpymodeling-0.1.7 seaborn-0.10.1\n"
          ],
          "name": "stdout"
        }
      ]
    },
    {
      "cell_type": "code",
      "metadata": {
        "id": "MWE4Be7bmNAe",
        "outputId": "b4c71f66-261d-4e2a-ca6d-8386c01f4023",
        "colab": {
          "base_uri": "https://localhost:8080/",
          "height": 71
        }
      },
      "source": [
        "import tensorflow as tf\n",
        "from tensorflow import keras\n",
        "import numpy as np\n",
        "import matplotlib.pyplot as plt\n",
        "import pandas as pd\n",
        "\n",
        "from funpymodeling.exploratory import status, freq_tbl, profiling_num\n",
        "from funpymodeling.data_prep import todf\n"
      ],
      "execution_count": 3,
      "outputs": [
        {
          "output_type": "stream",
          "text": [
            "/usr/local/lib/python3.6/dist-packages/statsmodels/tools/_testing.py:19: FutureWarning: pandas.util.testing is deprecated. Use the functions in the public API at pandas.testing instead.\n",
            "  import pandas.util.testing as tm\n"
          ],
          "name": "stderr"
        }
      ]
    },
    {
      "cell_type": "markdown",
      "metadata": {
        "id": "B36B0MhNxIEa"
      },
      "source": [
        ""
      ]
    },
    {
      "cell_type": "code",
      "metadata": {
        "id": "ij6BrAXrmPUq"
      },
      "source": [
        "data=pd.read_csv('data/encuesta_sysarmy_arg_2019_1.csv')"
      ],
      "execution_count": 5,
      "outputs": []
    },
    {
      "cell_type": "code",
      "metadata": {
        "id": "UBZvt00p5ekZ",
        "outputId": "092aa256-c5cb-45da-db6e-00bdeecdb042",
        "colab": {
          "base_uri": "https://localhost:8080/",
          "height": 34
        }
      },
      "source": [
        "data.shape"
      ],
      "execution_count": 6,
      "outputs": [
        {
          "output_type": "execute_result",
          "data": {
            "text/plain": [
              "(4482, 47)"
            ]
          },
          "metadata": {
            "tags": []
          },
          "execution_count": 6
        }
      ]
    },
    {
      "cell_type": "code",
      "metadata": {
        "id": "w174u3biImip",
        "outputId": "36391ef6-eb41-426b-be6e-f30dcd5441c2",
        "colab": {
          "base_uri": "https://localhost:8080/",
          "height": 1000
        }
      },
      "source": [
        "pd.set_option('max_rows', 100)\n",
        "status(data)"
      ],
      "execution_count": 7,
      "outputs": [
        {
          "output_type": "execute_result",
          "data": {
            "text/html": [
              "<div>\n",
              "<style scoped>\n",
              "    .dataframe tbody tr th:only-of-type {\n",
              "        vertical-align: middle;\n",
              "    }\n",
              "\n",
              "    .dataframe tbody tr th {\n",
              "        vertical-align: top;\n",
              "    }\n",
              "\n",
              "    .dataframe thead th {\n",
              "        text-align: right;\n",
              "    }\n",
              "</style>\n",
              "<table border=\"1\" class=\"dataframe\">\n",
              "  <thead>\n",
              "    <tr style=\"text-align: right;\">\n",
              "      <th></th>\n",
              "      <th>variable</th>\n",
              "      <th>q_nan</th>\n",
              "      <th>p_nan</th>\n",
              "      <th>q_zeros</th>\n",
              "      <th>p_zeros</th>\n",
              "      <th>unique</th>\n",
              "      <th>type</th>\n",
              "    </tr>\n",
              "  </thead>\n",
              "  <tbody>\n",
              "    <tr>\n",
              "      <th>0</th>\n",
              "      <td>Me identifico</td>\n",
              "      <td>0</td>\n",
              "      <td>0.000000</td>\n",
              "      <td>0</td>\n",
              "      <td>0.000000</td>\n",
              "      <td>3</td>\n",
              "      <td>object</td>\n",
              "    </tr>\n",
              "    <tr>\n",
              "      <th>1</th>\n",
              "      <td>Tengo</td>\n",
              "      <td>0</td>\n",
              "      <td>0.000000</td>\n",
              "      <td>0</td>\n",
              "      <td>0.000000</td>\n",
              "      <td>58</td>\n",
              "      <td>int64</td>\n",
              "    </tr>\n",
              "    <tr>\n",
              "      <th>2</th>\n",
              "      <td>Dónde estás trabajando</td>\n",
              "      <td>0</td>\n",
              "      <td>0.000000</td>\n",
              "      <td>0</td>\n",
              "      <td>0.000000</td>\n",
              "      <td>25</td>\n",
              "      <td>object</td>\n",
              "    </tr>\n",
              "    <tr>\n",
              "      <th>3</th>\n",
              "      <td>Años de experiencia</td>\n",
              "      <td>0</td>\n",
              "      <td>0.000000</td>\n",
              "      <td>235</td>\n",
              "      <td>0.052432</td>\n",
              "      <td>52</td>\n",
              "      <td>float64</td>\n",
              "    </tr>\n",
              "    <tr>\n",
              "      <th>4</th>\n",
              "      <td>Años en la empresa actual</td>\n",
              "      <td>0</td>\n",
              "      <td>0.000000</td>\n",
              "      <td>1038</td>\n",
              "      <td>0.231593</td>\n",
              "      <td>48</td>\n",
              "      <td>float64</td>\n",
              "    </tr>\n",
              "    <tr>\n",
              "      <th>5</th>\n",
              "      <td>Años en el puesto actual</td>\n",
              "      <td>0</td>\n",
              "      <td>0.000000</td>\n",
              "      <td>921</td>\n",
              "      <td>0.205489</td>\n",
              "      <td>39</td>\n",
              "      <td>float64</td>\n",
              "    </tr>\n",
              "    <tr>\n",
              "      <th>6</th>\n",
              "      <td>¿Gente a cargo?</td>\n",
              "      <td>0</td>\n",
              "      <td>0.000000</td>\n",
              "      <td>3335</td>\n",
              "      <td>0.744087</td>\n",
              "      <td>47</td>\n",
              "      <td>int64</td>\n",
              "    </tr>\n",
              "    <tr>\n",
              "      <th>7</th>\n",
              "      <td>Nivel de estudios alcanzado</td>\n",
              "      <td>0</td>\n",
              "      <td>0.000000</td>\n",
              "      <td>0</td>\n",
              "      <td>0.000000</td>\n",
              "      <td>7</td>\n",
              "      <td>object</td>\n",
              "    </tr>\n",
              "    <tr>\n",
              "      <th>8</th>\n",
              "      <td>Estado</td>\n",
              "      <td>0</td>\n",
              "      <td>0.000000</td>\n",
              "      <td>0</td>\n",
              "      <td>0.000000</td>\n",
              "      <td>3</td>\n",
              "      <td>object</td>\n",
              "    </tr>\n",
              "    <tr>\n",
              "      <th>9</th>\n",
              "      <td>Carrera</td>\n",
              "      <td>554</td>\n",
              "      <td>0.123606</td>\n",
              "      <td>0</td>\n",
              "      <td>0.000000</td>\n",
              "      <td>1485</td>\n",
              "      <td>object</td>\n",
              "    </tr>\n",
              "    <tr>\n",
              "      <th>10</th>\n",
              "      <td>Universidad</td>\n",
              "      <td>812</td>\n",
              "      <td>0.181169</td>\n",
              "      <td>0</td>\n",
              "      <td>0.000000</td>\n",
              "      <td>1056</td>\n",
              "      <td>object</td>\n",
              "    </tr>\n",
              "    <tr>\n",
              "      <th>11</th>\n",
              "      <td>Realizaste cursos de especialización</td>\n",
              "      <td>0</td>\n",
              "      <td>0.000000</td>\n",
              "      <td>0</td>\n",
              "      <td>0.000000</td>\n",
              "      <td>7</td>\n",
              "      <td>object</td>\n",
              "    </tr>\n",
              "    <tr>\n",
              "      <th>12</th>\n",
              "      <td>¿Contribuís a proyectos open source?</td>\n",
              "      <td>0</td>\n",
              "      <td>0.000000</td>\n",
              "      <td>0</td>\n",
              "      <td>0.000000</td>\n",
              "      <td>2</td>\n",
              "      <td>object</td>\n",
              "    </tr>\n",
              "    <tr>\n",
              "      <th>13</th>\n",
              "      <td>¿Programás como hobbie?</td>\n",
              "      <td>0</td>\n",
              "      <td>0.000000</td>\n",
              "      <td>0</td>\n",
              "      <td>0.000000</td>\n",
              "      <td>2</td>\n",
              "      <td>object</td>\n",
              "    </tr>\n",
              "    <tr>\n",
              "      <th>14</th>\n",
              "      <td>Trabajo de</td>\n",
              "      <td>0</td>\n",
              "      <td>0.000000</td>\n",
              "      <td>0</td>\n",
              "      <td>0.000000</td>\n",
              "      <td>443</td>\n",
              "      <td>object</td>\n",
              "    </tr>\n",
              "    <tr>\n",
              "      <th>15</th>\n",
              "      <td>Plataformas</td>\n",
              "      <td>777</td>\n",
              "      <td>0.173360</td>\n",
              "      <td>0</td>\n",
              "      <td>0.000000</td>\n",
              "      <td>935</td>\n",
              "      <td>object</td>\n",
              "    </tr>\n",
              "    <tr>\n",
              "      <th>16</th>\n",
              "      <td>Lenguajes de programación</td>\n",
              "      <td>852</td>\n",
              "      <td>0.190094</td>\n",
              "      <td>0</td>\n",
              "      <td>0.000000</td>\n",
              "      <td>1391</td>\n",
              "      <td>object</td>\n",
              "    </tr>\n",
              "    <tr>\n",
              "      <th>17</th>\n",
              "      <td>Frameworks, herramientas y librerías</td>\n",
              "      <td>2084</td>\n",
              "      <td>0.464971</td>\n",
              "      <td>0</td>\n",
              "      <td>0.000000</td>\n",
              "      <td>646</td>\n",
              "      <td>object</td>\n",
              "    </tr>\n",
              "    <tr>\n",
              "      <th>18</th>\n",
              "      <td>Bases de datos</td>\n",
              "      <td>1116</td>\n",
              "      <td>0.248996</td>\n",
              "      <td>0</td>\n",
              "      <td>0.000000</td>\n",
              "      <td>923</td>\n",
              "      <td>object</td>\n",
              "    </tr>\n",
              "    <tr>\n",
              "      <th>19</th>\n",
              "      <td>QA / Testing</td>\n",
              "      <td>3724</td>\n",
              "      <td>0.830879</td>\n",
              "      <td>0</td>\n",
              "      <td>0.000000</td>\n",
              "      <td>188</td>\n",
              "      <td>object</td>\n",
              "    </tr>\n",
              "    <tr>\n",
              "      <th>20</th>\n",
              "      <td>IDEs</td>\n",
              "      <td>1369</td>\n",
              "      <td>0.305444</td>\n",
              "      <td>0</td>\n",
              "      <td>0.000000</td>\n",
              "      <td>955</td>\n",
              "      <td>object</td>\n",
              "    </tr>\n",
              "    <tr>\n",
              "      <th>21</th>\n",
              "      <td>¿Qué SO usás en tu laptop/PC para trabajar?</td>\n",
              "      <td>0</td>\n",
              "      <td>0.000000</td>\n",
              "      <td>0</td>\n",
              "      <td>0.000000</td>\n",
              "      <td>4</td>\n",
              "      <td>object</td>\n",
              "    </tr>\n",
              "    <tr>\n",
              "      <th>22</th>\n",
              "      <td>¿Y en tu celular?</td>\n",
              "      <td>0</td>\n",
              "      <td>0.000000</td>\n",
              "      <td>0</td>\n",
              "      <td>0.000000</td>\n",
              "      <td>4</td>\n",
              "      <td>object</td>\n",
              "    </tr>\n",
              "    <tr>\n",
              "      <th>23</th>\n",
              "      <td>¿Tenés guardias?</td>\n",
              "      <td>0</td>\n",
              "      <td>0.000000</td>\n",
              "      <td>0</td>\n",
              "      <td>0.000000</td>\n",
              "      <td>3</td>\n",
              "      <td>object</td>\n",
              "    </tr>\n",
              "    <tr>\n",
              "      <th>24</th>\n",
              "      <td>Cuánto cobrás por guardia</td>\n",
              "      <td>0</td>\n",
              "      <td>0.000000</td>\n",
              "      <td>4097</td>\n",
              "      <td>0.914101</td>\n",
              "      <td>119</td>\n",
              "      <td>float64</td>\n",
              "    </tr>\n",
              "    <tr>\n",
              "      <th>25</th>\n",
              "      <td>¿Porcentaje, bruto o neto?</td>\n",
              "      <td>0</td>\n",
              "      <td>0.000000</td>\n",
              "      <td>0</td>\n",
              "      <td>0.000000</td>\n",
              "      <td>3</td>\n",
              "      <td>object</td>\n",
              "    </tr>\n",
              "    <tr>\n",
              "      <th>26</th>\n",
              "      <td>Tipo de contrato</td>\n",
              "      <td>0</td>\n",
              "      <td>0.000000</td>\n",
              "      <td>0</td>\n",
              "      <td>0.000000</td>\n",
              "      <td>5</td>\n",
              "      <td>object</td>\n",
              "    </tr>\n",
              "    <tr>\n",
              "      <th>27</th>\n",
              "      <td>Salario mensual BRUTO (en tu moneda local)</td>\n",
              "      <td>0</td>\n",
              "      <td>0.000000</td>\n",
              "      <td>0</td>\n",
              "      <td>0.000000</td>\n",
              "      <td>996</td>\n",
              "      <td>float64</td>\n",
              "    </tr>\n",
              "    <tr>\n",
              "      <th>28</th>\n",
              "      <td>Salario mensual NETO (en tu moneda local)</td>\n",
              "      <td>182</td>\n",
              "      <td>0.040607</td>\n",
              "      <td>0</td>\n",
              "      <td>0.000000</td>\n",
              "      <td>934</td>\n",
              "      <td>float64</td>\n",
              "    </tr>\n",
              "    <tr>\n",
              "      <th>29</th>\n",
              "      <td>¿Qué tan conforme estás con tu sueldo?</td>\n",
              "      <td>0</td>\n",
              "      <td>0.000000</td>\n",
              "      <td>0</td>\n",
              "      <td>0.000000</td>\n",
              "      <td>4</td>\n",
              "      <td>int64</td>\n",
              "    </tr>\n",
              "    <tr>\n",
              "      <th>30</th>\n",
              "      <td>Cómo creés que está tu sueldo con respecto al ...</td>\n",
              "      <td>0</td>\n",
              "      <td>0.000000</td>\n",
              "      <td>0</td>\n",
              "      <td>0.000000</td>\n",
              "      <td>4</td>\n",
              "      <td>int64</td>\n",
              "    </tr>\n",
              "    <tr>\n",
              "      <th>31</th>\n",
              "      <td>Recibís algún tipo de bono</td>\n",
              "      <td>0</td>\n",
              "      <td>0.000000</td>\n",
              "      <td>0</td>\n",
              "      <td>0.000000</td>\n",
              "      <td>5</td>\n",
              "      <td>object</td>\n",
              "    </tr>\n",
              "    <tr>\n",
              "      <th>32</th>\n",
              "      <td>A qué está atado el bono</td>\n",
              "      <td>0</td>\n",
              "      <td>0.000000</td>\n",
              "      <td>0</td>\n",
              "      <td>0.000000</td>\n",
              "      <td>215</td>\n",
              "      <td>object</td>\n",
              "    </tr>\n",
              "    <tr>\n",
              "      <th>33</th>\n",
              "      <td>¿Tuviste ajustes por inflación en 2018?</td>\n",
              "      <td>0</td>\n",
              "      <td>0.000000</td>\n",
              "      <td>0</td>\n",
              "      <td>0.000000</td>\n",
              "      <td>4</td>\n",
              "      <td>object</td>\n",
              "    </tr>\n",
              "    <tr>\n",
              "      <th>34</th>\n",
              "      <td>¿De qué % fue el ajuste?</td>\n",
              "      <td>0</td>\n",
              "      <td>0.000000</td>\n",
              "      <td>946</td>\n",
              "      <td>0.211066</td>\n",
              "      <td>104</td>\n",
              "      <td>float64</td>\n",
              "    </tr>\n",
              "    <tr>\n",
              "      <th>35</th>\n",
              "      <td>¿En qué mes fue el último ajuste?</td>\n",
              "      <td>0</td>\n",
              "      <td>0.000000</td>\n",
              "      <td>832</td>\n",
              "      <td>0.185631</td>\n",
              "      <td>13</td>\n",
              "      <td>int64</td>\n",
              "    </tr>\n",
              "    <tr>\n",
              "      <th>36</th>\n",
              "      <td>¿Sufriste o presenciaste situaciones de violen...</td>\n",
              "      <td>91</td>\n",
              "      <td>0.020303</td>\n",
              "      <td>0</td>\n",
              "      <td>0.000000</td>\n",
              "      <td>3</td>\n",
              "      <td>object</td>\n",
              "    </tr>\n",
              "    <tr>\n",
              "      <th>37</th>\n",
              "      <td>Orientación sexual</td>\n",
              "      <td>155</td>\n",
              "      <td>0.034583</td>\n",
              "      <td>0</td>\n",
              "      <td>0.000000</td>\n",
              "      <td>45</td>\n",
              "      <td>object</td>\n",
              "    </tr>\n",
              "    <tr>\n",
              "      <th>38</th>\n",
              "      <td>¿Tenés algún tipo de discapacidad?</td>\n",
              "      <td>4184</td>\n",
              "      <td>0.933512</td>\n",
              "      <td>0</td>\n",
              "      <td>0.000000</td>\n",
              "      <td>57</td>\n",
              "      <td>object</td>\n",
              "    </tr>\n",
              "    <tr>\n",
              "      <th>39</th>\n",
              "      <td>¿Sentís que esto te dificultó el conseguir tra...</td>\n",
              "      <td>2365</td>\n",
              "      <td>0.527666</td>\n",
              "      <td>0</td>\n",
              "      <td>0.000000</td>\n",
              "      <td>2</td>\n",
              "      <td>object</td>\n",
              "    </tr>\n",
              "    <tr>\n",
              "      <th>40</th>\n",
              "      <td>¿A qué eventos de tecnología asististe en el ú...</td>\n",
              "      <td>2742</td>\n",
              "      <td>0.611780</td>\n",
              "      <td>0</td>\n",
              "      <td>0.000000</td>\n",
              "      <td>1110</td>\n",
              "      <td>object</td>\n",
              "    </tr>\n",
              "    <tr>\n",
              "      <th>41</th>\n",
              "      <td>Cantidad de empleados</td>\n",
              "      <td>0</td>\n",
              "      <td>0.000000</td>\n",
              "      <td>0</td>\n",
              "      <td>0.000000</td>\n",
              "      <td>10</td>\n",
              "      <td>object</td>\n",
              "    </tr>\n",
              "    <tr>\n",
              "      <th>42</th>\n",
              "      <td>Actividad principal</td>\n",
              "      <td>0</td>\n",
              "      <td>0.000000</td>\n",
              "      <td>0</td>\n",
              "      <td>0.000000</td>\n",
              "      <td>3</td>\n",
              "      <td>object</td>\n",
              "    </tr>\n",
              "    <tr>\n",
              "      <th>43</th>\n",
              "      <td>¿La recomendás como un buen lugar para trabajar?</td>\n",
              "      <td>0</td>\n",
              "      <td>0.000000</td>\n",
              "      <td>0</td>\n",
              "      <td>0.000000</td>\n",
              "      <td>10</td>\n",
              "      <td>int64</td>\n",
              "    </tr>\n",
              "    <tr>\n",
              "      <th>44</th>\n",
              "      <td>¿Cómo calificás las políticas de diversidad e ...</td>\n",
              "      <td>0</td>\n",
              "      <td>0.000000</td>\n",
              "      <td>0</td>\n",
              "      <td>0.000000</td>\n",
              "      <td>10</td>\n",
              "      <td>int64</td>\n",
              "    </tr>\n",
              "    <tr>\n",
              "      <th>45</th>\n",
              "      <td>¿A cuántos kilómetros de tu casa queda la ofic...</td>\n",
              "      <td>0</td>\n",
              "      <td>0.000000</td>\n",
              "      <td>48</td>\n",
              "      <td>0.010710</td>\n",
              "      <td>127</td>\n",
              "      <td>float64</td>\n",
              "    </tr>\n",
              "    <tr>\n",
              "      <th>46</th>\n",
              "      <td>Beneficios extra</td>\n",
              "      <td>0</td>\n",
              "      <td>0.000000</td>\n",
              "      <td>0</td>\n",
              "      <td>0.000000</td>\n",
              "      <td>2123</td>\n",
              "      <td>object</td>\n",
              "    </tr>\n",
              "  </tbody>\n",
              "</table>\n",
              "</div>"
            ],
            "text/plain": [
              "                                             variable  q_nan  ...  unique     type\n",
              "0                                       Me identifico      0  ...       3   object\n",
              "1                                               Tengo      0  ...      58    int64\n",
              "2                              Dónde estás trabajando      0  ...      25   object\n",
              "3                                 Años de experiencia      0  ...      52  float64\n",
              "4                           Años en la empresa actual      0  ...      48  float64\n",
              "5                            Años en el puesto actual      0  ...      39  float64\n",
              "6                                     ¿Gente a cargo?      0  ...      47    int64\n",
              "7                         Nivel de estudios alcanzado      0  ...       7   object\n",
              "8                                              Estado      0  ...       3   object\n",
              "9                                             Carrera    554  ...    1485   object\n",
              "10                                        Universidad    812  ...    1056   object\n",
              "11               Realizaste cursos de especialización      0  ...       7   object\n",
              "12               ¿Contribuís a proyectos open source?      0  ...       2   object\n",
              "13                            ¿Programás como hobbie?      0  ...       2   object\n",
              "14                                         Trabajo de      0  ...     443   object\n",
              "15                                        Plataformas    777  ...     935   object\n",
              "16                          Lenguajes de programación    852  ...    1391   object\n",
              "17               Frameworks, herramientas y librerías   2084  ...     646   object\n",
              "18                                     Bases de datos   1116  ...     923   object\n",
              "19                                       QA / Testing   3724  ...     188   object\n",
              "20                                               IDEs   1369  ...     955   object\n",
              "21        ¿Qué SO usás en tu laptop/PC para trabajar?      0  ...       4   object\n",
              "22                                  ¿Y en tu celular?      0  ...       4   object\n",
              "23                                   ¿Tenés guardias?      0  ...       3   object\n",
              "24                          Cuánto cobrás por guardia      0  ...     119  float64\n",
              "25                         ¿Porcentaje, bruto o neto?      0  ...       3   object\n",
              "26                                   Tipo de contrato      0  ...       5   object\n",
              "27         Salario mensual BRUTO (en tu moneda local)      0  ...     996  float64\n",
              "28          Salario mensual NETO (en tu moneda local)    182  ...     934  float64\n",
              "29             ¿Qué tan conforme estás con tu sueldo?      0  ...       4    int64\n",
              "30  Cómo creés que está tu sueldo con respecto al ...      0  ...       4    int64\n",
              "31                         Recibís algún tipo de bono      0  ...       5   object\n",
              "32                           A qué está atado el bono      0  ...     215   object\n",
              "33            ¿Tuviste ajustes por inflación en 2018?      0  ...       4   object\n",
              "34                           ¿De qué % fue el ajuste?      0  ...     104  float64\n",
              "35                  ¿En qué mes fue el último ajuste?      0  ...      13    int64\n",
              "36  ¿Sufriste o presenciaste situaciones de violen...     91  ...       3   object\n",
              "37                                 Orientación sexual    155  ...      45   object\n",
              "38                 ¿Tenés algún tipo de discapacidad?   4184  ...      57   object\n",
              "39  ¿Sentís que esto te dificultó el conseguir tra...   2365  ...       2   object\n",
              "40  ¿A qué eventos de tecnología asististe en el ú...   2742  ...    1110   object\n",
              "41                              Cantidad de empleados      0  ...      10   object\n",
              "42                                Actividad principal      0  ...       3   object\n",
              "43   ¿La recomendás como un buen lugar para trabajar?      0  ...      10    int64\n",
              "44  ¿Cómo calificás las políticas de diversidad e ...      0  ...      10    int64\n",
              "45  ¿A cuántos kilómetros de tu casa queda la ofic...      0  ...     127  float64\n",
              "46                                   Beneficios extra      0  ...    2123   object\n",
              "\n",
              "[47 rows x 7 columns]"
            ]
          },
          "metadata": {
            "tags": []
          },
          "execution_count": 7
        }
      ]
    },
    {
      "cell_type": "code",
      "metadata": {
        "id": "JprFufSUvgHq",
        "outputId": "5c8b731e-04a6-4a0c-f647-d2199fc1d15a",
        "colab": {
          "base_uri": "https://localhost:8080/",
          "height": 666
        }
      },
      "source": [
        "data.head()"
      ],
      "execution_count": 8,
      "outputs": [
        {
          "output_type": "execute_result",
          "data": {
            "text/html": [
              "<div>\n",
              "<style scoped>\n",
              "    .dataframe tbody tr th:only-of-type {\n",
              "        vertical-align: middle;\n",
              "    }\n",
              "\n",
              "    .dataframe tbody tr th {\n",
              "        vertical-align: top;\n",
              "    }\n",
              "\n",
              "    .dataframe thead th {\n",
              "        text-align: right;\n",
              "    }\n",
              "</style>\n",
              "<table border=\"1\" class=\"dataframe\">\n",
              "  <thead>\n",
              "    <tr style=\"text-align: right;\">\n",
              "      <th></th>\n",
              "      <th>Me identifico</th>\n",
              "      <th>Tengo</th>\n",
              "      <th>Dónde estás trabajando</th>\n",
              "      <th>Años de experiencia</th>\n",
              "      <th>Años en la empresa actual</th>\n",
              "      <th>Años en el puesto actual</th>\n",
              "      <th>¿Gente a cargo?</th>\n",
              "      <th>Nivel de estudios alcanzado</th>\n",
              "      <th>Estado</th>\n",
              "      <th>Carrera</th>\n",
              "      <th>Universidad</th>\n",
              "      <th>Realizaste cursos de especialización</th>\n",
              "      <th>¿Contribuís a proyectos open source?</th>\n",
              "      <th>¿Programás como hobbie?</th>\n",
              "      <th>Trabajo de</th>\n",
              "      <th>Plataformas</th>\n",
              "      <th>Lenguajes de programación</th>\n",
              "      <th>Frameworks, herramientas y librerías</th>\n",
              "      <th>Bases de datos</th>\n",
              "      <th>QA / Testing</th>\n",
              "      <th>IDEs</th>\n",
              "      <th>¿Qué SO usás en tu laptop/PC para trabajar?</th>\n",
              "      <th>¿Y en tu celular?</th>\n",
              "      <th>¿Tenés guardias?</th>\n",
              "      <th>Cuánto cobrás por guardia</th>\n",
              "      <th>¿Porcentaje, bruto o neto?</th>\n",
              "      <th>Tipo de contrato</th>\n",
              "      <th>Salario mensual BRUTO (en tu moneda local)</th>\n",
              "      <th>Salario mensual NETO (en tu moneda local)</th>\n",
              "      <th>¿Qué tan conforme estás con tu sueldo?</th>\n",
              "      <th>Cómo creés que está tu sueldo con respecto al último semestre</th>\n",
              "      <th>Recibís algún tipo de bono</th>\n",
              "      <th>A qué está atado el bono</th>\n",
              "      <th>¿Tuviste ajustes por inflación en 2018?</th>\n",
              "      <th>¿De qué % fue el ajuste?</th>\n",
              "      <th>¿En qué mes fue el último ajuste?</th>\n",
              "      <th>¿Sufriste o presenciaste situaciones de violencia laboral?</th>\n",
              "      <th>Orientación sexual</th>\n",
              "      <th>¿Tenés algún tipo de discapacidad?</th>\n",
              "      <th>¿Sentís que esto te dificultó el conseguir trabajo?</th>\n",
              "      <th>¿A qué eventos de tecnología asististe en el último año?</th>\n",
              "      <th>Cantidad de empleados</th>\n",
              "      <th>Actividad principal</th>\n",
              "      <th>¿La recomendás como un buen lugar para trabajar?</th>\n",
              "      <th>¿Cómo calificás las políticas de diversidad e inclusión?</th>\n",
              "      <th>¿A cuántos kilómetros de tu casa queda la oficina?</th>\n",
              "      <th>Beneficios extra</th>\n",
              "    </tr>\n",
              "  </thead>\n",
              "  <tbody>\n",
              "    <tr>\n",
              "      <th>0</th>\n",
              "      <td>Hombre</td>\n",
              "      <td>22</td>\n",
              "      <td>Catamarca</td>\n",
              "      <td>2.0</td>\n",
              "      <td>1.0</td>\n",
              "      <td>1.0</td>\n",
              "      <td>0</td>\n",
              "      <td>Universitario</td>\n",
              "      <td>En curso</td>\n",
              "      <td>ING informática</td>\n",
              "      <td>Unca</td>\n",
              "      <td>Sí, de forma particular, Sí, los pagó un emple...</td>\n",
              "      <td>No</td>\n",
              "      <td>Sí</td>\n",
              "      <td>Developer</td>\n",
              "      <td>Linux</td>\n",
              "      <td>HTML, Javascript, PHP, Python</td>\n",
              "      <td>Django, Toba Framework</td>\n",
              "      <td>MySQL, PostgreSQL</td>\n",
              "      <td>Selenium</td>\n",
              "      <td>Atom</td>\n",
              "      <td>Linux</td>\n",
              "      <td>Android</td>\n",
              "      <td>No</td>\n",
              "      <td>0.0</td>\n",
              "      <td>Bruto</td>\n",
              "      <td>Full-Time</td>\n",
              "      <td>35000.0</td>\n",
              "      <td>33000.0</td>\n",
              "      <td>2</td>\n",
              "      <td>3</td>\n",
              "      <td>Menos de un sueldo</td>\n",
              "      <td>Mix de las anteriores</td>\n",
              "      <td>Dos</td>\n",
              "      <td>25.0</td>\n",
              "      <td>5</td>\n",
              "      <td>Jamás</td>\n",
              "      <td>Heterosexual</td>\n",
              "      <td>NaN</td>\n",
              "      <td>NaN</td>\n",
              "      <td>NaN</td>\n",
              "      <td>1001-2000</td>\n",
              "      <td>Producto basado en Software</td>\n",
              "      <td>8</td>\n",
              "      <td>9</td>\n",
              "      <td>2.0</td>\n",
              "      <td>Capacitaciones y/o cursos</td>\n",
              "    </tr>\n",
              "    <tr>\n",
              "      <th>1</th>\n",
              "      <td>Hombre</td>\n",
              "      <td>23</td>\n",
              "      <td>Catamarca</td>\n",
              "      <td>2.0</td>\n",
              "      <td>1.0</td>\n",
              "      <td>1.0</td>\n",
              "      <td>0</td>\n",
              "      <td>Secundario</td>\n",
              "      <td>Completado</td>\n",
              "      <td>Ing informática</td>\n",
              "      <td>UNCa</td>\n",
              "      <td>Sí, de forma particular</td>\n",
              "      <td>No</td>\n",
              "      <td>Sí</td>\n",
              "      <td>Developer, SysAdmin y Redes</td>\n",
              "      <td>Linux, VMWare, Proxmox, Mikrotik, Cisco</td>\n",
              "      <td>Bash/Shell, CSS, HTML, Javascript, PHP, Python...</td>\n",
              "      <td>Cordova, Django, Node.js, React.js, WordPress,...</td>\n",
              "      <td>Informix, MariaDB, MongoDB, MySQL, PostgreSQL</td>\n",
              "      <td>Selenium</td>\n",
              "      <td>Atom, Nano</td>\n",
              "      <td>Linux</td>\n",
              "      <td>Android</td>\n",
              "      <td>No</td>\n",
              "      <td>0.0</td>\n",
              "      <td>Porcentaje de mi sueldo</td>\n",
              "      <td>Part-Time</td>\n",
              "      <td>25000.0</td>\n",
              "      <td>22000.0</td>\n",
              "      <td>2</td>\n",
              "      <td>1</td>\n",
              "      <td>Un sueldo</td>\n",
              "      <td>Mix de las anteriores</td>\n",
              "      <td>Uno</td>\n",
              "      <td>22.0</td>\n",
              "      <td>12</td>\n",
              "      <td>Jamás</td>\n",
              "      <td>Heterosexual</td>\n",
              "      <td>NaN</td>\n",
              "      <td>NaN</td>\n",
              "      <td>Charlas online</td>\n",
              "      <td>51-100</td>\n",
              "      <td>Producto basado en Software</td>\n",
              "      <td>8</td>\n",
              "      <td>10</td>\n",
              "      <td>2.0</td>\n",
              "      <td>Capacitaciones y/o cursos, Licencia de paterni...</td>\n",
              "    </tr>\n",
              "    <tr>\n",
              "      <th>2</th>\n",
              "      <td>Mujer</td>\n",
              "      <td>35</td>\n",
              "      <td>Chaco</td>\n",
              "      <td>8.0</td>\n",
              "      <td>7.0</td>\n",
              "      <td>2.0</td>\n",
              "      <td>2</td>\n",
              "      <td>Posgrado</td>\n",
              "      <td>En curso</td>\n",
              "      <td>MTI</td>\n",
              "      <td>Universidad del Nordeste</td>\n",
              "      <td>Sí, de forma particular, Sí, los pagó un emple...</td>\n",
              "      <td>Sí</td>\n",
              "      <td>Sí</td>\n",
              "      <td>Developer</td>\n",
              "      <td>NaN</td>\n",
              "      <td>.NET, R</td>\n",
              "      <td>.NET Core, shiny, entre otras librerías de R</td>\n",
              "      <td>MSSQL</td>\n",
              "      <td>NaN</td>\n",
              "      <td>RStudio, Sublime Text, Visual Studio</td>\n",
              "      <td>Windows</td>\n",
              "      <td>Android</td>\n",
              "      <td>Sí, pasiva</td>\n",
              "      <td>0.0</td>\n",
              "      <td>Neto</td>\n",
              "      <td>Full-Time</td>\n",
              "      <td>50000.0</td>\n",
              "      <td>45000.0</td>\n",
              "      <td>2</td>\n",
              "      <td>2</td>\n",
              "      <td>De uno a tres sueldos</td>\n",
              "      <td>Performance de la compañía</td>\n",
              "      <td>Dos</td>\n",
              "      <td>4.0</td>\n",
              "      <td>10</td>\n",
              "      <td>En mi trabajo actual</td>\n",
              "      <td>dgsdg</td>\n",
              "      <td>NaN</td>\n",
              "      <td>No</td>\n",
              "      <td>varios</td>\n",
              "      <td>201-500</td>\n",
              "      <td>Otras industrias</td>\n",
              "      <td>4</td>\n",
              "      <td>4</td>\n",
              "      <td>0.2</td>\n",
              "      <td>Capacitaciones y/o cursos, Licencia de paterni...</td>\n",
              "    </tr>\n",
              "    <tr>\n",
              "      <th>3</th>\n",
              "      <td>Hombre</td>\n",
              "      <td>41</td>\n",
              "      <td>Chaco</td>\n",
              "      <td>20.0</td>\n",
              "      <td>2.0</td>\n",
              "      <td>10.0</td>\n",
              "      <td>0</td>\n",
              "      <td>Universitario</td>\n",
              "      <td>Completado</td>\n",
              "      <td>Lic en sistemas</td>\n",
              "      <td>Uba / CAECE</td>\n",
              "      <td>Sí, los pagó un empleador</td>\n",
              "      <td>No</td>\n",
              "      <td>No</td>\n",
              "      <td>Developer</td>\n",
              "      <td>NaN</td>\n",
              "      <td>.NET, C#, CSS, HTML, Javascript, TypeScript</td>\n",
              "      <td>Angular</td>\n",
              "      <td>MySQL</td>\n",
              "      <td>NaN</td>\n",
              "      <td>Visual Studio, Vs code</td>\n",
              "      <td>Mac OS X</td>\n",
              "      <td>Android</td>\n",
              "      <td>No</td>\n",
              "      <td>0.0</td>\n",
              "      <td>Bruto</td>\n",
              "      <td>Freelance</td>\n",
              "      <td>70000.0</td>\n",
              "      <td>65000.0</td>\n",
              "      <td>3</td>\n",
              "      <td>2</td>\n",
              "      <td>No</td>\n",
              "      <td>No recibo bono</td>\n",
              "      <td>Más de dos</td>\n",
              "      <td>40.0</td>\n",
              "      <td>10</td>\n",
              "      <td>Jamás</td>\n",
              "      <td>Heterosexual</td>\n",
              "      <td>NaN</td>\n",
              "      <td>NaN</td>\n",
              "      <td>Ninguno</td>\n",
              "      <td>1-10</td>\n",
              "      <td>Servicios / Consultoría de Software / Digital</td>\n",
              "      <td>5</td>\n",
              "      <td>1</td>\n",
              "      <td>-1.0</td>\n",
              "      <td>Horarios flexibles, Vacaciones flexibles (adic...</td>\n",
              "    </tr>\n",
              "    <tr>\n",
              "      <th>4</th>\n",
              "      <td>Hombre</td>\n",
              "      <td>35</td>\n",
              "      <td>Chaco</td>\n",
              "      <td>5.0</td>\n",
              "      <td>3.0</td>\n",
              "      <td>2.0</td>\n",
              "      <td>0</td>\n",
              "      <td>Universitario</td>\n",
              "      <td>Completado</td>\n",
              "      <td>Analisis en Sistemas</td>\n",
              "      <td>UTN</td>\n",
              "      <td>Sí, los pagó un empleador</td>\n",
              "      <td>No</td>\n",
              "      <td>No</td>\n",
              "      <td>Product Manager</td>\n",
              "      <td>Google Cloud Platform/App Engine, Linux</td>\n",
              "      <td>NaN</td>\n",
              "      <td>NaN</td>\n",
              "      <td>MySQL</td>\n",
              "      <td>NaN</td>\n",
              "      <td>NaN</td>\n",
              "      <td>Linux</td>\n",
              "      <td>Android</td>\n",
              "      <td>No</td>\n",
              "      <td>0.0</td>\n",
              "      <td>Neto</td>\n",
              "      <td>Full-Time</td>\n",
              "      <td>35000.0</td>\n",
              "      <td>28780.0</td>\n",
              "      <td>2</td>\n",
              "      <td>2</td>\n",
              "      <td>No</td>\n",
              "      <td>No recibo bono</td>\n",
              "      <td>Uno</td>\n",
              "      <td>10.0</td>\n",
              "      <td>10</td>\n",
              "      <td>En mi trabajo actual</td>\n",
              "      <td>Heterosexual</td>\n",
              "      <td>NaN</td>\n",
              "      <td>No</td>\n",
              "      <td>NaN</td>\n",
              "      <td>501-1000</td>\n",
              "      <td>Producto basado en Software</td>\n",
              "      <td>8</td>\n",
              "      <td>8</td>\n",
              "      <td>1.0</td>\n",
              "      <td>Capacitaciones y/o cursos, Clases de idiomas, ...</td>\n",
              "    </tr>\n",
              "  </tbody>\n",
              "</table>\n",
              "</div>"
            ],
            "text/plain": [
              "  Me identifico  ...                                   Beneficios extra\n",
              "0        Hombre  ...                          Capacitaciones y/o cursos\n",
              "1        Hombre  ...  Capacitaciones y/o cursos, Licencia de paterni...\n",
              "2         Mujer  ...  Capacitaciones y/o cursos, Licencia de paterni...\n",
              "3        Hombre  ...  Horarios flexibles, Vacaciones flexibles (adic...\n",
              "4        Hombre  ...  Capacitaciones y/o cursos, Clases de idiomas, ...\n",
              "\n",
              "[5 rows x 47 columns]"
            ]
          },
          "metadata": {
            "tags": []
          },
          "execution_count": 8
        }
      ]
    },
    {
      "cell_type": "code",
      "metadata": {
        "id": "xH18-h73vbPj"
      },
      "source": [
        "#d_insp.score.hist()"
      ],
      "execution_count": 11,
      "outputs": []
    },
    {
      "cell_type": "markdown",
      "metadata": {
        "id": "P-3MPgKQI0no"
      },
      "source": [
        "̇¿Cómo usar `funpymodeling`? \n",
        "https://www.youtube.com/watch?v=1wwQ9mWxrVE"
      ]
    },
    {
      "cell_type": "markdown",
      "metadata": {
        "id": "CwpcWNKmDJBl"
      },
      "source": [
        "### 3) Preparación de datos\n",
        "\n"
      ]
    },
    {
      "cell_type": "code",
      "metadata": {
        "id": "ZRD6c0cd1aV8"
      },
      "source": [
        "input='Trabajo de'\n",
        "target='Salario mensual BRUTO (en tu moneda local)'\n",
        "data_x=data[[input]]\n",
        "\n",
        "# Output:\n",
        "from sklearn.preprocessing import StandardScaler\n",
        "scaler = StandardScaler()\n",
        "\n",
        "#data[[target]]\n",
        "data_y=scaler.fit_transform(data[[target]])\n",
        "#data_y=data[[target]]"
      ],
      "execution_count": 12,
      "outputs": []
    },
    {
      "cell_type": "code",
      "metadata": {
        "id": "bqP3S_Y3rImv",
        "outputId": "6f043276-9f2a-4d53-c730-5eab26a089ee",
        "colab": {
          "base_uri": "https://localhost:8080/",
          "height": 80
        }
      },
      "source": [
        "profiling_num(data[[target]])"
      ],
      "execution_count": 13,
      "outputs": [
        {
          "output_type": "execute_result",
          "data": {
            "text/html": [
              "<div>\n",
              "<style scoped>\n",
              "    .dataframe tbody tr th:only-of-type {\n",
              "        vertical-align: middle;\n",
              "    }\n",
              "\n",
              "    .dataframe tbody tr th {\n",
              "        vertical-align: top;\n",
              "    }\n",
              "\n",
              "    .dataframe thead th {\n",
              "        text-align: right;\n",
              "    }\n",
              "</style>\n",
              "<table border=\"1\" class=\"dataframe\">\n",
              "  <thead>\n",
              "    <tr style=\"text-align: right;\">\n",
              "      <th></th>\n",
              "      <th>variable</th>\n",
              "      <th>mean</th>\n",
              "      <th>std_dev</th>\n",
              "      <th>variation_coef</th>\n",
              "      <th>p_0.01</th>\n",
              "      <th>p_0.05</th>\n",
              "      <th>p_0.25</th>\n",
              "      <th>p_0.5</th>\n",
              "      <th>p_0.75</th>\n",
              "      <th>p_0.95</th>\n",
              "      <th>p_0.99</th>\n",
              "    </tr>\n",
              "  </thead>\n",
              "  <tbody>\n",
              "    <tr>\n",
              "      <th>0</th>\n",
              "      <td>Salario mensual BRUTO (en tu moneda local)</td>\n",
              "      <td>66708.338151</td>\n",
              "      <td>387420.626264</td>\n",
              "      <td>5.807679</td>\n",
              "      <td>31.8898</td>\n",
              "      <td>14500.0</td>\n",
              "      <td>32508.25</td>\n",
              "      <td>49000.0</td>\n",
              "      <td>70000.0</td>\n",
              "      <td>137000.0</td>\n",
              "      <td>250000.0</td>\n",
              "    </tr>\n",
              "  </tbody>\n",
              "</table>\n",
              "</div>"
            ],
            "text/plain": [
              "                                     variable          mean  ...    p_0.95    p_0.99\n",
              "0  Salario mensual BRUTO (en tu moneda local)  66708.338151  ...  137000.0  250000.0\n",
              "\n",
              "[1 rows x 11 columns]"
            ]
          },
          "metadata": {
            "tags": []
          },
          "execution_count": 13
        }
      ]
    },
    {
      "cell_type": "code",
      "metadata": {
        "id": "AFIRTgQJ_eSP",
        "outputId": "04ce2535-3105-480f-b108-ed94079c54d8",
        "colab": {
          "base_uri": "https://localhost:8080/",
          "height": 80
        }
      },
      "source": [
        "profiling_num(data_y)"
      ],
      "execution_count": 14,
      "outputs": [
        {
          "output_type": "execute_result",
          "data": {
            "text/html": [
              "<div>\n",
              "<style scoped>\n",
              "    .dataframe tbody tr th:only-of-type {\n",
              "        vertical-align: middle;\n",
              "    }\n",
              "\n",
              "    .dataframe tbody tr th {\n",
              "        vertical-align: top;\n",
              "    }\n",
              "\n",
              "    .dataframe thead th {\n",
              "        text-align: right;\n",
              "    }\n",
              "</style>\n",
              "<table border=\"1\" class=\"dataframe\">\n",
              "  <thead>\n",
              "    <tr style=\"text-align: right;\">\n",
              "      <th></th>\n",
              "      <th>variable</th>\n",
              "      <th>mean</th>\n",
              "      <th>std_dev</th>\n",
              "      <th>variation_coef</th>\n",
              "      <th>p_0.01</th>\n",
              "      <th>p_0.05</th>\n",
              "      <th>p_0.25</th>\n",
              "      <th>p_0.5</th>\n",
              "      <th>p_0.75</th>\n",
              "      <th>p_0.95</th>\n",
              "      <th>p_0.99</th>\n",
              "    </tr>\n",
              "  </thead>\n",
              "  <tbody>\n",
              "    <tr>\n",
              "      <th>0</th>\n",
              "      <td>0</td>\n",
              "      <td>1.117159e-17</td>\n",
              "      <td>1.000112</td>\n",
              "      <td>8.952277e+16</td>\n",
              "      <td>-0.172123</td>\n",
              "      <td>-0.134774</td>\n",
              "      <td>-0.088286</td>\n",
              "      <td>-0.045713</td>\n",
              "      <td>0.008497</td>\n",
              "      <td>0.181455</td>\n",
              "      <td>0.47316</td>\n",
              "    </tr>\n",
              "  </tbody>\n",
              "</table>\n",
              "</div>"
            ],
            "text/plain": [
              "   variable          mean   std_dev  ...    p_0.75    p_0.95   p_0.99\n",
              "0         0  1.117159e-17  1.000112  ...  0.008497  0.181455  0.47316\n",
              "\n",
              "[1 rows x 11 columns]"
            ]
          },
          "metadata": {
            "tags": []
          },
          "execution_count": 14
        }
      ]
    },
    {
      "cell_type": "code",
      "metadata": {
        "id": "cqCsHKE1_Qz1"
      },
      "source": [
        "#data_y=np.where(data[[target]] > 137000, 137000, data[[target]] )\n",
        "data_y=np.where(data_y >0.47316, 0.47316, data_y)"
      ],
      "execution_count": 15,
      "outputs": []
    },
    {
      "cell_type": "code",
      "metadata": {
        "id": "IvU63CBdS1yN"
      },
      "source": [
        "from sklearn.model_selection import train_test_split\n",
        "\n",
        "x_train_base, x_test_base, y_train, y_test = train_test_split(data_x, data_y, test_size=0.2)"
      ],
      "execution_count": 16,
      "outputs": []
    },
    {
      "cell_type": "code",
      "metadata": {
        "id": "X3TWmr3cLKsM",
        "outputId": "4ddcaeee-51a4-4c04-e2a2-f2340148dc73",
        "colab": {
          "base_uri": "https://localhost:8080/",
          "height": 315
        }
      },
      "source": [
        "todf(y_train).hist()"
      ],
      "execution_count": 17,
      "outputs": [
        {
          "output_type": "execute_result",
          "data": {
            "text/plain": [
              "array([[<matplotlib.axes._subplots.AxesSubplot object at 0x7fc8520679b0>]],\n",
              "      dtype=object)"
            ]
          },
          "metadata": {
            "tags": []
          },
          "execution_count": 17
        },
        {
          "output_type": "display_data",
          "data": {
            "image/png": "[encoded data removed]",
            "text/plain": [
              "<Figure size 432x288 with 1 Axes>"
            ]
          },
          "metadata": {
            "tags": [],
            "needs_background": "light"
          }
        }
      ]
    },
    {
      "cell_type": "markdown",
      "metadata": {
        "id": "8p6UrYsqXkbl"
      },
      "source": [
        "### x) Enfoque 1: Hacer one hot encoding"
      ]
    },
    {
      "cell_type": "code",
      "metadata": {
        "id": "YwcdfD-206oQ"
      },
      "source": [
        "x_train1=pd.get_dummies(x_train_base)\n",
        "\n",
        "x_test1=pd.get_dummies(x_test_base).reindex(columns = x_train1.columns).fillna(0)"
      ],
      "execution_count": 18,
      "outputs": []
    },
    {
      "cell_type": "code",
      "metadata": {
        "id": "bwuR-cZYshuW",
        "outputId": "f5629f44-4499-4057-992e-c08eac426a77",
        "colab": {
          "base_uri": "https://localhost:8080/",
          "height": 419
        }
      },
      "source": [
        "x_train_base"
      ],
      "execution_count": 19,
      "outputs": [
        {
          "output_type": "execute_result",
          "data": {
            "text/html": [
              "<div>\n",
              "<style scoped>\n",
              "    .dataframe tbody tr th:only-of-type {\n",
              "        vertical-align: middle;\n",
              "    }\n",
              "\n",
              "    .dataframe tbody tr th {\n",
              "        vertical-align: top;\n",
              "    }\n",
              "\n",
              "    .dataframe thead th {\n",
              "        text-align: right;\n",
              "    }\n",
              "</style>\n",
              "<table border=\"1\" class=\"dataframe\">\n",
              "  <thead>\n",
              "    <tr style=\"text-align: right;\">\n",
              "      <th></th>\n",
              "      <th>Trabajo de</th>\n",
              "    </tr>\n",
              "  </thead>\n",
              "  <tbody>\n",
              "    <tr>\n",
              "      <th>3810</th>\n",
              "      <td>Developer</td>\n",
              "    </tr>\n",
              "    <tr>\n",
              "      <th>2741</th>\n",
              "      <td>Developer</td>\n",
              "    </tr>\n",
              "    <tr>\n",
              "      <th>3466</th>\n",
              "      <td>Enseñando inglés</td>\n",
              "    </tr>\n",
              "    <tr>\n",
              "      <th>1154</th>\n",
              "      <td>UX</td>\n",
              "    </tr>\n",
              "    <tr>\n",
              "      <th>2080</th>\n",
              "      <td>Preventa</td>\n",
              "    </tr>\n",
              "    <tr>\n",
              "      <th>...</th>\n",
              "      <td>...</td>\n",
              "    </tr>\n",
              "    <tr>\n",
              "      <th>1447</th>\n",
              "      <td>Middleware</td>\n",
              "    </tr>\n",
              "    <tr>\n",
              "      <th>556</th>\n",
              "      <td>Consultor</td>\n",
              "    </tr>\n",
              "    <tr>\n",
              "      <th>299</th>\n",
              "      <td>Manager / Director</td>\n",
              "    </tr>\n",
              "    <tr>\n",
              "      <th>3995</th>\n",
              "      <td>SysAdmin / DevOps / SRE</td>\n",
              "    </tr>\n",
              "    <tr>\n",
              "      <th>1484</th>\n",
              "      <td>SysAdmin / DevOps / SRE</td>\n",
              "    </tr>\n",
              "  </tbody>\n",
              "</table>\n",
              "<p>3585 rows × 1 columns</p>\n",
              "</div>"
            ],
            "text/plain": [
              "                   Trabajo de\n",
              "3810                Developer\n",
              "2741                Developer\n",
              "3466         Enseñando inglés\n",
              "1154                       UX\n",
              "2080                 Preventa\n",
              "...                       ...\n",
              "1447               Middleware\n",
              "556                 Consultor\n",
              "299        Manager / Director\n",
              "3995  SysAdmin / DevOps / SRE\n",
              "1484  SysAdmin / DevOps / SRE\n",
              "\n",
              "[3585 rows x 1 columns]"
            ]
          },
          "metadata": {
            "tags": []
          },
          "execution_count": 19
        }
      ]
    },
    {
      "cell_type": "code",
      "metadata": {
        "id": "DDqipKZ45GYZ",
        "outputId": "74097dcd-d3f7-4b11-a878-3f4a83cae512",
        "colab": {
          "base_uri": "https://localhost:8080/",
          "height": 34
        }
      },
      "source": [
        "x_train1.shape"
      ],
      "execution_count": 20,
      "outputs": [
        {
          "output_type": "execute_result",
          "data": {
            "text/plain": [
              "(3585, 366)"
            ]
          },
          "metadata": {
            "tags": []
          },
          "execution_count": 20
        }
      ]
    },
    {
      "cell_type": "code",
      "metadata": {
        "id": "RZm1eBQQChDC"
      },
      "source": [
        "# Carga de libs\n",
        "\n",
        "from keras.models import Sequential\n",
        "from keras.layers import Dense"
      ],
      "execution_count": 21,
      "outputs": []
    },
    {
      "cell_type": "code",
      "metadata": {
        "id": "HBYQMOTvK2a9",
        "outputId": "6b31c108-a0e3-4cf3-f542-9c74cc782c07",
        "colab": {
          "base_uri": "https://localhost:8080/",
          "height": 34
        }
      },
      "source": [
        "_,in_shape=x_train1.shape\n",
        "in_shape"
      ],
      "execution_count": 22,
      "outputs": [
        {
          "output_type": "execute_result",
          "data": {
            "text/plain": [
              "366"
            ]
          },
          "metadata": {
            "tags": []
          },
          "execution_count": 22
        }
      ]
    },
    {
      "cell_type": "code",
      "metadata": {
        "id": "_EHy_uwdCrSO"
      },
      "source": [
        "model1 = Sequential()\n",
        "\n",
        "model1.add(Dense(128, input_dim=in_shape)) # input_dim son las variables de entrada\n",
        "model1.add(Dense(64, activation='relu'))\n",
        "model1.add(Dense(1, activation='linear'))  # linear: sale lo que entra"
      ],
      "execution_count": 23,
      "outputs": []
    },
    {
      "cell_type": "markdown",
      "metadata": {
        "id": "29YZstzQt45A"
      },
      "source": [
        "#### Compilación del modelo:"
      ]
    },
    {
      "cell_type": "code",
      "metadata": {
        "id": "9ODch-OFCaW4"
      },
      "source": [
        "model1.compile(optimizer='adam',\n",
        "              loss='MSE',\n",
        "              metrics='MAE')"
      ],
      "execution_count": 24,
      "outputs": []
    },
    {
      "cell_type": "code",
      "metadata": {
        "id": "N3HQFIfTC1Qe",
        "outputId": "4e339e10-06d7-468d-d994-405dbf78b439",
        "colab": {
          "base_uri": "https://localhost:8080/",
          "height": 255
        }
      },
      "source": [
        "model1.summary()"
      ],
      "execution_count": 25,
      "outputs": [
        {
          "output_type": "stream",
          "text": [
            "Model: \"sequential\"\n",
            "_________________________________________________________________\n",
            "Layer (type)                 Output Shape              Param #   \n",
            "=================================================================\n",
            "dense (Dense)                (None, 128)               46976     \n",
            "_________________________________________________________________\n",
            "dense_1 (Dense)              (None, 64)                8256      \n",
            "_________________________________________________________________\n",
            "dense_2 (Dense)              (None, 1)                 65        \n",
            "=================================================================\n",
            "Total params: 55,297\n",
            "Trainable params: 55,297\n",
            "Non-trainable params: 0\n",
            "_________________________________________________________________\n"
          ],
          "name": "stdout"
        }
      ]
    },
    {
      "cell_type": "markdown",
      "metadata": {
        "id": "729JbhqIrkYR"
      },
      "source": [
        "### x) Fit del modelo! (entrenamiento)"
      ]
    },
    {
      "cell_type": "code",
      "metadata": {
        "id": "WlhBjD5R4zLU",
        "outputId": "45bb5095-5919-42d8-df7b-70b54f837137",
        "colab": {
          "base_uri": "https://localhost:8080/",
          "height": 1000
        }
      },
      "source": [
        "history1 = model1.fit(x_train1, y_train, epochs=40, batch_size=4096, validation_split=0.2)"
      ],
      "execution_count": 26,
      "outputs": [
        {
          "output_type": "stream",
          "text": [
            "Epoch 1/40\n",
            "1/1 [==============================] - 0s 202ms/step - loss: 0.0161 - MAE: 0.0925 - val_loss: 0.0112 - val_MAE: 0.0706\n",
            "Epoch 2/40\n",
            "1/1 [==============================] - 0s 20ms/step - loss: 0.0138 - MAE: 0.0779 - val_loss: 0.0104 - val_MAE: 0.0676\n",
            "Epoch 3/40\n",
            "1/1 [==============================] - 0s 19ms/step - loss: 0.0127 - MAE: 0.0728 - val_loss: 0.0096 - val_MAE: 0.0657\n",
            "Epoch 4/40\n",
            "1/1 [==============================] - 0s 18ms/step - loss: 0.0115 - MAE: 0.0699 - val_loss: 0.0091 - val_MAE: 0.0656\n",
            "Epoch 5/40\n",
            "1/1 [==============================] - 0s 19ms/step - loss: 0.0107 - MAE: 0.0693 - val_loss: 0.0091 - val_MAE: 0.0671\n",
            "Epoch 6/40\n",
            "1/1 [==============================] - 0s 19ms/step - loss: 0.0103 - MAE: 0.0701 - val_loss: 0.0091 - val_MAE: 0.0684\n",
            "Epoch 7/40\n",
            "1/1 [==============================] - 0s 20ms/step - loss: 0.0101 - MAE: 0.0705 - val_loss: 0.0091 - val_MAE: 0.0681\n",
            "Epoch 8/40\n",
            "1/1 [==============================] - 0s 19ms/step - loss: 0.0099 - MAE: 0.0693 - val_loss: 0.0091 - val_MAE: 0.0666\n",
            "Epoch 9/40\n",
            "1/1 [==============================] - 0s 19ms/step - loss: 0.0097 - MAE: 0.0671 - val_loss: 0.0091 - val_MAE: 0.0655\n",
            "Epoch 10/40\n",
            "1/1 [==============================] - 0s 20ms/step - loss: 0.0096 - MAE: 0.0652 - val_loss: 0.0092 - val_MAE: 0.0654\n",
            "Epoch 11/40\n",
            "1/1 [==============================] - 0s 19ms/step - loss: 0.0096 - MAE: 0.0642 - val_loss: 0.0093 - val_MAE: 0.0656\n",
            "Epoch 12/40\n",
            "1/1 [==============================] - 0s 21ms/step - loss: 0.0096 - MAE: 0.0639 - val_loss: 0.0093 - val_MAE: 0.0659\n",
            "Epoch 13/40\n",
            "1/1 [==============================] - 0s 21ms/step - loss: 0.0096 - MAE: 0.0640 - val_loss: 0.0092 - val_MAE: 0.0664\n",
            "Epoch 14/40\n",
            "1/1 [==============================] - 0s 21ms/step - loss: 0.0095 - MAE: 0.0645 - val_loss: 0.0092 - val_MAE: 0.0671\n",
            "Epoch 15/40\n",
            "1/1 [==============================] - 0s 20ms/step - loss: 0.0094 - MAE: 0.0651 - val_loss: 0.0092 - val_MAE: 0.0676\n",
            "Epoch 16/40\n",
            "1/1 [==============================] - 0s 20ms/step - loss: 0.0094 - MAE: 0.0654 - val_loss: 0.0092 - val_MAE: 0.0673\n",
            "Epoch 17/40\n",
            "1/1 [==============================] - 0s 20ms/step - loss: 0.0093 - MAE: 0.0649 - val_loss: 0.0091 - val_MAE: 0.0663\n",
            "Epoch 18/40\n",
            "1/1 [==============================] - 0s 22ms/step - loss: 0.0092 - MAE: 0.0639 - val_loss: 0.0090 - val_MAE: 0.0652\n",
            "Epoch 19/40\n",
            "1/1 [==============================] - 0s 21ms/step - loss: 0.0091 - MAE: 0.0627 - val_loss: 0.0089 - val_MAE: 0.0643\n",
            "Epoch 20/40\n",
            "1/1 [==============================] - 0s 21ms/step - loss: 0.0091 - MAE: 0.0617 - val_loss: 0.0089 - val_MAE: 0.0638\n",
            "Epoch 21/40\n",
            "1/1 [==============================] - 0s 21ms/step - loss: 0.0091 - MAE: 0.0612 - val_loss: 0.0088 - val_MAE: 0.0636\n",
            "Epoch 22/40\n",
            "1/1 [==============================] - 0s 21ms/step - loss: 0.0090 - MAE: 0.0610 - val_loss: 0.0088 - val_MAE: 0.0639\n",
            "Epoch 23/40\n",
            "1/1 [==============================] - 0s 21ms/step - loss: 0.0090 - MAE: 0.0612 - val_loss: 0.0088 - val_MAE: 0.0644\n",
            "Epoch 24/40\n",
            "1/1 [==============================] - 0s 22ms/step - loss: 0.0090 - MAE: 0.0617 - val_loss: 0.0088 - val_MAE: 0.0650\n",
            "Epoch 25/40\n",
            "1/1 [==============================] - 0s 22ms/step - loss: 0.0090 - MAE: 0.0622 - val_loss: 0.0088 - val_MAE: 0.0654\n",
            "Epoch 26/40\n",
            "1/1 [==============================] - 0s 22ms/step - loss: 0.0090 - MAE: 0.0623 - val_loss: 0.0088 - val_MAE: 0.0652\n",
            "Epoch 27/40\n",
            "1/1 [==============================] - 0s 25ms/step - loss: 0.0090 - MAE: 0.0621 - val_loss: 0.0088 - val_MAE: 0.0648\n",
            "Epoch 28/40\n",
            "1/1 [==============================] - 0s 21ms/step - loss: 0.0090 - MAE: 0.0616 - val_loss: 0.0088 - val_MAE: 0.0643\n",
            "Epoch 29/40\n",
            "1/1 [==============================] - 0s 24ms/step - loss: 0.0090 - MAE: 0.0610 - val_loss: 0.0089 - val_MAE: 0.0640\n",
            "Epoch 30/40\n",
            "1/1 [==============================] - 0s 22ms/step - loss: 0.0090 - MAE: 0.0606 - val_loss: 0.0089 - val_MAE: 0.0639\n",
            "Epoch 31/40\n",
            "1/1 [==============================] - 0s 22ms/step - loss: 0.0090 - MAE: 0.0605 - val_loss: 0.0089 - val_MAE: 0.0641\n",
            "Epoch 32/40\n",
            "1/1 [==============================] - 0s 22ms/step - loss: 0.0090 - MAE: 0.0606 - val_loss: 0.0089 - val_MAE: 0.0645\n",
            "Epoch 33/40\n",
            "1/1 [==============================] - 0s 21ms/step - loss: 0.0089 - MAE: 0.0610 - val_loss: 0.0089 - val_MAE: 0.0649\n",
            "Epoch 34/40\n",
            "1/1 [==============================] - 0s 20ms/step - loss: 0.0089 - MAE: 0.0614 - val_loss: 0.0089 - val_MAE: 0.0652\n",
            "Epoch 35/40\n",
            "1/1 [==============================] - 0s 19ms/step - loss: 0.0089 - MAE: 0.0615 - val_loss: 0.0089 - val_MAE: 0.0651\n",
            "Epoch 36/40\n",
            "1/1 [==============================] - 0s 19ms/step - loss: 0.0089 - MAE: 0.0614 - val_loss: 0.0089 - val_MAE: 0.0649\n",
            "Epoch 37/40\n",
            "1/1 [==============================] - 0s 20ms/step - loss: 0.0089 - MAE: 0.0611 - val_loss: 0.0089 - val_MAE: 0.0646\n",
            "Epoch 38/40\n",
            "1/1 [==============================] - 0s 21ms/step - loss: 0.0089 - MAE: 0.0607 - val_loss: 0.0089 - val_MAE: 0.0644\n",
            "Epoch 39/40\n",
            "1/1 [==============================] - 0s 21ms/step - loss: 0.0089 - MAE: 0.0604 - val_loss: 0.0089 - val_MAE: 0.0643\n",
            "Epoch 40/40\n",
            "1/1 [==============================] - 0s 22ms/step - loss: 0.0089 - MAE: 0.0603 - val_loss: 0.0089 - val_MAE: 0.0645\n"
          ],
          "name": "stdout"
        }
      ]
    },
    {
      "cell_type": "code",
      "metadata": {
        "id": "GcF5EgDjCPuS"
      },
      "source": [
        "\n",
        "\n",
        "\n",
        "\n",
        "\n",
        "\n",
        "\n",
        "\n",
        "\n",
        "\n",
        "\n",
        "\n",
        "\n"
      ],
      "execution_count": null,
      "outputs": []
    },
    {
      "cell_type": "code",
      "metadata": {
        "id": "SUO6n8hhcOtD"
      },
      "source": [
        "from plotly.subplots import make_subplots\n",
        "import plotly.graph_objects as go\n",
        "\n",
        "def plot_all(history, metric):\n",
        "  fig1 = go.Figure()\n",
        "  fig1.add_trace(go.Scattergl(y=history.history[metric], name='Train'))\n",
        "  fig1.add_trace(go.Scattergl(y=history.history['val_'+metric], name='Valid'))\n",
        "  fig1.update_layout(height=300, width=400,xaxis_title='Epoch', yaxis_title=metric)\n",
        "\n",
        "  fig2 = go.Figure()\n",
        "  fig2.add_trace(go.Scattergl(y=history.history['loss'], name='Train'))\n",
        "  fig2.add_trace(go.Scattergl(y=history.history['val_loss'], name='Valid'))\n",
        "  fig2.update_layout(height=300, width=400,xaxis_title='Epoch', yaxis_title='Loss')\n",
        "\n",
        "  return [fig1,fig2]"
      ],
      "execution_count": 27,
      "outputs": []
    },
    {
      "cell_type": "code",
      "metadata": {
        "id": "7gk02PE3X97u",
        "outputId": "14729e9b-a5a5-41ce-a343-fbd7201b0d5f",
        "colab": {
          "base_uri": "https://localhost:8080/",
          "height": 617
        }
      },
      "source": [
        "fig1,fig2=plot_all(history1, 'MAE')\n",
        "fig1.show()\n",
        "fig2.show()"
      ],
      "execution_count": 28,
      "outputs": [
        {
          "output_type": "display_data",
          "data": {
            "text/html": [
              "<html>\n",
              "<head><meta charset=\"utf-8\" /></head>\n",
              "<body>\n",
              "    <div>\n",
              "            <script src=\"https://cdnjs.cloudflare.com/ajax/libs/mathjax/2.7.5/MathJax.js?config=TeX-AMS-MML_SVG\"></script><script type=\"text/javascript\">if (window.MathJax) {MathJax.Hub.Config({SVG: {font: \"STIX-Web\"}});}</script>\n",
              "                <script type=\"text/javascript\">window.PlotlyConfig = {MathJaxConfig: 'local'};</script>\n",
              "        <script src=\"https://cdn.plot.ly/plotly-latest.min.js\"></script>    \n",
              "            <div id=\"b6ccc17e-a732-4255-acd9-2c5ce7110887\" class=\"plotly-graph-div\" style=\"height:300px; width:400px;\"></div>\n",
              "            <script type=\"text/javascript\">\n",
              "                \n",
              "                    window.PLOTLYENV=window.PLOTLYENV || {};\n",
              "                    \n",
              "                if (document.getElementById(\"b6ccc17e-a732-4255-acd9-2c5ce7110887\")) {\n",
              "                    Plotly.newPlot(\n",
              "                        'b6ccc17e-a732-4255-acd9-2c5ce7110887',\n",
              "                        [{\"name\": \"Train\", \"type\": \"scattergl\", \"y\": [0.09254781156778336, 0.07785097509622574, 0.07276608049869537, 0.06993134319782257, 0.06926623731851578, 0.07014109939336777, 0.07052668184041977, 0.06928190588951111, 0.06709285825490952, 0.06517110764980316, 0.06417746841907501, 0.06388391554355621, 0.06400087475776672, 0.06448930501937866, 0.06509271264076233, 0.06537213921546936, 0.06494317948818207, 0.06390055269002914, 0.0627271980047226, 0.06174307316541672, 0.06116659939289093, 0.06100114807486534, 0.0612373948097229, 0.0617128387093544, 0.06216735020279884, 0.06232157722115517, 0.062098387628793716, 0.061591409146785736, 0.061005622148513794, 0.060603249818086624, 0.06047941371798515, 0.06063663586974144, 0.06099296733736992, 0.06136621907353401, 0.061542805284261703, 0.06143338605761528, 0.06109017878770828, 0.06068411469459534, 0.060400448739528656, 0.06032721698284149]}, {\"name\": \"Valid\", \"type\": \"scattergl\", \"y\": [0.07059045881032944, 0.06760536134243011, 0.06568187475204468, 0.06555097550153732, 0.0671381950378418, 0.06838829815387726, 0.06805463880300522, 0.06656007468700409, 0.06549393385648727, 0.06537330895662308, 0.06560198217630386, 0.06585235148668289, 0.06639924645423889, 0.06714794784784317, 0.06759034842252731, 0.06727507710456848, 0.06629618257284164, 0.06515389680862427, 0.06426418572664261, 0.06375491619110107, 0.06362761557102203, 0.0639011412858963, 0.06443411856889725, 0.06503818184137344, 0.06535539031028748, 0.06522335112094879, 0.06476246565580368, 0.0642617866396904, 0.06396285444498062, 0.0639222040772438, 0.06411295384168625, 0.06449352949857712, 0.0649205893278122, 0.06518035382032394, 0.06514575332403183, 0.06487754732370377, 0.06455396115779877, 0.06435058265924454, 0.0643344521522522, 0.06450299918651581]}],\n",
              "                        {\"height\": 300, \"template\": {\"data\": {\"bar\": [{\"error_x\": {\"color\": \"#2a3f5f\"}, \"error_y\": {\"color\": \"#2a3f5f\"}, \"marker\": {\"line\": {\"color\": \"#E5ECF6\", \"width\": 0.5}}, \"type\": \"bar\"}], \"barpolar\": [{\"marker\": {\"line\": {\"color\": \"#E5ECF6\", \"width\": 0.5}}, \"type\": \"barpolar\"}], \"carpet\": [{\"aaxis\": {\"endlinecolor\": \"#2a3f5f\", \"gridcolor\": \"white\", \"linecolor\": \"white\", \"minorgridcolor\": \"white\", \"startlinecolor\": \"#2a3f5f\"}, \"baxis\": {\"endlinecolor\": \"#2a3f5f\", \"gridcolor\": \"white\", \"linecolor\": \"white\", \"minorgridcolor\": \"white\", \"startlinecolor\": \"#2a3f5f\"}, \"type\": \"carpet\"}], \"choropleth\": [{\"colorbar\": {\"outlinewidth\": 0, \"ticks\": \"\"}, \"type\": \"choropleth\"}], \"contour\": [{\"colorbar\": {\"outlinewidth\": 0, \"ticks\": \"\"}, \"colorscale\": [[0.0, \"#0d0887\"], [0.1111111111111111, \"#46039f\"], [0.2222222222222222, \"#7201a8\"], [0.3333333333333333, \"#9c179e\"], [0.4444444444444444, \"#bd3786\"], [0.5555555555555556, \"#d8576b\"], [0.6666666666666666, \"#ed7953\"], [0.7777777777777778, \"#fb9f3a\"], [0.8888888888888888, \"#fdca26\"], [1.0, \"#f0f921\"]], \"type\": \"contour\"}], \"contourcarpet\": [{\"colorbar\": {\"outlinewidth\": 0, \"ticks\": \"\"}, \"type\": \"contourcarpet\"}], \"heatmap\": [{\"colorbar\": {\"outlinewidth\": 0, \"ticks\": \"\"}, \"colorscale\": [[0.0, \"#0d0887\"], [0.1111111111111111, \"#46039f\"], [0.2222222222222222, \"#7201a8\"], [0.3333333333333333, \"#9c179e\"], [0.4444444444444444, \"#bd3786\"], [0.5555555555555556, \"#d8576b\"], [0.6666666666666666, \"#ed7953\"], [0.7777777777777778, \"#fb9f3a\"], [0.8888888888888888, \"#fdca26\"], [1.0, \"#f0f921\"]], \"type\": \"heatmap\"}], \"heatmapgl\": [{\"colorbar\": {\"outlinewidth\": 0, \"ticks\": \"\"}, \"colorscale\": [[0.0, \"#0d0887\"], [0.1111111111111111, \"#46039f\"], [0.2222222222222222, \"#7201a8\"], [0.3333333333333333, \"#9c179e\"], [0.4444444444444444, \"#bd3786\"], [0.5555555555555556, \"#d8576b\"], [0.6666666666666666, \"#ed7953\"], [0.7777777777777778, \"#fb9f3a\"], [0.8888888888888888, \"#fdca26\"], [1.0, \"#f0f921\"]], \"type\": \"heatmapgl\"}], \"histogram\": [{\"marker\": {\"colorbar\": {\"outlinewidth\": 0, \"ticks\": \"\"}}, \"type\": \"histogram\"}], \"histogram2d\": [{\"colorbar\": {\"outlinewidth\": 0, \"ticks\": \"\"}, \"colorscale\": [[0.0, \"#0d0887\"], [0.1111111111111111, \"#46039f\"], [0.2222222222222222, \"#7201a8\"], [0.3333333333333333, \"#9c179e\"], [0.4444444444444444, \"#bd3786\"], [0.5555555555555556, \"#d8576b\"], [0.6666666666666666, \"#ed7953\"], [0.7777777777777778, \"#fb9f3a\"], [0.8888888888888888, \"#fdca26\"], [1.0, \"#f0f921\"]], \"type\": \"histogram2d\"}], \"histogram2dcontour\": [{\"colorbar\": {\"outlinewidth\": 0, \"ticks\": \"\"}, \"colorscale\": [[0.0, \"#0d0887\"], [0.1111111111111111, \"#46039f\"], [0.2222222222222222, \"#7201a8\"], [0.3333333333333333, \"#9c179e\"], [0.4444444444444444, \"#bd3786\"], [0.5555555555555556, \"#d8576b\"], [0.6666666666666666, \"#ed7953\"], [0.7777777777777778, \"#fb9f3a\"], [0.8888888888888888, \"#fdca26\"], [1.0, \"#f0f921\"]], \"type\": \"histogram2dcontour\"}], \"mesh3d\": [{\"colorbar\": {\"outlinewidth\": 0, \"ticks\": \"\"}, \"type\": \"mesh3d\"}], \"parcoords\": [{\"line\": {\"colorbar\": {\"outlinewidth\": 0, \"ticks\": \"\"}}, \"type\": \"parcoords\"}], \"pie\": [{\"automargin\": true, \"type\": \"pie\"}], \"scatter\": [{\"marker\": {\"colorbar\": {\"outlinewidth\": 0, \"ticks\": \"\"}}, \"type\": \"scatter\"}], \"scatter3d\": [{\"line\": {\"colorbar\": {\"outlinewidth\": 0, \"ticks\": \"\"}}, \"marker\": {\"colorbar\": {\"outlinewidth\": 0, \"ticks\": \"\"}}, \"type\": \"scatter3d\"}], \"scattercarpet\": [{\"marker\": {\"colorbar\": {\"outlinewidth\": 0, \"ticks\": \"\"}}, \"type\": \"scattercarpet\"}], \"scattergeo\": [{\"marker\": {\"colorbar\": {\"outlinewidth\": 0, \"ticks\": \"\"}}, \"type\": \"scattergeo\"}], \"scattergl\": [{\"marker\": {\"colorbar\": {\"outlinewidth\": 0, \"ticks\": \"\"}}, \"type\": \"scattergl\"}], \"scattermapbox\": [{\"marker\": {\"colorbar\": {\"outlinewidth\": 0, \"ticks\": \"\"}}, \"type\": \"scattermapbox\"}], \"scatterpolar\": [{\"marker\": {\"colorbar\": {\"outlinewidth\": 0, \"ticks\": \"\"}}, \"type\": \"scatterpolar\"}], \"scatterpolargl\": [{\"marker\": {\"colorbar\": {\"outlinewidth\": 0, \"ticks\": \"\"}}, \"type\": \"scatterpolargl\"}], \"scatterternary\": [{\"marker\": {\"colorbar\": {\"outlinewidth\": 0, \"ticks\": \"\"}}, \"type\": \"scatterternary\"}], \"surface\": [{\"colorbar\": {\"outlinewidth\": 0, \"ticks\": \"\"}, \"colorscale\": [[0.0, \"#0d0887\"], [0.1111111111111111, \"#46039f\"], [0.2222222222222222, \"#7201a8\"], [0.3333333333333333, \"#9c179e\"], [0.4444444444444444, \"#bd3786\"], [0.5555555555555556, \"#d8576b\"], [0.6666666666666666, \"#ed7953\"], [0.7777777777777778, \"#fb9f3a\"], [0.8888888888888888, \"#fdca26\"], [1.0, \"#f0f921\"]], \"type\": \"surface\"}], \"table\": [{\"cells\": {\"fill\": {\"color\": \"#EBF0F8\"}, \"line\": {\"color\": \"white\"}}, \"header\": {\"fill\": {\"color\": \"#C8D4E3\"}, \"line\": {\"color\": \"white\"}}, \"type\": \"table\"}]}, \"layout\": {\"annotationdefaults\": {\"arrowcolor\": \"#2a3f5f\", \"arrowhead\": 0, \"arrowwidth\": 1}, \"coloraxis\": {\"colorbar\": {\"outlinewidth\": 0, \"ticks\": \"\"}}, \"colorscale\": {\"diverging\": [[0, \"#8e0152\"], [0.1, \"#c51b7d\"], [0.2, \"#de77ae\"], [0.3, \"#f1b6da\"], [0.4, \"#fde0ef\"], [0.5, \"#f7f7f7\"], [0.6, \"#e6f5d0\"], [0.7, \"#b8e186\"], [0.8, \"#7fbc41\"], [0.9, \"#4d9221\"], [1, \"#276419\"]], \"sequential\": [[0.0, \"#0d0887\"], [0.1111111111111111, \"#46039f\"], [0.2222222222222222, \"#7201a8\"], [0.3333333333333333, \"#9c179e\"], [0.4444444444444444, \"#bd3786\"], [0.5555555555555556, \"#d8576b\"], [0.6666666666666666, \"#ed7953\"], [0.7777777777777778, \"#fb9f3a\"], [0.8888888888888888, \"#fdca26\"], [1.0, \"#f0f921\"]], \"sequentialminus\": [[0.0, \"#0d0887\"], [0.1111111111111111, \"#46039f\"], [0.2222222222222222, \"#7201a8\"], [0.3333333333333333, \"#9c179e\"], [0.4444444444444444, \"#bd3786\"], [0.5555555555555556, \"#d8576b\"], [0.6666666666666666, \"#ed7953\"], [0.7777777777777778, \"#fb9f3a\"], [0.8888888888888888, \"#fdca26\"], [1.0, \"#f0f921\"]]}, \"colorway\": [\"#636efa\", \"#EF553B\", \"#00cc96\", \"#ab63fa\", \"#FFA15A\", \"#19d3f3\", \"#FF6692\", \"#B6E880\", \"#FF97FF\", \"#FECB52\"], \"font\": {\"color\": \"#2a3f5f\"}, \"geo\": {\"bgcolor\": \"white\", \"lakecolor\": \"white\", \"landcolor\": \"#E5ECF6\", \"showlakes\": true, \"showland\": true, \"subunitcolor\": \"white\"}, \"hoverlabel\": {\"align\": \"left\"}, \"hovermode\": \"closest\", \"mapbox\": {\"style\": \"light\"}, \"paper_bgcolor\": \"white\", \"plot_bgcolor\": \"#E5ECF6\", \"polar\": {\"angularaxis\": {\"gridcolor\": \"white\", \"linecolor\": \"white\", \"ticks\": \"\"}, \"bgcolor\": \"#E5ECF6\", \"radialaxis\": {\"gridcolor\": \"white\", \"linecolor\": \"white\", \"ticks\": \"\"}}, \"scene\": {\"xaxis\": {\"backgroundcolor\": \"#E5ECF6\", \"gridcolor\": \"white\", \"gridwidth\": 2, \"linecolor\": \"white\", \"showbackground\": true, \"ticks\": \"\", \"zerolinecolor\": \"white\"}, \"yaxis\": {\"backgroundcolor\": \"#E5ECF6\", \"gridcolor\": \"white\", \"gridwidth\": 2, \"linecolor\": \"white\", \"showbackground\": true, \"ticks\": \"\", \"zerolinecolor\": \"white\"}, \"zaxis\": {\"backgroundcolor\": \"#E5ECF6\", \"gridcolor\": \"white\", \"gridwidth\": 2, \"linecolor\": \"white\", \"showbackground\": true, \"ticks\": \"\", \"zerolinecolor\": \"white\"}}, \"shapedefaults\": {\"line\": {\"color\": \"#2a3f5f\"}}, \"ternary\": {\"aaxis\": {\"gridcolor\": \"white\", \"linecolor\": \"white\", \"ticks\": \"\"}, \"baxis\": {\"gridcolor\": \"white\", \"linecolor\": \"white\", \"ticks\": \"\"}, \"bgcolor\": \"#E5ECF6\", \"caxis\": {\"gridcolor\": \"white\", \"linecolor\": \"white\", \"ticks\": \"\"}}, \"title\": {\"x\": 0.05}, \"xaxis\": {\"automargin\": true, \"gridcolor\": \"white\", \"linecolor\": \"white\", \"ticks\": \"\", \"title\": {\"standoff\": 15}, \"zerolinecolor\": \"white\", \"zerolinewidth\": 2}, \"yaxis\": {\"automargin\": true, \"gridcolor\": \"white\", \"linecolor\": \"white\", \"ticks\": \"\", \"title\": {\"standoff\": 15}, \"zerolinecolor\": \"white\", \"zerolinewidth\": 2}}}, \"width\": 400, \"xaxis\": {\"title\": {\"text\": \"Epoch\"}}, \"yaxis\": {\"title\": {\"text\": \"MAE\"}}},\n",
              "                        {\"responsive\": true}\n",
              "                    ).then(function(){\n",
              "                            \n",
              "var gd = document.getElementById('b6ccc17e-a732-4255-acd9-2c5ce7110887');\n",
              "var x = new MutationObserver(function (mutations, observer) {{\n",
              "        var display = window.getComputedStyle(gd).display;\n",
              "        if (!display || display === 'none') {{\n",
              "            console.log([gd, 'removed!']);\n",
              "            Plotly.purge(gd);\n",
              "            observer.disconnect();\n",
              "        }}\n",
              "}});\n",
              "\n",
              "// Listen for the removal of the full notebook cells\n",
              "var notebookContainer = gd.closest('#notebook-container');\n",
              "if (notebookContainer) {{\n",
              "    x.observe(notebookContainer, {childList: true});\n",
              "}}\n",
              "\n",
              "// Listen for the clearing of the current output cell\n",
              "var outputEl = gd.closest('.output');\n",
              "if (outputEl) {{\n",
              "    x.observe(outputEl, {childList: true});\n",
              "}}\n",
              "\n",
              "                        })\n",
              "                };\n",
              "                \n",
              "            </script>\n",
              "        </div>\n",
              "</body>\n",
              "</html>"
            ]
          },
          "metadata": {
            "tags": []
          }
        },
        {
          "output_type": "display_data",
          "data": {
            "text/html": [
              "<html>\n",
              "<head><meta charset=\"utf-8\" /></head>\n",
              "<body>\n",
              "    <div>\n",
              "            <script src=\"https://cdnjs.cloudflare.com/ajax/libs/mathjax/2.7.5/MathJax.js?config=TeX-AMS-MML_SVG\"></script><script type=\"text/javascript\">if (window.MathJax) {MathJax.Hub.Config({SVG: {font: \"STIX-Web\"}});}</script>\n",
              "                <script type=\"text/javascript\">window.PlotlyConfig = {MathJaxConfig: 'local'};</script>\n",
              "        <script src=\"https://cdn.plot.ly/plotly-latest.min.js\"></script>    \n",
              "            <div id=\"dc859996-993b-4914-b1e0-0c9a22af51da\" class=\"plotly-graph-div\" style=\"height:300px; width:400px;\"></div>\n",
              "            <script type=\"text/javascript\">\n",
              "                \n",
              "                    window.PLOTLYENV=window.PLOTLYENV || {};\n",
              "                    \n",
              "                if (document.getElementById(\"dc859996-993b-4914-b1e0-0c9a22af51da\")) {\n",
              "                    Plotly.newPlot(\n",
              "                        'dc859996-993b-4914-b1e0-0c9a22af51da',\n",
              "                        [{\"name\": \"Train\", \"type\": \"scattergl\", \"y\": [0.016133200377225876, 0.013841267675161362, 0.012662800960242748, 0.011521080508828163, 0.010686938650906086, 0.010287758894264698, 0.010096237063407898, 0.009889240376651287, 0.00970082264393568, 0.009630321525037289, 0.009644686244428158, 0.009632114320993423, 0.009554957039654255, 0.009470104239881039, 0.009421439841389656, 0.00938553549349308, 0.009317900985479355, 0.00922409538179636, 0.00914524681866169, 0.009102513082325459, 0.009074456989765167, 0.009036571718752384, 0.008996033109724522, 0.00897565670311451, 0.008978730998933315, 0.008984942920506, 0.0089792525395751, 0.008969253860414028, 0.008968301117420197, 0.008973836898803711, 0.008972099982202053, 0.00895941723138094, 0.008945973590016365, 0.008939215913414955, 0.008934242650866508, 0.008924336172640324, 0.008912522345781326, 0.008906056173145771, 0.00890494417399168, 0.008903291076421738]}, {\"name\": \"Valid\", \"type\": \"scattergl\", \"y\": [0.011192483827471733, 0.010394091717898846, 0.009618489071726799, 0.009130135178565979, 0.009053507819771767, 0.009130398742854595, 0.009127035737037659, 0.009086496196687222, 0.009123965166509151, 0.00922351237386465, 0.00928423460572958, 0.009272180497646332, 0.009245307184755802, 0.009244273416697979, 0.009235822595655918, 0.009174910373985767, 0.00906905997544527, 0.008969697169959545, 0.008906248956918716, 0.008865459822118282, 0.008826701901853085, 0.008796301670372486, 0.008793532848358154, 0.00881593395024538, 0.008837557397782803, 0.00884133018553257, 0.008836233988404274, 0.00883996021002531, 0.008854297921061516, 0.008868006058037281, 0.00887738075107336, 0.008890188299119473, 0.00890947412699461, 0.008926120586693287, 0.008931192569434643, 0.008928563445806503, 0.008928458206355572, 0.008934185840189457, 0.008941777981817722, 0.008949469774961472]}],\n",
              "                        {\"height\": 300, \"template\": {\"data\": {\"bar\": [{\"error_x\": {\"color\": \"#2a3f5f\"}, \"error_y\": {\"color\": \"#2a3f5f\"}, \"marker\": {\"line\": {\"color\": \"#E5ECF6\", \"width\": 0.5}}, \"type\": \"bar\"}], \"barpolar\": [{\"marker\": {\"line\": {\"color\": \"#E5ECF6\", \"width\": 0.5}}, \"type\": \"barpolar\"}], \"carpet\": [{\"aaxis\": {\"endlinecolor\": \"#2a3f5f\", \"gridcolor\": \"white\", \"linecolor\": \"white\", \"minorgridcolor\": \"white\", \"startlinecolor\": \"#2a3f5f\"}, \"baxis\": {\"endlinecolor\": \"#2a3f5f\", \"gridcolor\": \"white\", \"linecolor\": \"white\", \"minorgridcolor\": \"white\", \"startlinecolor\": \"#2a3f5f\"}, \"type\": \"carpet\"}], \"choropleth\": [{\"colorbar\": {\"outlinewidth\": 0, \"ticks\": \"\"}, \"type\": \"choropleth\"}], \"contour\": [{\"colorbar\": {\"outlinewidth\": 0, \"ticks\": \"\"}, \"colorscale\": [[0.0, \"#0d0887\"], [0.1111111111111111, \"#46039f\"], [0.2222222222222222, \"#7201a8\"], [0.3333333333333333, \"#9c179e\"], [0.4444444444444444, \"#bd3786\"], [0.5555555555555556, \"#d8576b\"], [0.6666666666666666, \"#ed7953\"], [0.7777777777777778, \"#fb9f3a\"], [0.8888888888888888, \"#fdca26\"], [1.0, \"#f0f921\"]], \"type\": \"contour\"}], \"contourcarpet\": [{\"colorbar\": {\"outlinewidth\": 0, \"ticks\": \"\"}, \"type\": \"contourcarpet\"}], \"heatmap\": [{\"colorbar\": {\"outlinewidth\": 0, \"ticks\": \"\"}, \"colorscale\": [[0.0, \"#0d0887\"], [0.1111111111111111, \"#46039f\"], [0.2222222222222222, \"#7201a8\"], [0.3333333333333333, \"#9c179e\"], [0.4444444444444444, \"#bd3786\"], [0.5555555555555556, \"#d8576b\"], [0.6666666666666666, \"#ed7953\"], [0.7777777777777778, \"#fb9f3a\"], [0.8888888888888888, \"#fdca26\"], [1.0, \"#f0f921\"]], \"type\": \"heatmap\"}], \"heatmapgl\": [{\"colorbar\": {\"outlinewidth\": 0, \"ticks\": \"\"}, \"colorscale\": [[0.0, \"#0d0887\"], [0.1111111111111111, \"#46039f\"], [0.2222222222222222, \"#7201a8\"], [0.3333333333333333, \"#9c179e\"], [0.4444444444444444, \"#bd3786\"], [0.5555555555555556, \"#d8576b\"], [0.6666666666666666, \"#ed7953\"], [0.7777777777777778, \"#fb9f3a\"], [0.8888888888888888, \"#fdca26\"], [1.0, \"#f0f921\"]], \"type\": \"heatmapgl\"}], \"histogram\": [{\"marker\": {\"colorbar\": {\"outlinewidth\": 0, \"ticks\": \"\"}}, \"type\": \"histogram\"}], \"histogram2d\": [{\"colorbar\": {\"outlinewidth\": 0, \"ticks\": \"\"}, \"colorscale\": [[0.0, \"#0d0887\"], [0.1111111111111111, \"#46039f\"], [0.2222222222222222, \"#7201a8\"], [0.3333333333333333, \"#9c179e\"], [0.4444444444444444, \"#bd3786\"], [0.5555555555555556, \"#d8576b\"], [0.6666666666666666, \"#ed7953\"], [0.7777777777777778, \"#fb9f3a\"], [0.8888888888888888, \"#fdca26\"], [1.0, \"#f0f921\"]], \"type\": \"histogram2d\"}], \"histogram2dcontour\": [{\"colorbar\": {\"outlinewidth\": 0, \"ticks\": \"\"}, \"colorscale\": [[0.0, \"#0d0887\"], [0.1111111111111111, \"#46039f\"], [0.2222222222222222, \"#7201a8\"], [0.3333333333333333, \"#9c179e\"], [0.4444444444444444, \"#bd3786\"], [0.5555555555555556, \"#d8576b\"], [0.6666666666666666, \"#ed7953\"], [0.7777777777777778, \"#fb9f3a\"], [0.8888888888888888, \"#fdca26\"], [1.0, \"#f0f921\"]], \"type\": \"histogram2dcontour\"}], \"mesh3d\": [{\"colorbar\": {\"outlinewidth\": 0, \"ticks\": \"\"}, \"type\": \"mesh3d\"}], \"parcoords\": [{\"line\": {\"colorbar\": {\"outlinewidth\": 0, \"ticks\": \"\"}}, \"type\": \"parcoords\"}], \"pie\": [{\"automargin\": true, \"type\": \"pie\"}], \"scatter\": [{\"marker\": {\"colorbar\": {\"outlinewidth\": 0, \"ticks\": \"\"}}, \"type\": \"scatter\"}], \"scatter3d\": [{\"line\": {\"colorbar\": {\"outlinewidth\": 0, \"ticks\": \"\"}}, \"marker\": {\"colorbar\": {\"outlinewidth\": 0, \"ticks\": \"\"}}, \"type\": \"scatter3d\"}], \"scattercarpet\": [{\"marker\": {\"colorbar\": {\"outlinewidth\": 0, \"ticks\": \"\"}}, \"type\": \"scattercarpet\"}], \"scattergeo\": [{\"marker\": {\"colorbar\": {\"outlinewidth\": 0, \"ticks\": \"\"}}, \"type\": \"scattergeo\"}], \"scattergl\": [{\"marker\": {\"colorbar\": {\"outlinewidth\": 0, \"ticks\": \"\"}}, \"type\": \"scattergl\"}], \"scattermapbox\": [{\"marker\": {\"colorbar\": {\"outlinewidth\": 0, \"ticks\": \"\"}}, \"type\": \"scattermapbox\"}], \"scatterpolar\": [{\"marker\": {\"colorbar\": {\"outlinewidth\": 0, \"ticks\": \"\"}}, \"type\": \"scatterpolar\"}], \"scatterpolargl\": [{\"marker\": {\"colorbar\": {\"outlinewidth\": 0, \"ticks\": \"\"}}, \"type\": \"scatterpolargl\"}], \"scatterternary\": [{\"marker\": {\"colorbar\": {\"outlinewidth\": 0, \"ticks\": \"\"}}, \"type\": \"scatterternary\"}], \"surface\": [{\"colorbar\": {\"outlinewidth\": 0, \"ticks\": \"\"}, \"colorscale\": [[0.0, \"#0d0887\"], [0.1111111111111111, \"#46039f\"], [0.2222222222222222, \"#7201a8\"], [0.3333333333333333, \"#9c179e\"], [0.4444444444444444, \"#bd3786\"], [0.5555555555555556, \"#d8576b\"], [0.6666666666666666, \"#ed7953\"], [0.7777777777777778, \"#fb9f3a\"], [0.8888888888888888, \"#fdca26\"], [1.0, \"#f0f921\"]], \"type\": \"surface\"}], \"table\": [{\"cells\": {\"fill\": {\"color\": \"#EBF0F8\"}, \"line\": {\"color\": \"white\"}}, \"header\": {\"fill\": {\"color\": \"#C8D4E3\"}, \"line\": {\"color\": \"white\"}}, \"type\": \"table\"}]}, \"layout\": {\"annotationdefaults\": {\"arrowcolor\": \"#2a3f5f\", \"arrowhead\": 0, \"arrowwidth\": 1}, \"coloraxis\": {\"colorbar\": {\"outlinewidth\": 0, \"ticks\": \"\"}}, \"colorscale\": {\"diverging\": [[0, \"#8e0152\"], [0.1, \"#c51b7d\"], [0.2, \"#de77ae\"], [0.3, \"#f1b6da\"], [0.4, \"#fde0ef\"], [0.5, \"#f7f7f7\"], [0.6, \"#e6f5d0\"], [0.7, \"#b8e186\"], [0.8, \"#7fbc41\"], [0.9, \"#4d9221\"], [1, \"#276419\"]], \"sequential\": [[0.0, \"#0d0887\"], [0.1111111111111111, \"#46039f\"], [0.2222222222222222, \"#7201a8\"], [0.3333333333333333, \"#9c179e\"], [0.4444444444444444, \"#bd3786\"], [0.5555555555555556, \"#d8576b\"], [0.6666666666666666, \"#ed7953\"], [0.7777777777777778, \"#fb9f3a\"], [0.8888888888888888, \"#fdca26\"], [1.0, \"#f0f921\"]], \"sequentialminus\": [[0.0, \"#0d0887\"], [0.1111111111111111, \"#46039f\"], [0.2222222222222222, \"#7201a8\"], [0.3333333333333333, \"#9c179e\"], [0.4444444444444444, \"#bd3786\"], [0.5555555555555556, \"#d8576b\"], [0.6666666666666666, \"#ed7953\"], [0.7777777777777778, \"#fb9f3a\"], [0.8888888888888888, \"#fdca26\"], [1.0, \"#f0f921\"]]}, \"colorway\": [\"#636efa\", \"#EF553B\", \"#00cc96\", \"#ab63fa\", \"#FFA15A\", \"#19d3f3\", \"#FF6692\", \"#B6E880\", \"#FF97FF\", \"#FECB52\"], \"font\": {\"color\": \"#2a3f5f\"}, \"geo\": {\"bgcolor\": \"white\", \"lakecolor\": \"white\", \"landcolor\": \"#E5ECF6\", \"showlakes\": true, \"showland\": true, \"subunitcolor\": \"white\"}, \"hoverlabel\": {\"align\": \"left\"}, \"hovermode\": \"closest\", \"mapbox\": {\"style\": \"light\"}, \"paper_bgcolor\": \"white\", \"plot_bgcolor\": \"#E5ECF6\", \"polar\": {\"angularaxis\": {\"gridcolor\": \"white\", \"linecolor\": \"white\", \"ticks\": \"\"}, \"bgcolor\": \"#E5ECF6\", \"radialaxis\": {\"gridcolor\": \"white\", \"linecolor\": \"white\", \"ticks\": \"\"}}, \"scene\": {\"xaxis\": {\"backgroundcolor\": \"#E5ECF6\", \"gridcolor\": \"white\", \"gridwidth\": 2, \"linecolor\": \"white\", \"showbackground\": true, \"ticks\": \"\", \"zerolinecolor\": \"white\"}, \"yaxis\": {\"backgroundcolor\": \"#E5ECF6\", \"gridcolor\": \"white\", \"gridwidth\": 2, \"linecolor\": \"white\", \"showbackground\": true, \"ticks\": \"\", \"zerolinecolor\": \"white\"}, \"zaxis\": {\"backgroundcolor\": \"#E5ECF6\", \"gridcolor\": \"white\", \"gridwidth\": 2, \"linecolor\": \"white\", \"showbackground\": true, \"ticks\": \"\", \"zerolinecolor\": \"white\"}}, \"shapedefaults\": {\"line\": {\"color\": \"#2a3f5f\"}}, \"ternary\": {\"aaxis\": {\"gridcolor\": \"white\", \"linecolor\": \"white\", \"ticks\": \"\"}, \"baxis\": {\"gridcolor\": \"white\", \"linecolor\": \"white\", \"ticks\": \"\"}, \"bgcolor\": \"#E5ECF6\", \"caxis\": {\"gridcolor\": \"white\", \"linecolor\": \"white\", \"ticks\": \"\"}}, \"title\": {\"x\": 0.05}, \"xaxis\": {\"automargin\": true, \"gridcolor\": \"white\", \"linecolor\": \"white\", \"ticks\": \"\", \"title\": {\"standoff\": 15}, \"zerolinecolor\": \"white\", \"zerolinewidth\": 2}, \"yaxis\": {\"automargin\": true, \"gridcolor\": \"white\", \"linecolor\": \"white\", \"ticks\": \"\", \"title\": {\"standoff\": 15}, \"zerolinecolor\": \"white\", \"zerolinewidth\": 2}}}, \"width\": 400, \"xaxis\": {\"title\": {\"text\": \"Epoch\"}}, \"yaxis\": {\"title\": {\"text\": \"Loss\"}}},\n",
              "                        {\"responsive\": true}\n",
              "                    ).then(function(){\n",
              "                            \n",
              "var gd = document.getElementById('dc859996-993b-4914-b1e0-0c9a22af51da');\n",
              "var x = new MutationObserver(function (mutations, observer) {{\n",
              "        var display = window.getComputedStyle(gd).display;\n",
              "        if (!display || display === 'none') {{\n",
              "            console.log([gd, 'removed!']);\n",
              "            Plotly.purge(gd);\n",
              "            observer.disconnect();\n",
              "        }}\n",
              "}});\n",
              "\n",
              "// Listen for the removal of the full notebook cells\n",
              "var notebookContainer = gd.closest('#notebook-container');\n",
              "if (notebookContainer) {{\n",
              "    x.observe(notebookContainer, {childList: true});\n",
              "}}\n",
              "\n",
              "// Listen for the clearing of the current output cell\n",
              "var outputEl = gd.closest('.output');\n",
              "if (outputEl) {{\n",
              "    x.observe(outputEl, {childList: true});\n",
              "}}\n",
              "\n",
              "                        })\n",
              "                };\n",
              "                \n",
              "            </script>\n",
              "        </div>\n",
              "</body>\n",
              "</html>"
            ]
          },
          "metadata": {
            "tags": []
          }
        }
      ]
    },
    {
      "cell_type": "markdown",
      "metadata": {
        "id": "13_7O30P7ptJ"
      },
      "source": [
        "## ¿Podemos hacerlo mejor?"
      ]
    },
    {
      "cell_type": "markdown",
      "metadata": {
        "id": "Q86HAZLy8Kw0"
      },
      "source": [
        "Creo que si."
      ]
    },
    {
      "cell_type": "code",
      "metadata": {
        "id": "zKAAlRHU-Eal",
        "outputId": "cf3bad6d-dc9d-4651-9b68-2b009dfe5d80",
        "colab": {
          "base_uri": "https://localhost:8080/",
          "height": 34
        }
      },
      "source": [
        "# Antes:\n",
        "#x_train1=pd.get_dummies(d_insp2)\n",
        "x_train1.shape"
      ],
      "execution_count": 29,
      "outputs": [
        {
          "output_type": "execute_result",
          "data": {
            "text/plain": [
              "(3585, 366)"
            ]
          },
          "metadata": {
            "tags": []
          },
          "execution_count": 29
        }
      ]
    },
    {
      "cell_type": "code",
      "metadata": {
        "id": "LQlyfdmztkmH",
        "outputId": "1a4dbe69-bf31-419c-ed90-f9ecd94d0de0",
        "colab": {
          "base_uri": "https://localhost:8080/",
          "height": 221
        }
      },
      "source": [
        "data_x[input]"
      ],
      "execution_count": 30,
      "outputs": [
        {
          "output_type": "execute_result",
          "data": {
            "text/plain": [
              "0                         Developer\n",
              "1       Developer, SysAdmin y Redes\n",
              "2                         Developer\n",
              "3                         Developer\n",
              "4                   Product Manager\n",
              "                   ...             \n",
              "4477                      Developer\n",
              "4478                      Developer\n",
              "4479        SysAdmin / DevOps / SRE\n",
              "4480                Project Manager\n",
              "4481             Manager / Director\n",
              "Name: Trabajo de, Length: 4482, dtype: object"
            ]
          },
          "metadata": {
            "tags": []
          },
          "execution_count": 30
        }
      ]
    },
    {
      "cell_type": "code",
      "metadata": {
        "id": "sEza6MUf_CvS",
        "outputId": "2bcf5753-eac6-470a-a407-d8723d7b6e47",
        "colab": {
          "base_uri": "https://localhost:8080/",
          "height": 34
        }
      },
      "source": [
        "# Ahora\n",
        "from sklearn import preprocessing\n",
        "\n",
        "le = preprocessing.LabelEncoder()\n",
        "\n",
        "le.fit_transform(data_x[input]) # ¿esta bien esto?"
      ],
      "execution_count": 31,
      "outputs": [
        {
          "output_type": "execute_result",
          "data": {
            "text/plain": [
              "array([129, 130, 129, ..., 347, 265, 221])"
            ]
          },
          "metadata": {
            "tags": []
          },
          "execution_count": 31
        }
      ]
    },
    {
      "cell_type": "code",
      "metadata": {
        "id": "hn55WMK3td7h"
      },
      "source": [
        "x_train2=le.transform(x_train_base[input]) \n",
        "x_test2=le.transform(x_test_base[input])"
      ],
      "execution_count": 32,
      "outputs": []
    },
    {
      "cell_type": "code",
      "metadata": {
        "id": "aXDXcepmt31y"
      },
      "source": [
        ""
      ],
      "execution_count": null,
      "outputs": []
    },
    {
      "cell_type": "code",
      "metadata": {
        "id": "AepyK7qu33tf",
        "outputId": "ac142700-714b-4d44-a4e4-a4fd2dce32e2",
        "colab": {
          "base_uri": "https://localhost:8080/",
          "height": 34
        }
      },
      "source": [
        "x_train2.shape"
      ],
      "execution_count": 33,
      "outputs": [
        {
          "output_type": "execute_result",
          "data": {
            "text/plain": [
              "(3585,)"
            ]
          },
          "metadata": {
            "tags": []
          },
          "execution_count": 33
        }
      ]
    },
    {
      "cell_type": "code",
      "metadata": {
        "id": "HCdnsG22CKoe",
        "outputId": "410febdc-00cb-4fab-b967-3276d8bcc2aa",
        "colab": {
          "base_uri": "https://localhost:8080/",
          "height": 34
        }
      },
      "source": [
        "x_train2"
      ],
      "execution_count": 34,
      "outputs": [
        {
          "output_type": "execute_result",
          "data": {
            "text/plain": [
              "array([129, 129, 147, ..., 221, 347, 347])"
            ]
          },
          "metadata": {
            "tags": []
          },
          "execution_count": 34
        }
      ]
    },
    {
      "cell_type": "code",
      "metadata": {
        "id": "5ZyInmJ5A97w",
        "outputId": "c0911c99-3512-438d-88e1-0777b508c969",
        "colab": {
          "base_uri": "https://localhost:8080/",
          "height": 34
        }
      },
      "source": [
        "in_dim=x_train2.max()+1\n",
        "in_dim"
      ],
      "execution_count": 35,
      "outputs": [
        {
          "output_type": "execute_result",
          "data": {
            "text/plain": [
              "443"
            ]
          },
          "metadata": {
            "tags": []
          },
          "execution_count": 35
        }
      ]
    },
    {
      "cell_type": "code",
      "metadata": {
        "id": "nlCN_pBO8hu8"
      },
      "source": [
        "from keras.layers import Embedding, Flatten, Dropout"
      ],
      "execution_count": 36,
      "outputs": []
    },
    {
      "cell_type": "code",
      "metadata": {
        "id": "fAiWGRQj5lZZ"
      },
      "source": [
        "model2 = Sequential()\n",
        "\n",
        "model2.add(Embedding(input_dim=in_dim, output_dim=4, input_length=1))\n",
        "model2.add(Flatten())\n",
        "#model2.add(Dense(4, activation='relu'))\n",
        "model2.add(Dense(1))  # linear: sale lo que entra"
      ],
      "execution_count": 37,
      "outputs": []
    },
    {
      "cell_type": "code",
      "metadata": {
        "id": "VjfxJT4E8Gil",
        "outputId": "554a0fb7-e309-4ae4-abc1-c843d921426c",
        "colab": {
          "base_uri": "https://localhost:8080/",
          "height": 255
        }
      },
      "source": [
        "model2.summary()"
      ],
      "execution_count": 38,
      "outputs": [
        {
          "output_type": "stream",
          "text": [
            "Model: \"sequential_1\"\n",
            "_________________________________________________________________\n",
            "Layer (type)                 Output Shape              Param #   \n",
            "=================================================================\n",
            "embedding (Embedding)        (None, 1, 4)              1772      \n",
            "_________________________________________________________________\n",
            "flatten (Flatten)            (None, 4)                 0         \n",
            "_________________________________________________________________\n",
            "dense_3 (Dense)              (None, 1)                 5         \n",
            "=================================================================\n",
            "Total params: 1,777\n",
            "Trainable params: 1,777\n",
            "Non-trainable params: 0\n",
            "_________________________________________________________________\n"
          ],
          "name": "stdout"
        }
      ]
    },
    {
      "cell_type": "code",
      "metadata": {
        "id": "a7gmr93c-gC6"
      },
      "source": [
        "model2.compile(optimizer=keras.optimizers.Adam(lr=0.1),  # default lr=0.01 \n",
        "              loss='MSE',\n",
        "              metrics='MAE')"
      ],
      "execution_count": 39,
      "outputs": []
    },
    {
      "cell_type": "code",
      "metadata": {
        "id": "c_yQ1xWT7J1W",
        "outputId": "7450b524-f9b0-4b76-dcb7-6ca46a6c79db",
        "colab": {
          "base_uri": "https://localhost:8080/",
          "height": 1000
        }
      },
      "source": [
        "history2 = model2.fit(x_train2, y_train, epochs=40, batch_size=2048, validation_split=0.2)"
      ],
      "execution_count": 40,
      "outputs": [
        {
          "output_type": "stream",
          "text": [
            "Epoch 1/40\n",
            "2/2 [==============================] - 0s 51ms/step - loss: 0.0284 - MAE: 0.1189 - val_loss: 0.0157 - val_MAE: 0.1016\n",
            "Epoch 2/40\n",
            "2/2 [==============================] - 0s 10ms/step - loss: 0.0184 - MAE: 0.1081 - val_loss: 0.0234 - val_MAE: 0.1225\n",
            "Epoch 3/40\n",
            "2/2 [==============================] - 0s 9ms/step - loss: 0.0245 - MAE: 0.1221 - val_loss: 0.0110 - val_MAE: 0.0751\n",
            "Epoch 4/40\n",
            "2/2 [==============================] - 0s 9ms/step - loss: 0.0137 - MAE: 0.0865 - val_loss: 0.0157 - val_MAE: 0.1052\n",
            "Epoch 5/40\n",
            "2/2 [==============================] - 0s 8ms/step - loss: 0.0178 - MAE: 0.1135 - val_loss: 0.0117 - val_MAE: 0.0837\n",
            "Epoch 6/40\n",
            "2/2 [==============================] - 0s 9ms/step - loss: 0.0124 - MAE: 0.0858 - val_loss: 0.0112 - val_MAE: 0.0717\n",
            "Epoch 7/40\n",
            "2/2 [==============================] - 0s 9ms/step - loss: 0.0124 - MAE: 0.0740 - val_loss: 0.0114 - val_MAE: 0.0735\n",
            "Epoch 8/40\n",
            "2/2 [==============================] - 0s 12ms/step - loss: 0.0121 - MAE: 0.0718 - val_loss: 0.0089 - val_MAE: 0.0639\n",
            "Epoch 9/40\n",
            "2/2 [==============================] - 0s 8ms/step - loss: 0.0098 - MAE: 0.0650 - val_loss: 0.0096 - val_MAE: 0.0746\n",
            "Epoch 10/40\n",
            "2/2 [==============================] - 0s 9ms/step - loss: 0.0107 - MAE: 0.0779 - val_loss: 0.0101 - val_MAE: 0.0782\n",
            "Epoch 11/40\n",
            "2/2 [==============================] - 0s 9ms/step - loss: 0.0108 - MAE: 0.0790 - val_loss: 0.0087 - val_MAE: 0.0666\n",
            "Epoch 12/40\n",
            "2/2 [==============================] - 0s 11ms/step - loss: 0.0098 - MAE: 0.0674 - val_loss: 0.0088 - val_MAE: 0.0620\n",
            "Epoch 13/40\n",
            "2/2 [==============================] - 0s 11ms/step - loss: 0.0101 - MAE: 0.0627 - val_loss: 0.0089 - val_MAE: 0.0623\n",
            "Epoch 14/40\n",
            "2/2 [==============================] - 0s 9ms/step - loss: 0.0099 - MAE: 0.0619 - val_loss: 0.0085 - val_MAE: 0.0623\n",
            "Epoch 15/40\n",
            "2/2 [==============================] - 0s 11ms/step - loss: 0.0092 - MAE: 0.0626 - val_loss: 0.0090 - val_MAE: 0.0683\n",
            "Epoch 16/40\n",
            "2/2 [==============================] - 0s 10ms/step - loss: 0.0095 - MAE: 0.0682 - val_loss: 0.0092 - val_MAE: 0.0695\n",
            "Epoch 17/40\n",
            "2/2 [==============================] - 0s 9ms/step - loss: 0.0094 - MAE: 0.0679 - val_loss: 0.0086 - val_MAE: 0.0638\n",
            "Epoch 18/40\n",
            "2/2 [==============================] - 0s 9ms/step - loss: 0.0090 - MAE: 0.0620 - val_loss: 0.0085 - val_MAE: 0.0608\n",
            "Epoch 19/40\n",
            "2/2 [==============================] - 0s 8ms/step - loss: 0.0091 - MAE: 0.0597 - val_loss: 0.0084 - val_MAE: 0.0606\n",
            "Epoch 20/40\n",
            "2/2 [==============================] - 0s 8ms/step - loss: 0.0091 - MAE: 0.0598 - val_loss: 0.0084 - val_MAE: 0.0625\n",
            "Epoch 21/40\n",
            "2/2 [==============================] - 0s 9ms/step - loss: 0.0090 - MAE: 0.0618 - val_loss: 0.0087 - val_MAE: 0.0660\n",
            "Epoch 22/40\n",
            "2/2 [==============================] - 0s 9ms/step - loss: 0.0091 - MAE: 0.0644 - val_loss: 0.0087 - val_MAE: 0.0653\n",
            "Epoch 23/40\n",
            "2/2 [==============================] - 0s 9ms/step - loss: 0.0090 - MAE: 0.0629 - val_loss: 0.0084 - val_MAE: 0.0622\n",
            "Epoch 24/40\n",
            "2/2 [==============================] - 0s 9ms/step - loss: 0.0089 - MAE: 0.0600 - val_loss: 0.0084 - val_MAE: 0.0609\n",
            "Epoch 25/40\n",
            "2/2 [==============================] - 0s 10ms/step - loss: 0.0090 - MAE: 0.0594 - val_loss: 0.0084 - val_MAE: 0.0614\n",
            "Epoch 26/40\n",
            "2/2 [==============================] - 0s 8ms/step - loss: 0.0089 - MAE: 0.0597 - val_loss: 0.0084 - val_MAE: 0.0633\n",
            "Epoch 27/40\n",
            "2/2 [==============================] - 0s 8ms/step - loss: 0.0089 - MAE: 0.0617 - val_loss: 0.0085 - val_MAE: 0.0644\n",
            "Epoch 28/40\n",
            "2/2 [==============================] - 0s 9ms/step - loss: 0.0089 - MAE: 0.0626 - val_loss: 0.0084 - val_MAE: 0.0629\n",
            "Epoch 29/40\n",
            "2/2 [==============================] - 0s 8ms/step - loss: 0.0089 - MAE: 0.0610 - val_loss: 0.0083 - val_MAE: 0.0614\n",
            "Epoch 30/40\n",
            "2/2 [==============================] - 0s 8ms/step - loss: 0.0089 - MAE: 0.0596 - val_loss: 0.0084 - val_MAE: 0.0613\n",
            "Epoch 31/40\n",
            "2/2 [==============================] - 0s 9ms/step - loss: 0.0089 - MAE: 0.0596 - val_loss: 0.0084 - val_MAE: 0.0629\n",
            "Epoch 32/40\n",
            "2/2 [==============================] - 0s 10ms/step - loss: 0.0089 - MAE: 0.0612 - val_loss: 0.0085 - val_MAE: 0.0643\n",
            "Epoch 33/40\n",
            "2/2 [==============================] - 0s 10ms/step - loss: 0.0089 - MAE: 0.0624 - val_loss: 0.0084 - val_MAE: 0.0632\n",
            "Epoch 34/40\n",
            "2/2 [==============================] - 0s 9ms/step - loss: 0.0089 - MAE: 0.0609 - val_loss: 0.0084 - val_MAE: 0.0615\n",
            "Epoch 35/40\n",
            "2/2 [==============================] - 0s 9ms/step - loss: 0.0089 - MAE: 0.0597 - val_loss: 0.0084 - val_MAE: 0.0613\n",
            "Epoch 36/40\n",
            "2/2 [==============================] - 0s 11ms/step - loss: 0.0089 - MAE: 0.0596 - val_loss: 0.0084 - val_MAE: 0.0624\n",
            "Epoch 37/40\n",
            "2/2 [==============================] - 0s 9ms/step - loss: 0.0089 - MAE: 0.0605 - val_loss: 0.0084 - val_MAE: 0.0637\n",
            "Epoch 38/40\n",
            "2/2 [==============================] - 0s 9ms/step - loss: 0.0089 - MAE: 0.0617 - val_loss: 0.0084 - val_MAE: 0.0631\n",
            "Epoch 39/40\n",
            "2/2 [==============================] - 0s 9ms/step - loss: 0.0089 - MAE: 0.0608 - val_loss: 0.0083 - val_MAE: 0.0618\n",
            "Epoch 40/40\n",
            "2/2 [==============================] - 0s 9ms/step - loss: 0.0089 - MAE: 0.0597 - val_loss: 0.0083 - val_MAE: 0.0614\n"
          ],
          "name": "stdout"
        }
      ]
    },
    {
      "cell_type": "code",
      "metadata": {
        "id": "hcbnuxkS7QEF",
        "outputId": "6a9dcc8f-cc0b-4e6b-a0bb-7f9a16d0ca9e",
        "colab": {
          "base_uri": "https://localhost:8080/",
          "height": 617
        }
      },
      "source": [
        "fig1,fig2=plot_all(history2, 'MAE')\n",
        "fig1.show()\n",
        "fig2.show()"
      ],
      "execution_count": 41,
      "outputs": [
        {
          "output_type": "display_data",
          "data": {
            "text/html": [
              "<html>\n",
              "<head><meta charset=\"utf-8\" /></head>\n",
              "<body>\n",
              "    <div>\n",
              "            <script src=\"https://cdnjs.cloudflare.com/ajax/libs/mathjax/2.7.5/MathJax.js?config=TeX-AMS-MML_SVG\"></script><script type=\"text/javascript\">if (window.MathJax) {MathJax.Hub.Config({SVG: {font: \"STIX-Web\"}});}</script>\n",
              "                <script type=\"text/javascript\">window.PlotlyConfig = {MathJaxConfig: 'local'};</script>\n",
              "        <script src=\"https://cdn.plot.ly/plotly-latest.min.js\"></script>    \n",
              "            <div id=\"a563bd73-a761-4ad3-a0a9-ff5cf9b35ea9\" class=\"plotly-graph-div\" style=\"height:300px; width:400px;\"></div>\n",
              "            <script type=\"text/javascript\">\n",
              "                \n",
              "                    window.PLOTLYENV=window.PLOTLYENV || {};\n",
              "                    \n",
              "                if (document.getElementById(\"a563bd73-a761-4ad3-a0a9-ff5cf9b35ea9\")) {\n",
              "                    Plotly.newPlot(\n",
              "                        'a563bd73-a761-4ad3-a0a9-ff5cf9b35ea9',\n",
              "                        [{\"name\": \"Train\", \"type\": \"scattergl\", \"y\": [0.11886763572692871, 0.1080613061785698, 0.12205579876899719, 0.08645393699407578, 0.11351706832647324, 0.08576349914073944, 0.07403068244457245, 0.07177554070949554, 0.06502875685691833, 0.0778508335351944, 0.07900475710630417, 0.0673571228981018, 0.06271510571241379, 0.06186547130346298, 0.06258031725883484, 0.06820403039455414, 0.06785993278026581, 0.062027402222156525, 0.059652745723724365, 0.0597916804254055, 0.06175994873046875, 0.06439077109098434, 0.06285841017961502, 0.059970345348119736, 0.059353865683078766, 0.059716902673244476, 0.06165196746587753, 0.0626339316368103, 0.060998301953077316, 0.059552110731601715, 0.05964009836316109, 0.061217330396175385, 0.062443073838949203, 0.06093699112534523, 0.05966760590672493, 0.059578634798526764, 0.06054249033331871, 0.061694201081991196, 0.060836248099803925, 0.05969793349504471]}, {\"name\": \"Valid\", \"type\": \"scattergl\", \"y\": [0.10159947723150253, 0.12245503067970276, 0.0750611200928688, 0.10516420006752014, 0.08370444923639297, 0.07174895703792572, 0.07349257171154022, 0.0638919472694397, 0.07456529885530472, 0.07822899520397186, 0.0665866807103157, 0.062024880200624466, 0.06231528893113136, 0.0623079314827919, 0.06834860146045685, 0.06945904344320297, 0.06375080347061157, 0.06078800559043884, 0.060565561056137085, 0.06254705041646957, 0.06595685333013535, 0.06532780081033707, 0.06222854554653168, 0.0609363429248333, 0.06135625019669533, 0.0632566586136818, 0.0643560141324997, 0.06292381137609482, 0.06136097013950348, 0.06130758672952652, 0.06286977231502533, 0.06433968245983124, 0.06319957226514816, 0.06149343028664589, 0.06131383776664734, 0.06236852705478668, 0.0636935904622078, 0.06311381608247757, 0.061823826283216476, 0.061426885426044464]}],\n",
              "                        {\"height\": 300, \"template\": {\"data\": {\"bar\": [{\"error_x\": {\"color\": \"#2a3f5f\"}, \"error_y\": {\"color\": \"#2a3f5f\"}, \"marker\": {\"line\": {\"color\": \"#E5ECF6\", \"width\": 0.5}}, \"type\": \"bar\"}], \"barpolar\": [{\"marker\": {\"line\": {\"color\": \"#E5ECF6\", \"width\": 0.5}}, \"type\": \"barpolar\"}], \"carpet\": [{\"aaxis\": {\"endlinecolor\": \"#2a3f5f\", \"gridcolor\": \"white\", \"linecolor\": \"white\", \"minorgridcolor\": \"white\", \"startlinecolor\": \"#2a3f5f\"}, \"baxis\": {\"endlinecolor\": \"#2a3f5f\", \"gridcolor\": \"white\", \"linecolor\": \"white\", \"minorgridcolor\": \"white\", \"startlinecolor\": \"#2a3f5f\"}, \"type\": \"carpet\"}], \"choropleth\": [{\"colorbar\": {\"outlinewidth\": 0, \"ticks\": \"\"}, \"type\": \"choropleth\"}], \"contour\": [{\"colorbar\": {\"outlinewidth\": 0, \"ticks\": \"\"}, \"colorscale\": [[0.0, \"#0d0887\"], [0.1111111111111111, \"#46039f\"], [0.2222222222222222, \"#7201a8\"], [0.3333333333333333, \"#9c179e\"], [0.4444444444444444, \"#bd3786\"], [0.5555555555555556, \"#d8576b\"], [0.6666666666666666, \"#ed7953\"], [0.7777777777777778, \"#fb9f3a\"], [0.8888888888888888, \"#fdca26\"], [1.0, \"#f0f921\"]], \"type\": \"contour\"}], \"contourcarpet\": [{\"colorbar\": {\"outlinewidth\": 0, \"ticks\": \"\"}, \"type\": \"contourcarpet\"}], \"heatmap\": [{\"colorbar\": {\"outlinewidth\": 0, \"ticks\": \"\"}, \"colorscale\": [[0.0, \"#0d0887\"], [0.1111111111111111, \"#46039f\"], [0.2222222222222222, \"#7201a8\"], [0.3333333333333333, \"#9c179e\"], [0.4444444444444444, \"#bd3786\"], [0.5555555555555556, \"#d8576b\"], [0.6666666666666666, \"#ed7953\"], [0.7777777777777778, \"#fb9f3a\"], [0.8888888888888888, \"#fdca26\"], [1.0, \"#f0f921\"]], \"type\": \"heatmap\"}], \"heatmapgl\": [{\"colorbar\": {\"outlinewidth\": 0, \"ticks\": \"\"}, \"colorscale\": [[0.0, \"#0d0887\"], [0.1111111111111111, \"#46039f\"], [0.2222222222222222, \"#7201a8\"], [0.3333333333333333, \"#9c179e\"], [0.4444444444444444, \"#bd3786\"], [0.5555555555555556, \"#d8576b\"], [0.6666666666666666, \"#ed7953\"], [0.7777777777777778, \"#fb9f3a\"], [0.8888888888888888, \"#fdca26\"], [1.0, \"#f0f921\"]], \"type\": \"heatmapgl\"}], \"histogram\": [{\"marker\": {\"colorbar\": {\"outlinewidth\": 0, \"ticks\": \"\"}}, \"type\": \"histogram\"}], \"histogram2d\": [{\"colorbar\": {\"outlinewidth\": 0, \"ticks\": \"\"}, \"colorscale\": [[0.0, \"#0d0887\"], [0.1111111111111111, \"#46039f\"], [0.2222222222222222, \"#7201a8\"], [0.3333333333333333, \"#9c179e\"], [0.4444444444444444, \"#bd3786\"], [0.5555555555555556, \"#d8576b\"], [0.6666666666666666, \"#ed7953\"], [0.7777777777777778, \"#fb9f3a\"], [0.8888888888888888, \"#fdca26\"], [1.0, \"#f0f921\"]], \"type\": \"histogram2d\"}], \"histogram2dcontour\": [{\"colorbar\": {\"outlinewidth\": 0, \"ticks\": \"\"}, \"colorscale\": [[0.0, \"#0d0887\"], [0.1111111111111111, \"#46039f\"], [0.2222222222222222, \"#7201a8\"], [0.3333333333333333, \"#9c179e\"], [0.4444444444444444, \"#bd3786\"], [0.5555555555555556, \"#d8576b\"], [0.6666666666666666, \"#ed7953\"], [0.7777777777777778, \"#fb9f3a\"], [0.8888888888888888, \"#fdca26\"], [1.0, \"#f0f921\"]], \"type\": \"histogram2dcontour\"}], \"mesh3d\": [{\"colorbar\": {\"outlinewidth\": 0, \"ticks\": \"\"}, \"type\": \"mesh3d\"}], \"parcoords\": [{\"line\": {\"colorbar\": {\"outlinewidth\": 0, \"ticks\": \"\"}}, \"type\": \"parcoords\"}], \"pie\": [{\"automargin\": true, \"type\": \"pie\"}], \"scatter\": [{\"marker\": {\"colorbar\": {\"outlinewidth\": 0, \"ticks\": \"\"}}, \"type\": \"scatter\"}], \"scatter3d\": [{\"line\": {\"colorbar\": {\"outlinewidth\": 0, \"ticks\": \"\"}}, \"marker\": {\"colorbar\": {\"outlinewidth\": 0, \"ticks\": \"\"}}, \"type\": \"scatter3d\"}], \"scattercarpet\": [{\"marker\": {\"colorbar\": {\"outlinewidth\": 0, \"ticks\": \"\"}}, \"type\": \"scattercarpet\"}], \"scattergeo\": [{\"marker\": {\"colorbar\": {\"outlinewidth\": 0, \"ticks\": \"\"}}, \"type\": \"scattergeo\"}], \"scattergl\": [{\"marker\": {\"colorbar\": {\"outlinewidth\": 0, \"ticks\": \"\"}}, \"type\": \"scattergl\"}], \"scattermapbox\": [{\"marker\": {\"colorbar\": {\"outlinewidth\": 0, \"ticks\": \"\"}}, \"type\": \"scattermapbox\"}], \"scatterpolar\": [{\"marker\": {\"colorbar\": {\"outlinewidth\": 0, \"ticks\": \"\"}}, \"type\": \"scatterpolar\"}], \"scatterpolargl\": [{\"marker\": {\"colorbar\": {\"outlinewidth\": 0, \"ticks\": \"\"}}, \"type\": \"scatterpolargl\"}], \"scatterternary\": [{\"marker\": {\"colorbar\": {\"outlinewidth\": 0, \"ticks\": \"\"}}, \"type\": \"scatterternary\"}], \"surface\": [{\"colorbar\": {\"outlinewidth\": 0, \"ticks\": \"\"}, \"colorscale\": [[0.0, \"#0d0887\"], [0.1111111111111111, \"#46039f\"], [0.2222222222222222, \"#7201a8\"], [0.3333333333333333, \"#9c179e\"], [0.4444444444444444, \"#bd3786\"], [0.5555555555555556, \"#d8576b\"], [0.6666666666666666, \"#ed7953\"], [0.7777777777777778, \"#fb9f3a\"], [0.8888888888888888, \"#fdca26\"], [1.0, \"#f0f921\"]], \"type\": \"surface\"}], \"table\": [{\"cells\": {\"fill\": {\"color\": \"#EBF0F8\"}, \"line\": {\"color\": \"white\"}}, \"header\": {\"fill\": {\"color\": \"#C8D4E3\"}, \"line\": {\"color\": \"white\"}}, \"type\": \"table\"}]}, \"layout\": {\"annotationdefaults\": {\"arrowcolor\": \"#2a3f5f\", \"arrowhead\": 0, \"arrowwidth\": 1}, \"coloraxis\": {\"colorbar\": {\"outlinewidth\": 0, \"ticks\": \"\"}}, \"colorscale\": {\"diverging\": [[0, \"#8e0152\"], [0.1, \"#c51b7d\"], [0.2, \"#de77ae\"], [0.3, \"#f1b6da\"], [0.4, \"#fde0ef\"], [0.5, \"#f7f7f7\"], [0.6, \"#e6f5d0\"], [0.7, \"#b8e186\"], [0.8, \"#7fbc41\"], [0.9, \"#4d9221\"], [1, \"#276419\"]], \"sequential\": [[0.0, \"#0d0887\"], [0.1111111111111111, \"#46039f\"], [0.2222222222222222, \"#7201a8\"], [0.3333333333333333, \"#9c179e\"], [0.4444444444444444, \"#bd3786\"], [0.5555555555555556, \"#d8576b\"], [0.6666666666666666, \"#ed7953\"], [0.7777777777777778, \"#fb9f3a\"], [0.8888888888888888, \"#fdca26\"], [1.0, \"#f0f921\"]], \"sequentialminus\": [[0.0, \"#0d0887\"], [0.1111111111111111, \"#46039f\"], [0.2222222222222222, \"#7201a8\"], [0.3333333333333333, \"#9c179e\"], [0.4444444444444444, \"#bd3786\"], [0.5555555555555556, \"#d8576b\"], [0.6666666666666666, \"#ed7953\"], [0.7777777777777778, \"#fb9f3a\"], [0.8888888888888888, \"#fdca26\"], [1.0, \"#f0f921\"]]}, \"colorway\": [\"#636efa\", \"#EF553B\", \"#00cc96\", \"#ab63fa\", \"#FFA15A\", \"#19d3f3\", \"#FF6692\", \"#B6E880\", \"#FF97FF\", \"#FECB52\"], \"font\": {\"color\": \"#2a3f5f\"}, \"geo\": {\"bgcolor\": \"white\", \"lakecolor\": \"white\", \"landcolor\": \"#E5ECF6\", \"showlakes\": true, \"showland\": true, \"subunitcolor\": \"white\"}, \"hoverlabel\": {\"align\": \"left\"}, \"hovermode\": \"closest\", \"mapbox\": {\"style\": \"light\"}, \"paper_bgcolor\": \"white\", \"plot_bgcolor\": \"#E5ECF6\", \"polar\": {\"angularaxis\": {\"gridcolor\": \"white\", \"linecolor\": \"white\", \"ticks\": \"\"}, \"bgcolor\": \"#E5ECF6\", \"radialaxis\": {\"gridcolor\": \"white\", \"linecolor\": \"white\", \"ticks\": \"\"}}, \"scene\": {\"xaxis\": {\"backgroundcolor\": \"#E5ECF6\", \"gridcolor\": \"white\", \"gridwidth\": 2, \"linecolor\": \"white\", \"showbackground\": true, \"ticks\": \"\", \"zerolinecolor\": \"white\"}, \"yaxis\": {\"backgroundcolor\": \"#E5ECF6\", \"gridcolor\": \"white\", \"gridwidth\": 2, \"linecolor\": \"white\", \"showbackground\": true, \"ticks\": \"\", \"zerolinecolor\": \"white\"}, \"zaxis\": {\"backgroundcolor\": \"#E5ECF6\", \"gridcolor\": \"white\", \"gridwidth\": 2, \"linecolor\": \"white\", \"showbackground\": true, \"ticks\": \"\", \"zerolinecolor\": \"white\"}}, \"shapedefaults\": {\"line\": {\"color\": \"#2a3f5f\"}}, \"ternary\": {\"aaxis\": {\"gridcolor\": \"white\", \"linecolor\": \"white\", \"ticks\": \"\"}, \"baxis\": {\"gridcolor\": \"white\", \"linecolor\": \"white\", \"ticks\": \"\"}, \"bgcolor\": \"#E5ECF6\", \"caxis\": {\"gridcolor\": \"white\", \"linecolor\": \"white\", \"ticks\": \"\"}}, \"title\": {\"x\": 0.05}, \"xaxis\": {\"automargin\": true, \"gridcolor\": \"white\", \"linecolor\": \"white\", \"ticks\": \"\", \"title\": {\"standoff\": 15}, \"zerolinecolor\": \"white\", \"zerolinewidth\": 2}, \"yaxis\": {\"automargin\": true, \"gridcolor\": \"white\", \"linecolor\": \"white\", \"ticks\": \"\", \"title\": {\"standoff\": 15}, \"zerolinecolor\": \"white\", \"zerolinewidth\": 2}}}, \"width\": 400, \"xaxis\": {\"title\": {\"text\": \"Epoch\"}}, \"yaxis\": {\"title\": {\"text\": \"MAE\"}}},\n",
              "                        {\"responsive\": true}\n",
              "                    ).then(function(){\n",
              "                            \n",
              "var gd = document.getElementById('a563bd73-a761-4ad3-a0a9-ff5cf9b35ea9');\n",
              "var x = new MutationObserver(function (mutations, observer) {{\n",
              "        var display = window.getComputedStyle(gd).display;\n",
              "        if (!display || display === 'none') {{\n",
              "            console.log([gd, 'removed!']);\n",
              "            Plotly.purge(gd);\n",
              "            observer.disconnect();\n",
              "        }}\n",
              "}});\n",
              "\n",
              "// Listen for the removal of the full notebook cells\n",
              "var notebookContainer = gd.closest('#notebook-container');\n",
              "if (notebookContainer) {{\n",
              "    x.observe(notebookContainer, {childList: true});\n",
              "}}\n",
              "\n",
              "// Listen for the clearing of the current output cell\n",
              "var outputEl = gd.closest('.output');\n",
              "if (outputEl) {{\n",
              "    x.observe(outputEl, {childList: true});\n",
              "}}\n",
              "\n",
              "                        })\n",
              "                };\n",
              "                \n",
              "            </script>\n",
              "        </div>\n",
              "</body>\n",
              "</html>"
            ]
          },
          "metadata": {
            "tags": []
          }
        },
        {
          "output_type": "display_data",
          "data": {
            "text/html": [
              "<html>\n",
              "<head><meta charset=\"utf-8\" /></head>\n",
              "<body>\n",
              "    <div>\n",
              "            <script src=\"https://cdnjs.cloudflare.com/ajax/libs/mathjax/2.7.5/MathJax.js?config=TeX-AMS-MML_SVG\"></script><script type=\"text/javascript\">if (window.MathJax) {MathJax.Hub.Config({SVG: {font: \"STIX-Web\"}});}</script>\n",
              "                <script type=\"text/javascript\">window.PlotlyConfig = {MathJaxConfig: 'local'};</script>\n",
              "        <script src=\"https://cdn.plot.ly/plotly-latest.min.js\"></script>    \n",
              "            <div id=\"902a7290-8cae-41d2-b121-1d5759ea44ed\" class=\"plotly-graph-div\" style=\"height:300px; width:400px;\"></div>\n",
              "            <script type=\"text/javascript\">\n",
              "                \n",
              "                    window.PLOTLYENV=window.PLOTLYENV || {};\n",
              "                    \n",
              "                if (document.getElementById(\"902a7290-8cae-41d2-b121-1d5759ea44ed\")) {\n",
              "                    Plotly.newPlot(\n",
              "                        '902a7290-8cae-41d2-b121-1d5759ea44ed',\n",
              "                        [{\"name\": \"Train\", \"type\": \"scattergl\", \"y\": [0.028426768258213997, 0.018416741862893105, 0.02445181831717491, 0.013674098998308182, 0.017827413976192474, 0.012438560836017132, 0.012422232888638973, 0.012056208215653896, 0.009788824245333672, 0.010668165050446987, 0.010777576826512814, 0.009765010327100754, 0.01005147211253643, 0.009913659654557705, 0.009244116954505444, 0.009455985389649868, 0.009428677149116993, 0.009029052220284939, 0.009149113669991493, 0.009099547751247883, 0.008950375951826572, 0.00908232107758522, 0.00900671724230051, 0.00894641038030386, 0.008997943252325058, 0.00892727356404066, 0.008924810215830803, 0.008949722163379192, 0.008900783024728298, 0.008925904519855976, 0.008904212154448032, 0.00889821257442236, 0.008942206390202045, 0.008889779448509216, 0.008924085646867752, 0.008925752714276314, 0.008892839774489403, 0.008912102319300175, 0.008891180157661438, 0.00890132412314415]}, {\"name\": \"Valid\", \"type\": \"scattergl\", \"y\": [0.015705781057476997, 0.02343570627272129, 0.011033975519239902, 0.01566924899816513, 0.011684146709740162, 0.011218328960239887, 0.011398890987038612, 0.008853185921907425, 0.009586314670741558, 0.010050179436802864, 0.008672513999044895, 0.008763524703681469, 0.008942602202296257, 0.00848432257771492, 0.008971991017460823, 0.009173095226287842, 0.008572240360081196, 0.008462871424853802, 0.008407475426793098, 0.008364255540072918, 0.008668647147715092, 0.00866009946912527, 0.008437814190983772, 0.008417799137532711, 0.008387317880988121, 0.008436879143118858, 0.008489965461194515, 0.008380122482776642, 0.00834353081882, 0.00835931021720171, 0.00841735489666462, 0.008505026809871197, 0.008406776934862137, 0.008363328874111176, 0.008381089195609093, 0.008361580781638622, 0.008415662683546543, 0.00836608000099659, 0.008325167000293732, 0.008332944475114346]}],\n",
              "                        {\"height\": 300, \"template\": {\"data\": {\"bar\": [{\"error_x\": {\"color\": \"#2a3f5f\"}, \"error_y\": {\"color\": \"#2a3f5f\"}, \"marker\": {\"line\": {\"color\": \"#E5ECF6\", \"width\": 0.5}}, \"type\": \"bar\"}], \"barpolar\": [{\"marker\": {\"line\": {\"color\": \"#E5ECF6\", \"width\": 0.5}}, \"type\": \"barpolar\"}], \"carpet\": [{\"aaxis\": {\"endlinecolor\": \"#2a3f5f\", \"gridcolor\": \"white\", \"linecolor\": \"white\", \"minorgridcolor\": \"white\", \"startlinecolor\": \"#2a3f5f\"}, \"baxis\": {\"endlinecolor\": \"#2a3f5f\", \"gridcolor\": \"white\", \"linecolor\": \"white\", \"minorgridcolor\": \"white\", \"startlinecolor\": \"#2a3f5f\"}, \"type\": \"carpet\"}], \"choropleth\": [{\"colorbar\": {\"outlinewidth\": 0, \"ticks\": \"\"}, \"type\": \"choropleth\"}], \"contour\": [{\"colorbar\": {\"outlinewidth\": 0, \"ticks\": \"\"}, \"colorscale\": [[0.0, \"#0d0887\"], [0.1111111111111111, \"#46039f\"], [0.2222222222222222, \"#7201a8\"], [0.3333333333333333, \"#9c179e\"], [0.4444444444444444, \"#bd3786\"], [0.5555555555555556, \"#d8576b\"], [0.6666666666666666, \"#ed7953\"], [0.7777777777777778, \"#fb9f3a\"], [0.8888888888888888, \"#fdca26\"], [1.0, \"#f0f921\"]], \"type\": \"contour\"}], \"contourcarpet\": [{\"colorbar\": {\"outlinewidth\": 0, \"ticks\": \"\"}, \"type\": \"contourcarpet\"}], \"heatmap\": [{\"colorbar\": {\"outlinewidth\": 0, \"ticks\": \"\"}, \"colorscale\": [[0.0, \"#0d0887\"], [0.1111111111111111, \"#46039f\"], [0.2222222222222222, \"#7201a8\"], [0.3333333333333333, \"#9c179e\"], [0.4444444444444444, \"#bd3786\"], [0.5555555555555556, \"#d8576b\"], [0.6666666666666666, \"#ed7953\"], [0.7777777777777778, \"#fb9f3a\"], [0.8888888888888888, \"#fdca26\"], [1.0, \"#f0f921\"]], \"type\": \"heatmap\"}], \"heatmapgl\": [{\"colorbar\": {\"outlinewidth\": 0, \"ticks\": \"\"}, \"colorscale\": [[0.0, \"#0d0887\"], [0.1111111111111111, \"#46039f\"], [0.2222222222222222, \"#7201a8\"], [0.3333333333333333, \"#9c179e\"], [0.4444444444444444, \"#bd3786\"], [0.5555555555555556, \"#d8576b\"], [0.6666666666666666, \"#ed7953\"], [0.7777777777777778, \"#fb9f3a\"], [0.8888888888888888, \"#fdca26\"], [1.0, \"#f0f921\"]], \"type\": \"heatmapgl\"}], \"histogram\": [{\"marker\": {\"colorbar\": {\"outlinewidth\": 0, \"ticks\": \"\"}}, \"type\": \"histogram\"}], \"histogram2d\": [{\"colorbar\": {\"outlinewidth\": 0, \"ticks\": \"\"}, \"colorscale\": [[0.0, \"#0d0887\"], [0.1111111111111111, \"#46039f\"], [0.2222222222222222, \"#7201a8\"], [0.3333333333333333, \"#9c179e\"], [0.4444444444444444, \"#bd3786\"], [0.5555555555555556, \"#d8576b\"], [0.6666666666666666, \"#ed7953\"], [0.7777777777777778, \"#fb9f3a\"], [0.8888888888888888, \"#fdca26\"], [1.0, \"#f0f921\"]], \"type\": \"histogram2d\"}], \"histogram2dcontour\": [{\"colorbar\": {\"outlinewidth\": 0, \"ticks\": \"\"}, \"colorscale\": [[0.0, \"#0d0887\"], [0.1111111111111111, \"#46039f\"], [0.2222222222222222, \"#7201a8\"], [0.3333333333333333, \"#9c179e\"], [0.4444444444444444, \"#bd3786\"], [0.5555555555555556, \"#d8576b\"], [0.6666666666666666, \"#ed7953\"], [0.7777777777777778, \"#fb9f3a\"], [0.8888888888888888, \"#fdca26\"], [1.0, \"#f0f921\"]], \"type\": \"histogram2dcontour\"}], \"mesh3d\": [{\"colorbar\": {\"outlinewidth\": 0, \"ticks\": \"\"}, \"type\": \"mesh3d\"}], \"parcoords\": [{\"line\": {\"colorbar\": {\"outlinewidth\": 0, \"ticks\": \"\"}}, \"type\": \"parcoords\"}], \"pie\": [{\"automargin\": true, \"type\": \"pie\"}], \"scatter\": [{\"marker\": {\"colorbar\": {\"outlinewidth\": 0, \"ticks\": \"\"}}, \"type\": \"scatter\"}], \"scatter3d\": [{\"line\": {\"colorbar\": {\"outlinewidth\": 0, \"ticks\": \"\"}}, \"marker\": {\"colorbar\": {\"outlinewidth\": 0, \"ticks\": \"\"}}, \"type\": \"scatter3d\"}], \"scattercarpet\": [{\"marker\": {\"colorbar\": {\"outlinewidth\": 0, \"ticks\": \"\"}}, \"type\": \"scattercarpet\"}], \"scattergeo\": [{\"marker\": {\"colorbar\": {\"outlinewidth\": 0, \"ticks\": \"\"}}, \"type\": \"scattergeo\"}], \"scattergl\": [{\"marker\": {\"colorbar\": {\"outlinewidth\": 0, \"ticks\": \"\"}}, \"type\": \"scattergl\"}], \"scattermapbox\": [{\"marker\": {\"colorbar\": {\"outlinewidth\": 0, \"ticks\": \"\"}}, \"type\": \"scattermapbox\"}], \"scatterpolar\": [{\"marker\": {\"colorbar\": {\"outlinewidth\": 0, \"ticks\": \"\"}}, \"type\": \"scatterpolar\"}], \"scatterpolargl\": [{\"marker\": {\"colorbar\": {\"outlinewidth\": 0, \"ticks\": \"\"}}, \"type\": \"scatterpolargl\"}], \"scatterternary\": [{\"marker\": {\"colorbar\": {\"outlinewidth\": 0, \"ticks\": \"\"}}, \"type\": \"scatterternary\"}], \"surface\": [{\"colorbar\": {\"outlinewidth\": 0, \"ticks\": \"\"}, \"colorscale\": [[0.0, \"#0d0887\"], [0.1111111111111111, \"#46039f\"], [0.2222222222222222, \"#7201a8\"], [0.3333333333333333, \"#9c179e\"], [0.4444444444444444, \"#bd3786\"], [0.5555555555555556, \"#d8576b\"], [0.6666666666666666, \"#ed7953\"], [0.7777777777777778, \"#fb9f3a\"], [0.8888888888888888, \"#fdca26\"], [1.0, \"#f0f921\"]], \"type\": \"surface\"}], \"table\": [{\"cells\": {\"fill\": {\"color\": \"#EBF0F8\"}, \"line\": {\"color\": \"white\"}}, \"header\": {\"fill\": {\"color\": \"#C8D4E3\"}, \"line\": {\"color\": \"white\"}}, \"type\": \"table\"}]}, \"layout\": {\"annotationdefaults\": {\"arrowcolor\": \"#2a3f5f\", \"arrowhead\": 0, \"arrowwidth\": 1}, \"coloraxis\": {\"colorbar\": {\"outlinewidth\": 0, \"ticks\": \"\"}}, \"colorscale\": {\"diverging\": [[0, \"#8e0152\"], [0.1, \"#c51b7d\"], [0.2, \"#de77ae\"], [0.3, \"#f1b6da\"], [0.4, \"#fde0ef\"], [0.5, \"#f7f7f7\"], [0.6, \"#e6f5d0\"], [0.7, \"#b8e186\"], [0.8, \"#7fbc41\"], [0.9, \"#4d9221\"], [1, \"#276419\"]], \"sequential\": [[0.0, \"#0d0887\"], [0.1111111111111111, \"#46039f\"], [0.2222222222222222, \"#7201a8\"], [0.3333333333333333, \"#9c179e\"], [0.4444444444444444, \"#bd3786\"], [0.5555555555555556, \"#d8576b\"], [0.6666666666666666, \"#ed7953\"], [0.7777777777777778, \"#fb9f3a\"], [0.8888888888888888, \"#fdca26\"], [1.0, \"#f0f921\"]], \"sequentialminus\": [[0.0, \"#0d0887\"], [0.1111111111111111, \"#46039f\"], [0.2222222222222222, \"#7201a8\"], [0.3333333333333333, \"#9c179e\"], [0.4444444444444444, \"#bd3786\"], [0.5555555555555556, \"#d8576b\"], [0.6666666666666666, \"#ed7953\"], [0.7777777777777778, \"#fb9f3a\"], [0.8888888888888888, \"#fdca26\"], [1.0, \"#f0f921\"]]}, \"colorway\": [\"#636efa\", \"#EF553B\", \"#00cc96\", \"#ab63fa\", \"#FFA15A\", \"#19d3f3\", \"#FF6692\", \"#B6E880\", \"#FF97FF\", \"#FECB52\"], \"font\": {\"color\": \"#2a3f5f\"}, \"geo\": {\"bgcolor\": \"white\", \"lakecolor\": \"white\", \"landcolor\": \"#E5ECF6\", \"showlakes\": true, \"showland\": true, \"subunitcolor\": \"white\"}, \"hoverlabel\": {\"align\": \"left\"}, \"hovermode\": \"closest\", \"mapbox\": {\"style\": \"light\"}, \"paper_bgcolor\": \"white\", \"plot_bgcolor\": \"#E5ECF6\", \"polar\": {\"angularaxis\": {\"gridcolor\": \"white\", \"linecolor\": \"white\", \"ticks\": \"\"}, \"bgcolor\": \"#E5ECF6\", \"radialaxis\": {\"gridcolor\": \"white\", \"linecolor\": \"white\", \"ticks\": \"\"}}, \"scene\": {\"xaxis\": {\"backgroundcolor\": \"#E5ECF6\", \"gridcolor\": \"white\", \"gridwidth\": 2, \"linecolor\": \"white\", \"showbackground\": true, \"ticks\": \"\", \"zerolinecolor\": \"white\"}, \"yaxis\": {\"backgroundcolor\": \"#E5ECF6\", \"gridcolor\": \"white\", \"gridwidth\": 2, \"linecolor\": \"white\", \"showbackground\": true, \"ticks\": \"\", \"zerolinecolor\": \"white\"}, \"zaxis\": {\"backgroundcolor\": \"#E5ECF6\", \"gridcolor\": \"white\", \"gridwidth\": 2, \"linecolor\": \"white\", \"showbackground\": true, \"ticks\": \"\", \"zerolinecolor\": \"white\"}}, \"shapedefaults\": {\"line\": {\"color\": \"#2a3f5f\"}}, \"ternary\": {\"aaxis\": {\"gridcolor\": \"white\", \"linecolor\": \"white\", \"ticks\": \"\"}, \"baxis\": {\"gridcolor\": \"white\", \"linecolor\": \"white\", \"ticks\": \"\"}, \"bgcolor\": \"#E5ECF6\", \"caxis\": {\"gridcolor\": \"white\", \"linecolor\": \"white\", \"ticks\": \"\"}}, \"title\": {\"x\": 0.05}, \"xaxis\": {\"automargin\": true, \"gridcolor\": \"white\", \"linecolor\": \"white\", \"ticks\": \"\", \"title\": {\"standoff\": 15}, \"zerolinecolor\": \"white\", \"zerolinewidth\": 2}, \"yaxis\": {\"automargin\": true, \"gridcolor\": \"white\", \"linecolor\": \"white\", \"ticks\": \"\", \"title\": {\"standoff\": 15}, \"zerolinecolor\": \"white\", \"zerolinewidth\": 2}}}, \"width\": 400, \"xaxis\": {\"title\": {\"text\": \"Epoch\"}}, \"yaxis\": {\"title\": {\"text\": \"Loss\"}}},\n",
              "                        {\"responsive\": true}\n",
              "                    ).then(function(){\n",
              "                            \n",
              "var gd = document.getElementById('902a7290-8cae-41d2-b121-1d5759ea44ed');\n",
              "var x = new MutationObserver(function (mutations, observer) {{\n",
              "        var display = window.getComputedStyle(gd).display;\n",
              "        if (!display || display === 'none') {{\n",
              "            console.log([gd, 'removed!']);\n",
              "            Plotly.purge(gd);\n",
              "            observer.disconnect();\n",
              "        }}\n",
              "}});\n",
              "\n",
              "// Listen for the removal of the full notebook cells\n",
              "var notebookContainer = gd.closest('#notebook-container');\n",
              "if (notebookContainer) {{\n",
              "    x.observe(notebookContainer, {childList: true});\n",
              "}}\n",
              "\n",
              "// Listen for the clearing of the current output cell\n",
              "var outputEl = gd.closest('.output');\n",
              "if (outputEl) {{\n",
              "    x.observe(outputEl, {childList: true});\n",
              "}}\n",
              "\n",
              "                        })\n",
              "                };\n",
              "                \n",
              "            </script>\n",
              "        </div>\n",
              "</body>\n",
              "</html>"
            ]
          },
          "metadata": {
            "tags": []
          }
        }
      ]
    },
    {
      "cell_type": "markdown",
      "metadata": {
        "id": "67usD9-V0_tm"
      },
      "source": [
        "## Chequeo de sanidad / Validación"
      ]
    },
    {
      "cell_type": "code",
      "metadata": {
        "id": "yXoC1woGcVq9"
      },
      "source": [
        "y_pred_test1 = model1.predict(x_test1).flatten()\n",
        "y_pred_test2 = model2.predict(x_test2).flatten()"
      ],
      "execution_count": 42,
      "outputs": []
    },
    {
      "cell_type": "code",
      "metadata": {
        "id": "VWZLI_SfI48y",
        "outputId": "c4cd1811-87fd-4e0b-88fe-c8fa204ba1ab",
        "colab": {
          "base_uri": "https://localhost:8080/",
          "height": 34
        }
      },
      "source": [
        "y_test[:,0].shape\n",
        "y_pred_test1.shape"
      ],
      "execution_count": 43,
      "outputs": [
        {
          "output_type": "execute_result",
          "data": {
            "text/plain": [
              "(897,)"
            ]
          },
          "metadata": {
            "tags": []
          },
          "execution_count": 43
        }
      ]
    },
    {
      "cell_type": "code",
      "metadata": {
        "id": "aF5-EEvmIrp2",
        "outputId": "053f301a-3b13-4d6f-fc4f-9ee14fc98eea",
        "colab": {
          "base_uri": "https://localhost:8080/",
          "height": 419
        }
      },
      "source": [
        "pd_res=pd.DataFrame({'y_test':y_test[:,0], 'pred1':y_pred_test1, 'pred2':y_pred_test2})\n",
        "pd_res"
      ],
      "execution_count": 44,
      "outputs": [
        {
          "output_type": "execute_result",
          "data": {
            "text/html": [
              "<div>\n",
              "<style scoped>\n",
              "    .dataframe tbody tr th:only-of-type {\n",
              "        vertical-align: middle;\n",
              "    }\n",
              "\n",
              "    .dataframe tbody tr th {\n",
              "        vertical-align: top;\n",
              "    }\n",
              "\n",
              "    .dataframe thead th {\n",
              "        text-align: right;\n",
              "    }\n",
              "</style>\n",
              "<table border=\"1\" class=\"dataframe\">\n",
              "  <thead>\n",
              "    <tr style=\"text-align: right;\">\n",
              "      <th></th>\n",
              "      <th>y_test</th>\n",
              "      <th>pred1</th>\n",
              "      <th>pred2</th>\n",
              "    </tr>\n",
              "  </thead>\n",
              "  <tbody>\n",
              "    <tr>\n",
              "      <th>0</th>\n",
              "      <td>-0.079272</td>\n",
              "      <td>-0.000581</td>\n",
              "      <td>-0.008109</td>\n",
              "    </tr>\n",
              "    <tr>\n",
              "      <th>1</th>\n",
              "      <td>-0.091405</td>\n",
              "      <td>-0.033283</td>\n",
              "      <td>-0.038171</td>\n",
              "    </tr>\n",
              "    <tr>\n",
              "      <th>2</th>\n",
              "      <td>-0.029192</td>\n",
              "      <td>-0.025010</td>\n",
              "      <td>-0.029856</td>\n",
              "    </tr>\n",
              "    <tr>\n",
              "      <th>3</th>\n",
              "      <td>-0.110250</td>\n",
              "      <td>-0.025010</td>\n",
              "      <td>-0.029856</td>\n",
              "    </tr>\n",
              "    <tr>\n",
              "      <th>4</th>\n",
              "      <td>0.447346</td>\n",
              "      <td>-0.025010</td>\n",
              "      <td>-0.029856</td>\n",
              "    </tr>\n",
              "    <tr>\n",
              "      <th>...</th>\n",
              "      <td>...</td>\n",
              "      <td>...</td>\n",
              "      <td>...</td>\n",
              "    </tr>\n",
              "    <tr>\n",
              "      <th>892</th>\n",
              "      <td>-0.068947</td>\n",
              "      <td>0.017533</td>\n",
              "      <td>-0.033300</td>\n",
              "    </tr>\n",
              "    <tr>\n",
              "      <th>893</th>\n",
              "      <td>-0.012154</td>\n",
              "      <td>-0.025010</td>\n",
              "      <td>-0.029856</td>\n",
              "    </tr>\n",
              "    <tr>\n",
              "      <th>894</th>\n",
              "      <td>0.008497</td>\n",
              "      <td>-0.029351</td>\n",
              "      <td>-0.029487</td>\n",
              "    </tr>\n",
              "    <tr>\n",
              "      <th>895</th>\n",
              "      <td>-0.094761</td>\n",
              "      <td>-0.085567</td>\n",
              "      <td>-0.077608</td>\n",
              "    </tr>\n",
              "    <tr>\n",
              "      <th>896</th>\n",
              "      <td>0.090330</td>\n",
              "      <td>0.098882</td>\n",
              "      <td>0.088680</td>\n",
              "    </tr>\n",
              "  </tbody>\n",
              "</table>\n",
              "<p>897 rows × 3 columns</p>\n",
              "</div>"
            ],
            "text/plain": [
              "       y_test     pred1     pred2\n",
              "0   -0.079272 -0.000581 -0.008109\n",
              "1   -0.091405 -0.033283 -0.038171\n",
              "2   -0.029192 -0.025010 -0.029856\n",
              "3   -0.110250 -0.025010 -0.029856\n",
              "4    0.447346 -0.025010 -0.029856\n",
              "..        ...       ...       ...\n",
              "892 -0.068947  0.017533 -0.033300\n",
              "893 -0.012154 -0.025010 -0.029856\n",
              "894  0.008497 -0.029351 -0.029487\n",
              "895 -0.094761 -0.085567 -0.077608\n",
              "896  0.090330  0.098882  0.088680\n",
              "\n",
              "[897 rows x 3 columns]"
            ]
          },
          "metadata": {
            "tags": []
          },
          "execution_count": 44
        }
      ]
    },
    {
      "cell_type": "code",
      "metadata": {
        "id": "26ZltrbMwrZ0",
        "outputId": "5079f227-c9b4-4773-f806-cf33dca38792",
        "colab": {
          "base_uri": "https://localhost:8080/",
          "height": 68
        }
      },
      "source": [
        "print(abs(y_test - y_test.mean()).mean())\n",
        "\n",
        "print(abs(y_test - y_pred_test1).mean())\n",
        "\n",
        "print(abs(y_test - y_pred_test2).mean())"
      ],
      "execution_count": 45,
      "outputs": [
        {
          "output_type": "stream",
          "text": [
            "0.07488788798189971\n",
            "0.08298858587273038\n",
            "0.08031913623259057\n"
          ],
          "name": "stdout"
        }
      ]
    },
    {
      "cell_type": "code",
      "metadata": {
        "id": "F55DR4r024mG",
        "outputId": "1ecde6ad-ecf5-4f45-83a0-17bd38aa2d47",
        "colab": {
          "base_uri": "https://localhost:8080/",
          "height": 51
        }
      },
      "source": [
        "print(y_pred_test1.shape)\n",
        "print(y_pred_test2.shape)"
      ],
      "execution_count": 46,
      "outputs": [
        {
          "output_type": "stream",
          "text": [
            "(897,)\n",
            "(897,)\n"
          ],
          "name": "stdout"
        }
      ]
    },
    {
      "cell_type": "code",
      "metadata": {
        "id": "tli9Vebdw6bd",
        "outputId": "99233501-cbb0-453e-dbc1-28fcca3d4492",
        "colab": {
          "base_uri": "https://localhost:8080/",
          "height": 843
        }
      },
      "source": [
        "todf(y_test).hist()\n",
        "todf(y_pred_test1).hist()\n",
        "todf(y_pred_test2).hist()"
      ],
      "execution_count": 47,
      "outputs": [
        {
          "output_type": "execute_result",
          "data": {
            "text/plain": [
              "array([[<matplotlib.axes._subplots.AxesSubplot object at 0x7fc842f11198>]],\n",
              "      dtype=object)"
            ]
          },
          "metadata": {
            "tags": []
          },
          "execution_count": 47
        },
        {
          "output_type": "display_data",
          "data": {
            "image/png": "[encoded data removed]",
            "text/plain": [
              "<Figure size 432x288 with 1 Axes>"
            ]
          },
          "metadata": {
            "tags": [],
            "needs_background": "light"
          }
        },
        {
          "output_type": "display_data",
          "data": {
            "image/png": "[encoded data removed]",
            "text/plain": [
              "<Figure size 432x288 with 1 Axes>"
            ]
          },
          "metadata": {
            "tags": [],
            "needs_background": "light"
          }
        },
        {
          "output_type": "display_data",
          "data": {
            "image/png": "[encoded data removed]",
            "text/plain": [
              "<Figure size 432x288 with 1 Axes>"
            ]
          },
          "metadata": {
            "tags": [],
            "needs_background": "light"
          }
        }
      ]
    },
    {
      "cell_type": "code",
      "metadata": {
        "id": "xq3GE0oSw7k3",
        "outputId": "854a8171-df7d-4b65-d690-37131fbc2e08",
        "colab": {
          "base_uri": "https://localhost:8080/",
          "height": 49
        }
      },
      "source": [
        "profiling_num(todf(y_pred_test1))\n",
        "profiling_num(y_pred_test2)"
      ],
      "execution_count": 48,
      "outputs": [
        {
          "output_type": "execute_result",
          "data": {
            "text/html": [
              "<div>\n",
              "<style scoped>\n",
              "    .dataframe tbody tr th:only-of-type {\n",
              "        vertical-align: middle;\n",
              "    }\n",
              "\n",
              "    .dataframe tbody tr th {\n",
              "        vertical-align: top;\n",
              "    }\n",
              "\n",
              "    .dataframe thead th {\n",
              "        text-align: right;\n",
              "    }\n",
              "</style>\n",
              "<table border=\"1\" class=\"dataframe\">\n",
              "  <thead>\n",
              "    <tr style=\"text-align: right;\">\n",
              "      <th></th>\n",
              "      <th>variable</th>\n",
              "      <th>mean</th>\n",
              "      <th>std_dev</th>\n",
              "      <th>variation_coef</th>\n",
              "      <th>p_0.01</th>\n",
              "      <th>p_0.05</th>\n",
              "      <th>p_0.25</th>\n",
              "      <th>p_0.5</th>\n",
              "      <th>p_0.75</th>\n",
              "      <th>p_0.95</th>\n",
              "      <th>p_0.99</th>\n",
              "    </tr>\n",
              "  </thead>\n",
              "  <tbody>\n",
              "  </tbody>\n",
              "</table>\n",
              "</div>"
            ],
            "text/plain": [
              "Empty DataFrame\n",
              "Columns: [variable, mean, std_dev, variation_coef, p_0.01, p_0.05, p_0.25, p_0.5, p_0.75, p_0.95, p_0.99]\n",
              "Index: []"
            ]
          },
          "metadata": {
            "tags": []
          },
          "execution_count": 48
        }
      ]
    },
    {
      "cell_type": "code",
      "metadata": {
        "id": "_pTbyj2vwMr5",
        "outputId": "409b6e0a-e6c8-4919-ba25-f148f01fb16e",
        "colab": {
          "base_uri": "https://localhost:8080/",
          "height": 297
        }
      },
      "source": [
        "todf(y_pred_test2).describe()"
      ],
      "execution_count": 49,
      "outputs": [
        {
          "output_type": "execute_result",
          "data": {
            "text/html": [
              "<div>\n",
              "<style scoped>\n",
              "    .dataframe tbody tr th:only-of-type {\n",
              "        vertical-align: middle;\n",
              "    }\n",
              "\n",
              "    .dataframe tbody tr th {\n",
              "        vertical-align: top;\n",
              "    }\n",
              "\n",
              "    .dataframe thead th {\n",
              "        text-align: right;\n",
              "    }\n",
              "</style>\n",
              "<table border=\"1\" class=\"dataframe\">\n",
              "  <thead>\n",
              "    <tr style=\"text-align: right;\">\n",
              "      <th></th>\n",
              "      <th>0</th>\n",
              "    </tr>\n",
              "  </thead>\n",
              "  <tbody>\n",
              "    <tr>\n",
              "      <th>count</th>\n",
              "      <td>897.000000</td>\n",
              "    </tr>\n",
              "    <tr>\n",
              "      <th>mean</th>\n",
              "      <td>-0.026070</td>\n",
              "    </tr>\n",
              "    <tr>\n",
              "      <th>std</th>\n",
              "      <td>0.041434</td>\n",
              "    </tr>\n",
              "    <tr>\n",
              "      <th>min</th>\n",
              "      <td>-0.155965</td>\n",
              "    </tr>\n",
              "    <tr>\n",
              "      <th>25%</th>\n",
              "      <td>-0.033331</td>\n",
              "    </tr>\n",
              "    <tr>\n",
              "      <th>50%</th>\n",
              "      <td>-0.029856</td>\n",
              "    </tr>\n",
              "    <tr>\n",
              "      <th>75%</th>\n",
              "      <td>-0.029487</td>\n",
              "    </tr>\n",
              "    <tr>\n",
              "      <th>max</th>\n",
              "      <td>0.311246</td>\n",
              "    </tr>\n",
              "  </tbody>\n",
              "</table>\n",
              "</div>"
            ],
            "text/plain": [
              "                0\n",
              "count  897.000000\n",
              "mean    -0.026070\n",
              "std      0.041434\n",
              "min     -0.155965\n",
              "25%     -0.033331\n",
              "50%     -0.029856\n",
              "75%     -0.029487\n",
              "max      0.311246"
            ]
          },
          "metadata": {
            "tags": []
          },
          "execution_count": 49
        }
      ]
    },
    {
      "cell_type": "code",
      "metadata": {
        "id": "EiUmuFJiArZf",
        "outputId": "42324b4a-b6ae-4bf0-91cb-2c52fc00f8db",
        "colab": {
          "base_uri": "https://localhost:8080/",
          "height": 283
        }
      },
      "source": [
        "a = plt.axes(aspect='equal')\n",
        "plt.scatter(y_test, y_pred_test1)\n",
        "plt.xlabel('True Values ')\n",
        "plt.ylabel('Predictions ')\n",
        "lims = [-1, 1]\n",
        "plt.xlim(lims)\n",
        "plt.ylim(lims)\n",
        "_ = plt.plot(lims, lims)\n"
      ],
      "execution_count": 50,
      "outputs": [
        {
          "output_type": "display_data",
          "data": {
            "image/png": "[encoded data removed]",
            "text/plain": [
              "<Figure size 432x288 with 1 Axes>"
            ]
          },
          "metadata": {
            "tags": [],
            "needs_background": "light"
          }
        }
      ]
    },
    {
      "cell_type": "code",
      "metadata": {
        "id": "G_gj6euY2tYW",
        "outputId": "d026e6fe-dc80-41ab-b0cb-852350711cba",
        "colab": {
          "base_uri": "https://localhost:8080/",
          "height": 283
        }
      },
      "source": [
        "a = plt.axes(aspect='equal')\n",
        "plt.scatter(y_test, y_pred_test2)\n",
        "plt.xlabel('True Values ')\n",
        "plt.ylabel('Predictions ')\n",
        "lims = [-1, 1]\n",
        "plt.xlim(lims)\n",
        "plt.ylim(lims)\n",
        "_ = plt.plot(lims, lims)\n"
      ],
      "execution_count": 51,
      "outputs": [
        {
          "output_type": "display_data",
          "data": {
            "image/png": "[encoded data removed]",
            "text/plain": [
              "<Figure size 432x288 with 1 Axes>"
            ]
          },
          "metadata": {
            "tags": [],
            "needs_background": "light"
          }
        }
      ]
    },
    {
      "cell_type": "code",
      "metadata": {
        "id": "ColCzvxo5WqZ"
      },
      "source": [
        ""
      ],
      "execution_count": null,
      "outputs": []
    }
  ]
}