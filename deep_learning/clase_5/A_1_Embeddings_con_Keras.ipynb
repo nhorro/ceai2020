{
 "cells": [
  {
   "cell_type": "markdown",
   "metadata": {
    "id": "YblY8usDS94W"
   },
   "source": [
    "# Curso IA UBA\n",
    "\n",
    "Creado por [Pablo Casas](https://twitter.com/pabloc_ds)\n",
    "\n",
    "\n",
    "--- \n",
    "\n",
    "## Embeddings en Keras \n",
    "\n",
    "\n",
    "Objetivo: \n",
    "\n",
    "\n",
    "\n"
   ]
  },
  {
   "cell_type": "markdown",
   "metadata": {
    "id": "i7X2m5X_vLMt"
   },
   "source": [
    "### 1) Montando el drive en google colab"
   ]
  },
  {
   "cell_type": "code",
   "execution_count": null,
   "metadata": {
    "colab": {
     "base_uri": "https://localhost:8080/",
     "height": 35
    },
    "id": "flvnbWZ7lds9",
    "outputId": "aa37c6d3-b0ce-4d39-bb43-e1c0e7e6a9ad"
   },
   "outputs": [
    {
     "name": "stdout",
     "output_type": "stream",
     "text": [
      "Drive already mounted at /content/drive; to attempt to forcibly remount, call drive.mount(\"/content/drive\", force_remount=True).\n"
     ]
    }
   ],
   "source": [
    "from google.colab import drive\n",
    "drive.mount('/content/drive')"
   ]
  },
  {
   "cell_type": "code",
   "execution_count": null,
   "metadata": {
    "id": "ntXoh-FTzBx5"
   },
   "outputs": [],
   "source": [
    "import os\n",
    "os.chdir('/content/drive/My Drive/_Escuela Datos Vivos/Deep Learning 360/DL360 N2')"
   ]
  },
  {
   "cell_type": "markdown",
   "metadata": {
    "id": "RFWEVzXKvHLw"
   },
   "source": [
    "### 2) Carga de datos y librerías"
   ]
  },
  {
   "cell_type": "code",
   "execution_count": null,
   "metadata": {
    "colab": {
     "base_uri": "https://localhost:8080/",
     "height": 318
    },
    "id": "zhaAT-R6stfq",
    "outputId": "f2642182-a01c-476a-fac0-1ec6277106cc"
   },
   "outputs": [
    {
     "name": "stdout",
     "output_type": "stream",
     "text": [
      "Requirement already satisfied: funpymodeling in /usr/local/lib/python3.6/dist-packages (0.1.7)\n",
      "Requirement already satisfied: seaborn<0.11.0,>=0.10.1 in /usr/local/lib/python3.6/dist-packages (from funpymodeling) (0.10.1)\n",
      "Requirement already satisfied: pandas<2.0.0,>=1.0.5 in /usr/local/lib/python3.6/dist-packages (from funpymodeling) (1.1.2)\n",
      "Requirement already satisfied: numpy<2.0.0,>=1.18.5 in /usr/local/lib/python3.6/dist-packages (from funpymodeling) (1.18.5)\n",
      "Requirement already satisfied: matplotlib<4.0.0,>=3.2.2 in /usr/local/lib/python3.6/dist-packages (from funpymodeling) (3.2.2)\n",
      "Requirement already satisfied: typing-extensions<4.0.0,>=3.7.4; python_version < \"3.8\" in /usr/local/lib/python3.6/dist-packages (from funpymodeling) (3.7.4.3)\n",
      "Requirement already satisfied: sklearn<0.1,>=0.0 in /usr/local/lib/python3.6/dist-packages (from funpymodeling) (0.0)\n",
      "Requirement already satisfied: scipy>=1.0.1 in /usr/local/lib/python3.6/dist-packages (from seaborn<0.11.0,>=0.10.1->funpymodeling) (1.4.1)\n",
      "Requirement already satisfied: pytz>=2017.2 in /usr/local/lib/python3.6/dist-packages (from pandas<2.0.0,>=1.0.5->funpymodeling) (2018.9)\n",
      "Requirement already satisfied: python-dateutil>=2.7.3 in /usr/local/lib/python3.6/dist-packages (from pandas<2.0.0,>=1.0.5->funpymodeling) (2.8.1)\n",
      "Requirement already satisfied: kiwisolver>=1.0.1 in /usr/local/lib/python3.6/dist-packages (from matplotlib<4.0.0,>=3.2.2->funpymodeling) (1.2.0)\n",
      "Requirement already satisfied: pyparsing!=2.0.4,!=2.1.2,!=2.1.6,>=2.0.1 in /usr/local/lib/python3.6/dist-packages (from matplotlib<4.0.0,>=3.2.2->funpymodeling) (2.4.7)\n",
      "Requirement already satisfied: cycler>=0.10 in /usr/local/lib/python3.6/dist-packages (from matplotlib<4.0.0,>=3.2.2->funpymodeling) (0.10.0)\n",
      "Requirement already satisfied: scikit-learn in /usr/local/lib/python3.6/dist-packages (from sklearn<0.1,>=0.0->funpymodeling) (0.22.2.post1)\n",
      "Requirement already satisfied: six>=1.5 in /usr/local/lib/python3.6/dist-packages (from python-dateutil>=2.7.3->pandas<2.0.0,>=1.0.5->funpymodeling) (1.15.0)\n",
      "Requirement already satisfied: joblib>=0.11 in /usr/local/lib/python3.6/dist-packages (from scikit-learn->sklearn<0.1,>=0.0->funpymodeling) (0.16.0)\n"
     ]
    }
   ],
   "source": [
    "!pip install funpymodeling"
   ]
  },
  {
   "cell_type": "code",
   "execution_count": null,
   "metadata": {
    "id": "MWE4Be7bmNAe"
   },
   "outputs": [],
   "source": [
    "import tensorflow as tf\n",
    "from tensorflow import keras\n",
    "import numpy as np\n",
    "import matplotlib.pyplot as plt\n",
    "import pandas as pd\n",
    "\n",
    "from funpymodeling.exploratory import status, freq_tbl, profiling_num\n",
    "from funpymodeling.data_prep import todf\n"
   ]
  },
  {
   "cell_type": "markdown",
   "metadata": {
    "id": "B36B0MhNxIEa"
   },
   "source": []
  },
  {
   "cell_type": "code",
   "execution_count": null,
   "metadata": {
    "id": "ij6BrAXrmPUq"
   },
   "outputs": [],
   "source": [
    "\n",
    "data=pd.read_csv('data/encuesta_sysarmy_arg_2019_1.csv')"
   ]
  },
  {
   "cell_type": "code",
   "execution_count": null,
   "metadata": {
    "colab": {
     "base_uri": "https://localhost:8080/",
     "height": 35
    },
    "id": "UBZvt00p5ekZ",
    "outputId": "c02e722a-5fd9-4d71-da7b-3735574365f1"
   },
   "outputs": [
    {
     "data": {
      "text/plain": [
       "(4482, 47)"
      ]
     },
     "execution_count": 49,
     "metadata": {
      "tags": []
     },
     "output_type": "execute_result"
    }
   ],
   "source": [
    "data.shape"
   ]
  },
  {
   "cell_type": "code",
   "execution_count": null,
   "metadata": {
    "colab": {
     "base_uri": "https://localhost:8080/",
     "height": 1000
    },
    "id": "w174u3biImip",
    "outputId": "0a5a676f-94d1-475f-e388-92774c6c33b0"
   },
   "outputs": [
    {
     "data": {
      "text/html": [
       "<div>\n",
       "<style scoped>\n",
       "    .dataframe tbody tr th:only-of-type {\n",
       "        vertical-align: middle;\n",
       "    }\n",
       "\n",
       "    .dataframe tbody tr th {\n",
       "        vertical-align: top;\n",
       "    }\n",
       "\n",
       "    .dataframe thead th {\n",
       "        text-align: right;\n",
       "    }\n",
       "</style>\n",
       "<table border=\"1\" class=\"dataframe\">\n",
       "  <thead>\n",
       "    <tr style=\"text-align: right;\">\n",
       "      <th></th>\n",
       "      <th>variable</th>\n",
       "      <th>q_nan</th>\n",
       "      <th>p_nan</th>\n",
       "      <th>q_zeros</th>\n",
       "      <th>p_zeros</th>\n",
       "      <th>unique</th>\n",
       "      <th>type</th>\n",
       "    </tr>\n",
       "  </thead>\n",
       "  <tbody>\n",
       "    <tr>\n",
       "      <th>0</th>\n",
       "      <td>Me identifico</td>\n",
       "      <td>0</td>\n",
       "      <td>0.000000</td>\n",
       "      <td>0</td>\n",
       "      <td>0.000000</td>\n",
       "      <td>3</td>\n",
       "      <td>object</td>\n",
       "    </tr>\n",
       "    <tr>\n",
       "      <th>1</th>\n",
       "      <td>Tengo</td>\n",
       "      <td>0</td>\n",
       "      <td>0.000000</td>\n",
       "      <td>0</td>\n",
       "      <td>0.000000</td>\n",
       "      <td>58</td>\n",
       "      <td>int64</td>\n",
       "    </tr>\n",
       "    <tr>\n",
       "      <th>2</th>\n",
       "      <td>Dónde estás trabajando</td>\n",
       "      <td>0</td>\n",
       "      <td>0.000000</td>\n",
       "      <td>0</td>\n",
       "      <td>0.000000</td>\n",
       "      <td>25</td>\n",
       "      <td>object</td>\n",
       "    </tr>\n",
       "    <tr>\n",
       "      <th>3</th>\n",
       "      <td>Años de experiencia</td>\n",
       "      <td>0</td>\n",
       "      <td>0.000000</td>\n",
       "      <td>235</td>\n",
       "      <td>0.052432</td>\n",
       "      <td>52</td>\n",
       "      <td>float64</td>\n",
       "    </tr>\n",
       "    <tr>\n",
       "      <th>4</th>\n",
       "      <td>Años en la empresa actual</td>\n",
       "      <td>0</td>\n",
       "      <td>0.000000</td>\n",
       "      <td>1038</td>\n",
       "      <td>0.231593</td>\n",
       "      <td>48</td>\n",
       "      <td>float64</td>\n",
       "    </tr>\n",
       "    <tr>\n",
       "      <th>5</th>\n",
       "      <td>Años en el puesto actual</td>\n",
       "      <td>0</td>\n",
       "      <td>0.000000</td>\n",
       "      <td>921</td>\n",
       "      <td>0.205489</td>\n",
       "      <td>39</td>\n",
       "      <td>float64</td>\n",
       "    </tr>\n",
       "    <tr>\n",
       "      <th>6</th>\n",
       "      <td>¿Gente a cargo?</td>\n",
       "      <td>0</td>\n",
       "      <td>0.000000</td>\n",
       "      <td>3335</td>\n",
       "      <td>0.744087</td>\n",
       "      <td>47</td>\n",
       "      <td>int64</td>\n",
       "    </tr>\n",
       "    <tr>\n",
       "      <th>7</th>\n",
       "      <td>Nivel de estudios alcanzado</td>\n",
       "      <td>0</td>\n",
       "      <td>0.000000</td>\n",
       "      <td>0</td>\n",
       "      <td>0.000000</td>\n",
       "      <td>7</td>\n",
       "      <td>object</td>\n",
       "    </tr>\n",
       "    <tr>\n",
       "      <th>8</th>\n",
       "      <td>Estado</td>\n",
       "      <td>0</td>\n",
       "      <td>0.000000</td>\n",
       "      <td>0</td>\n",
       "      <td>0.000000</td>\n",
       "      <td>3</td>\n",
       "      <td>object</td>\n",
       "    </tr>\n",
       "    <tr>\n",
       "      <th>9</th>\n",
       "      <td>Carrera</td>\n",
       "      <td>554</td>\n",
       "      <td>0.123606</td>\n",
       "      <td>0</td>\n",
       "      <td>0.000000</td>\n",
       "      <td>1485</td>\n",
       "      <td>object</td>\n",
       "    </tr>\n",
       "    <tr>\n",
       "      <th>10</th>\n",
       "      <td>Universidad</td>\n",
       "      <td>812</td>\n",
       "      <td>0.181169</td>\n",
       "      <td>0</td>\n",
       "      <td>0.000000</td>\n",
       "      <td>1056</td>\n",
       "      <td>object</td>\n",
       "    </tr>\n",
       "    <tr>\n",
       "      <th>11</th>\n",
       "      <td>Realizaste cursos de especialización</td>\n",
       "      <td>0</td>\n",
       "      <td>0.000000</td>\n",
       "      <td>0</td>\n",
       "      <td>0.000000</td>\n",
       "      <td>7</td>\n",
       "      <td>object</td>\n",
       "    </tr>\n",
       "    <tr>\n",
       "      <th>12</th>\n",
       "      <td>¿Contribuís a proyectos open source?</td>\n",
       "      <td>0</td>\n",
       "      <td>0.000000</td>\n",
       "      <td>0</td>\n",
       "      <td>0.000000</td>\n",
       "      <td>2</td>\n",
       "      <td>object</td>\n",
       "    </tr>\n",
       "    <tr>\n",
       "      <th>13</th>\n",
       "      <td>¿Programás como hobbie?</td>\n",
       "      <td>0</td>\n",
       "      <td>0.000000</td>\n",
       "      <td>0</td>\n",
       "      <td>0.000000</td>\n",
       "      <td>2</td>\n",
       "      <td>object</td>\n",
       "    </tr>\n",
       "    <tr>\n",
       "      <th>14</th>\n",
       "      <td>Trabajo de</td>\n",
       "      <td>0</td>\n",
       "      <td>0.000000</td>\n",
       "      <td>0</td>\n",
       "      <td>0.000000</td>\n",
       "      <td>443</td>\n",
       "      <td>object</td>\n",
       "    </tr>\n",
       "    <tr>\n",
       "      <th>15</th>\n",
       "      <td>Plataformas</td>\n",
       "      <td>777</td>\n",
       "      <td>0.173360</td>\n",
       "      <td>0</td>\n",
       "      <td>0.000000</td>\n",
       "      <td>935</td>\n",
       "      <td>object</td>\n",
       "    </tr>\n",
       "    <tr>\n",
       "      <th>16</th>\n",
       "      <td>Lenguajes de programación</td>\n",
       "      <td>852</td>\n",
       "      <td>0.190094</td>\n",
       "      <td>0</td>\n",
       "      <td>0.000000</td>\n",
       "      <td>1391</td>\n",
       "      <td>object</td>\n",
       "    </tr>\n",
       "    <tr>\n",
       "      <th>17</th>\n",
       "      <td>Frameworks, herramientas y librerías</td>\n",
       "      <td>2084</td>\n",
       "      <td>0.464971</td>\n",
       "      <td>0</td>\n",
       "      <td>0.000000</td>\n",
       "      <td>646</td>\n",
       "      <td>object</td>\n",
       "    </tr>\n",
       "    <tr>\n",
       "      <th>18</th>\n",
       "      <td>Bases de datos</td>\n",
       "      <td>1116</td>\n",
       "      <td>0.248996</td>\n",
       "      <td>0</td>\n",
       "      <td>0.000000</td>\n",
       "      <td>923</td>\n",
       "      <td>object</td>\n",
       "    </tr>\n",
       "    <tr>\n",
       "      <th>19</th>\n",
       "      <td>QA / Testing</td>\n",
       "      <td>3724</td>\n",
       "      <td>0.830879</td>\n",
       "      <td>0</td>\n",
       "      <td>0.000000</td>\n",
       "      <td>188</td>\n",
       "      <td>object</td>\n",
       "    </tr>\n",
       "    <tr>\n",
       "      <th>20</th>\n",
       "      <td>IDEs</td>\n",
       "      <td>1369</td>\n",
       "      <td>0.305444</td>\n",
       "      <td>0</td>\n",
       "      <td>0.000000</td>\n",
       "      <td>955</td>\n",
       "      <td>object</td>\n",
       "    </tr>\n",
       "    <tr>\n",
       "      <th>21</th>\n",
       "      <td>¿Qué SO usás en tu laptop/PC para trabajar?</td>\n",
       "      <td>0</td>\n",
       "      <td>0.000000</td>\n",
       "      <td>0</td>\n",
       "      <td>0.000000</td>\n",
       "      <td>4</td>\n",
       "      <td>object</td>\n",
       "    </tr>\n",
       "    <tr>\n",
       "      <th>22</th>\n",
       "      <td>¿Y en tu celular?</td>\n",
       "      <td>0</td>\n",
       "      <td>0.000000</td>\n",
       "      <td>0</td>\n",
       "      <td>0.000000</td>\n",
       "      <td>4</td>\n",
       "      <td>object</td>\n",
       "    </tr>\n",
       "    <tr>\n",
       "      <th>23</th>\n",
       "      <td>¿Tenés guardias?</td>\n",
       "      <td>0</td>\n",
       "      <td>0.000000</td>\n",
       "      <td>0</td>\n",
       "      <td>0.000000</td>\n",
       "      <td>3</td>\n",
       "      <td>object</td>\n",
       "    </tr>\n",
       "    <tr>\n",
       "      <th>24</th>\n",
       "      <td>Cuánto cobrás por guardia</td>\n",
       "      <td>0</td>\n",
       "      <td>0.000000</td>\n",
       "      <td>4097</td>\n",
       "      <td>0.914101</td>\n",
       "      <td>119</td>\n",
       "      <td>float64</td>\n",
       "    </tr>\n",
       "    <tr>\n",
       "      <th>25</th>\n",
       "      <td>¿Porcentaje, bruto o neto?</td>\n",
       "      <td>0</td>\n",
       "      <td>0.000000</td>\n",
       "      <td>0</td>\n",
       "      <td>0.000000</td>\n",
       "      <td>3</td>\n",
       "      <td>object</td>\n",
       "    </tr>\n",
       "    <tr>\n",
       "      <th>26</th>\n",
       "      <td>Tipo de contrato</td>\n",
       "      <td>0</td>\n",
       "      <td>0.000000</td>\n",
       "      <td>0</td>\n",
       "      <td>0.000000</td>\n",
       "      <td>5</td>\n",
       "      <td>object</td>\n",
       "    </tr>\n",
       "    <tr>\n",
       "      <th>27</th>\n",
       "      <td>Salario mensual BRUTO (en tu moneda local)</td>\n",
       "      <td>0</td>\n",
       "      <td>0.000000</td>\n",
       "      <td>0</td>\n",
       "      <td>0.000000</td>\n",
       "      <td>996</td>\n",
       "      <td>float64</td>\n",
       "    </tr>\n",
       "    <tr>\n",
       "      <th>28</th>\n",
       "      <td>Salario mensual NETO (en tu moneda local)</td>\n",
       "      <td>182</td>\n",
       "      <td>0.040607</td>\n",
       "      <td>0</td>\n",
       "      <td>0.000000</td>\n",
       "      <td>934</td>\n",
       "      <td>float64</td>\n",
       "    </tr>\n",
       "    <tr>\n",
       "      <th>29</th>\n",
       "      <td>¿Qué tan conforme estás con tu sueldo?</td>\n",
       "      <td>0</td>\n",
       "      <td>0.000000</td>\n",
       "      <td>0</td>\n",
       "      <td>0.000000</td>\n",
       "      <td>4</td>\n",
       "      <td>int64</td>\n",
       "    </tr>\n",
       "    <tr>\n",
       "      <th>30</th>\n",
       "      <td>Cómo creés que está tu sueldo con respecto al ...</td>\n",
       "      <td>0</td>\n",
       "      <td>0.000000</td>\n",
       "      <td>0</td>\n",
       "      <td>0.000000</td>\n",
       "      <td>4</td>\n",
       "      <td>int64</td>\n",
       "    </tr>\n",
       "    <tr>\n",
       "      <th>31</th>\n",
       "      <td>Recibís algún tipo de bono</td>\n",
       "      <td>0</td>\n",
       "      <td>0.000000</td>\n",
       "      <td>0</td>\n",
       "      <td>0.000000</td>\n",
       "      <td>5</td>\n",
       "      <td>object</td>\n",
       "    </tr>\n",
       "    <tr>\n",
       "      <th>32</th>\n",
       "      <td>A qué está atado el bono</td>\n",
       "      <td>0</td>\n",
       "      <td>0.000000</td>\n",
       "      <td>0</td>\n",
       "      <td>0.000000</td>\n",
       "      <td>215</td>\n",
       "      <td>object</td>\n",
       "    </tr>\n",
       "    <tr>\n",
       "      <th>33</th>\n",
       "      <td>¿Tuviste ajustes por inflación en 2018?</td>\n",
       "      <td>0</td>\n",
       "      <td>0.000000</td>\n",
       "      <td>0</td>\n",
       "      <td>0.000000</td>\n",
       "      <td>4</td>\n",
       "      <td>object</td>\n",
       "    </tr>\n",
       "    <tr>\n",
       "      <th>34</th>\n",
       "      <td>¿De qué % fue el ajuste?</td>\n",
       "      <td>0</td>\n",
       "      <td>0.000000</td>\n",
       "      <td>946</td>\n",
       "      <td>0.211066</td>\n",
       "      <td>104</td>\n",
       "      <td>float64</td>\n",
       "    </tr>\n",
       "    <tr>\n",
       "      <th>35</th>\n",
       "      <td>¿En qué mes fue el último ajuste?</td>\n",
       "      <td>0</td>\n",
       "      <td>0.000000</td>\n",
       "      <td>832</td>\n",
       "      <td>0.185631</td>\n",
       "      <td>13</td>\n",
       "      <td>int64</td>\n",
       "    </tr>\n",
       "    <tr>\n",
       "      <th>36</th>\n",
       "      <td>¿Sufriste o presenciaste situaciones de violen...</td>\n",
       "      <td>91</td>\n",
       "      <td>0.020303</td>\n",
       "      <td>0</td>\n",
       "      <td>0.000000</td>\n",
       "      <td>3</td>\n",
       "      <td>object</td>\n",
       "    </tr>\n",
       "    <tr>\n",
       "      <th>37</th>\n",
       "      <td>Orientación sexual</td>\n",
       "      <td>155</td>\n",
       "      <td>0.034583</td>\n",
       "      <td>0</td>\n",
       "      <td>0.000000</td>\n",
       "      <td>45</td>\n",
       "      <td>object</td>\n",
       "    </tr>\n",
       "    <tr>\n",
       "      <th>38</th>\n",
       "      <td>¿Tenés algún tipo de discapacidad?</td>\n",
       "      <td>4184</td>\n",
       "      <td>0.933512</td>\n",
       "      <td>0</td>\n",
       "      <td>0.000000</td>\n",
       "      <td>57</td>\n",
       "      <td>object</td>\n",
       "    </tr>\n",
       "    <tr>\n",
       "      <th>39</th>\n",
       "      <td>¿Sentís que esto te dificultó el conseguir tra...</td>\n",
       "      <td>2365</td>\n",
       "      <td>0.527666</td>\n",
       "      <td>0</td>\n",
       "      <td>0.000000</td>\n",
       "      <td>2</td>\n",
       "      <td>object</td>\n",
       "    </tr>\n",
       "    <tr>\n",
       "      <th>40</th>\n",
       "      <td>¿A qué eventos de tecnología asististe en el ú...</td>\n",
       "      <td>2742</td>\n",
       "      <td>0.611780</td>\n",
       "      <td>0</td>\n",
       "      <td>0.000000</td>\n",
       "      <td>1110</td>\n",
       "      <td>object</td>\n",
       "    </tr>\n",
       "    <tr>\n",
       "      <th>41</th>\n",
       "      <td>Cantidad de empleados</td>\n",
       "      <td>0</td>\n",
       "      <td>0.000000</td>\n",
       "      <td>0</td>\n",
       "      <td>0.000000</td>\n",
       "      <td>10</td>\n",
       "      <td>object</td>\n",
       "    </tr>\n",
       "    <tr>\n",
       "      <th>42</th>\n",
       "      <td>Actividad principal</td>\n",
       "      <td>0</td>\n",
       "      <td>0.000000</td>\n",
       "      <td>0</td>\n",
       "      <td>0.000000</td>\n",
       "      <td>3</td>\n",
       "      <td>object</td>\n",
       "    </tr>\n",
       "    <tr>\n",
       "      <th>43</th>\n",
       "      <td>¿La recomendás como un buen lugar para trabajar?</td>\n",
       "      <td>0</td>\n",
       "      <td>0.000000</td>\n",
       "      <td>0</td>\n",
       "      <td>0.000000</td>\n",
       "      <td>10</td>\n",
       "      <td>int64</td>\n",
       "    </tr>\n",
       "    <tr>\n",
       "      <th>44</th>\n",
       "      <td>¿Cómo calificás las políticas de diversidad e ...</td>\n",
       "      <td>0</td>\n",
       "      <td>0.000000</td>\n",
       "      <td>0</td>\n",
       "      <td>0.000000</td>\n",
       "      <td>10</td>\n",
       "      <td>int64</td>\n",
       "    </tr>\n",
       "    <tr>\n",
       "      <th>45</th>\n",
       "      <td>¿A cuántos kilómetros de tu casa queda la ofic...</td>\n",
       "      <td>0</td>\n",
       "      <td>0.000000</td>\n",
       "      <td>48</td>\n",
       "      <td>0.010710</td>\n",
       "      <td>127</td>\n",
       "      <td>float64</td>\n",
       "    </tr>\n",
       "    <tr>\n",
       "      <th>46</th>\n",
       "      <td>Beneficios extra</td>\n",
       "      <td>0</td>\n",
       "      <td>0.000000</td>\n",
       "      <td>0</td>\n",
       "      <td>0.000000</td>\n",
       "      <td>2123</td>\n",
       "      <td>object</td>\n",
       "    </tr>\n",
       "  </tbody>\n",
       "</table>\n",
       "</div>"
      ],
      "text/plain": [
       "                                             variable  q_nan  ...  unique     type\n",
       "0                                       Me identifico      0  ...       3   object\n",
       "1                                               Tengo      0  ...      58    int64\n",
       "2                              Dónde estás trabajando      0  ...      25   object\n",
       "3                                 Años de experiencia      0  ...      52  float64\n",
       "4                           Años en la empresa actual      0  ...      48  float64\n",
       "5                            Años en el puesto actual      0  ...      39  float64\n",
       "6                                     ¿Gente a cargo?      0  ...      47    int64\n",
       "7                         Nivel de estudios alcanzado      0  ...       7   object\n",
       "8                                              Estado      0  ...       3   object\n",
       "9                                             Carrera    554  ...    1485   object\n",
       "10                                        Universidad    812  ...    1056   object\n",
       "11               Realizaste cursos de especialización      0  ...       7   object\n",
       "12               ¿Contribuís a proyectos open source?      0  ...       2   object\n",
       "13                            ¿Programás como hobbie?      0  ...       2   object\n",
       "14                                         Trabajo de      0  ...     443   object\n",
       "15                                        Plataformas    777  ...     935   object\n",
       "16                          Lenguajes de programación    852  ...    1391   object\n",
       "17               Frameworks, herramientas y librerías   2084  ...     646   object\n",
       "18                                     Bases de datos   1116  ...     923   object\n",
       "19                                       QA / Testing   3724  ...     188   object\n",
       "20                                               IDEs   1369  ...     955   object\n",
       "21        ¿Qué SO usás en tu laptop/PC para trabajar?      0  ...       4   object\n",
       "22                                  ¿Y en tu celular?      0  ...       4   object\n",
       "23                                   ¿Tenés guardias?      0  ...       3   object\n",
       "24                          Cuánto cobrás por guardia      0  ...     119  float64\n",
       "25                         ¿Porcentaje, bruto o neto?      0  ...       3   object\n",
       "26                                   Tipo de contrato      0  ...       5   object\n",
       "27         Salario mensual BRUTO (en tu moneda local)      0  ...     996  float64\n",
       "28          Salario mensual NETO (en tu moneda local)    182  ...     934  float64\n",
       "29             ¿Qué tan conforme estás con tu sueldo?      0  ...       4    int64\n",
       "30  Cómo creés que está tu sueldo con respecto al ...      0  ...       4    int64\n",
       "31                         Recibís algún tipo de bono      0  ...       5   object\n",
       "32                           A qué está atado el bono      0  ...     215   object\n",
       "33            ¿Tuviste ajustes por inflación en 2018?      0  ...       4   object\n",
       "34                           ¿De qué % fue el ajuste?      0  ...     104  float64\n",
       "35                  ¿En qué mes fue el último ajuste?      0  ...      13    int64\n",
       "36  ¿Sufriste o presenciaste situaciones de violen...     91  ...       3   object\n",
       "37                                 Orientación sexual    155  ...      45   object\n",
       "38                 ¿Tenés algún tipo de discapacidad?   4184  ...      57   object\n",
       "39  ¿Sentís que esto te dificultó el conseguir tra...   2365  ...       2   object\n",
       "40  ¿A qué eventos de tecnología asististe en el ú...   2742  ...    1110   object\n",
       "41                              Cantidad de empleados      0  ...      10   object\n",
       "42                                Actividad principal      0  ...       3   object\n",
       "43   ¿La recomendás como un buen lugar para trabajar?      0  ...      10    int64\n",
       "44  ¿Cómo calificás las políticas de diversidad e ...      0  ...      10    int64\n",
       "45  ¿A cuántos kilómetros de tu casa queda la ofic...      0  ...     127  float64\n",
       "46                                   Beneficios extra      0  ...    2123   object\n",
       "\n",
       "[47 rows x 7 columns]"
      ]
     },
     "execution_count": 50,
     "metadata": {
      "tags": []
     },
     "output_type": "execute_result"
    }
   ],
   "source": [
    "pd.set_option('max_rows', 100)\n",
    "status(data)"
   ]
  },
  {
   "cell_type": "code",
   "execution_count": null,
   "metadata": {
    "colab": {
     "base_uri": "https://localhost:8080/",
     "height": 678
    },
    "id": "JprFufSUvgHq",
    "outputId": "d9aab743-2a55-4c2d-d038-fb0375191bd7"
   },
   "outputs": [
    {
     "data": {
      "text/html": [
       "<div>\n",
       "<style scoped>\n",
       "    .dataframe tbody tr th:only-of-type {\n",
       "        vertical-align: middle;\n",
       "    }\n",
       "\n",
       "    .dataframe tbody tr th {\n",
       "        vertical-align: top;\n",
       "    }\n",
       "\n",
       "    .dataframe thead th {\n",
       "        text-align: right;\n",
       "    }\n",
       "</style>\n",
       "<table border=\"1\" class=\"dataframe\">\n",
       "  <thead>\n",
       "    <tr style=\"text-align: right;\">\n",
       "      <th></th>\n",
       "      <th>Me identifico</th>\n",
       "      <th>Tengo</th>\n",
       "      <th>Dónde estás trabajando</th>\n",
       "      <th>Años de experiencia</th>\n",
       "      <th>Años en la empresa actual</th>\n",
       "      <th>Años en el puesto actual</th>\n",
       "      <th>¿Gente a cargo?</th>\n",
       "      <th>Nivel de estudios alcanzado</th>\n",
       "      <th>Estado</th>\n",
       "      <th>Carrera</th>\n",
       "      <th>Universidad</th>\n",
       "      <th>Realizaste cursos de especialización</th>\n",
       "      <th>¿Contribuís a proyectos open source?</th>\n",
       "      <th>¿Programás como hobbie?</th>\n",
       "      <th>Trabajo de</th>\n",
       "      <th>Plataformas</th>\n",
       "      <th>Lenguajes de programación</th>\n",
       "      <th>Frameworks, herramientas y librerías</th>\n",
       "      <th>Bases de datos</th>\n",
       "      <th>QA / Testing</th>\n",
       "      <th>IDEs</th>\n",
       "      <th>¿Qué SO usás en tu laptop/PC para trabajar?</th>\n",
       "      <th>¿Y en tu celular?</th>\n",
       "      <th>¿Tenés guardias?</th>\n",
       "      <th>Cuánto cobrás por guardia</th>\n",
       "      <th>¿Porcentaje, bruto o neto?</th>\n",
       "      <th>Tipo de contrato</th>\n",
       "      <th>Salario mensual BRUTO (en tu moneda local)</th>\n",
       "      <th>Salario mensual NETO (en tu moneda local)</th>\n",
       "      <th>¿Qué tan conforme estás con tu sueldo?</th>\n",
       "      <th>Cómo creés que está tu sueldo con respecto al último semestre</th>\n",
       "      <th>Recibís algún tipo de bono</th>\n",
       "      <th>A qué está atado el bono</th>\n",
       "      <th>¿Tuviste ajustes por inflación en 2018?</th>\n",
       "      <th>¿De qué % fue el ajuste?</th>\n",
       "      <th>¿En qué mes fue el último ajuste?</th>\n",
       "      <th>¿Sufriste o presenciaste situaciones de violencia laboral?</th>\n",
       "      <th>Orientación sexual</th>\n",
       "      <th>¿Tenés algún tipo de discapacidad?</th>\n",
       "      <th>¿Sentís que esto te dificultó el conseguir trabajo?</th>\n",
       "      <th>¿A qué eventos de tecnología asististe en el último año?</th>\n",
       "      <th>Cantidad de empleados</th>\n",
       "      <th>Actividad principal</th>\n",
       "      <th>¿La recomendás como un buen lugar para trabajar?</th>\n",
       "      <th>¿Cómo calificás las políticas de diversidad e inclusión?</th>\n",
       "      <th>¿A cuántos kilómetros de tu casa queda la oficina?</th>\n",
       "      <th>Beneficios extra</th>\n",
       "    </tr>\n",
       "  </thead>\n",
       "  <tbody>\n",
       "    <tr>\n",
       "      <th>0</th>\n",
       "      <td>Hombre</td>\n",
       "      <td>22</td>\n",
       "      <td>Catamarca</td>\n",
       "      <td>2.0</td>\n",
       "      <td>1.0</td>\n",
       "      <td>1.0</td>\n",
       "      <td>0</td>\n",
       "      <td>Universitario</td>\n",
       "      <td>En curso</td>\n",
       "      <td>ING informática</td>\n",
       "      <td>Unca</td>\n",
       "      <td>Sí, de forma particular, Sí, los pagó un emple...</td>\n",
       "      <td>No</td>\n",
       "      <td>Sí</td>\n",
       "      <td>Developer</td>\n",
       "      <td>Linux</td>\n",
       "      <td>HTML, Javascript, PHP, Python</td>\n",
       "      <td>Django, Toba Framework</td>\n",
       "      <td>MySQL, PostgreSQL</td>\n",
       "      <td>Selenium</td>\n",
       "      <td>Atom</td>\n",
       "      <td>Linux</td>\n",
       "      <td>Android</td>\n",
       "      <td>No</td>\n",
       "      <td>0.0</td>\n",
       "      <td>Bruto</td>\n",
       "      <td>Full-Time</td>\n",
       "      <td>35000.0</td>\n",
       "      <td>33000.0</td>\n",
       "      <td>2</td>\n",
       "      <td>3</td>\n",
       "      <td>Menos de un sueldo</td>\n",
       "      <td>Mix de las anteriores</td>\n",
       "      <td>Dos</td>\n",
       "      <td>25.0</td>\n",
       "      <td>5</td>\n",
       "      <td>Jamás</td>\n",
       "      <td>Heterosexual</td>\n",
       "      <td>NaN</td>\n",
       "      <td>NaN</td>\n",
       "      <td>NaN</td>\n",
       "      <td>1001-2000</td>\n",
       "      <td>Producto basado en Software</td>\n",
       "      <td>8</td>\n",
       "      <td>9</td>\n",
       "      <td>2.0</td>\n",
       "      <td>Capacitaciones y/o cursos</td>\n",
       "    </tr>\n",
       "    <tr>\n",
       "      <th>1</th>\n",
       "      <td>Hombre</td>\n",
       "      <td>23</td>\n",
       "      <td>Catamarca</td>\n",
       "      <td>2.0</td>\n",
       "      <td>1.0</td>\n",
       "      <td>1.0</td>\n",
       "      <td>0</td>\n",
       "      <td>Secundario</td>\n",
       "      <td>Completado</td>\n",
       "      <td>Ing informática</td>\n",
       "      <td>UNCa</td>\n",
       "      <td>Sí, de forma particular</td>\n",
       "      <td>No</td>\n",
       "      <td>Sí</td>\n",
       "      <td>Developer, SysAdmin y Redes</td>\n",
       "      <td>Linux, VMWare, Proxmox, Mikrotik, Cisco</td>\n",
       "      <td>Bash/Shell, CSS, HTML, Javascript, PHP, Python...</td>\n",
       "      <td>Cordova, Django, Node.js, React.js, WordPress,...</td>\n",
       "      <td>Informix, MariaDB, MongoDB, MySQL, PostgreSQL</td>\n",
       "      <td>Selenium</td>\n",
       "      <td>Atom, Nano</td>\n",
       "      <td>Linux</td>\n",
       "      <td>Android</td>\n",
       "      <td>No</td>\n",
       "      <td>0.0</td>\n",
       "      <td>Porcentaje de mi sueldo</td>\n",
       "      <td>Part-Time</td>\n",
       "      <td>25000.0</td>\n",
       "      <td>22000.0</td>\n",
       "      <td>2</td>\n",
       "      <td>1</td>\n",
       "      <td>Un sueldo</td>\n",
       "      <td>Mix de las anteriores</td>\n",
       "      <td>Uno</td>\n",
       "      <td>22.0</td>\n",
       "      <td>12</td>\n",
       "      <td>Jamás</td>\n",
       "      <td>Heterosexual</td>\n",
       "      <td>NaN</td>\n",
       "      <td>NaN</td>\n",
       "      <td>Charlas online</td>\n",
       "      <td>51-100</td>\n",
       "      <td>Producto basado en Software</td>\n",
       "      <td>8</td>\n",
       "      <td>10</td>\n",
       "      <td>2.0</td>\n",
       "      <td>Capacitaciones y/o cursos, Licencia de paterni...</td>\n",
       "    </tr>\n",
       "    <tr>\n",
       "      <th>2</th>\n",
       "      <td>Mujer</td>\n",
       "      <td>35</td>\n",
       "      <td>Chaco</td>\n",
       "      <td>8.0</td>\n",
       "      <td>7.0</td>\n",
       "      <td>2.0</td>\n",
       "      <td>2</td>\n",
       "      <td>Posgrado</td>\n",
       "      <td>En curso</td>\n",
       "      <td>MTI</td>\n",
       "      <td>Universidad del Nordeste</td>\n",
       "      <td>Sí, de forma particular, Sí, los pagó un emple...</td>\n",
       "      <td>Sí</td>\n",
       "      <td>Sí</td>\n",
       "      <td>Developer</td>\n",
       "      <td>NaN</td>\n",
       "      <td>.NET, R</td>\n",
       "      <td>.NET Core, shiny, entre otras librerías de R</td>\n",
       "      <td>MSSQL</td>\n",
       "      <td>NaN</td>\n",
       "      <td>RStudio, Sublime Text, Visual Studio</td>\n",
       "      <td>Windows</td>\n",
       "      <td>Android</td>\n",
       "      <td>Sí, pasiva</td>\n",
       "      <td>0.0</td>\n",
       "      <td>Neto</td>\n",
       "      <td>Full-Time</td>\n",
       "      <td>50000.0</td>\n",
       "      <td>45000.0</td>\n",
       "      <td>2</td>\n",
       "      <td>2</td>\n",
       "      <td>De uno a tres sueldos</td>\n",
       "      <td>Performance de la compañía</td>\n",
       "      <td>Dos</td>\n",
       "      <td>4.0</td>\n",
       "      <td>10</td>\n",
       "      <td>En mi trabajo actual</td>\n",
       "      <td>dgsdg</td>\n",
       "      <td>NaN</td>\n",
       "      <td>No</td>\n",
       "      <td>varios</td>\n",
       "      <td>201-500</td>\n",
       "      <td>Otras industrias</td>\n",
       "      <td>4</td>\n",
       "      <td>4</td>\n",
       "      <td>0.2</td>\n",
       "      <td>Capacitaciones y/o cursos, Licencia de paterni...</td>\n",
       "    </tr>\n",
       "    <tr>\n",
       "      <th>3</th>\n",
       "      <td>Hombre</td>\n",
       "      <td>41</td>\n",
       "      <td>Chaco</td>\n",
       "      <td>20.0</td>\n",
       "      <td>2.0</td>\n",
       "      <td>10.0</td>\n",
       "      <td>0</td>\n",
       "      <td>Universitario</td>\n",
       "      <td>Completado</td>\n",
       "      <td>Lic en sistemas</td>\n",
       "      <td>Uba / CAECE</td>\n",
       "      <td>Sí, los pagó un empleador</td>\n",
       "      <td>No</td>\n",
       "      <td>No</td>\n",
       "      <td>Developer</td>\n",
       "      <td>NaN</td>\n",
       "      <td>.NET, C#, CSS, HTML, Javascript, TypeScript</td>\n",
       "      <td>Angular</td>\n",
       "      <td>MySQL</td>\n",
       "      <td>NaN</td>\n",
       "      <td>Visual Studio, Vs code</td>\n",
       "      <td>Mac OS X</td>\n",
       "      <td>Android</td>\n",
       "      <td>No</td>\n",
       "      <td>0.0</td>\n",
       "      <td>Bruto</td>\n",
       "      <td>Freelance</td>\n",
       "      <td>70000.0</td>\n",
       "      <td>65000.0</td>\n",
       "      <td>3</td>\n",
       "      <td>2</td>\n",
       "      <td>No</td>\n",
       "      <td>No recibo bono</td>\n",
       "      <td>Más de dos</td>\n",
       "      <td>40.0</td>\n",
       "      <td>10</td>\n",
       "      <td>Jamás</td>\n",
       "      <td>Heterosexual</td>\n",
       "      <td>NaN</td>\n",
       "      <td>NaN</td>\n",
       "      <td>Ninguno</td>\n",
       "      <td>1-10</td>\n",
       "      <td>Servicios / Consultoría de Software / Digital</td>\n",
       "      <td>5</td>\n",
       "      <td>1</td>\n",
       "      <td>-1.0</td>\n",
       "      <td>Horarios flexibles, Vacaciones flexibles (adic...</td>\n",
       "    </tr>\n",
       "    <tr>\n",
       "      <th>4</th>\n",
       "      <td>Hombre</td>\n",
       "      <td>35</td>\n",
       "      <td>Chaco</td>\n",
       "      <td>5.0</td>\n",
       "      <td>3.0</td>\n",
       "      <td>2.0</td>\n",
       "      <td>0</td>\n",
       "      <td>Universitario</td>\n",
       "      <td>Completado</td>\n",
       "      <td>Analisis en Sistemas</td>\n",
       "      <td>UTN</td>\n",
       "      <td>Sí, los pagó un empleador</td>\n",
       "      <td>No</td>\n",
       "      <td>No</td>\n",
       "      <td>Product Manager</td>\n",
       "      <td>Google Cloud Platform/App Engine, Linux</td>\n",
       "      <td>NaN</td>\n",
       "      <td>NaN</td>\n",
       "      <td>MySQL</td>\n",
       "      <td>NaN</td>\n",
       "      <td>NaN</td>\n",
       "      <td>Linux</td>\n",
       "      <td>Android</td>\n",
       "      <td>No</td>\n",
       "      <td>0.0</td>\n",
       "      <td>Neto</td>\n",
       "      <td>Full-Time</td>\n",
       "      <td>35000.0</td>\n",
       "      <td>28780.0</td>\n",
       "      <td>2</td>\n",
       "      <td>2</td>\n",
       "      <td>No</td>\n",
       "      <td>No recibo bono</td>\n",
       "      <td>Uno</td>\n",
       "      <td>10.0</td>\n",
       "      <td>10</td>\n",
       "      <td>En mi trabajo actual</td>\n",
       "      <td>Heterosexual</td>\n",
       "      <td>NaN</td>\n",
       "      <td>No</td>\n",
       "      <td>NaN</td>\n",
       "      <td>501-1000</td>\n",
       "      <td>Producto basado en Software</td>\n",
       "      <td>8</td>\n",
       "      <td>8</td>\n",
       "      <td>1.0</td>\n",
       "      <td>Capacitaciones y/o cursos, Clases de idiomas, ...</td>\n",
       "    </tr>\n",
       "  </tbody>\n",
       "</table>\n",
       "</div>"
      ],
      "text/plain": [
       "  Me identifico  ...                                   Beneficios extra\n",
       "0        Hombre  ...                          Capacitaciones y/o cursos\n",
       "1        Hombre  ...  Capacitaciones y/o cursos, Licencia de paterni...\n",
       "2         Mujer  ...  Capacitaciones y/o cursos, Licencia de paterni...\n",
       "3        Hombre  ...  Horarios flexibles, Vacaciones flexibles (adic...\n",
       "4        Hombre  ...  Capacitaciones y/o cursos, Clases de idiomas, ...\n",
       "\n",
       "[5 rows x 47 columns]"
      ]
     },
     "execution_count": 8,
     "metadata": {
      "tags": []
     },
     "output_type": "execute_result"
    }
   ],
   "source": [
    "data.head()"
   ]
  },
  {
   "cell_type": "code",
   "execution_count": null,
   "metadata": {
    "id": "xH18-h73vbPj"
   },
   "outputs": [],
   "source": [
    "#d_insp.score.hist()"
   ]
  },
  {
   "cell_type": "markdown",
   "metadata": {
    "id": "P-3MPgKQI0no"
   },
   "source": [
    "̇¿Cómo usar `funpymodeling`? \n",
    "https://www.youtube.com/watch?v=1wwQ9mWxrVE"
   ]
  },
  {
   "cell_type": "markdown",
   "metadata": {
    "id": "CwpcWNKmDJBl"
   },
   "source": [
    "### 3) Preparación de datos\n",
    "\n"
   ]
  },
  {
   "cell_type": "code",
   "execution_count": null,
   "metadata": {
    "id": "ZRD6c0cd1aV8"
   },
   "outputs": [],
   "source": [
    "input='Trabajo de'\n",
    "target='Salario mensual BRUTO (en tu moneda local)'\n",
    "data_x=data[[input]]\n",
    "\n",
    "# Output:\n",
    "from sklearn.preprocessing import StandardScaler\n",
    "scaler = StandardScaler()\n",
    "\n",
    "#data[[target]]\n",
    "data_y=scaler.fit_transform(data[[target]])\n",
    "#data_y=data[[target]]"
   ]
  },
  {
   "cell_type": "code",
   "execution_count": null,
   "metadata": {
    "colab": {
     "base_uri": "https://localhost:8080/",
     "height": 81
    },
    "id": "bqP3S_Y3rImv",
    "outputId": "bc147583-6f67-421c-bd1d-e15643e9abed"
   },
   "outputs": [
    {
     "data": {
      "text/html": [
       "<div>\n",
       "<style scoped>\n",
       "    .dataframe tbody tr th:only-of-type {\n",
       "        vertical-align: middle;\n",
       "    }\n",
       "\n",
       "    .dataframe tbody tr th {\n",
       "        vertical-align: top;\n",
       "    }\n",
       "\n",
       "    .dataframe thead th {\n",
       "        text-align: right;\n",
       "    }\n",
       "</style>\n",
       "<table border=\"1\" class=\"dataframe\">\n",
       "  <thead>\n",
       "    <tr style=\"text-align: right;\">\n",
       "      <th></th>\n",
       "      <th>variable</th>\n",
       "      <th>mean</th>\n",
       "      <th>std_dev</th>\n",
       "      <th>variation_coef</th>\n",
       "      <th>p_0.01</th>\n",
       "      <th>p_0.05</th>\n",
       "      <th>p_0.25</th>\n",
       "      <th>p_0.5</th>\n",
       "      <th>p_0.75</th>\n",
       "      <th>p_0.95</th>\n",
       "      <th>p_0.99</th>\n",
       "    </tr>\n",
       "  </thead>\n",
       "  <tbody>\n",
       "    <tr>\n",
       "      <th>0</th>\n",
       "      <td>Salario mensual BRUTO (en tu moneda local)</td>\n",
       "      <td>66708.338151</td>\n",
       "      <td>387420.626264</td>\n",
       "      <td>5.807679</td>\n",
       "      <td>31.8898</td>\n",
       "      <td>14500.0</td>\n",
       "      <td>32508.25</td>\n",
       "      <td>49000.0</td>\n",
       "      <td>70000.0</td>\n",
       "      <td>137000.0</td>\n",
       "      <td>250000.0</td>\n",
       "    </tr>\n",
       "  </tbody>\n",
       "</table>\n",
       "</div>"
      ],
      "text/plain": [
       "                                     variable          mean  ...    p_0.95    p_0.99\n",
       "0  Salario mensual BRUTO (en tu moneda local)  66708.338151  ...  137000.0  250000.0\n",
       "\n",
       "[1 rows x 11 columns]"
      ]
     },
     "execution_count": 53,
     "metadata": {
      "tags": []
     },
     "output_type": "execute_result"
    }
   ],
   "source": [
    "profiling_num(data[[target]])"
   ]
  },
  {
   "cell_type": "code",
   "execution_count": null,
   "metadata": {
    "colab": {
     "base_uri": "https://localhost:8080/",
     "height": 81
    },
    "id": "AFIRTgQJ_eSP",
    "outputId": "20eaedac-61b1-4bb0-b882-0453d391910f"
   },
   "outputs": [
    {
     "data": {
      "text/html": [
       "<div>\n",
       "<style scoped>\n",
       "    .dataframe tbody tr th:only-of-type {\n",
       "        vertical-align: middle;\n",
       "    }\n",
       "\n",
       "    .dataframe tbody tr th {\n",
       "        vertical-align: top;\n",
       "    }\n",
       "\n",
       "    .dataframe thead th {\n",
       "        text-align: right;\n",
       "    }\n",
       "</style>\n",
       "<table border=\"1\" class=\"dataframe\">\n",
       "  <thead>\n",
       "    <tr style=\"text-align: right;\">\n",
       "      <th></th>\n",
       "      <th>variable</th>\n",
       "      <th>mean</th>\n",
       "      <th>std_dev</th>\n",
       "      <th>variation_coef</th>\n",
       "      <th>p_0.01</th>\n",
       "      <th>p_0.05</th>\n",
       "      <th>p_0.25</th>\n",
       "      <th>p_0.5</th>\n",
       "      <th>p_0.75</th>\n",
       "      <th>p_0.95</th>\n",
       "      <th>p_0.99</th>\n",
       "    </tr>\n",
       "  </thead>\n",
       "  <tbody>\n",
       "    <tr>\n",
       "      <th>0</th>\n",
       "      <td>0</td>\n",
       "      <td>1.117159e-17</td>\n",
       "      <td>1.000112</td>\n",
       "      <td>8.952277e+16</td>\n",
       "      <td>-0.172123</td>\n",
       "      <td>-0.134774</td>\n",
       "      <td>-0.088286</td>\n",
       "      <td>-0.045713</td>\n",
       "      <td>0.008497</td>\n",
       "      <td>0.181455</td>\n",
       "      <td>0.47316</td>\n",
       "    </tr>\n",
       "  </tbody>\n",
       "</table>\n",
       "</div>"
      ],
      "text/plain": [
       "   variable          mean   std_dev  ...    p_0.75    p_0.95   p_0.99\n",
       "0         0  1.117159e-17  1.000112  ...  0.008497  0.181455  0.47316\n",
       "\n",
       "[1 rows x 11 columns]"
      ]
     },
     "execution_count": 54,
     "metadata": {
      "tags": []
     },
     "output_type": "execute_result"
    }
   ],
   "source": [
    "profiling_num(data_y)"
   ]
  },
  {
   "cell_type": "code",
   "execution_count": null,
   "metadata": {
    "id": "cqCsHKE1_Qz1"
   },
   "outputs": [],
   "source": [
    "#data_y=np.where(data[[target]] > 137000, 137000, data[[target]] )\n",
    "data_y=np.where(data_y >0.47316, 0.47316, data_y)"
   ]
  },
  {
   "cell_type": "code",
   "execution_count": null,
   "metadata": {
    "id": "IvU63CBdS1yN"
   },
   "outputs": [],
   "source": [
    "from sklearn.model_selection import train_test_split\n",
    "\n",
    "x_train_base, x_test_base, y_train, y_test = train_test_split(data_x, data_y, test_size=0.2)"
   ]
  },
  {
   "cell_type": "code",
   "execution_count": null,
   "metadata": {
    "colab": {
     "base_uri": "https://localhost:8080/",
     "height": 316
    },
    "id": "X3TWmr3cLKsM",
    "outputId": "0df2df04-f390-453d-fc86-c9e301628fd6"
   },
   "outputs": [
    {
     "data": {
      "text/plain": [
       "array([[<matplotlib.axes._subplots.AxesSubplot object at 0x7fb4ddf4f4e0>]],\n",
       "      dtype=object)"
      ]
     },
     "execution_count": 59,
     "metadata": {
      "tags": []
     },
     "output_type": "execute_result"
    },
    {
     "data": {
      "image/png": "[encoded data removed]",
      "text/plain": [
       "<Figure size 432x288 with 1 Axes>"
      ]
     },
     "metadata": {
      "needs_background": "light",
      "tags": []
     },
     "output_type": "display_data"
    }
   ],
   "source": [
    "todf(y_train).hist()"
   ]
  },
  {
   "cell_type": "markdown",
   "metadata": {
    "id": "8p6UrYsqXkbl"
   },
   "source": [
    "### x) Enfoque 1: Hacer one hot encoding"
   ]
  },
  {
   "cell_type": "code",
   "execution_count": null,
   "metadata": {
    "id": "YwcdfD-206oQ"
   },
   "outputs": [],
   "source": [
    "x_train1=pd.get_dummies(x_train_base)\n",
    "\n",
    "x_test1=pd.get_dummies(x_test_base).reindex(columns = x_train1.columns).fillna(0)"
   ]
  },
  {
   "cell_type": "code",
   "execution_count": null,
   "metadata": {
    "colab": {
     "base_uri": "https://localhost:8080/",
     "height": 424
    },
    "id": "bwuR-cZYshuW",
    "outputId": "550b4165-e5c0-48e7-ee7a-861bf63e194e"
   },
   "outputs": [
    {
     "data": {
      "text/html": [
       "<div>\n",
       "<style scoped>\n",
       "    .dataframe tbody tr th:only-of-type {\n",
       "        vertical-align: middle;\n",
       "    }\n",
       "\n",
       "    .dataframe tbody tr th {\n",
       "        vertical-align: top;\n",
       "    }\n",
       "\n",
       "    .dataframe thead th {\n",
       "        text-align: right;\n",
       "    }\n",
       "</style>\n",
       "<table border=\"1\" class=\"dataframe\">\n",
       "  <thead>\n",
       "    <tr style=\"text-align: right;\">\n",
       "      <th></th>\n",
       "      <th>Trabajo de</th>\n",
       "    </tr>\n",
       "  </thead>\n",
       "  <tbody>\n",
       "    <tr>\n",
       "      <th>4423</th>\n",
       "      <td>telecobrador</td>\n",
       "    </tr>\n",
       "    <tr>\n",
       "      <th>3266</th>\n",
       "      <td>SysAdmin / DevOps / SRE</td>\n",
       "    </tr>\n",
       "    <tr>\n",
       "      <th>127</th>\n",
       "      <td>SysAdmin / DevOps / SRE</td>\n",
       "    </tr>\n",
       "    <tr>\n",
       "      <th>4276</th>\n",
       "      <td>HelpDesk</td>\n",
       "    </tr>\n",
       "    <tr>\n",
       "      <th>3185</th>\n",
       "      <td>SysAdmin / DevOps / SRE</td>\n",
       "    </tr>\n",
       "    <tr>\n",
       "      <th>...</th>\n",
       "      <td>...</td>\n",
       "    </tr>\n",
       "    <tr>\n",
       "      <th>237</th>\n",
       "      <td>Developer</td>\n",
       "    </tr>\n",
       "    <tr>\n",
       "      <th>1387</th>\n",
       "      <td>HelpDesk</td>\n",
       "    </tr>\n",
       "    <tr>\n",
       "      <th>4352</th>\n",
       "      <td>HelpDesk</td>\n",
       "    </tr>\n",
       "    <tr>\n",
       "      <th>3831</th>\n",
       "      <td>IT Soporte + SysAdmin</td>\n",
       "    </tr>\n",
       "    <tr>\n",
       "      <th>3589</th>\n",
       "      <td>Developer</td>\n",
       "    </tr>\n",
       "  </tbody>\n",
       "</table>\n",
       "<p>3585 rows × 1 columns</p>\n",
       "</div>"
      ],
      "text/plain": [
       "                   Trabajo de\n",
       "4423             telecobrador\n",
       "3266  SysAdmin / DevOps / SRE\n",
       "127   SysAdmin / DevOps / SRE\n",
       "4276                 HelpDesk\n",
       "3185  SysAdmin / DevOps / SRE\n",
       "...                       ...\n",
       "237                 Developer\n",
       "1387                 HelpDesk\n",
       "4352                 HelpDesk\n",
       "3831    IT Soporte + SysAdmin\n",
       "3589                Developer\n",
       "\n",
       "[3585 rows x 1 columns]"
      ]
     },
     "execution_count": 62,
     "metadata": {
      "tags": []
     },
     "output_type": "execute_result"
    }
   ],
   "source": [
    "x_train_base"
   ]
  },
  {
   "cell_type": "code",
   "execution_count": null,
   "metadata": {
    "colab": {
     "base_uri": "https://localhost:8080/",
     "height": 35
    },
    "id": "DDqipKZ45GYZ",
    "outputId": "76c03a07-0db1-4da3-ad60-c6c32e2ffd99"
   },
   "outputs": [
    {
     "data": {
      "text/plain": [
       "(3585, 355)"
      ]
     },
     "execution_count": 63,
     "metadata": {
      "tags": []
     },
     "output_type": "execute_result"
    }
   ],
   "source": [
    "x_train1.shape"
   ]
  },
  {
   "cell_type": "code",
   "execution_count": null,
   "metadata": {
    "id": "RZm1eBQQChDC"
   },
   "outputs": [],
   "source": [
    "# Carga de libs\n",
    "\n",
    "from keras.models import Sequential\n",
    "from keras.layers import Dense"
   ]
  },
  {
   "cell_type": "code",
   "execution_count": null,
   "metadata": {
    "colab": {
     "base_uri": "https://localhost:8080/",
     "height": 35
    },
    "id": "HBYQMOTvK2a9",
    "outputId": "3ef910af-82a2-4544-9ef0-d49837bad6d7"
   },
   "outputs": [
    {
     "data": {
      "text/plain": [
       "355"
      ]
     },
     "execution_count": 65,
     "metadata": {
      "tags": []
     },
     "output_type": "execute_result"
    }
   ],
   "source": [
    "_,in_shape=x_train1.shape\n",
    "in_shape"
   ]
  },
  {
   "cell_type": "code",
   "execution_count": null,
   "metadata": {
    "id": "_EHy_uwdCrSO"
   },
   "outputs": [],
   "source": [
    "model1 = Sequential()\n",
    "\n",
    "model1.add(Dense(128, input_dim=in_shape)) # input_dim son las variables de entrada\n",
    "model1.add(Dense(64, activation='relu'))\n",
    "model1.add(Dense(1, activation='linear'))  # linear: sale lo que entra"
   ]
  },
  {
   "cell_type": "markdown",
   "metadata": {
    "id": "29YZstzQt45A"
   },
   "source": [
    "#### Compilación del modelo:"
   ]
  },
  {
   "cell_type": "code",
   "execution_count": null,
   "metadata": {
    "id": "9ODch-OFCaW4"
   },
   "outputs": [],
   "source": [
    "model1.compile(optimizer='adam',\n",
    "              loss='MSE',\n",
    "              metrics='MAE')"
   ]
  },
  {
   "cell_type": "code",
   "execution_count": null,
   "metadata": {
    "colab": {
     "base_uri": "https://localhost:8080/",
     "height": 263
    },
    "id": "N3HQFIfTC1Qe",
    "outputId": "ab398a2a-5935-4dcd-bf33-95382203ba32"
   },
   "outputs": [
    {
     "name": "stdout",
     "output_type": "stream",
     "text": [
      "Model: \"sequential_2\"\n",
      "_________________________________________________________________\n",
      "Layer (type)                 Output Shape              Param #   \n",
      "=================================================================\n",
      "dense_6 (Dense)              (None, 128)               45568     \n",
      "_________________________________________________________________\n",
      "dense_7 (Dense)              (None, 64)                8256      \n",
      "_________________________________________________________________\n",
      "dense_8 (Dense)              (None, 1)                 65        \n",
      "=================================================================\n",
      "Total params: 53,889\n",
      "Trainable params: 53,889\n",
      "Non-trainable params: 0\n",
      "_________________________________________________________________\n"
     ]
    }
   ],
   "source": [
    "model1.summary()"
   ]
  },
  {
   "cell_type": "markdown",
   "metadata": {
    "id": "729JbhqIrkYR"
   },
   "source": [
    "### x) Fit del modelo! (entrenamiento)"
   ]
  },
  {
   "cell_type": "code",
   "execution_count": null,
   "metadata": {
    "colab": {
     "base_uri": "https://localhost:8080/",
     "height": 1000
    },
    "id": "WlhBjD5R4zLU",
    "outputId": "dad52799-407c-494b-9179-4117d70a2b94"
   },
   "outputs": [
    {
     "name": "stdout",
     "output_type": "stream",
     "text": [
      "Epoch 1/40\n",
      "1/1 [==============================] - 0s 196ms/step - loss: 0.0167 - MAE: 0.1053 - val_loss: 0.0121 - val_MAE: 0.0812\n",
      "Epoch 2/40\n",
      "1/1 [==============================] - 0s 20ms/step - loss: 0.0122 - MAE: 0.0811 - val_loss: 0.0114 - val_MAE: 0.0714\n",
      "Epoch 3/40\n",
      "1/1 [==============================] - 0s 19ms/step - loss: 0.0111 - MAE: 0.0702 - val_loss: 0.0116 - val_MAE: 0.0705\n",
      "Epoch 4/40\n",
      "1/1 [==============================] - 0s 19ms/step - loss: 0.0111 - MAE: 0.0679 - val_loss: 0.0114 - val_MAE: 0.0690\n",
      "Epoch 5/40\n",
      "1/1 [==============================] - 0s 30ms/step - loss: 0.0106 - MAE: 0.0657 - val_loss: 0.0107 - val_MAE: 0.0667\n",
      "Epoch 6/40\n",
      "1/1 [==============================] - 0s 22ms/step - loss: 0.0098 - MAE: 0.0631 - val_loss: 0.0101 - val_MAE: 0.0659\n",
      "Epoch 7/40\n",
      "1/1 [==============================] - 0s 19ms/step - loss: 0.0092 - MAE: 0.0620 - val_loss: 0.0099 - val_MAE: 0.0676\n",
      "Epoch 8/40\n",
      "1/1 [==============================] - 0s 19ms/step - loss: 0.0090 - MAE: 0.0634 - val_loss: 0.0101 - val_MAE: 0.0711\n",
      "Epoch 9/40\n",
      "1/1 [==============================] - 0s 19ms/step - loss: 0.0091 - MAE: 0.0664 - val_loss: 0.0104 - val_MAE: 0.0741\n",
      "Epoch 10/40\n",
      "1/1 [==============================] - 0s 19ms/step - loss: 0.0094 - MAE: 0.0690 - val_loss: 0.0106 - val_MAE: 0.0754\n",
      "Epoch 11/40\n",
      "1/1 [==============================] - 0s 19ms/step - loss: 0.0095 - MAE: 0.0700 - val_loss: 0.0105 - val_MAE: 0.0748\n",
      "Epoch 12/40\n",
      "1/1 [==============================] - 0s 19ms/step - loss: 0.0094 - MAE: 0.0691 - val_loss: 0.0104 - val_MAE: 0.0729\n",
      "Epoch 13/40\n",
      "1/1 [==============================] - 0s 19ms/step - loss: 0.0092 - MAE: 0.0670 - val_loss: 0.0102 - val_MAE: 0.0706\n",
      "Epoch 14/40\n",
      "1/1 [==============================] - 0s 21ms/step - loss: 0.0090 - MAE: 0.0646 - val_loss: 0.0100 - val_MAE: 0.0686\n",
      "Epoch 15/40\n",
      "1/1 [==============================] - 0s 20ms/step - loss: 0.0088 - MAE: 0.0624 - val_loss: 0.0100 - val_MAE: 0.0673\n",
      "Epoch 16/40\n",
      "1/1 [==============================] - 0s 19ms/step - loss: 0.0088 - MAE: 0.0610 - val_loss: 0.0100 - val_MAE: 0.0665\n",
      "Epoch 17/40\n",
      "1/1 [==============================] - 0s 19ms/step - loss: 0.0088 - MAE: 0.0602 - val_loss: 0.0100 - val_MAE: 0.0660\n",
      "Epoch 18/40\n",
      "1/1 [==============================] - 0s 20ms/step - loss: 0.0088 - MAE: 0.0597 - val_loss: 0.0099 - val_MAE: 0.0658\n",
      "Epoch 19/40\n",
      "1/1 [==============================] - 0s 21ms/step - loss: 0.0087 - MAE: 0.0595 - val_loss: 0.0098 - val_MAE: 0.0658\n",
      "Epoch 20/40\n",
      "1/1 [==============================] - 0s 19ms/step - loss: 0.0086 - MAE: 0.0595 - val_loss: 0.0097 - val_MAE: 0.0661\n",
      "Epoch 21/40\n",
      "1/1 [==============================] - 0s 19ms/step - loss: 0.0085 - MAE: 0.0598 - val_loss: 0.0096 - val_MAE: 0.0667\n",
      "Epoch 22/40\n",
      "1/1 [==============================] - 0s 19ms/step - loss: 0.0085 - MAE: 0.0604 - val_loss: 0.0097 - val_MAE: 0.0676\n",
      "Epoch 23/40\n",
      "1/1 [==============================] - 0s 20ms/step - loss: 0.0085 - MAE: 0.0612 - val_loss: 0.0097 - val_MAE: 0.0684\n",
      "Epoch 24/40\n",
      "1/1 [==============================] - 0s 23ms/step - loss: 0.0085 - MAE: 0.0619 - val_loss: 0.0097 - val_MAE: 0.0688\n",
      "Epoch 25/40\n",
      "1/1 [==============================] - 0s 20ms/step - loss: 0.0086 - MAE: 0.0623 - val_loss: 0.0098 - val_MAE: 0.0688\n",
      "Epoch 26/40\n",
      "1/1 [==============================] - 0s 20ms/step - loss: 0.0086 - MAE: 0.0621 - val_loss: 0.0097 - val_MAE: 0.0682\n",
      "Epoch 27/40\n",
      "1/1 [==============================] - 0s 22ms/step - loss: 0.0085 - MAE: 0.0615 - val_loss: 0.0097 - val_MAE: 0.0675\n",
      "Epoch 28/40\n",
      "1/1 [==============================] - 0s 20ms/step - loss: 0.0085 - MAE: 0.0607 - val_loss: 0.0097 - val_MAE: 0.0668\n",
      "Epoch 29/40\n",
      "1/1 [==============================] - 0s 19ms/step - loss: 0.0085 - MAE: 0.0599 - val_loss: 0.0097 - val_MAE: 0.0661\n",
      "Epoch 30/40\n",
      "1/1 [==============================] - 0s 22ms/step - loss: 0.0085 - MAE: 0.0592 - val_loss: 0.0097 - val_MAE: 0.0658\n",
      "Epoch 31/40\n",
      "1/1 [==============================] - 0s 20ms/step - loss: 0.0085 - MAE: 0.0588 - val_loss: 0.0097 - val_MAE: 0.0657\n",
      "Epoch 32/40\n",
      "1/1 [==============================] - 0s 21ms/step - loss: 0.0085 - MAE: 0.0587 - val_loss: 0.0097 - val_MAE: 0.0658\n",
      "Epoch 33/40\n",
      "1/1 [==============================] - 0s 20ms/step - loss: 0.0084 - MAE: 0.0587 - val_loss: 0.0096 - val_MAE: 0.0660\n",
      "Epoch 34/40\n",
      "1/1 [==============================] - 0s 28ms/step - loss: 0.0084 - MAE: 0.0589 - val_loss: 0.0096 - val_MAE: 0.0664\n",
      "Epoch 35/40\n",
      "1/1 [==============================] - 0s 27ms/step - loss: 0.0084 - MAE: 0.0592 - val_loss: 0.0096 - val_MAE: 0.0668\n",
      "Epoch 36/40\n",
      "1/1 [==============================] - 0s 19ms/step - loss: 0.0084 - MAE: 0.0596 - val_loss: 0.0096 - val_MAE: 0.0673\n",
      "Epoch 37/40\n",
      "1/1 [==============================] - 0s 20ms/step - loss: 0.0084 - MAE: 0.0600 - val_loss: 0.0097 - val_MAE: 0.0676\n",
      "Epoch 38/40\n",
      "1/1 [==============================] - 0s 25ms/step - loss: 0.0084 - MAE: 0.0602 - val_loss: 0.0097 - val_MAE: 0.0677\n",
      "Epoch 39/40\n",
      "1/1 [==============================] - 0s 22ms/step - loss: 0.0084 - MAE: 0.0603 - val_loss: 0.0097 - val_MAE: 0.0677\n",
      "Epoch 40/40\n",
      "1/1 [==============================] - 0s 20ms/step - loss: 0.0084 - MAE: 0.0602 - val_loss: 0.0097 - val_MAE: 0.0674\n"
     ]
    }
   ],
   "source": [
    "history1 = model1.fit(x_train1, y_train, epochs=40, batch_size=4096, validation_split=0.2)"
   ]
  },
  {
   "cell_type": "code",
   "execution_count": null,
   "metadata": {
    "id": "GcF5EgDjCPuS"
   },
   "outputs": [],
   "source": [
    "\n",
    "\n",
    "\n",
    "\n",
    "\n",
    "\n",
    "\n",
    "\n",
    "\n",
    "\n",
    "\n",
    "\n",
    "\n"
   ]
  },
  {
   "cell_type": "code",
   "execution_count": null,
   "metadata": {
    "id": "SUO6n8hhcOtD"
   },
   "outputs": [],
   "source": [
    "from plotly.subplots import make_subplots\n",
    "import plotly.graph_objects as go\n",
    "\n",
    "def plot_all(history, metric):\n",
    "  fig1 = go.Figure()\n",
    "  fig1.add_trace(go.Scattergl(y=history.history[metric], name='Train'))\n",
    "  fig1.add_trace(go.Scattergl(y=history.history['val_'+metric], name='Valid'))\n",
    "  fig1.update_layout(height=300, width=400,xaxis_title='Epoch', yaxis_title=metric)\n",
    "\n",
    "  fig2 = go.Figure()\n",
    "  fig2.add_trace(go.Scattergl(y=history.history['loss'], name='Train'))\n",
    "  fig2.add_trace(go.Scattergl(y=history.history['val_loss'], name='Valid'))\n",
    "  fig2.update_layout(height=300, width=400,xaxis_title='Epoch', yaxis_title='Loss')\n",
    "\n",
    "  return [fig1,fig2]"
   ]
  },
  {
   "cell_type": "code",
   "execution_count": null,
   "metadata": {
    "colab": {
     "base_uri": "https://localhost:8080/",
     "height": 617
    },
    "id": "7gk02PE3X97u",
    "outputId": "25f49d5f-ca5a-4a04-955f-005e20e1c3c2"
   },
   "outputs": [
    {
     "data": {
      "text/html": [
       "<html>\n",
       "<head><meta charset=\"utf-8\" /></head>\n",
       "<body>\n",
       "    <div>\n",
       "            <script src=\"https://cdnjs.cloudflare.com/ajax/libs/mathjax/2.7.5/MathJax.js?config=TeX-AMS-MML_SVG\"></script><script type=\"text/javascript\">if (window.MathJax) {MathJax.Hub.Config({SVG: {font: \"STIX-Web\"}});}</script>\n",
       "                <script type=\"text/javascript\">window.PlotlyConfig = {MathJaxConfig: 'local'};</script>\n",
       "        <script src=\"https://cdn.plot.ly/plotly-latest.min.js\"></script>    \n",
       "            <div id=\"522e59ce-b764-47c4-b04e-39f9bfcbd4df\" class=\"plotly-graph-div\" style=\"height:300px; width:400px;\"></div>\n",
       "            <script type=\"text/javascript\">\n",
       "                \n",
       "                    window.PLOTLYENV=window.PLOTLYENV || {};\n",
       "                    \n",
       "                if (document.getElementById(\"522e59ce-b764-47c4-b04e-39f9bfcbd4df\")) {\n",
       "                    Plotly.newPlot(\n",
       "                        '522e59ce-b764-47c4-b04e-39f9bfcbd4df',\n",
       "                        [{\"name\": \"Train\", \"type\": \"scattergl\", \"y\": [0.10533370077610016, 0.08113307505846024, 0.07018503546714783, 0.06791584193706512, 0.06571187824010849, 0.06306172162294388, 0.0619775764644146, 0.06343721598386765, 0.06643478572368622, 0.06900826841592789, 0.06999798119068146, 0.06910694390535355, 0.0670367106795311, 0.0645967498421669, 0.06244514882564545, 0.06098157912492752, 0.06015665829181671, 0.059729259461164474, 0.059503473341464996, 0.05947165563702583, 0.05976652726531029, 0.06041043996810913, 0.06123369559645653, 0.061945363879203796, 0.0622745007276535, 0.06210038438439369, 0.06150735914707184, 0.060667991638183594, 0.05985454097390175, 0.05918881669640541, 0.058807697147130966, 0.05868715047836304, 0.05874117091298103, 0.05893487483263016, 0.05923580005764961, 0.059630103409290314, 0.06000044569373131, 0.06024914234876633, 0.06031602993607521, 0.06019706651568413]}, {\"name\": \"Valid\", \"type\": \"scattergl\", \"y\": [0.08118594437837601, 0.07140978425741196, 0.07045748829841614, 0.06900209933519363, 0.06666265428066254, 0.0658528283238411, 0.06762434542179108, 0.07107485085725784, 0.07411838322877884, 0.07541406154632568, 0.07482176274061203, 0.07292556762695312, 0.07058317959308624, 0.06861153244972229, 0.06725192815065384, 0.06645551323890686, 0.06601344048976898, 0.06579341739416122, 0.06575387716293335, 0.06606169790029526, 0.06673558801412582, 0.0675903931260109, 0.06838692724704742, 0.0688319280743599, 0.0687510222196579, 0.0682460218667984, 0.06746920943260193, 0.06675449013710022, 0.06610780209302902, 0.0657629445195198, 0.06569594889879227, 0.06579476594924927, 0.06602439284324646, 0.0663805603981018, 0.06683789938688278, 0.0672772005200386, 0.06759629398584366, 0.06772799044847488, 0.06768055260181427, 0.06744678318500519]}],\n",
       "                        {\"height\": 300, \"template\": {\"data\": {\"bar\": [{\"error_x\": {\"color\": \"#2a3f5f\"}, \"error_y\": {\"color\": \"#2a3f5f\"}, \"marker\": {\"line\": {\"color\": \"#E5ECF6\", \"width\": 0.5}}, \"type\": \"bar\"}], \"barpolar\": [{\"marker\": {\"line\": {\"color\": \"#E5ECF6\", \"width\": 0.5}}, \"type\": \"barpolar\"}], \"carpet\": [{\"aaxis\": {\"endlinecolor\": \"#2a3f5f\", \"gridcolor\": \"white\", \"linecolor\": \"white\", \"minorgridcolor\": \"white\", \"startlinecolor\": \"#2a3f5f\"}, \"baxis\": {\"endlinecolor\": \"#2a3f5f\", \"gridcolor\": \"white\", \"linecolor\": \"white\", \"minorgridcolor\": \"white\", \"startlinecolor\": \"#2a3f5f\"}, \"type\": \"carpet\"}], \"choropleth\": [{\"colorbar\": {\"outlinewidth\": 0, \"ticks\": \"\"}, \"type\": \"choropleth\"}], \"contour\": [{\"colorbar\": {\"outlinewidth\": 0, \"ticks\": \"\"}, \"colorscale\": [[0.0, \"#0d0887\"], [0.1111111111111111, \"#46039f\"], [0.2222222222222222, \"#7201a8\"], [0.3333333333333333, \"#9c179e\"], [0.4444444444444444, \"#bd3786\"], [0.5555555555555556, \"#d8576b\"], [0.6666666666666666, \"#ed7953\"], [0.7777777777777778, \"#fb9f3a\"], [0.8888888888888888, \"#fdca26\"], [1.0, \"#f0f921\"]], \"type\": \"contour\"}], \"contourcarpet\": [{\"colorbar\": {\"outlinewidth\": 0, \"ticks\": \"\"}, \"type\": \"contourcarpet\"}], \"heatmap\": [{\"colorbar\": {\"outlinewidth\": 0, \"ticks\": \"\"}, \"colorscale\": [[0.0, \"#0d0887\"], [0.1111111111111111, \"#46039f\"], [0.2222222222222222, \"#7201a8\"], [0.3333333333333333, \"#9c179e\"], [0.4444444444444444, \"#bd3786\"], [0.5555555555555556, \"#d8576b\"], [0.6666666666666666, \"#ed7953\"], [0.7777777777777778, \"#fb9f3a\"], [0.8888888888888888, \"#fdca26\"], [1.0, \"#f0f921\"]], \"type\": \"heatmap\"}], \"heatmapgl\": [{\"colorbar\": {\"outlinewidth\": 0, \"ticks\": \"\"}, \"colorscale\": [[0.0, \"#0d0887\"], [0.1111111111111111, \"#46039f\"], [0.2222222222222222, \"#7201a8\"], [0.3333333333333333, \"#9c179e\"], [0.4444444444444444, \"#bd3786\"], [0.5555555555555556, \"#d8576b\"], [0.6666666666666666, \"#ed7953\"], [0.7777777777777778, \"#fb9f3a\"], [0.8888888888888888, \"#fdca26\"], [1.0, \"#f0f921\"]], \"type\": \"heatmapgl\"}], \"histogram\": [{\"marker\": {\"colorbar\": {\"outlinewidth\": 0, \"ticks\": \"\"}}, \"type\": \"histogram\"}], \"histogram2d\": [{\"colorbar\": {\"outlinewidth\": 0, \"ticks\": \"\"}, \"colorscale\": [[0.0, \"#0d0887\"], [0.1111111111111111, \"#46039f\"], [0.2222222222222222, \"#7201a8\"], [0.3333333333333333, \"#9c179e\"], [0.4444444444444444, \"#bd3786\"], [0.5555555555555556, \"#d8576b\"], [0.6666666666666666, \"#ed7953\"], [0.7777777777777778, \"#fb9f3a\"], [0.8888888888888888, \"#fdca26\"], [1.0, \"#f0f921\"]], \"type\": \"histogram2d\"}], \"histogram2dcontour\": [{\"colorbar\": {\"outlinewidth\": 0, \"ticks\": \"\"}, \"colorscale\": [[0.0, \"#0d0887\"], [0.1111111111111111, \"#46039f\"], [0.2222222222222222, \"#7201a8\"], [0.3333333333333333, \"#9c179e\"], [0.4444444444444444, \"#bd3786\"], [0.5555555555555556, \"#d8576b\"], [0.6666666666666666, \"#ed7953\"], [0.7777777777777778, \"#fb9f3a\"], [0.8888888888888888, \"#fdca26\"], [1.0, \"#f0f921\"]], \"type\": \"histogram2dcontour\"}], \"mesh3d\": [{\"colorbar\": {\"outlinewidth\": 0, \"ticks\": \"\"}, \"type\": \"mesh3d\"}], \"parcoords\": [{\"line\": {\"colorbar\": {\"outlinewidth\": 0, \"ticks\": \"\"}}, \"type\": \"parcoords\"}], \"pie\": [{\"automargin\": true, \"type\": \"pie\"}], \"scatter\": [{\"marker\": {\"colorbar\": {\"outlinewidth\": 0, \"ticks\": \"\"}}, \"type\": \"scatter\"}], \"scatter3d\": [{\"line\": {\"colorbar\": {\"outlinewidth\": 0, \"ticks\": \"\"}}, \"marker\": {\"colorbar\": {\"outlinewidth\": 0, \"ticks\": \"\"}}, \"type\": \"scatter3d\"}], \"scattercarpet\": [{\"marker\": {\"colorbar\": {\"outlinewidth\": 0, \"ticks\": \"\"}}, \"type\": \"scattercarpet\"}], \"scattergeo\": [{\"marker\": {\"colorbar\": {\"outlinewidth\": 0, \"ticks\": \"\"}}, \"type\": \"scattergeo\"}], \"scattergl\": [{\"marker\": {\"colorbar\": {\"outlinewidth\": 0, \"ticks\": \"\"}}, \"type\": \"scattergl\"}], \"scattermapbox\": [{\"marker\": {\"colorbar\": {\"outlinewidth\": 0, \"ticks\": \"\"}}, \"type\": \"scattermapbox\"}], \"scatterpolar\": [{\"marker\": {\"colorbar\": {\"outlinewidth\": 0, \"ticks\": \"\"}}, \"type\": \"scatterpolar\"}], \"scatterpolargl\": [{\"marker\": {\"colorbar\": {\"outlinewidth\": 0, \"ticks\": \"\"}}, \"type\": \"scatterpolargl\"}], \"scatterternary\": [{\"marker\": {\"colorbar\": {\"outlinewidth\": 0, \"ticks\": \"\"}}, \"type\": \"scatterternary\"}], \"surface\": [{\"colorbar\": {\"outlinewidth\": 0, \"ticks\": \"\"}, \"colorscale\": [[0.0, \"#0d0887\"], [0.1111111111111111, \"#46039f\"], [0.2222222222222222, \"#7201a8\"], [0.3333333333333333, \"#9c179e\"], [0.4444444444444444, \"#bd3786\"], [0.5555555555555556, \"#d8576b\"], [0.6666666666666666, \"#ed7953\"], [0.7777777777777778, \"#fb9f3a\"], [0.8888888888888888, \"#fdca26\"], [1.0, \"#f0f921\"]], \"type\": \"surface\"}], \"table\": [{\"cells\": {\"fill\": {\"color\": \"#EBF0F8\"}, \"line\": {\"color\": \"white\"}}, \"header\": {\"fill\": {\"color\": \"#C8D4E3\"}, \"line\": {\"color\": \"white\"}}, \"type\": \"table\"}]}, \"layout\": {\"annotationdefaults\": {\"arrowcolor\": \"#2a3f5f\", \"arrowhead\": 0, \"arrowwidth\": 1}, \"coloraxis\": {\"colorbar\": {\"outlinewidth\": 0, \"ticks\": \"\"}}, \"colorscale\": {\"diverging\": [[0, \"#8e0152\"], [0.1, \"#c51b7d\"], [0.2, \"#de77ae\"], [0.3, \"#f1b6da\"], [0.4, \"#fde0ef\"], [0.5, \"#f7f7f7\"], [0.6, \"#e6f5d0\"], [0.7, \"#b8e186\"], [0.8, \"#7fbc41\"], [0.9, \"#4d9221\"], [1, \"#276419\"]], \"sequential\": [[0.0, \"#0d0887\"], [0.1111111111111111, \"#46039f\"], [0.2222222222222222, \"#7201a8\"], [0.3333333333333333, \"#9c179e\"], [0.4444444444444444, \"#bd3786\"], [0.5555555555555556, \"#d8576b\"], [0.6666666666666666, \"#ed7953\"], [0.7777777777777778, \"#fb9f3a\"], [0.8888888888888888, \"#fdca26\"], [1.0, \"#f0f921\"]], \"sequentialminus\": [[0.0, \"#0d0887\"], [0.1111111111111111, \"#46039f\"], [0.2222222222222222, \"#7201a8\"], [0.3333333333333333, \"#9c179e\"], [0.4444444444444444, \"#bd3786\"], [0.5555555555555556, \"#d8576b\"], [0.6666666666666666, \"#ed7953\"], [0.7777777777777778, \"#fb9f3a\"], [0.8888888888888888, \"#fdca26\"], [1.0, \"#f0f921\"]]}, \"colorway\": [\"#636efa\", \"#EF553B\", \"#00cc96\", \"#ab63fa\", \"#FFA15A\", \"#19d3f3\", \"#FF6692\", \"#B6E880\", \"#FF97FF\", \"#FECB52\"], \"font\": {\"color\": \"#2a3f5f\"}, \"geo\": {\"bgcolor\": \"white\", \"lakecolor\": \"white\", \"landcolor\": \"#E5ECF6\", \"showlakes\": true, \"showland\": true, \"subunitcolor\": \"white\"}, \"hoverlabel\": {\"align\": \"left\"}, \"hovermode\": \"closest\", \"mapbox\": {\"style\": \"light\"}, \"paper_bgcolor\": \"white\", \"plot_bgcolor\": \"#E5ECF6\", \"polar\": {\"angularaxis\": {\"gridcolor\": \"white\", \"linecolor\": \"white\", \"ticks\": \"\"}, \"bgcolor\": \"#E5ECF6\", \"radialaxis\": {\"gridcolor\": \"white\", \"linecolor\": \"white\", \"ticks\": \"\"}}, \"scene\": {\"xaxis\": {\"backgroundcolor\": \"#E5ECF6\", \"gridcolor\": \"white\", \"gridwidth\": 2, \"linecolor\": \"white\", \"showbackground\": true, \"ticks\": \"\", \"zerolinecolor\": \"white\"}, \"yaxis\": {\"backgroundcolor\": \"#E5ECF6\", \"gridcolor\": \"white\", \"gridwidth\": 2, \"linecolor\": \"white\", \"showbackground\": true, \"ticks\": \"\", \"zerolinecolor\": \"white\"}, \"zaxis\": {\"backgroundcolor\": \"#E5ECF6\", \"gridcolor\": \"white\", \"gridwidth\": 2, \"linecolor\": \"white\", \"showbackground\": true, \"ticks\": \"\", \"zerolinecolor\": \"white\"}}, \"shapedefaults\": {\"line\": {\"color\": \"#2a3f5f\"}}, \"ternary\": {\"aaxis\": {\"gridcolor\": \"white\", \"linecolor\": \"white\", \"ticks\": \"\"}, \"baxis\": {\"gridcolor\": \"white\", \"linecolor\": \"white\", \"ticks\": \"\"}, \"bgcolor\": \"#E5ECF6\", \"caxis\": {\"gridcolor\": \"white\", \"linecolor\": \"white\", \"ticks\": \"\"}}, \"title\": {\"x\": 0.05}, \"xaxis\": {\"automargin\": true, \"gridcolor\": \"white\", \"linecolor\": \"white\", \"ticks\": \"\", \"title\": {\"standoff\": 15}, \"zerolinecolor\": \"white\", \"zerolinewidth\": 2}, \"yaxis\": {\"automargin\": true, \"gridcolor\": \"white\", \"linecolor\": \"white\", \"ticks\": \"\", \"title\": {\"standoff\": 15}, \"zerolinecolor\": \"white\", \"zerolinewidth\": 2}}}, \"width\": 400, \"xaxis\": {\"title\": {\"text\": \"Epoch\"}}, \"yaxis\": {\"title\": {\"text\": \"MAE\"}}},\n",
       "                        {\"responsive\": true}\n",
       "                    ).then(function(){\n",
       "                            \n",
       "var gd = document.getElementById('522e59ce-b764-47c4-b04e-39f9bfcbd4df');\n",
       "var x = new MutationObserver(function (mutations, observer) {{\n",
       "        var display = window.getComputedStyle(gd).display;\n",
       "        if (!display || display === 'none') {{\n",
       "            console.log([gd, 'removed!']);\n",
       "            Plotly.purge(gd);\n",
       "            observer.disconnect();\n",
       "        }}\n",
       "}});\n",
       "\n",
       "// Listen for the removal of the full notebook cells\n",
       "var notebookContainer = gd.closest('#notebook-container');\n",
       "if (notebookContainer) {{\n",
       "    x.observe(notebookContainer, {childList: true});\n",
       "}}\n",
       "\n",
       "// Listen for the clearing of the current output cell\n",
       "var outputEl = gd.closest('.output');\n",
       "if (outputEl) {{\n",
       "    x.observe(outputEl, {childList: true});\n",
       "}}\n",
       "\n",
       "                        })\n",
       "                };\n",
       "                \n",
       "            </script>\n",
       "        </div>\n",
       "</body>\n",
       "</html>"
      ]
     },
     "metadata": {
      "tags": []
     },
     "output_type": "display_data"
    },
    {
     "data": {
      "text/html": [
       "<html>\n",
       "<head><meta charset=\"utf-8\" /></head>\n",
       "<body>\n",
       "    <div>\n",
       "            <script src=\"https://cdnjs.cloudflare.com/ajax/libs/mathjax/2.7.5/MathJax.js?config=TeX-AMS-MML_SVG\"></script><script type=\"text/javascript\">if (window.MathJax) {MathJax.Hub.Config({SVG: {font: \"STIX-Web\"}});}</script>\n",
       "                <script type=\"text/javascript\">window.PlotlyConfig = {MathJaxConfig: 'local'};</script>\n",
       "        <script src=\"https://cdn.plot.ly/plotly-latest.min.js\"></script>    \n",
       "            <div id=\"b1469711-fe38-4708-bd73-31c6ad44efb6\" class=\"plotly-graph-div\" style=\"height:300px; width:400px;\"></div>\n",
       "            <script type=\"text/javascript\">\n",
       "                \n",
       "                    window.PLOTLYENV=window.PLOTLYENV || {};\n",
       "                    \n",
       "                if (document.getElementById(\"b1469711-fe38-4708-bd73-31c6ad44efb6\")) {\n",
       "                    Plotly.newPlot(\n",
       "                        'b1469711-fe38-4708-bd73-31c6ad44efb6',\n",
       "                        [{\"name\": \"Train\", \"type\": \"scattergl\", \"y\": [0.016665009781718254, 0.012208321131765842, 0.011077821254730225, 0.011055449023842812, 0.010618427768349648, 0.0098474882543087, 0.00920165330171585, 0.008968191221356392, 0.009118963032960892, 0.009391640312969685, 0.00952194631099701, 0.009428177028894424, 0.0091952970251441, 0.008962104097008705, 0.008822347037494183, 0.008785771206021309, 0.00879520270973444, 0.008784656412899494, 0.00872044451534748, 0.00862003955990076, 0.008529752492904663, 0.008486651815474033, 0.008497041650116444, 0.008536353707313538, 0.008569101803004742, 0.008571886457502842, 0.008544483222067356, 0.00850438978523016, 0.008472188375890255, 0.008458017371594906, 0.00845754612237215, 0.008457726798951626, 0.008447840809822083, 0.00842684879899025, 0.008403030224144459, 0.008387038484215736, 0.00838401261717081, 0.00839044526219368, 0.008397598750889301, 0.008397956378757954]}, {\"name\": \"Valid\", \"type\": \"scattergl\", \"y\": [0.012146104127168655, 0.011363808996975422, 0.011632741428911686, 0.011369381099939346, 0.010675907135009766, 0.010064681991934776, 0.00986082386225462, 0.01005618553608656, 0.010386114940047264, 0.010576930828392506, 0.01053841132670641, 0.010351374745368958, 0.010155916213989258, 0.010047079995274544, 0.010031494311988354, 0.010047557763755322, 0.0100310193374753, 0.00994875468313694, 0.009822522290050983, 0.009707185439765453, 0.009647475555539131, 0.009652599692344666, 0.009697260335087776, 0.009741930291056633, 0.009758669883012772, 0.009744051843881607, 0.0097137950360775, 0.009687896817922592, 0.009676559828221798, 0.009675568901002407, 0.009673011489212513, 0.009660361334681511, 0.009639820083975792, 0.009622517041862011, 0.009620330296456814, 0.009637505747377872, 0.009667811915278435, 0.009698964655399323, 0.009720208123326302, 0.009728098288178444]}],\n",
       "                        {\"height\": 300, \"template\": {\"data\": {\"bar\": [{\"error_x\": {\"color\": \"#2a3f5f\"}, \"error_y\": {\"color\": \"#2a3f5f\"}, \"marker\": {\"line\": {\"color\": \"#E5ECF6\", \"width\": 0.5}}, \"type\": \"bar\"}], \"barpolar\": [{\"marker\": {\"line\": {\"color\": \"#E5ECF6\", \"width\": 0.5}}, \"type\": \"barpolar\"}], \"carpet\": [{\"aaxis\": {\"endlinecolor\": \"#2a3f5f\", \"gridcolor\": \"white\", \"linecolor\": \"white\", \"minorgridcolor\": \"white\", \"startlinecolor\": \"#2a3f5f\"}, \"baxis\": {\"endlinecolor\": \"#2a3f5f\", \"gridcolor\": \"white\", \"linecolor\": \"white\", \"minorgridcolor\": \"white\", \"startlinecolor\": \"#2a3f5f\"}, \"type\": \"carpet\"}], \"choropleth\": [{\"colorbar\": {\"outlinewidth\": 0, \"ticks\": \"\"}, \"type\": \"choropleth\"}], \"contour\": [{\"colorbar\": {\"outlinewidth\": 0, \"ticks\": \"\"}, \"colorscale\": [[0.0, \"#0d0887\"], [0.1111111111111111, \"#46039f\"], [0.2222222222222222, \"#7201a8\"], [0.3333333333333333, \"#9c179e\"], [0.4444444444444444, \"#bd3786\"], [0.5555555555555556, \"#d8576b\"], [0.6666666666666666, \"#ed7953\"], [0.7777777777777778, \"#fb9f3a\"], [0.8888888888888888, \"#fdca26\"], [1.0, \"#f0f921\"]], \"type\": \"contour\"}], \"contourcarpet\": [{\"colorbar\": {\"outlinewidth\": 0, \"ticks\": \"\"}, \"type\": \"contourcarpet\"}], \"heatmap\": [{\"colorbar\": {\"outlinewidth\": 0, \"ticks\": \"\"}, \"colorscale\": [[0.0, \"#0d0887\"], [0.1111111111111111, \"#46039f\"], [0.2222222222222222, \"#7201a8\"], [0.3333333333333333, \"#9c179e\"], [0.4444444444444444, \"#bd3786\"], [0.5555555555555556, \"#d8576b\"], [0.6666666666666666, \"#ed7953\"], [0.7777777777777778, \"#fb9f3a\"], [0.8888888888888888, \"#fdca26\"], [1.0, \"#f0f921\"]], \"type\": \"heatmap\"}], \"heatmapgl\": [{\"colorbar\": {\"outlinewidth\": 0, \"ticks\": \"\"}, \"colorscale\": [[0.0, \"#0d0887\"], [0.1111111111111111, \"#46039f\"], [0.2222222222222222, \"#7201a8\"], [0.3333333333333333, \"#9c179e\"], [0.4444444444444444, \"#bd3786\"], [0.5555555555555556, \"#d8576b\"], [0.6666666666666666, \"#ed7953\"], [0.7777777777777778, \"#fb9f3a\"], [0.8888888888888888, \"#fdca26\"], [1.0, \"#f0f921\"]], \"type\": \"heatmapgl\"}], \"histogram\": [{\"marker\": {\"colorbar\": {\"outlinewidth\": 0, \"ticks\": \"\"}}, \"type\": \"histogram\"}], \"histogram2d\": [{\"colorbar\": {\"outlinewidth\": 0, \"ticks\": \"\"}, \"colorscale\": [[0.0, \"#0d0887\"], [0.1111111111111111, \"#46039f\"], [0.2222222222222222, \"#7201a8\"], [0.3333333333333333, \"#9c179e\"], [0.4444444444444444, \"#bd3786\"], [0.5555555555555556, \"#d8576b\"], [0.6666666666666666, \"#ed7953\"], [0.7777777777777778, \"#fb9f3a\"], [0.8888888888888888, \"#fdca26\"], [1.0, \"#f0f921\"]], \"type\": \"histogram2d\"}], \"histogram2dcontour\": [{\"colorbar\": {\"outlinewidth\": 0, \"ticks\": \"\"}, \"colorscale\": [[0.0, \"#0d0887\"], [0.1111111111111111, \"#46039f\"], [0.2222222222222222, \"#7201a8\"], [0.3333333333333333, \"#9c179e\"], [0.4444444444444444, \"#bd3786\"], [0.5555555555555556, \"#d8576b\"], [0.6666666666666666, \"#ed7953\"], [0.7777777777777778, \"#fb9f3a\"], [0.8888888888888888, \"#fdca26\"], [1.0, \"#f0f921\"]], \"type\": \"histogram2dcontour\"}], \"mesh3d\": [{\"colorbar\": {\"outlinewidth\": 0, \"ticks\": \"\"}, \"type\": \"mesh3d\"}], \"parcoords\": [{\"line\": {\"colorbar\": {\"outlinewidth\": 0, \"ticks\": \"\"}}, \"type\": \"parcoords\"}], \"pie\": [{\"automargin\": true, \"type\": \"pie\"}], \"scatter\": [{\"marker\": {\"colorbar\": {\"outlinewidth\": 0, \"ticks\": \"\"}}, \"type\": \"scatter\"}], \"scatter3d\": [{\"line\": {\"colorbar\": {\"outlinewidth\": 0, \"ticks\": \"\"}}, \"marker\": {\"colorbar\": {\"outlinewidth\": 0, \"ticks\": \"\"}}, \"type\": \"scatter3d\"}], \"scattercarpet\": [{\"marker\": {\"colorbar\": {\"outlinewidth\": 0, \"ticks\": \"\"}}, \"type\": \"scattercarpet\"}], \"scattergeo\": [{\"marker\": {\"colorbar\": {\"outlinewidth\": 0, \"ticks\": \"\"}}, \"type\": \"scattergeo\"}], \"scattergl\": [{\"marker\": {\"colorbar\": {\"outlinewidth\": 0, \"ticks\": \"\"}}, \"type\": \"scattergl\"}], \"scattermapbox\": [{\"marker\": {\"colorbar\": {\"outlinewidth\": 0, \"ticks\": \"\"}}, \"type\": \"scattermapbox\"}], \"scatterpolar\": [{\"marker\": {\"colorbar\": {\"outlinewidth\": 0, \"ticks\": \"\"}}, \"type\": \"scatterpolar\"}], \"scatterpolargl\": [{\"marker\": {\"colorbar\": {\"outlinewidth\": 0, \"ticks\": \"\"}}, \"type\": \"scatterpolargl\"}], \"scatterternary\": [{\"marker\": {\"colorbar\": {\"outlinewidth\": 0, \"ticks\": \"\"}}, \"type\": \"scatterternary\"}], \"surface\": [{\"colorbar\": {\"outlinewidth\": 0, \"ticks\": \"\"}, \"colorscale\": [[0.0, \"#0d0887\"], [0.1111111111111111, \"#46039f\"], [0.2222222222222222, \"#7201a8\"], [0.3333333333333333, \"#9c179e\"], [0.4444444444444444, \"#bd3786\"], [0.5555555555555556, \"#d8576b\"], [0.6666666666666666, \"#ed7953\"], [0.7777777777777778, \"#fb9f3a\"], [0.8888888888888888, \"#fdca26\"], [1.0, \"#f0f921\"]], \"type\": \"surface\"}], \"table\": [{\"cells\": {\"fill\": {\"color\": \"#EBF0F8\"}, \"line\": {\"color\": \"white\"}}, \"header\": {\"fill\": {\"color\": \"#C8D4E3\"}, \"line\": {\"color\": \"white\"}}, \"type\": \"table\"}]}, \"layout\": {\"annotationdefaults\": {\"arrowcolor\": \"#2a3f5f\", \"arrowhead\": 0, \"arrowwidth\": 1}, \"coloraxis\": {\"colorbar\": {\"outlinewidth\": 0, \"ticks\": \"\"}}, \"colorscale\": {\"diverging\": [[0, \"#8e0152\"], [0.1, \"#c51b7d\"], [0.2, \"#de77ae\"], [0.3, \"#f1b6da\"], [0.4, \"#fde0ef\"], [0.5, \"#f7f7f7\"], [0.6, \"#e6f5d0\"], [0.7, \"#b8e186\"], [0.8, \"#7fbc41\"], [0.9, \"#4d9221\"], [1, \"#276419\"]], \"sequential\": [[0.0, \"#0d0887\"], [0.1111111111111111, \"#46039f\"], [0.2222222222222222, \"#7201a8\"], [0.3333333333333333, \"#9c179e\"], [0.4444444444444444, \"#bd3786\"], [0.5555555555555556, \"#d8576b\"], [0.6666666666666666, \"#ed7953\"], [0.7777777777777778, \"#fb9f3a\"], [0.8888888888888888, \"#fdca26\"], [1.0, \"#f0f921\"]], \"sequentialminus\": [[0.0, \"#0d0887\"], [0.1111111111111111, \"#46039f\"], [0.2222222222222222, \"#7201a8\"], [0.3333333333333333, \"#9c179e\"], [0.4444444444444444, \"#bd3786\"], [0.5555555555555556, \"#d8576b\"], [0.6666666666666666, \"#ed7953\"], [0.7777777777777778, \"#fb9f3a\"], [0.8888888888888888, \"#fdca26\"], [1.0, \"#f0f921\"]]}, \"colorway\": [\"#636efa\", \"#EF553B\", \"#00cc96\", \"#ab63fa\", \"#FFA15A\", \"#19d3f3\", \"#FF6692\", \"#B6E880\", \"#FF97FF\", \"#FECB52\"], \"font\": {\"color\": \"#2a3f5f\"}, \"geo\": {\"bgcolor\": \"white\", \"lakecolor\": \"white\", \"landcolor\": \"#E5ECF6\", \"showlakes\": true, \"showland\": true, \"subunitcolor\": \"white\"}, \"hoverlabel\": {\"align\": \"left\"}, \"hovermode\": \"closest\", \"mapbox\": {\"style\": \"light\"}, \"paper_bgcolor\": \"white\", \"plot_bgcolor\": \"#E5ECF6\", \"polar\": {\"angularaxis\": {\"gridcolor\": \"white\", \"linecolor\": \"white\", \"ticks\": \"\"}, \"bgcolor\": \"#E5ECF6\", \"radialaxis\": {\"gridcolor\": \"white\", \"linecolor\": \"white\", \"ticks\": \"\"}}, \"scene\": {\"xaxis\": {\"backgroundcolor\": \"#E5ECF6\", \"gridcolor\": \"white\", \"gridwidth\": 2, \"linecolor\": \"white\", \"showbackground\": true, \"ticks\": \"\", \"zerolinecolor\": \"white\"}, \"yaxis\": {\"backgroundcolor\": \"#E5ECF6\", \"gridcolor\": \"white\", \"gridwidth\": 2, \"linecolor\": \"white\", \"showbackground\": true, \"ticks\": \"\", \"zerolinecolor\": \"white\"}, \"zaxis\": {\"backgroundcolor\": \"#E5ECF6\", \"gridcolor\": \"white\", \"gridwidth\": 2, \"linecolor\": \"white\", \"showbackground\": true, \"ticks\": \"\", \"zerolinecolor\": \"white\"}}, \"shapedefaults\": {\"line\": {\"color\": \"#2a3f5f\"}}, \"ternary\": {\"aaxis\": {\"gridcolor\": \"white\", \"linecolor\": \"white\", \"ticks\": \"\"}, \"baxis\": {\"gridcolor\": \"white\", \"linecolor\": \"white\", \"ticks\": \"\"}, \"bgcolor\": \"#E5ECF6\", \"caxis\": {\"gridcolor\": \"white\", \"linecolor\": \"white\", \"ticks\": \"\"}}, \"title\": {\"x\": 0.05}, \"xaxis\": {\"automargin\": true, \"gridcolor\": \"white\", \"linecolor\": \"white\", \"ticks\": \"\", \"title\": {\"standoff\": 15}, \"zerolinecolor\": \"white\", \"zerolinewidth\": 2}, \"yaxis\": {\"automargin\": true, \"gridcolor\": \"white\", \"linecolor\": \"white\", \"ticks\": \"\", \"title\": {\"standoff\": 15}, \"zerolinecolor\": \"white\", \"zerolinewidth\": 2}}}, \"width\": 400, \"xaxis\": {\"title\": {\"text\": \"Epoch\"}}, \"yaxis\": {\"title\": {\"text\": \"Loss\"}}},\n",
       "                        {\"responsive\": true}\n",
       "                    ).then(function(){\n",
       "                            \n",
       "var gd = document.getElementById('b1469711-fe38-4708-bd73-31c6ad44efb6');\n",
       "var x = new MutationObserver(function (mutations, observer) {{\n",
       "        var display = window.getComputedStyle(gd).display;\n",
       "        if (!display || display === 'none') {{\n",
       "            console.log([gd, 'removed!']);\n",
       "            Plotly.purge(gd);\n",
       "            observer.disconnect();\n",
       "        }}\n",
       "}});\n",
       "\n",
       "// Listen for the removal of the full notebook cells\n",
       "var notebookContainer = gd.closest('#notebook-container');\n",
       "if (notebookContainer) {{\n",
       "    x.observe(notebookContainer, {childList: true});\n",
       "}}\n",
       "\n",
       "// Listen for the clearing of the current output cell\n",
       "var outputEl = gd.closest('.output');\n",
       "if (outputEl) {{\n",
       "    x.observe(outputEl, {childList: true});\n",
       "}}\n",
       "\n",
       "                        })\n",
       "                };\n",
       "                \n",
       "            </script>\n",
       "        </div>\n",
       "</body>\n",
       "</html>"
      ]
     },
     "metadata": {
      "tags": []
     },
     "output_type": "display_data"
    }
   ],
   "source": [
    "fig1,fig2=plot_all(history1, 'MAE')\n",
    "fig1.show()\n",
    "fig2.show()"
   ]
  },
  {
   "cell_type": "markdown",
   "metadata": {
    "id": "13_7O30P7ptJ"
   },
   "source": [
    "## ¿Podemos hacerlo mejor?"
   ]
  },
  {
   "cell_type": "markdown",
   "metadata": {
    "id": "Q86HAZLy8Kw0"
   },
   "source": [
    "Creo que si."
   ]
  },
  {
   "cell_type": "code",
   "execution_count": null,
   "metadata": {
    "colab": {
     "base_uri": "https://localhost:8080/",
     "height": 35
    },
    "id": "zKAAlRHU-Eal",
    "outputId": "7887a1e2-aa96-47eb-e48d-19527f5464a5"
   },
   "outputs": [
    {
     "data": {
      "text/plain": [
       "(3585, 355)"
      ]
     },
     "execution_count": 72,
     "metadata": {
      "tags": []
     },
     "output_type": "execute_result"
    }
   ],
   "source": [
    "# Antes:\n",
    "#x_train1=pd.get_dummies(d_insp2)\n",
    "x_train1.shape"
   ]
  },
  {
   "cell_type": "code",
   "execution_count": null,
   "metadata": {
    "id": "LQlyfdmztkmH"
   },
   "outputs": [],
   "source": [
    "data_x[input]"
   ]
  },
  {
   "cell_type": "code",
   "execution_count": null,
   "metadata": {
    "colab": {
     "base_uri": "https://localhost:8080/",
     "height": 35
    },
    "id": "sEza6MUf_CvS",
    "outputId": "c0b5e9be-c948-4c9e-efc4-1c19c9edd7f1"
   },
   "outputs": [
    {
     "data": {
      "text/plain": [
       "array([129, 130, 129, ..., 347, 265, 221])"
      ]
     },
     "execution_count": 75,
     "metadata": {
      "tags": []
     },
     "output_type": "execute_result"
    }
   ],
   "source": [
    "# Ahora\n",
    "from sklearn import preprocessing\n",
    "\n",
    "le = preprocessing.LabelEncoder()\n",
    "\n",
    "le.fit_transform(data_x[input]) # ¿esta bien esto?"
   ]
  },
  {
   "cell_type": "code",
   "execution_count": null,
   "metadata": {
    "id": "hn55WMK3td7h"
   },
   "outputs": [],
   "source": [
    "x_train2=le.transform(x_train_base[input]) \n",
    "x_test2=le.transform(x_test_base[input])"
   ]
  },
  {
   "cell_type": "code",
   "execution_count": null,
   "metadata": {
    "id": "aXDXcepmt31y"
   },
   "outputs": [],
   "source": []
  },
  {
   "cell_type": "code",
   "execution_count": null,
   "metadata": {
    "colab": {
     "base_uri": "https://localhost:8080/",
     "height": 35
    },
    "id": "AepyK7qu33tf",
    "outputId": "41abef89-6886-4c69-dd9e-32dfd788326a"
   },
   "outputs": [
    {
     "data": {
      "text/plain": [
       "(3585,)"
      ]
     },
     "execution_count": 80,
     "metadata": {
      "tags": []
     },
     "output_type": "execute_result"
    }
   ],
   "source": [
    "x_train2.shape"
   ]
  },
  {
   "cell_type": "code",
   "execution_count": null,
   "metadata": {
    "colab": {
     "base_uri": "https://localhost:8080/",
     "height": 35
    },
    "id": "HCdnsG22CKoe",
    "outputId": "f912050a-355a-429a-dbf0-d8fd897b329b"
   },
   "outputs": [
    {
     "data": {
      "text/plain": [
       "array([129, 221, 181, ..., 375, 280, 129])"
      ]
     },
     "execution_count": 29,
     "metadata": {
      "tags": []
     },
     "output_type": "execute_result"
    }
   ],
   "source": [
    "x_train2"
   ]
  },
  {
   "cell_type": "code",
   "execution_count": null,
   "metadata": {
    "colab": {
     "base_uri": "https://localhost:8080/",
     "height": 35
    },
    "id": "5ZyInmJ5A97w",
    "outputId": "4a58ba5e-db15-4353-892d-c3d10c07cfae"
   },
   "outputs": [
    {
     "data": {
      "text/plain": [
       "443"
      ]
     },
     "execution_count": 81,
     "metadata": {
      "tags": []
     },
     "output_type": "execute_result"
    }
   ],
   "source": [
    "in_dim=x_train2.max()+1\n",
    "in_dim"
   ]
  },
  {
   "cell_type": "code",
   "execution_count": null,
   "metadata": {
    "id": "nlCN_pBO8hu8"
   },
   "outputs": [],
   "source": [
    "from keras.layers import Embedding, Flatten, Dropout"
   ]
  },
  {
   "cell_type": "code",
   "execution_count": null,
   "metadata": {
    "id": "fAiWGRQj5lZZ"
   },
   "outputs": [],
   "source": [
    "model2 = Sequential()\n",
    "\n",
    "model2.add(Embedding(input_dim=in_dim, output_dim=4, input_length=1))\n",
    "model2.add(Flatten())\n",
    "#model2.add(Dense(4, activation='relu'))\n",
    "model2.add(Dense(1))  # linear: sale lo que entra"
   ]
  },
  {
   "cell_type": "code",
   "execution_count": null,
   "metadata": {
    "colab": {
     "base_uri": "https://localhost:8080/",
     "height": 263
    },
    "id": "VjfxJT4E8Gil",
    "outputId": "605ac2ad-a31a-47a4-9c59-43f25f90e9df"
   },
   "outputs": [
    {
     "name": "stdout",
     "output_type": "stream",
     "text": [
      "Model: \"sequential_9\"\n",
      "_________________________________________________________________\n",
      "Layer (type)                 Output Shape              Param #   \n",
      "=================================================================\n",
      "embedding_7 (Embedding)      (None, 1, 4)              1772      \n",
      "_________________________________________________________________\n",
      "flatten_6 (Flatten)          (None, 4)                 0         \n",
      "_________________________________________________________________\n",
      "dense_20 (Dense)             (None, 1)                 5         \n",
      "=================================================================\n",
      "Total params: 1,777\n",
      "Trainable params: 1,777\n",
      "Non-trainable params: 0\n",
      "_________________________________________________________________\n"
     ]
    }
   ],
   "source": [
    "model2.summary()"
   ]
  },
  {
   "cell_type": "code",
   "execution_count": null,
   "metadata": {
    "id": "a7gmr93c-gC6"
   },
   "outputs": [],
   "source": [
    "model2.compile(optimizer=keras.optimizers.Adam(lr=0.1),  # default lr=0.01 \n",
    "              loss='MSE',\n",
    "              metrics='MAE')"
   ]
  },
  {
   "cell_type": "code",
   "execution_count": null,
   "metadata": {
    "colab": {
     "base_uri": "https://localhost:8080/",
     "height": 1000
    },
    "id": "c_yQ1xWT7J1W",
    "outputId": "a0ed3baa-1715-4005-eb09-fb7144e8bb76"
   },
   "outputs": [
    {
     "name": "stdout",
     "output_type": "stream",
     "text": [
      "Epoch 1/40\n",
      "2/2 [==============================] - 0s 56ms/step - loss: 0.0152 - MAE: 0.0895 - val_loss: 0.0120 - val_MAE: 0.0814\n",
      "Epoch 2/40\n",
      "2/2 [==============================] - 0s 10ms/step - loss: 0.0118 - MAE: 0.0824 - val_loss: 0.0111 - val_MAE: 0.0790\n",
      "Epoch 3/40\n",
      "2/2 [==============================] - 0s 9ms/step - loss: 0.0107 - MAE: 0.0745 - val_loss: 0.0123 - val_MAE: 0.0745\n",
      "Epoch 4/40\n",
      "2/2 [==============================] - 0s 11ms/step - loss: 0.0119 - MAE: 0.0743 - val_loss: 0.0117 - val_MAE: 0.0750\n",
      "Epoch 5/40\n",
      "2/2 [==============================] - 0s 10ms/step - loss: 0.0105 - MAE: 0.0710 - val_loss: 0.0098 - val_MAE: 0.0685\n",
      "Epoch 6/40\n",
      "2/2 [==============================] - 0s 10ms/step - loss: 0.0093 - MAE: 0.0650 - val_loss: 0.0103 - val_MAE: 0.0726\n",
      "Epoch 7/40\n",
      "2/2 [==============================] - 0s 11ms/step - loss: 0.0096 - MAE: 0.0665 - val_loss: 0.0099 - val_MAE: 0.0715\n",
      "Epoch 8/40\n",
      "2/2 [==============================] - 0s 9ms/step - loss: 0.0091 - MAE: 0.0667 - val_loss: 0.0106 - val_MAE: 0.0724\n",
      "Epoch 9/40\n",
      "2/2 [==============================] - 0s 9ms/step - loss: 0.0093 - MAE: 0.0657 - val_loss: 0.0097 - val_MAE: 0.0646\n",
      "Epoch 10/40\n",
      "2/2 [==============================] - 0s 9ms/step - loss: 0.0087 - MAE: 0.0600 - val_loss: 0.0098 - val_MAE: 0.0723\n",
      "Epoch 11/40\n",
      "2/2 [==============================] - 0s 9ms/step - loss: 0.0090 - MAE: 0.0672 - val_loss: 0.0096 - val_MAE: 0.0680\n",
      "Epoch 12/40\n",
      "2/2 [==============================] - 0s 9ms/step - loss: 0.0086 - MAE: 0.0611 - val_loss: 0.0100 - val_MAE: 0.0661\n",
      "Epoch 13/40\n",
      "2/2 [==============================] - 0s 9ms/step - loss: 0.0088 - MAE: 0.0610 - val_loss: 0.0097 - val_MAE: 0.0679\n",
      "Epoch 14/40\n",
      "2/2 [==============================] - 0s 10ms/step - loss: 0.0085 - MAE: 0.0618 - val_loss: 0.0095 - val_MAE: 0.0701\n",
      "Epoch 15/40\n",
      "2/2 [==============================] - 0s 9ms/step - loss: 0.0086 - MAE: 0.0634 - val_loss: 0.0095 - val_MAE: 0.0664\n",
      "Epoch 16/40\n",
      "2/2 [==============================] - 0s 9ms/step - loss: 0.0085 - MAE: 0.0594 - val_loss: 0.0097 - val_MAE: 0.0663\n",
      "Epoch 17/40\n",
      "2/2 [==============================] - 0s 9ms/step - loss: 0.0085 - MAE: 0.0599 - val_loss: 0.0097 - val_MAE: 0.0682\n",
      "Epoch 18/40\n",
      "2/2 [==============================] - 0s 10ms/step - loss: 0.0085 - MAE: 0.0613 - val_loss: 0.0094 - val_MAE: 0.0667\n",
      "Epoch 19/40\n",
      "2/2 [==============================] - 0s 10ms/step - loss: 0.0085 - MAE: 0.0603 - val_loss: 0.0094 - val_MAE: 0.0662\n",
      "Epoch 20/40\n",
      "2/2 [==============================] - 0s 10ms/step - loss: 0.0084 - MAE: 0.0599 - val_loss: 0.0096 - val_MAE: 0.0674\n",
      "Epoch 21/40\n",
      "2/2 [==============================] - 0s 11ms/step - loss: 0.0085 - MAE: 0.0607 - val_loss: 0.0096 - val_MAE: 0.0662\n",
      "Epoch 22/40\n",
      "2/2 [==============================] - 0s 9ms/step - loss: 0.0084 - MAE: 0.0592 - val_loss: 0.0094 - val_MAE: 0.0659\n",
      "Epoch 23/40\n",
      "2/2 [==============================] - 0s 9ms/step - loss: 0.0084 - MAE: 0.0599 - val_loss: 0.0094 - val_MAE: 0.0670\n",
      "Epoch 24/40\n",
      "2/2 [==============================] - 0s 9ms/step - loss: 0.0084 - MAE: 0.0601 - val_loss: 0.0095 - val_MAE: 0.0662\n",
      "Epoch 25/40\n",
      "2/2 [==============================] - 0s 10ms/step - loss: 0.0084 - MAE: 0.0593 - val_loss: 0.0095 - val_MAE: 0.0665\n",
      "Epoch 26/40\n",
      "2/2 [==============================] - 0s 9ms/step - loss: 0.0084 - MAE: 0.0595 - val_loss: 0.0094 - val_MAE: 0.0669\n",
      "Epoch 27/40\n",
      "2/2 [==============================] - 0s 10ms/step - loss: 0.0084 - MAE: 0.0598 - val_loss: 0.0094 - val_MAE: 0.0663\n",
      "Epoch 28/40\n",
      "2/2 [==============================] - 0s 9ms/step - loss: 0.0084 - MAE: 0.0593 - val_loss: 0.0095 - val_MAE: 0.0662\n",
      "Epoch 29/40\n",
      "2/2 [==============================] - 0s 12ms/step - loss: 0.0083 - MAE: 0.0591 - val_loss: 0.0095 - val_MAE: 0.0665\n",
      "Epoch 30/40\n",
      "2/2 [==============================] - 0s 10ms/step - loss: 0.0083 - MAE: 0.0595 - val_loss: 0.0094 - val_MAE: 0.0672\n",
      "Epoch 31/40\n",
      "2/2 [==============================] - 0s 9ms/step - loss: 0.0084 - MAE: 0.0601 - val_loss: 0.0094 - val_MAE: 0.0664\n",
      "Epoch 32/40\n",
      "2/2 [==============================] - 0s 10ms/step - loss: 0.0083 - MAE: 0.0591 - val_loss: 0.0095 - val_MAE: 0.0659\n",
      "Epoch 33/40\n",
      "2/2 [==============================] - 0s 10ms/step - loss: 0.0084 - MAE: 0.0593 - val_loss: 0.0095 - val_MAE: 0.0656\n",
      "Epoch 34/40\n",
      "2/2 [==============================] - 0s 9ms/step - loss: 0.0083 - MAE: 0.0586 - val_loss: 0.0094 - val_MAE: 0.0662\n",
      "Epoch 35/40\n",
      "2/2 [==============================] - 0s 11ms/step - loss: 0.0084 - MAE: 0.0594 - val_loss: 0.0094 - val_MAE: 0.0669\n",
      "Epoch 36/40\n",
      "2/2 [==============================] - 0s 9ms/step - loss: 0.0084 - MAE: 0.0599 - val_loss: 0.0095 - val_MAE: 0.0658\n",
      "Epoch 37/40\n",
      "2/2 [==============================] - 0s 10ms/step - loss: 0.0084 - MAE: 0.0588 - val_loss: 0.0094 - val_MAE: 0.0659\n",
      "Epoch 38/40\n",
      "2/2 [==============================] - 0s 10ms/step - loss: 0.0084 - MAE: 0.0593 - val_loss: 0.0094 - val_MAE: 0.0666\n",
      "Epoch 39/40\n",
      "2/2 [==============================] - 0s 10ms/step - loss: 0.0083 - MAE: 0.0592 - val_loss: 0.0096 - val_MAE: 0.0657\n",
      "Epoch 40/40\n",
      "2/2 [==============================] - 0s 11ms/step - loss: 0.0084 - MAE: 0.0588 - val_loss: 0.0095 - val_MAE: 0.0675\n"
     ]
    }
   ],
   "source": [
    "history2 = model2.fit(x_train2, y_train, epochs=40, batch_size=2048, validation_split=0.2)"
   ]
  },
  {
   "cell_type": "code",
   "execution_count": null,
   "metadata": {
    "colab": {
     "base_uri": "https://localhost:8080/",
     "height": 617
    },
    "id": "hcbnuxkS7QEF",
    "outputId": "a8f0943f-29e0-4014-c3af-97ab0ceed594"
   },
   "outputs": [
    {
     "data": {
      "text/html": [
       "<html>\n",
       "<head><meta charset=\"utf-8\" /></head>\n",
       "<body>\n",
       "    <div>\n",
       "            <script src=\"https://cdnjs.cloudflare.com/ajax/libs/mathjax/2.7.5/MathJax.js?config=TeX-AMS-MML_SVG\"></script><script type=\"text/javascript\">if (window.MathJax) {MathJax.Hub.Config({SVG: {font: \"STIX-Web\"}});}</script>\n",
       "                <script type=\"text/javascript\">window.PlotlyConfig = {MathJaxConfig: 'local'};</script>\n",
       "        <script src=\"https://cdn.plot.ly/plotly-latest.min.js\"></script>    \n",
       "            <div id=\"37c37cca-5c72-4245-aee6-6c1d2419b07d\" class=\"plotly-graph-div\" style=\"height:300px; width:400px;\"></div>\n",
       "            <script type=\"text/javascript\">\n",
       "                \n",
       "                    window.PLOTLYENV=window.PLOTLYENV || {};\n",
       "                    \n",
       "                if (document.getElementById(\"37c37cca-5c72-4245-aee6-6c1d2419b07d\")) {\n",
       "                    Plotly.newPlot(\n",
       "                        '37c37cca-5c72-4245-aee6-6c1d2419b07d',\n",
       "                        [{\"name\": \"Train\", \"type\": \"scattergl\", \"y\": [0.08953243494033813, 0.08236630260944366, 0.07445203512907028, 0.07425722479820251, 0.07102441787719727, 0.06499499082565308, 0.06653046607971191, 0.06672833114862442, 0.06571473926305771, 0.06004153564572334, 0.06720711290836334, 0.06111425906419754, 0.06096312776207924, 0.06183500215411186, 0.06335882842540741, 0.05938165262341499, 0.05991365760564804, 0.0612899474799633, 0.060341913253068924, 0.059878479689359665, 0.06067593768239021, 0.059246134012937546, 0.05991106107831001, 0.060075219720602036, 0.05932660773396492, 0.05952480062842369, 0.05975092947483063, 0.05925077199935913, 0.05906650796532631, 0.05954955890774727, 0.06014065071940422, 0.05908720940351486, 0.05926886573433876, 0.05860430374741554, 0.05939068645238876, 0.059861622750759125, 0.058757562190294266, 0.059349868446588516, 0.059214815497398376, 0.058785341680049896]}, {\"name\": \"Valid\", \"type\": \"scattergl\", \"y\": [0.08143571019172668, 0.07900222390890121, 0.07448917627334595, 0.07503041625022888, 0.06851217150688171, 0.07261970639228821, 0.0714963749051094, 0.07235599309206009, 0.06458470970392227, 0.07227116078138351, 0.06797046959400177, 0.06609185039997101, 0.06792682409286499, 0.07010015100240707, 0.06635116785764694, 0.06625282764434814, 0.0681631788611412, 0.06671115010976791, 0.06622672826051712, 0.06736573576927185, 0.06618829816579819, 0.06594283133745193, 0.06700796633958817, 0.06616552919149399, 0.06654467433691025, 0.06692584604024887, 0.0663342997431755, 0.06617344915866852, 0.066535584628582, 0.06718512624502182, 0.06636395305395126, 0.0659218281507492, 0.06564565002918243, 0.06617017835378647, 0.06691860407590866, 0.06580570340156555, 0.0659116730093956, 0.06659319996833801, 0.06572093814611435, 0.06747900694608688]}],\n",
       "                        {\"height\": 300, \"template\": {\"data\": {\"bar\": [{\"error_x\": {\"color\": \"#2a3f5f\"}, \"error_y\": {\"color\": \"#2a3f5f\"}, \"marker\": {\"line\": {\"color\": \"#E5ECF6\", \"width\": 0.5}}, \"type\": \"bar\"}], \"barpolar\": [{\"marker\": {\"line\": {\"color\": \"#E5ECF6\", \"width\": 0.5}}, \"type\": \"barpolar\"}], \"carpet\": [{\"aaxis\": {\"endlinecolor\": \"#2a3f5f\", \"gridcolor\": \"white\", \"linecolor\": \"white\", \"minorgridcolor\": \"white\", \"startlinecolor\": \"#2a3f5f\"}, \"baxis\": {\"endlinecolor\": \"#2a3f5f\", \"gridcolor\": \"white\", \"linecolor\": \"white\", \"minorgridcolor\": \"white\", \"startlinecolor\": \"#2a3f5f\"}, \"type\": \"carpet\"}], \"choropleth\": [{\"colorbar\": {\"outlinewidth\": 0, \"ticks\": \"\"}, \"type\": \"choropleth\"}], \"contour\": [{\"colorbar\": {\"outlinewidth\": 0, \"ticks\": \"\"}, \"colorscale\": [[0.0, \"#0d0887\"], [0.1111111111111111, \"#46039f\"], [0.2222222222222222, \"#7201a8\"], [0.3333333333333333, \"#9c179e\"], [0.4444444444444444, \"#bd3786\"], [0.5555555555555556, \"#d8576b\"], [0.6666666666666666, \"#ed7953\"], [0.7777777777777778, \"#fb9f3a\"], [0.8888888888888888, \"#fdca26\"], [1.0, \"#f0f921\"]], \"type\": \"contour\"}], \"contourcarpet\": [{\"colorbar\": {\"outlinewidth\": 0, \"ticks\": \"\"}, \"type\": \"contourcarpet\"}], \"heatmap\": [{\"colorbar\": {\"outlinewidth\": 0, \"ticks\": \"\"}, \"colorscale\": [[0.0, \"#0d0887\"], [0.1111111111111111, \"#46039f\"], [0.2222222222222222, \"#7201a8\"], [0.3333333333333333, \"#9c179e\"], [0.4444444444444444, \"#bd3786\"], [0.5555555555555556, \"#d8576b\"], [0.6666666666666666, \"#ed7953\"], [0.7777777777777778, \"#fb9f3a\"], [0.8888888888888888, \"#fdca26\"], [1.0, \"#f0f921\"]], \"type\": \"heatmap\"}], \"heatmapgl\": [{\"colorbar\": {\"outlinewidth\": 0, \"ticks\": \"\"}, \"colorscale\": [[0.0, \"#0d0887\"], [0.1111111111111111, \"#46039f\"], [0.2222222222222222, \"#7201a8\"], [0.3333333333333333, \"#9c179e\"], [0.4444444444444444, \"#bd3786\"], [0.5555555555555556, \"#d8576b\"], [0.6666666666666666, \"#ed7953\"], [0.7777777777777778, \"#fb9f3a\"], [0.8888888888888888, \"#fdca26\"], [1.0, \"#f0f921\"]], \"type\": \"heatmapgl\"}], \"histogram\": [{\"marker\": {\"colorbar\": {\"outlinewidth\": 0, \"ticks\": \"\"}}, \"type\": \"histogram\"}], \"histogram2d\": [{\"colorbar\": {\"outlinewidth\": 0, \"ticks\": \"\"}, \"colorscale\": [[0.0, \"#0d0887\"], [0.1111111111111111, \"#46039f\"], [0.2222222222222222, \"#7201a8\"], [0.3333333333333333, \"#9c179e\"], [0.4444444444444444, \"#bd3786\"], [0.5555555555555556, \"#d8576b\"], [0.6666666666666666, \"#ed7953\"], [0.7777777777777778, \"#fb9f3a\"], [0.8888888888888888, \"#fdca26\"], [1.0, \"#f0f921\"]], \"type\": \"histogram2d\"}], \"histogram2dcontour\": [{\"colorbar\": {\"outlinewidth\": 0, \"ticks\": \"\"}, \"colorscale\": [[0.0, \"#0d0887\"], [0.1111111111111111, \"#46039f\"], [0.2222222222222222, \"#7201a8\"], [0.3333333333333333, \"#9c179e\"], [0.4444444444444444, \"#bd3786\"], [0.5555555555555556, \"#d8576b\"], [0.6666666666666666, \"#ed7953\"], [0.7777777777777778, \"#fb9f3a\"], [0.8888888888888888, \"#fdca26\"], [1.0, \"#f0f921\"]], \"type\": \"histogram2dcontour\"}], \"mesh3d\": [{\"colorbar\": {\"outlinewidth\": 0, \"ticks\": \"\"}, \"type\": \"mesh3d\"}], \"parcoords\": [{\"line\": {\"colorbar\": {\"outlinewidth\": 0, \"ticks\": \"\"}}, \"type\": \"parcoords\"}], \"pie\": [{\"automargin\": true, \"type\": \"pie\"}], \"scatter\": [{\"marker\": {\"colorbar\": {\"outlinewidth\": 0, \"ticks\": \"\"}}, \"type\": \"scatter\"}], \"scatter3d\": [{\"line\": {\"colorbar\": {\"outlinewidth\": 0, \"ticks\": \"\"}}, \"marker\": {\"colorbar\": {\"outlinewidth\": 0, \"ticks\": \"\"}}, \"type\": \"scatter3d\"}], \"scattercarpet\": [{\"marker\": {\"colorbar\": {\"outlinewidth\": 0, \"ticks\": \"\"}}, \"type\": \"scattercarpet\"}], \"scattergeo\": [{\"marker\": {\"colorbar\": {\"outlinewidth\": 0, \"ticks\": \"\"}}, \"type\": \"scattergeo\"}], \"scattergl\": [{\"marker\": {\"colorbar\": {\"outlinewidth\": 0, \"ticks\": \"\"}}, \"type\": \"scattergl\"}], \"scattermapbox\": [{\"marker\": {\"colorbar\": {\"outlinewidth\": 0, \"ticks\": \"\"}}, \"type\": \"scattermapbox\"}], \"scatterpolar\": [{\"marker\": {\"colorbar\": {\"outlinewidth\": 0, \"ticks\": \"\"}}, \"type\": \"scatterpolar\"}], \"scatterpolargl\": [{\"marker\": {\"colorbar\": {\"outlinewidth\": 0, \"ticks\": \"\"}}, \"type\": \"scatterpolargl\"}], \"scatterternary\": [{\"marker\": {\"colorbar\": {\"outlinewidth\": 0, \"ticks\": \"\"}}, \"type\": \"scatterternary\"}], \"surface\": [{\"colorbar\": {\"outlinewidth\": 0, \"ticks\": \"\"}, \"colorscale\": [[0.0, \"#0d0887\"], [0.1111111111111111, \"#46039f\"], [0.2222222222222222, \"#7201a8\"], [0.3333333333333333, \"#9c179e\"], [0.4444444444444444, \"#bd3786\"], [0.5555555555555556, \"#d8576b\"], [0.6666666666666666, \"#ed7953\"], [0.7777777777777778, \"#fb9f3a\"], [0.8888888888888888, \"#fdca26\"], [1.0, \"#f0f921\"]], \"type\": \"surface\"}], \"table\": [{\"cells\": {\"fill\": {\"color\": \"#EBF0F8\"}, \"line\": {\"color\": \"white\"}}, \"header\": {\"fill\": {\"color\": \"#C8D4E3\"}, \"line\": {\"color\": \"white\"}}, \"type\": \"table\"}]}, \"layout\": {\"annotationdefaults\": {\"arrowcolor\": \"#2a3f5f\", \"arrowhead\": 0, \"arrowwidth\": 1}, \"coloraxis\": {\"colorbar\": {\"outlinewidth\": 0, \"ticks\": \"\"}}, \"colorscale\": {\"diverging\": [[0, \"#8e0152\"], [0.1, \"#c51b7d\"], [0.2, \"#de77ae\"], [0.3, \"#f1b6da\"], [0.4, \"#fde0ef\"], [0.5, \"#f7f7f7\"], [0.6, \"#e6f5d0\"], [0.7, \"#b8e186\"], [0.8, \"#7fbc41\"], [0.9, \"#4d9221\"], [1, \"#276419\"]], \"sequential\": [[0.0, \"#0d0887\"], [0.1111111111111111, \"#46039f\"], [0.2222222222222222, \"#7201a8\"], [0.3333333333333333, \"#9c179e\"], [0.4444444444444444, \"#bd3786\"], [0.5555555555555556, \"#d8576b\"], [0.6666666666666666, \"#ed7953\"], [0.7777777777777778, \"#fb9f3a\"], [0.8888888888888888, \"#fdca26\"], [1.0, \"#f0f921\"]], \"sequentialminus\": [[0.0, \"#0d0887\"], [0.1111111111111111, \"#46039f\"], [0.2222222222222222, \"#7201a8\"], [0.3333333333333333, \"#9c179e\"], [0.4444444444444444, \"#bd3786\"], [0.5555555555555556, \"#d8576b\"], [0.6666666666666666, \"#ed7953\"], [0.7777777777777778, \"#fb9f3a\"], [0.8888888888888888, \"#fdca26\"], [1.0, \"#f0f921\"]]}, \"colorway\": [\"#636efa\", \"#EF553B\", \"#00cc96\", \"#ab63fa\", \"#FFA15A\", \"#19d3f3\", \"#FF6692\", \"#B6E880\", \"#FF97FF\", \"#FECB52\"], \"font\": {\"color\": \"#2a3f5f\"}, \"geo\": {\"bgcolor\": \"white\", \"lakecolor\": \"white\", \"landcolor\": \"#E5ECF6\", \"showlakes\": true, \"showland\": true, \"subunitcolor\": \"white\"}, \"hoverlabel\": {\"align\": \"left\"}, \"hovermode\": \"closest\", \"mapbox\": {\"style\": \"light\"}, \"paper_bgcolor\": \"white\", \"plot_bgcolor\": \"#E5ECF6\", \"polar\": {\"angularaxis\": {\"gridcolor\": \"white\", \"linecolor\": \"white\", \"ticks\": \"\"}, \"bgcolor\": \"#E5ECF6\", \"radialaxis\": {\"gridcolor\": \"white\", \"linecolor\": \"white\", \"ticks\": \"\"}}, \"scene\": {\"xaxis\": {\"backgroundcolor\": \"#E5ECF6\", \"gridcolor\": \"white\", \"gridwidth\": 2, \"linecolor\": \"white\", \"showbackground\": true, \"ticks\": \"\", \"zerolinecolor\": \"white\"}, \"yaxis\": {\"backgroundcolor\": \"#E5ECF6\", \"gridcolor\": \"white\", \"gridwidth\": 2, \"linecolor\": \"white\", \"showbackground\": true, \"ticks\": \"\", \"zerolinecolor\": \"white\"}, \"zaxis\": {\"backgroundcolor\": \"#E5ECF6\", \"gridcolor\": \"white\", \"gridwidth\": 2, \"linecolor\": \"white\", \"showbackground\": true, \"ticks\": \"\", \"zerolinecolor\": \"white\"}}, \"shapedefaults\": {\"line\": {\"color\": \"#2a3f5f\"}}, \"ternary\": {\"aaxis\": {\"gridcolor\": \"white\", \"linecolor\": \"white\", \"ticks\": \"\"}, \"baxis\": {\"gridcolor\": \"white\", \"linecolor\": \"white\", \"ticks\": \"\"}, \"bgcolor\": \"#E5ECF6\", \"caxis\": {\"gridcolor\": \"white\", \"linecolor\": \"white\", \"ticks\": \"\"}}, \"title\": {\"x\": 0.05}, \"xaxis\": {\"automargin\": true, \"gridcolor\": \"white\", \"linecolor\": \"white\", \"ticks\": \"\", \"title\": {\"standoff\": 15}, \"zerolinecolor\": \"white\", \"zerolinewidth\": 2}, \"yaxis\": {\"automargin\": true, \"gridcolor\": \"white\", \"linecolor\": \"white\", \"ticks\": \"\", \"title\": {\"standoff\": 15}, \"zerolinecolor\": \"white\", \"zerolinewidth\": 2}}}, \"width\": 400, \"xaxis\": {\"title\": {\"text\": \"Epoch\"}}, \"yaxis\": {\"title\": {\"text\": \"MAE\"}}},\n",
       "                        {\"responsive\": true}\n",
       "                    ).then(function(){\n",
       "                            \n",
       "var gd = document.getElementById('37c37cca-5c72-4245-aee6-6c1d2419b07d');\n",
       "var x = new MutationObserver(function (mutations, observer) {{\n",
       "        var display = window.getComputedStyle(gd).display;\n",
       "        if (!display || display === 'none') {{\n",
       "            console.log([gd, 'removed!']);\n",
       "            Plotly.purge(gd);\n",
       "            observer.disconnect();\n",
       "        }}\n",
       "}});\n",
       "\n",
       "// Listen for the removal of the full notebook cells\n",
       "var notebookContainer = gd.closest('#notebook-container');\n",
       "if (notebookContainer) {{\n",
       "    x.observe(notebookContainer, {childList: true});\n",
       "}}\n",
       "\n",
       "// Listen for the clearing of the current output cell\n",
       "var outputEl = gd.closest('.output');\n",
       "if (outputEl) {{\n",
       "    x.observe(outputEl, {childList: true});\n",
       "}}\n",
       "\n",
       "                        })\n",
       "                };\n",
       "                \n",
       "            </script>\n",
       "        </div>\n",
       "</body>\n",
       "</html>"
      ]
     },
     "metadata": {
      "tags": []
     },
     "output_type": "display_data"
    },
    {
     "data": {
      "text/html": [
       "<html>\n",
       "<head><meta charset=\"utf-8\" /></head>\n",
       "<body>\n",
       "    <div>\n",
       "            <script src=\"https://cdnjs.cloudflare.com/ajax/libs/mathjax/2.7.5/MathJax.js?config=TeX-AMS-MML_SVG\"></script><script type=\"text/javascript\">if (window.MathJax) {MathJax.Hub.Config({SVG: {font: \"STIX-Web\"}});}</script>\n",
       "                <script type=\"text/javascript\">window.PlotlyConfig = {MathJaxConfig: 'local'};</script>\n",
       "        <script src=\"https://cdn.plot.ly/plotly-latest.min.js\"></script>    \n",
       "            <div id=\"3e8e4998-2eea-4c29-bbc7-20946a39f933\" class=\"plotly-graph-div\" style=\"height:300px; width:400px;\"></div>\n",
       "            <script type=\"text/javascript\">\n",
       "                \n",
       "                    window.PLOTLYENV=window.PLOTLYENV || {};\n",
       "                    \n",
       "                if (document.getElementById(\"3e8e4998-2eea-4c29-bbc7-20946a39f933\")) {\n",
       "                    Plotly.newPlot(\n",
       "                        '3e8e4998-2eea-4c29-bbc7-20946a39f933',\n",
       "                        [{\"name\": \"Train\", \"type\": \"scattergl\", \"y\": [0.015199540182948112, 0.011848051100969315, 0.010671875439584255, 0.011887181550264359, 0.010537265799939632, 0.009341675788164139, 0.009560377337038517, 0.009090756997466087, 0.009301929734647274, 0.008653593249619007, 0.009042331948876381, 0.00855853408575058, 0.008754494599997997, 0.00849065836519003, 0.008613954298198223, 0.008458223193883896, 0.008531981147825718, 0.008512357249855995, 0.008469412103295326, 0.008413554169237614, 0.008464530110359192, 0.008417891338467598, 0.008440600708127022, 0.008387038484215736, 0.008384949527680874, 0.00836071465164423, 0.008365238085389137, 0.008357742801308632, 0.008346984162926674, 0.008346362970769405, 0.008372784592211246, 0.008332678116858006, 0.008379210717976093, 0.008346942253410816, 0.008376740850508213, 0.008380662649869919, 0.008360303938388824, 0.008378618396818638, 0.008348187431693077, 0.008369081653654575]}, {\"name\": \"Valid\", \"type\": \"scattergl\", \"y\": [0.011984379962086678, 0.011122663505375385, 0.012261440977454185, 0.011693346314132214, 0.00975046493113041, 0.010302133858203888, 0.009868667460978031, 0.010567702353000641, 0.009664122946560383, 0.009816419333219528, 0.009551030583679676, 0.010046573355793953, 0.009659583680331707, 0.0095456438139081, 0.009466162882745266, 0.009693737141788006, 0.009688064455986023, 0.009387419559061527, 0.009386015124619007, 0.009554029442369938, 0.009571137838065624, 0.009419180452823639, 0.009386212565004826, 0.009518801234662533, 0.0095180319622159, 0.009418395347893238, 0.00942847691476345, 0.00949000008404255, 0.009484551846981049, 0.009424635209143162, 0.009416385553777218, 0.009531170129776001, 0.009495211765170097, 0.009392506442964077, 0.009408579207956791, 0.009508748538792133, 0.009414592757821083, 0.00941559299826622, 0.009564516134560108, 0.009464772418141365]}],\n",
       "                        {\"height\": 300, \"template\": {\"data\": {\"bar\": [{\"error_x\": {\"color\": \"#2a3f5f\"}, \"error_y\": {\"color\": \"#2a3f5f\"}, \"marker\": {\"line\": {\"color\": \"#E5ECF6\", \"width\": 0.5}}, \"type\": \"bar\"}], \"barpolar\": [{\"marker\": {\"line\": {\"color\": \"#E5ECF6\", \"width\": 0.5}}, \"type\": \"barpolar\"}], \"carpet\": [{\"aaxis\": {\"endlinecolor\": \"#2a3f5f\", \"gridcolor\": \"white\", \"linecolor\": \"white\", \"minorgridcolor\": \"white\", \"startlinecolor\": \"#2a3f5f\"}, \"baxis\": {\"endlinecolor\": \"#2a3f5f\", \"gridcolor\": \"white\", \"linecolor\": \"white\", \"minorgridcolor\": \"white\", \"startlinecolor\": \"#2a3f5f\"}, \"type\": \"carpet\"}], \"choropleth\": [{\"colorbar\": {\"outlinewidth\": 0, \"ticks\": \"\"}, \"type\": \"choropleth\"}], \"contour\": [{\"colorbar\": {\"outlinewidth\": 0, \"ticks\": \"\"}, \"colorscale\": [[0.0, \"#0d0887\"], [0.1111111111111111, \"#46039f\"], [0.2222222222222222, \"#7201a8\"], [0.3333333333333333, \"#9c179e\"], [0.4444444444444444, \"#bd3786\"], [0.5555555555555556, \"#d8576b\"], [0.6666666666666666, \"#ed7953\"], [0.7777777777777778, \"#fb9f3a\"], [0.8888888888888888, \"#fdca26\"], [1.0, \"#f0f921\"]], \"type\": \"contour\"}], \"contourcarpet\": [{\"colorbar\": {\"outlinewidth\": 0, \"ticks\": \"\"}, \"type\": \"contourcarpet\"}], \"heatmap\": [{\"colorbar\": {\"outlinewidth\": 0, \"ticks\": \"\"}, \"colorscale\": [[0.0, \"#0d0887\"], [0.1111111111111111, \"#46039f\"], [0.2222222222222222, \"#7201a8\"], [0.3333333333333333, \"#9c179e\"], [0.4444444444444444, \"#bd3786\"], [0.5555555555555556, \"#d8576b\"], [0.6666666666666666, \"#ed7953\"], [0.7777777777777778, \"#fb9f3a\"], [0.8888888888888888, \"#fdca26\"], [1.0, \"#f0f921\"]], \"type\": \"heatmap\"}], \"heatmapgl\": [{\"colorbar\": {\"outlinewidth\": 0, \"ticks\": \"\"}, \"colorscale\": [[0.0, \"#0d0887\"], [0.1111111111111111, \"#46039f\"], [0.2222222222222222, \"#7201a8\"], [0.3333333333333333, \"#9c179e\"], [0.4444444444444444, \"#bd3786\"], [0.5555555555555556, \"#d8576b\"], [0.6666666666666666, \"#ed7953\"], [0.7777777777777778, \"#fb9f3a\"], [0.8888888888888888, \"#fdca26\"], [1.0, \"#f0f921\"]], \"type\": \"heatmapgl\"}], \"histogram\": [{\"marker\": {\"colorbar\": {\"outlinewidth\": 0, \"ticks\": \"\"}}, \"type\": \"histogram\"}], \"histogram2d\": [{\"colorbar\": {\"outlinewidth\": 0, \"ticks\": \"\"}, \"colorscale\": [[0.0, \"#0d0887\"], [0.1111111111111111, \"#46039f\"], [0.2222222222222222, \"#7201a8\"], [0.3333333333333333, \"#9c179e\"], [0.4444444444444444, \"#bd3786\"], [0.5555555555555556, \"#d8576b\"], [0.6666666666666666, \"#ed7953\"], [0.7777777777777778, \"#fb9f3a\"], [0.8888888888888888, \"#fdca26\"], [1.0, \"#f0f921\"]], \"type\": \"histogram2d\"}], \"histogram2dcontour\": [{\"colorbar\": {\"outlinewidth\": 0, \"ticks\": \"\"}, \"colorscale\": [[0.0, \"#0d0887\"], [0.1111111111111111, \"#46039f\"], [0.2222222222222222, \"#7201a8\"], [0.3333333333333333, \"#9c179e\"], [0.4444444444444444, \"#bd3786\"], [0.5555555555555556, \"#d8576b\"], [0.6666666666666666, \"#ed7953\"], [0.7777777777777778, \"#fb9f3a\"], [0.8888888888888888, \"#fdca26\"], [1.0, \"#f0f921\"]], \"type\": \"histogram2dcontour\"}], \"mesh3d\": [{\"colorbar\": {\"outlinewidth\": 0, \"ticks\": \"\"}, \"type\": \"mesh3d\"}], \"parcoords\": [{\"line\": {\"colorbar\": {\"outlinewidth\": 0, \"ticks\": \"\"}}, \"type\": \"parcoords\"}], \"pie\": [{\"automargin\": true, \"type\": \"pie\"}], \"scatter\": [{\"marker\": {\"colorbar\": {\"outlinewidth\": 0, \"ticks\": \"\"}}, \"type\": \"scatter\"}], \"scatter3d\": [{\"line\": {\"colorbar\": {\"outlinewidth\": 0, \"ticks\": \"\"}}, \"marker\": {\"colorbar\": {\"outlinewidth\": 0, \"ticks\": \"\"}}, \"type\": \"scatter3d\"}], \"scattercarpet\": [{\"marker\": {\"colorbar\": {\"outlinewidth\": 0, \"ticks\": \"\"}}, \"type\": \"scattercarpet\"}], \"scattergeo\": [{\"marker\": {\"colorbar\": {\"outlinewidth\": 0, \"ticks\": \"\"}}, \"type\": \"scattergeo\"}], \"scattergl\": [{\"marker\": {\"colorbar\": {\"outlinewidth\": 0, \"ticks\": \"\"}}, \"type\": \"scattergl\"}], \"scattermapbox\": [{\"marker\": {\"colorbar\": {\"outlinewidth\": 0, \"ticks\": \"\"}}, \"type\": \"scattermapbox\"}], \"scatterpolar\": [{\"marker\": {\"colorbar\": {\"outlinewidth\": 0, \"ticks\": \"\"}}, \"type\": \"scatterpolar\"}], \"scatterpolargl\": [{\"marker\": {\"colorbar\": {\"outlinewidth\": 0, \"ticks\": \"\"}}, \"type\": \"scatterpolargl\"}], \"scatterternary\": [{\"marker\": {\"colorbar\": {\"outlinewidth\": 0, \"ticks\": \"\"}}, \"type\": \"scatterternary\"}], \"surface\": [{\"colorbar\": {\"outlinewidth\": 0, \"ticks\": \"\"}, \"colorscale\": [[0.0, \"#0d0887\"], [0.1111111111111111, \"#46039f\"], [0.2222222222222222, \"#7201a8\"], [0.3333333333333333, \"#9c179e\"], [0.4444444444444444, \"#bd3786\"], [0.5555555555555556, \"#d8576b\"], [0.6666666666666666, \"#ed7953\"], [0.7777777777777778, \"#fb9f3a\"], [0.8888888888888888, \"#fdca26\"], [1.0, \"#f0f921\"]], \"type\": \"surface\"}], \"table\": [{\"cells\": {\"fill\": {\"color\": \"#EBF0F8\"}, \"line\": {\"color\": \"white\"}}, \"header\": {\"fill\": {\"color\": \"#C8D4E3\"}, \"line\": {\"color\": \"white\"}}, \"type\": \"table\"}]}, \"layout\": {\"annotationdefaults\": {\"arrowcolor\": \"#2a3f5f\", \"arrowhead\": 0, \"arrowwidth\": 1}, \"coloraxis\": {\"colorbar\": {\"outlinewidth\": 0, \"ticks\": \"\"}}, \"colorscale\": {\"diverging\": [[0, \"#8e0152\"], [0.1, \"#c51b7d\"], [0.2, \"#de77ae\"], [0.3, \"#f1b6da\"], [0.4, \"#fde0ef\"], [0.5, \"#f7f7f7\"], [0.6, \"#e6f5d0\"], [0.7, \"#b8e186\"], [0.8, \"#7fbc41\"], [0.9, \"#4d9221\"], [1, \"#276419\"]], \"sequential\": [[0.0, \"#0d0887\"], [0.1111111111111111, \"#46039f\"], [0.2222222222222222, \"#7201a8\"], [0.3333333333333333, \"#9c179e\"], [0.4444444444444444, \"#bd3786\"], [0.5555555555555556, \"#d8576b\"], [0.6666666666666666, \"#ed7953\"], [0.7777777777777778, \"#fb9f3a\"], [0.8888888888888888, \"#fdca26\"], [1.0, \"#f0f921\"]], \"sequentialminus\": [[0.0, \"#0d0887\"], [0.1111111111111111, \"#46039f\"], [0.2222222222222222, \"#7201a8\"], [0.3333333333333333, \"#9c179e\"], [0.4444444444444444, \"#bd3786\"], [0.5555555555555556, \"#d8576b\"], [0.6666666666666666, \"#ed7953\"], [0.7777777777777778, \"#fb9f3a\"], [0.8888888888888888, \"#fdca26\"], [1.0, \"#f0f921\"]]}, \"colorway\": [\"#636efa\", \"#EF553B\", \"#00cc96\", \"#ab63fa\", \"#FFA15A\", \"#19d3f3\", \"#FF6692\", \"#B6E880\", \"#FF97FF\", \"#FECB52\"], \"font\": {\"color\": \"#2a3f5f\"}, \"geo\": {\"bgcolor\": \"white\", \"lakecolor\": \"white\", \"landcolor\": \"#E5ECF6\", \"showlakes\": true, \"showland\": true, \"subunitcolor\": \"white\"}, \"hoverlabel\": {\"align\": \"left\"}, \"hovermode\": \"closest\", \"mapbox\": {\"style\": \"light\"}, \"paper_bgcolor\": \"white\", \"plot_bgcolor\": \"#E5ECF6\", \"polar\": {\"angularaxis\": {\"gridcolor\": \"white\", \"linecolor\": \"white\", \"ticks\": \"\"}, \"bgcolor\": \"#E5ECF6\", \"radialaxis\": {\"gridcolor\": \"white\", \"linecolor\": \"white\", \"ticks\": \"\"}}, \"scene\": {\"xaxis\": {\"backgroundcolor\": \"#E5ECF6\", \"gridcolor\": \"white\", \"gridwidth\": 2, \"linecolor\": \"white\", \"showbackground\": true, \"ticks\": \"\", \"zerolinecolor\": \"white\"}, \"yaxis\": {\"backgroundcolor\": \"#E5ECF6\", \"gridcolor\": \"white\", \"gridwidth\": 2, \"linecolor\": \"white\", \"showbackground\": true, \"ticks\": \"\", \"zerolinecolor\": \"white\"}, \"zaxis\": {\"backgroundcolor\": \"#E5ECF6\", \"gridcolor\": \"white\", \"gridwidth\": 2, \"linecolor\": \"white\", \"showbackground\": true, \"ticks\": \"\", \"zerolinecolor\": \"white\"}}, \"shapedefaults\": {\"line\": {\"color\": \"#2a3f5f\"}}, \"ternary\": {\"aaxis\": {\"gridcolor\": \"white\", \"linecolor\": \"white\", \"ticks\": \"\"}, \"baxis\": {\"gridcolor\": \"white\", \"linecolor\": \"white\", \"ticks\": \"\"}, \"bgcolor\": \"#E5ECF6\", \"caxis\": {\"gridcolor\": \"white\", \"linecolor\": \"white\", \"ticks\": \"\"}}, \"title\": {\"x\": 0.05}, \"xaxis\": {\"automargin\": true, \"gridcolor\": \"white\", \"linecolor\": \"white\", \"ticks\": \"\", \"title\": {\"standoff\": 15}, \"zerolinecolor\": \"white\", \"zerolinewidth\": 2}, \"yaxis\": {\"automargin\": true, \"gridcolor\": \"white\", \"linecolor\": \"white\", \"ticks\": \"\", \"title\": {\"standoff\": 15}, \"zerolinecolor\": \"white\", \"zerolinewidth\": 2}}}, \"width\": 400, \"xaxis\": {\"title\": {\"text\": \"Epoch\"}}, \"yaxis\": {\"title\": {\"text\": \"Loss\"}}},\n",
       "                        {\"responsive\": true}\n",
       "                    ).then(function(){\n",
       "                            \n",
       "var gd = document.getElementById('3e8e4998-2eea-4c29-bbc7-20946a39f933');\n",
       "var x = new MutationObserver(function (mutations, observer) {{\n",
       "        var display = window.getComputedStyle(gd).display;\n",
       "        if (!display || display === 'none') {{\n",
       "            console.log([gd, 'removed!']);\n",
       "            Plotly.purge(gd);\n",
       "            observer.disconnect();\n",
       "        }}\n",
       "}});\n",
       "\n",
       "// Listen for the removal of the full notebook cells\n",
       "var notebookContainer = gd.closest('#notebook-container');\n",
       "if (notebookContainer) {{\n",
       "    x.observe(notebookContainer, {childList: true});\n",
       "}}\n",
       "\n",
       "// Listen for the clearing of the current output cell\n",
       "var outputEl = gd.closest('.output');\n",
       "if (outputEl) {{\n",
       "    x.observe(outputEl, {childList: true});\n",
       "}}\n",
       "\n",
       "                        })\n",
       "                };\n",
       "                \n",
       "            </script>\n",
       "        </div>\n",
       "</body>\n",
       "</html>"
      ]
     },
     "metadata": {
      "tags": []
     },
     "output_type": "display_data"
    }
   ],
   "source": [
    "fig1,fig2=plot_all(history2, 'MAE')\n",
    "fig1.show()\n",
    "fig2.show()"
   ]
  },
  {
   "cell_type": "markdown",
   "metadata": {
    "id": "67usD9-V0_tm"
   },
   "source": [
    "## Chequeo de sanidad / Validación"
   ]
  },
  {
   "cell_type": "code",
   "execution_count": null,
   "metadata": {
    "id": "yXoC1woGcVq9"
   },
   "outputs": [],
   "source": [
    "y_pred_test1 = model1.predict(x_test1).flatten()\n",
    "y_pred_test2 = model2.predict(x_test2).flatten()"
   ]
  },
  {
   "cell_type": "code",
   "execution_count": null,
   "metadata": {
    "colab": {
     "base_uri": "https://localhost:8080/",
     "height": 35
    },
    "id": "VWZLI_SfI48y",
    "outputId": "b00d3300-b01e-4a07-abe0-c0753f2bcc02"
   },
   "outputs": [
    {
     "data": {
      "text/plain": [
       "(897,)"
      ]
     },
     "execution_count": 115,
     "metadata": {
      "tags": []
     },
     "output_type": "execute_result"
    }
   ],
   "source": [
    "y_test[:,0].shape\n",
    "y_pred_test1.shape"
   ]
  },
  {
   "cell_type": "code",
   "execution_count": null,
   "metadata": {
    "colab": {
     "base_uri": "https://localhost:8080/",
     "height": 424
    },
    "id": "aF5-EEvmIrp2",
    "outputId": "c6029c6e-f898-40bb-b18e-fe181dbc266a"
   },
   "outputs": [
    {
     "data": {
      "text/html": [
       "<div>\n",
       "<style scoped>\n",
       "    .dataframe tbody tr th:only-of-type {\n",
       "        vertical-align: middle;\n",
       "    }\n",
       "\n",
       "    .dataframe tbody tr th {\n",
       "        vertical-align: top;\n",
       "    }\n",
       "\n",
       "    .dataframe thead th {\n",
       "        text-align: right;\n",
       "    }\n",
       "</style>\n",
       "<table border=\"1\" class=\"dataframe\">\n",
       "  <thead>\n",
       "    <tr style=\"text-align: right;\">\n",
       "      <th></th>\n",
       "      <th>y_test</th>\n",
       "      <th>pred1</th>\n",
       "      <th>pred2</th>\n",
       "    </tr>\n",
       "  </thead>\n",
       "  <tbody>\n",
       "    <tr>\n",
       "      <th>0</th>\n",
       "      <td>-0.110250</td>\n",
       "      <td>-0.055716</td>\n",
       "      <td>-0.055375</td>\n",
       "    </tr>\n",
       "    <tr>\n",
       "      <th>1</th>\n",
       "      <td>-0.087017</td>\n",
       "      <td>-0.090484</td>\n",
       "      <td>-0.096755</td>\n",
       "    </tr>\n",
       "    <tr>\n",
       "      <th>2</th>\n",
       "      <td>-0.023771</td>\n",
       "      <td>-0.090484</td>\n",
       "      <td>-0.096755</td>\n",
       "    </tr>\n",
       "    <tr>\n",
       "      <th>3</th>\n",
       "      <td>-0.077982</td>\n",
       "      <td>-0.019787</td>\n",
       "      <td>-0.017114</td>\n",
       "    </tr>\n",
       "    <tr>\n",
       "      <th>4</th>\n",
       "      <td>0.240829</td>\n",
       "      <td>-0.019787</td>\n",
       "      <td>-0.017114</td>\n",
       "    </tr>\n",
       "    <tr>\n",
       "      <th>...</th>\n",
       "      <td>...</td>\n",
       "      <td>...</td>\n",
       "      <td>...</td>\n",
       "    </tr>\n",
       "    <tr>\n",
       "      <th>892</th>\n",
       "      <td>-0.037969</td>\n",
       "      <td>-0.029207</td>\n",
       "      <td>-0.029189</td>\n",
       "    </tr>\n",
       "    <tr>\n",
       "      <th>893</th>\n",
       "      <td>-0.041841</td>\n",
       "      <td>-0.019787</td>\n",
       "      <td>-0.017114</td>\n",
       "    </tr>\n",
       "    <tr>\n",
       "      <th>894</th>\n",
       "      <td>-0.090889</td>\n",
       "      <td>-0.011454</td>\n",
       "      <td>-0.009840</td>\n",
       "    </tr>\n",
       "    <tr>\n",
       "      <th>895</th>\n",
       "      <td>-0.048295</td>\n",
       "      <td>-0.065645</td>\n",
       "      <td>-0.058123</td>\n",
       "    </tr>\n",
       "    <tr>\n",
       "      <th>896</th>\n",
       "      <td>-0.081854</td>\n",
       "      <td>-0.032343</td>\n",
       "      <td>-0.027415</td>\n",
       "    </tr>\n",
       "  </tbody>\n",
       "</table>\n",
       "<p>897 rows × 3 columns</p>\n",
       "</div>"
      ],
      "text/plain": [
       "       y_test     pred1     pred2\n",
       "0   -0.110250 -0.055716 -0.055375\n",
       "1   -0.087017 -0.090484 -0.096755\n",
       "2   -0.023771 -0.090484 -0.096755\n",
       "3   -0.077982 -0.019787 -0.017114\n",
       "4    0.240829 -0.019787 -0.017114\n",
       "..        ...       ...       ...\n",
       "892 -0.037969 -0.029207 -0.029189\n",
       "893 -0.041841 -0.019787 -0.017114\n",
       "894 -0.090889 -0.011454 -0.009840\n",
       "895 -0.048295 -0.065645 -0.058123\n",
       "896 -0.081854 -0.032343 -0.027415\n",
       "\n",
       "[897 rows x 3 columns]"
      ]
     },
     "execution_count": 116,
     "metadata": {
      "tags": []
     },
     "output_type": "execute_result"
    }
   ],
   "source": [
    "pd_res=pd.DataFrame({'y_test':y_test[:,0], 'pred1':y_pred_test1, 'pred2':y_pred_test2})\n",
    "pd_res"
   ]
  },
  {
   "cell_type": "code",
   "execution_count": null,
   "metadata": {
    "colab": {
     "base_uri": "https://localhost:8080/",
     "height": 70
    },
    "id": "26ZltrbMwrZ0",
    "outputId": "ea8c66a4-4019-4df6-ff7a-c206675c034c"
   },
   "outputs": [
    {
     "name": "stdout",
     "output_type": "stream",
     "text": [
      "0.07557984900321198\n",
      "0.0816891112109701\n",
      "0.0828860737165664\n"
     ]
    }
   ],
   "source": [
    "print(abs(y_test - y_test.mean()).mean())\n",
    "\n",
    "print(abs(y_test - y_pred_test1).mean())\n",
    "\n",
    "print(abs(y_test - y_pred_test2).mean())"
   ]
  },
  {
   "cell_type": "code",
   "execution_count": null,
   "metadata": {
    "colab": {
     "base_uri": "https://localhost:8080/",
     "height": 52
    },
    "id": "F55DR4r024mG",
    "outputId": "cd86596a-ba32-4656-b0d7-42dbaf6fd958"
   },
   "outputs": [
    {
     "name": "stdout",
     "output_type": "stream",
     "text": [
      "(897,)\n",
      "(897,)\n"
     ]
    }
   ],
   "source": [
    "print(y_pred_test1.shape)\n",
    "print(y_pred_test2.shape)"
   ]
  },
  {
   "cell_type": "code",
   "execution_count": null,
   "metadata": {
    "colab": {
     "base_uri": "https://localhost:8080/",
     "height": 844
    },
    "id": "tli9Vebdw6bd",
    "outputId": "239bf1af-7553-49e1-f1bc-0061f56ccaca"
   },
   "outputs": [
    {
     "data": {
      "text/plain": [
       "array([[<matplotlib.axes._subplots.AxesSubplot object at 0x7fb4de939f98>]],\n",
       "      dtype=object)"
      ]
     },
     "execution_count": 119,
     "metadata": {
      "tags": []
     },
     "output_type": "execute_result"
    },
    {
     "data": {
      "image/png": "[encoded data removed]",
      "text/plain": [
       "<Figure size 432x288 with 1 Axes>"
      ]
     },
     "metadata": {
      "needs_background": "light",
      "tags": []
     },
     "output_type": "display_data"
    },
    {
     "data": {
      "image/png": "[encoded data removed]",
      "text/plain": [
       "<Figure size 432x288 with 1 Axes>"
      ]
     },
     "metadata": {
      "needs_background": "light",
      "tags": []
     },
     "output_type": "display_data"
    },
    {
     "data": {
      "image/png": "[encoded data removed]",
      "text/plain": [
       "<Figure size 432x288 with 1 Axes>"
      ]
     },
     "metadata": {
      "needs_background": "light",
      "tags": []
     },
     "output_type": "display_data"
    }
   ],
   "source": [
    "todf(y_test).hist()\n",
    "todf(y_pred_test1).hist()\n",
    "todf(y_pred_test2).hist()"
   ]
  },
  {
   "cell_type": "code",
   "execution_count": null,
   "metadata": {
    "colab": {
     "base_uri": "https://localhost:8080/",
     "height": 49
    },
    "id": "xq3GE0oSw7k3",
    "outputId": "ee095f5f-08c0-44cf-c647-4f9b12a7d539"
   },
   "outputs": [
    {
     "data": {
      "text/html": [
       "<div>\n",
       "<style scoped>\n",
       "    .dataframe tbody tr th:only-of-type {\n",
       "        vertical-align: middle;\n",
       "    }\n",
       "\n",
       "    .dataframe tbody tr th {\n",
       "        vertical-align: top;\n",
       "    }\n",
       "\n",
       "    .dataframe thead th {\n",
       "        text-align: right;\n",
       "    }\n",
       "</style>\n",
       "<table border=\"1\" class=\"dataframe\">\n",
       "  <thead>\n",
       "    <tr style=\"text-align: right;\">\n",
       "      <th></th>\n",
       "      <th>variable</th>\n",
       "      <th>mean</th>\n",
       "      <th>std_dev</th>\n",
       "      <th>variation_coef</th>\n",
       "      <th>p_0.01</th>\n",
       "      <th>p_0.05</th>\n",
       "      <th>p_0.25</th>\n",
       "      <th>p_0.5</th>\n",
       "      <th>p_0.75</th>\n",
       "      <th>p_0.95</th>\n",
       "      <th>p_0.99</th>\n",
       "    </tr>\n",
       "  </thead>\n",
       "  <tbody>\n",
       "  </tbody>\n",
       "</table>\n",
       "</div>"
      ],
      "text/plain": [
       "Empty DataFrame\n",
       "Columns: [variable, mean, std_dev, variation_coef, p_0.01, p_0.05, p_0.25, p_0.5, p_0.75, p_0.95, p_0.99]\n",
       "Index: []"
      ]
     },
     "execution_count": 96,
     "metadata": {
      "tags": []
     },
     "output_type": "execute_result"
    }
   ],
   "source": [
    "profiling_num(todf(y_pred_test1))\n",
    "profiling_num(y_pred_test2)"
   ]
  },
  {
   "cell_type": "code",
   "execution_count": null,
   "metadata": {
    "colab": {
     "base_uri": "https://localhost:8080/",
     "height": 300
    },
    "id": "_pTbyj2vwMr5",
    "outputId": "768222cd-062a-4809-bfc1-ac0cbf61c8fd"
   },
   "outputs": [
    {
     "data": {
      "text/html": [
       "<div>\n",
       "<style scoped>\n",
       "    .dataframe tbody tr th:only-of-type {\n",
       "        vertical-align: middle;\n",
       "    }\n",
       "\n",
       "    .dataframe tbody tr th {\n",
       "        vertical-align: top;\n",
       "    }\n",
       "\n",
       "    .dataframe thead th {\n",
       "        text-align: right;\n",
       "    }\n",
       "</style>\n",
       "<table border=\"1\" class=\"dataframe\">\n",
       "  <thead>\n",
       "    <tr style=\"text-align: right;\">\n",
       "      <th></th>\n",
       "      <th>0</th>\n",
       "    </tr>\n",
       "  </thead>\n",
       "  <tbody>\n",
       "    <tr>\n",
       "      <th>count</th>\n",
       "      <td>8.970000e+02</td>\n",
       "    </tr>\n",
       "    <tr>\n",
       "      <th>mean</th>\n",
       "      <td>-2.374022e-02</td>\n",
       "    </tr>\n",
       "    <tr>\n",
       "      <th>std</th>\n",
       "      <td>4.286474e-08</td>\n",
       "    </tr>\n",
       "    <tr>\n",
       "      <th>min</th>\n",
       "      <td>-2.374018e-02</td>\n",
       "    </tr>\n",
       "    <tr>\n",
       "      <th>25%</th>\n",
       "      <td>-2.374018e-02</td>\n",
       "    </tr>\n",
       "    <tr>\n",
       "      <th>50%</th>\n",
       "      <td>-2.374018e-02</td>\n",
       "    </tr>\n",
       "    <tr>\n",
       "      <th>75%</th>\n",
       "      <td>-2.374018e-02</td>\n",
       "    </tr>\n",
       "    <tr>\n",
       "      <th>max</th>\n",
       "      <td>-2.374018e-02</td>\n",
       "    </tr>\n",
       "  </tbody>\n",
       "</table>\n",
       "</div>"
      ],
      "text/plain": [
       "                  0\n",
       "count  8.970000e+02\n",
       "mean  -2.374022e-02\n",
       "std    4.286474e-08\n",
       "min   -2.374018e-02\n",
       "25%   -2.374018e-02\n",
       "50%   -2.374018e-02\n",
       "75%   -2.374018e-02\n",
       "max   -2.374018e-02"
      ]
     },
     "execution_count": 99,
     "metadata": {
      "tags": []
     },
     "output_type": "execute_result"
    }
   ],
   "source": [
    "todf(y_pred_test2).describe()"
   ]
  },
  {
   "cell_type": "code",
   "execution_count": null,
   "metadata": {
    "colab": {
     "base_uri": "https://localhost:8080/",
     "height": 283
    },
    "id": "EiUmuFJiArZf",
    "outputId": "c9286e6a-e2bb-4106-f702-9f72556757c5"
   },
   "outputs": [
    {
     "data": {
      "image/png": "[encoded data removed]",
      "text/plain": [
       "<Figure size 432x288 with 1 Axes>"
      ]
     },
     "metadata": {
      "needs_background": "light",
      "tags": []
     },
     "output_type": "display_data"
    }
   ],
   "source": [
    "a = plt.axes(aspect='equal')\n",
    "plt.scatter(y_test, y_pred_test1)\n",
    "plt.xlabel('True Values ')\n",
    "plt.ylabel('Predictions ')\n",
    "lims = [-1, 1]\n",
    "plt.xlim(lims)\n",
    "plt.ylim(lims)\n",
    "_ = plt.plot(lims, lims)\n"
   ]
  },
  {
   "cell_type": "code",
   "execution_count": null,
   "metadata": {
    "colab": {
     "base_uri": "https://localhost:8080/",
     "height": 283
    },
    "id": "G_gj6euY2tYW",
    "outputId": "b7de0a51-b9a9-48d6-c85d-e98e69186ee8"
   },
   "outputs": [
    {
     "data": {
      "image/png": "[encoded data removed]",
      "text/plain": [
       "<Figure size 432x288 with 1 Axes>"
      ]
     },
     "metadata": {
      "needs_background": "light",
      "tags": []
     },
     "output_type": "display_data"
    }
   ],
   "source": [
    "a = plt.axes(aspect='equal')\n",
    "plt.scatter(y_test, y_pred_test2)\n",
    "plt.xlabel('True Values ')\n",
    "plt.ylabel('Predictions ')\n",
    "lims = [-1, 1]\n",
    "plt.xlim(lims)\n",
    "plt.ylim(lims)\n",
    "_ = plt.plot(lims, lims)\n"
   ]
  },
  {
   "cell_type": "code",
   "execution_count": null,
   "metadata": {
    "id": "ColCzvxo5WqZ"
   },
   "outputs": [],
   "source": []
  }
 ],
 "metadata": {
  "accelerator": "TPU",
  "colab": {
   "collapsed_sections": [],
   "name": "A.1 - Embeddings con Keras",
   "provenance": []
  },
  "kernelspec": {
   "display_name": "Python 3",
   "language": "python",
   "name": "python3"
  },
  "language_info": {
   "codemirror_mode": {
    "name": "ipython",
    "version": 3
   },
   "file_extension": ".py",
   "mimetype": "text/x-python",
   "name": "python",
   "nbconvert_exporter": "python",
   "pygments_lexer": "ipython3",
   "version": "3.5.2"
  }
 },
 "nbformat": 4,
 "nbformat_minor": 1
}
