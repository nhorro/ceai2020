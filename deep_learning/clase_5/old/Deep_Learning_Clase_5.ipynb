{
  "nbformat": 4,
  "nbformat_minor": 0,
  "metadata": {
    "colab": {
      "name": "Deep Learning - Clase 5.ipynb",
      "provenance": []
    },
    "kernelspec": {
      "name": "python3",
      "display_name": "Python 3"
    }
  },
  "cells": [
    {
      "cell_type": "code",
      "metadata": {
        "id": "GlG3ziPdJl3F"
      },
      "source": [
        "# Tendo dos distribuciones, P (es una VA) y Q (es una VA)\n",
        "# Como puedo comparar si las distribuciones P y Q son similares o no?\n",
        "\n",
        "from scipy import stats\n",
        "import matplotlib.pyplot as plt\n",
        "import numpy as np\n",
        "\n",
        "p_samples = stats.norm.rvs(loc=5, scale=1, size=100000)"
      ],
      "execution_count": 54,
      "outputs": []
    },
    {
      "cell_type": "code",
      "metadata": {
        "id": "Nu9qi3uZQbYZ",
        "outputId": "4da25df4-8d9f-4d90-a14c-6c79d5bfaf84",
        "colab": {
          "base_uri": "https://localhost:8080/",
          "height": 282
        }
      },
      "source": [
        "q_samples = stats.norm.rvs(loc=5, scale=1, size=100000)\n",
        "\n",
        "fig, ax = plt.subplots(1,1)\n",
        "\n",
        "hist_p, bins, _ = ax.hist(p_samples, bins='auto', density=True)\n",
        "hist_q, _, _ = ax.hist(q_samples, bins=bins, density=True)\n",
        "\n",
        "width = bins[1:] - bins[:-1]\n",
        "np.testing.assert_allclose(np.sum(hist_p * width), 1, 1e-3)\n",
        "print(np.sum(hist_p * width))\n"
      ],
      "execution_count": 55,
      "outputs": [
        {
          "output_type": "stream",
          "text": [
            "1.0\n"
          ],
          "name": "stdout"
        },
        {
          "output_type": "display_data",
          "data": {
            "image/png": "[encoded data removed]",
            "text/plain": [
              "<Figure size 432x288 with 1 Axes>"
            ]
          },
          "metadata": {
            "tags": [],
            "needs_background": "light"
          }
        }
      ]
    },
    {
      "cell_type": "code",
      "metadata": {
        "id": "ryjQC7BNQvmX"
      },
      "source": [
        "# Calcular Divergencia KL \n",
        "# Dkl (P || Q)\n",
        "\n",
        "p = hist_p * width\n",
        "q = hist_q * width\n"
      ],
      "execution_count": 56,
      "outputs": []
    },
    {
      "cell_type": "code",
      "metadata": {
        "id": "aMqgTXMSR0Fu",
        "outputId": "5e45d22b-f753-48e7-eec5-4a872f6ce678",
        "colab": {
          "base_uri": "https://localhost:8080/",
          "height": 34
        }
      },
      "source": [
        "mask = (p > 0) & (q > 0)\n",
        "Dkl = np.sum(p[mask] * np.log(p[mask] / q[mask]))\n",
        "print(Dkl)"
      ],
      "execution_count": 57,
      "outputs": [
        {
          "output_type": "stream",
          "text": [
            "0.0012431736316115393\n"
          ],
          "name": "stdout"
        }
      ]
    },
    {
      "cell_type": "code",
      "metadata": {
        "id": "1vVGtmBSSPXV"
      },
      "source": [
        ""
      ],
      "execution_count": 26,
      "outputs": []
    },
    {
      "cell_type": "code",
      "metadata": {
        "id": "S1ccgm6ppyz-"
      },
      "source": [
        ""
      ],
      "execution_count": null,
      "outputs": []
    },
    {
      "cell_type": "code",
      "metadata": {
        "id": "xFeYAY2fSRY4"
      },
      "source": [
        ""
      ],
      "execution_count": null,
      "outputs": []
    }
  ]
}