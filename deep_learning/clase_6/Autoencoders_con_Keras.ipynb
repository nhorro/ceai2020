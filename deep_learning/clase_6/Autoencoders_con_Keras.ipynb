{
  "nbformat": 4,
  "nbformat_minor": 0,
  "metadata": {
    "colab": {
      "name": "Autoencoders con Keras",
      "provenance": [],
      "collapsed_sections": []
    },
    "kernelspec": {
      "name": "python3",
      "display_name": "Python 3"
    },
    "accelerator": "TPU"
  },
  "cells": [
    {
      "cell_type": "markdown",
      "metadata": {
        "id": "YblY8usDS94W"
      },
      "source": [
        "# Curso IA UBA\n",
        "\n",
        "Creado por [Pablo Casas](https://twitter.com/pabloc_ds)\n",
        "\n",
        "\n",
        "--- \n",
        "\n",
        "## Autoencoders en Keras \n",
        "\n",
        "\n",
        "<img src=\"https://www.pyimagesearch.com/wp-content/uploads/2020/02/keras_denoising_autoencoder_header.png\" width=300px>"
      ]
    },
    {
      "cell_type": "markdown",
      "metadata": {
        "id": "RFWEVzXKvHLw"
      },
      "source": [
        "### 2) Carga de datos y librerías"
      ]
    },
    {
      "cell_type": "code",
      "metadata": {
        "id": "MWE4Be7bmNAe"
      },
      "source": [
        "import tensorflow as tf\n",
        "from tensorflow import keras\n",
        "import numpy as np\n",
        "import matplotlib.pyplot as plt\n",
        "import pandas as pd\n",
        "\n",
        "#!pip install funpymodeling\n",
        "#from funpymodeling.exploratory import status, freq_tbl, profiling_num\n",
        "#from funpymodeling.data_prep import todf\n"
      ],
      "execution_count": null,
      "outputs": []
    },
    {
      "cell_type": "markdown",
      "metadata": {
        "id": "B36B0MhNxIEa"
      },
      "source": [
        "Ejemplo basado en: https://www.machinecurve.com/index.php/2019/12/26/how-to-visualize-the-encoded-state-of-an-autoencoder-with-keras/\n"
      ]
    },
    {
      "cell_type": "code",
      "metadata": {
        "id": "1uceC5ji6f2i"
      },
      "source": [
        "'''\n",
        "  Visualizing the encoded state of a simple autoencoder created with the Keras Functional API\n",
        "  with Keract.\n",
        "'''\n",
        "import keras\n",
        "from keras.layers import Input, Dense\n",
        "from keras.datasets import mnist\n",
        "from keras.models import Model\n",
        "import matplotlib.pyplot as plt\n",
        "\n",
        "# Model configuration\n",
        "img_width, img_height = 28, 28\n",
        "initial_dimension = img_width * img_height #784\n",
        "validation_split = 0.2\n",
        "verbosity = 1\n",
        "encoded_dim = 50\n",
        "\n",
        "# Load MNIST dataset\n",
        "(input_train, target_train), (input_test, target_test) = mnist.load_data()\n",
        "\n",
        "# Reshape data\n",
        "input_train = input_train.reshape(input_train.shape[0], initial_dimension)\n",
        "input_test = input_test.reshape(input_test.shape[0], initial_dimension)\n",
        "input_shape = (initial_dimension, )\n",
        "\n",
        "# Parse numbers as floats\n",
        "input_train = input_train.astype('float32')\n",
        "input_test = input_test.astype('float32')\n",
        "\n",
        "# Normalize data\n",
        "input_train = input_train / 255\n",
        "input_test = input_test / 255"
      ],
      "execution_count": null,
      "outputs": []
    },
    {
      "cell_type": "code",
      "metadata": {
        "id": "f1aFkm_oMYFg"
      },
      "source": [
        "# Define the layers\n",
        "inputs = Input(shape=input_shape)\n",
        "encoding_layer = Dense(encoded_dim, activation='relu')(inputs) # embedding!\n",
        "decoding_layer = Dense(initial_dimension, activation='sigmoid')(encoding_layer)\n",
        "\n",
        "# Instantiate the autoencoder\n",
        "autoencoder = Model(inputs, decoding_layer, name='full_autoencoder')\n",
        "\n",
        "# Instantiate the encoder\n",
        "encoder = Model(inputs, encoding_layer, name='encoder')\n",
        "\n",
        "# Instantiate the decoder\n",
        "encoded_input = Input(shape=(encoded_dim, ))\n",
        "final_ae_layer = autoencoder.layers[-1]\n",
        "decoder = Model(encoded_input, final_ae_layer(encoded_input), name='decoder')\n",
        "\n",
        "# Compile the autoencoder\n",
        "encoder.compile(optimizer='adam', loss='binary_crossentropy')\n",
        "autoencoder.compile(optimizer='adam', loss='binary_crossentropy')"
      ],
      "execution_count": null,
      "outputs": []
    },
    {
      "cell_type": "code",
      "metadata": {
        "id": "JzyVg6-j1wkj"
      },
      "source": [
        "decoder( )"
      ],
      "execution_count": null,
      "outputs": []
    },
    {
      "cell_type": "code",
      "metadata": {
        "id": "DmgnbTuTESo_",
        "outputId": "f21620c1-3cae-469a-ea57-e6f7f19d4db8",
        "colab": {
          "base_uri": "https://localhost:8080/",
          "height": 439
        }
      },
      "source": [
        "# Arquitecturas\n",
        "encoder.summary()\n",
        "decoder.summary()"
      ],
      "execution_count": null,
      "outputs": [
        {
          "output_type": "stream",
          "text": [
            "Model: \"encoder\"\n",
            "_________________________________________________________________\n",
            "Layer (type)                 Output Shape              Param #   \n",
            "=================================================================\n",
            "input_5 (InputLayer)         [(None, 784)]             0         \n",
            "_________________________________________________________________\n",
            "dense_4 (Dense)              (None, 50)                39250     \n",
            "=================================================================\n",
            "Total params: 39,250\n",
            "Trainable params: 39,250\n",
            "Non-trainable params: 0\n",
            "_________________________________________________________________\n",
            "Model: \"decoder\"\n",
            "_________________________________________________________________\n",
            "Layer (type)                 Output Shape              Param #   \n",
            "=================================================================\n",
            "input_6 (InputLayer)         [(None, 50)]              0         \n",
            "_________________________________________________________________\n",
            "dense_5 (Dense)              (None, 784)               39984     \n",
            "=================================================================\n",
            "Total params: 39,984\n",
            "Trainable params: 39,984\n",
            "Non-trainable params: 0\n",
            "_________________________________________________________________\n"
          ],
          "name": "stdout"
        }
      ]
    },
    {
      "cell_type": "code",
      "metadata": {
        "id": "xbBxyA1OEek_",
        "outputId": "851ef4db-53ad-46c2-9c56-d20c9230f94e",
        "colab": {
          "base_uri": "https://localhost:8080/",
          "height": 263
        }
      },
      "source": [
        "autoencoder.summary()"
      ],
      "execution_count": null,
      "outputs": [
        {
          "output_type": "stream",
          "text": [
            "Model: \"full_autoencoder\"\n",
            "_________________________________________________________________\n",
            "Layer (type)                 Output Shape              Param #   \n",
            "=================================================================\n",
            "input_5 (InputLayer)         [(None, 784)]             0         \n",
            "_________________________________________________________________\n",
            "dense_4 (Dense)              (None, 50)                39250     \n",
            "_________________________________________________________________\n",
            "dense_5 (Dense)              (None, 784)               39984     \n",
            "=================================================================\n",
            "Total params: 79,234\n",
            "Trainable params: 79,234\n",
            "Non-trainable params: 0\n",
            "_________________________________________________________________\n"
          ],
          "name": "stdout"
        }
      ]
    },
    {
      "cell_type": "code",
      "metadata": {
        "id": "cP_Eg6jGEhNN",
        "outputId": "415dd819-758c-48f5-b908-da719ea6462b",
        "colab": {
          "base_uri": "https://localhost:8080/",
          "height": 201
        }
      },
      "source": [
        "keras.utils.plot_model(encoder, show_shapes=True)"
      ],
      "execution_count": null,
      "outputs": [
        {
          "output_type": "execute_result",
          "data": {
            "image/png": "[encoded data removed]",
            "text/plain": [
              "<IPython.core.display.Image object>"
            ]
          },
          "metadata": {
            "tags": []
          },
          "execution_count": 24
        }
      ]
    },
    {
      "cell_type": "code",
      "metadata": {
        "id": "Brr1zsTJElsA",
        "outputId": "deadc137-61ad-450a-8ec5-e3e207ed982d",
        "colab": {
          "base_uri": "https://localhost:8080/",
          "height": 201
        }
      },
      "source": [
        "keras.utils.plot_model(decoder, show_shapes=True)"
      ],
      "execution_count": null,
      "outputs": [
        {
          "output_type": "execute_result",
          "data": {
            "image/png": "[encoded data removed]",
            "text/plain": [
              "<IPython.core.display.Image object>"
            ]
          },
          "metadata": {
            "tags": []
          },
          "execution_count": 25
        }
      ]
    },
    {
      "cell_type": "code",
      "metadata": {
        "id": "bGOQupOzERhn",
        "outputId": "2e939c9c-5ca4-48ec-8a21-076a8f19f879",
        "colab": {
          "base_uri": "https://localhost:8080/",
          "height": 312
        }
      },
      "source": [
        "keras.utils.plot_model(autoencoder, show_shapes=True)"
      ],
      "execution_count": null,
      "outputs": [
        {
          "output_type": "execute_result",
          "data": {
            "image/png": "[encoded data removed]",
            "text/plain": [
              "<IPython.core.display.Image object>"
            ]
          },
          "metadata": {
            "tags": []
          },
          "execution_count": 26
        }
      ]
    },
    {
      "cell_type": "code",
      "metadata": {
        "id": "KXKRBin8McYb",
        "outputId": "a8ffefab-6192-42a0-a776-c704832c7814",
        "colab": {
          "base_uri": "https://localhost:8080/",
          "height": 386
        }
      },
      "source": [
        "# Fit data\n",
        "autoencoder.fit(input_train, input_train, epochs=10, batch_size=128, validation_split=validation_split)"
      ],
      "execution_count": null,
      "outputs": [
        {
          "output_type": "stream",
          "text": [
            "Epoch 1/10\n",
            "375/375 [==============================] - 2s 6ms/step - loss: 0.2213 - val_loss: 0.1512\n",
            "Epoch 2/10\n",
            "375/375 [==============================] - 2s 6ms/step - loss: 0.1342 - val_loss: 0.1204\n",
            "Epoch 3/10\n",
            "375/375 [==============================] - 2s 5ms/step - loss: 0.1118 - val_loss: 0.1046\n",
            "Epoch 4/10\n",
            "375/375 [==============================] - 2s 5ms/step - loss: 0.0995 - val_loss: 0.0954\n",
            "Epoch 5/10\n",
            "375/375 [==============================] - 2s 6ms/step - loss: 0.0917 - val_loss: 0.0894\n",
            "Epoch 6/10\n",
            "375/375 [==============================] - 2s 6ms/step - loss: 0.0867 - val_loss: 0.0855\n",
            "Epoch 7/10\n",
            "375/375 [==============================] - 2s 5ms/step - loss: 0.0837 - val_loss: 0.0834\n",
            "Epoch 8/10\n",
            "375/375 [==============================] - 2s 5ms/step - loss: 0.0819 - val_loss: 0.0821\n",
            "Epoch 9/10\n",
            "375/375 [==============================] - 2s 6ms/step - loss: 0.0810 - val_loss: 0.0812\n",
            "Epoch 10/10\n",
            "375/375 [==============================] - 2s 6ms/step - loss: 0.0803 - val_loss: 0.0809\n"
          ],
          "name": "stdout"
        },
        {
          "output_type": "execute_result",
          "data": {
            "text/plain": [
              "<tensorflow.python.keras.callbacks.History at 0x7fa2440a9400>"
            ]
          },
          "metadata": {
            "tags": []
          },
          "execution_count": 27
        }
      ]
    },
    {
      "cell_type": "code",
      "metadata": {
        "id": "dtwSBJcSiMOC"
      },
      "source": [
        "def plot_img_AE(input_sample, autoencoder):\n",
        "  fig, axes = plt.subplots(1, 2)\n",
        "  fig.set_size_inches(6, 3.5)\n",
        "\n",
        "  input_sample_reshaped = input_sample.reshape((28, 28))\n",
        "  \n",
        "  reconstruction = autoencoder.predict([input_sample])\n",
        "  reconsstruction_reshaped = reconstruction.reshape((28, 28))\n",
        "\n",
        "  axes[0].imshow(input_sample_reshaped) \n",
        "  axes[0].set_title('Imágen original')\n",
        "  axes[1].imshow(reconsstruction_reshaped)\n",
        "  axes[1].set_title('Reconstrucción con AE')\n",
        "  plt.show()"
      ],
      "execution_count": null,
      "outputs": []
    },
    {
      "cell_type": "code",
      "metadata": {
        "id": "QkO9hq7ljsGf",
        "outputId": "8571e481-65d7-40a2-f9bd-19a3d116d80b",
        "colab": {
          "base_uri": "https://localhost:8080/",
          "height": 35
        }
      },
      "source": [
        "input_sample = input_test[9:10,]\n",
        "input_sample.shape"
      ],
      "execution_count": null,
      "outputs": [
        {
          "output_type": "execute_result",
          "data": {
            "text/plain": [
              "(1, 784)"
            ]
          },
          "metadata": {
            "tags": []
          },
          "execution_count": 29
        }
      ]
    },
    {
      "cell_type": "code",
      "metadata": {
        "id": "HsYXcMkHj1AD",
        "outputId": "9abb9ba6-dd72-468b-8f51-f5e89ffa63ca",
        "colab": {
          "base_uri": "https://localhost:8080/",
          "height": 35
        }
      },
      "source": [
        "input_sample = input_test[10,]\n",
        "input_sample=input_sample.reshape([1,-1])\n",
        "input_sample.shape"
      ],
      "execution_count": null,
      "outputs": [
        {
          "output_type": "execute_result",
          "data": {
            "text/plain": [
              "(1, 784)"
            ]
          },
          "metadata": {
            "tags": []
          },
          "execution_count": 30
        }
      ]
    },
    {
      "cell_type": "code",
      "metadata": {
        "id": "QBjO70wvToSb",
        "outputId": "ea07d6b5-cc77-483e-dcdc-0d85fd667ee9",
        "colab": {
          "base_uri": "https://localhost:8080/",
          "height": 216
        }
      },
      "source": [
        "input_sample=input_test[9,].reshape([1,-1])\n",
        "\n",
        "plot_img_AE(input_sample, autoencoder) # clasificacion img -> 9, AE img -> img"
      ],
      "execution_count": null,
      "outputs": [
        {
          "output_type": "display_data",
          "data": {
            "image/png": "[encoded data removed]",
            "text/plain": [
              "<Figure size 432x252 with 2 Axes>"
            ]
          },
          "metadata": {
            "tags": [],
            "needs_background": "light"
          }
        }
      ]
    },
    {
      "cell_type": "code",
      "metadata": {
        "id": "lD4n_-gdOfTx",
        "outputId": "a67feb83-645a-42b8-9fe5-6dad2cf24b1e",
        "colab": {
          "base_uri": "https://localhost:8080/",
          "height": 216
        }
      },
      "source": [
        "# Reconstruyo el 9\n",
        "input_sample2=input_test[9,].reshape([1,-1]).copy()\n",
        "input_sample2[0,270:300]=0\n",
        "plot_img_AE(input_sample2, autoencoder)"
      ],
      "execution_count": null,
      "outputs": [
        {
          "output_type": "display_data",
          "data": {
            "image/png": "[encoded data removed]",
            "text/plain": [
              "<Figure size 432x252 with 2 Axes>"
            ]
          },
          "metadata": {
            "tags": [],
            "needs_background": "light"
          }
        }
      ]
    },
    {
      "cell_type": "code",
      "metadata": {
        "id": "w60w0XX10srl",
        "outputId": "c5a38bdf-f3c9-4645-ebfd-033352be9119",
        "colab": {
          "base_uri": "https://localhost:8080/",
          "height": 216
        }
      },
      "source": [
        "rec1 = autoencoder.predict([input_sample2])\n",
        "rec2 = autoencoder.predict([rec1])\n",
        "rec3 = autoencoder.predict([rec2])\n",
        "plot_img_AE(rec3, autoencoder)\n"
      ],
      "execution_count": null,
      "outputs": [
        {
          "output_type": "display_data",
          "data": {
            "image/png": "[encoded data removed]",
            "text/plain": [
              "<Figure size 432x252 with 2 Axes>"
            ]
          },
          "metadata": {
            "tags": [],
            "needs_background": "light"
          }
        }
      ]
    },
    {
      "cell_type": "code",
      "metadata": {
        "id": "DXTYPB4nOYWa",
        "outputId": "a1250092-c5d5-41e9-8563-f9461c2cd8e9",
        "colab": {
          "base_uri": "https://localhost:8080/",
          "height": 216
        }
      },
      "source": [
        "# Le saco el ruido (suavizó) la punta del 4\n",
        "input_sample3 = input_test[160,].reshape([1,-1])\n",
        "plot_img_AE(input_sample3, autoencoder)"
      ],
      "execution_count": null,
      "outputs": [
        {
          "output_type": "display_data",
          "data": {
            "image/png": "[encoded data removed]",
            "text/plain": [
              "<Figure size 432x252 with 2 Axes>"
            ]
          },
          "metadata": {
            "tags": [],
            "needs_background": "light"
          }
        }
      ]
    },
    {
      "cell_type": "code",
      "metadata": {
        "id": "ZpG42wGUlOIW",
        "outputId": "25a3649b-981f-44e4-90d3-08490b9bcdbc",
        "colab": {
          "base_uri": "https://localhost:8080/",
          "height": 216
        }
      },
      "source": [
        "rec1 = autoencoder.predict([input_sample3])\n",
        "rec2 = autoencoder.predict([rec1])\n",
        "rec3 = autoencoder.predict([rec2])\n",
        "#rec1_resh = rec1.reshape((28, 28))\n",
        "plot_img_AE(rec3, autoencoder)"
      ],
      "execution_count": null,
      "outputs": [
        {
          "output_type": "display_data",
          "data": {
            "image/png": "[encoded data removed]",
            "text/plain": [
              "<Figure size 432x252 with 2 Axes>"
            ]
          },
          "metadata": {
            "tags": [],
            "needs_background": "light"
          }
        }
      ]
    },
    {
      "cell_type": "markdown",
      "metadata": {
        "id": "O7CPX5QA3uXo"
      },
      "source": [
        "Muy optimista para obtener estos resultados: https://arxiv.org/pdf/1804.07723.pdf xD"
      ]
    },
    {
      "cell_type": "code",
      "metadata": {
        "id": "3GUWebug9M0l"
      },
      "source": [
        "\n",
        "\n",
        "\n",
        "\n",
        "\n",
        "\n",
        "\n",
        "\n",
        "\n",
        "\n",
        "\n",
        "\n"
      ],
      "execution_count": null,
      "outputs": []
    },
    {
      "cell_type": "markdown",
      "metadata": {
        "id": "ax0OqDPQ9MNd"
      },
      "source": [
        "## Ejercicios!\n",
        "\n",
        "1) Generar un modelo con un espacio latente de 3 (reducción de dimensión)\n",
        "\n",
        "2) Crear un autoencoder para los datos de fashion mnist"
      ]
    },
    {
      "cell_type": "code",
      "metadata": {
        "id": "mlwdASaB9PEQ"
      },
      "source": [
        ""
      ],
      "execution_count": null,
      "outputs": []
    }
  ]
}