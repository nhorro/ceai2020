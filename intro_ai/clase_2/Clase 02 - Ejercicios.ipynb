{
 "cells": [
  {
   "cell_type": "markdown",
   "metadata": {},
   "source": [
    "# Ejercicios resueltos de clase 2"
   ]
  },
  {
   "cell_type": "code",
   "execution_count": 327,
   "metadata": {},
   "outputs": [],
   "source": [
    "import numpy as np\n",
    "import matplotlib.pyplot as plt"
   ]
  },
  {
   "cell_type": "markdown",
   "metadata": {},
   "source": [
    "#### Ejercicio 1\n",
    "\n",
    "Obtener para cada fila en X, el índice de la fila en C con distancia euclídea más pequeña.\n",
    "Es decir, decir para cada fila en X a qué cluster pertenece en C."
   ]
  },
  {
   "cell_type": "code",
   "execution_count": 328,
   "metadata": {},
   "outputs": [],
   "source": [
    "# Ejercicio 1\n",
    "def get_distances(X, C):\n",
    "    \"\"\"Obtiene para cada vector de X la distancia a cada vector de C.\n",
    "    X -- Array. Cada fila es un vector\n",
    "    C -- Array. Cada fila es un vector\n",
    "    \"\"\"\n",
    "   \n",
    "    \"\"\"\n",
    "    Ignorando el cuadrado y raíz por el momento, quiero calcular distances = X - C, tal que:\n",
    "\n",
    "        ~~~\n",
    "        D = [\n",
    "            X[0] - C[0],\n",
    "            X[0] - C[1],\n",
    "            X[1] - C[0],\n",
    "            X[1] - C[1],\n",
    "            X[2] - C[0],\n",
    "            X[2] - C[1]\n",
    "        ]\n",
    "        ~~~\n",
    "\n",
    "        siendo:\n",
    "\n",
    "        ~~~\n",
    "            X[0] - C[0] = [1,2,3] - [1,0,0] = [0,-2,3],\n",
    "            X[0] - C[1] = [1,2,3] - [1,0,0] = [0,2,3],\n",
    "            ...\n",
    "        ~~~\n",
    "        \n",
    "    Según https://scipy.github.io/old-wiki/pages/EricsBroadcastingDoc:\n",
    "    \n",
    "    > In order to broadcast, the size of the trailing axes for both arrays \n",
    "    > in an operation must either be the same size or one of them must be one.\n",
    "\n",
    "    Si intento restar directamente (3,3) - (2,3) Falla la regla de broadcast porque 3!=2\n",
    "    y ninguno de los dos es 1.\n",
    "    Pero si en cambio pruebo con (3,3)-(2,1,3) la regla de broadcasting permite calcular\n",
    "    (1,3)-(1,3) sobre el eje 0 (filas):\n",
    "        Operation Axis (0) Size       Trailing Axis Size\n",
    "        3                            (3) automatically reshaped to (1,3)\n",
    "        2                            (1,3)\n",
    "        \n",
    "    Nota: interpreto que es el (1,3) de dimensión 2 el que lleva a expandir el (3) a (1,3).\n",
    "    \"\"\"\n",
    "    expanded_C = C[:, None]\n",
    "    return np.sqrt(np.sum((expanded_C - X) ** 2, axis=-1))"
   ]
  },
  {
   "cell_type": "code",
   "execution_count": 329,
   "metadata": {},
   "outputs": [],
   "source": [
    "# Ejercicio 1 - Test\n",
    "\n",
    "X = np.array([\n",
    "    [1,2,3],\n",
    "    [4,5,6],\n",
    "    [7,8,9]\n",
    "])\n",
    "C = np.array([\n",
    "    [1,0,0],\n",
    "    [0,1,1]\n",
    "])\n",
    "distances = get_distances(X,C)"
   ]
  },
  {
   "cell_type": "markdown",
   "metadata": {},
   "source": [
    "#### Ejercicio 2\n",
    "\n",
    "Obtener para cada fila en X, el índice de la fila en C con distancia euclídea más pequeña.\n",
    "Es decir, decir para cada fila en X a qué cluster pertenece en C.\n",
    "Por ejemplo, si el resultado anterior fue:\n",
    "\n",
    "~~~python\n",
    "[[ 3.60555128 8.36660027 13.45362405]\n",
    "[ 2.44948974 7.54983444 12.72792206]]\n",
    "~~~\n",
    "\n",
    "El programa debería devolver [1, 1, 1]\n",
    "Hint: utilizar np.argmin"
   ]
  },
  {
   "cell_type": "code",
   "execution_count": 330,
   "metadata": {},
   "outputs": [],
   "source": [
    "# Ejercicio 2 - Test\n",
    "def get_nearest(distances):\n",
    "    return np.argmin(distances,axis=0)"
   ]
  },
  {
   "cell_type": "code",
   "execution_count": 331,
   "metadata": {},
   "outputs": [],
   "source": [
    "nearest = get_nearest(distances)"
   ]
  },
  {
   "cell_type": "markdown",
   "metadata": {},
   "source": [
    "#### Ejercicio 3\n",
    "\n",
    "K-means es uno de los algoritmos más básicos en Machine Learning no supervisado.\n",
    "Es un algoritmo de clusterización, que agrupa los datos que comparten características similares.\n",
    "Recordemos que entendemos datos como n realizaciones del vector aleatorio X.\n",
    "El algoritmo K-means funcione de la siguiente manera:\n",
    "1. El usuario selecciona la cantidad de clusters a crear (n).\n",
    "2. Se seleccionan n elementos aleatorios de X como posiciones iniciales del los centroides C.\n",
    "3. Se calcula la distancia entre todos los puntos en X y todos los puntos en C.\n",
    "4. Para cada punto en X se selecciona el centroide más cercano de C.\n",
    "5. Se recalculan los centroides C a partir de usar las filas de X que pertenecen a cada centroide.\n",
    "6. Se itera entre 3 y 5 una cantidad fija de veces o hasta que la posición de los centroides no cambie.\n",
    "\n",
    "Implementar la función def k_means(X, n) de manera tal que al finalizar devuelva la posición de los\n",
    "centroides y a que cluster pertenece cada fila de X.\n",
    "Hint: para (2) utilizar funciones de np.random, para (3) y (4) usar los ejercicios anteriores,\n",
    "para (5) es válido utilizar un for. Iterar 10 veces entre (3) y (5)."
   ]
  },
  {
   "cell_type": "code",
   "execution_count": 332,
   "metadata": {},
   "outputs": [],
   "source": [
    "# Ejercicio 3\n",
    "\n",
    "MAX_ITERATIONS = 10\n",
    "\n",
    "def k_means(X, n_clusters,max_iterations=MAX_ITERATIONS):\n",
    "    centroids = np.eye(n_clusters, X.shape[1])\n",
    "    #print(centroids)\n",
    "    for i in range(max_iterations):\n",
    "        #print(\"Iteration # {}\".format(i))\n",
    "        centroids, cluster_ids = k_means_loop(X, centroids)\n",
    "        #print(centroids)\n",
    "    return centroids, cluster_ids\n",
    "\n",
    "def k_means_loop(X, centroids):\n",
    "    # find labels for rows in X based in centroids values\n",
    "    expanded_centroids = centroids[:, None]\n",
    "    distances = np.sqrt(np.sum((expanded_centroids - X) ** 2, axis=2))\n",
    "    arg_min = np.argmin(distances, axis=0)\n",
    "    # recompute centroids\n",
    "    for i in range(centroids.shape[0]):\n",
    "        centroids[i] = np.mean(X[arg_min == i, :], axis=0)\n",
    "    return centroids, arg_min"
   ]
  },
  {
   "cell_type": "code",
   "execution_count": 333,
   "metadata": {},
   "outputs": [
    {
     "data": {
      "text/plain": [
       "(array([[ 1.19819746, -0.13760135, -0.42571892, -0.58473787],\n",
       "        [-0.15522857,  1.20505991, -0.30053494, -0.54552031],\n",
       "        [-0.53634651, -0.19557011,  1.30200757, -0.29674342],\n",
       "        [-0.28050539, -0.45120452, -0.20341983,  1.16346523]]),\n",
       " array([2, 0, 0, 2, 3, 2, 1, 1, 0, 2, 3, 0, 3, 1, 0, 1, 2, 3, 2, 2, 1, 2,\n",
       "        2, 1, 0, 0, 0, 2, 0, 1, 3, 2, 3, 3, 1, 3, 1, 0, 2, 3, 2, 2, 1, 2,\n",
       "        1, 0, 1, 3, 3, 2, 1, 2, 3, 0, 1, 3, 3, 1, 1, 3, 1, 0, 1, 0, 0, 1,\n",
       "        0, 2, 3, 0, 2, 0, 0, 3, 2, 1, 2, 2, 0, 3, 3, 2, 1, 2, 2, 1, 3, 0,\n",
       "        3, 3, 2, 0, 2, 1, 3, 1, 3, 2, 1, 0]))"
      ]
     },
     "execution_count": 333,
     "metadata": {},
     "output_type": "execute_result"
    }
   ],
   "source": [
    "# Ejercicio 3 - Test\n",
    "data, cluster_ids = build_cluster(100, 0.1)\n",
    "k_means(data,4)"
   ]
  },
  {
   "cell_type": "markdown",
   "metadata": {},
   "source": [
    "#### Ejercicio 4\n",
    "\n",
    "Utilizar numpy para crear datos clusterizados A/B en 4 dimensiones.\n",
    "\n",
    "Hint:\n",
    "- Definir una matriz con centroides [1,0,0,0] y [0,1,0,0]\n",
    "- Utilizar una constante para separar o alejar los centroides entre si.\n",
    "- Utilizar np.repeat para crear n/2 muestras de cada centroide.\n",
    "- Sumar a cada centroide un vector aleatorio normal i.i.d. con media 0 y desvio (np.random.normal).\n",
    "- Armar un arreglo que tenga n enteros indicado si la muestra pertenece a A o a B."
   ]
  },
  {
   "cell_type": "code",
   "execution_count": 334,
   "metadata": {},
   "outputs": [],
   "source": [
    "# Ejercicio 4\n",
    "\n",
    "def build_cluster(n_samples, inv_overlap):\n",
    "    \"\"\"\n",
    "    Genera muestras pertenecientes a dos clusters.\n",
    "    n_samples -- Cantidad de muestras.\n",
    "    inv_overlap -- Distancia de separación.    \n",
    "    \"\"\"\n",
    "    centroids = np.array([\n",
    "        [1,0,0,0],\n",
    "        [0,1,0,0],\n",
    "    ], dtype=np.float32)\n",
    "    centroids = centroids * inv_overlap\n",
    "    data = np.repeat(centroids, n_samples / 2, axis=0)\n",
    "    normal_noise = np.random.normal(loc=0, scale=1, size=(n_samples, 4))\n",
    "    data = data + normal_noise\n",
    "    cluster_ids = np.array([[0],[1],])\n",
    "    cluster_ids = np.repeat(cluster_ids, n_samples / 2, axis=0)\n",
    "    return data, cluster_ids"
   ]
  },
  {
   "cell_type": "code",
   "execution_count": 335,
   "metadata": {},
   "outputs": [
    {
     "data": {
      "text/plain": [
       "array([[ 1.62308543, -1.68824715,  0.81403391,  0.30171272],\n",
       "       [ 3.09066407, -1.07279074,  0.81892817,  1.35063547],\n",
       "       [ 0.5081357 , -0.85738918, -0.31567735,  0.74435572],\n",
       "       [ 0.58544819,  0.99448112, -0.14850023,  0.61722938],\n",
       "       [ 0.0307204 , -0.93963297, -0.87267591,  0.74731429],\n",
       "       [ 1.77846486, -0.77867144, -0.25735863,  0.51235265],\n",
       "       [-0.51848566,  0.63949968,  0.51165927,  1.25882047],\n",
       "       [-0.20745672,  0.18819073, -0.97642459,  0.19596659],\n",
       "       [ 0.82171211,  2.9149364 ,  0.32300191, -0.81513456],\n",
       "       [ 0.68743125,  2.37736982, -0.68516705, -0.29264682]])"
      ]
     },
     "execution_count": 335,
     "metadata": {},
     "output_type": "execute_result"
    }
   ],
   "source": [
    "# Ejercicio 4 - Test\n",
    "import matplotlib.pyplot as plt\n",
    "\n",
    "data, cluster_ids = build_cluster(10, 1)\n",
    "data"
   ]
  },
  {
   "cell_type": "markdown",
   "metadata": {},
   "source": [
    "#### Ejercicio 5\n",
    "\n",
    "Utilizar numpy para simular una exponencial de parámetro lambda.\n",
    "\n",
    "Hint:\n",
    "- Hacer una función que genere n muestras de la variable aleatoria X\n",
    "- Utilizar el resultado obtenido en la diapositiva anterior\n",
    "- Utilizar np.random.uniform"
   ]
  },
  {
   "cell_type": "code",
   "execution_count": 336,
   "metadata": {},
   "outputs": [],
   "source": [
    "# Ejercicio 5\n",
    "def exponential_random_variable(lambda_param, size):\n",
    "    u = np.random.uniform(low=0.0, high=1.0, size=size)\n",
    "    return (-1 / lambda_param) * np.log(1 - u)"
   ]
  },
  {
   "cell_type": "code",
   "execution_count": 337,
   "metadata": {},
   "outputs": [
    {
     "data": {
      "text/plain": [
       "<matplotlib.collections.PathCollection at 0x7f0917dc0a90>"
      ]
     },
     "execution_count": 337,
     "metadata": {},
     "output_type": "execute_result"
    },
    {
     "data": {
      "image/png": "[encoded data removed]",
      "text/plain": [
       "<Figure size 432x288 with 1 Axes>"
      ]
     },
     "metadata": {
      "needs_background": "light"
     },
     "output_type": "display_data"
    }
   ],
   "source": [
    "# Ejercicio 5 - Test\n",
    "\n",
    "data = exponential_random_variable(0.1,100)\n",
    "x = np.linspace(0,1,data.shape[0])\n",
    "plt.scatter(x,data)"
   ]
  },
  {
   "cell_type": "markdown",
   "metadata": {},
   "source": [
    "#### Ejercicio 6\n",
    "\n",
    "Calcular la inversa generalizada y simular.\n",
    "Sabiendo que la variable aleatoria es continua, la función de densidad de probabilidad se define según:\n",
    "$$\n",
    "F_X(x) = P(X \\le x) = \\int_{-\\infty}^{x}f(t)dt\n",
    "$$\n",
    "\n",
    "Para una variable aleatoria con función de densidad de probabilidad:\n",
    "\n",
    "$$\n",
    "f_X(x) = 3x^2\\{0 < x < 1\\}\n",
    "$$\n",
    "\n",
    "Obtener la inversa generalizada y utilizar numpy para simular n muestras."
   ]
  },
  {
   "cell_type": "code",
   "execution_count": 338,
   "metadata": {},
   "outputs": [],
   "source": [
    "# Ejercicio 6 \n",
    "# TODO"
   ]
  },
  {
   "cell_type": "code",
   "execution_count": 339,
   "metadata": {},
   "outputs": [],
   "source": [
    "# Ejercicio 6 - Test\n",
    "# TODO"
   ]
  },
  {
   "cell_type": "markdown",
   "metadata": {},
   "source": [
    "#### Ejercicio 7\n",
    "\n",
    "Dado un dataset X de n muestras y m columnas, implementar un método en numpy para normalizar con\n",
    "z-score. \n",
    "\n",
    "$$\n",
    "z = \\frac{x - \\mu}{\\sigma}\n",
    "$$\n",
    "\n",
    "Pueden utilizar np.mean() y np.std()"
   ]
  },
  {
   "cell_type": "code",
   "execution_count": 340,
   "metadata": {},
   "outputs": [],
   "source": [
    "# Ejercicio 7\n",
    "def zscore_norm(dataset):\n",
    "    \"\"\" Normaliza un dataset c/ z-score\n",
    "    -- dataset: mxn, m=muestras,n=features\n",
    "    \"\"\"\n",
    "    feat_mean = np.mean(data,axis=0)   \n",
    "    feat_std = np.std(data,axis=0)\n",
    "    return (data-feat_mean)/feat_std"
   ]
  },
  {
   "cell_type": "code",
   "execution_count": 341,
   "metadata": {
    "scrolled": true
   },
   "outputs": [
    {
     "data": {
      "text/plain": [
       "array([[ 0.46316708, -0.71803103,  0.94394167, -1.43617745],\n",
       "       [ 1.69970919,  1.16303076,  0.39085843,  0.57723698],\n",
       "       [ 0.97845176, -1.21594742,  1.43547386, -0.16361972],\n",
       "       [ 0.85525387,  0.66969527, -1.39321191,  1.73830282],\n",
       "       [-0.69823896, -0.4212617 , -0.06382516, -1.17213775],\n",
       "       [-0.52202576, -1.89943673,  0.495294  ,  1.208384  ],\n",
       "       [-0.24990879,  1.07871132, -2.03155134, -0.5564533 ],\n",
       "       [-2.06481009,  1.0996945 , -0.11847228,  0.88458224],\n",
       "       [-0.31785593,  0.2135508 ,  0.67356055, -0.69199908],\n",
       "       [-0.14374236,  0.02999423, -0.33206782, -0.38811875]])"
      ]
     },
     "execution_count": 341,
     "metadata": {},
     "output_type": "execute_result"
    }
   ],
   "source": [
    "# Ejercicio 7 - Test\n",
    "data, _ = build_cluster(10, 1)\n",
    "zscore_norm(data)"
   ]
  },
  {
   "cell_type": "markdown",
   "metadata": {},
   "source": [
    "#### Ejercicio 8\n",
    "\n",
    "Siguiendo los pasos del slide anterior, se requiere utilizar numpy para calcular PCA del dataset de entrada X\n",
    "utilizando las 2 componentes más importantes.\n",
    "\n",
    "~~~python\n",
    "x = np.array(\n",
    "    [ \n",
    "        [0.4, 4800, 5.5], [0.7, 12104, 5.2], \n",
    "        [1, 12500, 5.5], [1.5, 7002, 4.0] \n",
    "    ])\n",
    "~~~\n",
    "Al finalizar la implementación en numpy corroborar obtener los mismos resultados que utilizando el código\n",
    "de la librería scikit-learn. Para comparar las matrices escribir un tests usando np.testing.assert_allclose"
   ]
  },
  {
   "cell_type": "code",
   "execution_count": 342,
   "metadata": {},
   "outputs": [],
   "source": [
    "# Ejercicio 8\n",
    "def my_pca(x):\n",
    "    x2 = (x - x.mean(axis=0))\n",
    "    cov_1 = np.cov(x2.T)\n",
    "    w, v = np.linalg.eig(cov_1)\n",
    "    idx = w.argsort()[::-1]\n",
    "    w = w[idx]\n",
    "    v = v[:,idx]\n",
    "    return np.matmul(x2, v[:, :2])    "
   ]
  },
  {
   "cell_type": "code",
   "execution_count": 343,
   "metadata": {},
   "outputs": [
    {
     "data": {
      "text/plain": [
       "((4, 2), (4, 3))"
      ]
     },
     "execution_count": 343,
     "metadata": {},
     "output_type": "execute_result"
    }
   ],
   "source": [
    "# Ejercicio 8 - Test\n",
    "from sklearn.decomposition import PCA\n",
    "from sklearn.preprocessing import StandardScaler\n",
    "\n",
    "x = np.array([ [0.4, 4800, 5.5], [0.7, 12104, 5.2], [1, 12500, 5.5], [1.5, 7002, 4.0] ])\n",
    "x_pca_mine = my_pca(x)\n",
    "\n",
    "pca = PCA(n_components=3)\n",
    "x_std = StandardScaler(with_std=False).fit_transform(x)\n",
    "x_pca_sk = pca.fit_transform(x_std)\n",
    "\n",
    "x_pca_mine.shape, x_pca_sk.shape"
   ]
  },
  {
   "cell_type": "code",
   "execution_count": 344,
   "metadata": {},
   "outputs": [
    {
     "ename": "AssertionError",
     "evalue": "\nNot equal to tolerance rtol=1e-07, atol=0\n\n(shapes (4, 2), (4, 3) mismatch)\n x: array([[-4.301500e+03, -8.023262e-01],\n       [ 3.002500e+03, -1.289098e-01],\n       [ 3.398500e+03, -2.017142e-01],\n       [-2.099500e+03,  1.132950e+00]])\n y: array([[ 4.301500e+03, -8.023262e-01, -1.952083e-03],\n       [-3.002500e+03, -1.289098e-01,  2.066887e-01],\n       [-3.398500e+03, -2.017142e-01, -1.925836e-01],\n       [ 2.099500e+03,  1.132950e+00, -1.215309e-02]])",
     "output_type": "error",
     "traceback": [
      "\u001b[0;31m---------------------------------------------------------------------------\u001b[0m",
      "\u001b[0;31mAssertionError\u001b[0m                            Traceback (most recent call last)",
      "\u001b[0;32m<ipython-input-344-a52477b8abb9>\u001b[0m in \u001b[0;36m<module>\u001b[0;34m\u001b[0m\n\u001b[0;32m----> 1\u001b[0;31m \u001b[0mnp\u001b[0m\u001b[0;34m.\u001b[0m\u001b[0mtesting\u001b[0m\u001b[0;34m.\u001b[0m\u001b[0massert_allclose\u001b[0m\u001b[0;34m(\u001b[0m \u001b[0mx_pca_mine\u001b[0m\u001b[0;34m,\u001b[0m \u001b[0mx_pca_sk\u001b[0m \u001b[0;34m)\u001b[0m\u001b[0;34m\u001b[0m\u001b[0;34m\u001b[0m\u001b[0m\n\u001b[0m",
      "\u001b[0;32m~/anaconda3/lib/python3.7/site-packages/numpy/testing/_private/utils.py\u001b[0m in \u001b[0;36massert_allclose\u001b[0;34m(actual, desired, rtol, atol, equal_nan, err_msg, verbose)\u001b[0m\n\u001b[1;32m   1531\u001b[0m     \u001b[0mheader\u001b[0m \u001b[0;34m=\u001b[0m \u001b[0;34m'Not equal to tolerance rtol=%g, atol=%g'\u001b[0m \u001b[0;34m%\u001b[0m \u001b[0;34m(\u001b[0m\u001b[0mrtol\u001b[0m\u001b[0;34m,\u001b[0m \u001b[0matol\u001b[0m\u001b[0;34m)\u001b[0m\u001b[0;34m\u001b[0m\u001b[0;34m\u001b[0m\u001b[0m\n\u001b[1;32m   1532\u001b[0m     assert_array_compare(compare, actual, desired, err_msg=str(err_msg),\n\u001b[0;32m-> 1533\u001b[0;31m                          verbose=verbose, header=header, equal_nan=equal_nan)\n\u001b[0m\u001b[1;32m   1534\u001b[0m \u001b[0;34m\u001b[0m\u001b[0m\n\u001b[1;32m   1535\u001b[0m \u001b[0;34m\u001b[0m\u001b[0m\n",
      "\u001b[0;32m~/anaconda3/lib/python3.7/site-packages/numpy/testing/_private/utils.py\u001b[0m in \u001b[0;36massert_array_compare\u001b[0;34m(comparison, x, y, err_msg, verbose, header, precision, equal_nan, equal_inf)\u001b[0m\n\u001b[1;32m    763\u001b[0m                                 \u001b[0mverbose\u001b[0m\u001b[0;34m=\u001b[0m\u001b[0mverbose\u001b[0m\u001b[0;34m,\u001b[0m \u001b[0mheader\u001b[0m\u001b[0;34m=\u001b[0m\u001b[0mheader\u001b[0m\u001b[0;34m,\u001b[0m\u001b[0;34m\u001b[0m\u001b[0;34m\u001b[0m\u001b[0m\n\u001b[1;32m    764\u001b[0m                                 names=('x', 'y'), precision=precision)\n\u001b[0;32m--> 765\u001b[0;31m             \u001b[0;32mraise\u001b[0m \u001b[0mAssertionError\u001b[0m\u001b[0;34m(\u001b[0m\u001b[0mmsg\u001b[0m\u001b[0;34m)\u001b[0m\u001b[0;34m\u001b[0m\u001b[0;34m\u001b[0m\u001b[0m\n\u001b[0m\u001b[1;32m    766\u001b[0m \u001b[0;34m\u001b[0m\u001b[0m\n\u001b[1;32m    767\u001b[0m         \u001b[0mflagged\u001b[0m \u001b[0;34m=\u001b[0m \u001b[0mbool_\u001b[0m\u001b[0;34m(\u001b[0m\u001b[0;32mFalse\u001b[0m\u001b[0;34m)\u001b[0m\u001b[0;34m\u001b[0m\u001b[0;34m\u001b[0m\u001b[0m\n",
      "\u001b[0;31mAssertionError\u001b[0m: \nNot equal to tolerance rtol=1e-07, atol=0\n\n(shapes (4, 2), (4, 3) mismatch)\n x: array([[-4.301500e+03, -8.023262e-01],\n       [ 3.002500e+03, -1.289098e-01],\n       [ 3.398500e+03, -2.017142e-01],\n       [-2.099500e+03,  1.132950e+00]])\n y: array([[ 4.301500e+03, -8.023262e-01, -1.952083e-03],\n       [-3.002500e+03, -1.289098e-01,  2.066887e-01],\n       [-3.398500e+03, -2.017142e-01, -1.925836e-01],\n       [ 2.099500e+03,  1.132950e+00, -1.215309e-02]])"
     ]
    }
   ],
   "source": [
    "np.testing.assert_allclose( x_pca_mine, x_pca_sk )"
   ]
  },
  {
   "cell_type": "markdown",
   "metadata": {},
   "source": [
    "#### Ejercicio 9\n",
    "\n",
    "Dato un dataset, hacer una funcion que utilizando numpy filtre las columnas y las filas que tienen NaNs/"
   ]
  },
  {
   "cell_type": "code",
   "execution_count": null,
   "metadata": {},
   "outputs": [],
   "source": [
    "# Función helper para poblar dataset con NaNs\n",
    "def corrupt_dataset(dataset, percent,feat_range):   \n",
    "    \"\"\"Corrompe un dataset con NaNs\n",
    "        -- percent: porcentaje de 0=0%, 1=100% a corromper\n",
    "        -- feat_range: tupla con intervalo de columnas a corromper\n",
    "    \"\"\"\n",
    "    dataset_sz = dataset.shape[0]\n",
    "    dataset_feat = dataset.shape[1]\n",
    "    alt_row_indexes = np.random.randint(low=0, high=dataset_sz, size=int(dataset_sz*percent), dtype='l')  \n",
    "    alt_col_indexes = np.random.randint(\n",
    "        low=feat_range[0], \n",
    "        high=feat_range[1], \n",
    "        size=int(dataset_sz*percent), dtype='l')  \n",
    "    dataset[alt_row_indexes,alt_col_indexes] = None\n",
    "    return dataset"
   ]
  },
  {
   "cell_type": "code",
   "execution_count": null,
   "metadata": {},
   "outputs": [],
   "source": [
    "def drop_rows_with_nan(corrupted_dataset):\n",
    "    \"\"\"Elimina filas que tengan NaNs\n",
    "    \"\"\"\n",
    "    return corrupted_dataset[np.all(np.isfinite(corrupted_dataset), axis=1)]\n",
    "\n",
    "def drop_cols_with_nan(corrupted_dataset):\n",
    "    \"\"\"Elimina columnas que tengan NaNs\n",
    "    \"\"\"\n",
    "    return corrupted_dataset[:,np.all(np.isfinite(corrupted_dataset), axis=0)]"
   ]
  },
  {
   "cell_type": "code",
   "execution_count": null,
   "metadata": {},
   "outputs": [],
   "source": [
    "# Ejercicio 9 - Test\n",
    "dataset, _ =  build_cluster(10, 1)\n",
    "corrupted_dataset = corrupt_dataset(dataset, 0.4,(0,3))\n",
    "corrupted_dataset"
   ]
  },
  {
   "cell_type": "code",
   "execution_count": null,
   "metadata": {},
   "outputs": [],
   "source": [
    "drop_rows_with_nan(corrupted_dataset)"
   ]
  },
  {
   "cell_type": "code",
   "execution_count": null,
   "metadata": {},
   "outputs": [],
   "source": [
    "dataset, _ =  build_cluster(10, 1)\n",
    "corrupted_dataset = corrupt_dataset(dataset, 0.4,(0,2))\n",
    "corrupted_dataset"
   ]
  },
  {
   "cell_type": "code",
   "execution_count": null,
   "metadata": {},
   "outputs": [],
   "source": [
    "drop_cols_with_nan(corrupted_dataset)"
   ]
  },
  {
   "cell_type": "markdown",
   "metadata": {},
   "source": [
    "#### Ejercicio 10 (TODO)\n",
    "\n",
    "Reemplazar NaNs por la media de la columna. Dato un dataset, hacer una función que utilizando numpy reemplace los NaNs por la media de la columna."
   ]
  },
  {
   "cell_type": "code",
   "execution_count": null,
   "metadata": {},
   "outputs": [],
   "source": [
    "# Ejercicio 10\n",
    "def replace_nans_with_mean(dataset):\n",
    "    filtered_rows = drop_rows_with_nan(dataset)\n",
    "    col_avg = filtered_rows.mean(axis=0)\n",
    "    nan_mask = np.isnan(dataset)\n",
    "    dataset[nan_mask] = col_avg\n",
    "    return dataset"
   ]
  },
  {
   "cell_type": "code",
   "execution_count": null,
   "metadata": {},
   "outputs": [],
   "source": [
    "# Ejercicio 10 - Test\n",
    "dataset, _ =  build_cluster(10, 1)\n",
    "corrupted_dataset = corrupt_dataset(dataset, 0.4,(0,2))\n",
    "corrupted_dataset"
   ]
  },
  {
   "cell_type": "code",
   "execution_count": null,
   "metadata": {},
   "outputs": [],
   "source": [
    "replace_nans_with_mean(corrupted_dataset)"
   ]
  },
  {
   "cell_type": "code",
   "execution_count": null,
   "metadata": {},
   "outputs": [],
   "source": [
    "col_avg = filtered_rows.mean(axis=0)\n",
    "col_avg"
   ]
  },
  {
   "cell_type": "code",
   "execution_count": null,
   "metadata": {
    "scrolled": true
   },
   "outputs": [],
   "source": [
    "nan_mask = np.isnan(corrupted_dataset)\n",
    "nan_mask"
   ]
  },
  {
   "cell_type": "code",
   "execution_count": null,
   "metadata": {},
   "outputs": [],
   "source": []
  },
  {
   "cell_type": "code",
   "execution_count": null,
   "metadata": {},
   "outputs": [],
   "source": [
    "corrupted_dataset"
   ]
  },
  {
   "cell_type": "markdown",
   "metadata": {},
   "source": [
    "#### Ejercicio 11 \n",
    "\n",
    "Dado un dataset X separarlo en 70 / 20 / 10.\n",
    "\n",
    "Hint: A partir de utilizar np.random.permutation hacer un método que dado un dataset, devuelva los 3 datasets\n",
    "como nuevos numpy arrays."
   ]
  },
  {
   "cell_type": "code",
   "execution_count": null,
   "metadata": {},
   "outputs": [],
   "source": [
    "# Ejercicio 11\n",
    "def split_dataset(dataset, training=0.7, validation=0.2,testing=0.1):\n",
    "    \"\"\" Dado un dataset, lo particiona en training, validation y testing y devuelve estos tres arrays.\n",
    "    \"\"\"\n",
    "    dataset_sz = dataset.shape[0]\n",
    "    i0 = int(dataset_sz*training)\n",
    "    i1 = int(dataset_sz*(training+validation))\n",
    "    indices = np.random.permutation(dataset_sz)\n",
    "    training_idx, validation_idx, testing_idx = indices[0:i0], indices[i0:i1],indices[i1:]    \n",
    "    return dataset[training_idx], dataset[validation_idx], dataset[testing_idx]"
   ]
  },
  {
   "cell_type": "code",
   "execution_count": null,
   "metadata": {},
   "outputs": [],
   "source": [
    "# Ejercicio 11 - Test\n",
    "dataset, _ =  build_cluster(10, 1)\n",
    "split_dataset(dataset)"
   ]
  },
  {
   "cell_type": "markdown",
   "metadata": {},
   "source": [
    "# Ejercicio 12 (integrador)"
   ]
  },
  {
   "cell_type": "markdown",
   "metadata": {},
   "source": [
    "1. Generar un dataset sintético que clusterice data en 4 clusters utilizando números random.\n",
    " - a. Utilizar 4 dimensiones.\n",
    " - b. Generar un dataset con 100K de muestras."
   ]
  },
  {
   "cell_type": "code",
   "execution_count": null,
   "metadata": {},
   "outputs": [],
   "source": [
    "N_SAMPLES = 100000\n",
    "N_CLUSTERS = 4\n",
    "dataset,clusters = build_cluster(N_SAMPLES,N_CLUSTERS)\n",
    "dataset.shape"
   ]
  },
  {
   "cell_type": "markdown",
   "metadata": {},
   "source": [
    "2. Cambiar algunos puntos de manera aleatoria y agregar NaN (0.1% del dataset)."
   ]
  },
  {
   "cell_type": "code",
   "execution_count": null,
   "metadata": {},
   "outputs": [],
   "source": [
    "alt_indexes = np.random.randint(low=0, high=N_SAMPLES-1, size=int(N_SAMPLES*0.1), dtype='l')\n",
    "alt_indexes"
   ]
  },
  {
   "cell_type": "code",
   "execution_count": null,
   "metadata": {},
   "outputs": [],
   "source": [
    "dataset[10]"
   ]
  },
  {
   "cell_type": "code",
   "execution_count": null,
   "metadata": {},
   "outputs": [],
   "source": [
    "np.random.rand(1,4)\n",
    "help(np.random.rand)"
   ]
  },
  {
   "cell_type": "code",
   "execution_count": null,
   "metadata": {},
   "outputs": [],
   "source": [
    "random_vector = np.random.rand(low=-1.0, high=1.0, size=4)\n",
    "random_vector"
   ]
  },
  {
   "cell_type": "markdown",
   "metadata": {},
   "source": [
    "3. Guardar el dataset en un .pkl\n"
   ]
  },
  {
   "cell_type": "code",
   "execution_count": null,
   "metadata": {},
   "outputs": [],
   "source": []
  },
  {
   "cell_type": "markdown",
   "metadata": {},
   "source": [
    "4. Cargar el dataset con Numpy desde el .pkl\n"
   ]
  },
  {
   "cell_type": "code",
   "execution_count": null,
   "metadata": {},
   "outputs": [],
   "source": []
  },
  {
   "cell_type": "markdown",
   "metadata": {},
   "source": [
    "5. Completar NaN con la media de cada feature.\n"
   ]
  },
  {
   "cell_type": "code",
   "execution_count": null,
   "metadata": {},
   "outputs": [],
   "source": []
  },
  {
   "cell_type": "markdown",
   "metadata": {},
   "source": [
    "6. Calcular la norma l2, la media y el desvío de cada feature con funciones numpy vectorizadas.\n"
   ]
  },
  {
   "cell_type": "code",
   "execution_count": null,
   "metadata": {},
   "outputs": [],
   "source": []
  },
  {
   "cell_type": "markdown",
   "metadata": {},
   "source": [
    "7. Agregar una columna a partir de generar una variable aleatoria exponencial a todos los puntos.\n"
   ]
  },
  {
   "cell_type": "code",
   "execution_count": null,
   "metadata": {},
   "outputs": [],
   "source": []
  },
  {
   "cell_type": "markdown",
   "metadata": {},
   "source": [
    "8. Hacer el histograma de la distribución exponencial.\n"
   ]
  },
  {
   "cell_type": "code",
   "execution_count": null,
   "metadata": {},
   "outputs": [],
   "source": []
  },
  {
   "cell_type": "markdown",
   "metadata": {},
   "source": [
    "9. Aplicar PCA al dataset reduciendo a 2 dimensiones y graficar el cluster.\n"
   ]
  },
  {
   "cell_type": "code",
   "execution_count": null,
   "metadata": {},
   "outputs": [],
   "source": []
  },
  {
   "cell_type": "markdown",
   "metadata": {},
   "source": [
    "10. Hacer la clusterización con el k-means desarrollado en clase.\n"
   ]
  },
  {
   "cell_type": "code",
   "execution_count": null,
   "metadata": {},
   "outputs": [],
   "source": []
  },
  {
   "cell_type": "markdown",
   "metadata": {},
   "source": [
    "11. Volver a graficar el cluster con lo obtenido en (10) y comparar resultados con (9).\n"
   ]
  },
  {
   "cell_type": "code",
   "execution_count": null,
   "metadata": {},
   "outputs": [],
   "source": []
  },
  {
   "cell_type": "markdown",
   "metadata": {},
   "source": [
    "12. Analizar qué pasa si los clusters comienzan a tener overlapping."
   ]
  },
  {
   "cell_type": "code",
   "execution_count": null,
   "metadata": {},
   "outputs": [],
   "source": []
  }
 ],
 "metadata": {
  "kernelspec": {
   "display_name": "Python 3",
   "language": "python",
   "name": "python3"
  },
  "language_info": {
   "codemirror_mode": {
    "name": "ipython",
    "version": 3
   },
   "file_extension": ".py",
   "mimetype": "text/x-python",
   "name": "python",
   "nbconvert_exporter": "python",
   "pygments_lexer": "ipython3",
   "version": "3.7.7"
  }
 },
 "nbformat": 4,
 "nbformat_minor": 4
}
