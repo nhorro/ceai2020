{
 "cells": [
  {
   "cell_type": "markdown",
   "metadata": {},
   "source": [
    "# Práctica Clase 3 - Regresión Lineal y organización de código"
   ]
  },
  {
   "cell_type": "markdown",
   "metadata": {},
   "source": [
    "## Clases para Dataset, Modelos, y Métricas\n",
    "\n",
    "Nota: luego se pasarán a un módulo separado."
   ]
  },
  {
   "cell_type": "code",
   "execution_count": 1,
   "metadata": {},
   "outputs": [],
   "source": [
    "import numpy as np\n",
    "import matplotlib.pyplot as plt"
   ]
  },
  {
   "cell_type": "markdown",
   "metadata": {},
   "source": [
    "### Dataset"
   ]
  },
  {
   "cell_type": "code",
   "execution_count": 2,
   "metadata": {},
   "outputs": [],
   "source": [
    "# Data \n",
    "\n",
    "class Data(object):    \n",
    "    def __init__(self, path):\n",
    "        self.dataset = self._build_dataset(path)        \n",
    "    \n",
    "    def split(self, percentage=0.8):\n",
    "        \"\"\" Particiona un dataset y devuelve las dos partes\n",
    "        \"\"\"\n",
    "        dataset_sz = self.dataset.shape[0]\n",
    "        i0 = int(dataset_sz*percentage)\n",
    "        indices = np.random.permutation(dataset_sz)\n",
    "        training_idx, validation_idx = indices[0:i0], indices[i0:]\n",
    "        return self.dataset[training_idx], self.dataset[validation_idx]\n",
    "    \n",
    "    def _build_dataset(self,path):\n",
    "        \"\"\"Construye un dataset de tipo X,Y con X de un único feature.\n",
    "        \"\"\"\n",
    "        structure_dt = [('x', np.float32),('y', np.float32)]\n",
    "        structure = np.dtype(structure_dt)\n",
    "        with open(path, encoding=\"utf8\") as dataset_csv:\n",
    "            next(dataset_csv) # skip header\n",
    "            gen = ((line.split(',')[1],line.split(',')[2]) for line in dataset_csv)\n",
    "            samples = np.fromiter(gen, structure)\n",
    "        return samples"
   ]
  },
  {
   "cell_type": "markdown",
   "metadata": {},
   "source": [
    "### Models"
   ]
  },
  {
   "cell_type": "code",
   "execution_count": 3,
   "metadata": {},
   "outputs": [],
   "source": [
    "# Models    \n",
    "    \n",
    "class BaseModel(object):\n",
    "    def __init__(self):\n",
    "        self.model = None\n",
    "    \n",
    "    def fit(self, X, Y):\n",
    "        # train model\n",
    "        return NotImplemented\n",
    "    \n",
    "    def predict(self, X):\n",
    "        # return Y_hat\n",
    "        return NotImplemented"
   ]
  },
  {
   "cell_type": "code",
   "execution_count": 4,
   "metadata": {},
   "outputs": [],
   "source": [
    "class LinearRegressionModel(BaseModel):\n",
    "    \n",
    "    def __init__(self):\n",
    "        BaseModel.__init__(self)\n",
    "        self.model = None\n",
    "    \n",
    "    def fit(self, X, Y):        \n",
    "        # Ver: es correcto hacer este reshaping?\n",
    "        _X = np.expand_dims(X, axis=1)        \n",
    "        _Y = np.expand_dims(Y, axis=1)\n",
    "        \n",
    "        self.W = np.linalg.inv(_X.T@_X)@(_X.T@Y).reshape(1,1) # Ver reshaping\n",
    "        return self.W\n",
    "    \n",
    "    def predict(self, X):\n",
    "        # Ver no parece estar bien este reshaping\n",
    "        _X = np.expand_dims(X, axis=1)                \n",
    "        return self.W@_X.T # Ver"
   ]
  },
  {
   "cell_type": "markdown",
   "metadata": {},
   "source": [
    "### Metrics"
   ]
  },
  {
   "cell_type": "code",
   "execution_count": 5,
   "metadata": {},
   "outputs": [],
   "source": [
    "# Metrics    \n",
    "    \n",
    "class Metric(object):    \n",
    "    def __call__(self,target,prediction):\n",
    "        return NotImplemented\n",
    "    \n",
    "class MSE(Metric):\n",
    "    def __call__(self,target,prediction):\n",
    "        assert(target.shape==prediction.shape)\n",
    "        n = target.shape[0]\n",
    "        return np.sum(np.square(prediction-target))/n"
   ]
  },
  {
   "cell_type": "markdown",
   "metadata": {},
   "source": [
    "## Uso con dataset \"Income vs. Happyness\""
   ]
  },
  {
   "cell_type": "code",
   "execution_count": 6,
   "metadata": {},
   "outputs": [
    {
     "data": {
      "text/plain": [
       "((398,), (100,))"
      ]
     },
     "execution_count": 6,
     "metadata": {},
     "output_type": "execute_result"
    }
   ],
   "source": [
    "DATASET_FILENAME=\"income_data/income.data.csv\" # income, happiness\n",
    "\n",
    "dataset = Data(DATASET_FILENAME)\n",
    "train_ds, test_ds = dataset.split()\n",
    "train_ds.shape, test_ds.shape"
   ]
  },
  {
   "cell_type": "code",
   "execution_count": 7,
   "metadata": {},
   "outputs": [],
   "source": [
    "model = LinearRegressionModel()\n",
    "_ = model.fit(train_ds['x'],train_ds['y'])"
   ]
  },
  {
   "cell_type": "code",
   "execution_count": 8,
   "metadata": {
    "scrolled": true
   },
   "outputs": [
    {
     "data": {
      "image/png": "[encoded data removed]",
      "text/plain": [
       "<Figure size 864x576 with 1 Axes>"
      ]
     },
     "metadata": {
      "needs_background": "light"
     },
     "output_type": "display_data"
    }
   ],
   "source": [
    "x_test = test_ds['x']\n",
    "y_test = test_ds['y']\n",
    "\n",
    "y_pred = model.predict(x_test)[0,:]\n",
    "\n",
    "plt.figure(figsize=(12,8))\n",
    "plt.grid(which=\"Both\")\n",
    "plt.xlabel(\"Income\")\n",
    "plt.ylabel(\"Happyness\")\n",
    "plt.scatter(x_test,y_test,color='b')\n",
    "plt.plot(x_test,y_pred,color='r')\n",
    "plt.legend([\"Real\",\"Predicted\"])\n",
    "plt.title(\"Regresión Lineal para Nivel de Ingreso vs Nivel de Felicidad\")\n",
    "plt.show()"
   ]
  },
  {
   "cell_type": "code",
   "execution_count": 9,
   "metadata": {},
   "outputs": [
    {
     "data": {
      "text/plain": [
       "0.547610067242953"
      ]
     },
     "execution_count": 9,
     "metadata": {},
     "output_type": "execute_result"
    }
   ],
   "source": [
    "# Evaluación training set\n",
    "metric = MSE()\n",
    "metric(train_ds['y'], model.predict(train_ds['x'])[0,:]) # Revisar slicing"
   ]
  },
  {
   "cell_type": "code",
   "execution_count": 10,
   "metadata": {},
   "outputs": [
    {
     "data": {
      "text/plain": [
       "1.358495635986328"
      ]
     },
     "execution_count": 10,
     "metadata": {},
     "output_type": "execute_result"
    }
   ],
   "source": [
    "# Evaluación test set\n",
    "metric = MSE()\n",
    "metric(x_test, y_pred)"
   ]
  }
 ],
 "metadata": {
  "kernelspec": {
   "display_name": "Python 3",
   "language": "python",
   "name": "python3"
  },
  "language_info": {
   "codemirror_mode": {
    "name": "ipython",
    "version": 3
   },
   "file_extension": ".py",
   "mimetype": "text/x-python",
   "name": "python",
   "nbconvert_exporter": "python",
   "pygments_lexer": "ipython3",
   "version": "3.7.7"
  }
 },
 "nbformat": 4,
 "nbformat_minor": 4
}
