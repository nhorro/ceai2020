{
 "cells": [
  {
   "cell_type": "markdown",
   "metadata": {},
   "source": [
    "# Procedimiento de ensayo de puesta en marcha de Rover\n",
    "\n",
    "Este cuaderno interactivo tiene como objetivo verificar la funcionalidad del Rover. Esta organizado en secciónes, donde cada sección es un un test que ejercita alguna de las funciones Rover.\n",
    "\n",
    "**Contenido**\n",
    "\n",
    "1. Precondiciones. Configuración de ambiente de prueba.\n",
    "2. Test de conectividad.\n",
    "3. Test de control de motores (manual). \n",
    "4. Test de lectura de tacómetros.\n",
    "5. Test de lectura de IMU.\n",
    "6. Test de lectura de GPS.\n",
    "7. Test de lazo de control PID.\n",
    "8. Cierre."
   ]
  },
  {
   "cell_type": "markdown",
   "metadata": {},
   "source": [
    "## 1. Precondiciones"
   ]
  },
  {
   "cell_type": "markdown",
   "metadata": {},
   "source": []
  },
  {
   "cell_type": "markdown",
   "metadata": {},
   "source": [
    "## 2. Test de conectividad"
   ]
  },
  {
   "cell_type": "code",
   "execution_count": null,
   "metadata": {},
   "outputs": [],
   "source": [
    "#!pip install pyserial"
   ]
  },
  {
   "cell_type": "code",
   "execution_count": 1,
   "metadata": {
    "scrolled": true
   },
   "outputs": [],
   "source": [
    "%load_ext autoreload\n",
    "%autoreload 2\n",
    "\n",
    "import sys\n",
    "import pandas\n",
    "import numpy as np\n",
    "import time\n",
    "import datetime\n",
    "\n",
    "%matplotlib inline\n",
    "import matplotlib.pyplot as plt"
   ]
  },
  {
   "cell_type": "code",
   "execution_count": 81,
   "metadata": {},
   "outputs": [],
   "source": [
    "ROVER_PORT = '/dev/ttyACM1'\n",
    "ROVER_BAUDRATE = 9600"
   ]
  },
  {
   "cell_type": "code",
   "execution_count": 129,
   "metadata": {},
   "outputs": [],
   "source": [
    "from rover import RoverClient\n",
    "rover = RoverClient(ROVER_PORT,ROVER_BAUDRATE)"
   ]
  },
  {
   "cell_type": "markdown",
   "metadata": {},
   "source": [
    "### Estado inicial de telemetrías"
   ]
  },
  {
   "cell_type": "code",
   "execution_count": 130,
   "metadata": {},
   "outputs": [
    {
     "name": "stdout",
     "output_type": "stream",
     "text": [
      "ACCEPTED_PACKETS: 0\n",
      "REJECTED_PACKETS: 0\n",
      "LAST_OPCODE: 0x00\n",
      "LAST_ERROR: 0x00\n",
      "STATUS: 0x00\n"
     ]
    }
   ],
   "source": [
    "rover.print_general_tmy()"
   ]
  },
  {
   "cell_type": "code",
   "execution_count": 131,
   "metadata": {},
   "outputs": [],
   "source": [
    "assert(rover.TMY_PARAM_ACCEPTED_PACKETS == 0)\n",
    "assert(rover.TMY_PARAM_REJECTED_PACKETS == 0)\n",
    "assert(rover.TMY_PARAM_LAST_OPCODE == 0)\n",
    "assert(rover.TMY_PARAM_LAST_ERROR == 0)\n",
    "assert(rover.TMY_PARAM_STATUS == 0)"
   ]
  },
  {
   "cell_type": "markdown",
   "metadata": {},
   "source": [
    "Frecuencia de reportes."
   ]
  },
  {
   "cell_type": "code",
   "execution_count": 194,
   "metadata": {},
   "outputs": [
    {
     "data": {
      "text/plain": [
       "{'GENERAL_TELEMETRY': 7799,\n",
       " 'COMMAND_EXECUTION_STATUS': 0,\n",
       " 'IMU_AHRS_STATE': 0,\n",
       " 'MOTION_CONTROL_STATE': 25724,\n",
       " 'GPS_STATE': 2575,\n",
       " 'INVALID': 1}"
      ]
     },
     "execution_count": 194,
     "metadata": {},
     "output_type": "execute_result"
    }
   ],
   "source": [
    "rover.get_report_counts()"
   ]
  },
  {
   "cell_type": "markdown",
   "metadata": {},
   "source": [
    "## Control básico y recepción de telemetrías de estado"
   ]
  },
  {
   "cell_type": "code",
   "execution_count": 371,
   "metadata": {},
   "outputs": [
    {
     "name": "stdout",
     "output_type": "stream",
     "text": [
      "ACCEPTED_PACKETS: 0\n",
      "REJECTED_PACKETS: 0\n",
      "LAST_OPCODE: 0x00\n",
      "LAST_ERROR: 0x00\n",
      "STATUS: 0x00\n"
     ]
    }
   ],
   "source": [
    "rover.print_general_tmy()"
   ]
  },
  {
   "cell_type": "code",
   "execution_count": 195,
   "metadata": {
    "scrolled": true
   },
   "outputs": [],
   "source": [
    "accepted_packets_before = rover.TMY_PARAM_ACCEPTED_PACKETS\n",
    "rejected_packets_before = rover.TMY_PARAM_REJECTED_PACKETS\n",
    "last_opcode_before = rover.TMY_PARAM_LAST_OPCODE\n",
    "last_error_before = rover.TMY_PARAM_LAST_ERROR\n",
    "\n",
    "rover.led_on()\n",
    "time.sleep(1)\n",
    "\n",
    "accepted_packets_after = rover.TMY_PARAM_ACCEPTED_PACKETS\n",
    "rejected_packets_after = rover.TMY_PARAM_REJECTED_PACKETS\n",
    "last_opcode_after = rover.TMY_PARAM_LAST_OPCODE\n",
    "last_error_after = rover.TMY_PARAM_LAST_ERROR\n",
    "\n",
    "assert(accepted_packets_after == (accepted_packets_before+1))\n",
    "assert(rejected_packets_after == rejected_packets_before)\n",
    "assert(last_opcode_after == rover.CMD_LED_ON)"
   ]
  },
  {
   "cell_type": "code",
   "execution_count": 198,
   "metadata": {},
   "outputs": [
    {
     "name": "stdout",
     "output_type": "stream",
     "text": [
      "ACCEPTED_PACKETS: 0\n",
      "REJECTED_PACKETS: 0\n",
      "LAST_OPCODE: 0x00\n",
      "LAST_ERROR: 0x00\n",
      "STATUS: 0x00\n"
     ]
    }
   ],
   "source": [
    "rover.print_general_tmy()"
   ]
  },
  {
   "cell_type": "code",
   "execution_count": 199,
   "metadata": {},
   "outputs": [],
   "source": [
    "accepted_packets_before = rover.TMY_PARAM_ACCEPTED_PACKETS\n",
    "rejected_packets_before = rover.TMY_PARAM_REJECTED_PACKETS\n",
    "last_opcode_before = rover.TMY_PARAM_LAST_OPCODE\n",
    "last_error_before = rover.TMY_PARAM_LAST_ERROR\n",
    "\n",
    "rover.led_off()\n",
    "time.sleep(1)\n",
    "\n",
    "accepted_packets_after = rover.TMY_PARAM_ACCEPTED_PACKETS\n",
    "rejected_packets_after = rover.TMY_PARAM_REJECTED_PACKETS\n",
    "last_opcode_after = rover.TMY_PARAM_LAST_OPCODE\n",
    "last_error_after = rover.TMY_PARAM_LAST_ERROR\n",
    "\n",
    "assert(accepted_packets_after == (accepted_packets_before+1))\n",
    "assert(rejected_packets_after == rejected_packets_before)\n",
    "assert(last_opcode_after == rover.CMD_LED_OFF)"
   ]
  },
  {
   "cell_type": "code",
   "execution_count": 200,
   "metadata": {},
   "outputs": [
    {
     "name": "stdout",
     "output_type": "stream",
     "text": [
      "ACCEPTED_PACKETS: 1\n",
      "REJECTED_PACKETS: 0\n",
      "LAST_OPCODE: 0x02\n",
      "LAST_ERROR: 0x00\n",
      "STATUS: 0x00\n"
     ]
    }
   ],
   "source": [
    "rover.print_general_tmy()"
   ]
  },
  {
   "cell_type": "markdown",
   "metadata": {},
   "source": [
    "## 4. Test de control de motores (manual)"
   ]
  },
  {
   "cell_type": "markdown",
   "metadata": {},
   "source": [
    "Estado inicial de motores."
   ]
  },
  {
   "cell_type": "code",
   "execution_count": 260,
   "metadata": {},
   "outputs": [
    {
     "name": "stdout",
     "output_type": "stream",
     "text": [
      "TACHO1_SPEED: 70.100\n",
      "TACHO2_SPEED: 140.199\n",
      "TACHO3_SPEED: 210.301\n",
      "TACHO4_SPEED: 280.398\n",
      "TACHO1_COUNT: 0.000\n",
      "TACHO2_COUNT: 0.000\n",
      "TACHO3_COUNT: 0.000\n",
      "TACHO4_COUNT: 0.000\n",
      "MOTOR_A_THROTTLE: 0\n",
      "MOTOR_B_THROTTLE: 0\n",
      "MOTOR_A_SETPOINT_SPEED: 0.000\n",
      "MOTOR_B_SETPOINT_SPEED: 0.000\n"
     ]
    }
   ],
   "source": [
    "rover.print_motor_tmy()"
   ]
  },
  {
   "cell_type": "code",
   "execution_count": 14,
   "metadata": {},
   "outputs": [],
   "source": [
    "assert(rover.TMY_PARAM_MOTOR_A_THROTTLE == 0)\n",
    "assert(rover.TMY_PARAM_MOTOR_B_THROTTLE == 0)"
   ]
  },
  {
   "cell_type": "code",
   "execution_count": 29,
   "metadata": {},
   "outputs": [],
   "source": [
    "def plot_motor_command_vs_tmy(tmy_readings,title):\n",
    "    fig,axes = plt.subplots(1,2,figsize=(18,6))\n",
    "\n",
    "    axes[0].scatter(tmy_readings[:,0],tmy_readings[:,1],color=\"r\")\n",
    "    axes[0].set_title(\"MOTOR_A\")\n",
    "    axes[0].grid(which=\"Both\")\n",
    "    axes[0].set_xlabel(\"Valor escrito\")\n",
    "    axes[0].set_ylabel(\"Valor leído (TMY)\")\n",
    "    #axes[0].set_xlim(0,MAX_THROTTLE)\n",
    "    #axes[0].set_ylim(0,MAX_THROTTLE)\n",
    "\n",
    "    axes[1].scatter(tmy_readings[:,0],tmy_readings[:,2],color=\"b\")\n",
    "    axes[1].set_title(\"MOTOR_B\")\n",
    "    axes[1].grid(which=\"Both\")\n",
    "    axes[1].set_xlabel(\"Valor escrito\")\n",
    "    axes[1].set_ylabel(\"Valor leído (TMY)\")\n",
    "    #axes[1].set_xlim(0,MAX_THROTTLE)\n",
    "    #axes[1].set_ylim(0,MAX_THROTTLE)\n",
    "\n",
    "    fig.suptitle(title);"
   ]
  },
  {
   "cell_type": "code",
   "execution_count": 15,
   "metadata": {},
   "outputs": [],
   "source": [
    "MAX_THROTTLE = 1024"
   ]
  },
  {
   "cell_type": "code",
   "execution_count": 27,
   "metadata": {},
   "outputs": [],
   "source": [
    "rover.set_motor_throttles( \n",
    "    [0, 0], RoverClient.MOTOR_A | RoverClient.MOTOR_B )"
   ]
  },
  {
   "cell_type": "markdown",
   "metadata": {},
   "source": [
    "Moverse hacia adelante incrementando la velocidad gradualmente."
   ]
  },
  {
   "cell_type": "code",
   "execution_count": 28,
   "metadata": {
    "scrolled": true
   },
   "outputs": [
    {
     "ename": "NameError",
     "evalue": "name 'plot_motor_command_vs_tmy' is not defined",
     "output_type": "error",
     "traceback": [
      "\u001b[0;31m---------------------------------------------------------------------------\u001b[0m",
      "\u001b[0;31mNameError\u001b[0m                                 Traceback (most recent call last)",
      "\u001b[0;32m<ipython-input-28-d50f0bd5eb0b>\u001b[0m in \u001b[0;36m<module>\u001b[0;34m\u001b[0m\n\u001b[1;32m      6\u001b[0m \u001b[0;34m\u001b[0m\u001b[0m\n\u001b[1;32m      7\u001b[0m \u001b[0mtmy_readings\u001b[0m \u001b[0;34m=\u001b[0m \u001b[0mnp\u001b[0m\u001b[0;34m.\u001b[0m\u001b[0marray\u001b[0m\u001b[0;34m(\u001b[0m\u001b[0mtmy_readings\u001b[0m\u001b[0;34m)\u001b[0m\u001b[0;34m\u001b[0m\u001b[0;34m\u001b[0m\u001b[0m\n\u001b[0;32m----> 8\u001b[0;31m \u001b[0mplot_motor_command_vs_tmy\u001b[0m\u001b[0;34m(\u001b[0m\u001b[0mtmy_readings\u001b[0m\u001b[0;34m,\u001b[0m\u001b[0mtitle\u001b[0m\u001b[0;34m=\u001b[0m\u001b[0;34m\"Rampa hacia adelante\"\u001b[0m\u001b[0;34m)\u001b[0m\u001b[0;34m\u001b[0m\u001b[0;34m\u001b[0m\u001b[0m\n\u001b[0m",
      "\u001b[0;31mNameError\u001b[0m: name 'plot_motor_command_vs_tmy' is not defined"
     ]
    }
   ],
   "source": [
    "tmy_readings = []\n",
    "for i in range(0,MAX_THROTTLE):\n",
    "    tmy_readings.append( np.array([ i, rover.TMY_PARAM_MOTOR_A_THROTTLE, rover.TMY_PARAM_MOTOR_B_THROTTLE]) )    \n",
    "    time.sleep(0.1)    \n",
    "    rover.set_motor_throttles( [i, i], RoverClient.MOTOR_A | RoverClient.MOTOR_B )\n",
    "\n",
    "tmy_readings = np.array(tmy_readings)  \n",
    "plot_motor_command_vs_tmy(tmy_readings,title=\"Rampa hacia adelante\")"
   ]
  },
  {
   "cell_type": "markdown",
   "metadata": {},
   "source": [
    "Decrementar la velocidad gradualmente."
   ]
  },
  {
   "cell_type": "code",
   "execution_count": 30,
   "metadata": {},
   "outputs": [
    {
     "data": {
      "image/png": "[encoded data removed]",
      "text/plain": [
       "<Figure size 1296x432 with 2 Axes>"
      ]
     },
     "metadata": {
      "needs_background": "light"
     },
     "output_type": "display_data"
    }
   ],
   "source": [
    "tmy_readings = []\n",
    "for i in range(0,MAX_THROTTLE):\n",
    "    tmy_readings.append( np.array([ i, rover.TMY_PARAM_MOTOR_A_THROTTLE, rover.TMY_PARAM_MOTOR_B_THROTTLE]) )    \n",
    "    time.sleep(0.1)    \n",
    "    rover.set_motor_throttles( [MAX_THROTTLE-i, MAX_THROTTLE-i], RoverClient.MOTOR_A | RoverClient.MOTOR_B )\n",
    "    \n",
    "tmy_readings = np.array(tmy_readings)  \n",
    "plot_motor_command_vs_tmy(tmy_readings,title=\"Rampa descendente (adelante)\")"
   ]
  },
  {
   "cell_type": "markdown",
   "metadata": {},
   "source": [
    "Moverse hacia atrás incrementando la velocidad gradualmente."
   ]
  },
  {
   "cell_type": "code",
   "execution_count": 418,
   "metadata": {},
   "outputs": [
    {
     "name": "stdout",
     "output_type": "stream",
     "text": [
      "Tamaño de paquete inválido:  32 . Esperado:  40\n",
      "Recibido: 50 4B 54 21 20 83 F3 00 03 00 00 00 00 00 00 00 00 00 00 00 00 00 00 00 00 0A \n",
      "Reporte desconocido: Recibido: 50 4B 54 21 20 83 F3 00 03 00 00 00 00 00 00 00 00 00 00 00 00 00 00 00 00 0A \n",
      "Header inválido. Recibido: b'\\xff\\x00\\x00\\x00\\x00\\x00\\x00\\x00\\x00u\\xc6\\n'\n"
     ]
    },
    {
     "data": {
      "image/png": "[encoded data removed]",
      "text/plain": [
       "<Figure size 1296x432 with 2 Axes>"
      ]
     },
     "metadata": {
      "needs_background": "light"
     },
     "output_type": "display_data"
    }
   ],
   "source": [
    "tmy_readings = []\n",
    "for i in range(0,MAX_THROTTLE):\n",
    "    rover.set_motor_throttles( [-i, -i], RoverClient.MOTOR_A | RoverClient.MOTOR_B )\n",
    "    time.sleep(0.1)    \n",
    "    tmy_readings.append( np.array([ i, rover.TMY_PARAM_MOTOR_A_THROTTLE, rover.TMY_PARAM_MOTOR_B_THROTTLE]) )\n",
    "\n",
    "tmy_readings = np.array(tmy_readings)  \n",
    "plot_motor_command_vs_tmy(tmy_readings,title=\"Rampa hacia atrás\")"
   ]
  },
  {
   "cell_type": "markdown",
   "metadata": {},
   "source": [
    "Decrementar la velocidad gradualmente."
   ]
  },
  {
   "cell_type": "code",
   "execution_count": 419,
   "metadata": {},
   "outputs": [
    {
     "name": "stdout",
     "output_type": "stream",
     "text": [
      "Tamaño de paquete inválido:  32 . Esperado:  40\n",
      "Recibido: 50 4B 54 21 20 83 02 00 03 00 00 00 00 00 00 00 00 00 00 00 00 00 00 00 00 0A \n",
      "Reporte desconocido: Recibido: 50 4B 54 21 20 83 02 00 03 00 00 00 00 00 00 00 00 00 00 00 00 00 00 00 00 0A \n",
      "Header inválido. Recibido: b'\\xff\\x00\\x00\\x00\\x00\\x00\\x00\\x00\\x00\\xed\\xa5\\n'\n",
      "Tamaño de paquete inválido:  32 . Esperado:  40\n",
      "Recibido: 50 4B 54 21 20 83 2A 00 03 00 00 00 00 00 00 00 00 00 00 00 00 00 00 00 00 31 FF 31 FF 00 00 00 00 00 00 00 00 0A \n",
      "Reporte desconocido: Recibido: 50 4B 54 21 20 83 2A 00 03 00 00 00 00 00 00 00 00 00 00 00 00 00 00 00 00 31 FF 31 FF 00 00 00 00 00 00 00 00 0A \n",
      "Tamaño de paquete inválido:  32 . Esperado:  40\n",
      "Recibido: 50 4B 54 21 20 83 79 00 03 00 00 00 00 00 00 00 00 00 00 00 00 00 00 00 00 7E FF 7E FF 00 00 00 00 00 00 00 00 9F 0A \n",
      "Reporte desconocido: Recibido: 50 4B 54 21 20 83 79 00 03 00 00 00 00 00 00 00 00 00 00 00 00 00 00 00 00 7E FF 7E FF 00 00 00 00 00 00 00 00 9F 0A \n"
     ]
    },
    {
     "data": {
      "image/png": "[encoded data removed]",
      "text/plain": [
       "<Figure size 1296x432 with 2 Axes>"
      ]
     },
     "metadata": {
      "needs_background": "light"
     },
     "output_type": "display_data"
    }
   ],
   "source": [
    "tmy_readings = []\n",
    "for i in range(0,MAX_THROTTLE):\n",
    "    rover.set_motor_throttles( [-MAX_THROTTLE+i, -MAX_THROTTLE+i], RoverClient.MOTOR_A | RoverClient.MOTOR_B )\n",
    "    time.sleep(0.1)    \n",
    "    tmy_readings.append( np.array([ i, rover.TMY_PARAM_MOTOR_A_THROTTLE, rover.TMY_PARAM_MOTOR_B_THROTTLE]) )\n",
    "\n",
    "tmy_readings = np.array(tmy_readings)  \n",
    "plot_motor_command_vs_tmy(tmy_readings,title=\"Rampa descendente (atrás)\")   "
   ]
  },
  {
   "cell_type": "markdown",
   "metadata": {},
   "source": [
    "## 5. Test de lectura de tacómetros"
   ]
  },
  {
   "cell_type": "code",
   "execution_count": 185,
   "metadata": {},
   "outputs": [
    {
     "name": "stdout",
     "output_type": "stream",
     "text": [
      "TACHO1_SPEED: 0.000\n",
      "TACHO2_SPEED: 0.000\n",
      "TACHO3_SPEED: 0.000\n",
      "TACHO4_SPEED: 0.000\n",
      "TACHO1_COUNT: 0.000\n",
      "TACHO2_COUNT: 0.000\n",
      "TACHO3_COUNT: 0.000\n",
      "TACHO4_COUNT: 0.000\n",
      "MOTOR_A_THROTTLE: 0\n",
      "MOTOR_B_THROTTLE: 0\n",
      "MOTOR_A_SETPOINT_SPEED: 0.000\n",
      "MOTOR_B_SETPOINT_SPEED: 0.000\n"
     ]
    }
   ],
   "source": [
    "rover.print_motor_tmy()"
   ]
  },
  {
   "cell_type": "code",
   "execution_count": 524,
   "metadata": {},
   "outputs": [
    {
     "name": "stdout",
     "output_type": "stream",
     "text": [
      "Tamaño de paquete inválido:  32 . Esperado:  40\n",
      "Recibido: 50 4B 54 21 20 83 01 00 03 43 4B CA 44 43 4B CA 44 43 4B CA 44 43 4B CA 44 0A \n",
      "Reporte desconocido: Recibido: 50 4B 54 21 20 83 01 00 03 43 4B CA 44 43 4B CA 44 43 4B CA 44 43 4B CA 44 0A \n",
      "Header inválido. Recibido: b'\\x00\\x00\\x00\\x00\\x00\\x00\\x00\\x00\\x00q\\xfa\\n'\n",
      "Tamaño de paquete inválido:  6 . Esperado:  14\n",
      "Recibido: 50 4B 54 21 06 80 04 00 03 00 00 0A \n",
      "Reporte desconocido: Recibido: 50 4B 54 21 06 80 04 00 03 00 00 0A \n",
      "Tamaño de paquete inválido:  32 . Esperado:  40\n",
      "Recibido: 50 4B 54 21 20 83 1F 00 03 0A \n",
      "Reporte desconocido: Recibido: 50 4B 54 21 20 83 1F 00 03 0A \n",
      "Header inválido. Recibido: b\"\\xa8\\xcaD'\\x00'\\x00\\x00\\x00\\x00\\x00\\x00\\x00\\x00\\x00\\xa3\\xf3\\n\"\n",
      "Tamaño de paquete inválido:  32 . Esperado:  40\n",
      "Recibido: 50 4B 54 21 20 83 3F 00 03 9D 11 CB 44 9D 11 CB 44 9D 11 CB 44 9D 11 CB 44 48 00 48 00 00 00 00 00 00 00 00 00 0A \n",
      "Reporte desconocido: Recibido: 50 4B 54 21 20 83 3F 00 03 9D 11 CB 44 9D 11 CB 44 9D 11 CB 44 9D 11 CB 44 48 00 48 00 00 00 00 00 00 00 00 00 0A \n",
      "Tamaño de paquete inválido:  6 . Esperado:  14\n",
      "Recibido: 50 4B 54 21 06 80 C3 00 03 00 00 5E 0A \n",
      "Reporte desconocido: Recibido: 50 4B 54 21 06 80 C3 00 03 00 00 5E 0A \n",
      "Tamaño de paquete inválido:  6 . Esperado:  14\n",
      "Recibido: 50 4B 54 21 06 80 04 00 03 00 00 0A \n",
      "Reporte desconocido: Recibido: 50 4B 54 21 06 80 04 00 03 00 00 0A \n",
      "Tamaño de paquete inválido:  32 . Esperado:  40\n",
      "Recibido: 50 4B 54 21 20 83 1B 00 03 0A \n",
      "Reporte desconocido: Recibido: 50 4B 54 21 20 83 1B 00 03 0A \n",
      "Header inválido. Recibido: b'\\xdb\\xcdD\\xd9\\x00\\xd9\\x00\\x00\\x00\\x00\\x00\\x00\\x00\\x00\\x00X_\\n'\n",
      "Tamaño de paquete inválido:  32 . Esperado:  40\n",
      "Recibido: 50 4B 54 21 20 83 7B 00 03 F7 0A \n",
      "Reporte desconocido: Recibido: 50 4B 54 21 20 83 7B 00 03 F7 0A \n",
      "Header inválido. Recibido: b'\\xcfDz\\x00z\\x00\\x00\\x00\\x00\\x00\\x00\\x00\\x00\\x00\\xfc\\x86\\n'\n",
      "Tamaño de paquete inválido:  6 . Esperado:  14\n",
      "Recibido: 50 4B 54 21 06 80 C3 00 03 00 00 5E 0A \n",
      "Reporte desconocido: Recibido: 50 4B 54 21 06 80 C3 00 03 00 00 5E 0A \n",
      "Tamaño de paquete inválido:  32 . Esperado:  40\n",
      "Recibido: 50 4B 54 21 20 83 C9 00 03 E7 0A \n",
      "Reporte desconocido: Recibido: 50 4B 54 21 20 83 C9 00 03 E7 0A \n",
      "Header inválido. Recibido: b'\\xd0D*\\x00*\\x00\\x00\\x00\\x00\\x00\\x00\\x00\\x00\\x00h\\xca\\n'\n",
      "Tamaño de paquete inválido:  32 . Esperado:  40\n",
      "Recibido: 50 4B 54 21 20 83 E0 00 03 7C 54 D0 44 7C 54 D0 44 7C 54 D0 44 7C 54 D0 44 14 00 14 00 00 00 00 00 00 00 00 00 0A \n",
      "Reporte desconocido: Recibido: 50 4B 54 21 20 83 E0 00 03 7C 54 D0 44 7C 54 D0 44 7C 54 D0 44 7C 54 D0 44 14 00 14 00 00 00 00 00 00 00 00 00 0A \n",
      "Tamaño de paquete inválido:  32 . Esperado:  40\n",
      "Recibido: 50 4B 54 21 20 83 EA 00 03 7A 74 D0 44 7A 74 D0 44 7A 74 D0 44 7A 74 D0 44 0A \n",
      "Reporte desconocido: Recibido: 50 4B 54 21 20 83 EA 00 03 7A 74 D0 44 7A 74 D0 44 7A 74 D0 44 7A 74 D0 44 0A \n",
      "Header inválido. Recibido: b'\\x00\\x00\\x00\\x00\\x00\\x00\\x00\\x00\\x00\\xb8\\x14\\n'\n",
      "Tamaño de paquete inválido:  32 . Esperado:  40\n",
      "Recibido: 50 4B 54 21 20 83 1B 00 03 D7 0A \n",
      "Reporte desconocido: Recibido: 50 4B 54 21 20 83 1B 00 03 D7 0A \n",
      "Header inválido. Recibido: b'\\xd1D\\xdb\\xff\\xdb\\xff\\x00\\x00\\x00\\x00\\x00\\x00\\x00\\x00\\x10\\x90\\n'\n",
      "Tamaño de paquete inválido:  32 . Esperado:  40\n",
      "Recibido: 50 4B 54 21 20 83 1B 00 03 0A \n",
      "Reporte desconocido: Recibido: 50 4B 54 21 20 83 1B 00 03 0A \n",
      "Header inválido. Recibido: b'\\x0e\\xd1D\\xda\\xff\\xda\\xff\\x00\\x00\\x00\\x00\\x00\\x00\\x00\\x00\\x15t\\n'\n",
      "Tamaño de paquete inválido:  32 . Esperado:  40\n",
      "Recibido: 50 4B 54 21 20 83 6A 00 03 C7 0A \n",
      "Reporte desconocido: Recibido: 50 4B 54 21 20 83 6A 00 03 C7 0A \n",
      "Header inválido. Recibido: b'\\xd2D\\x8b\\xff\\x8b\\xff\\x00\\x00\\x00\\x00\\x00\\x00\\x00\\x00\\x16\\xff\\n'\n",
      "Tamaño de paquete inválido:  32 . Esperado:  40\n",
      "Recibido: 50 4B 54 21 20 83 8B 00 03 27 71 D2 44 27 71 D2 44 27 71 D2 44 27 71 D2 44 6B FF 6B FF 00 00 00 00 00 00 00 00 0A \n",
      "Reporte desconocido: Recibido: 50 4B 54 21 20 83 8B 00 03 27 71 D2 44 27 71 D2 44 27 71 D2 44 27 71 D2 44 6B FF 6B FF 00 00 00 00 00 00 00 00 0A \n",
      "Tamaño de paquete inválido:  32 . Esperado:  40\n",
      "Recibido: 50 4B 54 21 20 83 B9 00 03 B7 0A \n",
      "Reporte desconocido: Recibido: 50 4B 54 21 20 83 B9 00 03 B7 0A \n",
      "Header inválido. Recibido: b'\\xd3D<\\xff<\\xff\\x00\\x00\\x00\\x00\\x00\\x00\\x00\\x00\\x96`\\n'\n",
      "Tamaño de paquete inválido:  6 . Esperado:  14\n",
      "Recibido: 50 4B 54 21 06 80 C3 00 03 00 00 5E 0A \n",
      "Reporte desconocido: Recibido: 50 4B 54 21 06 80 C3 00 03 00 00 5E 0A \n",
      "Tamaño de paquete inválido:  32 . Esperado:  40\n",
      "Recibido: 50 4B 54 21 20 83 EA 00 03 AD AA D3 44 AD AA D3 44 AD AA D3 44 AD AA D3 44 0A \n",
      "Reporte desconocido: Recibido: 50 4B 54 21 20 83 EA 00 03 AD AA D3 44 AD AA D3 44 AD AA D3 44 AD AA D3 44 0A \n",
      "Header inválido. Recibido: b'\\xff\\x00\\x00\\x00\\x00\\x00\\x00\\x00\\x00nd\\n'\n",
      "Tamaño de paquete inválido:  32 . Esperado:  40\n",
      "Recibido: 50 4B 54 21 20 83 FE 00 03 43 E4 D3 44 43 E4 D3 44 43 E4 D3 44 43 E4 D3 44 0A \n",
      "Reporte desconocido: Recibido: 50 4B 54 21 20 83 FE 00 03 43 E4 D3 44 43 E4 D3 44 43 E4 D3 44 43 E4 D3 44 0A \n",
      "Header inválido. Recibido: b'\\xff\\x00\\x00\\x00\\x00\\x00\\x00\\x00\\x00{\\x1b\\n'\n",
      "Tamaño de paquete inválido:  32 . Esperado:  40\n",
      "Recibido: 50 4B 54 21 20 83 08 00 03 A7 0A \n",
      "Reporte desconocido: Recibido: 50 4B 54 21 20 83 08 00 03 A7 0A \n",
      "Header inválido. Recibido: b'\\xd4D\\x16\\xff\\x16\\xff\\x00\\x00\\x00\\x00\\x00\\x00\\x00\\x00\\xcb\\xda\\n'\n",
      "Tamaño de paquete inválido:  32 . Esperado:  40\n",
      "Recibido: 50 4B 54 21 20 83 1C 00 03 0A \n",
      "Reporte desconocido: Recibido: 50 4B 54 21 20 83 1C 00 03 0A \n",
      "Header inválido. Recibido: b\"A\\xd4D'\\xff'\\xff\\x00\\x00\\x00\\x00\\x00\\x00\\x00\\x00Rh\\n\"\n",
      "Tamaño de paquete inválido:  32 . Esperado:  40\n",
      "Recibido: 50 4B 54 21 20 83 57 00 03 31 04 D5 44 31 04 D5 44 31 04 D5 44 31 04 D5 44 63 FF 63 FF 00 00 00 00 00 00 00 00 0A \n",
      "Reporte desconocido: Recibido: 50 4B 54 21 20 83 57 00 03 31 04 D5 44 31 04 D5 44 31 04 D5 44 31 04 D5 44 63 FF 63 FF 00 00 00 00 00 00 00 00 0A \n",
      "Tamaño de paquete inválido:  32 . Esperado:  40\n",
      "Recibido: 50 4B 54 21 20 83 5A 00 03 97 0A \n",
      "Reporte desconocido: Recibido: 50 4B 54 21 20 83 5A 00 03 97 0A \n",
      "Header inválido. Recibido: b'\\xd5De\\xffe\\xff\\x00\\x00\\x00\\x00\\x00\\x00\\x00\\x00<\\xe0\\n'\n",
      "Tamaño de paquete inválido:  32 . Esperado:  40\n",
      "Recibido: 50 4B 54 21 20 83 8B 00 03 F3 B0 D5 44 F3 B0 D5 44 F3 B0 D5 44 F3 B0 D5 44 99 FF 99 FF 00 00 00 00 00 00 00 00 92 0A \n",
      "Reporte desconocido: Recibido: 50 4B 54 21 20 83 8B 00 03 F3 B0 D5 44 F3 B0 D5 44 F3 B0 D5 44 F3 B0 D5 44 99 FF 99 FF 00 00 00 00 00 00 00 00 92 0A \n",
      "Tamaño de paquete inválido:  32 . Esperado:  40\n",
      "Recibido: 50 4B 54 21 20 83 A9 00 03 87 0A \n",
      "Reporte desconocido: Recibido: 50 4B 54 21 20 83 A9 00 03 87 0A \n",
      "Header inválido. Recibido: b'\\xd6D\\xb5\\xff\\xb5\\xff\\x00\\x00\\x00\\x00\\x00\\x00\\x00\\x00T\\xca\\n'\n",
      "Tamaño de paquete inválido:  6 . Esperado:  14\n",
      "Recibido: 50 4B 54 21 06 80 C3 00 03 00 00 5E 0A \n",
      "Reporte desconocido: Recibido: 50 4B 54 21 06 80 C3 00 03 00 00 5E 0A \n"
     ]
    }
   ],
   "source": [
    "t0 = datetime.datetime.now()\n",
    "sampling_interval = 0.1\n",
    "tmy_readings = []\n",
    "\n",
    "# Rampa ascendente (hacia adelante)\n",
    "for i in range(0,MAX_THROTTLE):\n",
    "    t1 = datetime.datetime.now()\n",
    "    tmy_readings.append( np.array([ t1, \n",
    "        rover.TMY_PARAM_MOTOR_A_THROTTLE, rover.TMY_PARAM_MOTOR_B_THROTTLE,\n",
    "        rover.TMY_PARAM_TACHO1_SPEED,rover.TMY_PARAM_TACHO2_SPEED,\n",
    "        rover.TMY_PARAM_TACHO3_SPEED,rover.TMY_PARAM_TACHO4_SPEED\n",
    "    ]) ) \n",
    "    time.sleep(sampling_interval)\n",
    "    rover.set_motor_throttles( [i, i], RoverClient.MOTOR_A | RoverClient.MOTOR_B )\n",
    "\n",
    "# Rampa descendente (hacia adelante)\n",
    "for i in range(0,MAX_THROTTLE):\n",
    "    t1 = datetime.datetime.now()\n",
    "    tmy_readings.append( np.array([ t1, \n",
    "        rover.TMY_PARAM_MOTOR_A_THROTTLE, rover.TMY_PARAM_MOTOR_B_THROTTLE,\n",
    "        rover.TMY_PARAM_TACHO1_SPEED,rover.TMY_PARAM_TACHO2_SPEED,\n",
    "        rover.TMY_PARAM_TACHO3_SPEED,rover.TMY_PARAM_TACHO4_SPEED\n",
    "    ]) ) \n",
    "    time.sleep(sampling_interval)\n",
    "    rover.set_motor_throttles( [MAX_THROTTLE-i, MAX_THROTTLE-i], RoverClient.MOTOR_A | RoverClient.MOTOR_B )    \n",
    "    \n",
    "# Rampa ascendente (reversa)\n",
    "for i in range(0,MAX_THROTTLE):\n",
    "    t1 = datetime.datetime.now()\n",
    "    tmy_readings.append( np.array([ t1, \n",
    "        rover.TMY_PARAM_MOTOR_A_THROTTLE, rover.TMY_PARAM_MOTOR_B_THROTTLE,\n",
    "        rover.TMY_PARAM_TACHO1_SPEED,rover.TMY_PARAM_TACHO2_SPEED,\n",
    "        rover.TMY_PARAM_TACHO3_SPEED,rover.TMY_PARAM_TACHO4_SPEED\n",
    "    ]) ) \n",
    "    time.sleep(sampling_interval)    \n",
    "    rover.set_motor_throttles( [-i, -i], RoverClient.MOTOR_A | RoverClient.MOTOR_B )\n",
    "    \n",
    "# Rampa descendete (reversahacia atrás)    \n",
    "for i in range(0,MAX_THROTTLE):\n",
    "    t1 = datetime.datetime.now()\n",
    "    tmy_readings.append( np.array([ t1, \n",
    "        rover.TMY_PARAM_MOTOR_A_THROTTLE, rover.TMY_PARAM_MOTOR_B_THROTTLE,\n",
    "        rover.TMY_PARAM_TACHO1_SPEED,rover.TMY_PARAM_TACHO2_SPEED,\n",
    "        rover.TMY_PARAM_TACHO3_SPEED,rover.TMY_PARAM_TACHO4_SPEED\n",
    "    ]) ) \n",
    "    time.sleep(sampling_interval)       \n",
    "    rover.set_motor_throttles( [-MAX_THROTTLE+i, -MAX_THROTTLE+i], RoverClient.MOTOR_A | RoverClient.MOTOR_B )\n",
    "\n",
    "tmy_readings = np.array(tmy_readings)  "
   ]
  },
  {
   "cell_type": "code",
   "execution_count": 529,
   "metadata": {},
   "outputs": [
    {
     "data": {
      "image/png": "[encoded data removed]",
      "text/plain": [
       "<Figure size 1296x1296 with 6 Axes>"
      ]
     },
     "metadata": {
      "needs_background": "light"
     },
     "output_type": "display_data"
    }
   ],
   "source": [
    "fig,axes = plt.subplots(6,1,figsize=(18,6*3))\n",
    "\n",
    "samples_idx = np.arange(len(tmy_readings))\n",
    "\n",
    "tmys = [\n",
    "    [\"Potencia motor A\", \"Valor\"],\n",
    "    [\"Potencia motor B\", \"Valor\"],\n",
    "    [\"Tacómetro 1\", \"RPM\"],\n",
    "    [\"Tacómetro 2\", \"RPM\"],\n",
    "    [\"Tacómetro 3\", \"RPM\"],\n",
    "    [\"Tacómetro 4\", \"RPM\"]\n",
    "]\n",
    "\n",
    "for i in range(6):\n",
    "    axes[i].plot(samples_idx,tmy_readings[:,1+i],marker=\".\")\n",
    "    axes[i].grid(which=\"Both\")\n",
    "    axes[i].set_xlabel(tmys[i][0])\n",
    "    axes[i].set_ylabel(tmys[i][1])\n",
    "    axes[i].set_title(tmys[i][0])\n",
    "fig.tight_layout()"
   ]
  },
  {
   "cell_type": "markdown",
   "metadata": {},
   "source": [
    "## 6. Test de lectura de IMU"
   ]
  },
  {
   "cell_type": "code",
   "execution_count": null,
   "metadata": {},
   "outputs": [],
   "source": [
    "#FIXME"
   ]
  },
  {
   "cell_type": "markdown",
   "metadata": {},
   "source": [
    "## 7. Test de lectura de GPS"
   ]
  },
  {
   "cell_type": "code",
   "execution_count": null,
   "metadata": {},
   "outputs": [],
   "source": [
    "#FIXME"
   ]
  },
  {
   "cell_type": "markdown",
   "metadata": {},
   "source": [
    "## 8. Test de lazo de control PID"
   ]
  },
  {
   "cell_type": "code",
   "execution_count": null,
   "metadata": {},
   "outputs": [],
   "source": [
    "tmy_readings = []\n",
    "for i in range(0,MAX_THROTTLE):\n",
    "    tmy_readings.append( np.array([ i, rover.TMY_PARAM_MOTOR_A_THROTTLE, rover.TMY_PARAM_MOTOR_B_THROTTLE]) )    \n",
    "    time.sleep(0.1)    \n",
    "    rover.set_motor_throttles( [i, i], RoverClient.MOTOR_A | RoverClient.MOTOR_B )\n",
    "\n",
    "tmy_readings = np.array(tmy_readings)  \n",
    "plot_motor_command_vs_tmy(tmy_readings,title=\"Rampa hacia adelante\")"
   ]
  },
  {
   "cell_type": "markdown",
   "metadata": {},
   "source": [
    "## Tear down"
   ]
  },
  {
   "cell_type": "markdown",
   "metadata": {},
   "source": [
    "Desconectarse del rover para liberar el puerto serie."
   ]
  },
  {
   "cell_type": "code",
   "execution_count": 75,
   "metadata": {},
   "outputs": [],
   "source": [
    "rover.disconnect()"
   ]
  },
  {
   "cell_type": "markdown",
   "metadata": {},
   "source": [
    "# Debugging"
   ]
  },
  {
   "cell_type": "code",
   "execution_count": null,
   "metadata": {},
   "outputs": [],
   "source": [
    "import struct\n",
    "payload = bytearray(rover.payload)\n",
    "\"\".join([\"%02x \" % x for x in payload])\n",
    "parsed = struct.unpack('<ccc4f2h2f', payload)\n",
    "parsed[0]"
   ]
  },
  {
   "cell_type": "code",
   "execution_count": null,
   "metadata": {},
   "outputs": [],
   "source": [
    "struct.pack('<2f',1024.4,921.2)[0]"
   ]
  },
  {
   "cell_type": "code",
   "execution_count": null,
   "metadata": {},
   "outputs": [],
   "source": [
    "struct.pack('<2h',-125,231)[2]"
   ]
  },
  {
   "cell_type": "markdown",
   "metadata": {},
   "source": [
    "~~~\n",
    "00 00 00 \n",
    "\n",
    "00 00 c8 42 \n",
    "00 00 48 43 \n",
    "00 00 96 43 \n",
    "00 00 c8 43 \n",
    "ff 01 00 ff \n",
    "00 00 80 44 \n",
    "00 00 80 c4\n",
    "\n",
    "~~~"
   ]
  },
  {
   "cell_type": "code",
   "execution_count": null,
   "metadata": {},
   "outputs": [],
   "source": []
  },
  {
   "cell_type": "code",
   "execution_count": null,
   "metadata": {},
   "outputs": [],
   "source": [
    "00 00 00 00 00 c8 42 00 00 48 43 00 00 96 43 00 00 c8 43 ff 01 00 ff 00 00 80 44 00 00 80 c4"
   ]
  },
  {
   "cell_type": "code",
   "execution_count": null,
   "metadata": {},
   "outputs": [],
   "source": []
  }
 ],
 "metadata": {
  "kernelspec": {
   "display_name": "Python 3",
   "language": "python",
   "name": "python3"
  },
  "language_info": {
   "codemirror_mode": {
    "name": "ipython",
    "version": 3
   },
   "file_extension": ".py",
   "mimetype": "text/x-python",
   "name": "python",
   "nbconvert_exporter": "python",
   "pygments_lexer": "ipython3",
   "version": "3.7.10"
  },
  "varInspector": {
   "cols": {
    "lenName": 16,
    "lenType": 16,
    "lenVar": 40
   },
   "kernels_config": {
    "python": {
     "delete_cmd_postfix": "",
     "delete_cmd_prefix": "del ",
     "library": "var_list.py",
     "varRefreshCmd": "print(var_dic_list())"
    },
    "r": {
     "delete_cmd_postfix": ") ",
     "delete_cmd_prefix": "rm(",
     "library": "var_list.r",
     "varRefreshCmd": "cat(var_dic_list()) "
    }
   },
   "types_to_exclude": [
    "module",
    "function",
    "builtin_function_or_method",
    "instance",
    "_Feature"
   ],
   "window_display": false
  }
 },
 "nbformat": 4,
 "nbformat_minor": 2
}
