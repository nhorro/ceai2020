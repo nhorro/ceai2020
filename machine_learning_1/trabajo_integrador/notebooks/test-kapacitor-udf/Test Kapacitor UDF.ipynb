{
 "cells": [
  {
   "cell_type": "markdown",
   "metadata": {},
   "source": [
    "# Prueba con Kapacitor custom UDFs"
   ]
  },
  {
   "cell_type": "markdown",
   "metadata": {},
   "source": [
    "Mock para inyectar valores de prueba en InfluxDB"
   ]
  },
  {
   "cell_type": "code",
   "execution_count": 1,
   "metadata": {},
   "outputs": [
    {
     "name": "stdout",
     "output_type": "stream",
     "text": [
      "Press any key to stop\n"
     ]
    }
   ],
   "source": [
    "import threading\n",
    "import time\n",
    "import math\n",
    "import datetime\n",
    "from influxdb import InfluxDBClient\n",
    "\n",
    "def ValueGenerator(w=0.01,a=10.0, phi=0.0):\n",
    "    t = 0.0\n",
    "    sampling_freq = 2.0\n",
    "    while True:\n",
    "        y = a*math.sin( w * (t/sampling_freq) * (2*math.pi) + phi )\n",
    "        t = t + 1.0\n",
    "        yield y\n",
    "\n",
    "class InfluxDBPublisher(threading.Thread):\n",
    "    def __init__(self):\n",
    "        threading.Thread.__init__(self)\n",
    "        self.keep_running = True\n",
    "        self.client = InfluxDBClient(host='influxdb', port=8086, username='root', password='root',\n",
    "                                     database=\"my_application\")\n",
    "\n",
    "    def run(self):\n",
    "        i = 0\n",
    "        gens = [ \n",
    "            ValueGenerator(w=0.01,a=10.0, phi=0.0),\n",
    "            ValueGenerator(w=0.02,a=20.0, phi=0.1), \n",
    "            ValueGenerator(w=0.03,a=30.0, phi=0.2),\n",
    "            ValueGenerator(w=0.04,a=40.0, phi=0.3),\n",
    "            ValueGenerator(w=0.05,a=50.0, phi=0.4)\n",
    "        ]\n",
    "        while self.keep_running:\n",
    "            time.sleep(0.5)\n",
    "            json_body = []\n",
    "            i = 0\n",
    "            ts = datetime.datetime.utcnow()\n",
    "            for g in gens:                \n",
    "                json_body.append(\n",
    "                    {\n",
    "                        \"measurement\": f\"TMV_VAR{i}\",\n",
    "                        \"time\": ts,\n",
    "                        \"fields\": {\n",
    "                            \"value\": next(g)\n",
    "                        }\n",
    "                    }\n",
    "                )\n",
    "                i += 1            \n",
    "            self.client.write_points(json_body)\n",
    "\n",
    "    def stop(self):\n",
    "        self.keep_running = False\n",
    "        self.join()\n",
    "\n",
    "\n",
    "pub = InfluxDBPublisher()\n",
    "pub.start()\n",
    "input(\"Press any key to stop\")\n",
    "pub.stop()"
   ]
  }
 ],
 "metadata": {
  "kernelspec": {
   "display_name": "Python 3",
   "language": "python",
   "name": "python3"
  },
  "language_info": {
   "codemirror_mode": {
    "name": "ipython",
    "version": 3
   },
   "file_extension": ".py",
   "mimetype": "text/x-python",
   "name": "python",
   "nbconvert_exporter": "python",
   "pygments_lexer": "ipython3",
   "version": "3.8.6"
  }
 },
 "nbformat": 4,
 "nbformat_minor": 4
}
