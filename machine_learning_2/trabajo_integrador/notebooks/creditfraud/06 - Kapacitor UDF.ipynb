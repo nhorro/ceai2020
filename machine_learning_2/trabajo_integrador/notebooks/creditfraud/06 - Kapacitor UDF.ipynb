{
 "cells": [
  {
   "cell_type": "markdown",
   "metadata": {},
   "source": [
    "# 5 Despliegue con microservicios"
   ]
  },
  {
   "cell_type": "markdown",
   "metadata": {},
   "source": [
    "## 5.1 Configuración de InfluxDB, Kapacitor, UDF y Grafana"
   ]
  },
  {
   "cell_type": "markdown",
   "metadata": {},
   "source": [
    "1. Abrir dashboard [Grafana - analisis-de-fraude-en-operaciones-con-tarjetas-de-credito](http://localhost:3000/d/OSt1HwhMz3/analisis-de-fraude-en-operaciones-con-tarjetas-de-credito?orgId=1&refresh=1s). (En caso de que no esté importarlo del directorio 'dashboards' adentro de compose/grafana/dashboards).\n",
    "\n",
    "Por problemas en la secuencia de inicio de servicios, a veces Kapacitor y el agente de Kapacitor para las User Defined Functions (UDF)  pueden no haberse iniciado por errores de conexión o de acceso a recursos. Para solucionarlo, basta con reiniciarlos en este orden:\n",
    "\n",
    "2. Reiniciar UDF de kapacitor\n",
    "\n",
    "~~~bash\n",
    "cd compose\n",
    "./restart-kapacitor-udf.sh\n",
    "~~~\n",
    "\n",
    "Debe verse: \n",
    "\n",
    "~~~bash\n",
    "2020-12-29 02:02:12,257 INFO:root: Started server. Listening at: /tmp/comm/udf_ml_model.sock\n",
    "~~~\n",
    "\n",
    "3. Reiniciar kapacitor.\n",
    "\n",
    "~~~bash\n",
    "cd compose\n",
    "./restart-kapacitor.sh\n",
    "~~~\n",
    "\n",
    "4. Conectarse a Cronograph y verificar que la conexión con InfluxDB y Kapacitor está establecida.\n",
    "5. Verificar que el TICKScript FraudDetection está habilitado."
   ]
  },
  {
   "cell_type": "markdown",
   "metadata": {},
   "source": [
    "## 5.2 Inyección de datos (mock)"
   ]
  },
  {
   "cell_type": "code",
   "execution_count": 6,
   "metadata": {},
   "outputs": [],
   "source": [
    "DATASET_PATH = '/data/credit_fraud/'"
   ]
  },
  {
   "cell_type": "code",
   "execution_count": 7,
   "metadata": {},
   "outputs": [],
   "source": [
    "import pandas as pd\n",
    "import numpy as np"
   ]
  },
  {
   "cell_type": "code",
   "execution_count": 8,
   "metadata": {},
   "outputs": [],
   "source": [
    "test_df = pd.read_csv(DATASET_PATH+\"creditcard_test.csv\")"
   ]
  },
  {
   "cell_type": "code",
   "execution_count": 9,
   "metadata": {},
   "outputs": [
    {
     "data": {
      "text/plain": [
       "['v1',\n",
       " 'v2',\n",
       " 'v3',\n",
       " 'v4',\n",
       " 'v5',\n",
       " 'v6',\n",
       " 'v7',\n",
       " 'v8',\n",
       " 'v9',\n",
       " 'v10',\n",
       " 'v11',\n",
       " 'v12',\n",
       " 'v13',\n",
       " 'v14',\n",
       " 'v15',\n",
       " 'v16',\n",
       " 'v17',\n",
       " 'v18',\n",
       " 'v19',\n",
       " 'v20',\n",
       " 'v21',\n",
       " 'v22',\n",
       " 'v23',\n",
       " 'v24',\n",
       " 'v25',\n",
       " 'v26',\n",
       " 'v27',\n",
       " 'v28',\n",
       " 'amount']"
      ]
     },
     "execution_count": 9,
     "metadata": {},
     "output_type": "execute_result"
    }
   ],
   "source": [
    "non_feature_cols = ['Unnamed: 0','time','row_id','class']\n",
    "feature_cols = [x for x in test_df.columns if x not in non_feature_cols]\n",
    "feature_cols"
   ]
  },
  {
   "cell_type": "markdown",
   "metadata": {},
   "source": [
    "Mock para inyectar valores de prueba en InfluxDB"
   ]
  },
  {
   "cell_type": "code",
   "execution_count": 10,
   "metadata": {},
   "outputs": [
    {
     "name": "stdout",
     "output_type": "stream",
     "text": [
      "Press any key to stop\n"
     ]
    }
   ],
   "source": [
    "import threading\n",
    "import time\n",
    "import math\n",
    "import datetime\n",
    "from influxdb import InfluxDBClient\n",
    "\n",
    "class InfluxDBPublisher(threading.Thread):\n",
    "    def __init__(self):\n",
    "        threading.Thread.__init__(self)\n",
    "        self.keep_running = True\n",
    "        self.client = InfluxDBClient(host='influxdb', port=8086, username='root', password='root',\n",
    "                                     database=\"my_application\")\n",
    "    def run(self):\n",
    "        while self.keep_running:\n",
    "            time.sleep(0.5)\n",
    "            json_body = []\n",
    "            ts = datetime.datetime.utcnow()\n",
    "            row = test_df.sample(1)\n",
    "            fields = {}\n",
    "            for f in feature_cols:\n",
    "                fields[f] = row[f].values[0]             \n",
    "            json_body.append(\n",
    "                {\n",
    "                    \"measurement\": f\"TMV_CREDIT_OPERATION\",\n",
    "                    \"time\": ts,\n",
    "                    \"fields\": fields\n",
    "                }\n",
    "            )\n",
    "            self.client.write_points(json_body)\n",
    "\n",
    "    def stop(self):\n",
    "        self.keep_running = False\n",
    "        self.join()\n",
    "\n",
    "\n",
    "pub = InfluxDBPublisher()\n",
    "pub.start()\n",
    "input(\"Press any key to stop\")\n",
    "pub.stop()"
   ]
  }
 ],
 "metadata": {
  "kernelspec": {
   "display_name": "Python 3",
   "language": "python",
   "name": "python3"
  },
  "language_info": {
   "codemirror_mode": {
    "name": "ipython",
    "version": 3
   },
   "file_extension": ".py",
   "mimetype": "text/x-python",
   "name": "python",
   "nbconvert_exporter": "python",
   "pygments_lexer": "ipython3",
   "version": "3.8.6"
  }
 },
 "nbformat": 4,
 "nbformat_minor": 4
}
