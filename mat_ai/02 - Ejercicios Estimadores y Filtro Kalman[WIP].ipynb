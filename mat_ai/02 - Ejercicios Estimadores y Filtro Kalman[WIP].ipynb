{
 "cells": [
  {
   "cell_type": "markdown",
   "metadata": {},
   "source": [
    "# MAIA - Ejercicios clase 4"
   ]
  },
  {
   "cell_type": "markdown",
   "metadata": {},
   "source": [
    "## Ejercicio 1\n",
    "\n",
    "$$\n",
    "x_{n+1} = Ax_n + B\\xi_n\\\\\n",
    "y_n = Cx_n + \\eta_n\\\\\n",
    "$$\n",
    "\n",
    "\n",
    "$$\n",
    "S_r = gen(y_0,y_1,...,y_n)\n",
    "$$\n",
    "\n",
    "\n",
    "$$\n",
    "\\hat{x_{n/r}} = P_{S_r}(x_n) = \\sum_i^r \\frac{<x_n,y_i>}{<y_i,y_i>}y_i\n",
    "$$\n"
   ]
  },
  {
   "cell_type": "markdown",
   "metadata": {},
   "source": [
    "1. \n",
    "\n",
    "$$\n",
    "g_j = y_j - C\\hat{x}_{j/j-1}\n",
    "$$\n",
    "\n",
    "Todo vector $v \\in S_r$ puede ser expresado como una combinación lineal de $y_0,y_1,...,y_n$ y también puede ser expresado como una combinación lineal de $g_0,g_1,...,g_r$. Esto quiere decir que existen $\\alpha_0,\\alpha_1,...\\alpha_r y \\beta_0,\\beta_1,...,\\beta_r \\in \\Bbb{R}$ tales que:\n",
    "\n",
    "$$\n",
    "v = \\sum_i^n \\alpha_i y_i = \\sum_i^n \\alpha_i Cx_i + \\alpha \\eta_i\n",
    "$$\n",
    "\n",
    "y también:\n",
    "\n",
    "$$\n",
    "v = \\sum_i^r \\beta g_i \n",
    "  = \\sum_i^r \\beta_i y_i - \\beta_i C\\hat{x}_{i/i-1} \n",
    "  = \\sum_i^r \\beta_i Cx_i + \\beta_i\\eta_i - \\beta_i C\\hat{x}_{i/i-1}\n",
    "  = \\sum_i^r \\beta_i Cx_i + \\beta_i\\eta_i - \\beta_i C\\sum_j^r \\frac{<x_i,y_j>}{<y_j,y_j>}y_j\n",
    "$$"
   ]
  },
  {
   "cell_type": "markdown",
   "metadata": {},
   "source": [
    "2. \n"
   ]
  },
  {
   "cell_type": "markdown",
   "metadata": {},
   "source": [
    "3. \n"
   ]
  },
  {
   "cell_type": "markdown",
   "metadata": {},
   "source": [
    "4. \n"
   ]
  },
  {
   "cell_type": "markdown",
   "metadata": {},
   "source": [
    "5. \n"
   ]
  },
  {
   "cell_type": "markdown",
   "metadata": {},
   "source": [
    "6. \n"
   ]
  },
  {
   "cell_type": "markdown",
   "metadata": {},
   "source": [
    "7. \n"
   ]
  },
  {
   "cell_type": "markdown",
   "metadata": {},
   "source": [
    "8. \n"
   ]
  },
  {
   "cell_type": "markdown",
   "metadata": {},
   "source": [
    "9. \n"
   ]
  },
  {
   "cell_type": "markdown",
   "metadata": {},
   "source": [
    "10. "
   ]
  },
  {
   "cell_type": "markdown",
   "metadata": {},
   "source": [
    "11. "
   ]
  },
  {
   "cell_type": "markdown",
   "metadata": {},
   "source": [
    "## Ejercicio 2\n",
    "\n",
    "Dados los puntos $(x_0, y_0),(x_1,y_1),...,(x_n, y_n)$. \n",
    "¿Cómo calcuları́a la recta $\\hat{y} = a_1 x + a_0$ que mejor aproxima (en términos de la distancia 2) los datos obtenidos?, es decir los valores de $a_0$ y $a_1$."
   ]
  },
  {
   "cell_type": "markdown",
   "metadata": {},
   "source": [
    "$$\n",
    "X =\n",
    "\\begin{bmatrix}\n",
    "x_0 \\\\\n",
    "x_1 \\\\\n",
    "... \\\\\n",
    "x_n \\\\\n",
    "\\end{bmatrix}\n",
    ",\n",
    "Y =\n",
    "\\begin{bmatrix}\n",
    "y_0 \\\\\n",
    "y_1 \\\\\n",
    "... \\\\\n",
    "y_n \\\\\n",
    "\\end{bmatrix}\n",
    "$$"
   ]
  },
  {
   "cell_type": "code",
   "execution_count": null,
   "metadata": {},
   "outputs": [],
   "source": [
    "(x-)"
   ]
  },
  {
   "cell_type": "markdown",
   "metadata": {},
   "source": [
    "Se buscan los valores de $a_1$ y $a_0$ \n",
    "\n",
    "$$\n",
    "J(a0,a1) = \\left\\lVert \\hat{y} - Y \\right\\rVert_2\n",
    "$$\n",
    "\n",
    "$$\n",
    "a_1X + a_0 = y\n",
    "$$"
   ]
  },
  {
   "cell_type": "markdown",
   "metadata": {},
   "source": [
    "Repita el ejercicio suponiendo que quiere hallar el polinomio que mejor aproxima:\n",
    "\n",
    "$$\n",
    "y = a_2 x^2 + a_1x + a_0\n",
    "$$"
   ]
  },
  {
   "cell_type": "markdown",
   "metadata": {},
   "source": [
    "## Ejercicio 3"
   ]
  },
  {
   "cell_type": "code",
   "execution_count": 1,
   "metadata": {},
   "outputs": [],
   "source": [
    "import numpy as np"
   ]
  },
  {
   "cell_type": "code",
   "execution_count": 12,
   "metadata": {},
   "outputs": [
    {
     "data": {
      "text/plain": [
       "(array([[-0.16903085,  0.89708523],\n",
       "        [-0.50709255,  0.27602622],\n",
       "        [-0.84515425, -0.34503278]]),\n",
       " array([[-5.91607978, -7.43735744],\n",
       "        [ 0.        ,  0.82807867]]),\n",
       " array([[1., 2.],\n",
       "        [3., 4.],\n",
       "        [5., 6.]]))"
      ]
     },
     "execution_count": 12,
     "metadata": {},
     "output_type": "execute_result"
    }
   ],
   "source": [
    "A = np.array([\n",
    "    [1,2],\n",
    "    [3,4],\n",
    "    [5,6]\n",
    "])\n",
    "\n",
    "q, r = np.linalg.qr(A)\n",
    "q, r, np.dot(q, r)"
   ]
  },
  {
   "cell_type": "code",
   "execution_count": 10,
   "metadata": {},
   "outputs": [
    {
     "data": {
      "text/plain": [
       "(array([[-0.70710678, -0.70710678],\n",
       "        [-0.70710678,  0.70710678]]),\n",
       " array([[-1.41421356e+00, -2.82842712e+00],\n",
       "        [ 0.00000000e+00, -9.48853707e-17]]),\n",
       " array([[1., 2.],\n",
       "        [1., 2.]]))"
      ]
     },
     "execution_count": 10,
     "metadata": {},
     "output_type": "execute_result"
    }
   ],
   "source": [
    "A = np.array([\n",
    "    [1,2],\n",
    "    [1,2]\n",
    "])\n",
    "\n",
    "q, r = np.linalg.qr(A)\n",
    "q, r, np.dot(q, r)"
   ]
  }
 ],
 "metadata": {
  "kernelspec": {
   "display_name": "Python 3",
   "language": "python",
   "name": "python3"
  },
  "language_info": {
   "codemirror_mode": {
    "name": "ipython",
    "version": 3
   },
   "file_extension": ".py",
   "mimetype": "text/x-python",
   "name": "python",
   "nbconvert_exporter": "python",
   "pygments_lexer": "ipython3",
   "version": "3.7.7"
  }
 },
 "nbformat": 4,
 "nbformat_minor": 4
}
