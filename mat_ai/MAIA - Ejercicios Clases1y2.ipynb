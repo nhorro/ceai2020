{
 "cells": [
  {
   "cell_type": "markdown",
   "metadata": {},
   "source": [
    "# Matemática para IA - Ejercicios de Espacios Vectoriales y Transformaciones Lineales (clases 1 y 2)"
   ]
  },
  {
   "cell_type": "markdown",
   "metadata": {},
   "source": [
    "## Ejercicio 1\n",
    "\n",
    "Se tiene el sistema de la figura 1 cuyo comportamiento está dado por la ecuación diferencial:\n",
    "\n",
    "$$\n",
    "m\\frac{d^2p}{dt^2} + kp + b\\frac{dp}{dt} = u(t), \\text{ con } m,k,b = 1 \\text{ y } p(0)=0,\\frac{dp}{dt}(0)=0,t\\ge0\n",
    "$$\n",
    "\n",
    "donde $u(t)$ es la entrada del sistema y $p(t)$ es la salida. Se supone que la entrada está definida en un espacio vectorial V , que garantiza la existencia y unicidad de la ecuación diferencial.\n",
    "De esta forma se puede establecer una función que, a cada entrada $u(t) ∈ V$ le asigna una salida $p(t) ∈ W$, donde $W$ será un espacio vectorial. A esta función se la denota $T : V → W$.\n",
    "Por ejemplo, si queremos saber cuál es la salida que le corresponde a $u(t) = 0$, debemos resolver $ m\\frac{d^2p}{dt^2} + kp + b\\frac{dp}{dt} = 0 $, cuyas soluciones están dadas por:\n",
    "\n",
    "$$\n",
    "p_0(t) = c_1 e^{-\\frac{b}{2m}t} sin(w_0t) + c_2 e^{-\\frac{b}{2m}t} cos(w_0t)\n",
    "$$\n",
    "\n",
    "con $ w_0 = \\sqrt{\\frac{4mk-b^2}{4m^2}} $ (con $ 4mk > b^2$) y $c_1,c_2 \\in \\mathbb{C}$ Pero, dado que debe satisfacer las condiciones iniciales nulas, entonces resulta $c_1 = 0$ y $c_2 = 0$, por lo tanto $p_0 (t) = 0 $. Es decir que $T(0) = 0$."
   ]
  },
  {
   "cell_type": "markdown",
   "metadata": {},
   "source": [
    "1. Explique por qué T es lineal."
   ]
  },
  {
   "cell_type": "markdown",
   "metadata": {},
   "source": [
    "### Solución: \n",
    "\n",
    "Por definición: sean V y W Espacios Vectoriales, entonces $𝑇:𝑉→𝑊$ será una aplicación lineal si se cumple que:\n",
    "\n",
    "$$\n",
    "\\forall x,y \\in V: T(x + y) = T(x) + T(y) \\\\\n",
    "\\forall x \\in V, \\forall \\lambda \\in \\mathbb{R}: T(\\lambda x) = \\lambda T(x) \\\\\n",
    "$$\n",
    "\n",
    "Esto quiere decir que dada la ecuación diferencial lineal de segundo orden:\n",
    "\n",
    "$$\n",
    "m\\ddot{p} + k \\dot{p} + bp = u(t)\n",
    "$$\n",
    "\n",
    "1. Sí $p_1(t)$ y $p_2(t)$ son soluciones de la ecuación para $u_{1}(t)$ y $u_{2}(t)$ respectivamente, entonces:\n",
    "\n",
    "$$\n",
    "p_3(t) = p_1(t) + p_2(t)\n",
    "$$\n",
    "\n",
    "es solución para $u_{3}(t)=u_{1}(t)+u_{2}(t)$.\n",
    "\n",
    "2. Sí $p(t)$ es solución de la ecuación para $u(t)$, entonces para $\\lambda \\in \\mathbb{R}$ $\\alpha p(t)$ es la solución para $\\alpha u(t)$,"
   ]
  },
  {
   "cell_type": "markdown",
   "metadata": {},
   "source": [
    "#### Demostración de 1:\n",
    "\n",
    "Si derivamos de ambos lados la ecuación de solución propuesta:\n",
    "\n",
    "$$\n",
    "\\dot{p_3}(t) = \\dot{p_1}(t) + \\dot{p_2}(t)\n",
    "$$\n",
    "\n",
    "$$\n",
    "\\ddot{p_3}(t) = \\ddot{p_1}(t) + \\ddot{p_2}(t)\n",
    "$$\n",
    "\n",
    "Y reemplazamos este resultado en la ecuación original obtenemos:\n",
    "\n",
    "$$\n",
    "m\\ddot{p_3}(t) + k \\dot{p_3}(t) + bp_3(t) = u_3(t)\n",
    "$$\n",
    "\n",
    "$$\n",
    "m(\\ddot{p_1}(t) + \\ddot{p_2}(t)) + k (\\dot{p_1}(t) + \\dot{p_2}(t)) + b(p_1(t) +p_2(t)) = u_1 (t) + u_2(t)\n",
    "$$\n",
    "\n",
    "$$\n",
    "m\\ddot{p_1}(t) + k \\dot{p_1}(t) + bp_1(t) + m\\ddot{p_2}(t) + k \\dot{p_2}(t) + bp_2(t) = u_1 (t) + u_2(t)\n",
    "$$\n",
    "\n",
    "Que sabemos es cierto porque por premisa $p_1(t)$ es solución de $u_1(t)$ y $p_2(t)$ es solución de $u_2(t)$."
   ]
  },
  {
   "cell_type": "markdown",
   "metadata": {},
   "source": [
    "#### Demostración de 2:\n",
    "\n",
    "$$\n",
    "m\\ddot{\\lambda p(t)} + k \\dot{\\lambda p(t)} + b \\lambda p(t) = \\lambda  u (t)\n",
    "$$\n",
    "\n",
    "$$\n",
    "\\lambda ( m\\ddot{p}(t) + k \\dot{p}(t) + bp(t) ) = \\lambda  u (t)\n",
    "$$\n",
    "\n",
    "Dividiendo ambos lados por $\\lambda$:\n",
    "\n",
    "$$\n",
    "m\\ddot{p}(t) + k \\dot{p}(t) + bp(t) =  u (t)\n",
    "$$\n",
    "\n",
    "Que sabemos es cierto porque partimos de esa premisa."
   ]
  },
  {
   "cell_type": "markdown",
   "metadata": {},
   "source": [
    "2. Halla la salida correspondiente a $u(t)=e^{−t}$."
   ]
  },
  {
   "cell_type": "markdown",
   "metadata": {},
   "source": [
    "### Solución: "
   ]
  },
  {
   "cell_type": "markdown",
   "metadata": {},
   "source": [
    "<font color='red'>\n",
    "CONSULTAR: Solución analítica por forma general, Taylor o aplicando alguna propiedad?. Ver qué estudiar en estos días de oscilador armónico y ODEs.\n",
    "</font>"
   ]
  },
  {
   "cell_type": "markdown",
   "metadata": {},
   "source": [
    "Verificación c/ sympy:"
   ]
  },
  {
   "cell_type": "code",
   "execution_count": 11,
   "metadata": {},
   "outputs": [],
   "source": [
    "import numpy as np\n",
    "from sympy.interactive import printing\n",
    "printing.init_printing(use_latex=True)\n",
    "from sympy import *\n",
    "import sympy as sp"
   ]
  },
  {
   "cell_type": "code",
   "execution_count": 12,
   "metadata": {},
   "outputs": [],
   "source": [
    "t = sp.Symbol('t')\n",
    "m = sp.Symbol('m')\n",
    "k = sp.Symbol('k')\n",
    "b = sp.Symbol('b')\n",
    "w = sp.Symbol('w')"
   ]
  },
  {
   "cell_type": "code",
   "execution_count": 13,
   "metadata": {},
   "outputs": [],
   "source": [
    "p = sp.Function('p')(t)\n",
    "u = sp.Function('u')(t)"
   ]
  },
  {
   "cell_type": "code",
   "execution_count": 14,
   "metadata": {},
   "outputs": [
    {
     "data": {
      "image/png": "[encoded data removed]",
      "text/latex": [
       "$\\displaystyle b \\frac{d}{d t} p{\\left(t \\right)} + k p{\\left(t \\right)} + m \\frac{d^{2}}{d t^{2}} p{\\left(t \\right)} = e^{- t}$"
      ],
      "text/plain": [
       "                          2            \n",
       "  d                      d           -t\n",
       "b⋅──(p(t)) + k⋅p(t) + m⋅───(p(t)) = ℯ  \n",
       "  dt                      2            \n",
       "                        dt             "
      ]
     },
     "metadata": {},
     "output_type": "display_data"
    }
   ],
   "source": [
    "diffeq = Eq(m*p.diff(t,t) + k*p + b*p.diff(t),exp(-t))\n",
    "display(diffeq)"
   ]
  },
  {
   "cell_type": "code",
   "execution_count": 15,
   "metadata": {},
   "outputs": [
    {
     "data": {
      "image/png": "[encoded data removed]",
      "text/latex": [
       "$\\displaystyle p{\\left(t \\right)} = C_{1} e^{\\frac{t \\left(- b - \\sqrt{b^{2} - 4 k m}\\right)}{2 m}} + C_{2} e^{\\frac{t \\left(- b + \\sqrt{b^{2} - 4 k m}\\right)}{2 m}} + \\frac{e^{- t}}{- b + k + m}$"
      ],
      "text/plain": [
       "             ⎛        ____________⎞         ⎛        ____________⎞            \n",
       "             ⎜       ╱  2         ⎟         ⎜       ╱  2         ⎟            \n",
       "           t⋅⎝-b - ╲╱  b  - 4⋅k⋅m ⎠       t⋅⎝-b + ╲╱  b  - 4⋅k⋅m ⎠            \n",
       "           ────────────────────────       ────────────────────────       -t   \n",
       "                     2⋅m                            2⋅m                 ℯ     \n",
       "p(t) = C₁⋅ℯ                         + C₂⋅ℯ                         + ─────────\n",
       "                                                                     -b + k + \n",
       "\n",
       " \n",
       " \n",
       " \n",
       " \n",
       " \n",
       "─\n",
       "m"
      ]
     },
     "execution_count": 15,
     "metadata": {},
     "output_type": "execute_result"
    }
   ],
   "source": [
    "dsolve(diffeq,p)"
   ]
  },
  {
   "cell_type": "markdown",
   "metadata": {},
   "source": [
    "2. Halla la salida correspondiente a $u(t) = e^{−(t−1)}$."
   ]
  },
  {
   "cell_type": "markdown",
   "metadata": {},
   "source": [
    "### Solución: "
   ]
  },
  {
   "cell_type": "markdown",
   "metadata": {},
   "source": [
    "<font color='red'>\n",
    "CONSULTAR: Ídem anterior.\n",
    "</font>"
   ]
  },
  {
   "cell_type": "markdown",
   "metadata": {},
   "source": [
    "Verificación c/ sympy:"
   ]
  },
  {
   "cell_type": "code",
   "execution_count": 16,
   "metadata": {},
   "outputs": [
    {
     "data": {
      "image/png": "[encoded data removed]",
      "text/latex": [
       "$\\displaystyle b \\frac{d}{d t} p{\\left(t \\right)} + k p{\\left(t \\right)} + m \\frac{d^{2}}{d t^{2}} p{\\left(t \\right)} = e^{1 - t}$"
      ],
      "text/plain": [
       "                          2               \n",
       "  d                      d           1 - t\n",
       "b⋅──(p(t)) + k⋅p(t) + m⋅───(p(t)) = ℯ     \n",
       "  dt                      2               \n",
       "                        dt                "
      ]
     },
     "metadata": {},
     "output_type": "display_data"
    }
   ],
   "source": [
    "diffeq = Eq(m*p.diff(t,t) + k*p + b*p.diff(t),exp(-(t-1)))\n",
    "display(diffeq)"
   ]
  },
  {
   "cell_type": "code",
   "execution_count": 17,
   "metadata": {},
   "outputs": [
    {
     "data": {
      "image/png": "[encoded data removed]",
      "text/latex": [
       "$\\displaystyle p{\\left(t \\right)} = C_{1} e^{\\frac{t \\left(- b - \\sqrt{b^{2} - 4 k m}\\right)}{2 m}} + C_{2} e^{\\frac{t \\left(- b + \\sqrt{b^{2} - 4 k m}\\right)}{2 m}} + \\frac{e^{1 - t}}{- b + k + m}$"
      ],
      "text/plain": [
       "             ⎛        ____________⎞         ⎛        ____________⎞            \n",
       "             ⎜       ╱  2         ⎟         ⎜       ╱  2         ⎟            \n",
       "           t⋅⎝-b - ╲╱  b  - 4⋅k⋅m ⎠       t⋅⎝-b + ╲╱  b  - 4⋅k⋅m ⎠            \n",
       "           ────────────────────────       ────────────────────────      1 - t \n",
       "                     2⋅m                            2⋅m                ℯ      \n",
       "p(t) = C₁⋅ℯ                         + C₂⋅ℯ                         + ─────────\n",
       "                                                                     -b + k + \n",
       "\n",
       " \n",
       " \n",
       " \n",
       " \n",
       " \n",
       "─\n",
       "m"
      ]
     },
     "execution_count": 17,
     "metadata": {},
     "output_type": "execute_result"
    }
   ],
   "source": [
    "dsolve(diffeq,p)"
   ]
  },
  {
   "cell_type": "markdown",
   "metadata": {},
   "source": [
    "3. Halla la salida correspondiente a $u(t) = e^{iwt}$."
   ]
  },
  {
   "cell_type": "markdown",
   "metadata": {},
   "source": [
    "### Solución: "
   ]
  },
  {
   "cell_type": "markdown",
   "metadata": {},
   "source": [
    "<font color='red'>\n",
    "CONSULTAR: Ídem anterior.\n",
    "</font>"
   ]
  },
  {
   "cell_type": "markdown",
   "metadata": {},
   "source": [
    "Verificación c/ sympy:"
   ]
  },
  {
   "cell_type": "code",
   "execution_count": 18,
   "metadata": {
    "scrolled": true
   },
   "outputs": [
    {
     "data": {
      "image/png": "[encoded data removed]",
      "text/latex": [
       "$\\displaystyle b \\frac{d}{d t} p{\\left(t \\right)} + k p{\\left(t \\right)} + m \\frac{d^{2}}{d t^{2}} p{\\left(t \\right)} = e^{- 1.0 i t w}$"
      ],
      "text/plain": [
       "                          2                    \n",
       "  d                      d           -1.0⋅ⅈ⋅t⋅w\n",
       "b⋅──(p(t)) + k⋅p(t) + m⋅───(p(t)) = ℯ          \n",
       "  dt                      2                    \n",
       "                        dt                     "
      ]
     },
     "metadata": {},
     "output_type": "display_data"
    }
   ],
   "source": [
    "diffeq = Eq(m*p.diff(t,t) + k*p + b*p.diff(t),exp(-1j*w*t))\n",
    "display(diffeq)"
   ]
  },
  {
   "cell_type": "code",
   "execution_count": 19,
   "metadata": {},
   "outputs": [
    {
     "data": {
      "image/png": "[encoded data removed]",
      "text/latex": [
       "$\\displaystyle p{\\left(t \\right)} = C_{1} e^{\\frac{t \\left(- b - \\sqrt{b^{2} - 4 k m}\\right)}{2 m}} + C_{2} e^{\\frac{t \\left(- b + \\sqrt{b^{2} - 4 k m}\\right)}{2 m}} - \\frac{e^{- 1.0 i t w}}{i b w - k + m w^{2}}$"
      ],
      "text/plain": [
       "             ⎛        ____________⎞         ⎛        ____________⎞            \n",
       "             ⎜       ╱  2         ⎟         ⎜       ╱  2         ⎟            \n",
       "           t⋅⎝-b - ╲╱  b  - 4⋅k⋅m ⎠       t⋅⎝-b + ╲╱  b  - 4⋅k⋅m ⎠            \n",
       "           ────────────────────────       ────────────────────────      -1.0⋅ⅈ\n",
       "                     2⋅m                            2⋅m                ℯ      \n",
       "p(t) = C₁⋅ℯ                         + C₂⋅ℯ                         - ─────────\n",
       "                                                                              \n",
       "                                                                     ⅈ⋅b⋅w - k\n",
       "\n",
       "       \n",
       "       \n",
       "       \n",
       "⋅t⋅w   \n",
       "       \n",
       "───────\n",
       "      2\n",
       " + m⋅w "
      ]
     },
     "execution_count": 19,
     "metadata": {},
     "output_type": "execute_result"
    }
   ],
   "source": [
    "dsolve(diffeq,p)"
   ]
  },
  {
   "cell_type": "markdown",
   "metadata": {},
   "source": [
    "## Ejercicio 2"
   ]
  },
  {
   "cell_type": "markdown",
   "metadata": {},
   "source": [
    "Supongamos que $V$ es un espacio vectorial, y $A ⊆ V$ $A \\ne \\emptyset $, es un subconjunto de $V$. Dados\n",
    "dos elementos $x, y \\in A$, el segmento que une estos puntos, se puede escribir como $ \\alpha x + (1 − \\alpha)y$ con $0 \\ge \\alpha\\ge 1$.\n",
    "Se dice que $A$ es convexo si dados dos elementos cualquiera $x, y \\in A$, el segmento está\n",
    "contenido en $A$."
   ]
  },
  {
   "cell_type": "markdown",
   "metadata": {},
   "source": [
    "1. Explique por qué todo subespacio es un conjunto convexo."
   ]
  },
  {
   "cell_type": "markdown",
   "metadata": {},
   "source": [
    "### Solución: \n",
    "\n",
    "Si $A ⊆ V$ y $V$ es un Espaciol Vectorial, entonces $A$ hereda muchas de las propiedades de $V$ directamente. Esto incluye las propiedades del grupo Abeliano, la propiedad distributiva, la propiedad asociativa, y el elemento neutro ($0$). \n",
    "\n",
    "Para determinar si $(A,+,\\cdot)$ es un subespacio de $V$ se debe demostrar:\n",
    "\n",
    "1. $A \\ne \\emptyset $, en particular interesa que $ 0 \\subseteq A $.\n",
    "2. Cerradura de $A$:\n",
    "    - Con respecto a la operación externa: $ \\forall \\lambda \\in \\mathbb{R} \\forall x \\in A: \\lambda x \\in A$ \n",
    "    - Con respecto a la operación interna: $ \\forall x,y \\in A: x + y \\in A$\n",
    "    \n",
    "Entonces, si $A$ es un subespacio entonces están definidas y cerradas las operaciones $(+,\\cdot)$ sobre sus elementos, y por lo tanto, también $ \\alpha x + (1 − \\alpha)y$ con $0 \\ge \\alpha\\ge 1$ están contenidos en él."
   ]
  },
  {
   "cell_type": "markdown",
   "metadata": {},
   "source": [
    "2. Una variedad lineal ¿Es convexa?. ¿Por qué?"
   ]
  },
  {
   "cell_type": "markdown",
   "metadata": {},
   "source": [
    "### Solución: \n",
    "\n",
    "Por definición, dado un Espacio Vectorial $V$ y $x_0 \\in V$, $U \\subseteq V$, una variedad lineal $L$ es un conjunto dado por:\n",
    "\n",
    "$$\n",
    "L = x_0 + U := \\{ x_0 + u : u \\in U \\} \n",
    "$$\n",
    "\n",
    "Anteriormente se vío que todo subespacio es convexo, por lo tanto $U$ a es convexo. Como se cumple la clausura de $(+,\\cdot)$ entonces $L$ también es convexa."
   ]
  },
  {
   "cell_type": "markdown",
   "metadata": {},
   "source": [
    "3. En el espacio vectorial $ V =\\mathbb{R}^2 $ de un ejemplo de un conjunto convexo que no sea un subespacio."
   ]
  },
  {
   "cell_type": "markdown",
   "metadata": {},
   "source": [
    "### Solución: \n",
    "\n",
    "El conjunto de puntos encerrados en una circunferencia es convexo pero no es un subespacio porque no cumple el axioma de cerradura.\n",
    "\n",
    "$$\n",
    "C = \\{ x,y \\in \\mathbb{R}^2, R \\in \\mathbb{R}, R>0: x^2+y^2 \\le R \\}\n",
    "$$\n",
    "\n",
    "\n",
    "\n",
    "\n"
   ]
  },
  {
   "cell_type": "markdown",
   "metadata": {},
   "source": [
    "4. Demuestre que la intersección de conjuntos convexos es convexa."
   ]
  },
  {
   "cell_type": "markdown",
   "metadata": {},
   "source": [
    "### Solución: \n",
    "\n",
    "Sean $A$ y $B$ conjuntos convexos. \n",
    "\n",
    "Si $A \\cap B = \\emptyset$ ó $A \\cap B $ es un conjunto con un único punto como elemento, entonces por definición es convexo.\n",
    "\n",
    "Si $C = A \\cap B$ es un conjunto de más de un elemento, entonces se debe probar que para cualquier $x,y \\in C$ está contenido también en $C$ el segmento dado por:  $ \\alpha x + (1 − \\alpha)y$ con $0 \\ge \\alpha\\ge 1$.\n",
    "\n",
    "Si se toman dos puntos $x,y$ de $C$ y $z$ es un punto contenido en el segmento entre ellos, entonces $z \\in A$ porque es $A$ es convexo y $z \\in B$ por la misma razón, por lo tanto $z \\in C$.\n"
   ]
  },
  {
   "cell_type": "markdown",
   "metadata": {},
   "source": [
    "## Ejercicio 3"
   ]
  },
  {
   "cell_type": "markdown",
   "metadata": {},
   "source": [
    "Sea $V = \\mathbb{R}^3 $ y $W = \\mathbb{R}^2$ describa el conjunto de todas las transformaciones lineales de $V → W$."
   ]
  },
  {
   "cell_type": "markdown",
   "metadata": {},
   "source": [
    "### Solución: \n",
    "\n",
    "<font color='red'>\n",
    "(intento fallido, CONSULTAR)\n",
    "</font>\n",
    "\n",
    "Si $p_v=(x_v,y_v,z_v) \\in V$ y $p_w=(x_w,y_w) \\in W$ interesan todas las transformaciones $T:V → W$ que cumplan:\n",
    "\n",
    "$$\n",
    "T( \\lambda p_v + \\beta p_w ) = \\lambda T(p_v) + \\beta T(p_w), \\lambda \\in \\mathbb{R}\n",
    "$$\n",
    "\n",
    "Si $T(p_v) = p_w = Ap_v$:\n",
    "\n",
    "$$\n",
    "\\begin{bmatrix}\n",
    "x_w  \\\\\n",
    "y_w  \\\\\n",
    "0    \\\\\n",
    "\\end{bmatrix}\n",
    "=\n",
    "\\begin{bmatrix}\n",
    "a_{11} & a_{12} & a_{12} \\\\\n",
    "a_{21} & a_{22} & a_{13} \\\\\n",
    "a_{31} & a_{32} & a_{33} \\\\\n",
    "\\end{bmatrix}\n",
    "\\cdot\n",
    "\\begin{bmatrix}\n",
    "x_v  \\\\\n",
    "y_v  \\\\\n",
    "z_v  \\\\\n",
    "\\end{bmatrix}\n",
    "=\n",
    "\\begin{bmatrix}\n",
    "x_w = x_v a_{11} + x_v a_{12} + x_v a_{13} \\\\\n",
    "y_w = y_v a_{21} + y_v a_{22} + y_v a_{23} \\\\\n",
    "z_w = 0 = z_v a_{31} + z_v a_{32} + z_v a_{33} \\\\\n",
    "\\end{bmatrix}\n",
    "$$\n",
    "\n",
    "<font color='red'>\n",
    "CONSULTAR: seguir este camino restringe la solución a que todas las transformaciones sean de esta forma: $Ap_v$\n",
    "</font>\n"
   ]
  }
 ],
 "metadata": {
  "kernelspec": {
   "display_name": "Python 3",
   "language": "python",
   "name": "python3"
  },
  "language_info": {
   "codemirror_mode": {
    "name": "ipython",
    "version": 3
   },
   "file_extension": ".py",
   "mimetype": "text/x-python",
   "name": "python",
   "nbconvert_exporter": "python",
   "pygments_lexer": "ipython3",
   "version": "3.7.7"
  }
 },
 "nbformat": 4,
 "nbformat_minor": 4
}
