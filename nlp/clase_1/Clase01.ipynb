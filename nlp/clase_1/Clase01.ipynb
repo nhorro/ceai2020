{
 "cells": [
  {
   "cell_type": "markdown",
   "metadata": {},
   "source": [
    "# Clase 1. Ejercicios\n",
    "\n",
    "(Explicación en 02:40:14)\n",
    "\n",
    "1. Dado un corpus de documentos representados por una lista de textos, devolver una matriz con la representación one-hot-encoding.\n"
   ]
  },
  {
   "cell_type": "code",
   "execution_count": 149,
   "metadata": {},
   "outputs": [],
   "source": [
    "import numpy as np\n",
    "from itertools import chain"
   ]
  },
  {
   "cell_type": "code",
   "execution_count": 195,
   "metadata": {},
   "outputs": [],
   "source": [
    "corpus = [ \n",
    "    \"hola como estas\", \n",
    "    \"hola como estas y como llego al subte\",\n",
    "    \"como llego al subte\",\n",
    "    \"esta palabra se repite mucho mucho mucho\"\n",
    "]\n",
    "\n",
    "def get_vocab_from_corpus(corpus):\n",
    "    return np.unique(list(chain.from_iterable(map(str.split, corpus))))"
   ]
  },
  {
   "cell_type": "code",
   "execution_count": 196,
   "metadata": {
    "scrolled": true
   },
   "outputs": [
    {
     "data": {
      "text/plain": [
       "array(['al', 'como', 'esta', 'estas', 'hola', 'llego', 'mucho', 'palabra',\n",
       "       'repite', 'se', 'subte', 'y'], dtype='<U7')"
      ]
     },
     "execution_count": 196,
     "metadata": {},
     "output_type": "execute_result"
    }
   ],
   "source": [
    "vocab = get_vocab_from_corpus(corpus)\n",
    "vocab"
   ]
  },
  {
   "cell_type": "markdown",
   "metadata": {},
   "source": [
    "Ejemplo. Ver un documento."
   ]
  },
  {
   "cell_type": "code",
   "execution_count": 152,
   "metadata": {},
   "outputs": [
    {
     "data": {
      "text/plain": [
       "'hola como estas'"
      ]
     },
     "execution_count": 152,
     "metadata": {},
     "output_type": "execute_result"
    }
   ],
   "source": [
    "doc1 = corpus[0]\n",
    "doc1"
   ]
  },
  {
   "cell_type": "markdown",
   "metadata": {},
   "source": [
    "Expresar un documento cómo una lista de índices de un vocabulario."
   ]
  },
  {
   "cell_type": "code",
   "execution_count": 142,
   "metadata": {},
   "outputs": [],
   "source": [
    "def get_vocab_indexes(doc,vocab):\n",
    "    splitted_doc = doc.split()\n",
    "    return np.array([np.where(vocab==x) for x in splitted_doc]).flatten()"
   ]
  },
  {
   "cell_type": "code",
   "execution_count": 143,
   "metadata": {},
   "outputs": [
    {
     "data": {
      "text/plain": [
       "array([3, 1, 2])"
      ]
     },
     "execution_count": 143,
     "metadata": {},
     "output_type": "execute_result"
    }
   ],
   "source": [
    "get_vocab_indexes(doc1,vocab)"
   ]
  },
  {
   "cell_type": "markdown",
   "metadata": {},
   "source": [
    "One Hot Encode."
   ]
  },
  {
   "cell_type": "code",
   "execution_count": 171,
   "metadata": {},
   "outputs": [],
   "source": [
    "def one_hot_encode_doc(doc,vocab):\n",
    "    doc_ohe = np.zeros(vocab.size)\n",
    "    doc_ohe[get_vocab_indexes(doc,vocab)] = 1\n",
    "    return doc_ohe"
   ]
  },
  {
   "cell_type": "code",
   "execution_count": 182,
   "metadata": {},
   "outputs": [
    {
     "data": {
      "text/plain": [
       "array([[0., 1., 1., 1., 0., 0., 0.],\n",
       "       [1., 1., 1., 1., 1., 1., 1.],\n",
       "       [1., 1., 0., 0., 1., 1., 0.]])"
      ]
     },
     "execution_count": 182,
     "metadata": {},
     "output_type": "execute_result"
    }
   ],
   "source": [
    "def one_hot_encode_corpus(corpus,vocab):\n",
    "    corpus_ohe = np.zeros(shape=(len(corpus),vocab.size))\n",
    "    for idx, doc in enumerate(corpus):\n",
    "        corpus_ohe[idx] = one_hot_encode_doc(doc,vocab)\n",
    "    return corpus_ohe\n",
    "\n",
    "corpus_ohe = one_hot_encode_corpus(corpus,vocab)\n",
    "corpus_ohe"
   ]
  },
  {
   "cell_type": "markdown",
   "metadata": {},
   "source": [
    "2. Dado un corpus de documentos representados por una lista de textos, devolver una matriz con la representación vectores de frecuencia."
   ]
  },
  {
   "cell_type": "code",
   "execution_count": 203,
   "metadata": {},
   "outputs": [],
   "source": [
    "def freq_encode_doc(doc,vocab):\n",
    "    doc_freq = np.zeros(vocab.size)\n",
    "    unique_idx,freq = np.unique(get_vocab_indexes(doc,vocab), return_counts=True)\n",
    "    doc_freq[unique_idx] = freq\n",
    "    return doc_freq"
   ]
  },
  {
   "cell_type": "code",
   "execution_count": 206,
   "metadata": {},
   "outputs": [
    {
     "name": "stdout",
     "output_type": "stream",
     "text": [
      "esta palabra se repite mucho mucho mucho\n",
      "[0. 0. 1. 0. 0. 0. 3. 1. 1. 1. 0. 0.]\n"
     ]
    }
   ],
   "source": [
    "doc2 = corpus[3]\n",
    "doc2\n",
    "print(doc2)\n",
    "print(freq_encode_doc(doc2,vocab))"
   ]
  },
  {
   "cell_type": "code",
   "execution_count": 207,
   "metadata": {},
   "outputs": [
    {
     "data": {
      "text/plain": [
       "array([[0., 1., 0., 1., 1., 0., 0., 0., 0., 0., 0., 0.],\n",
       "       [1., 2., 0., 1., 1., 1., 0., 0., 0., 0., 1., 1.],\n",
       "       [1., 1., 0., 0., 0., 1., 0., 0., 0., 0., 1., 0.],\n",
       "       [0., 0., 1., 0., 0., 0., 3., 1., 1., 1., 0., 0.]])"
      ]
     },
     "execution_count": 207,
     "metadata": {},
     "output_type": "execute_result"
    }
   ],
   "source": [
    "def freq_encode_corpus(corpus,vocab):\n",
    "    corpus_freq = np.zeros(shape=(len(corpus),vocab.size))\n",
    "    for idx, doc in enumerate(corpus):\n",
    "        corpus_freq[idx] = freq_encode_doc(doc,vocab)\n",
    "    return corpus_freq\n",
    "\n",
    "corpus_freq = freq_encode_corpus(corpus,vocab)\n",
    "corpus_freq"
   ]
  },
  {
   "cell_type": "markdown",
   "metadata": {},
   "source": [
    "3. Dado un corpus de documentos representados por una lista de textos, devolver una matriz con la representación TFIDF."
   ]
  },
  {
   "cell_type": "code",
   "execution_count": null,
   "metadata": {},
   "outputs": [],
   "source": [
    "#TODO"
   ]
  },
  {
   "cell_type": "markdown",
   "metadata": {},
   "source": [
    "4. Escribir una función que reciba la matriz representando el corpus y el índice de un documento y devuelva los documentos ordenados por similitud coseno."
   ]
  },
  {
   "cell_type": "code",
   "execution_count": 209,
   "metadata": {},
   "outputs": [
    {
     "data": {
      "text/plain": [
       "0.7302967433402214"
      ]
     },
     "execution_count": 209,
     "metadata": {},
     "output_type": "execute_result"
    }
   ],
   "source": [
    "doc1 = corpus_freq[0]\n",
    "doc2 = corpus_freq[1]\n",
    "\n",
    "def cosine_similarity(doc1,doc2):\n",
    "    return np.dot(doc1,doc2)/( np.linalg.norm(doc1) * np.linalg.norm(doc2) )\n",
    "\n",
    "cosine_similarity(doc1,doc2)"
   ]
  },
  {
   "cell_type": "code",
   "execution_count": null,
   "metadata": {},
   "outputs": [],
   "source": [
    "def sort_docs_by_cosine_similarity(corpus,doc_index):\n",
    "    #TODO\n",
    "    return result"
   ]
  },
  {
   "cell_type": "markdown",
   "metadata": {},
   "source": [
    "5. Implementar (3) con matrices sparse de la librería SciPy"
   ]
  },
  {
   "cell_type": "code",
   "execution_count": 210,
   "metadata": {},
   "outputs": [],
   "source": [
    "#TODO"
   ]
  }
 ],
 "metadata": {
  "kernelspec": {
   "display_name": "Python 3",
   "language": "python",
   "name": "python3"
  },
  "language_info": {
   "codemirror_mode": {
    "name": "ipython",
    "version": 3
   },
   "file_extension": ".py",
   "mimetype": "text/x-python",
   "name": "python",
   "nbconvert_exporter": "python",
   "pygments_lexer": "ipython3",
   "version": "3.7.7"
  }
 },
 "nbformat": 4,
 "nbformat_minor": 2
}
