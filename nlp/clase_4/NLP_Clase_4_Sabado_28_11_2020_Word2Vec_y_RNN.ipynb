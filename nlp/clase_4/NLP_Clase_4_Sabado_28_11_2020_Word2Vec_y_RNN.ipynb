{
  "nbformat": 4,
  "nbformat_minor": 0,
  "metadata": {
    "colab": {
      "name": "NLP Clase 4 - Sabado 28_11_2020 Word2Vec y RNN.ipynb",
      "provenance": [],
      "collapsed_sections": [],
      "toc_visible": true
    },
    "kernelspec": {
      "name": "python3",
      "display_name": "Python 3"
    }
  },
  "cells": [
    {
      "cell_type": "markdown",
      "metadata": {
        "id": "D9maRqgMerEq"
      },
      "source": [
        "# NLP Clase 4 - Sábado 28/11/2020"
      ]
    },
    {
      "cell_type": "code",
      "metadata": {
        "colab": {
          "base_uri": "https://localhost:8080/"
        },
        "id": "5-OH7qh4eP4Q",
        "outputId": "1a333eb3-02a2-4d84-c1bd-ecb1a916b054"
      },
      "source": [
        "!wget http://nlp.stanford.edu/data/glove.twitter.27B.zip"
      ],
      "execution_count": null,
      "outputs": [
        {
          "output_type": "stream",
          "text": [
            "--2020-11-28 15:31:10--  http://nlp.stanford.edu/data/glove.twitter.27B.zip\n",
            "Resolving nlp.stanford.edu (nlp.stanford.edu)... 171.64.67.140\n",
            "Connecting to nlp.stanford.edu (nlp.stanford.edu)|171.64.67.140|:80... connected.\n",
            "HTTP request sent, awaiting response... 302 Found\n",
            "Location: https://nlp.stanford.edu/data/glove.twitter.27B.zip [following]\n",
            "--2020-11-28 15:31:10--  https://nlp.stanford.edu/data/glove.twitter.27B.zip\n",
            "Connecting to nlp.stanford.edu (nlp.stanford.edu)|171.64.67.140|:443... connected.\n",
            "HTTP request sent, awaiting response... 301 Moved Permanently\n",
            "Location: http://downloads.cs.stanford.edu/nlp/data/glove.twitter.27B.zip [following]\n",
            "--2020-11-28 15:31:11--  http://downloads.cs.stanford.edu/nlp/data/glove.twitter.27B.zip\n",
            "Resolving downloads.cs.stanford.edu (downloads.cs.stanford.edu)... 171.64.64.22\n",
            "Connecting to downloads.cs.stanford.edu (downloads.cs.stanford.edu)|171.64.64.22|:80... connected.\n",
            "HTTP request sent, awaiting response... 200 OK\n",
            "Length: 1520408563 (1.4G) [application/zip]\n",
            "Saving to: ‘glove.twitter.27B.zip’\n",
            "\n",
            "glove.twitter.27B.z 100%[===================>]   1.42G  1.96MB/s    in 11m 43s \n",
            "\n",
            "2020-11-28 15:42:54 (2.06 MB/s) - ‘glove.twitter.27B.zip’ saved [1520408563/1520408563]\n",
            "\n"
          ],
          "name": "stdout"
        }
      ]
    },
    {
      "cell_type": "code",
      "metadata": {
        "colab": {
          "base_uri": "https://localhost:8080/"
        },
        "id": "lDTwDBsVf4Ta",
        "outputId": "f2ea7acf-a000-4514-b0a2-2bdf64a6241e"
      },
      "source": [
        "!unzip glove.twitter.27B.zip"
      ],
      "execution_count": null,
      "outputs": [
        {
          "output_type": "stream",
          "text": [
            "Archive:  glove.twitter.27B.zip\n",
            "  inflating: glove.twitter.27B.25d.txt  \n",
            "  inflating: glove.twitter.27B.50d.txt  \n",
            "  inflating: glove.twitter.27B.100d.txt  \n",
            "  inflating: glove.twitter.27B.200d.txt  \n"
          ],
          "name": "stdout"
        }
      ]
    },
    {
      "cell_type": "code",
      "metadata": {
        "colab": {
          "base_uri": "https://localhost:8080/"
        },
        "id": "Ho02JCq9gt93",
        "outputId": "97108914-88a9-4f3e-8e93-7e40fce90266"
      },
      "source": [
        "!wget https://dl.fbaipublicfiles.com/fasttext/vectors-crawl/cc.en.300.vec.gz"
      ],
      "execution_count": null,
      "outputs": [
        {
          "output_type": "stream",
          "text": [
            "--2020-11-28 15:44:47--  https://dl.fbaipublicfiles.com/fasttext/vectors-crawl/cc.en.300.vec.gz\n",
            "Resolving dl.fbaipublicfiles.com (dl.fbaipublicfiles.com)... 104.22.75.142, 104.22.74.142, 172.67.9.4, ...\n",
            "Connecting to dl.fbaipublicfiles.com (dl.fbaipublicfiles.com)|104.22.75.142|:443... connected.\n",
            "HTTP request sent, awaiting response... 200 OK\n",
            "Length: 1325960915 (1.2G) [binary/octet-stream]\n",
            "Saving to: ‘cc.en.300.vec.gz’\n",
            "\n",
            "cc.en.300.vec.gz    100%[===================>]   1.23G  13.5MB/s    in 95s     \n",
            "\n",
            "2020-11-28 15:46:23 (13.3 MB/s) - ‘cc.en.300.vec.gz’ saved [1325960915/1325960915]\n",
            "\n"
          ],
          "name": "stdout"
        }
      ]
    },
    {
      "cell_type": "code",
      "metadata": {
        "colab": {
          "base_uri": "https://localhost:8080/"
        },
        "id": "rcS4XA7-guNY",
        "outputId": "cece9c6f-8592-42f5-d7b7-d71f6cf3011a"
      },
      "source": [
        "!gunzip -k cc.en.300.vec.gzy"
      ],
      "execution_count": null,
      "outputs": [
        {
          "output_type": "stream",
          "text": [
            "gzip: cc.en.300.vec already exists; do you wish to overwrite (y or n)? n\n",
            "\tnot overwritten\n"
          ],
          "name": "stdout"
        }
      ]
    },
    {
      "cell_type": "markdown",
      "metadata": {
        "id": "wg2lLeZmihdC"
      },
      "source": [
        "Código de ejemplo de: https://github.com/ejesposito/ceai/blob/master/nlp/word2vec/pretrained.py"
      ]
    },
    {
      "cell_type": "code",
      "metadata": {
        "id": "IOfC9ElEfIC8"
      },
      "source": [
        "import logging\n",
        "\n",
        "import os\n",
        "from pathlib import Path\n",
        "from io import StringIO\n",
        "import pickle\n",
        "\n",
        "from pathlib import Path\n",
        "from io import StringIO\n",
        "import pickle\n",
        "\n",
        "import numpy as np\n",
        "\n",
        "\n",
        "logging.basicConfig(level=logging.INFO)\n",
        "\n",
        "class WordsEmbeddings(object):\n",
        "    logger = logging.getLogger(__name__)\n",
        "\n",
        "    def __init__(self):\n",
        "        # load the embeddings\n",
        "        words_embedding_pkl = Path(self.PKL_PATH)\n",
        "        if not words_embedding_pkl.is_file():\n",
        "            words_embedding_txt = Path(self.WORD_TO_VEC_MODEL_TXT_PATH)\n",
        "            assert words_embedding_txt.is_file(), 'Words embedding not available'\n",
        "            embeddings = self.convert_model_to_pickle()\n",
        "        else:\n",
        "            embeddings = self.load_model_from_pickle()\n",
        "        self.embeddings = embeddings\n",
        "        # build the vocabulary hashmap\n",
        "        index = np.arange(self.embeddings.shape[0])\n",
        "        self.word2idx = dict(zip(self.embeddings['word'], index))\n",
        "        self.idx2word = dict(zip(index, self.embeddings['word']))\n",
        "\n",
        "    def get_words_embeddings(self, words):\n",
        "        words_idxs = self.words2idxs(words)\n",
        "        return self.embeddings[words_idxs]['embedding']\n",
        "\n",
        "    def words2idxs(self, words):\n",
        "        return np.array([self.word2idx.get(word, -1) for word in words])\n",
        "\n",
        "    def idxs2words(self, idxs):\n",
        "        return np.array([self.idx2word.get(idx, '-1') for idx in idxs])\n",
        "\n",
        "    def load_model_from_pickle(self):\n",
        "        self.logger.debug(\n",
        "            'loading words embeddings from pickle {}'.format(\n",
        "                self.PKL_PATH\n",
        "            )\n",
        "        )\n",
        "        max_bytes = 2**28 - 1 # 256MB\n",
        "        bytes_in = bytearray(0)\n",
        "        input_size = os.path.getsize(self.PKL_PATH)\n",
        "        with open(self.PKL_PATH, 'rb') as f_in:\n",
        "            for _ in range(0, input_size, max_bytes):\n",
        "                bytes_in += f_in.read(max_bytes)\n",
        "        embeddings = pickle.loads(bytes_in)\n",
        "        self.logger.debug('words embeddings loaded')\n",
        "        return embeddings\n",
        "\n",
        "    def convert_model_to_pickle(self):\n",
        "        # create a numpy strctured array:\n",
        "        # word     embedding\n",
        "        # U50      np.float32[]\n",
        "        # word_1   a, b, c\n",
        "        # word_2   d, e, f\n",
        "        # ...\n",
        "        # word_n   g, h, i\n",
        "        self.logger.debug(\n",
        "            'converting and loading words embeddings from text file {}'.format(\n",
        "                self.WORD_TO_VEC_MODEL_TXT_PATH\n",
        "            )\n",
        "        )\n",
        "        structure = [('word', np.dtype('U' + str(self.WORD_MAX_SIZE))),\n",
        "                     ('embedding', np.float32, (self.N_FEATURES,))]\n",
        "        structure = np.dtype(structure)\n",
        "        # load numpy array from disk using a generator\n",
        "        with open(self.WORD_TO_VEC_MODEL_TXT_PATH, encoding=\"utf8\") as words_embeddings_txt:\n",
        "            embeddings_gen = (\n",
        "                (line.split()[0], line.split()[1:]) for line in words_embeddings_txt\n",
        "                if len(line.split()[1:]) == self.N_FEATURES\n",
        "            )\n",
        "            embeddings = np.fromiter(embeddings_gen, structure)\n",
        "        # add a null embedding\n",
        "        null_embedding = np.array(\n",
        "            [('null_embedding', np.zeros((self.N_FEATURES,), dtype=np.float32))],\n",
        "            dtype=structure\n",
        "        )\n",
        "        embeddings = np.concatenate([embeddings, null_embedding])\n",
        "        # dump numpy array to disk using pickle\n",
        "        max_bytes = 2**28 - 1 # # 256MB\n",
        "        bytes_out = pickle.dumps(embeddings, protocol=pickle.HIGHEST_PROTOCOL)\n",
        "        with open(self.PKL_PATH, 'wb') as f_out:\n",
        "            for idx in range(0, len(bytes_out), max_bytes):\n",
        "                f_out.write(bytes_out[idx:idx+max_bytes])\n",
        "        self.logger.debug('words embeddings loaded')\n",
        "        return embeddings\n",
        "\n",
        "\n",
        "class GloveEmbeddings(WordsEmbeddings):\n",
        "\n",
        "    WORD_TO_VEC_MODEL_TXT_PATH = 'glove.twitter.27B.50d.txt'\n",
        "    PKL_PATH = 'gloveembedding.pkl'\n",
        "    N_FEATURES = 50\n",
        "    WORD_MAX_SIZE = 60\n",
        "\n",
        "\n",
        "class FasttextEmbeddings(WordsEmbeddings):\n",
        "\n",
        "    WORD_TO_VEC_MODEL_TXT_PATH = 'cc.en.300.vec'\n",
        "    PKL_PATH = 'fasttext.pkl'\n",
        "    N_FEATURES = 300\n",
        "    WORD_MAX_SIZE = 60"
      ],
      "execution_count": 1,
      "outputs": []
    },
    {
      "cell_type": "code",
      "metadata": {
        "colab": {
          "base_uri": "https://localhost:8080/"
        },
        "id": "IeuKEI2bfI-g",
        "outputId": "a348dfee-fb7b-4bb8-fd30-3ab6773b7de3"
      },
      "source": [
        "model_ft = FasttextEmbeddings()\n",
        "print(model_ft.get_words_embeddings(['hi', 'hello']))"
      ],
      "execution_count": 2,
      "outputs": [
        {
          "output_type": "stream",
          "text": [
            "[[ 6.6910e-01  3.1210e-01 -1.5140e-01 -5.3600e-02  1.7220e-01  1.0390e-01\n",
            "  -1.9930e-01  1.1110e-01 -3.8200e-02  1.2510e-01 -3.7600e-02 -9.1000e-02\n",
            "  -1.4160e-01 -4.0000e-04  5.7390e-01  7.8800e-02 -1.3200e-02 -1.5620e-01\n",
            "  -4.4630e-01  1.1750e-01 -1.2190e-01  6.9600e-02 -8.0100e-02 -1.5760e-01\n",
            "   3.7380e-01  4.7000e-03 -7.7000e-02 -7.4800e-02 -3.6340e-01  8.6050e-01\n",
            "  -5.5620e-01 -1.2960e-01  8.7000e-02 -4.5000e-03 -1.3830e-01 -3.3000e-02\n",
            "   1.7280e-01  1.1010e-01 -3.8300e-01  5.2400e-02 -2.8600e-02 -2.7010e-01\n",
            "  -3.1550e-01  3.6300e-01  2.4820e-01  2.0150e-01 -7.8500e-02  2.8210e-01\n",
            "  -1.5350e-01  2.5260e-01  2.0630e-01 -3.7370e-01  4.6010e-01  4.5930e-01\n",
            "  -1.1610e-01 -2.1850e-01 -2.2000e-01  3.8790e-01  1.0720e-01  4.9000e-02\n",
            "  -6.1800e-02  2.9470e-01 -1.4260e-01  6.9500e-02  5.1630e-01  3.7380e-01\n",
            "  -2.8940e-01  9.5500e-02  3.5250e-01 -2.5110e-01  2.3790e-01 -2.8220e-01\n",
            "  -1.6980e-01 -2.5400e-01 -1.9680e-01  1.5850e-01 -3.5680e-01  3.4000e-03\n",
            "   3.5760e-01  2.8600e-02 -1.5190e-01  5.1500e-02  1.2680e-01  3.7490e-01\n",
            "   4.3000e-03 -1.7680e-01  8.1000e-02  1.2930e-01 -5.3070e-01 -6.1150e-01\n",
            "  -4.4960e-01 -5.9900e-02  5.9370e-01 -5.1500e-02  1.0770e-01 -2.9770e-01\n",
            "   2.1460e-01  1.3410e-01 -7.9400e-02  1.6990e-01 -3.1670e-01 -6.7100e-02\n",
            "   4.7690e-01 -5.9400e-02  4.6400e-02 -2.0360e-01 -1.4840e-01  3.4800e-02\n",
            "   3.8800e-02 -6.7400e-02  3.5220e-01 -1.2290e-01 -3.2090e-01  3.3460e-01\n",
            "   9.9300e-02 -3.2440e-01  2.1160e-01  3.1330e-01 -8.2560e-01  1.5550e-01\n",
            "   6.8000e-03  2.3250e-01 -1.0030e-01  5.5700e-02 -2.8300e-02 -1.9120e-01\n",
            "   3.1250e-01 -3.0500e-02 -3.7800e-02 -1.7100e-01  2.2370e-01 -2.2210e-01\n",
            "  -1.1530e-01 -1.7240e-01 -6.8100e-02 -2.9840e-01 -1.2160e-01  4.1490e-01\n",
            "  -2.5560e-01 -1.4770e-01 -1.0910e-01  4.3300e-01  1.5100e-02  2.0000e-02\n",
            "   6.4400e-02  3.2900e-02 -7.8000e-01  1.9460e-01  2.1050e-01  3.6670e-01\n",
            "  -3.1990e-01 -6.1460e-01 -3.2030e-01 -1.5530e-01 -9.0200e-02 -1.5320e-01\n",
            "   9.5800e-02 -2.2800e-02  7.7600e-02 -1.5940e-01 -2.9890e-01  5.4700e-02\n",
            "  -3.6000e-02 -4.5230e-01  5.8480e-01 -3.2160e-01  7.9600e-02 -1.1920e-01\n",
            "  -1.7240e-01 -2.8570e-01  4.3400e-02 -1.4540e-01 -1.7160e-01  4.6500e-02\n",
            "  -3.5000e-02 -1.3300e-01  3.4400e-02  2.0530e-01  1.3330e-01 -1.7040e-01\n",
            "   5.6740e-01  3.0510e-01 -2.5690e-01  3.3270e-01  2.8620e-01  9.8400e-02\n",
            "   3.5640e-01  1.7560e-01  3.7700e-02 -8.5600e-02 -1.0480e-01 -4.2730e-01\n",
            "   1.8400e-01 -3.9590e-01 -8.1900e-02  1.4240e-01 -1.3540e-01  3.3220e-01\n",
            "   1.9790e-01  2.3520e-01 -1.1130e-01  3.5610e-01 -1.3100e-02  2.1500e-02\n",
            "  -2.2500e-02 -7.7800e-02 -1.4300e-02  1.4740e-01 -1.5400e-01  1.0060e-01\n",
            "   1.9410e-01  6.4600e-02 -2.9500e-01  7.3500e-02  1.2500e-01 -4.3900e-02\n",
            "   2.0620e-01 -1.0020e-01 -8.9800e-02  2.9000e-02 -5.4410e-01  4.2310e-01\n",
            "  -1.6090e-01 -1.6760e-01 -1.5360e-01 -2.4700e-01 -2.6270e-01 -3.9400e-01\n",
            "  -3.2650e-01  2.7830e-01  1.6900e-02  3.3390e-01  1.3420e-01 -4.1650e-01\n",
            "   9.7540e-01  1.5260e-01  1.0170e-01  6.4100e-01 -4.2030e-01 -6.7000e-02\n",
            "  -1.5000e-03 -2.0440e-01  8.2610e-01  1.2560e-01  8.7160e-01  2.3500e-02\n",
            "  -1.6290e-01  3.5600e-01 -3.3330e-01  1.1040e-01  5.5930e-01 -8.7700e-02\n",
            "   1.9050e-01  1.0500e-02 -5.0300e-02  2.2590e-01  4.0700e-01  6.8300e-02\n",
            "   5.9300e-02  1.4440e-01  3.5960e-01  5.3300e-02 -5.9490e-01 -1.4500e-01\n",
            "   2.7600e-01  6.0100e-02 -3.8000e-01  1.8380e-01 -7.1100e-01 -3.5260e-01\n",
            "   3.3870e-01 -3.4630e-01  7.2000e-02  2.0720e-01  1.2740e-01  5.9000e-03\n",
            "   8.8500e-02 -1.0000e-02  9.4500e-02 -2.6900e-02 -6.0290e-01 -2.0100e-02\n",
            "  -4.7160e-01 -1.0170e-01  3.4500e-02  2.1870e-01  2.6440e-01 -5.6660e-01\n",
            "  -7.3700e-02  1.1460e-01  3.3460e-01  3.4900e-01 -1.0107e+00  3.1410e-01\n",
            "   4.3610e-01 -1.6500e-01  3.2910e-01  5.3030e-01 -2.3490e-01  3.0100e-02]\n",
            " [ 1.5760e-01  4.3800e-02 -4.5000e-03  6.6600e-02  7.7000e-02  4.9000e-03\n",
            "   8.2000e-03  6.5000e-03  9.3000e-03  3.5400e-02 -2.3100e-02 -4.9200e-02\n",
            "  -8.3300e-02  1.5600e-02  2.5490e-01  3.4500e-02 -1.0700e-02 -7.8000e-02\n",
            "  -7.0800e-02  7.6200e-02 -6.1000e-02  4.4900e-02 -7.3000e-02  1.3100e-02\n",
            "   3.1500e-02 -3.1000e-02  1.6600e-02  1.7400e-02 -7.3600e-02  1.1820e-01\n",
            "  -1.2130e-01 -4.0900e-02  2.9400e-02  4.8400e-02 -1.3400e-02 -1.7500e-02\n",
            "   7.5100e-02  9.9700e-02 -4.0000e-02  4.1000e-03 -7.2200e-02 -4.4300e-02\n",
            "  -1.2000e-03  7.5700e-02  3.9800e-02  3.2300e-02  1.9600e-02  4.6800e-02\n",
            "  -1.4600e-02  1.1300e-01  3.1500e-02 -1.0230e-01  1.5810e-01 -2.7600e-02\n",
            "  -3.4000e-02 -1.7700e-02 -6.0000e-04  1.1080e-01 -1.6500e-02 -3.1000e-03\n",
            "  -4.2300e-02  1.1140e-01 -5.3100e-02  4.9100e-02  9.1000e-02  6.5700e-02\n",
            "  -3.7100e-02  3.8200e-02  7.2500e-02 -5.3200e-02  3.0600e-02 -5.7700e-02\n",
            "  -8.0700e-02 -9.0600e-02 -8.0500e-02 -6.0300e-02 -9.7300e-02  4.8300e-02\n",
            "   6.8000e-02 -2.6000e-03 -8.6000e-03 -5.1000e-03  3.1600e-02  6.6700e-02\n",
            "   3.0000e-04 -8.3500e-02  4.4500e-02  3.6000e-02 -2.0700e-02 -6.2100e-02\n",
            "  -9.0800e-02 -4.8800e-02  1.3280e-01  1.2600e-02  4.6100e-02 -5.5400e-02\n",
            "   2.3000e-03  4.9200e-02  3.3600e-02  6.6400e-02 -8.9300e-02 -5.3700e-02\n",
            "   1.3220e-01 -9.1000e-03  3.3000e-03 -4.3700e-02  7.5200e-02 -4.3700e-02\n",
            "  -3.9300e-02  4.9000e-02  8.0600e-02 -3.9400e-02 -7.6000e-02  7.1700e-02\n",
            "  -1.8900e-02 -4.2100e-02  3.3000e-03 -2.1400e-02 -1.3010e-01  1.3700e-02\n",
            "  -5.1500e-02  3.8700e-02  4.9300e-02 -6.1800e-02 -3.4000e-02  3.5200e-02\n",
            "   2.5900e-02 -1.0280e-01  6.0100e-02 -7.1400e-02 -2.2400e-02 -1.0340e-01\n",
            "  -6.3500e-02  1.2000e-03 -8.4000e-03 -7.1000e-02 -1.3900e-02  9.3000e-02\n",
            "  -7.6200e-02 -1.8000e-01  4.9800e-02  5.6000e-02  4.3700e-02  1.6900e-02\n",
            "  -3.5200e-02  5.5000e-03 -1.5170e-01  8.3000e-03  1.3390e-01  1.1840e-01\n",
            "  -2.5500e-02 -5.9000e-02 -1.1550e-01 -9.1200e-02 -3.2600e-02  9.6000e-03\n",
            "   7.0800e-02 -1.1960e-01 -2.4500e-02  4.6700e-02 -1.0580e-01  8.4000e-03\n",
            "  -3.5900e-02 -7.1200e-02  1.4910e-01 -9.4100e-02  3.8800e-02  4.8000e-02\n",
            "   2.0000e-02  5.7000e-02 -5.0900e-02 -1.5500e-02 -3.2100e-02  6.4000e-02\n",
            "   4.4600e-02 -5.4200e-02  2.3900e-02  3.9900e-02  4.9500e-02 -8.1300e-02\n",
            "   8.6800e-02  2.7900e-02  2.2300e-02  6.8800e-02  5.8000e-02  1.2400e-02\n",
            "   9.1800e-02  1.7000e-02 -2.2100e-02 -5.5500e-02  3.2000e-03 -8.9500e-02\n",
            "  -6.0000e-04 -4.8100e-02 -4.1100e-02 -3.4700e-02 -4.2300e-02  1.0110e-01\n",
            "   4.3500e-02  6.7500e-02 -7.3300e-02  2.3300e-02  3.7700e-02  9.0000e-03\n",
            "  -8.2500e-02 -9.6800e-02  5.9000e-03  2.6200e-02 -2.2300e-02  7.3900e-02\n",
            "  -1.9000e-03 -9.7800e-02 -5.3800e-02 -4.7700e-02 -1.3000e-02  8.0000e-04\n",
            "   2.9000e-02 -3.1000e-03 -9.2900e-02  6.7400e-02 -1.8550e-01  4.0100e-02\n",
            "  -5.6300e-02  6.1900e-02  8.9400e-02 -6.9100e-02 -3.2200e-02 -1.3540e-01\n",
            "  -7.4600e-02  1.0150e-01 -2.7000e-03  6.0700e-02  2.4300e-02 -1.5190e-01\n",
            "  -2.9400e-02 -4.2000e-03  5.1600e-02  1.8600e-01 -2.5600e-02  8.1200e-02\n",
            "   3.2000e-03 -3.3600e-02  3.9000e-02 -7.3800e-02  1.1460e-01 -1.0000e-04\n",
            "  -3.6900e-02  9.3100e-02 -2.9300e-02  5.2100e-02  8.0000e-03 -2.9300e-02\n",
            "   1.3120e-01 -8.3200e-02 -3.4000e-02  1.2130e-01  3.5100e-02  4.2000e-03\n",
            "   5.0300e-02  2.0600e-02  7.9000e-02 -4.9500e-02  2.5400e-02 -2.9600e-02\n",
            "  -2.6500e-02  5.4300e-02 -5.5300e-02  1.0700e-02 -3.0000e-02 -6.0500e-02\n",
            "   8.5400e-02 -6.6600e-02 -6.7800e-02  3.5200e-02  6.2000e-02  4.8100e-02\n",
            "  -3.4500e-02 -2.8700e-02 -5.9100e-02 -5.1000e-03 -9.7400e-02  1.9000e-03\n",
            "  -9.0600e-02  1.4800e-02 -9.7800e-02  3.9600e-02  2.8300e-02 -9.2800e-02\n",
            "  -8.2000e-03 -4.5700e-02  1.1230e-01  8.6000e-02 -1.4750e-01  8.3300e-02\n",
            "   9.9500e-02 -3.6700e-02  6.8500e-02  8.0700e-02 -4.5000e-02 -3.1100e-02]]\n"
          ],
          "name": "stdout"
        }
      ]
    },
    {
      "cell_type": "code",
      "metadata": {
        "colab": {
          "base_uri": "https://localhost:8080/",
          "height": 610
        },
        "id": "4pZ1Ho3a2AOc",
        "outputId": "94ce2003-7caf-42c4-af73-444821985ef5"
      },
      "source": [
        "from scipy.spatial.distance import cdist\n",
        "import numpy as np; np.random.seed(0)\n",
        "import matplotlib.pyplot as plt\n",
        "import seaborn as sns; sns.set_theme()\n",
        "uniform_data = np.random.rand(10, 12)\n",
        "\n",
        "words = ['hi', 'hello', 'bye', 'goodbye', 'morning', 'computer', 'machine', 'laptop', 'device', 'printer']\n",
        "\n",
        "A = model_ft.get_words_embeddings(words)\n",
        "B = model_ft.get_words_embeddings(words)\n",
        "dist = cdist(A,B,\"cosine\")\n",
        "fig = plt.figure(figsize=(18,10))\n",
        "ax = sns.heatmap(dist)\n",
        "ax.set_xticklabels(words)\n",
        "ax.set_yticklabels(words)\n",
        "plt.title(\"FastText\")\n",
        "plt.show()"
      ],
      "execution_count": 3,
      "outputs": [
        {
          "output_type": "display_data",
          "data": {
            "image/png": "[encoded data removed]",
            "text/plain": [
              "<Figure size 1296x720 with 2 Axes>"
            ]
          },
          "metadata": {
            "tags": []
          }
        }
      ]
    },
    {
      "cell_type": "code",
      "metadata": {
        "colab": {
          "base_uri": "https://localhost:8080/"
        },
        "id": "JV654Hm-g1_i",
        "outputId": "bd968dd5-11af-42fe-aa19-0fec2f6dd5a6"
      },
      "source": [
        "model_glove = GloveEmbeddings()\n",
        "print(model_glove.get_words_embeddings(['hi', 'hello']))"
      ],
      "execution_count": 4,
      "outputs": [
        {
          "output_type": "stream",
          "text": [
            "[[ 5.8579e-01  8.0163e-02  1.9010e-01 -4.2974e-01 -6.7700e-01 -7.4183e-01\n",
            "   2.3548e-01  5.6125e-01  3.4123e-02  6.6093e-01 -6.5666e-01 -3.1038e-01\n",
            "  -3.3108e+00 -7.2266e-01 -1.8421e+00  9.9063e-01  2.6346e-02 -3.5894e-01\n",
            "  -3.6259e-01  3.3939e-01  3.6955e-01  1.4748e-01 -4.5263e-01  3.8507e-01\n",
            "  -5.6107e-01 -4.6079e-01  4.5029e-01 -4.5864e-02  8.2711e-01 -1.8816e-03\n",
            "   4.5242e-01  6.7928e-01  7.2897e-01  6.7967e-02  3.0747e-01 -3.0777e-02\n",
            "   1.4615e-01  9.8352e-01  3.0713e-01 -4.0797e-01 -1.6674e+00 -4.8884e-01\n",
            "  -3.7614e-01  1.1126e+00 -8.0011e-01  2.9470e-01  2.1728e-01 -6.8735e-01\n",
            "  -2.8111e-01  1.3931e-01]\n",
            " [ 2.8751e-01  3.1323e-01 -2.9318e-01  1.7199e-01 -6.9232e-01 -4.5930e-01\n",
            "   1.3364e+00  7.0900e-01  1.2118e-01  1.1476e-01 -4.8505e-01 -8.8608e-02\n",
            "  -3.0154e+00 -5.4024e-01 -1.3260e+00  3.9477e-01  1.1755e-01 -1.7816e-01\n",
            "  -3.2272e-01  2.1715e-01  4.3144e-02 -4.3666e-01 -5.5857e-01 -4.7601e-01\n",
            "  -9.5172e-02  3.1934e-03  1.1920e-01 -2.3643e-01  1.3234e+00 -4.5093e-01\n",
            "  -6.5837e-01 -1.3865e-01  2.2145e-01 -3.5806e-01  2.0988e-01  5.4894e-02\n",
            "  -8.0322e-02  4.8942e-01  1.9206e-01  4.5560e-01 -1.6420e+00 -8.3323e-01\n",
            "  -1.2974e-01  9.6514e-01 -1.8214e-01  3.7733e-01 -1.9622e-01 -1.2231e-01\n",
            "  -1.0496e-01  4.5388e-01]]\n"
          ],
          "name": "stdout"
        }
      ]
    },
    {
      "cell_type": "code",
      "metadata": {
        "colab": {
          "base_uri": "https://localhost:8080/",
          "height": 610
        },
        "id": "_bCyXFmg_ZJc",
        "outputId": "f508a3c5-1370-493c-c66f-9b05a338f27e"
      },
      "source": [
        "A = model_glove.get_words_embeddings(words)\n",
        "B = model_glove.get_words_embeddings(words)\n",
        "dist = cdist(A,B,\"cosine\")\n",
        "fig = plt.figure(figsize=(18,10))\n",
        "ax = sns.heatmap(dist)\n",
        "ax.set_xticklabels(words)\n",
        "ax.set_yticklabels(words)\n",
        "plt.title(\"GloVE\")\n",
        "plt.show()"
      ],
      "execution_count": 5,
      "outputs": [
        {
          "output_type": "display_data",
          "data": {
            "image/png": "[encoded data removed]",
            "text/plain": [
              "<Figure size 1296x720 with 2 Axes>"
            ]
          },
          "metadata": {
            "tags": []
          }
        }
      ]
    }
  ]
}