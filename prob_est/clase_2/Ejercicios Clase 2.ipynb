{
 "cells": [
  {
   "cell_type": "markdown",
   "metadata": {},
   "source": [
    "# Probabilidad y Estadística para IA. Ejercicios clase 2\n",
    "\n",
    "Nota: en Anaconda, usar octave-cli en lugar de octave:\n",
    "\n",
    "~~~bash\n",
    "export OCTAVE_EXECUTABLE=octave-cli\n",
    "~~~"
   ]
  },
  {
   "cell_type": "code",
   "execution_count": 1,
   "metadata": {},
   "outputs": [],
   "source": [
    "#pkg load statistics"
   ]
  },
  {
   "cell_type": "markdown",
   "metadata": {},
   "source": [
    "### Ejercicio 1\n",
    "\n",
    "Sean $X$, $Y$ dos v.a. distribuidas normalmente, con distribucion conjunta normal bivariable $f_{XY}$. Demostrar que $X$, $Y$ son independientes si y sólo si son v.a. descorrelacionadas (pista: usar $\\rho = 0$ en $f_{XY}$ )"
   ]
  },
  {
   "cell_type": "markdown",
   "metadata": {},
   "source": [
    "R:\n",
    "\n",
    "Por definición, la distribución conjunta de dos variables independientes cumple la condición:\n",
    "\n",
    "$$\n",
    "f_{XY} = f_{X}f_{Y}\n",
    "$$\n",
    "\n",
    "Sean:\n",
    "\n",
    "$$\n",
    "z_X = \\frac{x-\\mu_X}{\\sigma_X} \\\\\n",
    "z_Y = \\frac{y-\\mu_Y}{\\sigma_Y} \\\\\n",
    "$$\n",
    "\n",
    "variables normalizadas, se puede escribir la pdf conjunta de distribución normal variable:\n",
    "\n",
    "$$\n",
    "f_{XY}(x,y) = \\frac{1}{2 \\pi \\sigma_X \\sigma_Y \\sqrt{1-\\rho_{XY}^2} } e^{-\\frac{1}{2(1-\\rho_{XY}^2)}(z_{X}^2-2 \\rho_{XY} z_X z_Y + z_{Y}^2)}\n",
    "$$\n",
    "\n",
    "Si el coeficiente de correlación $\\rho = 0$ entonces queda:\n",
    "\n",
    "$$\n",
    "f_{XY}(x,y) = \\frac{1}{2 \\pi \\sigma_X \\sigma_Y 1 } e^{-\\frac{1}{2}(z_{X}^2+ z_{Y}^2)}\n",
    "$$\n",
    "\n",
    "que puede reescribirse como:\n",
    "\n",
    "$$\n",
    "f_{XY}(x,y) = \\frac{1}{\\sqrt{2\\pi}\\sigma_X}e^{-\\frac{1}{2z_X^2}} \\frac{1}{\\sqrt{2\\pi}\\sigma_Y}e^{-\\frac{1}{2z_Y^2}}\n",
    "$$\n",
    "\n",
    "y finalmente:\n",
    "\n",
    "$$\n",
    "f_{XY}(x,y) = f_{X}f_{Y}\n",
    "$$"
   ]
  },
  {
   "cell_type": "markdown",
   "metadata": {},
   "source": [
    "### Ejercicio 2\n",
    "Sean $X$,$Y$ dos v.a. normales de media cero correlacionadas con $\\rho_{XY} = 0.5$. Se tiene que $var[X] = 2var[Y]=1$.\n",
    "1. Encontrar la expresión de la pdf conjunta de $X$,$Y$.\n",
    "2. Proyectar $x = [X Y]^T$ sobre $ w=[1  1]^T$ y encontrar la pdf de la proyección."
   ]
  },
  {
   "cell_type": "markdown",
   "metadata": {},
   "source": [
    "Respuesta"
   ]
  },
  {
   "cell_type": "markdown",
   "metadata": {},
   "source": [
    "### Ejercicio 3\n",
    "1. Usando el método de la transformada inversa, calcular la pdf de la distribución exponencial para:\n",
    "\n",
    "$$\n",
    "\\begin{equation}\n",
    "    f_Y(y) =\n",
    "    \\begin{cases}\n",
    "       \\lambda e^{- \\lambda y}, & \\text{ si } 0 \\le y \\le 1\\\\\n",
    "      0, & \\text{ si } y = 0 \\\\\n",
    "    \\end{cases}\n",
    "  \\end{equation}\n",
    "$$\n",
    "\n",
    "Usar un valor arbitrario de λ > 0.\n",
    "\n",
    "Respuesta:\n",
    "\n",
    "$$\n",
    "F_Y(y) = P(Y\\le y) = \\int_{-\\infty}^{y} f_Y(t) dt = 1 - e^{- \\lambda y} \n",
    "$$\n",
    "\n",
    "$$\n",
    "X = F_y^{-1}(U) \\therefore U = F_Y(Y) \\therefore U = 1-e^{- \\lambda y} \n",
    "$$\n",
    "\n",
    "$$\n",
    "e^{- \\lambda y} = 1 - U\n",
    "$$\n",
    "\n",
    "$$\n",
    "{- \\lambda y} = ln(1 - U)\n",
    "$$\n",
    "\n",
    "$$\n",
    "Y = \\frac{-ln(1-U)}{\\lambda}\n",
    "$$"
   ]
  },
  {
   "cell_type": "markdown",
   "metadata": {},
   "source": [
    "2. Simular en Octave."
   ]
  },
  {
   "cell_type": "code",
   "execution_count": 40,
   "metadata": {},
   "outputs": [],
   "source": [
    "function samples = exp_rv(l, n_samples)\n",
    "    u = unifrnd(0,1,n_samples,1);\n",
    "    samples = -log(1-u)/l;\n",
    "endfunction"
   ]
  },
  {
   "cell_type": "code",
   "execution_count": 41,
   "metadata": {},
   "outputs": [
    {
     "data": {
      "image/png": "[encoded data removed]",
      "text/plain": [
       "<IPython.core.display.Image object>"
      ]
     },
     "metadata": {},
     "output_type": "display_data"
    }
   ],
   "source": [
    "N_SAMPLES = 1000;\n",
    "series = exp_rv(1,N_SAMPLES);\n",
    "hist(series);"
   ]
  },
  {
   "cell_type": "markdown",
   "metadata": {},
   "source": [
    "### Ejercicio 4\n",
    "\n",
    "Sea $x = (X_1, X_2) \\in \\mathbb{R}$ un vector de v.a.\n",
    "Definamos $y=T(x)$, con $T=(g_1(x_1, x_2), g_2 (x_1, x_ 2)) \\in \\mathbb{R}^2$, con $g_1$ , $g_2$ diferenciables.\n",
    "1. Encontrar la expresión de la pdf del vector transformado y en función de $f_{X_1X_2}$\n",
    "2. Resolver la pdf de y para el caso del vector $x$ del Ejercicio 2 con:\n",
    "$$\n",
    "T = \n",
    "\\begin{bmatrix}\n",
    "1 & 1 \\\\\n",
    "1 & 1 \\\\\n",
    "\\end{bmatrix}\\\\\n",
    "$$\n",
    "y simular en Octave."
   ]
  },
  {
   "cell_type": "code",
   "execution_count": null,
   "metadata": {},
   "outputs": [],
   "source": []
  },
  {
   "cell_type": "markdown",
   "metadata": {},
   "source": [
    "# Borrador\n",
    "<hr/>"
   ]
  },
  {
   "cell_type": "code",
   "execution_count": 3,
   "metadata": {},
   "outputs": [],
   "source": [
    "X = randn(1000,1);\n",
    "Y = X+randn(1000,1);"
   ]
  },
  {
   "cell_type": "code",
   "execution_count": 7,
   "metadata": {
    "scrolled": true
   },
   "outputs": [
    {
     "data": {
      "image/png": "[encoded data removed]",
      "text/plain": [
       "<IPython.core.display.Image object>"
      ]
     },
     "metadata": {},
     "output_type": "display_data"
    }
   ],
   "source": []
  },
  {
   "cell_type": "code",
   "execution_count": 20,
   "metadata": {},
   "outputs": [],
   "source": [
    "w = [ 1; 2; 3 ];\n",
    "x = [ 4; 5; 6 ];"
   ]
  },
  {
   "cell_type": "code",
   "execution_count": 22,
   "metadata": {},
   "outputs": [
    {
     "name": "stdout",
     "output_type": "stream",
     "text": [
      "ans =\r\n",
      "\r\n",
      "   1   2   3\r\n",
      "\r\n"
     ]
    }
   ],
   "source": [
    "w'"
   ]
  },
  {
   "cell_type": "code",
   "execution_count": 29,
   "metadata": {},
   "outputs": [
    {
     "name": "stdout",
     "output_type": "stream",
     "text": [
      "x =\r\n",
      "\r\n",
      "   4\r\n",
      "   5\r\n",
      "   6\r\n",
      "\r\n"
     ]
    }
   ],
   "source": [
    "x"
   ]
  },
  {
   "cell_type": "code",
   "execution_count": 35,
   "metadata": {},
   "outputs": [
    {
     "name": "stdout",
     "output_type": "stream",
     "text": [
      "z =\r\n",
      "\r\n",
      "    4    8   12\r\n",
      "    5   10   15\r\n",
      "    6   12   18\r\n",
      "\r\n"
     ]
    }
   ],
   "source": [
    "z= w'.*x"
   ]
  }
 ],
 "metadata": {
  "kernelspec": {
   "display_name": "Octave",
   "language": "octave",
   "name": "octave"
  },
  "language_info": {
   "file_extension": ".m",
   "help_links": [
    {
     "text": "GNU Octave",
     "url": "https://www.gnu.org/software/octave/support.html"
    },
    {
     "text": "Octave Kernel",
     "url": "https://github.com/Calysto/octave_kernel"
    },
    {
     "text": "MetaKernel Magics",
     "url": "https://metakernel.readthedocs.io/en/latest/source/README.html"
    }
   ],
   "mimetype": "text/x-octave",
   "name": "octave",
   "version": "4.2.2"
  }
 },
 "nbformat": 4,
 "nbformat_minor": 4
}
