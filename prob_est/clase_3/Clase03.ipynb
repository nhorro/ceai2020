{
 "cells": [
  {
   "cell_type": "markdown",
   "metadata": {},
   "source": [
    "# Práctico clase 3"
   ]
  },
  {
   "cell_type": "markdown",
   "metadata": {},
   "source": [
    "#### Ejercicio 1\n",
    "\n",
    "Juan y Pedro juegan un juego de dados en el cual el que tira el dado más alto gana. Si ambos tiran el mismo número, tiran de nuevo hasta\n",
    "que uno gane. Juan ganó. \n",
    "\n",
    "(a) Encontrar la probabilidad de que haya ganado con un 5. (Pista: listar todos los pares de tiradas de Juan y\n",
    "Pedro en las que Juan gana, y encontrar en cuáles gana con un 5)\n",
    "\n",
    "(b) Simular un dado y encontrar una estimación de la probabilidad anterior."
   ]
  },
  {
   "cell_type": "markdown",
   "metadata": {},
   "source": [
    "La cantidad de resultados posibles de arrojar dos dados de 6 es 36, pero de esos resultados sólo interesan aquellos en los que gana Juan. Si se restan los 6 de empate es simétrica la cantidad de resultados en los que Juan gana o pierde: $ \\frac{36-6}{2} = 15 $.\n",
    "De esos 15 sóló existen cuatro casos posibles en los que gana.\n",
    "\n",
    "$$\n",
    "P(X=5|X>Y) = \\frac{P(X=5 \\cap X>5)}{P(X>Y)} = \\frac{4}{15}\n",
    "$$\n"
   ]
  },
  {
   "cell_type": "markdown",
   "metadata": {},
   "source": [
    "b) Simulación:"
   ]
  },
  {
   "cell_type": "code",
   "execution_count": 255,
   "metadata": {},
   "outputs": [
    {
     "name": "stdout",
     "output_type": "stream",
     "text": [
      "prob =  0.26716\r\n"
     ]
    }
   ],
   "source": [
    "n_samples = 1000000;\n",
    "p = unidrnd(6,[1,n_samples]); % Resultado de tirada de Pedro\n",
    "j = unidrnd(6,[1,n_samples]); % Resultado de tirada de Juan\n",
    "jg = sum(j>p); % Número de veces que Juan ganó\n",
    "prob = sum((j==5) & (p<=4))/jg # % Número de veces que Juan ganó con 5 sobre total de veces que ganó"
   ]
  },
  {
   "cell_type": "markdown",
   "metadata": {},
   "source": [
    "#### Ejercicio 2\n",
    "\n",
    "Sea la longitud de una vara L. Supongamos que optamos por cortar la vara en un lugar elegido uniformemente al azar Y . Nos quedamos con la parte de vara de longitud entre [0, Y ]. Luego nuevamente decidimos partir la porción restante en un lugar aleatoriamente elegido uniformemente, y llamamos a la longitud resultante X (Pista: usar la ley de esperanzas iteradas).\n",
    "\n",
    "(a) Encontrar la expresión de E [X ] en función de L.\n",
    "\n",
    "(b) Encontrar la expresión de var[X ] en función de L.\n",
    "\n",
    "(c) Simular el proceso con N = 1000 ensayos y encontrar la media y\n",
    "varianza muestral de X ."
   ]
  },
  {
   "cell_type": "markdown",
   "metadata": {},
   "source": [
    "$$\n",
    "E[Y|X] = 0.25L\n",
    "$$"
   ]
  },
  {
   "cell_type": "code",
   "execution_count": 339,
   "metadata": {},
   "outputs": [
    {
     "name": "stdout",
     "output_type": "stream",
     "text": [
      "EX =  50\n",
      "EYX =  25\n",
      "VARYX =    1.5613e+04\n"
     ]
    }
   ],
   "source": [
    "%VER\n",
    "EX = 0.5*L\n",
    "EYX = 0.5*0.5*L\n",
    "VARYX = 0.5*( (((1/L) - EYX)**2)/(1/(L/2)) )"
   ]
  },
  {
   "cell_type": "code",
   "execution_count": 325,
   "metadata": {},
   "outputs": [
    {
     "name": "stdout",
     "output_type": "stream",
     "text": [
      "ans =  0.25684\r\n",
      "ans =  0.048386\r\n"
     ]
    }
   ],
   "source": [
    "n_samples = 10000;\n",
    "cuts=zeros(n_samples,1);\n",
    "L = 100;\n",
    "for i = 1:n_samples\n",
    "  cut_y = unidrnd(L);\n",
    "  cuts(i) = unidrnd(cut_y);\n",
    "endfor\n",
    "mean(cuts/L),var(cuts/L)"
   ]
  },
  {
   "cell_type": "code",
   "execution_count": null,
   "metadata": {},
   "outputs": [],
   "source": [
    "% Ejercicio 3\n",
    "\n",
    "% X,Y ~ U[0,1] independientes.\n",
    "\n",
    "% Z = X + Y\n",
    "% Queremos calcular la esperanza de E[Z|X]\n",
    "% Esto es lo mismo que escribir E[X+Y|X]\n",
    "% Como la esperanza es distributiva podemos escribir E[X|X] + E[Y|X]\n",
    "% E[Y|X] = 1/2 -> porqué? porque son independientes y es e\n",
    "% E[X|X] = X"
   ]
  },
  {
   "cell_type": "code",
   "execution_count": null,
   "metadata": {},
   "outputs": [],
   "source": [
    "% Ejercicio 4\n",
    "\n",
    "% Nota se puede postergar paso f"
   ]
  }
 ],
 "metadata": {
  "kernelspec": {
   "display_name": "Octave",
   "language": "octave",
   "name": "octave"
  },
  "language_info": {
   "file_extension": ".m",
   "help_links": [
    {
     "text": "GNU Octave",
     "url": "https://www.gnu.org/software/octave/support.html"
    },
    {
     "text": "Octave Kernel",
     "url": "https://github.com/Calysto/octave_kernel"
    },
    {
     "text": "MetaKernel Magics",
     "url": "https://metakernel.readthedocs.io/en/latest/source/README.html"
    }
   ],
   "mimetype": "text/x-octave",
   "name": "octave",
   "version": "4.2.2"
  }
 },
 "nbformat": 4,
 "nbformat_minor": 4
}
