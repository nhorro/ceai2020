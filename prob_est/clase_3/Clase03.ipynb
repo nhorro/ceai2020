{
 "cells": [
  {
   "cell_type": "markdown",
   "metadata": {},
   "source": [
    "# Probabilidad y Estadística para IA. Práctico Clase 3 (WIP)"
   ]
  },
  {
   "cell_type": "markdown",
   "metadata": {},
   "source": [
    "#### Ejercicio 1\n",
    "\n",
    "Juan y Pedro juegan un juego de dados en el cual el que tira el dado más alto gana. Si ambos tiran el mismo número, tiran de nuevo hasta\n",
    "que uno gane. Juan ganó. \n",
    "\n",
    "(a) Encontrar la probabilidad de que haya ganado con un 5. (Pista: listar todos los pares de tiradas de Juan y\n",
    "Pedro en las que Juan gana, y encontrar en cuáles gana con un 5)\n",
    "\n"
   ]
  },
  {
   "cell_type": "markdown",
   "metadata": {},
   "source": [
    "R:\n",
    "\n",
    "La cantidad de resultados posibles de arrojar dos dados de 6 es 36, pero de esos resultados sólo interesan aquellos en los que gana Juan. Si se restan los 6 de empate es simétrica la cantidad de resultados en los que Juan gana o pierde: $ \\frac{36-6}{2} = 15 $.\n",
    "De esos 15 sóló existen cuatro casos posibles en los que gana.\n",
    "\n",
    "$$\n",
    "P(X=5|X>Y) = \\frac{P(X=5 \\cap X>5)}{P(X>Y)} = \\frac{4}{15}\n",
    "$$\n"
   ]
  },
  {
   "cell_type": "markdown",
   "metadata": {},
   "source": [
    "(b) Simular un dado y encontrar una estimación de la probabilidad anterior."
   ]
  },
  {
   "cell_type": "code",
   "execution_count": 1,
   "metadata": {},
   "outputs": [
    {
     "name": "stdout",
     "output_type": "stream",
     "text": [
      "prob =  0.26636\r\n"
     ]
    }
   ],
   "source": [
    "n_samples = 1000000;\n",
    "p = unidrnd(6,[1,n_samples]); % Resultado de tirada de Pedro\n",
    "j = unidrnd(6,[1,n_samples]); % Resultado de tirada de Juan\n",
    "jg = sum(j>p); % Número de veces que Juan ganó\n",
    "prob = sum((j==5) & (p<=4))/jg # % Número de veces que Juan ganó con 5 sobre total de veces que ganó"
   ]
  },
  {
   "cell_type": "markdown",
   "metadata": {},
   "source": [
    "#### Ejercicio 2\n",
    "\n",
    "Sea la longitud de una vara L. Supongamos que optamos por cortar la vara en un lugar elegido uniformemente al azar Y . Nos quedamos con la parte de vara de longitud entre [0, Y ]. Luego nuevamente decidimos partir la porción restante en un lugar aleatoriamente elegido uniformemente, y llamamos a la longitud resultante X (Pista: usar la ley de esperanzas iteradas).\n",
    "\n",
    "(a) Encontrar la expresión de E [X] en función de L."
   ]
  },
  {
   "cell_type": "markdown",
   "metadata": {},
   "source": [
    "$$\n",
    "E[Y] = \\frac{L}{2}\n",
    "$$\n",
    "\n",
    "$$\n",
    "E[X]=E[X|Y]=E[E[Y]]=\\frac{L}{4}\n",
    "$$\n"
   ]
  },
  {
   "cell_type": "markdown",
   "metadata": {},
   "source": [
    "(b) Encontrar la expresión de var[X ] en función de L."
   ]
  },
  {
   "cell_type": "markdown",
   "metadata": {},
   "source": [
    "(c) Simular el proceso con N = 1000 ensayos y encontrar la media y\n",
    "varianza muestral de X ."
   ]
  },
  {
   "cell_type": "code",
   "execution_count": 2,
   "metadata": {},
   "outputs": [
    {
     "name": "stdout",
     "output_type": "stream",
     "text": [
      "ans =  0.24055\r\n",
      "ans =  0.044488\r\n"
     ]
    }
   ],
   "source": [
    "n_samples = 1000;\n",
    "cuts=zeros(n_samples,1);\n",
    "L = 1000;\n",
    "for i = 1:n_samples\n",
    "  cut_y = unidrnd(L);\n",
    "  cuts(i) = unidrnd(cut_y);\n",
    "endfor\n",
    "mean(cuts/L),var(cuts/L)"
   ]
  },
  {
   "cell_type": "code",
   "execution_count": 3,
   "metadata": {},
   "outputs": [],
   "source": [
    "% Ejercicio 3\n",
    "\n",
    "% X,Y ~ U[0,1] independientes.\n",
    "\n",
    "% Z = X + Y\n",
    "% Queremos calcular la esperanza de E[Z|X]\n",
    "% Esto es lo mismo que escribir E[X+Y|X]\n",
    "% Como la esperanza es distributiva podemos escribir E[X|X] + E[Y|X]\n",
    "% E[Y|X] = 1/2 -> porqué? porque son independientes y es e\n",
    "% E[X|X] = X\n",
    "\n",
    "% TODO: ver"
   ]
  },
  {
   "cell_type": "markdown",
   "metadata": {},
   "source": [
    "Sea un proceso AWGN:\n",
    "\n",
    "$$\n",
    "y(n) = 2 + w(n), \\text{ donde } w(n) ∼ N(0,1)\n",
    "$$"
   ]
  },
  {
   "cell_type": "markdown",
   "metadata": {},
   "source": [
    "Estimar la media y varianza de y (n) usando los siguientes estimadores:\n",
    "\n",
    "(c)\n",
    "$$\n",
    "\\bar{y} = \\frac{1}{N}\\Sigma_{i=0}^{N-1}y(i)\n",
    "$$"
   ]
  },
  {
   "cell_type": "markdown",
   "metadata": {},
   "source": [
    "(d)\n",
    "\n",
    "$$\n",
    "s_n = \\frac{1}{N}\\Sigma_{i=0}^{N-1}(y(i)-\\bar{y})^2\n",
    "$$"
   ]
  },
  {
   "cell_type": "markdown",
   "metadata": {},
   "source": [
    "(e)\n",
    "\n",
    "$$\n",
    "s_{n-1} = \\frac{1}{N-1}\\Sigma_{i=0}^{N-1}(y(i)-\\bar{y})^2\n",
    "$$"
   ]
  },
  {
   "cell_type": "markdown",
   "metadata": {},
   "source": [
    "(f) Calcular la esperanza de cada estimador"
   ]
  },
  {
   "cell_type": "code",
   "execution_count": 4,
   "metadata": {},
   "outputs": [
    {
     "name": "stdout",
     "output_type": "stream",
     "text": [
      "error: 'TODO' undefined near line 1 column 1\r\n"
     ]
    }
   ],
   "source": [
    "TODO"
   ]
  },
  {
   "cell_type": "markdown",
   "metadata": {},
   "source": [
    "(g) Simular con N = 10 y N = 10000"
   ]
  },
  {
   "cell_type": "code",
   "execution_count": 5,
   "metadata": {},
   "outputs": [],
   "source": [
    "function samples = awgn(n)\n",
    "    samples = randn(1,n) + 2;\n",
    "end"
   ]
  },
  {
   "cell_type": "code",
   "execution_count": 6,
   "metadata": {},
   "outputs": [],
   "source": [
    "function result = ymean(s)\n",
    "    n = size(s)(2);\n",
    "    result = (1/n)*sum(s);\n",
    "end\n",
    "\n",
    "function result = sn(s)\n",
    "    n = size(s)(2);\n",
    "    mu = ymean(s);\n",
    "    result = (1/n)*sum((s-mu).^2);\n",
    "end\n",
    "\n",
    "function result = sn1(s)\n",
    "    n = size(s)(2);\n",
    "    mu = ymean(s);\n",
    "    result = (1/(n-1))*sum((s-mu).^2);\n",
    "end\n",
    "\n"
   ]
  },
  {
   "cell_type": "code",
   "execution_count": 7,
   "metadata": {},
   "outputs": [],
   "source": [
    "function run_sim(n_samples)\n",
    "    signal = awgn(n_samples);\n",
    "    plot(signal);\n",
    "    ymean(signal),sn(signal),sn1(signal)\n",
    "end"
   ]
  },
  {
   "cell_type": "code",
   "execution_count": 8,
   "metadata": {
    "scrolled": true
   },
   "outputs": [
    {
     "name": "stdout",
     "output_type": "stream",
     "text": [
      "ans =  1.9488\r\n",
      "ans =  1.0589\r\n",
      "ans =  1.1766\r\n"
     ]
    },
    {
     "data": {
      "image/png": "[encoded data removed]",
      "text/plain": [
       "<IPython.core.display.Image object>"
      ]
     },
     "metadata": {},
     "output_type": "display_data"
    }
   ],
   "source": [
    "run_sim(10)"
   ]
  },
  {
   "cell_type": "code",
   "execution_count": 9,
   "metadata": {},
   "outputs": [
    {
     "name": "stdout",
     "output_type": "stream",
     "text": [
      "ans =  1.9723\r\n",
      "ans =  1.0319\r\n",
      "ans =  1.0330\r\n"
     ]
    },
    {
     "data": {
      "image/png": "[encoded data removed]",
      "text/plain": [
       "<IPython.core.display.Image object>"
      ]
     },
     "metadata": {},
     "output_type": "display_data"
    }
   ],
   "source": [
    "run_sim(1000)"
   ]
  },
  {
   "cell_type": "markdown",
   "metadata": {},
   "source": [
    "(h) Interpretar los valores de $s_n$ , $s_{n−1}$ en cada caso. ¿Cuál es mejor de los dos?"
   ]
  },
  {
   "cell_type": "markdown",
   "metadata": {},
   "source": [
    "R: Para números bajos de muestras $S_{n-1}$ es mejor estimador. A medida que aumenta el número de muestras aumenta el impacto de la corrección disminuye y tienden a ser equivalentes."
   ]
  }
 ],
 "metadata": {
  "kernelspec": {
   "display_name": "Octave",
   "language": "octave",
   "name": "octave"
  },
  "language_info": {
   "file_extension": ".m",
   "help_links": [
    {
     "text": "GNU Octave",
     "url": "https://www.gnu.org/software/octave/support.html"
    },
    {
     "text": "Octave Kernel",
     "url": "https://github.com/Calysto/octave_kernel"
    },
    {
     "text": "MetaKernel Magics",
     "url": "https://metakernel.readthedocs.io/en/latest/source/README.html"
    }
   ],
   "mimetype": "text/x-octave",
   "name": "octave",
   "version": "4.2.2"
  }
 },
 "nbformat": 4,
 "nbformat_minor": 4
}
