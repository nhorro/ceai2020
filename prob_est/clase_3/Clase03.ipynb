{
 "cells": [
  {
   "cell_type": "markdown",
   "metadata": {},
   "source": [
    "# Práctico clase 3"
   ]
  },
  {
   "cell_type": "markdown",
   "metadata": {},
   "source": [
    "Juan y Pedro juegan un juego de dados en el cual el que tira el dado más alto gana. Si ambos tiran el mismo número, tiran de nuevo hasta\n",
    "que uno gane. Juan ganó. \n",
    "(a) Encontrar la probabilidad de que haya ganado con un 5. (Pista: listar todos los pares de tiradas de Juan y\n",
    "Pedro en las que Juan gana, y encontrar en cuáles gana con un 5)\n",
    "(b) Simular un dado y encontrar una estimación de la probabilidad anterior."
   ]
  },
  {
   "cell_type": "code",
   "execution_count": 250,
   "metadata": {},
   "outputs": [],
   "source": [
    "% Ejercicio 1\n",
    "\n",
    "% J | P\n",
    "% ---------------\n",
    "% 1 | 1         | P(Juan gane con 1) = 0\n",
    "% 2 | 1         | P(Juan gane con 2) = P(1/6)*P(Pedro saque 1)=1/6\n",
    "% 3 | 1,2       | P(Juan gane con 3) = P(1/6)*P(Pedro saque 1 o 2)=2/6\n",
    "% 4 | 1,2,3     | P(Juan gane con 4) = P(1/6)*P(Pedro saque 1,2 o 3)=3/6\n",
    "% 5 | 1,2,3,4   | P(Juan gane con 5) = P(1/6)*P(Pedro saque hasta 4)=4/6\n",
    "% 6 | 1,2,3,4,5 | P(Juan gane con 6) = P(1/6)*P(Pedro saque hasta 5)=5/6\n",
    "\n",
    "% debería dar ~4/15"
   ]
  },
  {
   "cell_type": "code",
   "execution_count": 284,
   "metadata": {},
   "outputs": [],
   "source": [
    "% Prob de que Juan saque 5 = 1/6\n",
    "% Prob de que Juan gane = 0 +\n",
    "%                         P(1/6)*(1*P(1/6)) +\n",
    "%                         P(1/6)*(2*P(1/6)) +\n",
    "%                         P(1/6)*(3*P(1/6)) +\n",
    "%                         P(1/6)*(4*P(1/6)) +\n",
    "%                         P(1/6)*(5*P(1/6)) \n",
    "% P(A) = Juan ganó = 5/12\n",
    "% P(B) = Juan sacó 5 = (1/36)"
   ]
  },
  {
   "cell_type": "markdown",
   "metadata": {},
   "source": [
    "b) Simulación:"
   ]
  },
  {
   "cell_type": "code",
   "execution_count": 255,
   "metadata": {},
   "outputs": [
    {
     "name": "stdout",
     "output_type": "stream",
     "text": [
      "prob =  0.26716\r\n"
     ]
    }
   ],
   "source": [
    "n_samples = 1000000;\n",
    "p = unidrnd(6,[1,n_samples]); % Resultado de tirada de Pedro\n",
    "j = unidrnd(6,[1,n_samples]); % Resultado de tirada de Juan\n",
    "jg = sum(j>p); % Número de veces que Juan ganó\n",
    "prob = sum((j==5) & (p<=4))/jg # % Número de veces que Juan ganó con 5 sobre total de veces que ganó"
   ]
  },
  {
   "cell_type": "code",
   "execution_count": null,
   "metadata": {},
   "outputs": [],
   "source": [
    "% Ejercicio 2"
   ]
  },
  {
   "cell_type": "code",
   "execution_count": null,
   "metadata": {},
   "outputs": [],
   "source": [
    "% Ejercicio 3\n",
    "\n",
    "% X,Y ~ U[0,1] independientes.\n",
    "\n",
    "% Z = X + Y\n",
    "% Queremos calcular la esperanza de E[Z|X]\n",
    "% Esto es lo mismo que escribir E[X+Y|X]\n",
    "% Como la esperanza es distributiva podemos escribir E[X|X] + E[Y|X]\n",
    "% E[Y|X] = 1/2 -> porqué? porque son independientes y es e\n",
    "% E[X|X] = X"
   ]
  },
  {
   "cell_type": "code",
   "execution_count": null,
   "metadata": {},
   "outputs": [],
   "source": [
    "% Ejercicio 4\n",
    "\n",
    "% Nota se puede postergar paso f"
   ]
  }
 ],
 "metadata": {
  "kernelspec": {
   "display_name": "Octave",
   "language": "octave",
   "name": "octave"
  },
  "language_info": {
   "file_extension": ".m",
   "help_links": [
    {
     "text": "GNU Octave",
     "url": "https://www.gnu.org/software/octave/support.html"
    },
    {
     "text": "Octave Kernel",
     "url": "https://github.com/Calysto/octave_kernel"
    },
    {
     "text": "MetaKernel Magics",
     "url": "https://metakernel.readthedocs.io/en/latest/source/README.html"
    }
   ],
   "mimetype": "text/x-octave",
   "name": "octave",
   "version": "4.2.2"
  }
 },
 "nbformat": 4,
 "nbformat_minor": 4
}
