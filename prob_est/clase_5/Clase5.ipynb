{
 "cells": [
  {
   "cell_type": "markdown",
   "metadata": {},
   "source": [
    "# Ejercicios Clase 5"
   ]
  },
  {
   "cell_type": "code",
   "execution_count": 4,
   "metadata": {},
   "outputs": [],
   "source": [
    "pkg load statistics;"
   ]
  },
  {
   "cell_type": "markdown",
   "metadata": {},
   "source": [
    "### Ejercicio 1\n",
    "\n",
    "Se toma una muestra aleatoria de la altura de 100 personas y se obtiene que la altura promedio es 1.8m. La varianza de la población\n",
    "es $\\sigma^2 = 49cm^2$."
   ]
  },
  {
   "cell_type": "markdown",
   "metadata": {},
   "source": [
    "(a) Encontrar un intervalo de confianza de 95% para la altura media de la población, μ."
   ]
  },
  {
   "cell_type": "code",
   "execution_count": 3,
   "metadata": {},
   "outputs": [
    {
     "name": "stdout",
     "output_type": "stream",
     "text": [
      "N =  100\n",
      "mu_hat =  180\n",
      "var =  49\n",
      "std_dev =  7\n"
     ]
    }
   ],
   "source": [
    "N = 100\n",
    "mu_hat = 180 % media_muestral en cm\n",
    "\n",
    "var = 49 \n",
    "std_dev = sqrt(var)"
   ]
  },
  {
   "cell_type": "markdown",
   "metadata": {},
   "source": [
    "$\\alpha$ es el error"
   ]
  },
  {
   "cell_type": "code",
   "execution_count": 5,
   "metadata": {},
   "outputs": [
    {
     "name": "stdout",
     "output_type": "stream",
     "text": [
      "alpha =  0.050000\r\n"
     ]
    }
   ],
   "source": [
    "alpha = (1- 0.95)"
   ]
  },
  {
   "cell_type": "markdown",
   "metadata": {},
   "source": [
    "como es bilateral debo tomar las áreas fuera del intervalo de ambos lados."
   ]
  },
  {
   "cell_type": "code",
   "execution_count": 6,
   "metadata": {},
   "outputs": [
    {
     "name": "stdout",
     "output_type": "stream",
     "text": [
      "ans =  1.9600\r\n"
     ]
    }
   ],
   "source": [
    "norminv(1-alpha/2)"
   ]
  },
  {
   "cell_type": "code",
   "execution_count": 7,
   "metadata": {},
   "outputs": [
    {
     "name": "stdout",
     "output_type": "stream",
     "text": [
      "mu_min_teorico =  178.63\n",
      "mu_max_teorico =  181.37\n"
     ]
    }
   ],
   "source": [
    "mu_min_teorico = mu_hat-(1.96*std_dev/sqrt(N)),\n",
    "mu_max_teorico = mu_hat+(1.96*std_dev/sqrt(N))"
   ]
  },
  {
   "cell_type": "markdown",
   "metadata": {},
   "source": [
    "R: Si tomo muestras aleatorias de una distribución con una probabilidad del 95% va a caer en el intervalo (178.63,181.37)"
   ]
  },
  {
   "cell_type": "markdown",
   "metadata": {},
   "source": [
    "(b) ¿Cómo cambiarı́a el desarrollo si se usara la varianza muestral?"
   ]
  },
  {
   "cell_type": "markdown",
   "metadata": {},
   "source": [
    "$$\n",
    "(\\mu-t_{\\alpha/2,N-1}\\frac{S}{\\sqrt{N}},\\mu+t_{\\alpha/2,N-1}\\frac{S}{\\sqrt{N}})\n",
    "$$"
   ]
  },
  {
   "cell_type": "markdown",
   "metadata": {},
   "source": [
    "(c) Simular el ejercicio en Octave"
   ]
  },
  {
   "cell_type": "code",
   "execution_count": 19,
   "metadata": {},
   "outputs": [
    {
     "name": "stdout",
     "output_type": "stream",
     "text": [
      "N_ITER =  1000\n",
      "mu_hat =  180\n",
      "confidence = 0\n",
      "confidence =  0.22118\n"
     ]
    }
   ],
   "source": [
    "N_ITER = 1000\n",
    "mu_hat = 180 % media_muestral en cm\n",
    "\n",
    "% nivel de confianza, debe ser cero al final de la simulación\n",
    "confidence = 0 \n",
    "for i=1:N_ITER\n",
    "    X = var/sqrt(N)*randn(N,1)+mu_hat;        \n",
    "    confidence = confidence + (1/(N*N_ITER))*sum(X>=mu_min_teorico & X<=mu_max_teorico);\n",
    "end\n",
    "confidence"
   ]
  },
  {
   "cell_type": "markdown",
   "metadata": {},
   "source": [
    "### Ejercicio 2"
   ]
  },
  {
   "cell_type": "markdown",
   "metadata": {},
   "source": [
    "Un estudio hecho en 10 lamparitas muestra que el tiempo medio de duración en horas es 998.9 hs. Las lamparitas tienen un desvı́o estándar tı́pico de σ = 80 hs."
   ]
  },
  {
   "cell_type": "markdown",
   "metadata": {},
   "source": [
    "(a) Encontrar el intervalo de confianza de 95% del tiempo medio de vida de estas lamparitas."
   ]
  },
  {
   "cell_type": "markdown",
   "metadata": {},
   "source": [
    "(b) Encontrar el porcentaje del intervalo de confianza que tiene un rango total de horas de 80 hs. (Ayuda: desplazarse un ±∆z a partir del valor medio μ̂ de maner a que 80 = 2∆z)."
   ]
  },
  {
   "cell_type": "markdown",
   "metadata": {},
   "source": [
    "### Ejercicio 3"
   ]
  },
  {
   "cell_type": "markdown",
   "metadata": {},
   "source": [
    "(a) En un concurso con 10 participantes, cada participante prueba una muestra de 3 vasos de bebida. Dos de los 3 vasos contienen la misma bebida marca X, mientras que el vaso restante contiene la bebida marca Y.\n",
    "\n",
    "(b) Queremos determinar si la gente realmente puede discriminar la bebida Y con un nivel de significancia de 5%.\n",
    "\n",
    "(c) ¿Cuál es la mı́nima cantidad de personas que deben identificar la bebida Y para concluir que, en general, la bebida Y es claramente identificable con respecto a la bebida X?"
   ]
  },
  {
   "cell_type": "markdown",
   "metadata": {},
   "source": [
    "### Ejercicio 4"
   ]
  },
  {
   "cell_type": "markdown",
   "metadata": {},
   "source": [
    "(a) Un aviso publicitario asegura que 8 de cada 10 personas prefieren la pasta dental marca Z.\n",
    "\n",
    "(b) ¿Hay suficiente evidencia para fundamentar esta hipótesis con un 5% de significación? (N.B.: En términos estadı́sticos, la pregunta correcta serı́a si el aviso es significativo.)"
   ]
  }
 ],
 "metadata": {
  "kernelspec": {
   "display_name": "Octave",
   "language": "octave",
   "name": "octave"
  },
  "language_info": {
   "file_extension": ".m",
   "help_links": [
    {
     "text": "GNU Octave",
     "url": "https://www.gnu.org/software/octave/support.html"
    },
    {
     "text": "Octave Kernel",
     "url": "https://github.com/Calysto/octave_kernel"
    },
    {
     "text": "MetaKernel Magics",
     "url": "https://metakernel.readthedocs.io/en/latest/source/README.html"
    }
   ],
   "mimetype": "text/x-octave",
   "name": "octave",
   "version": "4.2.2"
  }
 },
 "nbformat": 4,
 "nbformat_minor": 4
}
