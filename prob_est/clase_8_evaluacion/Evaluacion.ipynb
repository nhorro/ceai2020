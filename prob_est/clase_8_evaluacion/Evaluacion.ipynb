{
 "cells": [
  {
   "cell_type": "markdown",
   "metadata": {},
   "source": [
    "# Resolución de examen PEIA 2020 - Nicolás Eduardo Horro"
   ]
  },
  {
   "cell_type": "code",
   "execution_count": 1,
   "metadata": {
    "scrolled": true
   },
   "outputs": [],
   "source": [
    "import numpy as np\n",
    "import matplotlib.pyplot as plt\n",
    "from sympy import *\n",
    "import scipy.stats as stats\n",
    "from scipy.stats import norm, binom,t\n",
    "init_printing(use_unicode=True)"
   ]
  },
  {
   "cell_type": "markdown",
   "metadata": {},
   "source": [
    "### Ejercicio 1\n",
    "\n",
    "Una máquina que produce fósforos tiene una proporción de defecto aleatoria de 1%."
   ]
  },
  {
   "cell_type": "markdown",
   "metadata": {},
   "source": [
    "(a) Encontrar la máxima cantidad de fósforos, N , que se pueden ensamblar en una misma caja de\n",
    "manera tal que la probabilidad de tener uno o más fósforos defectuosos sea menor a 0.5."
   ]
  },
  {
   "cell_type": "markdown",
   "metadata": {},
   "source": [
    "**Respuesta**:\n",
    "\n",
    "Este problema se puede plantear como un experimento de Bernoulli. TODO: desarrollar.\n",
    "\n",
    "$$\n",
    "\\mathit\n",
    "P(X=x) = \\frac{n!}{k!(n-k)!} p^k q^{n-k}\n",
    "$$\n",
    "\n",
    "dónde:\n",
    "\n",
    "$$\n",
    "x = 1 \\text{ si Fósforo defectuoso (éxito).} \\\\\n",
    "x = 0 \\text{ si Fósforo no defecutoso (fracaso).} \\\\\n",
    "$$\n",
    "\n",
    "$$\n",
    "n: \\text{cantidad de ensayos = fósforos agregados a una caja hasta hallar uno defectuoso} \\\\\n",
    "k: \\text{cantidad de casos de éxito(fósforos no defectuosos agregados)} \\\\\n",
    "p: \\text{probabilidad de éxito(probabilidad de que un fósforo no sea defectuoso)} \\\\\n",
    "q: \\text{probabilidad de fracaso(fósforo defectuoso)} \\\\\n",
    "$$\n"
   ]
  },
  {
   "cell_type": "markdown",
   "metadata": {},
   "source": [
    "Si graficamos la CDF vemos que conforme aumenta la cantidad de intentos (fósforos agregados a una caja) aumenta también la probabilidad de que el fósforo agregado sea defectuoso."
   ]
  },
  {
   "cell_type": "code",
   "execution_count": 2,
   "metadata": {
    "scrolled": false
   },
   "outputs": [
    {
     "data": {
      "text/plain": [
       "Text(0, 0.5, 'Probabilidad de que la caja tenga al menos un fósforo defectuoso')"
      ]
     },
     "execution_count": 2,
     "metadata": {},
     "output_type": "execute_result"
    },
    {
     "data": {
      "image/png": "[encoded data removed]",
      "text/plain": [
       "<Figure size 864x576 with 1 Axes>"
      ]
     },
     "metadata": {
      "needs_background": "light"
     },
     "output_type": "display_data"
    }
   ],
   "source": [
    "n = np.arange(100)\n",
    "p = binom.cdf(k=n-1,n=n,p=0.99)\n",
    "plt.figure(figsize=(12,8))\n",
    "plt.plot(n,p)\n",
    "plt.grid(which=\"Both\")\n",
    "plt.title(\"Tasa de falla de fabricación\")\n",
    "plt.xlabel(\"Cantidad de fósforos por caja\")\n",
    "plt.ylabel(\"Probabilidad de que la caja tenga al menos un fósforo defectuoso\")"
   ]
  },
  {
   "cell_type": "markdown",
   "metadata": {},
   "source": [
    "Se desea obtener el valor de $N$ para el cuál $P(X=1) = 0.5$, y se considerará este número como el máximo número de fósforos por caja permitidos para cumplir con la premisa."
   ]
  },
  {
   "cell_type": "markdown",
   "metadata": {},
   "source": [
    "(b) Encontrar el valor esperado y el desvı́o estándar de la cantidad de fósforos defectuosos para el N\n",
    "calculado en el punto (a)."
   ]
  },
  {
   "cell_type": "markdown",
   "metadata": {},
   "source": [
    "**Respuesta**:"
   ]
  },
  {
   "cell_type": "code",
   "execution_count": 3,
   "metadata": {
    "scrolled": true
   },
   "outputs": [],
   "source": [
    "N = 69 # TODO. Calcular bien"
   ]
  },
  {
   "cell_type": "code",
   "execution_count": 4,
   "metadata": {
    "scrolled": true
   },
   "outputs": [],
   "source": [
    "#E = p"
   ]
  },
  {
   "cell_type": "code",
   "execution_count": 5,
   "metadata": {
    "scrolled": true
   },
   "outputs": [],
   "source": [
    "#sigma2 = p*q"
   ]
  },
  {
   "cell_type": "code",
   "execution_count": 6,
   "metadata": {
    "scrolled": true
   },
   "outputs": [],
   "source": [
    "#std_dev = sqrt(sigma2)"
   ]
  },
  {
   "cell_type": "markdown",
   "metadata": {},
   "source": [
    "(c) Simular el experimento y verificar los resultados obtenidos en los puntos (a) y (b). Comparar con\n",
    "los resultados teóricos esperados."
   ]
  },
  {
   "cell_type": "markdown",
   "metadata": {},
   "source": [
    "**Respuesta**:"
   ]
  },
  {
   "cell_type": "code",
   "execution_count": 7,
   "metadata": {
    "scrolled": true
   },
   "outputs": [],
   "source": [
    "def simulate_experiment1(n_iterations,n_samples,prob_defect):\n",
    "    boxes_with_faulty_matches = 0\n",
    "    for i in range(n_iterations):    \n",
    "        samples = np.random.uniform(0,1,n_samples)\n",
    "        faulty_matches = np.count_nonzero(samples > (1.0-prob_defect))    \n",
    "        \n",
    "        # Fósforos defectuosos en la caja\n",
    "        if faulty_matches > 0:\n",
    "            boxes_with_faulty_matches += 1\n",
    "    return (boxes_with_faulty_matches/n_iterations)"
   ]
  },
  {
   "cell_type": "code",
   "execution_count": 8,
   "metadata": {
    "scrolled": false
   },
   "outputs": [
    {
     "data": {
      "text/plain": [
       "70"
      ]
     },
     "execution_count": 8,
     "metadata": {},
     "output_type": "execute_result"
    }
   ],
   "source": [
    "n_iterations = 10000  # Cantidad de iteraciones por cada N ensayado\n",
    "n_trials = 100       # Número máximo de ensayos=cantidad máxima de fósforos probada\n",
    "prob_defect = 0.01   # Probabilidad de que un fósforo sea defectuoso\n",
    "\n",
    "x = np.arange(n_trials)\n",
    "y = np.zeros(n_trials)\n",
    "for i in range(n_trials):\n",
    "     y[i] = simulate_experiment1(n_iterations,i,prob_defect)\n",
    "        \n",
    "q_above_accepted_failure = np.argmax(y > 0.5)\n",
    "q_above_accepted_failure"
   ]
  },
  {
   "cell_type": "markdown",
   "metadata": {},
   "source": [
    "El $N$ encontrado por simulación es ~69."
   ]
  },
  {
   "cell_type": "code",
   "execution_count": 9,
   "metadata": {
    "scrolled": true
   },
   "outputs": [
    {
     "data": {
      "text/plain": [
       "<matplotlib.legend.Legend at 0x7f9ef2523710>"
      ]
     },
     "execution_count": 9,
     "metadata": {},
     "output_type": "execute_result"
    },
    {
     "data": {
      "image/png": "[encoded data removed]",
      "text/plain": [
       "<Figure size 864x576 with 1 Axes>"
      ]
     },
     "metadata": {
      "needs_background": "light"
     },
     "output_type": "display_data"
    }
   ],
   "source": [
    "plt.figure(figsize=(12,8))\n",
    "plt.plot(x,y)   \n",
    "plt.plot(x,binom.cdf(k=x-1,n=x,p=1-0.01))\n",
    "plt.grid(which=\"Both\")\n",
    "plt.title(\"Tasa de falla de fabricación\")\n",
    "plt.xlabel(\"Cantidad de fósforos por caja\")\n",
    "plt.ylabel(\"Probabilidad de que la caja tenga al menos una unidad defectuosa\")\n",
    "plt.legend([\"Simulación\",\"binocdf\"])"
   ]
  },
  {
   "cell_type": "markdown",
   "metadata": {},
   "source": [
    "### Ejercicio 2\n",
    "\n",
    "Sea $X$ una variable aleatoria con función de densidad de probabilidad (pdf) $f_X(x) = kx$, si $0 \\le x \\le 3$, y $f_X(x) = 0$ si no."
   ]
  },
  {
   "cell_type": "markdown",
   "metadata": {},
   "source": [
    "(a) Encontrar el valor de k."
   ]
  },
  {
   "cell_type": "markdown",
   "metadata": {},
   "source": [
    "**Respuesta**:\n",
    "\n",
    "Como $f_X(x) = 0$ fuera del intervalo $[0,3]$ sólo se estudiará este intervalo.\n",
    "\n",
    "Interesa hallar el valor de $k$ para el cuál la CDF evaluada en 3 es 1. Por lo tanto:\n",
    "\n",
    "$$\n",
    "\\int_0^3{kx}dx = \\int_0^3{x}dx = \\left.\\frac{k}{2}x^2\\right|_{3} - \\left.\\frac{k}{2}x^2\\right|_{0} = \\frac{9k}{2}\n",
    "$$\n",
    "\n",
    "$$\n",
    "\\frac{9k}{2} = 1 \\therefore k = \\frac{2}{9}\n",
    "$$"
   ]
  },
  {
   "cell_type": "markdown",
   "metadata": {},
   "source": [
    "(b) Encontrar $x_1$ tal que $P(X \\le x_1 ) = 0.1$.\n",
    "\n",
    "**Respuesta**:\n",
    "\n",
    "$$\n",
    "P(X \\le x_1 ) = \\int_0^{x_1}{\\frac{2}{9}x}dx = \\frac{x_1^2}{9} \n",
    "$$\n",
    "\n",
    "$$\n",
    "\\frac{x_1^2}{9} = 0.1 \\therefore x_1 = \\sqrt{0.9}\n",
    "$$"
   ]
  },
  {
   "cell_type": "markdown",
   "metadata": {},
   "source": [
    "(c) Simular la variable aleatoria $X$ usando el método de la transformada inversa."
   ]
  },
  {
   "cell_type": "markdown",
   "metadata": {},
   "source": [
    "**Respuesta**:\n",
    "\n",
    "Dado que $F_X^{-1}$ existe, se puede plantear:\n",
    "\n",
    "$$\n",
    "U = F_X(x) = \\frac{x^2}{9}\n",
    "$$\n",
    "\n",
    "Entonces:\n",
    "\n",
    "$$\n",
    "X = \\sqrt{9U}\n",
    "$$"
   ]
  },
  {
   "cell_type": "code",
   "execution_count": 10,
   "metadata": {
    "scrolled": true
   },
   "outputs": [],
   "source": [
    "def inverse_transform_rv(n_samples):\n",
    "    U = np.random.uniform(0,1,n_samples)\n",
    "    X = np.sqrt(9*U)\n",
    "    return X"
   ]
  },
  {
   "cell_type": "markdown",
   "metadata": {},
   "source": [
    "(d) A partir de la variable $X$ generada, estimar -mediante simulaciones- la pdf de $X$ usando método\n",
    "de densidad de kernel con función de kernel Gaussiana."
   ]
  },
  {
   "cell_type": "markdown",
   "metadata": {},
   "source": [
    "**Respuesta**:"
   ]
  },
  {
   "cell_type": "code",
   "execution_count": 11,
   "metadata": {
    "scrolled": true
   },
   "outputs": [
    {
     "data": {
      "text/plain": [
       "<matplotlib.legend.Legend at 0x7f9ef26e5d50>"
      ]
     },
     "execution_count": 11,
     "metadata": {},
     "output_type": "execute_result"
    },
    {
     "data": {
      "image/png": "[encoded data removed]",
      "text/plain": [
       "<Figure size 864x576 with 1 Axes>"
      ]
     },
     "metadata": {
      "needs_background": "light"
     },
     "output_type": "display_data"
    }
   ],
   "source": [
    "n_iterations = 1000  # Número de simulaciones\n",
    "n_samples = 1000 # Simulaciones de la variable independiente\n",
    "\n",
    "X = inverse_transform_rv(n_iterations)\n",
    "x = np.linspace(0,3,n_samples)\n",
    "\n",
    "# Constante de filtrado y dispersión de la Gaussiana\n",
    "h = 0.1\n",
    "p = np.zeros(x.shape)\n",
    "\n",
    "for i in range(n_iterations):\n",
    "    for j in range(x.shape[0]):\n",
    "        K = ( 1 / np.sqrt(2*np.pi) ) * np.exp( -(1/2)*((X[i]-x[j] ) / h )**2 )\n",
    "        p[j] = p[j] + (1/(n_iterations*h))*K\n",
    "        \n",
    "plt.figure(figsize=(12,8))\n",
    "plt.title(\"Aproximación de PDF por Densidad de Kernel con h=0.1\")\n",
    "plt.plot(x,p)   \n",
    "plt.plot(x,(2/9)*x)\n",
    "plt.grid(which=\"Both\")\n",
    "plt.xlabel(\"X\")\n",
    "plt.ylabel(\"P(X)\")\n",
    "plt.legend([\"$f_X(x)$\",\"$Est. Dens. Kernel$\",])"
   ]
  },
  {
   "cell_type": "code",
   "execution_count": 12,
   "metadata": {},
   "outputs": [
    {
     "name": "stdout",
     "output_type": "stream",
     "text": [
      "Media teórica: 2\n",
      "Varianza teóríca: 1/2\n",
      "Media muestral: 1.9939491160560396\n",
      "Varianza muestral: 0.5069559929709875\n"
     ]
    }
   ],
   "source": [
    "x = symbols(\"x\")\n",
    "mu = integrate(x*Rational(2,9)*x,(x,0,3))\n",
    "sigma2 = integrate((x**2)*Rational(2,9)*x,(x,0,3)) - mu**2\n",
    "mu_hat = X.mean()\n",
    "sigma2_hat = X.var()\n",
    "print(\"Media teórica:\", mu)\n",
    "print(\"Varianza teóríca:\", sigma2)\n",
    "print(\"Media muestral:\", mu_hat)\n",
    "print(\"Varianza muestral:\", sigma2_hat)"
   ]
  },
  {
   "cell_type": "markdown",
   "metadata": {},
   "source": [
    "### Ejercicio 3\n",
    "\n",
    "Sea $X_1, X_2,...,X_{10}$ una muestra aleatoria de una población con distribución normal con media $\\mu$ y\n",
    "desvı́o estándar 4. Sea $\\hat{X}$ la media muestral. Se mide $\\hat{X}$ = 48. Se tiene la hipótesis nula $H_0: \\mu = 45$, y la hipótesis alternativa $H_1: \\mu \\neq 45$."
   ]
  },
  {
   "cell_type": "markdown",
   "metadata": {},
   "source": [
    "(a) Encontrar un intervalo de confianza del 95 % de $\\mu$."
   ]
  },
  {
   "cell_type": "markdown",
   "metadata": {},
   "source": [
    "**Respuesta**:"
   ]
  },
  {
   "cell_type": "code",
   "execution_count": 13,
   "metadata": {
    "scrolled": true
   },
   "outputs": [],
   "source": [
    "N = 10\n",
    "std_dev = 4  # Desvío estandard característico (dato).\n",
    "mu_hat = 48 # Media muestral (dato)"
   ]
  },
  {
   "cell_type": "code",
   "execution_count": 14,
   "metadata": {},
   "outputs": [],
   "source": [
    "alpha = (1- 0.95) \n",
    "z_norm = norm.ppf(1-alpha/2)\n",
    "z_student = t.ppf(1-alpha/2,df=10)"
   ]
  },
  {
   "cell_type": "code",
   "execution_count": 15,
   "metadata": {},
   "outputs": [
    {
     "data": {
      "image/png": "[encoded data removed]",
      "text/latex": [
       "$\\displaystyle 1.959963984540054$"
      ],
      "text/plain": [
       "1.959963984540054"
      ]
     },
     "execution_count": 15,
     "metadata": {},
     "output_type": "execute_result"
    }
   ],
   "source": [
    "z_norm"
   ]
  },
  {
   "cell_type": "code",
   "execution_count": 16,
   "metadata": {},
   "outputs": [
    {
     "data": {
      "image/png": "[encoded data removed]",
      "text/latex": [
       "$\\displaystyle 2.2281388519649385$"
      ],
      "text/plain": [
       "2.2281388519649385"
      ]
     },
     "execution_count": 16,
     "metadata": {},
     "output_type": "execute_result"
    }
   ],
   "source": [
    "z_student"
   ]
  },
  {
   "cell_type": "markdown",
   "metadata": {},
   "source": [
    "   \n",
    "El intervalo de confianza del 95% (Normal) es:"
   ]
  },
  {
   "cell_type": "code",
   "execution_count": 17,
   "metadata": {},
   "outputs": [
    {
     "data": {
      "image/png": "[encoded data removed]",
      "text/latex": [
       "$\\displaystyle \\left( 45.52081987078175, \\  50.47918012921825\\right)$"
      ],
      "text/plain": [
       "(45.52081987078175, 50.47918012921825)"
      ]
     },
     "execution_count": 17,
     "metadata": {},
     "output_type": "execute_result"
    }
   ],
   "source": [
    "z = z_norm\n",
    "mu_min_teorico = mu_hat-(z*std_dev/np.sqrt(N))\n",
    "mu_max_teorico = mu_hat+(z*std_dev/np.sqrt(N))\n",
    "(mu_min_teorico,mu_max_teorico)"
   ]
  },
  {
   "cell_type": "markdown",
   "metadata": {},
   "source": [
    "El intervalo de confianza del 95% (Student) es:"
   ]
  },
  {
   "cell_type": "code",
   "execution_count": 18,
   "metadata": {},
   "outputs": [
    {
     "data": {
      "image/png": "[encoded data removed]",
      "text/latex": [
       "$\\displaystyle \\left( 45.18160251387122, \\  50.81839748612878\\right)$"
      ],
      "text/plain": [
       "(45.18160251387122, 50.81839748612878)"
      ]
     },
     "execution_count": 18,
     "metadata": {},
     "output_type": "execute_result"
    }
   ],
   "source": [
    "z = z_student\n",
    "mu_min_teorico = mu_hat-(z*std_dev/np.sqrt(N))\n",
    "mu_max_teorico = mu_hat+(z*std_dev/np.sqrt(N))\n",
    "(mu_min_teorico,mu_max_teorico)"
   ]
  },
  {
   "cell_type": "markdown",
   "metadata": {},
   "source": [
    "Nota: Cómo el número de muestras es bajo (N<30) se utilizará la distribución de Student."
   ]
  },
  {
   "cell_type": "markdown",
   "metadata": {},
   "source": [
    "(b) Justificar si hay suficiente evidencia para rechazar la hipótesis nula con un 5% de significancia."
   ]
  },
  {
   "cell_type": "markdown",
   "metadata": {
    "scrolled": true
   },
   "source": [
    "**Respuesta**:\n",
    "    \n",
    "Dado que la hipótesis $\\mu=45$ está fuera del intervalo de confianza la misma se rechaza."
   ]
  },
  {
   "cell_type": "markdown",
   "metadata": {},
   "source": [
    "(c) Simular el experimento y verificar los resultados obtenidos en los puntos (a) y (b)."
   ]
  },
  {
   "cell_type": "markdown",
   "metadata": {},
   "source": [
    "**Respuesta**:\n",
    "    \n",
    "El valor de confianza encontrado por simulación (~0.974) es cercano al 95% esperado.\n",
    "\n",
    "Nota: la simulación se hace con distribución normal."
   ]
  },
  {
   "cell_type": "code",
   "execution_count": 19,
   "metadata": {
    "scrolled": false
   },
   "outputs": [],
   "source": [
    "def simulate_htest(pop_mean, pop_stddev,n_iterations = 10000):\n",
    "    print(f\"Simulación para media: {pop_mean} std_dev: {pop_stddev}\")\n",
    "    \n",
    "    # Confianza inicial en que la hipótesis alternativa es falsa\n",
    "    confidence = 0\n",
    "    sample_mean = 0\n",
    "    sample_var = 0\n",
    "    sample_stdev = 0    \n",
    "    for i in range(n_iterations):        \n",
    "        X = pop_stddev/np.sqrt(N)*np.random.normal(size=N) + pop_mean;        \n",
    "        confidence = confidence + (1/(n_iterations*N)) * np.count_nonzero( \n",
    "            (X >= mu_min_teorico) & (X <= mu_max_teorico) )            \n",
    "        sample_mean = sample_mean + X.mean()\n",
    "        sample_var = sample_var + X.var()\n",
    "        sample_stdev = sample_stdev + X.std()\n",
    "    sample_mean = sample_mean / n_iterations\n",
    "    sample_var = sample_var / n_iterations\n",
    "    sample_stdev = sample_stdev / n_iterations\n",
    "\n",
    "    print(\"Confianza: \", confidence)\n",
    "    print(\"Media muestral: \", sample_mean)\n",
    "    print(\"Varianza muestral: \", sample_var)\n",
    "    print(\"Desvío estándard muestral: \", sample_stdev)"
   ]
  },
  {
   "cell_type": "code",
   "execution_count": 24,
   "metadata": {},
   "outputs": [
    {
     "name": "stdout",
     "output_type": "stream",
     "text": [
      "Simulación para media: 48.0 std_dev: 4.0\n",
      "Confianza:  0.9739299999999516\n",
      "Media muestral:  48.00526718572259\n",
      "Varianza muestral:  1.4412879057908148\n",
      "Desvío estándard muestral:  1.167525637877752\n"
     ]
    }
   ],
   "source": [
    "simulate_htest(pop_mean=48.0,pop_stddev=4.0)"
   ]
  }
 ],
 "metadata": {
  "kernelspec": {
   "display_name": "Python 3",
   "language": "python",
   "name": "python3"
  },
  "language_info": {
   "codemirror_mode": {
    "name": "ipython",
    "version": 3
   },
   "file_extension": ".py",
   "mimetype": "text/x-python",
   "name": "python",
   "nbconvert_exporter": "python",
   "pygments_lexer": "ipython3",
   "version": "3.7.7"
  }
 },
 "nbformat": 4,
 "nbformat_minor": 4
}
