{
 "cells": [
  {
   "cell_type": "markdown",
   "metadata": {},
   "source": [
    "# Resolución de examen PEIA 2020 - Nicolás Eduardo Horro"
   ]
  },
  {
   "cell_type": "code",
   "execution_count": 2,
   "metadata": {
    "scrolled": true
   },
   "outputs": [],
   "source": [
    "import numpy as np\n",
    "import matplotlib.pyplot as plt\n",
    "from sympy import *\n",
    "import scipy.stats as stats\n",
    "from scipy.stats import norm, geom,t\n",
    "init_printing(use_unicode=True)"
   ]
  },
  {
   "cell_type": "markdown",
   "metadata": {},
   "source": [
    "### Ejercicio 1\n",
    "\n",
    "Una máquina que produce fósforos tiene una proporción de defecto aleatoria de 1%."
   ]
  },
  {
   "cell_type": "markdown",
   "metadata": {},
   "source": [
    "(a) Encontrar la máxima cantidad de fósforos, N , que se pueden ensamblar en una misma caja de\n",
    "manera tal que la probabilidad de tener uno o más fósforos defectuosos sea menor a 0.5."
   ]
  },
  {
   "cell_type": "markdown",
   "metadata": {},
   "source": [
    "**Respuesta**:\n",
    "\n",
    "Este problema se puede modelar con una distribución geométrica considerando como \"ensayo\" cada fósforo agregado a la caja y como \"evento de éxito\" que el fósforo sea defectuoso. Asignamos a este evento de éxito una probabilidad de 0.01."
   ]
  },
  {
   "cell_type": "markdown",
   "metadata": {},
   "source": [
    "Si graficamos la CDF vemos que conforme aumenta la cantidad de intentos (fósforos agregados a una caja) aumenta también la probabilidad de que algunos de los fósforos agregados sean defectuosos."
   ]
  },
  {
   "cell_type": "code",
   "execution_count": 3,
   "metadata": {
    "scrolled": false
   },
   "outputs": [
    {
     "data": {
      "image/png": "[encoded data removed]",
      "text/plain": [
       "<Figure size 864x576 with 1 Axes>"
      ]
     },
     "metadata": {
      "needs_background": "light"
     },
     "output_type": "display_data"
    }
   ],
   "source": [
    "n = np.arange(100)\n",
    "p = geom.cdf(n,p=0.01)\n",
    "plt.figure(figsize=(12,8))\n",
    "plt.plot(n,p)\n",
    "plt.grid(which=\"Both\")\n",
    "plt.title(\"CDF de Distribución Geométrica.\")\n",
    "plt.xlabel(\"X (Cantidad de fósforos por caja\")\n",
    "plt.ylabel(\"P(X<=N)\")\n",
    "plt.show()"
   ]
  },
  {
   "cell_type": "markdown",
   "metadata": {},
   "source": [
    "Se desea obtener el valor de $N$ para el cuál $P(X=N) = 0.5$, y se considerará este número como el máximo número de fósforos por caja permitidos para cumplir con la premisa.\n",
    "\n",
    "Este valor se puede obtener por la fórmula cerrada:\n",
    "\n",
    "Si $X$ es la V.A. que representa el evento de que el n-ésimo fósforo sea defectuoso y $p=0.01$ es la probabilidad de que un fósforo sea defectuoso y $q=1-p$ entonces:\n",
    "\n",
    "$$\n",
    "P(X \\le N) = 1-q^N\\\\\n",
    "$$\n",
    "\n",
    "$$\n",
    "\\frac{1}{2} = 1-q^N\\\\\n",
    "$$\n",
    "\n",
    "$$\n",
    "\\therefore N=\\lfloor log_q(\\frac{1}{2})=\\frac{log(-\\frac{1}{2})}{log(q)} \\rfloor = \\lfloor 68.967 \\rfloor = 68\n",
    "$$"
   ]
  },
  {
   "cell_type": "code",
   "execution_count": 4,
   "metadata": {
    "scrolled": false
   },
   "outputs": [
    {
     "data": {
      "image/png": "[encoded data removed]",
      "text/latex": [
       "$\\displaystyle 68$"
      ],
      "text/plain": [
       "68"
      ]
     },
     "execution_count": 4,
     "metadata": {},
     "output_type": "execute_result"
    }
   ],
   "source": [
    "n = np.floor(np.log(0.5)/log(1-0.01))\n",
    "n"
   ]
  },
  {
   "cell_type": "markdown",
   "metadata": {},
   "source": [
    "<hr/>"
   ]
  },
  {
   "cell_type": "markdown",
   "metadata": {},
   "source": [
    "(b) Encontrar el valor esperado y el desvı́o estándar de la cantidad de fósforos defectuosos para el N\n",
    "calculado en el punto (a)."
   ]
  },
  {
   "cell_type": "markdown",
   "metadata": {},
   "source": [
    "**Respuesta**:"
   ]
  },
  {
   "cell_type": "markdown",
   "metadata": {},
   "source": [
    "Siendo fijo el número de ensayos, se puede modelar el problema con una distribución Bernoulli con $n=68$ y $p=0.01$:\n",
    "\n",
    "$$\n",
    "\\mu = np\n",
    "$$\n",
    "\n",
    "$$\n",
    "\\sigma = \\sqrt{np(1-p)}\n",
    "$$"
   ]
  },
  {
   "cell_type": "code",
   "execution_count": 5,
   "metadata": {
    "scrolled": true
   },
   "outputs": [
    {
     "name": "stdout",
     "output_type": "stream",
     "text": [
      "Promedio Teórico: 0.680000\n",
      "Desvío Estándar Teórico: 0.820488\n"
     ]
    }
   ],
   "source": [
    "n = 68\n",
    "p = 0.01\n",
    "mu_teorico = n * p\n",
    "sigma_teorico = sqrt(n*p*(1-p))\n",
    "print(\"Promedio Teórico: %f\" % mu_teorico)\n",
    "print(\"Desvío Estándar Teórico: %f\" % sigma_teorico)"
   ]
  },
  {
   "cell_type": "markdown",
   "metadata": {},
   "source": [
    "<hr/>"
   ]
  },
  {
   "cell_type": "markdown",
   "metadata": {},
   "source": [
    "(c) Simular el experimento y verificar los resultados obtenidos en los puntos (a) y (b). Comparar con\n",
    "los resultados teóricos esperados."
   ]
  },
  {
   "cell_type": "markdown",
   "metadata": {},
   "source": [
    "**Respuesta**:"
   ]
  },
  {
   "cell_type": "markdown",
   "metadata": {},
   "source": [
    "El siguiente método realiza un experimento de generar cajas de *n_samples* fósforos con una probabilidad de defecto *prob_defect* una cantidad de veces *n_iterations* y devuelve:\n",
    "- Porcentaje de cajas c/ defectos (0-1).\n",
    "- Promedio de fósforos defectuosos por caja.\n",
    "- Desvío estándard de fósforos defectuosos por caja."
   ]
  },
  {
   "cell_type": "code",
   "execution_count": 6,
   "metadata": {
    "scrolled": true
   },
   "outputs": [],
   "source": [
    "def simulate_experiment1(n_iterations,n_samples,prob_defect):\n",
    "    boxes_with_defects = 0\n",
    "    q_defective_matches_per_box = np.zeros(n_iterations)\n",
    "\n",
    "    for i in range(n_iterations):    \n",
    "        samples = np.random.uniform(0,1,n_samples)    \n",
    "        faulty = (samples > (1.0-prob_defect))    \n",
    "        has_defect = np.count_nonzero(faulty)>0\n",
    "        boxes_with_defects += 1 if has_defect else 0 \n",
    "        q_defective_matches_per_box[i] = np.count_nonzero(faulty)\n",
    "    return (boxes_with_defects/n_iterations), q_defective_matches_per_box.mean(), q_defective_matches_per_box.std()"
   ]
  },
  {
   "cell_type": "markdown",
   "metadata": {},
   "source": [
    "Primero se evaluará la función para $N=0...100$ y se la comparará con la CDF de la distribución geométrica y se cargará cada probabilidad en un vector.\n",
    "Luego se buscará en este vector el primer $N$ más próximo a 0.5 por izquierda."
   ]
  },
  {
   "cell_type": "code",
   "execution_count": 7,
   "metadata": {
    "scrolled": false
   },
   "outputs": [
    {
     "name": "stdout",
     "output_type": "stream",
     "text": [
      "N encontrado por simulación: 68\n"
     ]
    }
   ],
   "source": [
    "n_iterations = 10000 # Cantidad de iteraciones por cada N ensayado\n",
    "n_trials = 1000       # Número máximo de ensayos=cantidad máxima de fósforos probada\n",
    "prob_defect = 0.01   # Probabilidad de que un fósforo sea defectuoso\n",
    "\n",
    "x = np.arange(n_trials)\n",
    "y = np.zeros(n_trials)\n",
    "\n",
    "for i in range(n_trials):\n",
    "    y[i], _, _ = simulate_experiment1(n_iterations,i,prob_defect)\n",
    "        \n",
    "q_above_accepted_failure = np.argmax(y > 0.5)-1\n",
    "q_above_accepted_failure\n",
    "print(\"N encontrado por simulación: %d\" % q_above_accepted_failure)"
   ]
  },
  {
   "cell_type": "code",
   "execution_count": 8,
   "metadata": {
    "scrolled": true
   },
   "outputs": [
    {
     "data": {
      "text/plain": [
       "<matplotlib.legend.Legend at 0x7f6dcac15190>"
      ]
     },
     "execution_count": 8,
     "metadata": {},
     "output_type": "execute_result"
    },
    {
     "data": {
      "image/png": "[encoded data removed]",
      "text/plain": [
       "<Figure size 864x576 with 1 Axes>"
      ]
     },
     "metadata": {
      "needs_background": "light"
     },
     "output_type": "display_data"
    }
   ],
   "source": [
    "plt.figure(figsize=(12,8))\n",
    "plt.plot(x,y)   \n",
    "plt.plot(x,geom.cdf(x,p=0.01))\n",
    "plt.grid(which=\"Both\")\n",
    "plt.title(\"Tasa de falla de fabricación (simulación vs CDF)\")\n",
    "plt.xlabel(\"Cantidad de fósforos por caja\")\n",
    "plt.ylabel(\"Probabilidad de que la caja tenga al menos una unidad defectuosa\")\n",
    "plt.legend([\"Simulación\",\"geom.cdf\"])"
   ]
  },
  {
   "cell_type": "markdown",
   "metadata": {},
   "source": [
    "Finalmente se evaluará para N=68 y se comprobará que los valores obtenidos para el promedio y desvío estándar se aproximan muy bien a los teóricos."
   ]
  },
  {
   "cell_type": "code",
   "execution_count": 9,
   "metadata": {
    "scrolled": false
   },
   "outputs": [
    {
     "name": "stdout",
     "output_type": "stream",
     "text": [
      "Probabilidad de defectuosos: 0.497120\n",
      "Promedio de defectuosos: 0.683430\n",
      "Desvío estándar: 0.821629\n",
      "Promedio Teórico: 0.680000\n",
      "Desvío Estándar Teórico: 0.820488\n"
     ]
    }
   ],
   "source": [
    "n_samples = 68\n",
    "n_iterations = 100000  # Cantidad de iteraciones por cada N ensayado\n",
    "n_trials = 100       # Número máximo de ensayos=cantidad máxima de fósforos probada\n",
    "prob_defect = 0.01   # Probabilidad de que un fósforo sea defectuoso\n",
    "defect_prob, q_defective_mean, q_defective_matches_std = simulate_experiment1(n_iterations,n_samples,0.01)\n",
    "print(\"Probabilidad de defectuosos: %f\" % defect_prob)\n",
    "print(\"Promedio de defectuosos: %f\" % q_defective_mean)\n",
    "print(\"Desvío estándar: %f\" % q_defective_matches_std)\n",
    "print(\"Promedio Teórico: %f\" % mu_teorico)\n",
    "print(\"Desvío Estándar Teórico: %f\" % sigma_teorico)"
   ]
  },
  {
   "cell_type": "markdown",
   "metadata": {},
   "source": [
    "### Ejercicio 2\n",
    "\n",
    "Sea $X$ una variable aleatoria con función de densidad de probabilidad (pdf) $f_X(x) = kx$, si $0 \\le x \\le 3$, y $f_X(x) = 0$ si no."
   ]
  },
  {
   "cell_type": "markdown",
   "metadata": {},
   "source": [
    "(a) Encontrar el valor de k."
   ]
  },
  {
   "cell_type": "markdown",
   "metadata": {},
   "source": [
    "**Respuesta**:\n",
    "\n",
    "Como $f_X(x) = 0$ fuera del intervalo $[0,3]$ sólo se estudiará este intervalo.\n",
    "\n",
    "Interesa hallar el valor de $k$ para el cuál la CDF evaluada en 3 es 1. Por lo tanto:\n",
    "\n",
    "$$\n",
    "\\int_0^3{kx}dx = \\int_0^3{x}dx = \\left.\\frac{k}{2}x^2\\right|_{3} - \\left.\\frac{k}{2}x^2\\right|_{0} = \\frac{9k}{2}\n",
    "$$\n",
    "\n",
    "$$\n",
    "\\frac{9k}{2} = 1 \\therefore k = \\frac{2}{9}\n",
    "$$"
   ]
  },
  {
   "cell_type": "markdown",
   "metadata": {},
   "source": [
    "<hr/>"
   ]
  },
  {
   "cell_type": "markdown",
   "metadata": {},
   "source": [
    "(b) Encontrar $x_1$ tal que $P(X \\le x_1 ) = 0.1$.\n",
    "\n",
    "**Respuesta**:\n",
    "\n",
    "$$\n",
    "P(X \\le x_1 ) = \\int_0^{x_1}{\\frac{2}{9}x}dx = \\frac{x_1^2}{9} \n",
    "$$\n",
    "\n",
    "$$\n",
    "\\frac{x_1^2}{9} = 0.1 \\therefore x_1 = \\sqrt{0.9}\n",
    "$$"
   ]
  },
  {
   "cell_type": "markdown",
   "metadata": {},
   "source": [
    "<hr/>"
   ]
  },
  {
   "cell_type": "markdown",
   "metadata": {},
   "source": [
    "(c) Simular la variable aleatoria $X$ usando el método de la transformada inversa."
   ]
  },
  {
   "cell_type": "markdown",
   "metadata": {},
   "source": [
    "**Respuesta**:\n",
    "\n",
    "Dado que $F_X^{-1}$ existe, se puede plantear:\n",
    "\n",
    "$$\n",
    "U = F_X(x) = \\frac{x^2}{9}\n",
    "$$\n",
    "\n",
    "Entonces:\n",
    "\n",
    "$$\n",
    "X = \\sqrt{9U}\n",
    "$$"
   ]
  },
  {
   "cell_type": "code",
   "execution_count": 10,
   "metadata": {
    "scrolled": true
   },
   "outputs": [],
   "source": [
    "def inverse_transform_rv(n_samples):\n",
    "    U = np.random.uniform(0,1,n_samples)\n",
    "    X = np.sqrt(9*U)\n",
    "    return X"
   ]
  },
  {
   "cell_type": "markdown",
   "metadata": {},
   "source": [
    "<hr/>"
   ]
  },
  {
   "cell_type": "markdown",
   "metadata": {},
   "source": [
    "(d) A partir de la variable $X$ generada, estimar -mediante simulaciones- la pdf de $X$ usando método\n",
    "de densidad de kernel con función de kernel Gaussiana."
   ]
  },
  {
   "cell_type": "markdown",
   "metadata": {},
   "source": [
    "**Respuesta**:"
   ]
  },
  {
   "cell_type": "markdown",
   "metadata": {},
   "source": [
    "A continuación se muestra el gráfico de la función aproximada utilizando el método de densidad de Kernel comparándola con la función original y se comparan la media y varianza teórica con la muestral."
   ]
  },
  {
   "cell_type": "code",
   "execution_count": 11,
   "metadata": {
    "scrolled": true
   },
   "outputs": [
    {
     "data": {
      "text/plain": [
       "<matplotlib.legend.Legend at 0x7f6dcab78bd0>"
      ]
     },
     "execution_count": 11,
     "metadata": {},
     "output_type": "execute_result"
    },
    {
     "data": {
      "image/png": "[encoded data removed]",
      "text/plain": [
       "<Figure size 864x576 with 1 Axes>"
      ]
     },
     "metadata": {
      "needs_background": "light"
     },
     "output_type": "display_data"
    }
   ],
   "source": [
    "n_iterations = 10000  # Número de simulaciones\n",
    "n_samples = 1000 # Simulaciones de la variable independiente\n",
    "\n",
    "X = inverse_transform_rv(n_iterations)\n",
    "x = np.linspace(0,3,n_samples)\n",
    "\n",
    "# Constante de filtrado y dispersión de la Gaussiana\n",
    "h = 0.1\n",
    "p = np.zeros(x.shape)\n",
    "\n",
    "for i in range(n_iterations):\n",
    "    for j in range(x.shape[0]):\n",
    "        K = ( 1 / np.sqrt(2*np.pi) ) * np.exp( -(1/2)*((X[i]-x[j] ) / h )**2 )\n",
    "        p[j] = p[j] + (1/(n_iterations*h))*K\n",
    "        \n",
    "plt.figure(figsize=(12,8))\n",
    "plt.title(\"Aproximación de PDF por Densidad de Kernel con h=0.1\")\n",
    "plt.plot(x,p)   \n",
    "plt.plot(x,(2/9)*x)\n",
    "plt.grid(which=\"Both\")\n",
    "plt.xlabel(\"X\")\n",
    "plt.ylabel(\"P(X)\")\n",
    "plt.legend([\"$f_X(x)$\",\"$Est. Dens. Kernel$\",])"
   ]
  },
  {
   "cell_type": "code",
   "execution_count": 12,
   "metadata": {
    "scrolled": false
   },
   "outputs": [
    {
     "name": "stdout",
     "output_type": "stream",
     "text": [
      "Media teórica: 2\n",
      "Varianza teóríca: 1/2\n",
      "Media muestral: 2.0020846927405374\n",
      "Varianza muestral: 0.5007686490823198\n"
     ]
    }
   ],
   "source": [
    "x = symbols(\"x\")\n",
    "mu = integrate(x*Rational(2,9)*x,(x,0,3))\n",
    "sigma2 = integrate((x**2)*Rational(2,9)*x,(x,0,3)) - mu**2\n",
    "mu_hat = X.mean()\n",
    "sigma2_hat = X.var()\n",
    "print(\"Media teórica:\", mu)\n",
    "print(\"Varianza teóríca:\", sigma2)\n",
    "print(\"Media muestral:\", mu_hat)\n",
    "print(\"Varianza muestral:\", sigma2_hat)"
   ]
  },
  {
   "cell_type": "markdown",
   "metadata": {},
   "source": [
    "### Ejercicio 3\n",
    "\n",
    "Sea $X_1, X_2,...,X_{10}$ una muestra aleatoria de una población con distribución normal con media $\\mu$ y\n",
    "desvı́o estándar 4. Sea $\\hat{X}$ la media muestral. Se mide $\\hat{X}$ = 48. Se tiene la hipótesis nula $H_0: \\mu = 45$, y la hipótesis alternativa $H_1: \\mu \\neq 45$."
   ]
  },
  {
   "cell_type": "markdown",
   "metadata": {},
   "source": [
    "(a) Encontrar un intervalo de confianza del 95 % de $\\mu$."
   ]
  },
  {
   "cell_type": "markdown",
   "metadata": {},
   "source": [
    "**Respuesta**:"
   ]
  },
  {
   "cell_type": "code",
   "execution_count": 13,
   "metadata": {
    "scrolled": true
   },
   "outputs": [],
   "source": [
    "N = 10\n",
    "std_dev = 4  # Desvío estandard característico (dato).\n",
    "mu_hat = 48 # Media muestral (dato)"
   ]
  },
  {
   "cell_type": "code",
   "execution_count": 14,
   "metadata": {
    "scrolled": false
   },
   "outputs": [],
   "source": [
    "alpha = (1- 0.95) \n",
    "z_norm = norm.ppf(1-alpha/2)"
   ]
  },
  {
   "cell_type": "code",
   "execution_count": 15,
   "metadata": {
    "scrolled": false
   },
   "outputs": [
    {
     "data": {
      "image/png": "[encoded data removed]",
      "text/latex": [
       "$\\displaystyle 1.959963984540054$"
      ],
      "text/plain": [
       "1.959963984540054"
      ]
     },
     "execution_count": 15,
     "metadata": {},
     "output_type": "execute_result"
    }
   ],
   "source": [
    "z_norm"
   ]
  },
  {
   "cell_type": "markdown",
   "metadata": {},
   "source": [
    "   \n",
    "El intervalo de confianza del 95% (Normal) es:"
   ]
  },
  {
   "cell_type": "code",
   "execution_count": 16,
   "metadata": {
    "scrolled": false
   },
   "outputs": [
    {
     "data": {
      "image/png": "[encoded data removed]",
      "text/latex": [
       "$\\displaystyle \\left( 45.52081987078175, \\  50.47918012921825\\right)$"
      ],
      "text/plain": [
       "(45.52081987078175, 50.47918012921825)"
      ]
     },
     "execution_count": 16,
     "metadata": {},
     "output_type": "execute_result"
    }
   ],
   "source": [
    "z = z_norm\n",
    "mu_min_teorico = mu_hat-(z*std_dev/np.sqrt(N))\n",
    "mu_max_teorico = mu_hat+(z*std_dev/np.sqrt(N))\n",
    "(mu_min_teorico,mu_max_teorico)"
   ]
  },
  {
   "cell_type": "markdown",
   "metadata": {},
   "source": [
    "<hr/>"
   ]
  },
  {
   "cell_type": "markdown",
   "metadata": {},
   "source": [
    "(b) Justificar si hay suficiente evidencia para rechazar la hipótesis nula con un 5% de significancia."
   ]
  },
  {
   "cell_type": "markdown",
   "metadata": {
    "scrolled": true
   },
   "source": [
    "**Respuesta**:\n",
    "    \n",
    "Dado que la hipótesis $\\mu=45$ está fuera del intervalo de confianza del 95% la misma se rechaza."
   ]
  },
  {
   "cell_type": "markdown",
   "metadata": {},
   "source": [
    "<hr/>"
   ]
  },
  {
   "cell_type": "markdown",
   "metadata": {},
   "source": [
    "(c) Simular el experimento y verificar los resultados obtenidos en los puntos (a) y (b)."
   ]
  },
  {
   "cell_type": "markdown",
   "metadata": {},
   "source": [
    "**Respuesta**:\n",
    "    \n",
    "El valor de confianza encontrado por simulación ~0.95 coincide con el 95% esperado."
   ]
  },
  {
   "cell_type": "code",
   "execution_count": 17,
   "metadata": {
    "scrolled": false
   },
   "outputs": [],
   "source": [
    "def simulate_htest(pop_mean, pop_stddev,n_iterations = 10000):\n",
    "    print(f\"Simulación para media: {pop_mean} std_dev: {pop_stddev}\")\n",
    "    \n",
    "    confidence = 0\n",
    "    sample_mean = 0\n",
    "    sample_var = 0\n",
    "    sample_stdev = 0    \n",
    "    for i in range(n_iterations):        \n",
    "        X = pop_stddev/np.sqrt(N)*np.random.normal(size=N) + pop_mean;        \n",
    "        confidence = confidence + (1/(n_iterations*N)) * np.count_nonzero( \n",
    "            (X >= mu_min_teorico) & (X <= mu_max_teorico) )            \n",
    "        sample_mean = sample_mean + X.mean()\n",
    "        sample_var = sample_var + X.var()\n",
    "        sample_stdev = sample_stdev + X.std()\n",
    "    sample_mean = sample_mean / n_iterations\n",
    "    sample_var = sample_var / n_iterations\n",
    "    sample_stdev = sample_stdev / n_iterations\n",
    "\n",
    "    print(\"Confianza: \", confidence)\n",
    "    print(\"Media muestral: \", sample_mean)\n",
    "    print(\"Varianza muestral: \", sample_var)\n",
    "    print(\"Desvío estándard muestral: \", sample_stdev)"
   ]
  },
  {
   "cell_type": "code",
   "execution_count": 18,
   "metadata": {
    "scrolled": false
   },
   "outputs": [
    {
     "name": "stdout",
     "output_type": "stream",
     "text": [
      "Simulación para media: 48.0 std_dev: 4.0\n",
      "Confianza:  0.9496599999999787\n",
      "Media muestral:  47.99842098548613\n",
      "Varianza muestral:  1.449700001697455\n",
      "Desvío estándard muestral:  1.1716925122663209\n"
     ]
    }
   ],
   "source": [
    "simulate_htest(pop_mean=48.0,pop_stddev=4.0)"
   ]
  },
  {
   "cell_type": "code",
   "execution_count": 19,
   "metadata": {
    "scrolled": false
   },
   "outputs": [
    {
     "name": "stdout",
     "output_type": "stream",
     "text": [
      "Simulación para media: 45.0 std_dev: 4.0\n",
      "Confianza:  0.3413899999999904\n",
      "Media muestral:  45.003480490265\n",
      "Varianza muestral:  1.433543661766537\n",
      "Desvío estándard muestral:  1.1644273119091535\n"
     ]
    }
   ],
   "source": [
    "simulate_htest(pop_mean=45.0,pop_stddev=4.0)"
   ]
  }
 ],
 "metadata": {
  "kernelspec": {
   "display_name": "Python 3",
   "language": "python",
   "name": "python3"
  },
  "language_info": {
   "codemirror_mode": {
    "name": "ipython",
    "version": 3
   },
   "file_extension": ".py",
   "mimetype": "text/x-python",
   "name": "python",
   "nbconvert_exporter": "python",
   "pygments_lexer": "ipython3",
   "version": "3.7.7"
  }
 },
 "nbformat": 4,
 "nbformat_minor": 4
}
